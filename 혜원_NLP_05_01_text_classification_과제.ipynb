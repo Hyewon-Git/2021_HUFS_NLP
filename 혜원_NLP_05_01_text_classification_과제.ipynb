{
  "nbformat": 4,
  "nbformat_minor": 0,
  "metadata": {
    "colab": {
      "name": "혜원-NLP-05-01-text-classification-과제.ipynb",
      "provenance": [],
      "collapsed_sections": [
        "RZq-UvbOgG_j"
      ],
      "include_colab_link": true
    },
    "kernelspec": {
      "name": "python3",
      "display_name": "Python 3"
    },
    "accelerator": "GPU",
    "widgets": {
      "application/vnd.jupyter.widget-state+json": {
        "f9540e049be9428f92710ee8db5dc436": {
          "model_module": "@jupyter-widgets/controls",
          "model_name": "HBoxModel",
          "state": {
            "_view_name": "HBoxView",
            "_dom_classes": [],
            "_model_name": "HBoxModel",
            "_view_module": "@jupyter-widgets/controls",
            "_model_module_version": "1.5.0",
            "_view_count": null,
            "_view_module_version": "1.5.0",
            "box_style": "",
            "layout": "IPY_MODEL_cdc4226bd4834d63948b2fc364ef9e53",
            "_model_module": "@jupyter-widgets/controls",
            "children": [
              "IPY_MODEL_5c65a6186f764a8e8f5d63abba0fb1e4",
              "IPY_MODEL_20a70b91d54545d8bae808c99f1e5be3"
            ]
          }
        },
        "cdc4226bd4834d63948b2fc364ef9e53": {
          "model_module": "@jupyter-widgets/base",
          "model_name": "LayoutModel",
          "state": {
            "_view_name": "LayoutView",
            "grid_template_rows": null,
            "right": null,
            "justify_content": null,
            "_view_module": "@jupyter-widgets/base",
            "overflow": null,
            "_model_module_version": "1.2.0",
            "_view_count": null,
            "flex_flow": null,
            "width": null,
            "min_width": null,
            "border": null,
            "align_items": null,
            "bottom": null,
            "_model_module": "@jupyter-widgets/base",
            "top": null,
            "grid_column": null,
            "overflow_y": null,
            "overflow_x": null,
            "grid_auto_flow": null,
            "grid_area": null,
            "grid_template_columns": null,
            "flex": null,
            "_model_name": "LayoutModel",
            "justify_items": null,
            "grid_row": null,
            "max_height": null,
            "align_content": null,
            "visibility": null,
            "align_self": null,
            "height": null,
            "min_height": null,
            "padding": null,
            "grid_auto_rows": null,
            "grid_gap": null,
            "max_width": null,
            "order": null,
            "_view_module_version": "1.2.0",
            "grid_template_areas": null,
            "object_position": null,
            "object_fit": null,
            "grid_auto_columns": null,
            "margin": null,
            "display": null,
            "left": null
          }
        },
        "5c65a6186f764a8e8f5d63abba0fb1e4": {
          "model_module": "@jupyter-widgets/controls",
          "model_name": "FloatProgressModel",
          "state": {
            "_view_name": "ProgressView",
            "style": "IPY_MODEL_d3cebbb5d6a94e08adbd7f2f82b07313",
            "_dom_classes": [],
            "description": "100%",
            "_model_name": "FloatProgressModel",
            "bar_style": "success",
            "max": 149995,
            "_view_module": "@jupyter-widgets/controls",
            "_model_module_version": "1.5.0",
            "value": 149995,
            "_view_count": null,
            "_view_module_version": "1.5.0",
            "orientation": "horizontal",
            "min": 0,
            "description_tooltip": null,
            "_model_module": "@jupyter-widgets/controls",
            "layout": "IPY_MODEL_91ce9e18f14e42ab90a9d11dc9299623"
          }
        },
        "20a70b91d54545d8bae808c99f1e5be3": {
          "model_module": "@jupyter-widgets/controls",
          "model_name": "HTMLModel",
          "state": {
            "_view_name": "HTMLView",
            "style": "IPY_MODEL_dd70b2904c6b4605a150b133bba61355",
            "_dom_classes": [],
            "description": "",
            "_model_name": "HTMLModel",
            "placeholder": "​",
            "_view_module": "@jupyter-widgets/controls",
            "_model_module_version": "1.5.0",
            "value": " 149995/149995 [00:18&lt;00:00, 8030.12it/s]",
            "_view_count": null,
            "_view_module_version": "1.5.0",
            "description_tooltip": null,
            "_model_module": "@jupyter-widgets/controls",
            "layout": "IPY_MODEL_51ced905dd824ec08cbe73d25534a6a5"
          }
        },
        "d3cebbb5d6a94e08adbd7f2f82b07313": {
          "model_module": "@jupyter-widgets/controls",
          "model_name": "ProgressStyleModel",
          "state": {
            "_view_name": "StyleView",
            "_model_name": "ProgressStyleModel",
            "description_width": "initial",
            "_view_module": "@jupyter-widgets/base",
            "_model_module_version": "1.5.0",
            "_view_count": null,
            "_view_module_version": "1.2.0",
            "bar_color": null,
            "_model_module": "@jupyter-widgets/controls"
          }
        },
        "91ce9e18f14e42ab90a9d11dc9299623": {
          "model_module": "@jupyter-widgets/base",
          "model_name": "LayoutModel",
          "state": {
            "_view_name": "LayoutView",
            "grid_template_rows": null,
            "right": null,
            "justify_content": null,
            "_view_module": "@jupyter-widgets/base",
            "overflow": null,
            "_model_module_version": "1.2.0",
            "_view_count": null,
            "flex_flow": null,
            "width": null,
            "min_width": null,
            "border": null,
            "align_items": null,
            "bottom": null,
            "_model_module": "@jupyter-widgets/base",
            "top": null,
            "grid_column": null,
            "overflow_y": null,
            "overflow_x": null,
            "grid_auto_flow": null,
            "grid_area": null,
            "grid_template_columns": null,
            "flex": null,
            "_model_name": "LayoutModel",
            "justify_items": null,
            "grid_row": null,
            "max_height": null,
            "align_content": null,
            "visibility": null,
            "align_self": null,
            "height": null,
            "min_height": null,
            "padding": null,
            "grid_auto_rows": null,
            "grid_gap": null,
            "max_width": null,
            "order": null,
            "_view_module_version": "1.2.0",
            "grid_template_areas": null,
            "object_position": null,
            "object_fit": null,
            "grid_auto_columns": null,
            "margin": null,
            "display": null,
            "left": null
          }
        },
        "dd70b2904c6b4605a150b133bba61355": {
          "model_module": "@jupyter-widgets/controls",
          "model_name": "DescriptionStyleModel",
          "state": {
            "_view_name": "StyleView",
            "_model_name": "DescriptionStyleModel",
            "description_width": "",
            "_view_module": "@jupyter-widgets/base",
            "_model_module_version": "1.5.0",
            "_view_count": null,
            "_view_module_version": "1.2.0",
            "_model_module": "@jupyter-widgets/controls"
          }
        },
        "51ced905dd824ec08cbe73d25534a6a5": {
          "model_module": "@jupyter-widgets/base",
          "model_name": "LayoutModel",
          "state": {
            "_view_name": "LayoutView",
            "grid_template_rows": null,
            "right": null,
            "justify_content": null,
            "_view_module": "@jupyter-widgets/base",
            "overflow": null,
            "_model_module_version": "1.2.0",
            "_view_count": null,
            "flex_flow": null,
            "width": null,
            "min_width": null,
            "border": null,
            "align_items": null,
            "bottom": null,
            "_model_module": "@jupyter-widgets/base",
            "top": null,
            "grid_column": null,
            "overflow_y": null,
            "overflow_x": null,
            "grid_auto_flow": null,
            "grid_area": null,
            "grid_template_columns": null,
            "flex": null,
            "_model_name": "LayoutModel",
            "justify_items": null,
            "grid_row": null,
            "max_height": null,
            "align_content": null,
            "visibility": null,
            "align_self": null,
            "height": null,
            "min_height": null,
            "padding": null,
            "grid_auto_rows": null,
            "grid_gap": null,
            "max_width": null,
            "order": null,
            "_view_module_version": "1.2.0",
            "grid_template_areas": null,
            "object_position": null,
            "object_fit": null,
            "grid_auto_columns": null,
            "margin": null,
            "display": null,
            "left": null
          }
        },
        "2ede355692424c2ea513e98ce0ec0bd3": {
          "model_module": "@jupyter-widgets/controls",
          "model_name": "HBoxModel",
          "state": {
            "_view_name": "HBoxView",
            "_dom_classes": [],
            "_model_name": "HBoxModel",
            "_view_module": "@jupyter-widgets/controls",
            "_model_module_version": "1.5.0",
            "_view_count": null,
            "_view_module_version": "1.5.0",
            "box_style": "",
            "layout": "IPY_MODEL_df38b2e20e824c4e8dad86d108070ff2",
            "_model_module": "@jupyter-widgets/controls",
            "children": [
              "IPY_MODEL_1bcd15c9e4bf4e96900d111f0f2867fb",
              "IPY_MODEL_071ba88bce9747a5be488abc971b6419"
            ]
          }
        },
        "df38b2e20e824c4e8dad86d108070ff2": {
          "model_module": "@jupyter-widgets/base",
          "model_name": "LayoutModel",
          "state": {
            "_view_name": "LayoutView",
            "grid_template_rows": null,
            "right": null,
            "justify_content": null,
            "_view_module": "@jupyter-widgets/base",
            "overflow": null,
            "_model_module_version": "1.2.0",
            "_view_count": null,
            "flex_flow": null,
            "width": null,
            "min_width": null,
            "border": null,
            "align_items": null,
            "bottom": null,
            "_model_module": "@jupyter-widgets/base",
            "top": null,
            "grid_column": null,
            "overflow_y": null,
            "overflow_x": null,
            "grid_auto_flow": null,
            "grid_area": null,
            "grid_template_columns": null,
            "flex": null,
            "_model_name": "LayoutModel",
            "justify_items": null,
            "grid_row": null,
            "max_height": null,
            "align_content": null,
            "visibility": null,
            "align_self": null,
            "height": null,
            "min_height": null,
            "padding": null,
            "grid_auto_rows": null,
            "grid_gap": null,
            "max_width": null,
            "order": null,
            "_view_module_version": "1.2.0",
            "grid_template_areas": null,
            "object_position": null,
            "object_fit": null,
            "grid_auto_columns": null,
            "margin": null,
            "display": null,
            "left": null
          }
        },
        "1bcd15c9e4bf4e96900d111f0f2867fb": {
          "model_module": "@jupyter-widgets/controls",
          "model_name": "FloatProgressModel",
          "state": {
            "_view_name": "ProgressView",
            "style": "IPY_MODEL_8c26883acddc48468c7c77eeec56845f",
            "_dom_classes": [],
            "description": "100%",
            "_model_name": "FloatProgressModel",
            "bar_style": "success",
            "max": 49997,
            "_view_module": "@jupyter-widgets/controls",
            "_model_module_version": "1.5.0",
            "value": 49997,
            "_view_count": null,
            "_view_module_version": "1.5.0",
            "orientation": "horizontal",
            "min": 0,
            "description_tooltip": null,
            "_model_module": "@jupyter-widgets/controls",
            "layout": "IPY_MODEL_d9a0682b1d1042178871cc96d68c8286"
          }
        },
        "071ba88bce9747a5be488abc971b6419": {
          "model_module": "@jupyter-widgets/controls",
          "model_name": "HTMLModel",
          "state": {
            "_view_name": "HTMLView",
            "style": "IPY_MODEL_0ef0602e694e46319f284f5dc3442b91",
            "_dom_classes": [],
            "description": "",
            "_model_name": "HTMLModel",
            "placeholder": "​",
            "_view_module": "@jupyter-widgets/controls",
            "_model_module_version": "1.5.0",
            "value": " 49997/49997 [03:59&lt;00:00, 208.76it/s]",
            "_view_count": null,
            "_view_module_version": "1.5.0",
            "description_tooltip": null,
            "_model_module": "@jupyter-widgets/controls",
            "layout": "IPY_MODEL_912103bb5f0e495181f9c0fcf341a395"
          }
        },
        "8c26883acddc48468c7c77eeec56845f": {
          "model_module": "@jupyter-widgets/controls",
          "model_name": "ProgressStyleModel",
          "state": {
            "_view_name": "StyleView",
            "_model_name": "ProgressStyleModel",
            "description_width": "initial",
            "_view_module": "@jupyter-widgets/base",
            "_model_module_version": "1.5.0",
            "_view_count": null,
            "_view_module_version": "1.2.0",
            "bar_color": null,
            "_model_module": "@jupyter-widgets/controls"
          }
        },
        "d9a0682b1d1042178871cc96d68c8286": {
          "model_module": "@jupyter-widgets/base",
          "model_name": "LayoutModel",
          "state": {
            "_view_name": "LayoutView",
            "grid_template_rows": null,
            "right": null,
            "justify_content": null,
            "_view_module": "@jupyter-widgets/base",
            "overflow": null,
            "_model_module_version": "1.2.0",
            "_view_count": null,
            "flex_flow": null,
            "width": null,
            "min_width": null,
            "border": null,
            "align_items": null,
            "bottom": null,
            "_model_module": "@jupyter-widgets/base",
            "top": null,
            "grid_column": null,
            "overflow_y": null,
            "overflow_x": null,
            "grid_auto_flow": null,
            "grid_area": null,
            "grid_template_columns": null,
            "flex": null,
            "_model_name": "LayoutModel",
            "justify_items": null,
            "grid_row": null,
            "max_height": null,
            "align_content": null,
            "visibility": null,
            "align_self": null,
            "height": null,
            "min_height": null,
            "padding": null,
            "grid_auto_rows": null,
            "grid_gap": null,
            "max_width": null,
            "order": null,
            "_view_module_version": "1.2.0",
            "grid_template_areas": null,
            "object_position": null,
            "object_fit": null,
            "grid_auto_columns": null,
            "margin": null,
            "display": null,
            "left": null
          }
        },
        "0ef0602e694e46319f284f5dc3442b91": {
          "model_module": "@jupyter-widgets/controls",
          "model_name": "DescriptionStyleModel",
          "state": {
            "_view_name": "StyleView",
            "_model_name": "DescriptionStyleModel",
            "description_width": "",
            "_view_module": "@jupyter-widgets/base",
            "_model_module_version": "1.5.0",
            "_view_count": null,
            "_view_module_version": "1.2.0",
            "_model_module": "@jupyter-widgets/controls"
          }
        },
        "912103bb5f0e495181f9c0fcf341a395": {
          "model_module": "@jupyter-widgets/base",
          "model_name": "LayoutModel",
          "state": {
            "_view_name": "LayoutView",
            "grid_template_rows": null,
            "right": null,
            "justify_content": null,
            "_view_module": "@jupyter-widgets/base",
            "overflow": null,
            "_model_module_version": "1.2.0",
            "_view_count": null,
            "flex_flow": null,
            "width": null,
            "min_width": null,
            "border": null,
            "align_items": null,
            "bottom": null,
            "_model_module": "@jupyter-widgets/base",
            "top": null,
            "grid_column": null,
            "overflow_y": null,
            "overflow_x": null,
            "grid_auto_flow": null,
            "grid_area": null,
            "grid_template_columns": null,
            "flex": null,
            "_model_name": "LayoutModel",
            "justify_items": null,
            "grid_row": null,
            "max_height": null,
            "align_content": null,
            "visibility": null,
            "align_self": null,
            "height": null,
            "min_height": null,
            "padding": null,
            "grid_auto_rows": null,
            "grid_gap": null,
            "max_width": null,
            "order": null,
            "_view_module_version": "1.2.0",
            "grid_template_areas": null,
            "object_position": null,
            "object_fit": null,
            "grid_auto_columns": null,
            "margin": null,
            "display": null,
            "left": null
          }
        }
      }
    }
  },
  "cells": [
    {
      "cell_type": "markdown",
      "metadata": {
        "id": "view-in-github",
        "colab_type": "text"
      },
      "source": [
        "<a href=\"https://colab.research.google.com/github/Hyewon-Git/2021_HUFS_NLP/blob/main/%ED%98%9C%EC%9B%90_NLP_05_01_text_classification_%EA%B3%BC%EC%A0%9C.ipynb\" target=\"_parent\"><img src=\"https://colab.research.google.com/assets/colab-badge.svg\" alt=\"Open In Colab\"/></a>"
      ]
    },
    {
      "cell_type": "markdown",
      "metadata": {
        "id": "6dfJPT-2XMTB"
      },
      "source": [
        "# Install"
      ]
    },
    {
      "cell_type": "code",
      "metadata": {
        "id": "a193aGJWVaqb",
        "colab": {
          "base_uri": "https://localhost:8080/"
        },
        "outputId": "e52cd142-41a8-4dc1-fe5d-d534c0c4398b"
      },
      "source": [
        "!pip install sentencepiece"
      ],
      "execution_count": 1,
      "outputs": [
        {
          "output_type": "stream",
          "text": [
            "Collecting sentencepiece\n",
            "\u001b[?25l  Downloading https://files.pythonhosted.org/packages/14/67/e42bd1181472c95c8cda79305df848264f2a7f62740995a46945d9797b67/sentencepiece-0.1.95-cp36-cp36m-manylinux2014_x86_64.whl (1.2MB)\n",
            "\r\u001b[K     |▎                               | 10kB 23.2MB/s eta 0:00:01\r\u001b[K     |▌                               | 20kB 30.9MB/s eta 0:00:01\r\u001b[K     |▉                               | 30kB 24.6MB/s eta 0:00:01\r\u001b[K     |█                               | 40kB 22.1MB/s eta 0:00:01\r\u001b[K     |█▍                              | 51kB 23.3MB/s eta 0:00:01\r\u001b[K     |█▋                              | 61kB 16.1MB/s eta 0:00:01\r\u001b[K     |██                              | 71kB 16.6MB/s eta 0:00:01\r\u001b[K     |██▏                             | 81kB 15.8MB/s eta 0:00:01\r\u001b[K     |██▌                             | 92kB 16.0MB/s eta 0:00:01\r\u001b[K     |██▊                             | 102kB 16.5MB/s eta 0:00:01\r\u001b[K     |███                             | 112kB 16.5MB/s eta 0:00:01\r\u001b[K     |███▎                            | 122kB 16.5MB/s eta 0:00:01\r\u001b[K     |███▌                            | 133kB 16.5MB/s eta 0:00:01\r\u001b[K     |███▉                            | 143kB 16.5MB/s eta 0:00:01\r\u001b[K     |████                            | 153kB 16.5MB/s eta 0:00:01\r\u001b[K     |████▍                           | 163kB 16.5MB/s eta 0:00:01\r\u001b[K     |████▋                           | 174kB 16.5MB/s eta 0:00:01\r\u001b[K     |█████                           | 184kB 16.5MB/s eta 0:00:01\r\u001b[K     |█████▏                          | 194kB 16.5MB/s eta 0:00:01\r\u001b[K     |█████▌                          | 204kB 16.5MB/s eta 0:00:01\r\u001b[K     |█████▊                          | 215kB 16.5MB/s eta 0:00:01\r\u001b[K     |██████                          | 225kB 16.5MB/s eta 0:00:01\r\u001b[K     |██████▎                         | 235kB 16.5MB/s eta 0:00:01\r\u001b[K     |██████▌                         | 245kB 16.5MB/s eta 0:00:01\r\u001b[K     |██████▉                         | 256kB 16.5MB/s eta 0:00:01\r\u001b[K     |███████                         | 266kB 16.5MB/s eta 0:00:01\r\u001b[K     |███████▍                        | 276kB 16.5MB/s eta 0:00:01\r\u001b[K     |███████▋                        | 286kB 16.5MB/s eta 0:00:01\r\u001b[K     |████████                        | 296kB 16.5MB/s eta 0:00:01\r\u001b[K     |████████▏                       | 307kB 16.5MB/s eta 0:00:01\r\u001b[K     |████████▍                       | 317kB 16.5MB/s eta 0:00:01\r\u001b[K     |████████▊                       | 327kB 16.5MB/s eta 0:00:01\r\u001b[K     |█████████                       | 337kB 16.5MB/s eta 0:00:01\r\u001b[K     |█████████▎                      | 348kB 16.5MB/s eta 0:00:01\r\u001b[K     |█████████▌                      | 358kB 16.5MB/s eta 0:00:01\r\u001b[K     |█████████▉                      | 368kB 16.5MB/s eta 0:00:01\r\u001b[K     |██████████                      | 378kB 16.5MB/s eta 0:00:01\r\u001b[K     |██████████▍                     | 389kB 16.5MB/s eta 0:00:01\r\u001b[K     |██████████▋                     | 399kB 16.5MB/s eta 0:00:01\r\u001b[K     |███████████                     | 409kB 16.5MB/s eta 0:00:01\r\u001b[K     |███████████▏                    | 419kB 16.5MB/s eta 0:00:01\r\u001b[K     |███████████▍                    | 430kB 16.5MB/s eta 0:00:01\r\u001b[K     |███████████▊                    | 440kB 16.5MB/s eta 0:00:01\r\u001b[K     |████████████                    | 450kB 16.5MB/s eta 0:00:01\r\u001b[K     |████████████▎                   | 460kB 16.5MB/s eta 0:00:01\r\u001b[K     |████████████▌                   | 471kB 16.5MB/s eta 0:00:01\r\u001b[K     |████████████▉                   | 481kB 16.5MB/s eta 0:00:01\r\u001b[K     |█████████████                   | 491kB 16.5MB/s eta 0:00:01\r\u001b[K     |█████████████▍                  | 501kB 16.5MB/s eta 0:00:01\r\u001b[K     |█████████████▋                  | 512kB 16.5MB/s eta 0:00:01\r\u001b[K     |█████████████▉                  | 522kB 16.5MB/s eta 0:00:01\r\u001b[K     |██████████████▏                 | 532kB 16.5MB/s eta 0:00:01\r\u001b[K     |██████████████▍                 | 542kB 16.5MB/s eta 0:00:01\r\u001b[K     |██████████████▊                 | 552kB 16.5MB/s eta 0:00:01\r\u001b[K     |███████████████                 | 563kB 16.5MB/s eta 0:00:01\r\u001b[K     |███████████████▎                | 573kB 16.5MB/s eta 0:00:01\r\u001b[K     |███████████████▌                | 583kB 16.5MB/s eta 0:00:01\r\u001b[K     |███████████████▉                | 593kB 16.5MB/s eta 0:00:01\r\u001b[K     |████████████████                | 604kB 16.5MB/s eta 0:00:01\r\u001b[K     |████████████████▍               | 614kB 16.5MB/s eta 0:00:01\r\u001b[K     |████████████████▋               | 624kB 16.5MB/s eta 0:00:01\r\u001b[K     |████████████████▉               | 634kB 16.5MB/s eta 0:00:01\r\u001b[K     |█████████████████▏              | 645kB 16.5MB/s eta 0:00:01\r\u001b[K     |█████████████████▍              | 655kB 16.5MB/s eta 0:00:01\r\u001b[K     |█████████████████▊              | 665kB 16.5MB/s eta 0:00:01\r\u001b[K     |██████████████████              | 675kB 16.5MB/s eta 0:00:01\r\u001b[K     |██████████████████▎             | 686kB 16.5MB/s eta 0:00:01\r\u001b[K     |██████████████████▌             | 696kB 16.5MB/s eta 0:00:01\r\u001b[K     |██████████████████▉             | 706kB 16.5MB/s eta 0:00:01\r\u001b[K     |███████████████████             | 716kB 16.5MB/s eta 0:00:01\r\u001b[K     |███████████████████▎            | 727kB 16.5MB/s eta 0:00:01\r\u001b[K     |███████████████████▋            | 737kB 16.5MB/s eta 0:00:01\r\u001b[K     |███████████████████▉            | 747kB 16.5MB/s eta 0:00:01\r\u001b[K     |████████████████████▏           | 757kB 16.5MB/s eta 0:00:01\r\u001b[K     |████████████████████▍           | 768kB 16.5MB/s eta 0:00:01\r\u001b[K     |████████████████████▊           | 778kB 16.5MB/s eta 0:00:01\r\u001b[K     |█████████████████████           | 788kB 16.5MB/s eta 0:00:01\r\u001b[K     |█████████████████████▎          | 798kB 16.5MB/s eta 0:00:01\r\u001b[K     |█████████████████████▌          | 808kB 16.5MB/s eta 0:00:01\r\u001b[K     |█████████████████████▉          | 819kB 16.5MB/s eta 0:00:01\r\u001b[K     |██████████████████████          | 829kB 16.5MB/s eta 0:00:01\r\u001b[K     |██████████████████████▎         | 839kB 16.5MB/s eta 0:00:01\r\u001b[K     |██████████████████████▋         | 849kB 16.5MB/s eta 0:00:01\r\u001b[K     |██████████████████████▉         | 860kB 16.5MB/s eta 0:00:01\r\u001b[K     |███████████████████████▏        | 870kB 16.5MB/s eta 0:00:01\r\u001b[K     |███████████████████████▍        | 880kB 16.5MB/s eta 0:00:01\r\u001b[K     |███████████████████████▊        | 890kB 16.5MB/s eta 0:00:01\r\u001b[K     |████████████████████████        | 901kB 16.5MB/s eta 0:00:01\r\u001b[K     |████████████████████████▎       | 911kB 16.5MB/s eta 0:00:01\r\u001b[K     |████████████████████████▌       | 921kB 16.5MB/s eta 0:00:01\r\u001b[K     |████████████████████████▊       | 931kB 16.5MB/s eta 0:00:01\r\u001b[K     |█████████████████████████       | 942kB 16.5MB/s eta 0:00:01\r\u001b[K     |█████████████████████████▎      | 952kB 16.5MB/s eta 0:00:01\r\u001b[K     |█████████████████████████▋      | 962kB 16.5MB/s eta 0:00:01\r\u001b[K     |█████████████████████████▉      | 972kB 16.5MB/s eta 0:00:01\r\u001b[K     |██████████████████████████▏     | 983kB 16.5MB/s eta 0:00:01\r\u001b[K     |██████████████████████████▍     | 993kB 16.5MB/s eta 0:00:01\r\u001b[K     |██████████████████████████▊     | 1.0MB 16.5MB/s eta 0:00:01\r\u001b[K     |███████████████████████████     | 1.0MB 16.5MB/s eta 0:00:01\r\u001b[K     |███████████████████████████▎    | 1.0MB 16.5MB/s eta 0:00:01\r\u001b[K     |███████████████████████████▌    | 1.0MB 16.5MB/s eta 0:00:01\r\u001b[K     |███████████████████████████▊    | 1.0MB 16.5MB/s eta 0:00:01\r\u001b[K     |████████████████████████████    | 1.1MB 16.5MB/s eta 0:00:01\r\u001b[K     |████████████████████████████▎   | 1.1MB 16.5MB/s eta 0:00:01\r\u001b[K     |████████████████████████████▋   | 1.1MB 16.5MB/s eta 0:00:01\r\u001b[K     |████████████████████████████▉   | 1.1MB 16.5MB/s eta 0:00:01\r\u001b[K     |█████████████████████████████▏  | 1.1MB 16.5MB/s eta 0:00:01\r\u001b[K     |█████████████████████████████▍  | 1.1MB 16.5MB/s eta 0:00:01\r\u001b[K     |█████████████████████████████▊  | 1.1MB 16.5MB/s eta 0:00:01\r\u001b[K     |██████████████████████████████  | 1.1MB 16.5MB/s eta 0:00:01\r\u001b[K     |██████████████████████████████▏ | 1.1MB 16.5MB/s eta 0:00:01\r\u001b[K     |██████████████████████████████▌ | 1.1MB 16.5MB/s eta 0:00:01\r\u001b[K     |██████████████████████████████▊ | 1.2MB 16.5MB/s eta 0:00:01\r\u001b[K     |███████████████████████████████ | 1.2MB 16.5MB/s eta 0:00:01\r\u001b[K     |███████████████████████████████▎| 1.2MB 16.5MB/s eta 0:00:01\r\u001b[K     |███████████████████████████████▋| 1.2MB 16.5MB/s eta 0:00:01\r\u001b[K     |███████████████████████████████▉| 1.2MB 16.5MB/s eta 0:00:01\r\u001b[K     |████████████████████████████████| 1.2MB 16.5MB/s \n",
            "\u001b[?25hInstalling collected packages: sentencepiece\n",
            "Successfully installed sentencepiece-0.1.95\n"
          ],
          "name": "stdout"
        }
      ]
    },
    {
      "cell_type": "markdown",
      "metadata": {
        "id": "JHkHg6XAXoyK"
      },
      "source": [
        "# Evn"
      ]
    },
    {
      "cell_type": "code",
      "metadata": {
        "id": "WkYXFwcBXJDG"
      },
      "source": [
        "import os\n",
        "import random\n",
        "import shutil\n",
        "import json\n",
        "import zipfile\n",
        "import math\n",
        "import copy\n",
        "import collections\n",
        "import re\n",
        "\n",
        "import matplotlib.pyplot as plt\n",
        "import seaborn as sns\n",
        "from wordcloud import WordCloud\n",
        "import pandas as pd\n",
        "import numpy as np\n",
        "import sentencepiece as spm\n",
        "import tensorflow as tf\n",
        "import tensorflow.keras.backend as K\n",
        "\n",
        "from tqdm.notebook import tqdm"
      ],
      "execution_count": 2,
      "outputs": []
    },
    {
      "cell_type": "code",
      "metadata": {
        "id": "nvjyruUlXtlR"
      },
      "source": [
        "# random seed initialize\n",
        "random_seed = 1234\n",
        "random.seed(random_seed)\n",
        "np.random.seed(random_seed)\n",
        "tf.random.set_seed(random_seed)"
      ],
      "execution_count": 3,
      "outputs": []
    },
    {
      "cell_type": "code",
      "metadata": {
        "id": "BC3fXkhdYcYt",
        "colab": {
          "base_uri": "https://localhost:8080/"
        },
        "outputId": "ddfaef31-549d-4b5c-8700-60390a976940"
      },
      "source": [
        "!nvidia-smi"
      ],
      "execution_count": 4,
      "outputs": [
        {
          "output_type": "stream",
          "text": [
            "Sun Jan 31 23:17:19 2021       \n",
            "+-----------------------------------------------------------------------------+\n",
            "| NVIDIA-SMI 460.32.03    Driver Version: 418.67       CUDA Version: 10.1     |\n",
            "|-------------------------------+----------------------+----------------------+\n",
            "| GPU  Name        Persistence-M| Bus-Id        Disp.A | Volatile Uncorr. ECC |\n",
            "| Fan  Temp  Perf  Pwr:Usage/Cap|         Memory-Usage | GPU-Util  Compute M. |\n",
            "|                               |                      |               MIG M. |\n",
            "|===============================+======================+======================|\n",
            "|   0  Tesla T4            Off  | 00000000:00:04.0 Off |                    0 |\n",
            "| N/A   43C    P8     9W /  70W |      0MiB / 15079MiB |      0%      Default |\n",
            "|                               |                      |                 ERR! |\n",
            "+-------------------------------+----------------------+----------------------+\n",
            "                                                                               \n",
            "+-----------------------------------------------------------------------------+\n",
            "| Processes:                                                                  |\n",
            "|  GPU   GI   CI        PID   Type   Process name                  GPU Memory |\n",
            "|        ID   ID                                                   Usage      |\n",
            "|=============================================================================|\n",
            "|  No running processes found                                                 |\n",
            "+-----------------------------------------------------------------------------+\n"
          ],
          "name": "stdout"
        }
      ]
    },
    {
      "cell_type": "code",
      "metadata": {
        "id": "xVRdxYReYeQj",
        "colab": {
          "base_uri": "https://localhost:8080/"
        },
        "outputId": "1177545d-eb68-4bee-ee47-8d8d6e4eaece"
      },
      "source": [
        "# google drive mount\n",
        "from google.colab import drive\n",
        "drive.mount('/content/drive')"
      ],
      "execution_count": 5,
      "outputs": [
        {
          "output_type": "stream",
          "text": [
            "Mounted at /content/drive\n"
          ],
          "name": "stdout"
        }
      ]
    },
    {
      "cell_type": "code",
      "metadata": {
        "id": "byCIiLJBbFHh",
        "colab": {
          "base_uri": "https://localhost:8080/"
        },
        "outputId": "1f8acdd4-126e-47c6-a037-5906f6a0e22a"
      },
      "source": [
        "# data dir\n",
        "data_dir = '/content/drive/MyDrive/Colab Notebooks/2021-HUFS-NLP/data'\n",
        "os.listdir(data_dir)"
      ],
      "execution_count": 7,
      "outputs": [
        {
          "output_type": "execute_result",
          "data": {
            "text/plain": [
              "['ko_32000.model', 'ko_32000.vocab', 'kowiki', 'kowiki2', 'nsmc']"
            ]
          },
          "metadata": {
            "tags": []
          },
          "execution_count": 7
        }
      ]
    },
    {
      "cell_type": "code",
      "metadata": {
        "colab": {
          "base_uri": "https://localhost:8080/"
        },
        "id": "_Ru56YS3-SME",
        "outputId": "1de7d089-3db8-49b3-ed4f-4c11159baf63"
      },
      "source": [
        "# nsmc dir\n",
        "nsmc_dir = os.path.join(data_dir, 'nsmc')\n",
        "if not os.path.exists(nsmc_dir):\n",
        "    os.makedirs(nsmc_dir)\n",
        "os.listdir(nsmc_dir)"
      ],
      "execution_count": 8,
      "outputs": [
        {
          "output_type": "execute_result",
          "data": {
            "text/plain": [
              "['ratings_train.txt', 'ratings_test.txt', 'stub.csv', 'stub.hdf5']"
            ]
          },
          "metadata": {
            "tags": []
          },
          "execution_count": 8
        }
      ]
    },
    {
      "cell_type": "markdown",
      "metadata": {
        "id": "XwriCkq_R1Lc"
      },
      "source": [
        "# Vocabulary & config"
      ]
    },
    {
      "cell_type": "code",
      "metadata": {
        "id": "2H0BLydCb7lg",
        "colab": {
          "base_uri": "https://localhost:8080/"
        },
        "outputId": "243f7544-6ade-4dca-e9d9-601233d32a5a"
      },
      "source": [
        "# vocab loading\n",
        "vocab = spm.SentencePieceProcessor()\n",
        "vocab.load(os.path.join(data_dir, 'ko_32000.model'))"
      ],
      "execution_count": 9,
      "outputs": [
        {
          "output_type": "execute_result",
          "data": {
            "text/plain": [
              "True"
            ]
          },
          "metadata": {
            "tags": []
          },
          "execution_count": 9
        }
      ]
    },
    {
      "cell_type": "code",
      "metadata": {
        "id": "0ETZ19flTRmt"
      },
      "source": [
        "n_vocab = len(vocab)  # number of vocabulary\n",
        "n_seq = 47  # number of sequence\n",
        "d_model = 256  # dimension of model\n",
        "n_out = 2  # number of output class"
      ],
      "execution_count": 12,
      "outputs": []
    },
    {
      "cell_type": "markdown",
      "metadata": {
        "id": "3myBX8hNEH1u"
      },
      "source": [
        "# 모델링"
      ]
    },
    {
      "cell_type": "code",
      "metadata": {
        "id": "SobekkcjEX_P"
      },
      "source": [
        "def build_model(n_vocab, d_model, n_seq, n_out):\n",
        "    \"\"\"\n",
        "    문장의 감정분류 모델\n",
        "    :param n_vocab: vocabulary 단어 수\n",
        "    :param d_model: 단어를 의미하는 벡터의 차원 수\n",
        "    :param n_seq: 문장길이 (단어 수)\n",
        "    :param n_out: 예측할 class 개수\n",
        "    \"\"\"\n",
        "    inputs = tf.keras.layers.Input((n_seq,))  # (bs, n_seq)\n",
        "    # 입력 단어를 vector로 변환\n",
        "    embedding = tf.keras.layers.Embedding(n_vocab, d_model)\n",
        "    hidden = embedding(inputs)  # (bs, n_seq, d_model)\n",
        "\n",
        "    #####\n",
        "    #RNN/CNN 등을 추가해보기!!!\n",
        "    #######\n",
        "\n",
        "    rnn_1 =tf.keras.layers.SimpleRNN(units=256 , return_sequences=True)#return_sequences=True를 해줘야 다음 layer을 쌓을수있음\n",
        "    hidden = rnn_1(hidden) #(bs, 256)\n",
        "\n",
        "    rnn_2  =tf.keras.layers.SimpleRNN(units=256, return_sequences=True)\n",
        "    hidden = rnn_2(hidden)\n",
        "\n",
        "    conv_1 = tf.keras.layers.Conv1D(filters = 256, kernel_size = 3, padding ='causal')  #원래 cnn은 줄어드느건데 안줄어들게하기 위해 padding을 넣는 ( causal/ same이 좀더 추가해주는거니깐)\n",
        "    hidden = conv_1(hidden)\n",
        "    conv_2 = tf.keras.layers.Conv1D(filters=128, kernel_size=3, padding='valid')\n",
        "    hidden = conv_2(hidden)\n",
        "    #################################\n",
        "     # 각 단어 벡터의 최대값 기준으로 벡터를 더해서 차원을 줄여줌 (문장vector 생성) CNN인가 RNN에서는 과정중알아서해줌\n",
        "    pool = tf.keras.layers.GlobalMaxPool1D()\n",
        "    hidden = pool(hidden)  # (bs, d_model)\n",
        "\n",
        "\n",
        "    \n",
        "    # 문장 vector를 이용해서 긍정(1), 부정(0) 확률값 예측\n",
        "    linear = tf.keras.layers.Dense(2, activation=tf.nn.softmax)\n",
        "    outputs = linear(hidden)  # (bs, n_out)\n",
        "    # 학습할 모델 선언\n",
        "    model = tf.keras.Model(inputs=inputs, outputs=outputs)\n",
        "    return model"
      ],
      "execution_count": 50,
      "outputs": []
    },
    {
      "cell_type": "markdown",
      "metadata": {
        "id": "yOqjtjEtgG_i"
      },
      "source": [
        "# All Data Project"
      ]
    },
    {
      "cell_type": "markdown",
      "metadata": {
        "id": "RZq-UvbOgG_j"
      },
      "source": [
        "## Data\n"
      ]
    },
    {
      "cell_type": "code",
      "metadata": {
        "colab": {
          "base_uri": "https://localhost:8080/",
          "height": 419
        },
        "id": "62llcRx9gG_j",
        "outputId": "da95286f-5717-480c-fd99-285a36a8ca41"
      },
      "source": [
        "# train data load\n",
        "df_train = pd.read_csv(os.path.join(nsmc_dir, 'ratings_train.txt'), delimiter='\\t')\n",
        "df_train"
      ],
      "execution_count": 13,
      "outputs": [
        {
          "output_type": "execute_result",
          "data": {
            "text/html": [
              "<div>\n",
              "<style scoped>\n",
              "    .dataframe tbody tr th:only-of-type {\n",
              "        vertical-align: middle;\n",
              "    }\n",
              "\n",
              "    .dataframe tbody tr th {\n",
              "        vertical-align: top;\n",
              "    }\n",
              "\n",
              "    .dataframe thead th {\n",
              "        text-align: right;\n",
              "    }\n",
              "</style>\n",
              "<table border=\"1\" class=\"dataframe\">\n",
              "  <thead>\n",
              "    <tr style=\"text-align: right;\">\n",
              "      <th></th>\n",
              "      <th>id</th>\n",
              "      <th>document</th>\n",
              "      <th>label</th>\n",
              "    </tr>\n",
              "  </thead>\n",
              "  <tbody>\n",
              "    <tr>\n",
              "      <th>0</th>\n",
              "      <td>9976970</td>\n",
              "      <td>아 더빙.. 진짜 짜증나네요 목소리</td>\n",
              "      <td>0</td>\n",
              "    </tr>\n",
              "    <tr>\n",
              "      <th>1</th>\n",
              "      <td>3819312</td>\n",
              "      <td>흠...포스터보고 초딩영화줄....오버연기조차 가볍지 않구나</td>\n",
              "      <td>1</td>\n",
              "    </tr>\n",
              "    <tr>\n",
              "      <th>2</th>\n",
              "      <td>10265843</td>\n",
              "      <td>너무재밓었다그래서보는것을추천한다</td>\n",
              "      <td>0</td>\n",
              "    </tr>\n",
              "    <tr>\n",
              "      <th>3</th>\n",
              "      <td>9045019</td>\n",
              "      <td>교도소 이야기구먼 ..솔직히 재미는 없다..평점 조정</td>\n",
              "      <td>0</td>\n",
              "    </tr>\n",
              "    <tr>\n",
              "      <th>4</th>\n",
              "      <td>6483659</td>\n",
              "      <td>사이몬페그의 익살스런 연기가 돋보였던 영화!스파이더맨에서 늙어보이기만 했던 커스틴 ...</td>\n",
              "      <td>1</td>\n",
              "    </tr>\n",
              "    <tr>\n",
              "      <th>...</th>\n",
              "      <td>...</td>\n",
              "      <td>...</td>\n",
              "      <td>...</td>\n",
              "    </tr>\n",
              "    <tr>\n",
              "      <th>149995</th>\n",
              "      <td>6222902</td>\n",
              "      <td>인간이 문제지.. 소는 뭔죄인가..</td>\n",
              "      <td>0</td>\n",
              "    </tr>\n",
              "    <tr>\n",
              "      <th>149996</th>\n",
              "      <td>8549745</td>\n",
              "      <td>평점이 너무 낮아서...</td>\n",
              "      <td>1</td>\n",
              "    </tr>\n",
              "    <tr>\n",
              "      <th>149997</th>\n",
              "      <td>9311800</td>\n",
              "      <td>이게 뭐요? 한국인은 거들먹거리고 필리핀 혼혈은 착하다?</td>\n",
              "      <td>0</td>\n",
              "    </tr>\n",
              "    <tr>\n",
              "      <th>149998</th>\n",
              "      <td>2376369</td>\n",
              "      <td>청춘 영화의 최고봉.방황과 우울했던 날들의 자화상</td>\n",
              "      <td>1</td>\n",
              "    </tr>\n",
              "    <tr>\n",
              "      <th>149999</th>\n",
              "      <td>9619869</td>\n",
              "      <td>한국 영화 최초로 수간하는 내용이 담긴 영화</td>\n",
              "      <td>0</td>\n",
              "    </tr>\n",
              "  </tbody>\n",
              "</table>\n",
              "<p>150000 rows × 3 columns</p>\n",
              "</div>"
            ],
            "text/plain": [
              "              id                                           document  label\n",
              "0        9976970                                아 더빙.. 진짜 짜증나네요 목소리      0\n",
              "1        3819312                  흠...포스터보고 초딩영화줄....오버연기조차 가볍지 않구나      1\n",
              "2       10265843                                  너무재밓었다그래서보는것을추천한다      0\n",
              "3        9045019                      교도소 이야기구먼 ..솔직히 재미는 없다..평점 조정      0\n",
              "4        6483659  사이몬페그의 익살스런 연기가 돋보였던 영화!스파이더맨에서 늙어보이기만 했던 커스틴 ...      1\n",
              "...          ...                                                ...    ...\n",
              "149995   6222902                                인간이 문제지.. 소는 뭔죄인가..      0\n",
              "149996   8549745                                      평점이 너무 낮아서...      1\n",
              "149997   9311800                    이게 뭐요? 한국인은 거들먹거리고 필리핀 혼혈은 착하다?      0\n",
              "149998   2376369                        청춘 영화의 최고봉.방황과 우울했던 날들의 자화상      1\n",
              "149999   9619869                           한국 영화 최초로 수간하는 내용이 담긴 영화      0\n",
              "\n",
              "[150000 rows x 3 columns]"
            ]
          },
          "metadata": {
            "tags": []
          },
          "execution_count": 13
        }
      ]
    },
    {
      "cell_type": "code",
      "metadata": {
        "colab": {
          "base_uri": "https://localhost:8080/",
          "height": 419
        },
        "id": "UnjJp4r4gG_k",
        "outputId": "02399b0b-3301-4d18-8f5b-eacaad82bef5"
      },
      "source": [
        "# train null 데이터 제거\n",
        "df_train = df_train.dropna()\n",
        "df_train"
      ],
      "execution_count": 14,
      "outputs": [
        {
          "output_type": "execute_result",
          "data": {
            "text/html": [
              "<div>\n",
              "<style scoped>\n",
              "    .dataframe tbody tr th:only-of-type {\n",
              "        vertical-align: middle;\n",
              "    }\n",
              "\n",
              "    .dataframe tbody tr th {\n",
              "        vertical-align: top;\n",
              "    }\n",
              "\n",
              "    .dataframe thead th {\n",
              "        text-align: right;\n",
              "    }\n",
              "</style>\n",
              "<table border=\"1\" class=\"dataframe\">\n",
              "  <thead>\n",
              "    <tr style=\"text-align: right;\">\n",
              "      <th></th>\n",
              "      <th>id</th>\n",
              "      <th>document</th>\n",
              "      <th>label</th>\n",
              "    </tr>\n",
              "  </thead>\n",
              "  <tbody>\n",
              "    <tr>\n",
              "      <th>0</th>\n",
              "      <td>9976970</td>\n",
              "      <td>아 더빙.. 진짜 짜증나네요 목소리</td>\n",
              "      <td>0</td>\n",
              "    </tr>\n",
              "    <tr>\n",
              "      <th>1</th>\n",
              "      <td>3819312</td>\n",
              "      <td>흠...포스터보고 초딩영화줄....오버연기조차 가볍지 않구나</td>\n",
              "      <td>1</td>\n",
              "    </tr>\n",
              "    <tr>\n",
              "      <th>2</th>\n",
              "      <td>10265843</td>\n",
              "      <td>너무재밓었다그래서보는것을추천한다</td>\n",
              "      <td>0</td>\n",
              "    </tr>\n",
              "    <tr>\n",
              "      <th>3</th>\n",
              "      <td>9045019</td>\n",
              "      <td>교도소 이야기구먼 ..솔직히 재미는 없다..평점 조정</td>\n",
              "      <td>0</td>\n",
              "    </tr>\n",
              "    <tr>\n",
              "      <th>4</th>\n",
              "      <td>6483659</td>\n",
              "      <td>사이몬페그의 익살스런 연기가 돋보였던 영화!스파이더맨에서 늙어보이기만 했던 커스틴 ...</td>\n",
              "      <td>1</td>\n",
              "    </tr>\n",
              "    <tr>\n",
              "      <th>...</th>\n",
              "      <td>...</td>\n",
              "      <td>...</td>\n",
              "      <td>...</td>\n",
              "    </tr>\n",
              "    <tr>\n",
              "      <th>149995</th>\n",
              "      <td>6222902</td>\n",
              "      <td>인간이 문제지.. 소는 뭔죄인가..</td>\n",
              "      <td>0</td>\n",
              "    </tr>\n",
              "    <tr>\n",
              "      <th>149996</th>\n",
              "      <td>8549745</td>\n",
              "      <td>평점이 너무 낮아서...</td>\n",
              "      <td>1</td>\n",
              "    </tr>\n",
              "    <tr>\n",
              "      <th>149997</th>\n",
              "      <td>9311800</td>\n",
              "      <td>이게 뭐요? 한국인은 거들먹거리고 필리핀 혼혈은 착하다?</td>\n",
              "      <td>0</td>\n",
              "    </tr>\n",
              "    <tr>\n",
              "      <th>149998</th>\n",
              "      <td>2376369</td>\n",
              "      <td>청춘 영화의 최고봉.방황과 우울했던 날들의 자화상</td>\n",
              "      <td>1</td>\n",
              "    </tr>\n",
              "    <tr>\n",
              "      <th>149999</th>\n",
              "      <td>9619869</td>\n",
              "      <td>한국 영화 최초로 수간하는 내용이 담긴 영화</td>\n",
              "      <td>0</td>\n",
              "    </tr>\n",
              "  </tbody>\n",
              "</table>\n",
              "<p>149995 rows × 3 columns</p>\n",
              "</div>"
            ],
            "text/plain": [
              "              id                                           document  label\n",
              "0        9976970                                아 더빙.. 진짜 짜증나네요 목소리      0\n",
              "1        3819312                  흠...포스터보고 초딩영화줄....오버연기조차 가볍지 않구나      1\n",
              "2       10265843                                  너무재밓었다그래서보는것을추천한다      0\n",
              "3        9045019                      교도소 이야기구먼 ..솔직히 재미는 없다..평점 조정      0\n",
              "4        6483659  사이몬페그의 익살스런 연기가 돋보였던 영화!스파이더맨에서 늙어보이기만 했던 커스틴 ...      1\n",
              "...          ...                                                ...    ...\n",
              "149995   6222902                                인간이 문제지.. 소는 뭔죄인가..      0\n",
              "149996   8549745                                      평점이 너무 낮아서...      1\n",
              "149997   9311800                    이게 뭐요? 한국인은 거들먹거리고 필리핀 혼혈은 착하다?      0\n",
              "149998   2376369                        청춘 영화의 최고봉.방황과 우울했던 날들의 자화상      1\n",
              "149999   9619869                           한국 영화 최초로 수간하는 내용이 담긴 영화      0\n",
              "\n",
              "[149995 rows x 3 columns]"
            ]
          },
          "metadata": {
            "tags": []
          },
          "execution_count": 14
        }
      ]
    },
    {
      "cell_type": "code",
      "metadata": {
        "colab": {
          "base_uri": "https://localhost:8080/",
          "height": 419
        },
        "id": "9Xq3hIWugG_k",
        "outputId": "2e4136bd-c92f-4b5e-ee8f-9c1a0e6baf9c"
      },
      "source": [
        "# train data load\n",
        "df_test = pd.read_csv(os.path.join(nsmc_dir, 'ratings_test.txt'), delimiter='\\t')\n",
        "df_test"
      ],
      "execution_count": 15,
      "outputs": [
        {
          "output_type": "execute_result",
          "data": {
            "text/html": [
              "<div>\n",
              "<style scoped>\n",
              "    .dataframe tbody tr th:only-of-type {\n",
              "        vertical-align: middle;\n",
              "    }\n",
              "\n",
              "    .dataframe tbody tr th {\n",
              "        vertical-align: top;\n",
              "    }\n",
              "\n",
              "    .dataframe thead th {\n",
              "        text-align: right;\n",
              "    }\n",
              "</style>\n",
              "<table border=\"1\" class=\"dataframe\">\n",
              "  <thead>\n",
              "    <tr style=\"text-align: right;\">\n",
              "      <th></th>\n",
              "      <th>id</th>\n",
              "      <th>document</th>\n",
              "      <th>label</th>\n",
              "    </tr>\n",
              "  </thead>\n",
              "  <tbody>\n",
              "    <tr>\n",
              "      <th>0</th>\n",
              "      <td>6270596</td>\n",
              "      <td>굳 ㅋ</td>\n",
              "      <td>1</td>\n",
              "    </tr>\n",
              "    <tr>\n",
              "      <th>1</th>\n",
              "      <td>9274899</td>\n",
              "      <td>GDNTOPCLASSINTHECLUB</td>\n",
              "      <td>0</td>\n",
              "    </tr>\n",
              "    <tr>\n",
              "      <th>2</th>\n",
              "      <td>8544678</td>\n",
              "      <td>뭐야 이 평점들은.... 나쁘진 않지만 10점 짜리는 더더욱 아니잖아</td>\n",
              "      <td>0</td>\n",
              "    </tr>\n",
              "    <tr>\n",
              "      <th>3</th>\n",
              "      <td>6825595</td>\n",
              "      <td>지루하지는 않은데 완전 막장임... 돈주고 보기에는....</td>\n",
              "      <td>0</td>\n",
              "    </tr>\n",
              "    <tr>\n",
              "      <th>4</th>\n",
              "      <td>6723715</td>\n",
              "      <td>3D만 아니었어도 별 다섯 개 줬을텐데.. 왜 3D로 나와서 제 심기를 불편하게 하죠??</td>\n",
              "      <td>0</td>\n",
              "    </tr>\n",
              "    <tr>\n",
              "      <th>...</th>\n",
              "      <td>...</td>\n",
              "      <td>...</td>\n",
              "      <td>...</td>\n",
              "    </tr>\n",
              "    <tr>\n",
              "      <th>49995</th>\n",
              "      <td>4608761</td>\n",
              "      <td>오랜만에 평점 로긴했네ㅋㅋ 킹왕짱 쌈뽕한 영화를 만났습니다 강렬하게 육쾌함</td>\n",
              "      <td>1</td>\n",
              "    </tr>\n",
              "    <tr>\n",
              "      <th>49996</th>\n",
              "      <td>5308387</td>\n",
              "      <td>의지 박약들이나 하는거다 탈영은 일단 주인공 김대희 닮았고 이등병 찐따 OOOO</td>\n",
              "      <td>0</td>\n",
              "    </tr>\n",
              "    <tr>\n",
              "      <th>49997</th>\n",
              "      <td>9072549</td>\n",
              "      <td>그림도 좋고 완성도도 높았지만... 보는 내내 불안하게 만든다</td>\n",
              "      <td>0</td>\n",
              "    </tr>\n",
              "    <tr>\n",
              "      <th>49998</th>\n",
              "      <td>5802125</td>\n",
              "      <td>절대 봐서는 안 될 영화.. 재미도 없고 기분만 잡치고.. 한 세트장에서 다 해먹네</td>\n",
              "      <td>0</td>\n",
              "    </tr>\n",
              "    <tr>\n",
              "      <th>49999</th>\n",
              "      <td>6070594</td>\n",
              "      <td>마무리는 또 왜이래</td>\n",
              "      <td>0</td>\n",
              "    </tr>\n",
              "  </tbody>\n",
              "</table>\n",
              "<p>50000 rows × 3 columns</p>\n",
              "</div>"
            ],
            "text/plain": [
              "            id                                           document  label\n",
              "0      6270596                                                굳 ㅋ      1\n",
              "1      9274899                               GDNTOPCLASSINTHECLUB      0\n",
              "2      8544678             뭐야 이 평점들은.... 나쁘진 않지만 10점 짜리는 더더욱 아니잖아      0\n",
              "3      6825595                   지루하지는 않은데 완전 막장임... 돈주고 보기에는....      0\n",
              "4      6723715  3D만 아니었어도 별 다섯 개 줬을텐데.. 왜 3D로 나와서 제 심기를 불편하게 하죠??      0\n",
              "...        ...                                                ...    ...\n",
              "49995  4608761          오랜만에 평점 로긴했네ㅋㅋ 킹왕짱 쌈뽕한 영화를 만났습니다 강렬하게 육쾌함      1\n",
              "49996  5308387       의지 박약들이나 하는거다 탈영은 일단 주인공 김대희 닮았고 이등병 찐따 OOOO      0\n",
              "49997  9072549                 그림도 좋고 완성도도 높았지만... 보는 내내 불안하게 만든다      0\n",
              "49998  5802125     절대 봐서는 안 될 영화.. 재미도 없고 기분만 잡치고.. 한 세트장에서 다 해먹네      0\n",
              "49999  6070594                                         마무리는 또 왜이래      0\n",
              "\n",
              "[50000 rows x 3 columns]"
            ]
          },
          "metadata": {
            "tags": []
          },
          "execution_count": 15
        }
      ]
    },
    {
      "cell_type": "code",
      "metadata": {
        "colab": {
          "base_uri": "https://localhost:8080/",
          "height": 419
        },
        "id": "nzPZVnEBgG_k",
        "outputId": "da2183e5-d6c1-45db-c3b7-643c2bbab6f6"
      },
      "source": [
        "# train null 데이터 제거\n",
        "df_test = df_test.dropna()\n",
        "df_test"
      ],
      "execution_count": 16,
      "outputs": [
        {
          "output_type": "execute_result",
          "data": {
            "text/html": [
              "<div>\n",
              "<style scoped>\n",
              "    .dataframe tbody tr th:only-of-type {\n",
              "        vertical-align: middle;\n",
              "    }\n",
              "\n",
              "    .dataframe tbody tr th {\n",
              "        vertical-align: top;\n",
              "    }\n",
              "\n",
              "    .dataframe thead th {\n",
              "        text-align: right;\n",
              "    }\n",
              "</style>\n",
              "<table border=\"1\" class=\"dataframe\">\n",
              "  <thead>\n",
              "    <tr style=\"text-align: right;\">\n",
              "      <th></th>\n",
              "      <th>id</th>\n",
              "      <th>document</th>\n",
              "      <th>label</th>\n",
              "    </tr>\n",
              "  </thead>\n",
              "  <tbody>\n",
              "    <tr>\n",
              "      <th>0</th>\n",
              "      <td>6270596</td>\n",
              "      <td>굳 ㅋ</td>\n",
              "      <td>1</td>\n",
              "    </tr>\n",
              "    <tr>\n",
              "      <th>1</th>\n",
              "      <td>9274899</td>\n",
              "      <td>GDNTOPCLASSINTHECLUB</td>\n",
              "      <td>0</td>\n",
              "    </tr>\n",
              "    <tr>\n",
              "      <th>2</th>\n",
              "      <td>8544678</td>\n",
              "      <td>뭐야 이 평점들은.... 나쁘진 않지만 10점 짜리는 더더욱 아니잖아</td>\n",
              "      <td>0</td>\n",
              "    </tr>\n",
              "    <tr>\n",
              "      <th>3</th>\n",
              "      <td>6825595</td>\n",
              "      <td>지루하지는 않은데 완전 막장임... 돈주고 보기에는....</td>\n",
              "      <td>0</td>\n",
              "    </tr>\n",
              "    <tr>\n",
              "      <th>4</th>\n",
              "      <td>6723715</td>\n",
              "      <td>3D만 아니었어도 별 다섯 개 줬을텐데.. 왜 3D로 나와서 제 심기를 불편하게 하죠??</td>\n",
              "      <td>0</td>\n",
              "    </tr>\n",
              "    <tr>\n",
              "      <th>...</th>\n",
              "      <td>...</td>\n",
              "      <td>...</td>\n",
              "      <td>...</td>\n",
              "    </tr>\n",
              "    <tr>\n",
              "      <th>49995</th>\n",
              "      <td>4608761</td>\n",
              "      <td>오랜만에 평점 로긴했네ㅋㅋ 킹왕짱 쌈뽕한 영화를 만났습니다 강렬하게 육쾌함</td>\n",
              "      <td>1</td>\n",
              "    </tr>\n",
              "    <tr>\n",
              "      <th>49996</th>\n",
              "      <td>5308387</td>\n",
              "      <td>의지 박약들이나 하는거다 탈영은 일단 주인공 김대희 닮았고 이등병 찐따 OOOO</td>\n",
              "      <td>0</td>\n",
              "    </tr>\n",
              "    <tr>\n",
              "      <th>49997</th>\n",
              "      <td>9072549</td>\n",
              "      <td>그림도 좋고 완성도도 높았지만... 보는 내내 불안하게 만든다</td>\n",
              "      <td>0</td>\n",
              "    </tr>\n",
              "    <tr>\n",
              "      <th>49998</th>\n",
              "      <td>5802125</td>\n",
              "      <td>절대 봐서는 안 될 영화.. 재미도 없고 기분만 잡치고.. 한 세트장에서 다 해먹네</td>\n",
              "      <td>0</td>\n",
              "    </tr>\n",
              "    <tr>\n",
              "      <th>49999</th>\n",
              "      <td>6070594</td>\n",
              "      <td>마무리는 또 왜이래</td>\n",
              "      <td>0</td>\n",
              "    </tr>\n",
              "  </tbody>\n",
              "</table>\n",
              "<p>49997 rows × 3 columns</p>\n",
              "</div>"
            ],
            "text/plain": [
              "            id                                           document  label\n",
              "0      6270596                                                굳 ㅋ      1\n",
              "1      9274899                               GDNTOPCLASSINTHECLUB      0\n",
              "2      8544678             뭐야 이 평점들은.... 나쁘진 않지만 10점 짜리는 더더욱 아니잖아      0\n",
              "3      6825595                   지루하지는 않은데 완전 막장임... 돈주고 보기에는....      0\n",
              "4      6723715  3D만 아니었어도 별 다섯 개 줬을텐데.. 왜 3D로 나와서 제 심기를 불편하게 하죠??      0\n",
              "...        ...                                                ...    ...\n",
              "49995  4608761          오랜만에 평점 로긴했네ㅋㅋ 킹왕짱 쌈뽕한 영화를 만났습니다 강렬하게 육쾌함      1\n",
              "49996  5308387       의지 박약들이나 하는거다 탈영은 일단 주인공 김대희 닮았고 이등병 찐따 OOOO      0\n",
              "49997  9072549                 그림도 좋고 완성도도 높았지만... 보는 내내 불안하게 만든다      0\n",
              "49998  5802125     절대 봐서는 안 될 영화.. 재미도 없고 기분만 잡치고.. 한 세트장에서 다 해먹네      0\n",
              "49999  6070594                                         마무리는 또 왜이래      0\n",
              "\n",
              "[49997 rows x 3 columns]"
            ]
          },
          "metadata": {
            "tags": []
          },
          "execution_count": 16
        }
      ]
    },
    {
      "cell_type": "code",
      "metadata": {
        "id": "np9hbxHIgG_l"
      },
      "source": [
        "def load_data(df, n_seq):\n",
        "    \"\"\"\n",
        "    NSMC 학습 데이터 생성\n",
        "    :param df: data frame\n",
        "    :param n_seq: number of sequence\n",
        "    :return inputs: input data\n",
        "    :return labels: label data\n",
        "    \"\"\"\n",
        "    inputs = np.zeros((len(df), n_seq)).astype(np.int32)\n",
        "    labels = np.zeros((len(df),))\n",
        "    index = 0\n",
        "    for i, row in tqdm(df.iterrows(), total=len(df)):\n",
        "        # tokens 저장\n",
        "        # print()\n",
        "        label = row['label']\n",
        "        document = row['document']\n",
        "        # print(label, document)\n",
        "        tokens = vocab.encode_as_pieces(document)\n",
        "        # print(len(tokens), ':', tokens)\n",
        "        token_ids = vocab.encode_as_ids(document)\n",
        "        # print(len(token_ids), ':', token_ids)\n",
        "        token_ids = token_ids[:n_seq]\n",
        "        # print(len(token_ids), ':', token_ids)\n",
        "        token_ids += [0] * (n_seq - len(token_ids))\n",
        "        # print(len(token_ids), ':', token_ids)\n",
        "\n",
        "        labels[index] = label\n",
        "        inputs[index] = token_ids\n",
        "        index += 1\n",
        "    return inputs, labels"
      ],
      "execution_count": 17,
      "outputs": []
    },
    {
      "cell_type": "code",
      "metadata": {
        "colab": {
          "base_uri": "https://localhost:8080/",
          "height": 211,
          "referenced_widgets": [
            "f9540e049be9428f92710ee8db5dc436",
            "cdc4226bd4834d63948b2fc364ef9e53",
            "5c65a6186f764a8e8f5d63abba0fb1e4",
            "20a70b91d54545d8bae808c99f1e5be3",
            "d3cebbb5d6a94e08adbd7f2f82b07313",
            "91ce9e18f14e42ab90a9d11dc9299623",
            "dd70b2904c6b4605a150b133bba61355",
            "51ced905dd824ec08cbe73d25534a6a5"
          ]
        },
        "id": "RR4l0G_OgG_l",
        "outputId": "1c38b282-10a6-4515-f880-599b548384dc"
      },
      "source": [
        "# train data 생성\n",
        "train_inputs, train_labels = load_data(df_train, n_seq)\n",
        "train_inputs, train_labels"
      ],
      "execution_count": 18,
      "outputs": [
        {
          "output_type": "display_data",
          "data": {
            "application/vnd.jupyter.widget-view+json": {
              "model_id": "f9540e049be9428f92710ee8db5dc436",
              "version_minor": 0,
              "version_major": 2
            },
            "text/plain": [
              "HBox(children=(FloatProgress(value=0.0, max=149995.0), HTML(value='')))"
            ]
          },
          "metadata": {
            "tags": []
          }
        },
        {
          "output_type": "stream",
          "text": [
            "\n"
          ],
          "name": "stdout"
        },
        {
          "output_type": "execute_result",
          "data": {
            "text/plain": [
              "(array([[  188, 16337,     7, ...,     0,     0,     0],\n",
              "        [15825,     7,     7, ...,     0,     0,     0],\n",
              "        [ 2329,   349,     1, ...,     0,     0,     0],\n",
              "        ...,\n",
              "        [   29,   128, 19999, ...,     0,     0,     0],\n",
              "        [14943,  7071,   802, ...,     0,     0,     0],\n",
              "        [  253,   321,  1071, ...,     0,     0,     0]], dtype=int32),\n",
              " array([0., 1., 0., ..., 0., 1., 0.]))"
            ]
          },
          "metadata": {
            "tags": []
          },
          "execution_count": 18
        }
      ]
    },
    {
      "cell_type": "code",
      "metadata": {
        "colab": {
          "base_uri": "https://localhost:8080/",
          "height": 211,
          "referenced_widgets": [
            "2ede355692424c2ea513e98ce0ec0bd3",
            "df38b2e20e824c4e8dad86d108070ff2",
            "1bcd15c9e4bf4e96900d111f0f2867fb",
            "071ba88bce9747a5be488abc971b6419",
            "8c26883acddc48468c7c77eeec56845f",
            "d9a0682b1d1042178871cc96d68c8286",
            "0ef0602e694e46319f284f5dc3442b91",
            "912103bb5f0e495181f9c0fcf341a395"
          ]
        },
        "id": "5EI5jjPYgG_m",
        "outputId": "5e71a893-4ea0-44db-f242-6feaf29c7a45"
      },
      "source": [
        "# test data 생성\n",
        "test_inputs, test_labels = load_data(df_test, n_seq)\n",
        "test_inputs, test_labels"
      ],
      "execution_count": 19,
      "outputs": [
        {
          "output_type": "display_data",
          "data": {
            "application/vnd.jupyter.widget-view+json": {
              "model_id": "2ede355692424c2ea513e98ce0ec0bd3",
              "version_minor": 0,
              "version_major": 2
            },
            "text/plain": [
              "HBox(children=(FloatProgress(value=0.0, max=49997.0), HTML(value='')))"
            ]
          },
          "metadata": {
            "tags": []
          }
        },
        {
          "output_type": "stream",
          "text": [
            "\n"
          ],
          "name": "stdout"
        },
        {
          "output_type": "execute_result",
          "data": {
            "text/plain": [
              "(array([[ 5441,    10, 31026, ...,     0,     0,     0],\n",
              "        [  618,   509,   798, ...,     0,     0,     0],\n",
              "        [19999,   173,    29, ...,     0,     0,     0],\n",
              "        ...,\n",
              "        [ 2087,    32, 22687, ...,     0,     0,     0],\n",
              "        [ 3991, 27855,    11, ...,     0,     0,     0],\n",
              "        [ 4404,    11,   375, ...,     0,     0,     0]], dtype=int32),\n",
              " array([1., 0., 0., ..., 0., 0., 0.]))"
            ]
          },
          "metadata": {
            "tags": []
          },
          "execution_count": 19
        }
      ]
    },
    {
      "cell_type": "markdown",
      "metadata": {
        "id": "QbzBPXwqgG_n"
      },
      "source": [
        "## 학습"
      ]
    },
    {
      "cell_type": "code",
      "metadata": {
        "colab": {
          "base_uri": "https://localhost:8080/",
          "height": 865
        },
        "id": "xtECC96EgG_n",
        "outputId": "e3f21db3-9c36-4ba7-904e-439b6aac4375"
      },
      "source": [
        "# 모델 생성\n",
        "model = build_model(len(vocab), d_model, n_seq, n_out)\n",
        "# 모델 내용 그래프 출력\n",
        "tf.keras.utils.plot_model(model, 'model.png', show_shapes=True)"
      ],
      "execution_count": 51,
      "outputs": [
        {
          "output_type": "execute_result",
          "data": {
            "image/png": "[encoded data removed]",
            "text/plain": [
              "<IPython.core.display.Image object>"
            ]
          },
          "metadata": {
            "tags": []
          },
          "execution_count": 51
        }
      ]
    },
    {
      "cell_type": "code",
      "metadata": {
        "id": "IsiZts95gG_n"
      },
      "source": [
        "# 모델 loss, optimizer, metric 정의\n",
        "model.compile(loss='sparse_categorical_crossentropy', optimizer='adam', metrics=['accuracy'])"
      ],
      "execution_count": 52,
      "outputs": []
    },
    {
      "cell_type": "code",
      "metadata": {
        "id": "0iFOHw2agG_n"
      },
      "source": [
        "# early stopping\n",
        "early_stopping = tf.keras.callbacks.EarlyStopping(monitor='val_accuracy', patience=5)\n",
        "# save weights callback\n",
        "save_weights = tf.keras.callbacks.ModelCheckpoint(os.path.join(nsmc_dir, 'stub.hdf5'),\n",
        "                                                  monitor='val_accuracy',\n",
        "                                                  verbose=1,\n",
        "                                                  save_best_only=True,\n",
        "                                                  mode=\"max\",\n",
        "                                                  save_freq=\"epoch\",\n",
        "                                                  save_weights_only=True)\n",
        "# csv logger\n",
        "csv_logger = tf.keras.callbacks.CSVLogger(os.path.join(nsmc_dir, 'stub.csv'))"
      ],
      "execution_count": 53,
      "outputs": []
    },
    {
      "cell_type": "code",
      "metadata": {
        "colab": {
          "base_uri": "https://localhost:8080/"
        },
        "id": "9-ONLlbbgG_o",
        "outputId": "1fc7556f-ef9c-414a-e478-5c9e8863d604"
      },
      "source": [
        "# 모델 학습\n",
        "history = model.fit(train_inputs,\n",
        "                    train_labels,\n",
        "                    validation_data=(test_inputs, test_labels),\n",
        "                    epochs=100,\n",
        "                    batch_size=256,\n",
        "                    callbacks=[early_stopping, save_weights, csv_logger])"
      ],
      "execution_count": 54,
      "outputs": [
        {
          "output_type": "stream",
          "text": [
            "Epoch 1/100\n",
            "586/586 [==============================] - 94s 157ms/step - loss: 0.4961 - accuracy: 0.7567 - val_loss: 0.3641 - val_accuracy: 0.8400\n",
            "\n",
            "Epoch 00001: val_accuracy improved from -inf to 0.83999, saving model to /content/drive/MyDrive/Colab Notebooks/2021-HUFS-NLP/data/nsmc/stub.hdf5\n",
            "Epoch 2/100\n",
            "586/586 [==============================] - 91s 155ms/step - loss: 0.3203 - accuracy: 0.8651 - val_loss: 0.3680 - val_accuracy: 0.8376\n",
            "\n",
            "Epoch 00002: val_accuracy did not improve from 0.83999\n",
            "Epoch 3/100\n",
            "586/586 [==============================] - 89s 152ms/step - loss: 0.2669 - accuracy: 0.8916 - val_loss: 0.3676 - val_accuracy: 0.8460\n",
            "\n",
            "Epoch 00003: val_accuracy improved from 0.83999 to 0.84603, saving model to /content/drive/MyDrive/Colab Notebooks/2021-HUFS-NLP/data/nsmc/stub.hdf5\n",
            "Epoch 4/100\n",
            "586/586 [==============================] - 89s 151ms/step - loss: 0.2237 - accuracy: 0.9125 - val_loss: 0.3840 - val_accuracy: 0.8428\n",
            "\n",
            "Epoch 00004: val_accuracy did not improve from 0.84603\n",
            "Epoch 5/100\n",
            "586/586 [==============================] - 88s 150ms/step - loss: 0.1792 - accuracy: 0.9305 - val_loss: 0.3913 - val_accuracy: 0.8410\n",
            "\n",
            "Epoch 00005: val_accuracy did not improve from 0.84603\n",
            "Epoch 6/100\n",
            "586/586 [==============================] - 88s 150ms/step - loss: 0.1474 - accuracy: 0.9444 - val_loss: 0.4409 - val_accuracy: 0.8371\n",
            "\n",
            "Epoch 00006: val_accuracy did not improve from 0.84603\n",
            "Epoch 7/100\n",
            "586/586 [==============================] - 88s 150ms/step - loss: 0.1230 - accuracy: 0.9546 - val_loss: 0.4801 - val_accuracy: 0.8373\n",
            "\n",
            "Epoch 00007: val_accuracy did not improve from 0.84603\n",
            "Epoch 8/100\n",
            "586/586 [==============================] - 87s 149ms/step - loss: 0.1027 - accuracy: 0.9628 - val_loss: 0.5388 - val_accuracy: 0.8270\n",
            "\n",
            "Epoch 00008: val_accuracy did not improve from 0.84603\n"
          ],
          "name": "stdout"
        }
      ]
    },
    {
      "cell_type": "code",
      "metadata": {
        "id": "GOHTftS4gG_o",
        "colab": {
          "base_uri": "https://localhost:8080/",
          "height": 279
        },
        "outputId": "ac7b7fbb-5ae8-4d57-f801-144afc1c7738"
      },
      "source": [
        "plt.figure(figsize=(12, 4))\n",
        "\n",
        "plt.subplot(1, 2, 1)\n",
        "plt.plot(history.history['loss'], 'b-', label='loss')\n",
        "plt.plot(history.history['val_loss'], 'r--', label='val_loss')\n",
        "plt.xlabel('Epoch')\n",
        "plt.legend()\n",
        "\n",
        "plt.subplot(1, 2, 2)\n",
        "plt.plot(history.history['accuracy'], 'g-', label='acc')\n",
        "plt.plot(history.history['val_accuracy'], 'k--', label='val_acc')\n",
        "plt.xlabel('Epoch')\n",
        "plt.legend()\n",
        "\n",
        "plt.show()"
      ],
      "execution_count": 55,
      "outputs": [
        {
          "output_type": "display_data",
          "data": {
            "image/png": "[encoded data removed]",
            "text/plain": [
              "<Figure size 864x288 with 2 Axes>"
            ]
          },
          "metadata": {
            "tags": [],
            "needs_background": "light"
          }
        }
      ]
    },
    {
      "cell_type": "markdown",
      "metadata": {
        "id": "fFOkITDzgG_o"
      },
      "source": [
        "## Inference"
      ]
    },
    {
      "cell_type": "code",
      "metadata": {
        "id": "ghiWYAgUgG_o"
      },
      "source": [
        "# 모델 생성\n",
        "model = build_model(n_vocab, d_model, n_seq, n_out)\n",
        "# train weight로 초기화\n",
        "model.load_weights(os.path.join(nsmc_dir, 'stub.hdf5'))"
      ],
      "execution_count": 56,
      "outputs": []
    },
    {
      "cell_type": "code",
      "metadata": {
        "colab": {
          "base_uri": "https://localhost:8080/"
        },
        "id": "Ws6V1OYgqpRC",
        "outputId": "88a0f660-3bd4-41a3-9f1a-761a8d262d03"
      },
      "source": [
        "# 예측\n",
        "logits = model.predict(test_inputs)\n",
        "logits"
      ],
      "execution_count": 57,
      "outputs": [
        {
          "output_type": "execute_result",
          "data": {
            "text/plain": [
              "array([[0.0309401 , 0.9690599 ],\n",
              "       [0.12915093, 0.8708491 ],\n",
              "       [0.7421229 , 0.2578771 ],\n",
              "       ...,\n",
              "       [0.01939462, 0.98060536],\n",
              "       [0.9978206 , 0.0021794 ],\n",
              "       [0.87194574, 0.12805429]], dtype=float32)"
            ]
          },
          "metadata": {
            "tags": []
          },
          "execution_count": 57
        }
      ]
    },
    {
      "cell_type": "code",
      "metadata": {
        "colab": {
          "base_uri": "https://localhost:8080/"
        },
        "id": "RIacdlGorCBr",
        "outputId": "201fe13d-df97-4424-dcc0-845ca355ef13"
      },
      "source": [
        "# 확률 최대 값을 예측으로 사용\n",
        "test_preds = np.argmax(logits, axis=-1)\n",
        "test_preds"
      ],
      "execution_count": 58,
      "outputs": [
        {
          "output_type": "execute_result",
          "data": {
            "text/plain": [
              "array([1, 1, 0, ..., 1, 0, 0])"
            ]
          },
          "metadata": {
            "tags": []
          },
          "execution_count": 58
        }
      ]
    },
    {
      "cell_type": "code",
      "metadata": {
        "colab": {
          "base_uri": "https://localhost:8080/"
        },
        "id": "9D8P5_7mgG_o",
        "outputId": "037a2340-edd7-48bf-e2d2-add42c731418"
      },
      "source": [
        "confusion_matrix = np.zeros((n_out, n_out)).astype(np.int)\n",
        "for y_true, y_pred in zip(test_labels, test_preds):\n",
        "    confusion_matrix[int(y_true), int(y_pred)] += 1\n",
        "confusion_matrix"
      ],
      "execution_count": 59,
      "outputs": [
        {
          "output_type": "execute_result",
          "data": {
            "text/plain": [
              "array([[21489,  3337],\n",
              "       [ 4361, 20810]])"
            ]
          },
          "metadata": {
            "tags": []
          },
          "execution_count": 59
        }
      ]
    },
    {
      "cell_type": "code",
      "metadata": {
        "colab": {
          "base_uri": "https://localhost:8080/"
        },
        "id": "zTHIKSwMgG_p",
        "outputId": "0affb87e-b2d8-4ecb-88a0-531a3dcfe043"
      },
      "source": [
        "tp = confusion_matrix[1, 1]\n",
        "tn = confusion_matrix[0, 0]\n",
        "fp = confusion_matrix[0, 1]\n",
        "fn = confusion_matrix[1, 0]\n",
        "\n",
        "accuracy = (tp + tn) / max((tp + tn + fp + fn), 1)\n",
        "print(f'accuracy: {accuracy}')\n",
        "precision = (tp) / max((tp + fp), 1)\n",
        "print(f'precision: {precision}')\n",
        "recall = (tp) / max((tp + fn), 1)\n",
        "print(f'recall: {recall}')\n",
        "f1 = 2 * (precision * recall) / max((precision + recall), 1)\n",
        "print(f'f1: {f1}')"
      ],
      "execution_count": 60,
      "outputs": [
        {
          "output_type": "stream",
          "text": [
            "accuracy: 0.8460307618457107\n",
            "precision: 0.8618047790615811\n",
            "recall: 0.8267450637638553\n",
            "f1: 0.8439109452938076\n"
          ],
          "name": "stdout"
        }
      ]
    },
    {
      "cell_type": "code",
      "metadata": {
        "id": "EEyJ7P4FgG_p"
      },
      "source": [
        "def do_predict(model, n_seq, string):\n",
        "    \"\"\"\n",
        "    입력에 대한 답변 생성하는 함수\n",
        "    :param model: model\n",
        "    :param n_seq: 입력 개수\n",
        "    :param string: 입력 문자열\n",
        "    \"\"\"\n",
        "    # token 생성: <string tokens>, [PAD] tokens\n",
        "    token = vocab.encode_as_ids(string)[:n_seq]\n",
        "    token += [0] * (n_seq - len(token))\n",
        "    token = token[:n_seq]\n",
        "\n",
        "    y_pred = model.predict(np.array([token]))\n",
        "    y_pred_class = K.argmax(y_pred, axis=-1)\n",
        "\n",
        "    return \"긍정\" if y_pred_class[0] == 1 else \"부정\""
      ],
      "execution_count": 61,
      "outputs": []
    },
    {
      "cell_type": "code",
      "metadata": {
        "colab": {
          "base_uri": "https://localhost:8080/"
        },
        "id": "6AEE86LCgG_p",
        "outputId": "7a182b50-3cf1-43b0-c634-f5679214a45d"
      },
      "source": [
        "while True:\n",
        "    print(\"input > \", end=\"\")\n",
        "    string = str(input())\n",
        "    if len(string) == 0:\n",
        "        break\n",
        "    print(f\"output > {do_predict(model, n_seq, string)}\")"
      ],
      "execution_count": 62,
      "outputs": [
        {
          "output_type": "stream",
          "text": [
            "input > 이영화는 마음에 안든다\n",
            "output > 부정\n",
            "input > 이 영화가 좋다\n",
            "output > 긍정\n",
            "input > 별로예요\n",
            "output > 부정\n",
            "input > 좋아요\n",
            "output > 긍정\n",
            "input > 영화 비추\n",
            "output > 부정\n",
            "input > 안보는게좋을듯\n",
            "output > 부정\n",
            "input > 강추\n",
            "output > 긍정\n",
            "input > 좋아요\n",
            "output > 긍정\n",
            "input > 추천합니다\n",
            "output > 긍정\n",
            "input > \n"
          ],
          "name": "stdout"
        }
      ]
    },
    {
      "cell_type": "code",
      "metadata": {
        "id": "11nAQ3WmrDoK"
      },
      "source": [
        ""
      ],
      "execution_count": 62,
      "outputs": []
    }
  ]
}