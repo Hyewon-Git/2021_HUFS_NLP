{
  
  "nbformat": 4,
  "nbformat_minor": 0,
  "metadata": {
    "colab": {
      "name": "혜원-NLP-06-01-text-similarity-강의.ipynb",
      "provenance": [],
      "collapsed_sections": [
        "6dfJPT-2XMTB",
        "JHkHg6XAXoyK",
        "fsRvlzDzSX9e",
        "MXrWvdLuhVIu",
        "iCtHjN1jiPBl",
        "vuf2hfnmgPtJ",
        "z5vUjpBDjvwM",
        "0wOb77mrgo2j",
        "HH3c7rY7kbCh",
        "INyPdEigjQpG",
        "CZNmjRZLjcU-",
        "OMncJs1dlHLK",
        "PEEHnQPfluqb",
        "zSaoCf37q3aC",
        "arOON7lCq3aC",
        "wMPwmL79q3aG",
        "jTN2yeNEq3aI"
      ],
      "include_colab_link": true
    },
    "kernelspec": {
      "name": "python3",
      "display_name": "Python 3"
    },
    "accelerator": "GPU",
    "widgets": {
      "application/vnd.jupyter.widget-state+json": {
        "1bedd3b976054e98a9829446a17ed701": {
          "model_module": "@jupyter-widgets/controls",
          "model_name": "HBoxModel",
          "state": {
            "_view_name": "HBoxView",
            "_dom_classes": [],
            "_model_name": "HBoxModel",
            "_view_module": "@jupyter-widgets/controls",
            "_model_module_version": "1.5.0",
            "_view_count": null,
            "_view_module_version": "1.5.0",
            "box_style": "",
            "layout": "IPY_MODEL_274e4ca17a884ff986475185018d2f89",
            "_model_module": "@jupyter-widgets/controls",
            "children": [
              "IPY_MODEL_ad58bb2ec35d490aafb00d344cd420bf",
              "IPY_MODEL_f1015c85baf2481b853ccecea40b89a3"
            ]
          }
        },
        
        "274e4ca17a884ff986475185018d2f89": {
          "model_module": "@jupyter-widgets/base",
          "model_name": "LayoutModel",
          "state": {
            "_view_name": "LayoutView",
            "grid_template_rows": null,
            "right": null,
            "justify_content": null,
            "_view_module": "@jupyter-widgets/base",
            "overflow": null,
            "_model_module_version": "1.2.0",
            "_view_count": null,
            "flex_flow": null,
            "width": null,
            "min_width": null,
            "border": null,
            "align_items": null,
            "bottom": null,
            "_model_module": "@jupyter-widgets/base",
            "top": null,
            "grid_column": null,
            "overflow_y": null,
            "overflow_x": null,
            "grid_auto_flow": null,
            "grid_area": null,
            "grid_template_columns": null,
            "flex": null,
            "_model_name": "LayoutModel",
            "justify_items": null,
            "grid_row": null,
            "max_height": null,
            "align_content": null,
            "visibility": null,
            "align_self": null,
            "height": null,
            "min_height": null,
            "padding": null,
            "grid_auto_rows": null,
            "grid_gap": null,
            "max_width": null,
            "order": null,
            "_view_module_version": "1.2.0",
            "grid_template_areas": null,
            "object_position": null,
            "object_fit": null,
            "grid_auto_columns": null,
            "margin": null,
            "display": null,
            "left": null
          }
        },
        "ad58bb2ec35d490aafb00d344cd420bf": {
          "model_module": "@jupyter-widgets/controls",
          "model_name": "FloatProgressModel",
          "state": {
            "_view_name": "ProgressView",
            "style": "IPY_MODEL_2072a9826d424ea88ab34d086d1617c3",
            "_dom_classes": [],
            "description": "100%",
            "_model_name": "FloatProgressModel",
            "bar_style": "success",
            "max": 10,
            "_view_module": "@jupyter-widgets/controls",
            "_model_module_version": "1.5.0",
            "value": 10,
            "_view_count": null,
            "_view_module_version": "1.5.0",
            "orientation": "horizontal",
            "min": 0,
            "description_tooltip": null,
            "_model_module": "@jupyter-widgets/controls",
            "layout": "IPY_MODEL_8911d2a6ca9343c4abda0362d35183ad"
          }
        },
        "f1015c85baf2481b853ccecea40b89a3": {
          "model_module": "@jupyter-widgets/controls",
          "model_name": "HTMLModel",
          "state": {
            "_view_name": "HTMLView",
            "style": "IPY_MODEL_950cbe4f00f44ecf93e64065f2c3b3db",
            "_dom_classes": [],
            "description": "",
            "_model_name": "HTMLModel",
            "placeholder": "​",
            "_view_module": "@jupyter-widgets/controls",
            "_model_module_version": "1.5.0",
            "value": " 10/10 [00:17&lt;00:00,  1.77s/it]",
            "_view_count": null,
            "_view_module_version": "1.5.0",
            "description_tooltip": null,
            "_model_module": "@jupyter-widgets/controls",
            "layout": "IPY_MODEL_5bf9a6d098274531a05daac05cbaa6af"
          }
        },
        "2072a9826d424ea88ab34d086d1617c3": {
          "model_module": "@jupyter-widgets/controls",
          "model_name": "ProgressStyleModel",
          "state": {
            "_view_name": "StyleView",
            "_model_name": "ProgressStyleModel",
            "description_width": "initial",
            "_view_module": "@jupyter-widgets/base",
            "_model_module_version": "1.5.0",
            "_view_count": null,
            "_view_module_version": "1.2.0",
            "bar_color": null,
            "_model_module": "@jupyter-widgets/controls"
          }
        },
        "8911d2a6ca9343c4abda0362d35183ad": {
          "model_module": "@jupyter-widgets/base",
          "model_name": "LayoutModel",
          "state": {
            "_view_name": "LayoutView",
            "grid_template_rows": null,
            "right": null,
            "justify_content": null,
            "_view_module": "@jupyter-widgets/base",
            "overflow": null,
            "_model_module_version": "1.2.0",
            "_view_count": null,
            "flex_flow": null,
            "width": null,
            "min_width": null,
            "border": null,
            "align_items": null,
            "bottom": null,
            "_model_module": "@jupyter-widgets/base",
            "top": null,
            "grid_column": null,
            "overflow_y": null,
            "overflow_x": null,
            "grid_auto_flow": null,
            "grid_area": null,
            "grid_template_columns": null,
            "flex": null,
            "_model_name": "LayoutModel",
            "justify_items": null,
            "grid_row": null,
            "max_height": null,
            "align_content": null,
            "visibility": null,
            "align_self": null,
            "height": null,
            "min_height": null,
            "padding": null,
            "grid_auto_rows": null,
            "grid_gap": null,
            "max_width": null,
            "order": null,
            "_view_module_version": "1.2.0",
            "grid_template_areas": null,
            "object_position": null,
            "object_fit": null,
            "grid_auto_columns": null,
            "margin": null,
            "display": null,
            "left": null
          }
        },
        "950cbe4f00f44ecf93e64065f2c3b3db": {
          "model_module": "@jupyter-widgets/controls",
          "model_name": "DescriptionStyleModel",
          "state": {
            "_view_name": "StyleView",
            "_model_name": "DescriptionStyleModel",
            "description_width": "",
            "_view_module": "@jupyter-widgets/base",
            "_model_module_version": "1.5.0",
            "_view_count": null,
            "_view_module_version": "1.2.0",
            "_model_module": "@jupyter-widgets/controls"
          }
        },
        "5bf9a6d098274531a05daac05cbaa6af": {
          "model_module": "@jupyter-widgets/base",
          "model_name": "LayoutModel",
          "state": {
            "_view_name": "LayoutView",
            "grid_template_rows": null,
            "right": null,
            "justify_content": null,
            "_view_module": "@jupyter-widgets/base",
            "overflow": null,
            "_model_module_version": "1.2.0",
            "_view_count": null,
            "flex_flow": null,
            "width": null,
            "min_width": null,
            "border": null,
            "align_items": null,
            "bottom": null,
            "_model_module": "@jupyter-widgets/base",
            "top": null,
            "grid_column": null,
            "overflow_y": null,
            "overflow_x": null,
            "grid_auto_flow": null,
            "grid_area": null,
            "grid_template_columns": null,
            "flex": null,
            "_model_name": "LayoutModel",
            "justify_items": null,
            "grid_row": null,
            "max_height": null,
            "align_content": null,
            "visibility": null,
            "align_self": null,
            "height": null,
            "min_height": null,
            "padding": null,
            "grid_auto_rows": null,
            "grid_gap": null,
            "max_width": null,
            "order": null,
            "_view_module_version": "1.2.0",
            "grid_template_areas": null,
            "object_position": null,
            "object_fit": null,
            "grid_auto_columns": null,
            "margin": null,
            "display": null,
            "left": null
          }
        },
        "13d319d596d84952b1c21ad3e8e458e4": {
          "model_module": "@jupyter-widgets/controls",
          "model_name": "HBoxModel",
          "state": {
            "_view_name": "HBoxView",
            "_dom_classes": [],
            "_model_name": "HBoxModel",
            "_view_module": "@jupyter-widgets/controls",
            "_model_module_version": "1.5.0",
            "_view_count": null,
            "_view_module_version": "1.5.0",
            "box_style": "",
            "layout": "IPY_MODEL_d7957788930c45748a9170f2a6a21cad",
            "_model_module": "@jupyter-widgets/controls",
            "children": [
              "IPY_MODEL_d0b691ecb70a4e8cac42ec7705957673",
              "IPY_MODEL_94b209c1338940969a23fdf0d3d08f01"
            ]
          }
        },
        "d7957788930c45748a9170f2a6a21cad": {
          "model_module": "@jupyter-widgets/base",
          "model_name": "LayoutModel",
          "state": {
            "_view_name": "LayoutView",
            "grid_template_rows": null,
            "right": null,
            "justify_content": null,
            "_view_module": "@jupyter-widgets/base",
            "overflow": null,
            "_model_module_version": "1.2.0",
            "_view_count": null,
            "flex_flow": null,
            "width": null,
            "min_width": null,
            "border": null,
            "align_items": null,
            "bottom": null,
            "_model_module": "@jupyter-widgets/base",
            "top": null,
            "grid_column": null,
            "overflow_y": null,
            "overflow_x": null,
            "grid_auto_flow": null,
            "grid_area": null,
            "grid_template_columns": null,
            "flex": null,
            "_model_name": "LayoutModel",
            "justify_items": null,
            "grid_row": null,
            "max_height": null,
            "align_content": null,
            "visibility": null,
            "align_self": null,
            "height": null,
            "min_height": null,
            "padding": null,
            "grid_auto_rows": null,
            "grid_gap": null,
            "max_width": null,
            "order": null,
            "_view_module_version": "1.2.0",
            "grid_template_areas": null,
            "object_position": null,
            "object_fit": null,
            "grid_auto_columns": null,
            "margin": null,
            "display": null,
            "left": null
          }
        },
        "d0b691ecb70a4e8cac42ec7705957673": {
          "model_module": "@jupyter-widgets/controls",
          "model_name": "FloatProgressModel",
          "state": {
            "_view_name": "ProgressView",
            "style": "IPY_MODEL_02af6fd15a54436e851b59ce4ac3a1f6",
            "_dom_classes": [],
            "description": "100%",
            "_model_name": "FloatProgressModel",
            "bar_style": "success",
            "max": 10,
            "_view_module": "@jupyter-widgets/controls",
            "_model_module_version": "1.5.0",
            "value": 10,
            "_view_count": null,
            "_view_module_version": "1.5.0",
            "orientation": "horizontal",
            "min": 0,
            "description_tooltip": null,
            "_model_module": "@jupyter-widgets/controls",
            "layout": "IPY_MODEL_900f355984c24738a2b0e4b60cf3789f"
          }
        },
        "94b209c1338940969a23fdf0d3d08f01": {
          "model_module": "@jupyter-widgets/controls",
          "model_name": "HTMLModel",
          "state": {
            "_view_name": "HTMLView",
            "style": "IPY_MODEL_3fca3ee8d66f47779bf68c7db5bf5672",
            "_dom_classes": [],
            "description": "",
            "_model_name": "HTMLModel",
            "placeholder": "​",
            "_view_module": "@jupyter-widgets/controls",
            "_model_module_version": "1.5.0",
            "value": " 10/10 [00:17&lt;00:00,  1.76s/it]",
            "_view_count": null,
            "_view_module_version": "1.5.0",
            "description_tooltip": null,
            "_model_module": "@jupyter-widgets/controls",
            "layout": "IPY_MODEL_d49ac35377d547c29979f2b0a10e4f3a"
          }
        },
        "02af6fd15a54436e851b59ce4ac3a1f6": {
          "model_module": "@jupyter-widgets/controls",
          "model_name": "ProgressStyleModel",
          "state": {
            "_view_name": "StyleView",
            "_model_name": "ProgressStyleModel",
            "description_width": "initial",
            "_view_module": "@jupyter-widgets/base",
            "_model_module_version": "1.5.0",
            "_view_count": null,
            "_view_module_version": "1.2.0",
            "bar_color": null,
            "_model_module": "@jupyter-widgets/controls"
          }
        },
        "900f355984c24738a2b0e4b60cf3789f": {
          "model_module": "@jupyter-widgets/base",
          "model_name": "LayoutModel",
          "state": {
            "_view_name": "LayoutView",
            "grid_template_rows": null,
            "right": null,
            "justify_content": null,
            "_view_module": "@jupyter-widgets/base",
            "overflow": null,
            "_model_module_version": "1.2.0",
            "_view_count": null,
            "flex_flow": null,
            "width": null,
            "min_width": null,
            "border": null,
            "align_items": null,
            "bottom": null,
            "_model_module": "@jupyter-widgets/base",
            "top": null,
            "grid_column": null,
            "overflow_y": null,
            "overflow_x": null,
            "grid_auto_flow": null,
            "grid_area": null,
            "grid_template_columns": null,
            "flex": null,
            "_model_name": "LayoutModel",
            "justify_items": null,
            "grid_row": null,
            "max_height": null,
            "align_content": null,
            "visibility": null,
            "align_self": null,
            "height": null,
            "min_height": null,
            "padding": null,
            "grid_auto_rows": null,
            "grid_gap": null,
            "max_width": null,
            "order": null,
            "_view_module_version": "1.2.0",
            "grid_template_areas": null,
            "object_position": null,
            "object_fit": null,
            "grid_auto_columns": null,
            "margin": null,
            "display": null,
            "left": null
          }
        },
        "3fca3ee8d66f47779bf68c7db5bf5672": {
          "model_module": "@jupyter-widgets/controls",
          "model_name": "DescriptionStyleModel",
          "state": {
            "_view_name": "StyleView",
            "_model_name": "DescriptionStyleModel",
            "description_width": "",
            "_view_module": "@jupyter-widgets/base",
            "_model_module_version": "1.5.0",
            "_view_count": null,
            "_view_module_version": "1.2.0",
            "_model_module": "@jupyter-widgets/controls"
          }
        },
        "d49ac35377d547c29979f2b0a10e4f3a": {
          "model_module": "@jupyter-widgets/base",
          "model_name": "LayoutModel",
          "state": {
            "_view_name": "LayoutView",
            "grid_template_rows": null,
            "right": null,
            "justify_content": null,
            "_view_module": "@jupyter-widgets/base",
            "overflow": null,
            "_model_module_version": "1.2.0",
            "_view_count": null,
            "flex_flow": null,
            "width": null,
            "min_width": null,
            "border": null,
            "align_items": null,
            "bottom": null,
            "_model_module": "@jupyter-widgets/base",
            "top": null,
            "grid_column": null,
            "overflow_y": null,
            "overflow_x": null,
            "grid_auto_flow": null,
            "grid_area": null,
            "grid_template_columns": null,
            "flex": null,
            "_model_name": "LayoutModel",
            "justify_items": null,
            "grid_row": null,
            "max_height": null,
            "align_content": null,
            "visibility": null,
            "align_self": null,
            "height": null,
            "min_height": null,
            "padding": null,
            "grid_auto_rows": null,
            "grid_gap": null,
            "max_width": null,
            "order": null,
            "_view_module_version": "1.2.0",
            "grid_template_areas": null,
            "object_position": null,
            "object_fit": null,
            "grid_auto_columns": null,
            "margin": null,
            "display": null,
            "left": null
          }
        }
      }
    }
  },
  "cells": [
    {
      "cell_type": "markdown",
      "metadata": {
        "id": "view-in-github",
        "colab_type": "text"
      },
      "source": [
        "<a href=\"https://colab.research.google.com/github/Hyewon-Git/2021_HUFS_NLP/blob/main/%ED%98%9C%EC%9B%90_NLP_06_01_text_similarity_%EA%B0%95%EC%9D%98.ipynb\" target=\"_parent\"><img src=\"https://colab.research.google.com/assets/colab-badge.svg\" alt=\"Open In Colab\"/></a>"
      ]
    },
    {
      "cell_type": "markdown",
      "metadata": {
        "id": "g78tzmjN3mzF"
      },
      "source": [
        "# 한글폰트 설치\n",
        "- 아래 실행후 '런터임 다시 시작' 하면 됩니다.\n",
        "- 메뉴에서 '런타임' >> '런타임 다시 시작'을 클릭하세요.\n",
        "- 런타임 다시 시작 후 다시 실행할 필요 없습니다."
      ]
    },
    {
      "cell_type": "code",
      "metadata": {
        "id": "Co97FHic3p0D",
        "colab": {
          "base_uri": "https://localhost:8080/"
        },
        "outputId": "89307af7-89cb-4160-ddf6-989ebd9c7649"
      },
      "source": [
        "# 폰트 설치\n",
        "!apt-get update -qq # 나눔고딕 설치\n",
        "!apt-get install fonts-nanum* -qq\n",
        "\n",
        "import matplotlib as mpl\n",
        "import matplotlib.pyplot as plt\n",
        "import matplotlib.font_manager as fm\n",
        "\n",
        "# 폰트 로딩\n",
        "fontpath = '/usr/share/fonts/truetype/nanum/NanumBarunGothic.ttf'\n",
        "font = fm.FontProperties(fname=fontpath, size=9)\n",
        "plt.rc('font', family='NanumBarunGothic') \n",
        "mpl.font_manager._rebuild()"
      ],
      "execution_count": 2,
      "outputs": [
        {
          "output_type": "stream",
          "text": [
            "Selecting previously unselected package fonts-nanum.\n",
            "(Reading database ... 146374 files and directories currently installed.)\n",
            "Preparing to unpack .../fonts-nanum_20170925-1_all.deb ...\n",
            "Unpacking fonts-nanum (20170925-1) ...\n",
            "Selecting previously unselected package fonts-nanum-eco.\n",
            "Preparing to unpack .../fonts-nanum-eco_1.000-6_all.deb ...\n",
            "Unpacking fonts-nanum-eco (1.000-6) ...\n",
            "Selecting previously unselected package fonts-nanum-extra.\n",
            "Preparing to unpack .../fonts-nanum-extra_20170925-1_all.deb ...\n",
            "Unpacking fonts-nanum-extra (20170925-1) ...\n",
            "Selecting previously unselected package fonts-nanum-coding.\n",
            "Preparing to unpack .../fonts-nanum-coding_2.5-1_all.deb ...\n",
            "Unpacking fonts-nanum-coding (2.5-1) ...\n",
            "Setting up fonts-nanum-extra (20170925-1) ...\n",
            "Setting up fonts-nanum (20170925-1) ...\n",
            "Setting up fonts-nanum-coding (2.5-1) ...\n",
            "Setting up fonts-nanum-eco (1.000-6) ...\n",
            "Processing triggers for fontconfig (2.12.6-0ubuntu2) ...\n"
          ],
          "name": "stdout"
        }
      ]
    },
    {
      "cell_type": "markdown",
      "metadata": {
        "id": "6dfJPT-2XMTB"
      },
      "source": [
        "# Install"
      ]
    },
    {
      "cell_type": "code",
      "metadata": {
        "id": "a193aGJWVaqb",
        "colab": {
          "base_uri": "https://localhost:8080/"
        },
        "outputId": "f6baa859-96d1-48a7-8470-9b869cff0816"
      },
      "source": [
        "!pip install sentencepiece"
      ],
      "execution_count": 1,
      "outputs": [
        {
          "output_type": "stream",
          "text": [
            "Collecting sentencepiece\n",
            "\u001b[?25l  Downloading https://files.pythonhosted.org/packages/14/67/e42bd1181472c95c8cda79305df848264f2a7f62740995a46945d9797b67/sentencepiece-0.1.95-cp36-cp36m-manylinux2014_x86_64.whl (1.2MB)\n",
            "\r\u001b[K     |▎                               | 10kB 23.6MB/s eta 0:00:01\r\u001b[K     |▌                               | 20kB 30.9MB/s eta 0:00:01\r\u001b[K     |▉                               | 30kB 19.7MB/s eta 0:00:01\r\u001b[K     |█                               | 40kB 23.6MB/s eta 0:00:01\r\u001b[K     |█▍                              | 51kB 22.4MB/s eta 0:00:01\r\u001b[K     |█▋                              | 61kB 16.5MB/s eta 0:00:01\r\u001b[K     |██                              | 71kB 16.6MB/s eta 0:00:01\r\u001b[K     |██▏                             | 81kB 18.0MB/s eta 0:00:01\r\u001b[K     |██▌                             | 92kB 17.0MB/s eta 0:00:01\r\u001b[K     |██▊                             | 102kB 16.7MB/s eta 0:00:01\r\u001b[K     |███                             | 112kB 16.7MB/s eta 0:00:01\r\u001b[K     |███▎                            | 122kB 16.7MB/s eta 0:00:01\r\u001b[K     |███▌                            | 133kB 16.7MB/s eta 0:00:01\r\u001b[K     |███▉                            | 143kB 16.7MB/s eta 0:00:01\r\u001b[K     |████                            | 153kB 16.7MB/s eta 0:00:01\r\u001b[K     |████▍                           | 163kB 16.7MB/s eta 0:00:01\r\u001b[K     |████▋                           | 174kB 16.7MB/s eta 0:00:01\r\u001b[K     |█████                           | 184kB 16.7MB/s eta 0:00:01\r\u001b[K     |█████▏                          | 194kB 16.7MB/s eta 0:00:01\r\u001b[K     |█████▌                          | 204kB 16.7MB/s eta 0:00:01\r\u001b[K     |█████▊                          | 215kB 16.7MB/s eta 0:00:01\r\u001b[K     |██████                          | 225kB 16.7MB/s eta 0:00:01\r\u001b[K     |██████▎                         | 235kB 16.7MB/s eta 0:00:01\r\u001b[K     |██████▌                         | 245kB 16.7MB/s eta 0:00:01\r\u001b[K     |██████▉                         | 256kB 16.7MB/s eta 0:00:01\r\u001b[K     |███████                         | 266kB 16.7MB/s eta 0:00:01\r\u001b[K     |███████▍                        | 276kB 16.7MB/s eta 0:00:01\r\u001b[K     |███████▋                        | 286kB 16.7MB/s eta 0:00:01\r\u001b[K     |████████                        | 296kB 16.7MB/s eta 0:00:01\r\u001b[K     |████████▏                       | 307kB 16.7MB/s eta 0:00:01\r\u001b[K     |████████▍                       | 317kB 16.7MB/s eta 0:00:01\r\u001b[K     |████████▊                       | 327kB 16.7MB/s eta 0:00:01\r\u001b[K     |█████████                       | 337kB 16.7MB/s eta 0:00:01\r\u001b[K     |█████████▎                      | 348kB 16.7MB/s eta 0:00:01\r\u001b[K     |█████████▌                      | 358kB 16.7MB/s eta 0:00:01\r\u001b[K     |█████████▉                      | 368kB 16.7MB/s eta 0:00:01\r\u001b[K     |██████████                      | 378kB 16.7MB/s eta 0:00:01\r\u001b[K     |██████████▍                     | 389kB 16.7MB/s eta 0:00:01\r\u001b[K     |██████████▋                     | 399kB 16.7MB/s eta 0:00:01\r\u001b[K     |███████████                     | 409kB 16.7MB/s eta 0:00:01\r\u001b[K     |███████████▏                    | 419kB 16.7MB/s eta 0:00:01\r\u001b[K     |███████████▍                    | 430kB 16.7MB/s eta 0:00:01\r\u001b[K     |███████████▊                    | 440kB 16.7MB/s eta 0:00:01\r\u001b[K     |████████████                    | 450kB 16.7MB/s eta 0:00:01\r\u001b[K     |████████████▎                   | 460kB 16.7MB/s eta 0:00:01\r\u001b[K     |████████████▌                   | 471kB 16.7MB/s eta 0:00:01\r\u001b[K     |████████████▉                   | 481kB 16.7MB/s eta 0:00:01\r\u001b[K     |█████████████                   | 491kB 16.7MB/s eta 0:00:01\r\u001b[K     |█████████████▍                  | 501kB 16.7MB/s eta 0:00:01\r\u001b[K     |█████████████▋                  | 512kB 16.7MB/s eta 0:00:01\r\u001b[K     |█████████████▉                  | 522kB 16.7MB/s eta 0:00:01\r\u001b[K     |██████████████▏                 | 532kB 16.7MB/s eta 0:00:01\r\u001b[K     |██████████████▍                 | 542kB 16.7MB/s eta 0:00:01\r\u001b[K     |██████████████▊                 | 552kB 16.7MB/s eta 0:00:01\r\u001b[K     |███████████████                 | 563kB 16.7MB/s eta 0:00:01\r\u001b[K     |███████████████▎                | 573kB 16.7MB/s eta 0:00:01\r\u001b[K     |███████████████▌                | 583kB 16.7MB/s eta 0:00:01\r\u001b[K     |███████████████▉                | 593kB 16.7MB/s eta 0:00:01\r\u001b[K     |████████████████                | 604kB 16.7MB/s eta 0:00:01\r\u001b[K     |████████████████▍               | 614kB 16.7MB/s eta 0:00:01\r\u001b[K     |████████████████▋               | 624kB 16.7MB/s eta 0:00:01\r\u001b[K     |████████████████▉               | 634kB 16.7MB/s eta 0:00:01\r\u001b[K     |█████████████████▏              | 645kB 16.7MB/s eta 0:00:01\r\u001b[K     |█████████████████▍              | 655kB 16.7MB/s eta 0:00:01\r\u001b[K     |█████████████████▊              | 665kB 16.7MB/s eta 0:00:01\r\u001b[K     |██████████████████              | 675kB 16.7MB/s eta 0:00:01\r\u001b[K     |██████████████████▎             | 686kB 16.7MB/s eta 0:00:01\r\u001b[K     |██████████████████▌             | 696kB 16.7MB/s eta 0:00:01\r\u001b[K     |██████████████████▉             | 706kB 16.7MB/s eta 0:00:01\r\u001b[K     |███████████████████             | 716kB 16.7MB/s eta 0:00:01\r\u001b[K     |███████████████████▎            | 727kB 16.7MB/s eta 0:00:01\r\u001b[K     |███████████████████▋            | 737kB 16.7MB/s eta 0:00:01\r\u001b[K     |███████████████████▉            | 747kB 16.7MB/s eta 0:00:01\r\u001b[K     |████████████████████▏           | 757kB 16.7MB/s eta 0:00:01\r\u001b[K     |████████████████████▍           | 768kB 16.7MB/s eta 0:00:01\r\u001b[K     |████████████████████▊           | 778kB 16.7MB/s eta 0:00:01\r\u001b[K     |█████████████████████           | 788kB 16.7MB/s eta 0:00:01\r\u001b[K     |█████████████████████▎          | 798kB 16.7MB/s eta 0:00:01\r\u001b[K     |█████████████████████▌          | 808kB 16.7MB/s eta 0:00:01\r\u001b[K     |█████████████████████▉          | 819kB 16.7MB/s eta 0:00:01\r\u001b[K     |██████████████████████          | 829kB 16.7MB/s eta 0:00:01\r\u001b[K     |██████████████████████▎         | 839kB 16.7MB/s eta 0:00:01\r\u001b[K     |██████████████████████▋         | 849kB 16.7MB/s eta 0:00:01\r\u001b[K     |██████████████████████▉         | 860kB 16.7MB/s eta 0:00:01\r\u001b[K     |███████████████████████▏        | 870kB 16.7MB/s eta 0:00:01\r\u001b[K     |███████████████████████▍        | 880kB 16.7MB/s eta 0:00:01\r\u001b[K     |███████████████████████▊        | 890kB 16.7MB/s eta 0:00:01\r\u001b[K     |████████████████████████        | 901kB 16.7MB/s eta 0:00:01\r\u001b[K     |████████████████████████▎       | 911kB 16.7MB/s eta 0:00:01\r\u001b[K     |████████████████████████▌       | 921kB 16.7MB/s eta 0:00:01\r\u001b[K     |████████████████████████▊       | 931kB 16.7MB/s eta 0:00:01\r\u001b[K     |█████████████████████████       | 942kB 16.7MB/s eta 0:00:01\r\u001b[K     |█████████████████████████▎      | 952kB 16.7MB/s eta 0:00:01\r\u001b[K     |█████████████████████████▋      | 962kB 16.7MB/s eta 0:00:01\r\u001b[K     |█████████████████████████▉      | 972kB 16.7MB/s eta 0:00:01\r\u001b[K     |██████████████████████████▏     | 983kB 16.7MB/s eta 0:00:01\r\u001b[K     |██████████████████████████▍     | 993kB 16.7MB/s eta 0:00:01\r\u001b[K     |██████████████████████████▊     | 1.0MB 16.7MB/s eta 0:00:01\r\u001b[K     |███████████████████████████     | 1.0MB 16.7MB/s eta 0:00:01\r\u001b[K     |███████████████████████████▎    | 1.0MB 16.7MB/s eta 0:00:01\r\u001b[K     |███████████████████████████▌    | 1.0MB 16.7MB/s eta 0:00:01\r\u001b[K     |███████████████████████████▊    | 1.0MB 16.7MB/s eta 0:00:01\r\u001b[K     |████████████████████████████    | 1.1MB 16.7MB/s eta 0:00:01\r\u001b[K     |████████████████████████████▎   | 1.1MB 16.7MB/s eta 0:00:01\r\u001b[K     |████████████████████████████▋   | 1.1MB 16.7MB/s eta 0:00:01\r\u001b[K     |████████████████████████████▉   | 1.1MB 16.7MB/s eta 0:00:01\r\u001b[K     |█████████████████████████████▏  | 1.1MB 16.7MB/s eta 0:00:01\r\u001b[K     |█████████████████████████████▍  | 1.1MB 16.7MB/s eta 0:00:01\r\u001b[K     |█████████████████████████████▊  | 1.1MB 16.7MB/s eta 0:00:01\r\u001b[K     |██████████████████████████████  | 1.1MB 16.7MB/s eta 0:00:01\r\u001b[K     |██████████████████████████████▏ | 1.1MB 16.7MB/s eta 0:00:01\r\u001b[K     |██████████████████████████████▌ | 1.1MB 16.7MB/s eta 0:00:01\r\u001b[K     |██████████████████████████████▊ | 1.2MB 16.7MB/s eta 0:00:01\r\u001b[K     |███████████████████████████████ | 1.2MB 16.7MB/s eta 0:00:01\r\u001b[K     |███████████████████████████████▎| 1.2MB 16.7MB/s eta 0:00:01\r\u001b[K     |███████████████████████████████▋| 1.2MB 16.7MB/s eta 0:00:01\r\u001b[K     |███████████████████████████████▉| 1.2MB 16.7MB/s eta 0:00:01\r\u001b[K     |████████████████████████████████| 1.2MB 16.7MB/s \n",
            "\u001b[?25hInstalling collected packages: sentencepiece\n",
            "Successfully installed sentencepiece-0.1.95\n"
          ],
          "name": "stdout"
        }
      ]
    },
    {
      "cell_type": "markdown",
      "metadata": {
        "id": "JHkHg6XAXoyK"
      },
      "source": [
        "# Evn"
      ]
    },
    {
      "cell_type": "code",
      "metadata": {
        "id": "WkYXFwcBXJDG"
      },
      "source": [
        "import os\n",
        "import random\n",
        "import shutil\n",
        "import json\n",
        "import zipfile\n",
        "import math\n",
        "import copy\n",
        "import collections\n",
        "import re\n",
        "\n",
        "import matplotlib.pyplot as plt\n",
        "import seaborn as sns\n",
        "from wordcloud import WordCloud\n",
        "import pandas as pd\n",
        "import numpy as np\n",
        "import sentencepiece as spm\n",
        "import tensorflow as tf\n",
        "import tensorflow.keras.backend as K\n",
        "\n",
        "from tqdm.notebook import tqdm"
      ],
      "execution_count": 2,
      "outputs": []
    },
    {
      "cell_type": "code",
      "metadata": {
        "id": "nvjyruUlXtlR"
      },
      "source": [
        "# random seed initialize\n",
        "random_seed = 1234\n",
        "random.seed(random_seed)\n",
        "np.random.seed(random_seed)\n",
        "tf.random.set_seed(random_seed)"
      ],
      "execution_count": 3,
      "outputs": []
    },
    {
      "cell_type": "code",
      "metadata": {
        "id": "BC3fXkhdYcYt",
        "colab": {
          "base_uri": "https://localhost:8080/"
        },
        "outputId": "1486df31-3e73-4f5b-bbe9-01bbbcd6a11e"
      },
      "source": [
        "!nvidia-smi"
      ],
      "execution_count": 4,
      "outputs": [
        {
          "output_type": "stream",
          "text": [
            "Mon Feb  1 01:52:35 2021       \n",
            "+-----------------------------------------------------------------------------+\n",
            "| NVIDIA-SMI 460.32.03    Driver Version: 418.67       CUDA Version: 10.1     |\n",
            "|-------------------------------+----------------------+----------------------+\n",
            "| GPU  Name        Persistence-M| Bus-Id        Disp.A | Volatile Uncorr. ECC |\n",
            "| Fan  Temp  Perf  Pwr:Usage/Cap|         Memory-Usage | GPU-Util  Compute M. |\n",
            "|                               |                      |               MIG M. |\n",
            "|===============================+======================+======================|\n",
            "|   0  Tesla T4            Off  | 00000000:00:04.0 Off |                    0 |\n",
            "| N/A   44C    P8     9W /  70W |      0MiB / 15079MiB |      0%      Default |\n",
            "|                               |                      |                 ERR! |\n",
            "+-------------------------------+----------------------+----------------------+\n",
            "                                                                               \n",
            "+-----------------------------------------------------------------------------+\n",
            "| Processes:                                                                  |\n",
            "|  GPU   GI   CI        PID   Type   Process name                  GPU Memory |\n",
            "|        ID   ID                                                   Usage      |\n",
            "|=============================================================================|\n",
            "|  No running processes found                                                 |\n",
            "+-----------------------------------------------------------------------------+\n"
          ],
          "name": "stdout"
        }
      ]
    },
    {
      "cell_type": "code",
      "metadata": {
        "id": "xVRdxYReYeQj",
        "colab": {
          "base_uri": "https://localhost:8080/"
        },
        "outputId": "cec0a07a-5b0a-4761-c061-f4358f9d01e9"
      },
      "source": [
        "# google drive mount\n",
        "from google.colab import drive\n",
        "drive.mount('/content/drive')"
      ],
      "execution_count": 5,
      "outputs": [
        {
          "output_type": "stream",
          "text": [
            "Mounted at /content/drive\n"
          ],
          "name": "stdout"
        }
      ]
    },
    {
      "cell_type": "code",
      "metadata": {
        "id": "byCIiLJBbFHh",
        "colab": {
          "base_uri": "https://localhost:8080/"
        },
        "outputId": "096a6d7b-1850-4f4c-f58b-a5a70e812cfb"
      },
      "source": [
        "# data dir\n",
        "data_dir = '/content/drive/MyDrive/Colab Notebooks/2021-HUFS-NLP/data'\n",
        "os.listdir(data_dir)"
      ],
      "execution_count": 7,
      "outputs": [
        {
          "output_type": "execute_result",
          "data": {
            "text/plain": [
              "['ko_32000.model', 'ko_32000.vocab', 'kowiki', 'kowiki2', 'nsmc']"
            ]
          },
          "metadata": {
            "tags": []
          },
          "execution_count": 7
        }
      ]
    },
    {
      "cell_type": "code",
      "metadata": {
        "id": "_Ru56YS3-SME",
        "colab": {
          "base_uri": "https://localhost:8080/"
        },
        "outputId": "01e424fd-aee3-495e-cbc8-1dfb1695077a"
      },
      "source": [
        "# quora dir\n",
        "quora_dir = os.path.join(data_dir, 'quora')\n",
        "if not os.path.exists(quora_dir):\n",
        "    os.makedirs(quora_dir)\n",
        "os.listdir(quora_dir)"
      ],
      "execution_count": 8,
      "outputs": [
        {
          "output_type": "execute_result",
          "data": {
            "text/plain": [
              "[]"
            ]
          },
          "metadata": {
            "tags": []
          },
          "execution_count": 8
        }
      ]
    },
    {
      "cell_type": "markdown",
      "metadata": {
        "id": "XwriCkq_R1Lc"
      },
      "source": [
        "# Vocabulary & config"
      ]
    },
    {
      "cell_type": "code",
      "metadata": {
        "id": "2H0BLydCb7lg",
        "colab": {
          "base_uri": "https://localhost:8080/"
        },
        "outputId": "5de26850-cb56-4594-8762-a55b0163e18e"
      },
      "source": [
        "# vocab loading\n",
        "vocab = spm.SentencePieceProcessor()\n",
        "vocab.load(os.path.join(data_dir, 'ko_32000.model'))"
      ],
      "execution_count": 9,
      "outputs": [
        {
          "output_type": "execute_result",
          "data": {
            "text/plain": [
              "True"
            ]
          },
          "metadata": {
            "tags": []
          },
          "execution_count": 9
        }
      ]
    },
    {
      "cell_type": "code",
      "metadata": {
        "id": "0ETZ19flTRmt"
      },
      "source": [
        "n_vocab = len(vocab)  # number of vocabulary\n",
        "# sentecne1과 2의 길이를 다르게함!! 같게해도상관없는데 보기 쉽게하기위해!!\n",
        "n_seq_1 = 26  # number of sequence 1\n",
        "n_seq_2 = 27  # number of sequence 2\n",
        "d_model = 256  # dimension of model\n",
        "n_out = 2  # number of output class"
      ],
      "execution_count": 10,
      "outputs": []
    },
    {
      "cell_type": "markdown",
      "metadata": {
        "id": "fsRvlzDzSX9e"
      },
      "source": [
        "# 다운로드\n",
        "- https://github.com/songys/Question_pair"
      ]
    },
    {
      "cell_type": "code",
      "metadata": {
        "id": "BEBQj0AFSXOH",
        "colab": {
          "base_uri": "https://localhost:8080/"
        },
        "outputId": "74fa878f-6e7c-4e94-eb58-0418227af2f4"
      },
      "source": [
        "!wget https://raw.githubusercontent.com/songys/Question_pair/master/kor_pair_train.csv\n",
        "!wget https://raw.githubusercontent.com/songys/Question_pair/master/kor_Pair_test.csv"
      ],
      "execution_count": 11,
      "outputs": [
        {
          "output_type": "stream",
          "text": [
            "--2021-02-01 01:53:45--  https://raw.githubusercontent.com/songys/Question_pair/master/kor_pair_train.csv\n",
            "Resolving raw.githubusercontent.com (raw.githubusercontent.com)... 151.101.0.133, 151.101.64.133, 151.101.128.133, ...\n",
            "Connecting to raw.githubusercontent.com (raw.githubusercontent.com)|151.101.0.133|:443... connected.\n",
            "HTTP request sent, awaiting response... 200 OK\n",
            "Length: 608164 (594K) [text/plain]\n",
            "Saving to: ‘kor_pair_train.csv’\n",
            "\n",
            "\rkor_pair_train.csv    0%[                    ]       0  --.-KB/s               \rkor_pair_train.csv  100%[===================>] 593.91K  --.-KB/s    in 0.01s   \n",
            "\n",
            "2021-02-01 01:53:45 (50.0 MB/s) - ‘kor_pair_train.csv’ saved [608164/608164]\n",
            "\n",
            "--2021-02-01 01:53:45--  https://raw.githubusercontent.com/songys/Question_pair/master/kor_Pair_test.csv\n",
            "Resolving raw.githubusercontent.com (raw.githubusercontent.com)... 151.101.0.133, 151.101.64.133, 151.101.128.133, ...\n",
            "Connecting to raw.githubusercontent.com (raw.githubusercontent.com)|151.101.0.133|:443... connected.\n",
            "HTTP request sent, awaiting response... 200 OK\n",
            "Length: 52943 (52K) [text/plain]\n",
            "Saving to: ‘kor_Pair_test.csv’\n",
            "\n",
            "kor_Pair_test.csv   100%[===================>]  51.70K  --.-KB/s    in 0.001s  \n",
            "\n",
            "2021-02-01 01:53:45 (37.7 MB/s) - ‘kor_Pair_test.csv’ saved [52943/52943]\n",
            "\n"
          ],
          "name": "stdout"
        }
      ]
    },
    {
      "cell_type": "code",
      "metadata": {
        "id": "_L3k4qr5SaVb",
        "colab": {
          "base_uri": "https://localhost:8080/"
        },
        "outputId": "a2101fda-44e6-4951-bb1b-e69faa4f380b"
      },
      "source": [
        "shutil.move('kor_pair_train.csv', os.path.join(quora_dir, 'kor_pair_train.csv'))\n",
        "shutil.move('kor_Pair_test.csv', os.path.join(quora_dir, 'kor_Pair_test.csv'))\n",
        "os.listdir(quora_dir)"
      ],
      "execution_count": 12,
      "outputs": [
        {
          "output_type": "execute_result",
          "data": {
            "text/plain": [
              "['kor_pair_train.csv', 'kor_Pair_test.csv']"
            ]
          },
          "metadata": {
            "tags": []
          },
          "execution_count": 12
        }
      ]
    },
    {
      "cell_type": "markdown",
      "metadata": {
        "id": "MXrWvdLuhVIu"
      },
      "source": [
        "# 데이터 분석"
      ]
    },
    {
      "cell_type": "code",
      "metadata": {
        "id": "MhP07wT3hXoN",
        "colab": {
          "base_uri": "https://localhost:8080/",
          "height": 470
        },
        "outputId": "61e8ecaa-ba4d-4d58-d062-fda3852277cb"
      },
      "source": [
        "# train data load\n",
        "df_train = pd.read_csv(os.path.join(quora_dir, 'kor_pair_train.csv'), delimiter=',')\n",
        "df_train"
      ],
      "execution_count": 13,
      "outputs": [
        {
          "output_type": "execute_result",
          "data": {
            "text/html": [
              "<div>\n",
              "<style scoped>\n",
              "    .dataframe tbody tr th:only-of-type {\n",
              "        vertical-align: middle;\n",
              "    }\n",
              "\n",
              "    .dataframe tbody tr th {\n",
              "        vertical-align: top;\n",
              "    }\n",
              "\n",
              "    .dataframe thead th {\n",
              "        text-align: right;\n",
              "    }\n",
              "</style>\n",
              "<table border=\"1\" class=\"dataframe\">\n",
              "  <thead>\n",
              "    <tr style=\"text-align: right;\">\n",
              "      <th></th>\n",
              "      <th>id</th>\n",
              "      <th>qid1</th>\n",
              "      <th>qid2</th>\n",
              "      <th>question1</th>\n",
              "      <th>question2</th>\n",
              "      <th>is_duplicate</th>\n",
              "    </tr>\n",
              "  </thead>\n",
              "  <tbody>\n",
              "    <tr>\n",
              "      <th>0</th>\n",
              "      <td>1</td>\n",
              "      <td>1</td>\n",
              "      <td>2</td>\n",
              "      <td>1000일 만난 여자친구와 이별</td>\n",
              "      <td>10년 연예의끝</td>\n",
              "      <td>1</td>\n",
              "    </tr>\n",
              "    <tr>\n",
              "      <th>1</th>\n",
              "      <td>2</td>\n",
              "      <td>3</td>\n",
              "      <td>4</td>\n",
              "      <td>10년 연애사 되돌아보니 다 부질없네</td>\n",
              "      <td>10년이라는 시간이 참 무색하다 싶네</td>\n",
              "      <td>1</td>\n",
              "    </tr>\n",
              "    <tr>\n",
              "      <th>2</th>\n",
              "      <td>3</td>\n",
              "      <td>5</td>\n",
              "      <td>6</td>\n",
              "      <td>10년만나다 헤어지네</td>\n",
              "      <td>14년된 여자친구랑 이별</td>\n",
              "      <td>1</td>\n",
              "    </tr>\n",
              "    <tr>\n",
              "      <th>3</th>\n",
              "      <td>4</td>\n",
              "      <td>7</td>\n",
              "      <td>8</td>\n",
              "      <td>10월의 마지막밤 . 더 보고싶네 그사람</td>\n",
              "      <td>15년…안녕</td>\n",
              "      <td>1</td>\n",
              "    </tr>\n",
              "    <tr>\n",
              "      <th>4</th>\n",
              "      <td>5</td>\n",
              "      <td>9</td>\n",
              "      <td>10</td>\n",
              "      <td>14년의 기나긴 이야기.</td>\n",
              "      <td>1년 9개월 의 연애 종지부.</td>\n",
              "      <td>1</td>\n",
              "    </tr>\n",
              "    <tr>\n",
              "      <th>...</th>\n",
              "      <td>...</td>\n",
              "      <td>...</td>\n",
              "      <td>...</td>\n",
              "      <td>...</td>\n",
              "      <td>...</td>\n",
              "      <td>...</td>\n",
              "    </tr>\n",
              "    <tr>\n",
              "      <th>6883</th>\n",
              "      <td>6884</td>\n",
              "      <td>13767</td>\n",
              "      <td>13768</td>\n",
              "      <td>O형 남자와 썸을 타는데</td>\n",
              "      <td>O형 여자와 썸을 타는데</td>\n",
              "      <td>1</td>\n",
              "    </tr>\n",
              "    <tr>\n",
              "      <th>6884</th>\n",
              "      <td>6885</td>\n",
              "      <td>13769</td>\n",
              "      <td>13770</td>\n",
              "      <td>SD카드 안돼</td>\n",
              "      <td>SD카드 망가졌어</td>\n",
              "      <td>0</td>\n",
              "    </tr>\n",
              "    <tr>\n",
              "      <th>6885</th>\n",
              "      <td>6886</td>\n",
              "      <td>13771</td>\n",
              "      <td>13772</td>\n",
              "      <td>SNS 를 끊어야 하는데.</td>\n",
              "      <td>가슴 아픈 이별</td>\n",
              "      <td>1</td>\n",
              "    </tr>\n",
              "    <tr>\n",
              "      <th>6886</th>\n",
              "      <td>6887</td>\n",
              "      <td>13773</td>\n",
              "      <td>13774</td>\n",
              "      <td>SNS 시간낭비인데 자꾸 보게됨</td>\n",
              "      <td>SNS 시간낭비인 거 아는데 매일 하는 중</td>\n",
              "      <td>0</td>\n",
              "    </tr>\n",
              "    <tr>\n",
              "      <th>6887</th>\n",
              "      <td>6888</td>\n",
              "      <td>13775</td>\n",
              "      <td>13776</td>\n",
              "      <td>sns에서 다른 이성이랑 대화하는걸 보니 화가 나</td>\n",
              "      <td>가슴에 구멍이 너무 커.</td>\n",
              "      <td>1</td>\n",
              "    </tr>\n",
              "  </tbody>\n",
              "</table>\n",
              "<p>6888 rows × 6 columns</p>\n",
              "</div>"
            ],
            "text/plain": [
              "        id   qid1  ...                question2 is_duplicate\n",
              "0        1      1  ...                 10년 연예의끝            1\n",
              "1        2      3  ...     10년이라는 시간이 참 무색하다 싶네            1\n",
              "2        3      5  ...            14년된 여자친구랑 이별            1\n",
              "3        4      7  ...                   15년…안녕            1\n",
              "4        5      9  ...         1년 9개월 의 연애 종지부.            1\n",
              "...    ...    ...  ...                      ...          ...\n",
              "6883  6884  13767  ...            O형 여자와 썸을 타는데            1\n",
              "6884  6885  13769  ...                SD카드 망가졌어            0\n",
              "6885  6886  13771  ...                 가슴 아픈 이별            1\n",
              "6886  6887  13773  ...  SNS 시간낭비인 거 아는데 매일 하는 중            0\n",
              "6887  6888  13775  ...            가슴에 구멍이 너무 커.            1\n",
              "\n",
              "[6888 rows x 6 columns]"
            ]
          },
          "metadata": {
            "tags": []
          },
          "execution_count": 13
        }
      ]
    },
    {
      "cell_type": "code",
      "metadata": {
        "id": "f0aL5Ve6iVbk",
        "colab": {
          "base_uri": "https://localhost:8080/",
          "height": 470
        },
        "outputId": "16f32a8e-6567-4fe7-e53a-6ef708fd71f7"
      },
      "source": [
        "# train null 데이터 제거\n",
        "df_train = df_train.dropna()\n",
        "df_train"
      ],
      "execution_count": 14,
      "outputs": [
        {
          "output_type": "execute_result",
          "data": {
            "text/html": [
              "<div>\n",
              "<style scoped>\n",
              "    .dataframe tbody tr th:only-of-type {\n",
              "        vertical-align: middle;\n",
              "    }\n",
              "\n",
              "    .dataframe tbody tr th {\n",
              "        vertical-align: top;\n",
              "    }\n",
              "\n",
              "    .dataframe thead th {\n",
              "        text-align: right;\n",
              "    }\n",
              "</style>\n",
              "<table border=\"1\" class=\"dataframe\">\n",
              "  <thead>\n",
              "    <tr style=\"text-align: right;\">\n",
              "      <th></th>\n",
              "      <th>id</th>\n",
              "      <th>qid1</th>\n",
              "      <th>qid2</th>\n",
              "      <th>question1</th>\n",
              "      <th>question2</th>\n",
              "      <th>is_duplicate</th>\n",
              "    </tr>\n",
              "  </thead>\n",
              "  <tbody>\n",
              "    <tr>\n",
              "      <th>0</th>\n",
              "      <td>1</td>\n",
              "      <td>1</td>\n",
              "      <td>2</td>\n",
              "      <td>1000일 만난 여자친구와 이별</td>\n",
              "      <td>10년 연예의끝</td>\n",
              "      <td>1</td>\n",
              "    </tr>\n",
              "    <tr>\n",
              "      <th>1</th>\n",
              "      <td>2</td>\n",
              "      <td>3</td>\n",
              "      <td>4</td>\n",
              "      <td>10년 연애사 되돌아보니 다 부질없네</td>\n",
              "      <td>10년이라는 시간이 참 무색하다 싶네</td>\n",
              "      <td>1</td>\n",
              "    </tr>\n",
              "    <tr>\n",
              "      <th>2</th>\n",
              "      <td>3</td>\n",
              "      <td>5</td>\n",
              "      <td>6</td>\n",
              "      <td>10년만나다 헤어지네</td>\n",
              "      <td>14년된 여자친구랑 이별</td>\n",
              "      <td>1</td>\n",
              "    </tr>\n",
              "    <tr>\n",
              "      <th>3</th>\n",
              "      <td>4</td>\n",
              "      <td>7</td>\n",
              "      <td>8</td>\n",
              "      <td>10월의 마지막밤 . 더 보고싶네 그사람</td>\n",
              "      <td>15년…안녕</td>\n",
              "      <td>1</td>\n",
              "    </tr>\n",
              "    <tr>\n",
              "      <th>4</th>\n",
              "      <td>5</td>\n",
              "      <td>9</td>\n",
              "      <td>10</td>\n",
              "      <td>14년의 기나긴 이야기.</td>\n",
              "      <td>1년 9개월 의 연애 종지부.</td>\n",
              "      <td>1</td>\n",
              "    </tr>\n",
              "    <tr>\n",
              "      <th>...</th>\n",
              "      <td>...</td>\n",
              "      <td>...</td>\n",
              "      <td>...</td>\n",
              "      <td>...</td>\n",
              "      <td>...</td>\n",
              "      <td>...</td>\n",
              "    </tr>\n",
              "    <tr>\n",
              "      <th>6883</th>\n",
              "      <td>6884</td>\n",
              "      <td>13767</td>\n",
              "      <td>13768</td>\n",
              "      <td>O형 남자와 썸을 타는데</td>\n",
              "      <td>O형 여자와 썸을 타는데</td>\n",
              "      <td>1</td>\n",
              "    </tr>\n",
              "    <tr>\n",
              "      <th>6884</th>\n",
              "      <td>6885</td>\n",
              "      <td>13769</td>\n",
              "      <td>13770</td>\n",
              "      <td>SD카드 안돼</td>\n",
              "      <td>SD카드 망가졌어</td>\n",
              "      <td>0</td>\n",
              "    </tr>\n",
              "    <tr>\n",
              "      <th>6885</th>\n",
              "      <td>6886</td>\n",
              "      <td>13771</td>\n",
              "      <td>13772</td>\n",
              "      <td>SNS 를 끊어야 하는데.</td>\n",
              "      <td>가슴 아픈 이별</td>\n",
              "      <td>1</td>\n",
              "    </tr>\n",
              "    <tr>\n",
              "      <th>6886</th>\n",
              "      <td>6887</td>\n",
              "      <td>13773</td>\n",
              "      <td>13774</td>\n",
              "      <td>SNS 시간낭비인데 자꾸 보게됨</td>\n",
              "      <td>SNS 시간낭비인 거 아는데 매일 하는 중</td>\n",
              "      <td>0</td>\n",
              "    </tr>\n",
              "    <tr>\n",
              "      <th>6887</th>\n",
              "      <td>6888</td>\n",
              "      <td>13775</td>\n",
              "      <td>13776</td>\n",
              "      <td>sns에서 다른 이성이랑 대화하는걸 보니 화가 나</td>\n",
              "      <td>가슴에 구멍이 너무 커.</td>\n",
              "      <td>1</td>\n",
              "    </tr>\n",
              "  </tbody>\n",
              "</table>\n",
              "<p>6888 rows × 6 columns</p>\n",
              "</div>"
            ],
            "text/plain": [
              "        id   qid1  ...                question2 is_duplicate\n",
              "0        1      1  ...                 10년 연예의끝            1\n",
              "1        2      3  ...     10년이라는 시간이 참 무색하다 싶네            1\n",
              "2        3      5  ...            14년된 여자친구랑 이별            1\n",
              "3        4      7  ...                   15년…안녕            1\n",
              "4        5      9  ...         1년 9개월 의 연애 종지부.            1\n",
              "...    ...    ...  ...                      ...          ...\n",
              "6883  6884  13767  ...            O형 여자와 썸을 타는데            1\n",
              "6884  6885  13769  ...                SD카드 망가졌어            0\n",
              "6885  6886  13771  ...                 가슴 아픈 이별            1\n",
              "6886  6887  13773  ...  SNS 시간낭비인 거 아는데 매일 하는 중            0\n",
              "6887  6888  13775  ...            가슴에 구멍이 너무 커.            1\n",
              "\n",
              "[6888 rows x 6 columns]"
            ]
          },
          "metadata": {
            "tags": []
          },
          "execution_count": 14
        }
      ]
    },
    {
      "cell_type": "markdown",
      "metadata": {
        "id": "iCtHjN1jiPBl"
      },
      "source": [
        "## Char"
      ]
    },
    {
      "cell_type": "markdown",
      "metadata": {
        "id": "8BJA69lTf6_P"
      },
      "source": [
        "### question1"
      ]
    },
    {
      "cell_type": "code",
      "metadata": {
        "colab": {
          "base_uri": "https://localhost:8080/"
        },
        "id": "WHtRNTBoiOck",
        "outputId": "32f12947-bc98-4ec4-cf13-8c79c1971f49"
      },
      "source": [
        "# char 길이 데이터\n",
        "char_len = df_train['question1'].astype(\"str\").apply(len)\n",
        "char_len.head(10)"
      ],
      "execution_count": 15,
      "outputs": [
        {
          "output_type": "execute_result",
          "data": {
            "text/plain": [
              "0    17\n",
              "1    20\n",
              "2    11\n",
              "3    22\n",
              "4    13\n",
              "5    12\n",
              "6     5\n",
              "7    11\n",
              "8    14\n",
              "9    20\n",
              "Name: question1, dtype: int64"
            ]
          },
          "metadata": {
            "tags": []
          },
          "execution_count": 15
        }
      ]
    },
    {
      "cell_type": "code",
      "metadata": {
        "colab": {
          "base_uri": "https://localhost:8080/",
          "height": 295
        },
        "id": "1hFnO7mOikBU",
        "outputId": "cb2e0170-17a4-4e74-cc7e-64b5e1c0bb32"
      },
      "source": [
        "# 그래프에 대한 이미지 사이즈 선언\n",
        "# figsize: (가로, 세로) 형태의 튜플로 입력\n",
        "plt.figure(figsize=(8, 4))\n",
        "# histogram 선언\n",
        "# bins: 히스토그램 값들에 대한 버켓 범위, \n",
        "# range: x축 값의 범위\n",
        "# facecolor: 그래프 색상\n",
        "# label: 그래프에 대한 라벨\n",
        "plt.hist(char_len, bins=60, range=[0, 60], facecolor='r', label='train')\n",
        "# 그래프 제목\n",
        "plt.title('Lengh of char')\n",
        "# 그래프 x 축 라벨\n",
        "plt.xlabel('Number of char')\n",
        "# 그래프 y 축 라벨\n",
        "plt.ylabel('Count of review')\n",
        "plt.show()"
      ],
      "execution_count": 16,
      "outputs": [
        {
          "output_type": "display_data",
          "data": {
            "image/png": "[encoded data removed]",
            "text/plain": [
              "<Figure size 576x288 with 1 Axes>"
            ]
          },
          "metadata": {
            "tags": [],
            "needs_background": "light"
          }
        }
      ]
    },
    {
      "cell_type": "code",
      "metadata": {
        "colab": {
          "base_uri": "https://localhost:8080/"
        },
        "id": "sOyYWAgWipKs",
        "outputId": "ddba5320-7b24-4e42-e3ec-4a3f2844dc5d"
      },
      "source": [
        "# 데이터 길이\n",
        "print(f\"char 길이 최대:    {np.max(char_len):4d}\")\n",
        "print(f\"char 길이 최소:    {np.min(char_len):4d}\")\n",
        "print(f\"char 길이 평균:    {np.mean(char_len):7.2f}\")\n",
        "print(f\"char 길이 표준편차: {np.std(char_len):7.2f}\")\n",
        "# https://ko.wikipedia.org/wiki/%EB%B0%B1%EB%B6%84%EC%9C%84%EC%88%98\n",
        "# 백분위수(Percentile)는 크기가 있는 값들로 이뤄진 자료를 순서대로 나열했을 때 백분율로 나타낸 특정 위치의 값을 이르는 용어이다.\n",
        "# 일반적으로 크기가 작은 것부터 나열하여 가장 작은 것을 0, 가장 큰 것을 100으로 한다.\n",
        "# 100개의 값을 가진 어떤 자료의 20 백분위수는 그 자료의 값들 중 20번째로 작은 값을 뜻한다. 50 백분위수는 중앙값과 같다.\n",
        "percentile25 = np.percentile(char_len, 25)\n",
        "percentile50 = np.percentile(char_len, 50)\n",
        "percentile75 = np.percentile(char_len, 75)\n",
        "percentileIQR = percentile75 - percentile25\n",
        "percentileMAX = percentile75 + percentileIQR * 1.5\n",
        "print(f\"char 25/100분위:  {percentile25:7.2f}\")\n",
        "print(f\"char 50/100분위:  {percentile50:7.2f}\")\n",
        "print(f\"char 75/100분위:  {percentile75:7.2f}\")\n",
        "print(f\"char IQR:        {percentileIQR:7.2f}\")\n",
        "print(f\"char MAX/100분위: {percentileMAX:7.2f}\")"
      ],
      "execution_count": 17,
      "outputs": [
        {
          "output_type": "stream",
          "text": [
            "char 길이 최대:      47\n",
            "char 길이 최소:       1\n",
            "char 길이 평균:      13.60\n",
            "char 길이 표준편차:    6.40\n",
            "char 25/100분위:     9.00\n",
            "char 50/100분위:    12.00\n",
            "char 75/100분위:    17.00\n",
            "char IQR:           8.00\n",
            "char MAX/100분위:   29.00\n"
          ],
          "name": "stdout"
        }
      ]
    },
    {
      "cell_type": "code",
      "metadata": {
        "colab": {
          "base_uri": "https://localhost:8080/",
          "height": 374
        },
        "id": "TWVI7cQNjXKZ",
        "outputId": "9dcc569c-f252-4657-e199-4fb72f29c2f4"
      },
      "source": [
        "plt.figure(figsize=(4, 6))\n",
        "# 박스플롯 생성\n",
        "# 첫번째 파라메터: 여러 분포에 대한 데이터 리스트를\n",
        "# labels: 입력한 데이터에 대한 라벨\n",
        "# showmeans: 평균값을 표현\n",
        "# 참고: https://leebaro.tistory.com/entry/%EB%B0%95%EC%8A%A4-%ED%94%8C%EB%A1%AFbox-plot-%EC%84%A4%EB%AA%85\n",
        "plt.boxplot(char_len, labels=['char counts'], showmeans=True)\n",
        "plt.show()"
      ],
      "execution_count": 18,
      "outputs": [
        {
          "output_type": "display_data",
          "data": {
            "image/png": "[encoded data removed]",
            "text/plain": [
              "<Figure size 288x432 with 1 Axes>"
            ]
          },
          "metadata": {
            "tags": [],
            "needs_background": "light"
          }
        }
      ]
    },
    {
      "cell_type": "markdown",
      "metadata": {
        "id": "vuf2hfnmgPtJ"
      },
      "source": [
        "### question2"
      ]
    },
    {
      "cell_type": "code",
      "metadata": {
        "colab": {
          "base_uri": "https://localhost:8080/"
        },
        "id": "3KpYJ-pogPtK",
        "outputId": "7c1704ca-6185-40d8-e87f-7a7937382aa3"
      },
      "source": [
        "# char 길이 데이터\n",
        "char_len = df_train['question2'].astype(\"str\").apply(len)\n",
        "char_len.head(10)"
      ],
      "execution_count": 19,
      "outputs": [
        {
          "output_type": "execute_result",
          "data": {
            "text/plain": [
              "0     8\n",
              "1    20\n",
              "2    13\n",
              "3     6\n",
              "4    16\n",
              "5    15\n",
              "6    18\n",
              "7    12\n",
              "8     9\n",
              "9     8\n",
              "Name: question2, dtype: int64"
            ]
          },
          "metadata": {
            "tags": []
          },
          "execution_count": 19
        }
      ]
    },
    {
      "cell_type": "code",
      "metadata": {
        "colab": {
          "base_uri": "https://localhost:8080/",
          "height": 0
        },
        "id": "bxB0kK6ZgPtK",
        "outputId": "6d84ab00-2be8-4b5a-ad83-e7af0efdb641"
      },
      "source": [
        "# 그래프에 대한 이미지 사이즈 선언\n",
        "# figsize: (가로, 세로) 형태의 튜플로 입력\n",
        "plt.figure(figsize=(8, 4))\n",
        "# histogram 선언\n",
        "# bins: 히스토그램 값들에 대한 버켓 범위, \n",
        "# range: x축 값의 범위\n",
        "# facecolor: 그래프 색상\n",
        "# label: 그래프에 대한 라벨\n",
        "plt.hist(char_len, bins=60, range=[0, 60], facecolor='r', label='train')\n",
        "# 그래프 제목\n",
        "plt.title('Lengh of char')\n",
        "# 그래프 x 축 라벨\n",
        "plt.xlabel('Number of char')\n",
        "# 그래프 y 축 라벨\n",
        "plt.ylabel('Count of review')\n",
        "plt.show()"
      ],
      "execution_count": 20,
      "outputs": [
        {
          "output_type": "display_data",
          "data": {
            "image/png": "[encoded data removed]",
            "text/plain": [
              "<Figure size 576x288 with 1 Axes>"
            ]
          },
          "metadata": {
            "tags": [],
            "needs_background": "light"
          }
        }
      ]
    },
    {
      "cell_type": "code",
      "metadata": {
        "colab": {
          "base_uri": "https://localhost:8080/"
        },
        "id": "csmytKFngPtL",
        "outputId": "dde734e9-2d60-4ef7-e1ac-cfde6419b82d"
      },
      "source": [
        "# 데이터 길이\n",
        "print(f\"char 길이 최대:    {np.max(char_len):4d}\")\n",
        "print(f\"char 길이 최소:    {np.min(char_len):4d}\")\n",
        "print(f\"char 길이 평균:    {np.mean(char_len):7.2f}\")\n",
        "print(f\"char 길이 표준편차: {np.std(char_len):7.2f}\")\n",
        "# https://ko.wikipedia.org/wiki/%EB%B0%B1%EB%B6%84%EC%9C%84%EC%88%98\n",
        "# 백분위수(Percentile)는 크기가 있는 값들로 이뤄진 자료를 순서대로 나열했을 때 백분율로 나타낸 특정 위치의 값을 이르는 용어이다.\n",
        "# 일반적으로 크기가 작은 것부터 나열하여 가장 작은 것을 0, 가장 큰 것을 100으로 한다.\n",
        "# 100개의 값을 가진 어떤 자료의 20 백분위수는 그 자료의 값들 중 20번째로 작은 값을 뜻한다. 50 백분위수는 중앙값과 같다.\n",
        "percentile25 = np.percentile(char_len, 25)\n",
        "percentile50 = np.percentile(char_len, 50)\n",
        "percentile75 = np.percentile(char_len, 75)\n",
        "percentileIQR = percentile75 - percentile25\n",
        "percentileMAX = percentile75 + percentileIQR * 1.5\n",
        "print(f\"char 25/100분위:  {percentile25:7.2f}\")\n",
        "print(f\"char 50/100분위:  {percentile50:7.2f}\")\n",
        "print(f\"char 75/100분위:  {percentile75:7.2f}\")\n",
        "print(f\"char IQR:        {percentileIQR:7.2f}\")\n",
        "print(f\"char MAX/100분위: {percentileMAX:7.2f}\")"
      ],
      "execution_count": 21,
      "outputs": [
        {
          "output_type": "stream",
          "text": [
            "char 길이 최대:      56\n",
            "char 길이 최소:       1\n",
            "char 길이 평균:      13.30\n",
            "char 길이 표준편차:    6.22\n",
            "char 25/100분위:     9.00\n",
            "char 50/100분위:    12.00\n",
            "char 75/100분위:    17.00\n",
            "char IQR:           8.00\n",
            "char MAX/100분위:   29.00\n"
          ],
          "name": "stdout"
        }
      ]
    },
    {
      "cell_type": "code",
      "metadata": {
        "colab": {
          "base_uri": "https://localhost:8080/",
          "height": 0
        },
        "id": "J-l0t3u1gPtL",
        "outputId": "5eba4ef2-9986-4b3d-ea07-b2e2917fe030"
      },
      "source": [
        "plt.figure(figsize=(4, 6))\n",
        "# 박스플롯 생성\n",
        "# 첫번째 파라메터: 여러 분포에 대한 데이터 리스트를\n",
        "# labels: 입력한 데이터에 대한 라벨\n",
        "# showmeans: 평균값을 표현\n",
        "# 참고: https://leebaro.tistory.com/entry/%EB%B0%95%EC%8A%A4-%ED%94%8C%EB%A1%AFbox-plot-%EC%84%A4%EB%AA%85\n",
        "plt.boxplot(char_len, labels=['char counts'], showmeans=True)\n",
        "plt.show()"
      ],
      "execution_count": 22,
      "outputs": [
        {
          "output_type": "display_data",
          "data": {
            "image/png": "[encoded data removed]",
            "text/plain": [
              "<Figure size 288x432 with 1 Axes>"
            ]
          },
          "metadata": {
            "tags": [],
            "needs_background": "light"
          }
        }
      ]
    },
    {
      "cell_type": "markdown",
      "metadata": {
        "id": "z5vUjpBDjvwM"
      },
      "source": [
        "## Word"
      ]
    },
    {
      "cell_type": "markdown",
      "metadata": {
        "id": "0wOb77mrgo2j"
      },
      "source": [
        "### question1"
      ]
    },
    {
      "cell_type": "code",
      "metadata": {
        "colab": {
          "base_uri": "https://localhost:8080/"
        },
        "id": "6H_Rp3N5jvwX",
        "outputId": "8a1082da-b642-48dc-88f3-61ac2367beb8"
      },
      "source": [
        "# word 길이 데이터\n",
        "word_len = df_train['question1'].astype(str).apply(lambda x:len(x.split(' ')))\n",
        "word_len.head(10)"
      ],
      "execution_count": 23,
      "outputs": [
        {
          "output_type": "execute_result",
          "data": {
            "text/plain": [
              "0    4\n",
              "1    5\n",
              "2    2\n",
              "3    6\n",
              "4    3\n",
              "5    3\n",
              "6    2\n",
              "7    3\n",
              "8    3\n",
              "9    5\n",
              "Name: question1, dtype: int64"
            ]
          },
          "metadata": {
            "tags": []
          },
          "execution_count": 23
        }
      ]
    },
    {
      "cell_type": "code",
      "metadata": {
        "colab": {
          "base_uri": "https://localhost:8080/",
          "height": 295
        },
        "id": "P26X6GHQjvwY",
        "outputId": "e261e6e9-3462-43d0-81f4-97dce4cffb03"
      },
      "source": [
        "# 그래프에 대한 이미지 사이즈 선언\n",
        "# figsize: (가로, 세로) 형태의 튜플로 입력\n",
        "plt.figure(figsize=(8, 4))\n",
        "# histogram 선언\n",
        "# bins: 히스토그램 값들에 대한 버켓 범위, \n",
        "# range: x축 값의 범위\n",
        "# facecolor: 그래프 색상\n",
        "# label: 그래프에 대한 라벨\n",
        "plt.hist(word_len, bins=15, range=[0, 15], facecolor='r', label='train')\n",
        "# 그래프 제목\n",
        "plt.title('Lengh of word')\n",
        "# 그래프 x 축 라벨\n",
        "plt.xlabel('Number of word')\n",
        "# 그래프 y 축 라벨\n",
        "plt.ylabel('Count of review')\n",
        "plt.show()"
      ],
      "execution_count": 24,
      "outputs": [
        {
          "output_type": "display_data",
          "data": {
            "image/png": "[encoded data removed]",
            "text/plain": [
              "<Figure size 576x288 with 1 Axes>"
            ]
          },
          "metadata": {
            "tags": [],
            "needs_background": "light"
          }
        }
      ]
    },
    {
      "cell_type": "code",
      "metadata": {
        "colab": {
          "base_uri": "https://localhost:8080/"
        },
        "id": "2eW21IJ8jvwa",
        "outputId": "9e3ab5e0-1698-4cf8-c403-543aa95ef403"
      },
      "source": [
        "# 데이터 길이\n",
        "print(f\"word 길이 최대:    {np.max(word_len):4d}\")\n",
        "print(f\"word 길이 최소:    {np.min(word_len):4d}\")\n",
        "print(f\"word 길이 평균:    {np.mean(word_len):7.2f}\")\n",
        "print(f\"word 길이 표준편차: {np.std(word_len):7.2f}\")\n",
        "# https://ko.wikipedia.org/wiki/%EB%B0%B1%EB%B6%84%EC%9C%84%EC%88%98\n",
        "# 백분위수(Percentile)는 크기가 있는 값들로 이뤄진 자료를 순서대로 나열했을 때 백분율로 나타낸 특정 위치의 값을 이르는 용어이다.\n",
        "# 일반적으로 크기가 작은 것부터 나열하여 가장 작은 것을 0, 가장 큰 것을 100으로 한다.\n",
        "# 100개의 값을 가진 어떤 자료의 20 백분위수는 그 자료의 값들 중 20번째로 작은 값을 뜻한다. 50 백분위수는 중앙값과 같다.\n",
        "percentile25 = np.percentile(word_len, 25)\n",
        "percentile50 = np.percentile(word_len, 50)\n",
        "percentile75 = np.percentile(word_len, 75)\n",
        "percentileIQR = percentile75 - percentile25\n",
        "percentileMAX = percentile75 + percentileIQR * 1.5\n",
        "print(f\"word 25/100분위:  {percentile25:7.2f}\")\n",
        "print(f\"word 50/100분위:  {percentile50:7.2f}\")\n",
        "print(f\"word 75/100분위:  {percentile75:7.2f}\")\n",
        "print(f\"word IQR:        {percentileIQR:7.2f}\")\n",
        "print(f\"word MAX/100분위: {percentileMAX:7.2f}\")"
      ],
      "execution_count": 25,
      "outputs": [
        {
          "output_type": "stream",
          "text": [
            "word 길이 최대:      12\n",
            "word 길이 최소:       1\n",
            "word 길이 평균:       3.77\n",
            "word 길이 표준편차:    1.67\n",
            "word 25/100분위:     3.00\n",
            "word 50/100분위:     4.00\n",
            "word 75/100분위:     5.00\n",
            "word IQR:           2.00\n",
            "word MAX/100분위:    8.00\n"
          ],
          "name": "stdout"
        }
      ]
    },
    {
      "cell_type": "code",
      "metadata": {
        "colab": {
          "base_uri": "https://localhost:8080/",
          "height": 374
        },
        "id": "NerMTgt_jvwa",
        "outputId": "7fa647a4-b625-407f-9cf1-51fdca3da273"
      },
      "source": [
        "plt.figure(figsize=(4, 6))\n",
        "# 박스플롯 생성\n",
        "# 첫번째 파라메터: 여러 분포에 대한 데이터 리스트를\n",
        "# labels: 입력한 데이터에 대한 라벨\n",
        "# showmeans: 평균값을 표현\n",
        "# 참고: https://leebaro.tistory.com/entry/%EB%B0%95%EC%8A%A4-%ED%94%8C%EB%A1%AFbox-plot-%EC%84%A4%EB%AA%85\n",
        "plt.boxplot(word_len, labels=['word counts'], showmeans=True)\n",
        "plt.show()"
      ],
      "execution_count": 26,
      "outputs": [
        {
          "output_type": "display_data",
          "data": {
            "image/png": "[encoded data removed]",
            "text/plain": [
              "<Figure size 288x432 with 1 Axes>"
            ]
          },
          "metadata": {
            "tags": [],
            "needs_background": "light"
          }
        }
      ]
    },
    {
      "cell_type": "markdown",
      "metadata": {
        "id": "aAf5NLDXg1ri"
      },
      "source": [
        "### question2"
      ]
    },
    {
      "cell_type": "code",
      "metadata": {
        "colab": {
          "base_uri": "https://localhost:8080/"
        },
        "id": "KSwFC-_Gg1rj",
        "outputId": "509a89c0-5f24-4edd-9c96-d7a8a411ae18"
      },
      "source": [
        "# word 길이 데이터\n",
        "word_len = df_train['question2'].astype(str).apply(lambda x:len(x.split(' ')))\n",
        "word_len.head(10)"
      ],
      "execution_count": 31,
      "outputs": [
        {
          "output_type": "execute_result",
          "data": {
            "text/plain": [
              "0    2\n",
              "1    5\n",
              "2    3\n",
              "3    1\n",
              "4    5\n",
              "5    3\n",
              "6    5\n",
              "7    3\n",
              "8    2\n",
              "9    2\n",
              "Name: question2, dtype: int64"
            ]
          },
          "metadata": {
            "tags": []
          },
          "execution_count": 31
        }
      ]
    },
    {
      "cell_type": "code",
      "metadata": {
        "colab": {
          "base_uri": "https://localhost:8080/",
          "height": 295
        },
        "id": "CnikZCQCg1rj",
        "outputId": "e566b7f9-da42-4cbf-c513-03be52a6ca1d"
      },
      "source": [
        "# 그래프에 대한 이미지 사이즈 선언\n",
        "# figsize: (가로, 세로) 형태의 튜플로 입력\n",
        "plt.figure(figsize=(8, 4))\n",
        "# histogram 선언\n",
        "# bins: 히스토그램 값들에 대한 버켓 범위, \n",
        "# range: x축 값의 범위\n",
        "# facecolor: 그래프 색상\n",
        "# label: 그래프에 대한 라벨\n",
        "plt.hist(word_len, bins=15, range=[0, 15], facecolor='r', label='train')\n",
        "# 그래프 제목\n",
        "plt.title('Lengh of word')\n",
        "# 그래프 x 축 라벨\n",
        "plt.xlabel('Number of word')\n",
        "# 그래프 y 축 라벨\n",
        "plt.ylabel('Count of review')\n",
        "plt.show()"
      ],
      "execution_count": 32,
      "outputs": [
        {
          "output_type": "display_data",
          "data": {
            "image/png": "[encoded data removed]",
            "text/plain": [
              "<Figure size 576x288 with 1 Axes>"
            ]
          },
          "metadata": {
            "tags": [],
            "needs_background": "light"
          }
        }
      ]
    },
    {
      "cell_type": "code",
      "metadata": {
        "colab": {
          "base_uri": "https://localhost:8080/"
        },
        "id": "Ji9DXHsSg1rk",
        "outputId": "67886474-c991-4b56-efe2-1b65d0c3acd3"
      },
      "source": [
        "# 데이터 길이\n",
        "print(f\"word 길이 최대:    {np.max(word_len):4d}\")\n",
        "print(f\"word 길이 최소:    {np.min(word_len):4d}\")\n",
        "print(f\"word 길이 평균:    {np.mean(word_len):7.2f}\")\n",
        "print(f\"word 길이 표준편차: {np.std(word_len):7.2f}\")\n",
        "# https://ko.wikipedia.org/wiki/%EB%B0%B1%EB%B6%84%EC%9C%84%EC%88%98\n",
        "# 백분위수(Percentile)는 크기가 있는 값들로 이뤄진 자료를 순서대로 나열했을 때 백분율로 나타낸 특정 위치의 값을 이르는 용어이다.\n",
        "# 일반적으로 크기가 작은 것부터 나열하여 가장 작은 것을 0, 가장 큰 것을 100으로 한다.\n",
        "# 100개의 값을 가진 어떤 자료의 20 백분위수는 그 자료의 값들 중 20번째로 작은 값을 뜻한다. 50 백분위수는 중앙값과 같다.\n",
        "percentile25 = np.percentile(word_len, 25)\n",
        "percentile50 = np.percentile(word_len, 50)\n",
        "percentile75 = np.percentile(word_len, 75)\n",
        "percentileIQR = percentile75 - percentile25\n",
        "percentileMAX = percentile75 + percentileIQR * 1.5\n",
        "print(f\"word 25/100분위:  {percentile25:7.2f}\")\n",
        "print(f\"word 50/100분위:  {percentile50:7.2f}\")\n",
        "print(f\"word 75/100분위:  {percentile75:7.2f}\")\n",
        "print(f\"word IQR:        {percentileIQR:7.2f}\")\n",
        "print(f\"word MAX/100분위: {percentileMAX:7.2f}\")"
      ],
      "execution_count": 33,
      "outputs": [
        {
          "output_type": "stream",
          "text": [
            "word 길이 최대:      15\n",
            "word 길이 최소:       1\n",
            "word 길이 평균:       3.69\n",
            "word 길이 표준편차:    1.63\n",
            "word 25/100분위:     3.00\n",
            "word 50/100분위:     3.00\n",
            "word 75/100분위:     5.00\n",
            "word IQR:           2.00\n",
            "word MAX/100분위:    8.00\n"
          ],
          "name": "stdout"
        }
      ]
    },
    {
      "cell_type": "code",
      "metadata": {
        "colab": {
          "base_uri": "https://localhost:8080/",
          "height": 374
        },
        "id": "FDYnKKC4g1rk",
        "outputId": "f883b5c8-6452-4df3-95db-3d7f34d12066"
      },
      "source": [
        "plt.figure(figsize=(4, 6))\n",
        "# 박스플롯 생성\n",
        "# 첫번째 파라메터: 여러 분포에 대한 데이터 리스트를\n",
        "# labels: 입력한 데이터에 대한 라벨\n",
        "# showmeans: 평균값을 표현\n",
        "# 참고: https://leebaro.tistory.com/entry/%EB%B0%95%EC%8A%A4-%ED%94%8C%EB%A1%AFbox-plot-%EC%84%A4%EB%AA%85\n",
        "plt.boxplot(word_len, labels=['word counts'], showmeans=True)\n",
        "plt.show()"
      ],
      "execution_count": 34,
      "outputs": [
        {
          "output_type": "display_data",
          "data": {
            "image/png": "[encoded data removed]",
            "text/plain": [
              "<Figure size 288x432 with 1 Axes>"
            ]
          },
          "metadata": {
            "tags": [],
            "needs_background": "light"
          }
        }
      ]
    },
    {
      "cell_type": "markdown",
      "metadata": {
        "id": "HH3c7rY7kbCh"
      },
      "source": [
        "## SentencePiece"
      ]
    },
    {
      "cell_type": "markdown",
      "metadata": {
        "id": "INyPdEigjQpG"
      },
      "source": [
        "### question1"
      ]
    },
    {
      "cell_type": "code",
      "metadata": {
        "colab": {
          "base_uri": "https://localhost:8080/"
        },
        "id": "6cvc0ZDzkbCi",
        "outputId": "e1a9500d-102b-4d5a-a7f6-1427553bc55b"
      },
      "source": [
        "# word 길이 데이터\n",
        "spm_len = df_train['question1'].astype(str).apply(lambda x:len(vocab.encode_as_pieces(x)))\n",
        "spm_len.head(10)"
      ],
      "execution_count": 43,
      "outputs": [
        {
          "output_type": "execute_result",
          "data": {
            "text/plain": [
              "0     7\n",
              "1    11\n",
              "2     8\n",
              "3    13\n",
              "4     8\n",
              "5     5\n",
              "6     4\n",
              "7     7\n",
              "8     9\n",
              "9    10\n",
              "Name: question1, dtype: int64"
            ]
          },
          "metadata": {
            "tags": []
          },
          "execution_count": 43
        }
      ]
    },
    {
      "cell_type": "code",
      "metadata": {
        "colab": {
          "base_uri": "https://localhost:8080/",
          "height": 295
        },
        "id": "KDr_r83DkbCi",
        "outputId": "f3cf464b-303b-4ede-9664-e82645004b36"
      },
      "source": [
        "# 그래프에 대한 이미지 사이즈 선언\n",
        "# figsize: (가로, 세로) 형태의 튜플로 입력\n",
        "plt.figure(figsize=(8, 4))\n",
        "# histogram 선언\n",
        "# bins: 히스토그램 값들에 대한 버켓 범위, \n",
        "# range: x축 값의 범위\n",
        "# facecolor: 그래프 색상\n",
        "# label: 그래프에 대한 라벨\n",
        "plt.hist(spm_len, bins=30, range=[0, 30], facecolor='r', label='train')\n",
        "# 그래프 제목\n",
        "plt.title('Lengh of spm')\n",
        "# 그래프 x 축 라벨\n",
        "plt.xlabel('Number of spm')\n",
        "# 그래프 y 축 라벨\n",
        "plt.ylabel('Count of review')\n",
        "plt.show()"
      ],
      "execution_count": 44,
      "outputs": [
        {
          "output_type": "display_data",
          "data": {
            "image/png": "[encoded data removed]",
            "text/plain": [
              "<Figure size 576x288 with 1 Axes>"
            ]
          },
          "metadata": {
            "tags": [],
            "needs_background": "light"
          }
        }
      ]
    },
    {
      "cell_type": "code",
      "metadata": {
        "colab": {
          "base_uri": "https://localhost:8080/"
        },
        "id": "hl9BiOWnkbCj",
        "outputId": "66166cb2-bb36-4590-bb0f-612df72fba47"
      },
      "source": [
        "# 데이터 길이\n",
        "print(f\"spm 길이 최대:    {np.max(spm_len):4d}\")\n",
        "print(f\"spm 길이 최소:    {np.min(spm_len):4d}\")\n",
        "print(f\"spm 길이 평균:    {np.mean(spm_len):7.2f}\")\n",
        "print(f\"spm 길이 표준편차: {np.std(spm_len):7.2f}\")\n",
        "# https://ko.wikipedia.org/wiki/%EB%B0%B1%EB%B6%84%EC%9C%84%EC%88%98\n",
        "# 백분위수(Percentile)는 크기가 있는 값들로 이뤄진 자료를 순서대로 나열했을 때 백분율로 나타낸 특정 위치의 값을 이르는 용어이다.\n",
        "# 일반적으로 크기가 작은 것부터 나열하여 가장 작은 것을 0, 가장 큰 것을 100으로 한다.\n",
        "# 100개의 값을 가진 어떤 자료의 20 백분위수는 그 자료의 값들 중 20번째로 작은 값을 뜻한다. 50 백분위수는 중앙값과 같다.\n",
        "percentile25 = np.percentile(spm_len, 25)\n",
        "percentile50 = np.percentile(spm_len, 50)\n",
        "percentile75 = np.percentile(spm_len, 75)\n",
        "percentileIQR = percentile75 - percentile25\n",
        "percentileMAX = percentile75 + percentileIQR * 1.5\n",
        "print(f\"spm 25/100분위:  {percentile25:7.2f}\")\n",
        "print(f\"spm 50/100분위:  {percentile50:7.2f}\")\n",
        "print(f\"spm 75/100분위:  {percentile75:7.2f}\")\n",
        "print(f\"spm IQR:        {percentileIQR:7.2f}\")\n",
        "print(f\"spm MAX/100분위: {percentileMAX:7.2f}\")"
      ],
      "execution_count": 45,
      "outputs": [
        {
          "output_type": "stream",
          "text": [
            "spm 길이 최대:      26\n",
            "spm 길이 최소:       1\n",
            "spm 길이 평균:       7.33\n",
            "spm 길이 표준편차:    3.19\n",
            "spm 25/100분위:     5.00\n",
            "spm 50/100분위:     7.00\n",
            "spm 75/100분위:     9.00\n",
            "spm IQR:           4.00\n",
            "spm MAX/100분위:   15.00\n"
          ],
          "name": "stdout"
        }
      ]
    },
    {
      "cell_type": "code",
      "metadata": {
        "colab": {
          "base_uri": "https://localhost:8080/",
          "height": 374
        },
        "id": "bhYzc3QVkbCj",
        "outputId": "0837aafd-46aa-4d61-babd-c0706a31cccb"
      },
      "source": [
        "plt.figure(figsize=(4, 6))\n",
        "# 박스플롯 생성\n",
        "# 첫번째 파라메터: 여러 분포에 대한 데이터 리스트를\n",
        "# labels: 입력한 데이터에 대한 라벨\n",
        "# showmeans: 평균값을 표현\n",
        "# 참고: https://leebaro.tistory.com/entry/%EB%B0%95%EC%8A%A4-%ED%94%8C%EB%A1%AFbox-plot-%EC%84%A4%EB%AA%85\n",
        "plt.boxplot(spm_len, labels=['spm counts'], showmeans=True)\n",
        "plt.show()"
      ],
      "execution_count": 46,
      "outputs": [
        {
          "output_type": "display_data",
          "data": {
            "image/png": "[encoded data removed]",
            "text/plain": [
              "<Figure size 288x432 with 1 Axes>"
            ]
          },
          "metadata": {
            "tags": [],
            "needs_background": "light"
          }
        }
      ]
    },
    {
      "cell_type": "markdown",
      "metadata": {
        "id": "CZNmjRZLjcU-"
      },
      "source": [
        "### question2"
      ]
    },
    {
      "cell_type": "code",
      "metadata": {
        "colab": {
          "base_uri": "https://localhost:8080/"
        },
        "id": "WiYg-7FcjcU-",
        "outputId": "fdb21f4f-c84d-4aba-d8fd-6d3b69c65d1b"
      },
      "source": [
        "# word 길이 데이터\n",
        "spm_len = df_train['question2'].astype(str).apply(lambda x:len(vocab.encode_as_pieces(x)))\n",
        "spm_len.head(10)"
      ],
      "execution_count": 47,
      "outputs": [
        {
          "output_type": "execute_result",
          "data": {
            "text/plain": [
              "0     5\n",
              "1     9\n",
              "2     7\n",
              "3     7\n",
              "4    10\n",
              "5    11\n",
              "6    10\n",
              "7     8\n",
              "8     6\n",
              "9     6\n",
              "Name: question2, dtype: int64"
            ]
          },
          "metadata": {
            "tags": []
          },
          "execution_count": 47
        }
      ]
    },
    {
      "cell_type": "code",
      "metadata": {
        "colab": {
          "base_uri": "https://localhost:8080/",
          "height": 295
        },
        "id": "VCsAsqaGjcU_",
        "outputId": "8e36f443-d3bf-4678-ab4c-70d882d590e9"
      },
      "source": [
        "# 그래프에 대한 이미지 사이즈 선언\n",
        "# figsize: (가로, 세로) 형태의 튜플로 입력\n",
        "plt.figure(figsize=(8, 4))\n",
        "# histogram 선언\n",
        "# bins: 히스토그램 값들에 대한 버켓 범위, \n",
        "# range: x축 값의 범위\n",
        "# facecolor: 그래프 색상\n",
        "# label: 그래프에 대한 라벨\n",
        "plt.hist(spm_len, bins=30, range=[0, 30], facecolor='r', label='train')\n",
        "# 그래프 제목\n",
        "plt.title('Lengh of spm')\n",
        "# 그래프 x 축 라벨\n",
        "plt.xlabel('Number of spm')\n",
        "# 그래프 y 축 라벨\n",
        "plt.ylabel('Count of review')\n",
        "plt.show()"
      ],
      "execution_count": 48,
      "outputs": [
        {
          "output_type": "display_data",
          "data": {
            "image/png": "[encoded data removed]",
            "text/plain": [
              "<Figure size 576x288 with 1 Axes>"
            ]
          },
          "metadata": {
            "tags": [],
            "needs_background": "light"
          }
        }
      ]
    },
    {
      "cell_type": "code",
      "metadata": {
        "colab": {
          "base_uri": "https://localhost:8080/"
        },
        "id": "2vghdAIjjcVB",
        "outputId": "485859fd-82d2-498e-d38e-3d3e7cab05b9"
      },
      "source": [
        "# 데이터 길이\n",
        "print(f\"spm 길이 최대:    {np.max(spm_len):4d}\")\n",
        "print(f\"spm 길이 최소:    {np.min(spm_len):4d}\")\n",
        "print(f\"spm 길이 평균:    {np.mean(spm_len):7.2f}\")\n",
        "print(f\"spm 길이 표준편차: {np.std(spm_len):7.2f}\")\n",
        "# https://ko.wikipedia.org/wiki/%EB%B0%B1%EB%B6%84%EC%9C%84%EC%88%98\n",
        "# 백분위수(Percentile)는 크기가 있는 값들로 이뤄진 자료를 순서대로 나열했을 때 백분율로 나타낸 특정 위치의 값을 이르는 용어이다.\n",
        "# 일반적으로 크기가 작은 것부터 나열하여 가장 작은 것을 0, 가장 큰 것을 100으로 한다.\n",
        "# 100개의 값을 가진 어떤 자료의 20 백분위수는 그 자료의 값들 중 20번째로 작은 값을 뜻한다. 50 백분위수는 중앙값과 같다.\n",
        "percentile25 = np.percentile(spm_len, 25)\n",
        "percentile50 = np.percentile(spm_len, 50)\n",
        "percentile75 = np.percentile(spm_len, 75)\n",
        "percentileIQR = percentile75 - percentile25\n",
        "percentileMAX = percentile75 + percentileIQR * 1.5\n",
        "print(f\"spm 25/100분위:  {percentile25:7.2f}\")\n",
        "print(f\"spm 50/100분위:  {percentile50:7.2f}\")\n",
        "print(f\"spm 75/100분위:  {percentile75:7.2f}\")\n",
        "print(f\"spm IQR:        {percentileIQR:7.2f}\")\n",
        "print(f\"spm MAX/100분위: {percentileMAX:7.2f}\")"
      ],
      "execution_count": 49,
      "outputs": [
        {
          "output_type": "stream",
          "text": [
            "spm 길이 최대:      26\n",
            "spm 길이 최소:       1\n",
            "spm 길이 평균:       7.16\n",
            "spm 길이 표준편차:    3.11\n",
            "spm 25/100분위:     5.00\n",
            "spm 50/100분위:     7.00\n",
            "spm 75/100분위:     9.00\n",
            "spm IQR:           4.00\n",
            "spm MAX/100분위:   15.00\n"
          ],
          "name": "stdout"
        }
      ]
    },
    {
      "cell_type": "code",
      "metadata": {
        "colab": {
          "base_uri": "https://localhost:8080/",
          "height": 374
        },
        "id": "_VXBV7NMjcVB",
        "outputId": "80785f66-9475-4971-dfeb-a4a4f906ae09"
      },
      "source": [
        "plt.figure(figsize=(4, 6))\n",
        "# 박스플롯 생성\n",
        "# 첫번째 파라메터: 여러 분포에 대한 데이터 리스트를\n",
        "# labels: 입력한 데이터에 대한 라벨\n",
        "# showmeans: 평균값을 표현\n",
        "# 참고: https://leebaro.tistory.com/entry/%EB%B0%95%EC%8A%A4-%ED%94%8C%EB%A1%AFbox-plot-%EC%84%A4%EB%AA%85\n",
        "plt.boxplot(spm_len, labels=['spm counts'], showmeans=True)\n",
        "plt.show()"
      ],
      "execution_count": 50,
      "outputs": [
        {
          "output_type": "display_data",
          "data": {
            "image/png": "[encoded data removed]",
            "text/plain": [
              "<Figure size 288x432 with 1 Axes>"
            ]
          },
          "metadata": {
            "tags": [],
            "needs_background": "light"
          }
        }
      ]
    },
    {
      "cell_type": "markdown",
      "metadata": {
        "id": "OMncJs1dlHLK"
      },
      "source": [
        "## Label"
      ]
    },
    {
      "cell_type": "code",
      "metadata": {
        "colab": {
          "base_uri": "https://localhost:8080/"
        },
        "id": "WByhTbdjlJCQ",
        "outputId": "fe6d15eb-b2e4-4e95-bb9f-f21389df392d"
      },
      "source": [
        "df_train['is_duplicate'].value_counts()"
      ],
      "execution_count": 51,
      "outputs": [
        {
          "output_type": "execute_result",
          "data": {
            "text/plain": [
              "0    4750\n",
              "1    2138\n",
              "Name: is_duplicate, dtype: int64"
            ]
          },
          "metadata": {
            "tags": []
          },
          "execution_count": 51
        }
      ]
    },
    {
      "cell_type": "code",
      "metadata": {
        "colab": {
          "base_uri": "https://localhost:8080/"
        },
        "id": "N9bBFn-klSuw",
        "outputId": "4ad1597d-7f64-4d62-f7c6-738c8b7af3f2"
      },
      "source": [
        "# label count\n",
        "print(f\"같은 질문 개수: {df_train['is_duplicate'].value_counts()[0]}\")\n",
        "print(f\"다른 질문 개수: {df_train['is_duplicate'].value_counts()[1]}\")"
      ],
      "execution_count": 52,
      "outputs": [
        {
          "output_type": "stream",
          "text": [
            "같은 질문 개수: 4750\n",
            "다른 질문 개수: 2138\n"
          ],
          "name": "stdout"
        }
      ]
    },
    {
      "cell_type": "code",
      "metadata": {
        "colab": {
          "base_uri": "https://localhost:8080/",
          "height": 391
        },
        "id": "pfZqqRG_lYwh",
        "outputId": "d4486319-52a0-421e-d9c3-1ebb569c9f0b"
      },
      "source": [
        "# label counter plot\n",
        "fig, axe = plt.subplots(ncols=1)\n",
        "fig.set_size_inches(6, 5)\n",
        "# https://seaborn.pydata.org/\n",
        "subplt = sns.countplot(df_train['is_duplicate'])"
      ],
      "execution_count": 53,
      "outputs": [
        {
          "output_type": "stream",
          "text": [
            "/usr/local/lib/python3.6/dist-packages/seaborn/_decorators.py:43: FutureWarning: Pass the following variable as a keyword arg: x. From version 0.12, the only valid positional argument will be `data`, and passing other arguments without an explicit keyword will result in an error or misinterpretation.\n",
            "  FutureWarning\n"
          ],
          "name": "stderr"
        },
        {
          "output_type": "display_data",
          "data": {
            "image/png": "[encoded data removed]",
            "text/plain": [
              "<Figure size 432x360 with 1 Axes>"
            ]
          },
          "metadata": {
            "tags": [],
            "needs_background": "light"
          }
        }
      ]
    },
    {
      "cell_type": "markdown",
      "metadata": {
        "id": "PEEHnQPfluqb"
      },
      "source": [
        "## Word Cloud"
      ]
    },
    {
      "cell_type": "code",
      "metadata": {
        "colab": {
          "base_uri": "https://localhost:8080/"
        },
        "id": "WXlNyhTvkiRi",
        "outputId": "caf95efb-9c96-45a6-f11b-3863dbf0f1f2"
      },
      "source": [
        "# data 합치기\n",
        "train_set = pd.Series(df_train['question1'].tolist() + df_train['question2'].tolist()).astype(str)\n",
        "train_set.head(10)"
      ],
      "execution_count": 54,
      "outputs": [
        {
          "output_type": "execute_result",
          "data": {
            "text/plain": [
              "0         1000일 만난 여자친구와 이별\n",
              "1      10년 연애사 되돌아보니 다 부질없네\n",
              "2               10년만나다 헤어지네\n",
              "3    10월의 마지막밤 . 더 보고싶네 그사람\n",
              "4             14년의 기나긴 이야기.\n",
              "5              15년만에 쓰는 편지.\n",
              "6                     1년 반.\n",
              "7               1년동거 끝에 헤어짐\n",
              "8            1년만에 다시헤어지게 됐네\n",
              "9      1년을 넘게 만났는데 어떻게 이럽니까\n",
              "dtype: object"
            ]
          },
          "metadata": {
            "tags": []
          },
          "execution_count": 54
        }
      ]
    },
    {
      "cell_type": "code",
      "metadata": {
        "colab": {
          "base_uri": "https://localhost:8080/"
        },
        "id": "HRb4fQxsloKx",
        "outputId": "a6836eea-af05-4e29-95af-bce72437d02d"
      },
      "source": [
        "# train review documents\n",
        "train_review = [review for review in train_set if type(review) is str] #if문은 혹시 에러날까적어둔것!\n",
        "train_review[:10]"
      ],
      "execution_count": 55,
      "outputs": [
        {
          "output_type": "execute_result",
          "data": {
            "text/plain": [
              "['1000일 만난 여자친구와 이별',\n",
              " '10년 연애사 되돌아보니 다 부질없네',\n",
              " '10년만나다 헤어지네',\n",
              " '10월의 마지막밤 . 더 보고싶네 그사람',\n",
              " '14년의 기나긴 이야기.',\n",
              " '15년만에 쓰는 편지.',\n",
              " '1년 반.',\n",
              " '1년동거 끝에 헤어짐',\n",
              " '1년만에 다시헤어지게 됐네',\n",
              " '1년을 넘게 만났는데 어떻게 이럽니까']"
            ]
          },
          "metadata": {
            "tags": []
          },
          "execution_count": 55
        }
      ]
    },
    {
      "cell_type": "code",
      "metadata": {
        "colab": {
          "base_uri": "https://localhost:8080/",
          "height": 71
        },
        "id": "ASMXNml2lz8i",
        "outputId": "f4e93970-2888-4562-d2f6-0fb850ec3014"
      },
      "source": [
        "' '.join(train_review[:10])"
      ],
      "execution_count": 56,
      "outputs": [
        {
          "output_type": "execute_result",
          "data": {
            "application/vnd.google.colaboratory.intrinsic+json": {
              "type": "string"
            },
            "text/plain": [
              "'1000일 만난 여자친구와 이별 10년 연애사 되돌아보니 다 부질없네 10년만나다 헤어지네 10월의 마지막밤 . 더 보고싶네 그사람 14년의 기나긴 이야기. 15년만에 쓰는 편지. 1년 반. 1년동거 끝에 헤어짐 1년만에 다시헤어지게 됐네 1년을 넘게 만났는데 어떻게 이럽니까'"
            ]
          },
          "metadata": {
            "tags": []
          },
          "execution_count": 56
        }
      ]
    },
    {
      "cell_type": "code",
      "metadata": {
        "colab": {
          "base_uri": "https://localhost:8080/",
          "height": 575
        },
        "id": "MmQXZB-bl4RM",
        "outputId": "59b95e39-10f2-4d9b-e912-8eec10a8c64e"
      },
      "source": [
        "# WordCloud\n",
        "# window: C:/Windows/Fonts/malgun.ttf, mac: /Library/Fonts/AppleGothic.ttf, colab: /usr/share/fonts/truetype/nanum/NanumBarunGothic.ttf\n",
        "wordcloud = WordCloud(width=800, height=800, font_path='/usr/share/fonts/truetype/nanum/NanumBarunGothic.ttf').generate(' '.join(train_review))\n",
        "plt.figure(figsize=(10, 10))\n",
        "# https://datascienceschool.net/view-notebook/6e71dbff254542d9b0a054a7c98b34ec/\n",
        "# image 출력, interpolation 이미지 시각화 옵션\n",
        "plt.imshow(wordcloud, interpolation='bilinear')\n",
        "plt.axis('off')\n",
        "plt.show()"
      ],
      "execution_count": 57,
      "outputs": [
        {
          "output_type": "display_data",
          "data": {
            "image/png": "[encoded data removed]",
            "text/plain": [
              "<Figure size 720x720 with 1 Axes>"
            ]
          },
          "metadata": {
            "tags": [],
            "needs_background": "light"
          }
        }
      ]
    },
    {
      "cell_type": "markdown",
      "metadata": {
        "id": "3myBX8hNEH1u"
      },
      "source": [
        "# 모델링"
      ]
    },
    {
      "cell_type": "code",
      "metadata": {
        "id": "l6sAFRH5oFn9"
      },
      "source": [
        "# 입력 문장\n",
        "sentences = [\n",
        "    ['나는 오늘 기분이 좋아', '나는 오늘 우울해'],\n",
        "    ['나는 오늘 행복해', '나는 오늘 즐거워'],\n",
        "]\n",
        "\n",
        "# 출력 정답\n",
        "labels = [0, 1]  # 같음(1), 다름(0)"
      ],
      "execution_count": 58,
      "outputs": []
    },
    {
      "cell_type": "code",
      "metadata": {
        "id": "0ezTNco4o36T",
        "colab": {
          "base_uri": "https://localhost:8080/"
        },
        "outputId": "ea5c78fe-6f54-49c3-ddf7-b3a347069780"
      },
      "source": [
        "# 각 문장을 띄어쓰기 단위로 분할\n",
        "words = []\n",
        "for pair in sentences: #문장 A와 B가 같이돌아가도록!\n",
        "    for sentence in pair:\n",
        "        words.extend(sentence.split())\n",
        "\n",
        "# 중복 단어 제거\n",
        "words = list(dict.fromkeys(words))\n",
        "\n",
        "# 각 단어별 고유한 번호 부여\n",
        "word_to_id = {'[PAD]': 0, '[UNK]': 1}\n",
        "for word in words:\n",
        "    word_to_id[word] = len(word_to_id)\n",
        "\n",
        "# 각 숫자별 단어 부여\n",
        "id_to_word = {_id:word for word, _id in word_to_id.items()}\n",
        "\n",
        "word_to_id, id_to_word"
      ],
      "execution_count": 59,
      "outputs": [
        {
          "output_type": "execute_result",
          "data": {
            "text/plain": [
              "({'[PAD]': 0,\n",
              "  '[UNK]': 1,\n",
              "  '기분이': 4,\n",
              "  '나는': 2,\n",
              "  '오늘': 3,\n",
              "  '우울해': 6,\n",
              "  '좋아': 5,\n",
              "  '즐거워': 8,\n",
              "  '행복해': 7},\n",
              " {0: '[PAD]',\n",
              "  1: '[UNK]',\n",
              "  2: '나는',\n",
              "  3: '오늘',\n",
              "  4: '기분이',\n",
              "  5: '좋아',\n",
              "  6: '우울해',\n",
              "  7: '행복해',\n",
              "  8: '즐거워'})"
            ]
          },
          "metadata": {
            "tags": []
          },
          "execution_count": 59
        }
      ]
    },
    {
      "cell_type": "code",
      "metadata": {
        "id": "awy48gACpKA7",
        "colab": {
          "base_uri": "https://localhost:8080/"
        },
        "outputId": "ac319f44-1fbb-4c14-9396-ef4ade76872e"
      },
      "source": [
        "# 학습용 입력 데이터 생성\n",
        "train_inputs_1, train_inputs_2 = [], []\n",
        "for pair in sentences:\n",
        "    train_inputs_1.append([word_to_id[word] for word in pair[0].split()])\n",
        "    train_inputs_2.append([word_to_id[word] for word in pair[1].split()])\n",
        "\n",
        "# train label\n",
        "train_labels = labels\n",
        "\n",
        "# train1 : 문장의 길이를 모두 동일하게 변경 (최대길이 4)\n",
        "for row in train_inputs_1:\n",
        "    row += [0] * (4 - len(row))\n",
        "\n",
        "# train2: 문장의 길이를 모두 동일하게 변경 (최대길이 3)\n",
        "for row in train_inputs_2:\n",
        "    row += [0] * (3 - len(row))\n",
        "\n",
        "# train inputs을 numpy array로 변환\n",
        "train_inputs_1 = np.array(train_inputs_1)\n",
        "train_inputs_2 = np.array(train_inputs_2)\n",
        "\n",
        "# 학습용 정답을 numpy array로 변환\n",
        "train_labels = np.array(train_labels)\n",
        "\n",
        "train_inputs_1, train_inputs_2, train_labels"
      ],
      "execution_count": 60,
      "outputs": [
        {
          "output_type": "execute_result",
          "data": {
            "text/plain": [
              "(array([[2, 3, 4, 5],\n",
              "        [2, 3, 7, 0]]), array([[2, 3, 6],\n",
              "        [2, 3, 8]]), array([0, 1]))"
            ]
          },
          "metadata": {
            "tags": []
          },
          "execution_count": 60
        }
      ]
    },
    {
      "cell_type": "code",
      "metadata": {
        "id": "34wJtGLuGR-9"
      },
      "source": [
        "# embedding 생성\r\n",
        "embedding = tf.keras.layers.Embedding(len(word_to_id),5)"
      ],
      "execution_count": 68,
      "outputs": []
    },
    {
      "cell_type": "code",
      "metadata": {
        "id": "u3qs4Y0EGVz8",
        "colab": {
          "base_uri": "https://localhost:8080/"
        },
        "outputId": "4e6c9fc2-ecde-461e-82dc-84e0824734c4"
      },
      "source": [
        "# word embedding\r\n",
        "hidden_1 = embedding(train_inputs_1) #(bs, n_seq_1,5)\r\n",
        "hidden_2 = embedding(train_inputs_2) #(bs, n_seq_2,5)\r\n",
        "hidden_1, hidden_2"
      ],
      "execution_count": 69,
      "outputs": [
        {
          "output_type": "execute_result",
          "data": {
            "text/plain": [
              "(<tf.Tensor: shape=(2, 4, 5), dtype=float32, numpy=\n",
              " array([[[ 0.02688133, -0.00167429,  0.00873896, -0.04772998,\n",
              "          -0.00643448],\n",
              "         [ 0.04782395,  0.04810704, -0.03535189,  0.04945729,\n",
              "           0.02813626],\n",
              "         [-0.02798697, -0.00110071,  0.0133124 ,  0.00637371,\n",
              "          -0.00963336],\n",
              "         [-0.01013004,  0.01826939,  0.02741292, -0.00544795,\n",
              "          -0.04431503]],\n",
              " \n",
              "        [[ 0.02688133, -0.00167429,  0.00873896, -0.04772998,\n",
              "          -0.00643448],\n",
              "         [ 0.04782395,  0.04810704, -0.03535189,  0.04945729,\n",
              "           0.02813626],\n",
              "         [ 0.00923193, -0.01256046,  0.0343336 , -0.02595751,\n",
              "           0.03221213],\n",
              "         [ 0.00380393, -0.01353813,  0.00816301, -0.02561716,\n",
              "          -0.00696643]]], dtype=float32)>,\n",
              " <tf.Tensor: shape=(2, 3, 5), dtype=float32, numpy=\n",
              " array([[[ 0.02688133, -0.00167429,  0.00873896, -0.04772998,\n",
              "          -0.00643448],\n",
              "         [ 0.04782395,  0.04810704, -0.03535189,  0.04945729,\n",
              "           0.02813626],\n",
              "         [-0.02540476, -0.0194685 , -0.01826397, -0.03069841,\n",
              "           0.03251565]],\n",
              " \n",
              "        [[ 0.02688133, -0.00167429,  0.00873896, -0.04772998,\n",
              "          -0.00643448],\n",
              "         [ 0.04782395,  0.04810704, -0.03535189,  0.04945729,\n",
              "           0.02813626],\n",
              "         [-0.03375109, -0.02327753, -0.00871272,  0.00912046,\n",
              "           0.01447895]]], dtype=float32)>)"
            ]
          },
          "metadata": {
            "tags": []
          },
          "execution_count": 69
        }
      ]
    },
    {
      "cell_type": "code",
      "metadata": {
        "id": "sVNDWGwqajXk"
      },
      "source": [
        "#RNN, CNN 등"
      ],
      "execution_count": null,
      "outputs": []
    },
    {
      "cell_type": "code",
      "metadata": {
        "id": "Cd3Gs-VAGhyq",
        "colab": {
          "base_uri": "https://localhost:8080/"
        },
        "outputId": "e6f4baf8-bcba-4698-bbbb-f965688365ec"
      },
      "source": [
        "# sentence embedding\r\n",
        "pool = tf.keras.layers.GlobalMaxPool1D()\r\n",
        "hidden_pool_1 = pool(hidden_1)  # (bs, 5)\r\n",
        "hidden_pool_2 = pool(hidden_2)  # (bs, 5)\r\n",
        "hidden_pool_1, hidden_pool_2"
      ],
      "execution_count": 70,
      "outputs": [
        {
          "output_type": "execute_result",
          "data": {
            "text/plain": [
              "(<tf.Tensor: shape=(2, 5), dtype=float32, numpy=\n",
              " array([[0.04782395, 0.04810704, 0.02741292, 0.04945729, 0.02813626],\n",
              "        [0.04782395, 0.04810704, 0.0343336 , 0.04945729, 0.03221213]],\n",
              "       dtype=float32)>, <tf.Tensor: shape=(2, 5), dtype=float32, numpy=\n",
              " array([[0.04782395, 0.04810704, 0.00873896, 0.04945729, 0.03251565],\n",
              "        [0.04782395, 0.04810704, 0.00873896, 0.04945729, 0.02813626]],\n",
              "       dtype=float32)>)"
            ]
          },
          "metadata": {
            "tags": []
          },
          "execution_count": 70
        }
      ]
    },
    {
      "cell_type": "code",
      "metadata": {
        "id": "L47UgZ04J80U",
        "colab": {
          "base_uri": "https://localhost:8080/"
        },
        "outputId": "d3382b73-fd37-43bd-ff04-da48e44cf11a"
      },
      "source": [
        "# distance abs\r\n",
        "K.abs(hidden_pool_1 - hidden_pool_2)"
      ],
      "execution_count": 72,
      "outputs": [
        {
          "output_type": "execute_result",
          "data": {
            "text/plain": [
              "<tf.Tensor: shape=(2, 5), dtype=float32, numpy=\n",
              "array([[0.        , 0.        , 0.01867396, 0.        , 0.00437939],\n",
              "       [0.        , 0.        , 0.02559464, 0.        , 0.00407587]],\n",
              "      dtype=float32)>"
            ]
          },
          "metadata": {
            "tags": []
          },
          "execution_count": 72
        }
      ]
    },
    {
      "cell_type": "code",
      "metadata": {
        "id": "UZoXpiTtG2o2",
        "colab": {
          "base_uri": "https://localhost:8080/"
        },
        "outputId": "6f3fb9e7-3f9b-448d-d396-925f06c29d5f"
      },
      "source": [
        "# manhattan distance abs\r\n",
        "distance = K.sum(K.abs(hidden_pool_1 - hidden_pool_2), axis=-1) #따로해줘야하니깐 축을줌, 각각따로\r\n",
        "distance"
      ],
      "execution_count": 74,
      "outputs": [
        {
          "output_type": "execute_result",
          "data": {
            "text/plain": [
              "<tf.Tensor: shape=(2,), dtype=float32, numpy=array([0.02305335, 0.02967051], dtype=float32)>"
            ]
          },
          "metadata": {
            "tags": []
          },
          "execution_count": 74
        }
      ]
    },
    {
      "cell_type": "code",
      "metadata": {
        "id": "Svm6u8oVG9Ue",
        "colab": {
          "base_uri": "https://localhost:8080/"
        },
        "outputId": "d8208db3-5b5a-40ef-8768-54b1c354435a"
      },
      "source": [
        "# output value\r\n",
        "output = K.exp(-distance)\r\n",
        "output"
      ],
      "execution_count": 75,
      "outputs": [
        {
          "output_type": "execute_result",
          "data": {
            "text/plain": [
              "<tf.Tensor: shape=(2,), dtype=float32, numpy=array([0.9772103, 0.9707653], dtype=float32)>"
            ]
          },
          "metadata": {
            "tags": []
          },
          "execution_count": 75
        }
      ]
    },
    {
      "cell_type": "code",
      "metadata": {
        "id": "SKiXOU6pqRXB",
        "colab": {
          "base_uri": "https://localhost:8080/"
        },
        "outputId": "a6c4741c-6f1f-4903-e20f-0502aaf6b0f3"
      },
      "source": [
        "# Generate linearly spaced vector\r\n",
        "distance = np.linspace(0,10,100) #가정을하고\r\n",
        "distance"
      ],
      "execution_count": 76,
      "outputs": [
        {
          "output_type": "execute_result",
          "data": {
            "text/plain": [
              "array([ 0.        ,  0.1010101 ,  0.2020202 ,  0.3030303 ,  0.4040404 ,\n",
              "        0.50505051,  0.60606061,  0.70707071,  0.80808081,  0.90909091,\n",
              "        1.01010101,  1.11111111,  1.21212121,  1.31313131,  1.41414141,\n",
              "        1.51515152,  1.61616162,  1.71717172,  1.81818182,  1.91919192,\n",
              "        2.02020202,  2.12121212,  2.22222222,  2.32323232,  2.42424242,\n",
              "        2.52525253,  2.62626263,  2.72727273,  2.82828283,  2.92929293,\n",
              "        3.03030303,  3.13131313,  3.23232323,  3.33333333,  3.43434343,\n",
              "        3.53535354,  3.63636364,  3.73737374,  3.83838384,  3.93939394,\n",
              "        4.04040404,  4.14141414,  4.24242424,  4.34343434,  4.44444444,\n",
              "        4.54545455,  4.64646465,  4.74747475,  4.84848485,  4.94949495,\n",
              "        5.05050505,  5.15151515,  5.25252525,  5.35353535,  5.45454545,\n",
              "        5.55555556,  5.65656566,  5.75757576,  5.85858586,  5.95959596,\n",
              "        6.06060606,  6.16161616,  6.26262626,  6.36363636,  6.46464646,\n",
              "        6.56565657,  6.66666667,  6.76767677,  6.86868687,  6.96969697,\n",
              "        7.07070707,  7.17171717,  7.27272727,  7.37373737,  7.47474747,\n",
              "        7.57575758,  7.67676768,  7.77777778,  7.87878788,  7.97979798,\n",
              "        8.08080808,  8.18181818,  8.28282828,  8.38383838,  8.48484848,\n",
              "        8.58585859,  8.68686869,  8.78787879,  8.88888889,  8.98989899,\n",
              "        9.09090909,  9.19191919,  9.29292929,  9.39393939,  9.49494949,\n",
              "        9.5959596 ,  9.6969697 ,  9.7979798 ,  9.8989899 , 10.        ])"
            ]
          },
          "metadata": {
            "tags": []
          },
          "execution_count": 76
        }
      ]
    },
    {
      "cell_type": "code",
      "metadata": {
        "id": "28OWJI7AqSML",
        "colab": {
          "base_uri": "https://localhost:8080/",
          "height": 281
        },
        "outputId": "5fef9b1b-f7aa-48b7-c490-437d5939d567"
      },
      "source": [
        "# draw plot\r\n",
        "plt.plot(distance, K.exp(-distance))\r\n",
        "plt.title('malstm')\r\n",
        "plt.show()"
      ],
      "execution_count": 81,
      "outputs": [
        {
          "output_type": "display_data",
          "data": {
            "image/png": "[encoded data removed]",
            "text/plain": [
              "<Figure size 432x288 with 1 Axes>"
            ]
          },
          "metadata": {
            "tags": [],
            "needs_background": "light"
          }
        }
      ]
    },
    {
      "cell_type": "code",
      "metadata": {
        "id": "SobekkcjEX_P"
      },
      "source": [
        "def build_model(n_vocab, d_model, n_seq_1, n_seq_2):\n",
        "    \"\"\"\n",
        "    문장 유사도 비교 모델\n",
        "    :param n_vocab: vocabulary 단어 수\n",
        "    :param d_model: 단어를 의미하는 벡터의 차원 수\n",
        "    :param n_seq_1: 문장 1 길이 (단어 수)\n",
        "    :param n_seq_2: 문장 2 길이 (단어 수)\n",
        "    \"\"\"\n",
        "    inputs_1 = tf.keras.layers.Input((n_seq_1,))  # (bs, n_seq_1)\n",
        "    inputs_2 = tf.keras.layers.Input((n_seq_2,))  # (bs, n_seq_2)\n",
        "    ##########################################\n",
        "    embedding = tf.keras.layers.Embedding(n_vocab,d_model)\n",
        "\n",
        "    hidden_1 = embedding(inputs_1) #(bs, n_seq_1,d_model)\n",
        "    hidden_2 = embedding(inputs_2) #(bs, n_seq_2,d_model)\n",
        "\n",
        "    #RNN, CNN,Dense\n",
        "\n",
        "    # sentence embedding : 각 단어 벡터의 최대값 기준으로 벡터를 더해서 차원을 줄여줌(문장vector생성)\n",
        "    pool = tf.keras.layers.GlobalMaxPool1D()\n",
        "    hidden_pool_1 = pool(hidden_1)  # (bs, 5)\n",
        "    hidden_pool_2 = pool(hidden_2)  # (bs, 5)\n",
        "\n",
        "    # distance계산 ||a-b|| manhattan distance abs\n",
        "    distance = K.sum(K.abs(hidden_pool_1 - hidden_pool_2), axis=-1) \n",
        "    # output value\n",
        "    outputs = K.exp(-distance)\n",
        "\n",
        "\n",
        "\n",
        "    ##########################################\n",
        "    # 학습할 모델 선언\n",
        "    model = tf.keras.Model(inputs=(inputs_1, inputs_2), outputs=outputs)\n",
        "    return model"
      ],
      "execution_count": 135,
      "outputs": []
    },
    {
      "cell_type": "code",
      "metadata": {
        "id": "72cRi9zUEeqG",
        "colab": {
          "base_uri": "https://localhost:8080/",
          "height": 865
        },
        "outputId": "a2373fdd-7001-4bd5-9852-f8577bbcd3b4"
      },
      "source": [
        "# 모델 생성\n",
        "model = build_model(len(word_to_id), 5, 4, 3)\n",
        "# 모델 내용 그래프 출력\n",
        "tf.keras.utils.plot_model(model, 'model.png', show_shapes=True)"
      ],
      "execution_count": 90,
      "outputs": [
        {
          "output_type": "execute_result",
          "data": {
            "image/png": "[encoded data removed]",
            "text/plain": [
              "<IPython.core.display.Image object>"
            ]
          },
          "metadata": {
            "tags": []
          },
          "execution_count": 90
        }
      ]
    },
    {
      "cell_type": "markdown",
      "metadata": {
        "id": "gcG7zBAr_R_4"
      },
      "source": [
        "# Sample Data Project"
      ]
    },
    {
      "cell_type": "markdown",
      "metadata": {
        "id": "jv0OPyaKSpjw"
      },
      "source": [
        "## Data\n"
      ]
    },
    {
      "cell_type": "code",
      "metadata": {
        "id": "98u39IsbSoBk",
        "colab": {
          "base_uri": "https://localhost:8080/",
          "height": 470
        },
        "outputId": "435950a0-c193-4244-b118-99a0bad732c1"
      },
      "source": [
        "df_train = pd.read_csv(os.path.join(quora_dir, 'kor_pair_train.csv'), delimiter=',')\n",
        "df_train"
      ],
      "execution_count": 114,
      "outputs": [
        {
          "output_type": "execute_result",
          "data": {
            "text/html": [
              "<div>\n",
              "<style scoped>\n",
              "    .dataframe tbody tr th:only-of-type {\n",
              "        vertical-align: middle;\n",
              "    }\n",
              "\n",
              "    .dataframe tbody tr th {\n",
              "        vertical-align: top;\n",
              "    }\n",
              "\n",
              "    .dataframe thead th {\n",
              "        text-align: right;\n",
              "    }\n",
              "</style>\n",
              "<table border=\"1\" class=\"dataframe\">\n",
              "  <thead>\n",
              "    <tr style=\"text-align: right;\">\n",
              "      <th></th>\n",
              "      <th>id</th>\n",
              "      <th>qid1</th>\n",
              "      <th>qid2</th>\n",
              "      <th>question1</th>\n",
              "      <th>question2</th>\n",
              "      <th>is_duplicate</th>\n",
              "    </tr>\n",
              "  </thead>\n",
              "  <tbody>\n",
              "    <tr>\n",
              "      <th>0</th>\n",
              "      <td>1</td>\n",
              "      <td>1</td>\n",
              "      <td>2</td>\n",
              "      <td>1000일 만난 여자친구와 이별</td>\n",
              "      <td>10년 연예의끝</td>\n",
              "      <td>1</td>\n",
              "    </tr>\n",
              "    <tr>\n",
              "      <th>1</th>\n",
              "      <td>2</td>\n",
              "      <td>3</td>\n",
              "      <td>4</td>\n",
              "      <td>10년 연애사 되돌아보니 다 부질없네</td>\n",
              "      <td>10년이라는 시간이 참 무색하다 싶네</td>\n",
              "      <td>1</td>\n",
              "    </tr>\n",
              "    <tr>\n",
              "      <th>2</th>\n",
              "      <td>3</td>\n",
              "      <td>5</td>\n",
              "      <td>6</td>\n",
              "      <td>10년만나다 헤어지네</td>\n",
              "      <td>14년된 여자친구랑 이별</td>\n",
              "      <td>1</td>\n",
              "    </tr>\n",
              "    <tr>\n",
              "      <th>3</th>\n",
              "      <td>4</td>\n",
              "      <td>7</td>\n",
              "      <td>8</td>\n",
              "      <td>10월의 마지막밤 . 더 보고싶네 그사람</td>\n",
              "      <td>15년…안녕</td>\n",
              "      <td>1</td>\n",
              "    </tr>\n",
              "    <tr>\n",
              "      <th>4</th>\n",
              "      <td>5</td>\n",
              "      <td>9</td>\n",
              "      <td>10</td>\n",
              "      <td>14년의 기나긴 이야기.</td>\n",
              "      <td>1년 9개월 의 연애 종지부.</td>\n",
              "      <td>1</td>\n",
              "    </tr>\n",
              "    <tr>\n",
              "      <th>...</th>\n",
              "      <td>...</td>\n",
              "      <td>...</td>\n",
              "      <td>...</td>\n",
              "      <td>...</td>\n",
              "      <td>...</td>\n",
              "      <td>...</td>\n",
              "    </tr>\n",
              "    <tr>\n",
              "      <th>6883</th>\n",
              "      <td>6884</td>\n",
              "      <td>13767</td>\n",
              "      <td>13768</td>\n",
              "      <td>O형 남자와 썸을 타는데</td>\n",
              "      <td>O형 여자와 썸을 타는데</td>\n",
              "      <td>1</td>\n",
              "    </tr>\n",
              "    <tr>\n",
              "      <th>6884</th>\n",
              "      <td>6885</td>\n",
              "      <td>13769</td>\n",
              "      <td>13770</td>\n",
              "      <td>SD카드 안돼</td>\n",
              "      <td>SD카드 망가졌어</td>\n",
              "      <td>0</td>\n",
              "    </tr>\n",
              "    <tr>\n",
              "      <th>6885</th>\n",
              "      <td>6886</td>\n",
              "      <td>13771</td>\n",
              "      <td>13772</td>\n",
              "      <td>SNS 를 끊어야 하는데.</td>\n",
              "      <td>가슴 아픈 이별</td>\n",
              "      <td>1</td>\n",
              "    </tr>\n",
              "    <tr>\n",
              "      <th>6886</th>\n",
              "      <td>6887</td>\n",
              "      <td>13773</td>\n",
              "      <td>13774</td>\n",
              "      <td>SNS 시간낭비인데 자꾸 보게됨</td>\n",
              "      <td>SNS 시간낭비인 거 아는데 매일 하는 중</td>\n",
              "      <td>0</td>\n",
              "    </tr>\n",
              "    <tr>\n",
              "      <th>6887</th>\n",
              "      <td>6888</td>\n",
              "      <td>13775</td>\n",
              "      <td>13776</td>\n",
              "      <td>sns에서 다른 이성이랑 대화하는걸 보니 화가 나</td>\n",
              "      <td>가슴에 구멍이 너무 커.</td>\n",
              "      <td>1</td>\n",
              "    </tr>\n",
              "  </tbody>\n",
              "</table>\n",
              "<p>6888 rows × 6 columns</p>\n",
              "</div>"
            ],
            "text/plain": [
              "        id   qid1  ...                question2 is_duplicate\n",
              "0        1      1  ...                 10년 연예의끝            1\n",
              "1        2      3  ...     10년이라는 시간이 참 무색하다 싶네            1\n",
              "2        3      5  ...            14년된 여자친구랑 이별            1\n",
              "3        4      7  ...                   15년…안녕            1\n",
              "4        5      9  ...         1년 9개월 의 연애 종지부.            1\n",
              "...    ...    ...  ...                      ...          ...\n",
              "6883  6884  13767  ...            O형 여자와 썸을 타는데            1\n",
              "6884  6885  13769  ...                SD카드 망가졌어            0\n",
              "6885  6886  13771  ...                 가슴 아픈 이별            1\n",
              "6886  6887  13773  ...  SNS 시간낭비인 거 아는데 매일 하는 중            0\n",
              "6887  6888  13775  ...            가슴에 구멍이 너무 커.            1\n",
              "\n",
              "[6888 rows x 6 columns]"
            ]
          },
          "metadata": {
            "tags": []
          },
          "execution_count": 114
        }
      ]
    },
    {
      "cell_type": "code",
      "metadata": {
        "id": "q3oQCaiHlIE6",
        "colab": {
          "base_uri": "https://localhost:8080/",
          "height": 470
        },
        "outputId": "cc3befaa-ac85-4395-aa4b-b0d0986c130f"
      },
      "source": [
        "df_train = df_train.dropna()\n",
        "df_train"
      ],
      "execution_count": 115,
      "outputs": [
        {
          "output_type": "execute_result",
          "data": {
            "text/html": [
              "<div>\n",
              "<style scoped>\n",
              "    .dataframe tbody tr th:only-of-type {\n",
              "        vertical-align: middle;\n",
              "    }\n",
              "\n",
              "    .dataframe tbody tr th {\n",
              "        vertical-align: top;\n",
              "    }\n",
              "\n",
              "    .dataframe thead th {\n",
              "        text-align: right;\n",
              "    }\n",
              "</style>\n",
              "<table border=\"1\" class=\"dataframe\">\n",
              "  <thead>\n",
              "    <tr style=\"text-align: right;\">\n",
              "      <th></th>\n",
              "      <th>id</th>\n",
              "      <th>qid1</th>\n",
              "      <th>qid2</th>\n",
              "      <th>question1</th>\n",
              "      <th>question2</th>\n",
              "      <th>is_duplicate</th>\n",
              "    </tr>\n",
              "  </thead>\n",
              "  <tbody>\n",
              "    <tr>\n",
              "      <th>0</th>\n",
              "      <td>1</td>\n",
              "      <td>1</td>\n",
              "      <td>2</td>\n",
              "      <td>1000일 만난 여자친구와 이별</td>\n",
              "      <td>10년 연예의끝</td>\n",
              "      <td>1</td>\n",
              "    </tr>\n",
              "    <tr>\n",
              "      <th>1</th>\n",
              "      <td>2</td>\n",
              "      <td>3</td>\n",
              "      <td>4</td>\n",
              "      <td>10년 연애사 되돌아보니 다 부질없네</td>\n",
              "      <td>10년이라는 시간이 참 무색하다 싶네</td>\n",
              "      <td>1</td>\n",
              "    </tr>\n",
              "    <tr>\n",
              "      <th>2</th>\n",
              "      <td>3</td>\n",
              "      <td>5</td>\n",
              "      <td>6</td>\n",
              "      <td>10년만나다 헤어지네</td>\n",
              "      <td>14년된 여자친구랑 이별</td>\n",
              "      <td>1</td>\n",
              "    </tr>\n",
              "    <tr>\n",
              "      <th>3</th>\n",
              "      <td>4</td>\n",
              "      <td>7</td>\n",
              "      <td>8</td>\n",
              "      <td>10월의 마지막밤 . 더 보고싶네 그사람</td>\n",
              "      <td>15년…안녕</td>\n",
              "      <td>1</td>\n",
              "    </tr>\n",
              "    <tr>\n",
              "      <th>4</th>\n",
              "      <td>5</td>\n",
              "      <td>9</td>\n",
              "      <td>10</td>\n",
              "      <td>14년의 기나긴 이야기.</td>\n",
              "      <td>1년 9개월 의 연애 종지부.</td>\n",
              "      <td>1</td>\n",
              "    </tr>\n",
              "    <tr>\n",
              "      <th>...</th>\n",
              "      <td>...</td>\n",
              "      <td>...</td>\n",
              "      <td>...</td>\n",
              "      <td>...</td>\n",
              "      <td>...</td>\n",
              "      <td>...</td>\n",
              "    </tr>\n",
              "    <tr>\n",
              "      <th>6883</th>\n",
              "      <td>6884</td>\n",
              "      <td>13767</td>\n",
              "      <td>13768</td>\n",
              "      <td>O형 남자와 썸을 타는데</td>\n",
              "      <td>O형 여자와 썸을 타는데</td>\n",
              "      <td>1</td>\n",
              "    </tr>\n",
              "    <tr>\n",
              "      <th>6884</th>\n",
              "      <td>6885</td>\n",
              "      <td>13769</td>\n",
              "      <td>13770</td>\n",
              "      <td>SD카드 안돼</td>\n",
              "      <td>SD카드 망가졌어</td>\n",
              "      <td>0</td>\n",
              "    </tr>\n",
              "    <tr>\n",
              "      <th>6885</th>\n",
              "      <td>6886</td>\n",
              "      <td>13771</td>\n",
              "      <td>13772</td>\n",
              "      <td>SNS 를 끊어야 하는데.</td>\n",
              "      <td>가슴 아픈 이별</td>\n",
              "      <td>1</td>\n",
              "    </tr>\n",
              "    <tr>\n",
              "      <th>6886</th>\n",
              "      <td>6887</td>\n",
              "      <td>13773</td>\n",
              "      <td>13774</td>\n",
              "      <td>SNS 시간낭비인데 자꾸 보게됨</td>\n",
              "      <td>SNS 시간낭비인 거 아는데 매일 하는 중</td>\n",
              "      <td>0</td>\n",
              "    </tr>\n",
              "    <tr>\n",
              "      <th>6887</th>\n",
              "      <td>6888</td>\n",
              "      <td>13775</td>\n",
              "      <td>13776</td>\n",
              "      <td>sns에서 다른 이성이랑 대화하는걸 보니 화가 나</td>\n",
              "      <td>가슴에 구멍이 너무 커.</td>\n",
              "      <td>1</td>\n",
              "    </tr>\n",
              "  </tbody>\n",
              "</table>\n",
              "<p>6888 rows × 6 columns</p>\n",
              "</div>"
            ],
            "text/plain": [
              "        id   qid1  ...                question2 is_duplicate\n",
              "0        1      1  ...                 10년 연예의끝            1\n",
              "1        2      3  ...     10년이라는 시간이 참 무색하다 싶네            1\n",
              "2        3      5  ...            14년된 여자친구랑 이별            1\n",
              "3        4      7  ...                   15년…안녕            1\n",
              "4        5      9  ...         1년 9개월 의 연애 종지부.            1\n",
              "...    ...    ...  ...                      ...          ...\n",
              "6883  6884  13767  ...            O형 여자와 썸을 타는데            1\n",
              "6884  6885  13769  ...                SD카드 망가졌어            0\n",
              "6885  6886  13771  ...                 가슴 아픈 이별            1\n",
              "6886  6887  13773  ...  SNS 시간낭비인 거 아는데 매일 하는 중            0\n",
              "6887  6888  13775  ...            가슴에 구멍이 너무 커.            1\n",
              "\n",
              "[6888 rows x 6 columns]"
            ]
          },
          "metadata": {
            "tags": []
          },
          "execution_count": 115
        }
      ]
    },
    {
      "cell_type": "code",
      "metadata": {
        "id": "EKoCzDHNSy3r",
        "colab": {
          "base_uri": "https://localhost:8080/",
          "height": 419
        },
        "outputId": "937a45c1-80bb-41f1-b072-9d60d3022ab7"
      },
      "source": [
        "df_test = pd.read_csv(os.path.join(quora_dir, 'kor_Pair_test.csv'), delimiter=',')\n",
        "df_test"
      ],
      "execution_count": 116,
      "outputs": [
        {
          "output_type": "execute_result",
          "data": {
            "text/html": [
              "<div>\n",
              "<style scoped>\n",
              "    .dataframe tbody tr th:only-of-type {\n",
              "        vertical-align: middle;\n",
              "    }\n",
              "\n",
              "    .dataframe tbody tr th {\n",
              "        vertical-align: top;\n",
              "    }\n",
              "\n",
              "    .dataframe thead th {\n",
              "        text-align: right;\n",
              "    }\n",
              "</style>\n",
              "<table border=\"1\" class=\"dataframe\">\n",
              "  <thead>\n",
              "    <tr style=\"text-align: right;\">\n",
              "      <th></th>\n",
              "      <th>test_id</th>\n",
              "      <th>question1</th>\n",
              "      <th>question2</th>\n",
              "      <th>is_duplicate</th>\n",
              "      <th>Unnamed: 4</th>\n",
              "    </tr>\n",
              "  </thead>\n",
              "  <tbody>\n",
              "    <tr>\n",
              "      <th>0</th>\n",
              "      <td>1</td>\n",
              "      <td>21살의 사랑에 대해</td>\n",
              "      <td>사랑을 노력한다는게 말이 되나요?</td>\n",
              "      <td>1</td>\n",
              "      <td>NaN</td>\n",
              "    </tr>\n",
              "    <tr>\n",
              "      <th>1</th>\n",
              "      <td>2</td>\n",
              "      <td>2년 가량의 연애</td>\n",
              "      <td>2년 만났어</td>\n",
              "      <td>0</td>\n",
              "      <td>NaN</td>\n",
              "    </tr>\n",
              "    <tr>\n",
              "      <th>2</th>\n",
              "      <td>3</td>\n",
              "      <td>2년 만난 기념일이야</td>\n",
              "      <td>우리 벌써 2년 동안 사궜어</td>\n",
              "      <td>0</td>\n",
              "      <td>NaN</td>\n",
              "    </tr>\n",
              "    <tr>\n",
              "      <th>3</th>\n",
              "      <td>4</td>\n",
              "      <td>2년 사귀었는데 결혼하려고</td>\n",
              "      <td>2년째 짝사랑하는 사람이 있어.</td>\n",
              "      <td>1</td>\n",
              "      <td>NaN</td>\n",
              "    </tr>\n",
              "    <tr>\n",
              "      <th>4</th>\n",
              "      <td>5</td>\n",
              "      <td>5급면제도 나랑사랑카드 발급하나요?</td>\n",
              "      <td>아이콘 노래 사랑을 했다 별로인것같은데</td>\n",
              "      <td>1</td>\n",
              "      <td>NaN</td>\n",
              "    </tr>\n",
              "    <tr>\n",
              "      <th>...</th>\n",
              "      <td>...</td>\n",
              "      <td>...</td>\n",
              "      <td>...</td>\n",
              "      <td>...</td>\n",
              "      <td>...</td>\n",
              "    </tr>\n",
              "    <tr>\n",
              "      <th>683</th>\n",
              "      <td>684</td>\n",
              "      <td>회사에서 짤릴 필이 와</td>\n",
              "      <td>나 회사 짤릴 거 같은데 어떻게 만회하지</td>\n",
              "      <td>0</td>\n",
              "      <td>1.0</td>\n",
              "    </tr>\n",
              "    <tr>\n",
              "      <th>684</th>\n",
              "      <td>685</td>\n",
              "      <td>효율적으로 공부하는 방법</td>\n",
              "      <td>새 해 결심 뭐였더라</td>\n",
              "      <td>1</td>\n",
              "      <td>NaN</td>\n",
              "    </tr>\n",
              "    <tr>\n",
              "      <th>685</th>\n",
              "      <td>686</td>\n",
              "      <td>휴대폰 액정 깨졌어</td>\n",
              "      <td>액정 깨짐</td>\n",
              "      <td>0</td>\n",
              "      <td>NaN</td>\n",
              "    </tr>\n",
              "    <tr>\n",
              "      <th>686</th>\n",
              "      <td>687</td>\n",
              "      <td>힘든 일이 너무 많아요</td>\n",
              "      <td>괜찮아 천천히 해도 돼</td>\n",
              "      <td>1</td>\n",
              "      <td>NaN</td>\n",
              "    </tr>\n",
              "    <tr>\n",
              "      <th>687</th>\n",
              "      <td>688</td>\n",
              "      <td>AI도 감정 있나?</td>\n",
              "      <td>이런 감정은 처음인데 설레네</td>\n",
              "      <td>1</td>\n",
              "      <td>NaN</td>\n",
              "    </tr>\n",
              "  </tbody>\n",
              "</table>\n",
              "<p>688 rows × 5 columns</p>\n",
              "</div>"
            ],
            "text/plain": [
              "     test_id            question1  ... is_duplicate  Unnamed: 4\n",
              "0          1          21살의 사랑에 대해  ...            1         NaN\n",
              "1          2            2년 가량의 연애  ...            0         NaN\n",
              "2          3          2년 만난 기념일이야  ...            0         NaN\n",
              "3          4       2년 사귀었는데 결혼하려고  ...            1         NaN\n",
              "4          5  5급면제도 나랑사랑카드 발급하나요?  ...            1         NaN\n",
              "..       ...                  ...  ...          ...         ...\n",
              "683      684         회사에서 짤릴 필이 와  ...            0         1.0\n",
              "684      685        효율적으로 공부하는 방법  ...            1         NaN\n",
              "685      686           휴대폰 액정 깨졌어  ...            0         NaN\n",
              "686      687         힘든 일이 너무 많아요  ...            1         NaN\n",
              "687      688           AI도 감정 있나?  ...            1         NaN\n",
              "\n",
              "[688 rows x 5 columns]"
            ]
          },
          "metadata": {
            "tags": []
          },
          "execution_count": 116
        }
      ]
    },
    {
      "cell_type": "code",
      "metadata": {
        "id": "GQdNoI3HlO5_",
        "colab": {
          "base_uri": "https://localhost:8080/",
          "height": 80
        },
        "outputId": "66218141-17f4-4dc3-cbd0-f40a3f29a668"
      },
      "source": [
        "df_test.dropna()"
      ],
      "execution_count": 117,
      "outputs": [
        {
          "output_type": "execute_result",
          "data": {
            "text/html": [
              "<div>\n",
              "<style scoped>\n",
              "    .dataframe tbody tr th:only-of-type {\n",
              "        vertical-align: middle;\n",
              "    }\n",
              "\n",
              "    .dataframe tbody tr th {\n",
              "        vertical-align: top;\n",
              "    }\n",
              "\n",
              "    .dataframe thead th {\n",
              "        text-align: right;\n",
              "    }\n",
              "</style>\n",
              "<table border=\"1\" class=\"dataframe\">\n",
              "  <thead>\n",
              "    <tr style=\"text-align: right;\">\n",
              "      <th></th>\n",
              "      <th>test_id</th>\n",
              "      <th>question1</th>\n",
              "      <th>question2</th>\n",
              "      <th>is_duplicate</th>\n",
              "      <th>Unnamed: 4</th>\n",
              "    </tr>\n",
              "  </thead>\n",
              "  <tbody>\n",
              "    <tr>\n",
              "      <th>683</th>\n",
              "      <td>684</td>\n",
              "      <td>회사에서 짤릴 필이 와</td>\n",
              "      <td>나 회사 짤릴 거 같은데 어떻게 만회하지</td>\n",
              "      <td>0</td>\n",
              "      <td>1.0</td>\n",
              "    </tr>\n",
              "  </tbody>\n",
              "</table>\n",
              "</div>"
            ],
            "text/plain": [
              "     test_id     question1               question2  is_duplicate  Unnamed: 4\n",
              "683      684  회사에서 짤릴 필이 와  나 회사 짤릴 거 같은데 어떻게 만회하지             0         1.0"
            ]
          },
          "metadata": {
            "tags": []
          },
          "execution_count": 117
        }
      ]
    },
    {
      "cell_type": "code",
      "metadata": {
        "id": "UNNBJKa_Abb7",
        "colab": {
          "base_uri": "https://localhost:8080/",
          "height": 419
        },
        "outputId": "21e6bb84-c63b-43d4-c396-53668b4cb002"
      },
      "source": [
        "df_test = df_test[['test_id', 'question1', 'question2', 'is_duplicate']] #이값들만 추출할때\n",
        "df_test"
      ],
      "execution_count": 118,
      "outputs": [
        {
          "output_type": "execute_result",
          "data": {
            "text/html": [
              "<div>\n",
              "<style scoped>\n",
              "    .dataframe tbody tr th:only-of-type {\n",
              "        vertical-align: middle;\n",
              "    }\n",
              "\n",
              "    .dataframe tbody tr th {\n",
              "        vertical-align: top;\n",
              "    }\n",
              "\n",
              "    .dataframe thead th {\n",
              "        text-align: right;\n",
              "    }\n",
              "</style>\n",
              "<table border=\"1\" class=\"dataframe\">\n",
              "  <thead>\n",
              "    <tr style=\"text-align: right;\">\n",
              "      <th></th>\n",
              "      <th>test_id</th>\n",
              "      <th>question1</th>\n",
              "      <th>question2</th>\n",
              "      <th>is_duplicate</th>\n",
              "    </tr>\n",
              "  </thead>\n",
              "  <tbody>\n",
              "    <tr>\n",
              "      <th>0</th>\n",
              "      <td>1</td>\n",
              "      <td>21살의 사랑에 대해</td>\n",
              "      <td>사랑을 노력한다는게 말이 되나요?</td>\n",
              "      <td>1</td>\n",
              "    </tr>\n",
              "    <tr>\n",
              "      <th>1</th>\n",
              "      <td>2</td>\n",
              "      <td>2년 가량의 연애</td>\n",
              "      <td>2년 만났어</td>\n",
              "      <td>0</td>\n",
              "    </tr>\n",
              "    <tr>\n",
              "      <th>2</th>\n",
              "      <td>3</td>\n",
              "      <td>2년 만난 기념일이야</td>\n",
              "      <td>우리 벌써 2년 동안 사궜어</td>\n",
              "      <td>0</td>\n",
              "    </tr>\n",
              "    <tr>\n",
              "      <th>3</th>\n",
              "      <td>4</td>\n",
              "      <td>2년 사귀었는데 결혼하려고</td>\n",
              "      <td>2년째 짝사랑하는 사람이 있어.</td>\n",
              "      <td>1</td>\n",
              "    </tr>\n",
              "    <tr>\n",
              "      <th>4</th>\n",
              "      <td>5</td>\n",
              "      <td>5급면제도 나랑사랑카드 발급하나요?</td>\n",
              "      <td>아이콘 노래 사랑을 했다 별로인것같은데</td>\n",
              "      <td>1</td>\n",
              "    </tr>\n",
              "    <tr>\n",
              "      <th>...</th>\n",
              "      <td>...</td>\n",
              "      <td>...</td>\n",
              "      <td>...</td>\n",
              "      <td>...</td>\n",
              "    </tr>\n",
              "    <tr>\n",
              "      <th>683</th>\n",
              "      <td>684</td>\n",
              "      <td>회사에서 짤릴 필이 와</td>\n",
              "      <td>나 회사 짤릴 거 같은데 어떻게 만회하지</td>\n",
              "      <td>0</td>\n",
              "    </tr>\n",
              "    <tr>\n",
              "      <th>684</th>\n",
              "      <td>685</td>\n",
              "      <td>효율적으로 공부하는 방법</td>\n",
              "      <td>새 해 결심 뭐였더라</td>\n",
              "      <td>1</td>\n",
              "    </tr>\n",
              "    <tr>\n",
              "      <th>685</th>\n",
              "      <td>686</td>\n",
              "      <td>휴대폰 액정 깨졌어</td>\n",
              "      <td>액정 깨짐</td>\n",
              "      <td>0</td>\n",
              "    </tr>\n",
              "    <tr>\n",
              "      <th>686</th>\n",
              "      <td>687</td>\n",
              "      <td>힘든 일이 너무 많아요</td>\n",
              "      <td>괜찮아 천천히 해도 돼</td>\n",
              "      <td>1</td>\n",
              "    </tr>\n",
              "    <tr>\n",
              "      <th>687</th>\n",
              "      <td>688</td>\n",
              "      <td>AI도 감정 있나?</td>\n",
              "      <td>이런 감정은 처음인데 설레네</td>\n",
              "      <td>1</td>\n",
              "    </tr>\n",
              "  </tbody>\n",
              "</table>\n",
              "<p>688 rows × 4 columns</p>\n",
              "</div>"
            ],
            "text/plain": [
              "     test_id            question1               question2  is_duplicate\n",
              "0          1          21살의 사랑에 대해      사랑을 노력한다는게 말이 되나요?             1\n",
              "1          2            2년 가량의 연애                  2년 만났어             0\n",
              "2          3          2년 만난 기념일이야         우리 벌써 2년 동안 사궜어             0\n",
              "3          4       2년 사귀었는데 결혼하려고       2년째 짝사랑하는 사람이 있어.             1\n",
              "4          5  5급면제도 나랑사랑카드 발급하나요?   아이콘 노래 사랑을 했다 별로인것같은데             1\n",
              "..       ...                  ...                     ...           ...\n",
              "683      684         회사에서 짤릴 필이 와  나 회사 짤릴 거 같은데 어떻게 만회하지             0\n",
              "684      685        효율적으로 공부하는 방법             새 해 결심 뭐였더라             1\n",
              "685      686           휴대폰 액정 깨졌어                   액정 깨짐             0\n",
              "686      687         힘든 일이 너무 많아요            괜찮아 천천히 해도 돼             1\n",
              "687      688           AI도 감정 있나?         이런 감정은 처음인데 설레네             1\n",
              "\n",
              "[688 rows x 4 columns]"
            ]
          },
          "metadata": {
            "tags": []
          },
          "execution_count": 118
        }
      ]
    },
    {
      "cell_type": "code",
      "metadata": {
        "id": "83Sk-EN0lT35",
        "colab": {
          "base_uri": "https://localhost:8080/",
          "height": 419
        },
        "outputId": "fd5b605d-beb7-4904-952a-13defe61ab86"
      },
      "source": [
        "df_test = df_test.dropna()\n",
        "df_test"
      ],
      "execution_count": 119,
      "outputs": [
        {
          "output_type": "execute_result",
          "data": {
            "text/html": [
              "<div>\n",
              "<style scoped>\n",
              "    .dataframe tbody tr th:only-of-type {\n",
              "        vertical-align: middle;\n",
              "    }\n",
              "\n",
              "    .dataframe tbody tr th {\n",
              "        vertical-align: top;\n",
              "    }\n",
              "\n",
              "    .dataframe thead th {\n",
              "        text-align: right;\n",
              "    }\n",
              "</style>\n",
              "<table border=\"1\" class=\"dataframe\">\n",
              "  <thead>\n",
              "    <tr style=\"text-align: right;\">\n",
              "      <th></th>\n",
              "      <th>test_id</th>\n",
              "      <th>question1</th>\n",
              "      <th>question2</th>\n",
              "      <th>is_duplicate</th>\n",
              "    </tr>\n",
              "  </thead>\n",
              "  <tbody>\n",
              "    <tr>\n",
              "      <th>0</th>\n",
              "      <td>1</td>\n",
              "      <td>21살의 사랑에 대해</td>\n",
              "      <td>사랑을 노력한다는게 말이 되나요?</td>\n",
              "      <td>1</td>\n",
              "    </tr>\n",
              "    <tr>\n",
              "      <th>1</th>\n",
              "      <td>2</td>\n",
              "      <td>2년 가량의 연애</td>\n",
              "      <td>2년 만났어</td>\n",
              "      <td>0</td>\n",
              "    </tr>\n",
              "    <tr>\n",
              "      <th>2</th>\n",
              "      <td>3</td>\n",
              "      <td>2년 만난 기념일이야</td>\n",
              "      <td>우리 벌써 2년 동안 사궜어</td>\n",
              "      <td>0</td>\n",
              "    </tr>\n",
              "    <tr>\n",
              "      <th>3</th>\n",
              "      <td>4</td>\n",
              "      <td>2년 사귀었는데 결혼하려고</td>\n",
              "      <td>2년째 짝사랑하는 사람이 있어.</td>\n",
              "      <td>1</td>\n",
              "    </tr>\n",
              "    <tr>\n",
              "      <th>4</th>\n",
              "      <td>5</td>\n",
              "      <td>5급면제도 나랑사랑카드 발급하나요?</td>\n",
              "      <td>아이콘 노래 사랑을 했다 별로인것같은데</td>\n",
              "      <td>1</td>\n",
              "    </tr>\n",
              "    <tr>\n",
              "      <th>...</th>\n",
              "      <td>...</td>\n",
              "      <td>...</td>\n",
              "      <td>...</td>\n",
              "      <td>...</td>\n",
              "    </tr>\n",
              "    <tr>\n",
              "      <th>683</th>\n",
              "      <td>684</td>\n",
              "      <td>회사에서 짤릴 필이 와</td>\n",
              "      <td>나 회사 짤릴 거 같은데 어떻게 만회하지</td>\n",
              "      <td>0</td>\n",
              "    </tr>\n",
              "    <tr>\n",
              "      <th>684</th>\n",
              "      <td>685</td>\n",
              "      <td>효율적으로 공부하는 방법</td>\n",
              "      <td>새 해 결심 뭐였더라</td>\n",
              "      <td>1</td>\n",
              "    </tr>\n",
              "    <tr>\n",
              "      <th>685</th>\n",
              "      <td>686</td>\n",
              "      <td>휴대폰 액정 깨졌어</td>\n",
              "      <td>액정 깨짐</td>\n",
              "      <td>0</td>\n",
              "    </tr>\n",
              "    <tr>\n",
              "      <th>686</th>\n",
              "      <td>687</td>\n",
              "      <td>힘든 일이 너무 많아요</td>\n",
              "      <td>괜찮아 천천히 해도 돼</td>\n",
              "      <td>1</td>\n",
              "    </tr>\n",
              "    <tr>\n",
              "      <th>687</th>\n",
              "      <td>688</td>\n",
              "      <td>AI도 감정 있나?</td>\n",
              "      <td>이런 감정은 처음인데 설레네</td>\n",
              "      <td>1</td>\n",
              "    </tr>\n",
              "  </tbody>\n",
              "</table>\n",
              "<p>688 rows × 4 columns</p>\n",
              "</div>"
            ],
            "text/plain": [
              "     test_id            question1               question2  is_duplicate\n",
              "0          1          21살의 사랑에 대해      사랑을 노력한다는게 말이 되나요?             1\n",
              "1          2            2년 가량의 연애                  2년 만났어             0\n",
              "2          3          2년 만난 기념일이야         우리 벌써 2년 동안 사궜어             0\n",
              "3          4       2년 사귀었는데 결혼하려고       2년째 짝사랑하는 사람이 있어.             1\n",
              "4          5  5급면제도 나랑사랑카드 발급하나요?   아이콘 노래 사랑을 했다 별로인것같은데             1\n",
              "..       ...                  ...                     ...           ...\n",
              "683      684         회사에서 짤릴 필이 와  나 회사 짤릴 거 같은데 어떻게 만회하지             0\n",
              "684      685        효율적으로 공부하는 방법             새 해 결심 뭐였더라             1\n",
              "685      686           휴대폰 액정 깨졌어                   액정 깨짐             0\n",
              "686      687         힘든 일이 너무 많아요            괜찮아 천천히 해도 돼             1\n",
              "687      688           AI도 감정 있나?         이런 감정은 처음인데 설레네             1\n",
              "\n",
              "[688 rows x 4 columns]"
            ]
          },
          "metadata": {
            "tags": []
          },
          "execution_count": 119
        }
      ]
    },
    {
      "cell_type": "code",
      "metadata": {
        "id": "lAZD9iR6_oO_",
        "colab": {
          "base_uri": "https://localhost:8080/",
          "height": 359
        },
        "outputId": "0fc4d06f-54a8-43f7-df50-004981c867bf"
      },
      "source": [
        "# 랜덤하게 10개만 확인\n",
        "df_train = df_train.sample(10)\n",
        "df_train"
      ],
      "execution_count": 120,
      "outputs": [
        {
          "output_type": "execute_result",
          "data": {
            "text/html": [
              "<div>\n",
              "<style scoped>\n",
              "    .dataframe tbody tr th:only-of-type {\n",
              "        vertical-align: middle;\n",
              "    }\n",
              "\n",
              "    .dataframe tbody tr th {\n",
              "        vertical-align: top;\n",
              "    }\n",
              "\n",
              "    .dataframe thead th {\n",
              "        text-align: right;\n",
              "    }\n",
              "</style>\n",
              "<table border=\"1\" class=\"dataframe\">\n",
              "  <thead>\n",
              "    <tr style=\"text-align: right;\">\n",
              "      <th></th>\n",
              "      <th>id</th>\n",
              "      <th>qid1</th>\n",
              "      <th>qid2</th>\n",
              "      <th>question1</th>\n",
              "      <th>question2</th>\n",
              "      <th>is_duplicate</th>\n",
              "    </tr>\n",
              "  </thead>\n",
              "  <tbody>\n",
              "    <tr>\n",
              "      <th>3129</th>\n",
              "      <td>3130</td>\n",
              "      <td>6259</td>\n",
              "      <td>6260</td>\n",
              "      <td>시험인데 집중 안돼</td>\n",
              "      <td>시험 기간인데 집중이 안돼</td>\n",
              "      <td>0</td>\n",
              "    </tr>\n",
              "    <tr>\n",
              "      <th>4544</th>\n",
              "      <td>4545</td>\n",
              "      <td>9089</td>\n",
              "      <td>9090</td>\n",
              "      <td>이거 썸인가</td>\n",
              "      <td>썸 맞나</td>\n",
              "      <td>0</td>\n",
              "    </tr>\n",
              "    <tr>\n",
              "      <th>785</th>\n",
              "      <td>786</td>\n",
              "      <td>1571</td>\n",
              "      <td>1572</td>\n",
              "      <td>나만 안되는 연애</td>\n",
              "      <td>나이 차이 많이 나는 남자 어때?</td>\n",
              "      <td>1</td>\n",
              "    </tr>\n",
              "    <tr>\n",
              "      <th>5303</th>\n",
              "      <td>5304</td>\n",
              "      <td>10607</td>\n",
              "      <td>10608</td>\n",
              "      <td>졸려</td>\n",
              "      <td>오늘 너무 졸려</td>\n",
              "      <td>0</td>\n",
              "    </tr>\n",
              "    <tr>\n",
              "      <th>5162</th>\n",
              "      <td>5163</td>\n",
              "      <td>10325</td>\n",
              "      <td>10326</td>\n",
              "      <td>전여친은 남자가 벌써 생겼네</td>\n",
              "      <td>절대 사과 안하는 여자친구</td>\n",
              "      <td>1</td>\n",
              "    </tr>\n",
              "    <tr>\n",
              "      <th>729</th>\n",
              "      <td>730</td>\n",
              "      <td>1459</td>\n",
              "      <td>1460</td>\n",
              "      <td>나는 왜 이 모양일까</td>\n",
              "      <td>나 왜 이러지?</td>\n",
              "      <td>0</td>\n",
              "    </tr>\n",
              "    <tr>\n",
              "      <th>5882</th>\n",
              "      <td>5883</td>\n",
              "      <td>11765</td>\n",
              "      <td>11766</td>\n",
              "      <td>짝녀가 있었는데 못 잊겠어.</td>\n",
              "      <td>짝녀가 있었는데 못 잊겠어.</td>\n",
              "      <td>0</td>\n",
              "    </tr>\n",
              "    <tr>\n",
              "      <th>3583</th>\n",
              "      <td>3584</td>\n",
              "      <td>7167</td>\n",
              "      <td>7168</td>\n",
              "      <td>아휴.</td>\n",
              "      <td>알고보니 환승이별 인것 같아</td>\n",
              "      <td>1</td>\n",
              "    </tr>\n",
              "    <tr>\n",
              "      <th>6649</th>\n",
              "      <td>6650</td>\n",
              "      <td>13299</td>\n",
              "      <td>13300</td>\n",
              "      <td>헤어진사람에게 잊는동안 도움은 못받겠죠?</td>\n",
              "      <td>헤어진지 1년</td>\n",
              "      <td>1</td>\n",
              "    </tr>\n",
              "    <tr>\n",
              "      <th>5657</th>\n",
              "      <td>5658</td>\n",
              "      <td>11315</td>\n",
              "      <td>11316</td>\n",
              "      <td>진짜 하루하루 너무 마음 찢어지고 숨 못쉬겠어</td>\n",
              "      <td>질질 끄는연애 드디어끝이네.</td>\n",
              "      <td>1</td>\n",
              "    </tr>\n",
              "  </tbody>\n",
              "</table>\n",
              "</div>"
            ],
            "text/plain": [
              "        id   qid1  ...           question2 is_duplicate\n",
              "3129  3130   6259  ...      시험 기간인데 집중이 안돼            0\n",
              "4544  4545   9089  ...                썸 맞나            0\n",
              "785    786   1571  ...  나이 차이 많이 나는 남자 어때?            1\n",
              "5303  5304  10607  ...            오늘 너무 졸려            0\n",
              "5162  5163  10325  ...      절대 사과 안하는 여자친구            1\n",
              "729    730   1459  ...            나 왜 이러지?            0\n",
              "5882  5883  11765  ...     짝녀가 있었는데 못 잊겠어.            0\n",
              "3583  3584   7167  ...     알고보니 환승이별 인것 같아            1\n",
              "6649  6650  13299  ...             헤어진지 1년            1\n",
              "5657  5658  11315  ...     질질 끄는연애 드디어끝이네.            1\n",
              "\n",
              "[10 rows x 6 columns]"
            ]
          },
          "metadata": {
            "tags": []
          },
          "execution_count": 120
        }
      ]
    },
    {
      "cell_type": "code",
      "metadata": {
        "id": "SxUEnWqP_9UG",
        "colab": {
          "base_uri": "https://localhost:8080/",
          "height": 359
        },
        "outputId": "a4d9c19d-cced-4c80-8514-e1fc1b3b2cff"
      },
      "source": [
        "# 랜덤하게 10개만 확인\n",
        "df_test = df_test.sample(10)\n",
        "df_test"
      ],
      "execution_count": 121,
      "outputs": [
        {
          "output_type": "execute_result",
          "data": {
            "text/html": [
              "<div>\n",
              "<style scoped>\n",
              "    .dataframe tbody tr th:only-of-type {\n",
              "        vertical-align: middle;\n",
              "    }\n",
              "\n",
              "    .dataframe tbody tr th {\n",
              "        vertical-align: top;\n",
              "    }\n",
              "\n",
              "    .dataframe thead th {\n",
              "        text-align: right;\n",
              "    }\n",
              "</style>\n",
              "<table border=\"1\" class=\"dataframe\">\n",
              "  <thead>\n",
              "    <tr style=\"text-align: right;\">\n",
              "      <th></th>\n",
              "      <th>test_id</th>\n",
              "      <th>question1</th>\n",
              "      <th>question2</th>\n",
              "      <th>is_duplicate</th>\n",
              "    </tr>\n",
              "  </thead>\n",
              "  <tbody>\n",
              "    <tr>\n",
              "      <th>17</th>\n",
              "      <td>18</td>\n",
              "      <td>걔는 싸우면 연락이 안돼</td>\n",
              "      <td>싸우면 잠수하는거 짜증나.</td>\n",
              "      <td>0</td>\n",
              "    </tr>\n",
              "    <tr>\n",
              "      <th>620</th>\n",
              "      <td>621</td>\n",
              "      <td>카톡이 안와</td>\n",
              "      <td>카톡할 친구가 없네</td>\n",
              "      <td>1</td>\n",
              "    </tr>\n",
              "    <tr>\n",
              "      <th>139</th>\n",
              "      <td>140</td>\n",
              "      <td>노래방 가고 싶다.</td>\n",
              "      <td>코인 노래방 가서 몇 곡만 부르고 와야지</td>\n",
              "      <td>1</td>\n",
              "    </tr>\n",
              "    <tr>\n",
              "      <th>42</th>\n",
              "      <td>43</td>\n",
              "      <td>귀여운 집착은 사랑을 더 뜨겁게 해주나요?</td>\n",
              "      <td>사랑에 관련된 노래 듣고 싶어</td>\n",
              "      <td>1</td>\n",
              "    </tr>\n",
              "    <tr>\n",
              "      <th>368</th>\n",
              "      <td>369</td>\n",
              "      <td>아침에 눈뜨기 힘들어</td>\n",
              "      <td>니 생각 때문에 힘들어</td>\n",
              "      <td>1</td>\n",
              "    </tr>\n",
              "    <tr>\n",
              "      <th>18</th>\n",
              "      <td>19</td>\n",
              "      <td>건강 좀 챙기라고 잔소리 하고 싶어</td>\n",
              "      <td>건강 좀 위하라고 잔소리 하고 싶어</td>\n",
              "      <td>0</td>\n",
              "    </tr>\n",
              "    <tr>\n",
              "      <th>571</th>\n",
              "      <td>572</td>\n",
              "      <td>짝사랑 하는 사람 보려고 일부러 갔어</td>\n",
              "      <td>짝사랑도 나에게는 힘든 건가</td>\n",
              "      <td>1</td>\n",
              "    </tr>\n",
              "    <tr>\n",
              "      <th>44</th>\n",
              "      <td>45</td>\n",
              "      <td>그 사람과 나의 사랑하는 정도의 차이</td>\n",
              "      <td>이제 제 사랑을 소중히 해 줄 사람을 찾고 싶습니다</td>\n",
              "      <td>1</td>\n",
              "    </tr>\n",
              "    <tr>\n",
              "      <th>456</th>\n",
              "      <td>457</td>\n",
              "      <td>이 사람은 도대체 뭘까</td>\n",
              "      <td>나 뭐하고 있는건지</td>\n",
              "      <td>1</td>\n",
              "    </tr>\n",
              "    <tr>\n",
              "      <th>648</th>\n",
              "      <td>649</td>\n",
              "      <td>학원폭력 때문에 학교 가기 싫어</td>\n",
              "      <td>학폭 없어졌으면</td>\n",
              "      <td>0</td>\n",
              "    </tr>\n",
              "  </tbody>\n",
              "</table>\n",
              "</div>"
            ],
            "text/plain": [
              "     test_id  ... is_duplicate\n",
              "17        18  ...            0\n",
              "620      621  ...            1\n",
              "139      140  ...            1\n",
              "42        43  ...            1\n",
              "368      369  ...            1\n",
              "18        19  ...            0\n",
              "571      572  ...            1\n",
              "44        45  ...            1\n",
              "456      457  ...            1\n",
              "648      649  ...            0\n",
              "\n",
              "[10 rows x 4 columns]"
            ]
          },
          "metadata": {
            "tags": []
          },
          "execution_count": 121
        }
      ]
    },
    {
      "cell_type": "code",
      "metadata": {
        "id": "pkzwlvcVS1cj"
      },
      "source": [
        "def load_data(df, n_seq_1, n_seq_2):\n",
        "    \"\"\"\n",
        "    Quora 학습 데이터 생성\n",
        "    :param df: data frame\n",
        "    :param n_seq_1: number of sequence 1\n",
        "    :param n_seq_2: number of sequence 2\n",
        "    :return inputs_1: input data 1\n",
        "    :return inputs_2: input data 2\n",
        "    :return labels: label data\n",
        "    \"\"\"\n",
        "    inputs_1 = np.zeros((len(df), n_seq_1)).astype(np.int32)\n",
        "    inputs_2 = np.zeros((len(df), n_seq_2)).astype(np.int32)\n",
        "    labels = np.zeros((len(df),)) #len() -->배치사이즈임!!\n",
        "    index = 0\n",
        "    for i, row in tqdm(df.iterrows(), total=len(df)): #total로현재진행사항알수있음\n",
        "        # tokens 저장\n",
        "        print()\n",
        "        #################################\n",
        "        is_duplicate = row['is_duplicate']\n",
        "        question1=row['question1']\n",
        "        question2=row['question2']\n",
        "        print(is_duplicate,'/', question1 ,'/', question2)\n",
        "\n",
        "        tokens_1 = vocab.encode_as_pieces(question1)\n",
        "        print(len(tokens_1), ':', tokens_1)\n",
        "        tokens_2 = vocab.encode_as_pieces(question2)\n",
        "        print(len(tokens_2), ':', tokens_2)\n",
        "\n",
        "        token_ids_1 = vocab.encode_as_ids(question1)\n",
        "        print(len(token_ids_1), ':', token_ids_1)\n",
        "        token_ids_2 = vocab.encode_as_ids(question2)\n",
        "        print(len(token_ids_2), ':', token_ids_2)\n",
        "\n",
        "        #길이 잘라주기\n",
        "        token_ids_1 = token_ids_1[:n_seq_1]\n",
        "        print(len(token_ids_1),':',token_ids_1)\n",
        "        token_ids_2 = token_ids_2[:n_seq_2]\n",
        "        print(len(token_ids_2),':',token_ids_2)\n",
        "\n",
        "        token_ids_1 += [0] * (n_seq_1 - len(token_ids_1))\n",
        "        print(len(token_ids_1), ':', token_ids_1)\n",
        "        token_ids_2 += [0] * (n_seq_2 - len(token_ids_2))\n",
        "        print(len(token_ids_2), ':', token_ids_2)\n",
        "        #\n",
        "        labels[index] = 1 - is_duplicate  # 0 -> 1, 1 -> 0\n",
        "        inputs_1[index] = token_ids_1\n",
        "        inputs_2[index] = token_ids_2\n",
        "        index += 1\n",
        "        #################################\n",
        "    return inputs_1, inputs_2, labels"
      ],
      "execution_count": 122,
      "outputs": []
    },
    {
      "cell_type": "code",
      "metadata": {
        "id": "bfEwG-jgS4aN",
        "colab": {
          "base_uri": "https://localhost:8080/",
          "height": 1000,
          "referenced_widgets": [
            "1bedd3b976054e98a9829446a17ed701",
            "274e4ca17a884ff986475185018d2f89",
            "ad58bb2ec35d490aafb00d344cd420bf",
            "f1015c85baf2481b853ccecea40b89a3",
            "2072a9826d424ea88ab34d086d1617c3",
            "8911d2a6ca9343c4abda0362d35183ad",
            "950cbe4f00f44ecf93e64065f2c3b3db",
            "5bf9a6d098274531a05daac05cbaa6af"
          ]
        },
        "outputId": "7f0f1faf-305c-4674-e703-013597796e82"
      },
      "source": [
        "# train data 생성\n",
        "train_inputs_1, train_inputs_2, train_labels = load_data(df_train, n_seq_1, n_seq_2)\n",
        "train_inputs_1, train_inputs_2, train_labels"
      ],
      "execution_count": 123,
      "outputs": [
        {
          "output_type": "display_data",
          "data": {
            "application/vnd.jupyter.widget-view+json": {
              "model_id": "1bedd3b976054e98a9829446a17ed701",
              "version_minor": 0,
              "version_major": 2
            },
            "text/plain": [
              "HBox(children=(FloatProgress(value=0.0, max=10.0), HTML(value='')))"
            ]
          },
          "metadata": {
            "tags": []
          }
        },
        {
          "output_type": "stream",
          "text": [
            "\n",
            "0 / 시험인데 집중 안돼 / 시험 기간인데 집중이 안돼\n",
            "5 : ['▁시험', '인데', '▁집중', '▁안', '돼']\n",
            "7 : ['▁시험', '▁기간', '인데', '▁집중', '이', '▁안', '돼']\n",
            "5 : [2133, 1429, 2576, 295, 2258]\n",
            "7 : [2133, 1158, 1429, 2576, 17, 295, 2258]\n",
            "5 : [2133, 1429, 2576, 295, 2258]\n",
            "7 : [2133, 1158, 1429, 2576, 17, 295, 2258]\n",
            "26 : [2133, 1429, 2576, 295, 2258, 0, 0, 0, 0, 0, 0, 0, 0, 0, 0, 0, 0, 0, 0, 0, 0, 0, 0, 0, 0, 0]\n",
            "27 : [2133, 1158, 1429, 2576, 17, 295, 2258, 0, 0, 0, 0, 0, 0, 0, 0, 0, 0, 0, 0, 0, 0, 0, 0, 0, 0, 0, 0]\n",
            "\n",
            "0 / 이거 썸인가 / 썸 맞나\n",
            "6 : ['▁이', '거', '▁', '썸', '인', '가']\n",
            "4 : ['▁', '썸', '▁맞', '나']\n",
            "6 : [29, 439, 10, 28134, 31, 19]\n",
            "4 : [10, 28134, 2808, 58]\n",
            "6 : [29, 439, 10, 28134, 31, 19]\n",
            "4 : [10, 28134, 2808, 58]\n",
            "26 : [29, 439, 10, 28134, 31, 19, 0, 0, 0, 0, 0, 0, 0, 0, 0, 0, 0, 0, 0, 0, 0, 0, 0, 0, 0, 0]\n",
            "27 : [10, 28134, 2808, 58, 0, 0, 0, 0, 0, 0, 0, 0, 0, 0, 0, 0, 0, 0, 0, 0, 0, 0, 0, 0, 0, 0, 0]\n",
            "\n",
            "1 / 나만 안되는 연애 / 나이 차이 많이 나는 남자 어때?\n",
            "4 : ['▁나', '만', '▁안되는', '▁연애']\n",
            "8 : ['▁나이', '▁차이', '▁많이', '▁나는', '▁남자', '▁어', '때', '?']\n",
            "4 : [339, 62, 17819, 8256]\n",
            "8 : [2075, 6296, 522, 3872, 1041, 492, 1406, 1860]\n",
            "4 : [339, 62, 17819, 8256]\n",
            "8 : [2075, 6296, 522, 3872, 1041, 492, 1406, 1860]\n",
            "26 : [339, 62, 17819, 8256, 0, 0, 0, 0, 0, 0, 0, 0, 0, 0, 0, 0, 0, 0, 0, 0, 0, 0, 0, 0, 0, 0]\n",
            "27 : [2075, 6296, 522, 3872, 1041, 492, 1406, 1860, 0, 0, 0, 0, 0, 0, 0, 0, 0, 0, 0, 0, 0, 0, 0, 0, 0, 0, 0]\n",
            "\n",
            "0 / 졸려 / 오늘 너무 졸려\n",
            "2 : ['▁졸', '려']\n",
            "4 : ['▁오늘', '▁너무', '▁졸', '려']\n",
            "2 : [7387, 701]\n",
            "4 : [9676, 2329, 7387, 701]\n",
            "2 : [7387, 701]\n",
            "4 : [9676, 2329, 7387, 701]\n",
            "26 : [7387, 701, 0, 0, 0, 0, 0, 0, 0, 0, 0, 0, 0, 0, 0, 0, 0, 0, 0, 0, 0, 0, 0, 0, 0, 0]\n",
            "27 : [9676, 2329, 7387, 701, 0, 0, 0, 0, 0, 0, 0, 0, 0, 0, 0, 0, 0, 0, 0, 0, 0, 0, 0, 0, 0, 0, 0]\n",
            "\n",
            "1 / 전여친은 남자가 벌써 생겼네 / 절대 사과 안하는 여자친구\n",
            "8 : ['▁전', '여', '친', '은', '▁남자가', '▁벌써', '▁생겼', '네']\n",
            "5 : ['▁절대', '▁사과', '▁안', '하는', '▁여자친구']\n",
            "8 : [102, 326, 1604, 18, 19204, 29038, 13718, 343]\n",
            "5 : [3991, 5996, 295, 42, 19577]\n",
            "8 : [102, 326, 1604, 18, 19204, 29038, 13718, 343]\n",
            "5 : [3991, 5996, 295, 42, 19577]\n",
            "26 : [102, 326, 1604, 18, 19204, 29038, 13718, 343, 0, 0, 0, 0, 0, 0, 0, 0, 0, 0, 0, 0, 0, 0, 0, 0, 0, 0]\n",
            "27 : [3991, 5996, 295, 42, 19577, 0, 0, 0, 0, 0, 0, 0, 0, 0, 0, 0, 0, 0, 0, 0, 0, 0, 0, 0, 0, 0, 0]\n",
            "\n",
            "0 / 나는 왜 이 모양일까 / 나 왜 이러지?\n",
            "6 : ['▁나는', '▁왜', '▁이', '▁모양', '일', '까']\n",
            "5 : ['▁나', '▁왜', '▁이', '러지', '?']\n",
            "6 : [3872, 2761, 29, 4240, 26, 2657]\n",
            "5 : [339, 2761, 29, 20874, 1860]\n",
            "6 : [3872, 2761, 29, 4240, 26, 2657]\n",
            "5 : [339, 2761, 29, 20874, 1860]\n",
            "26 : [3872, 2761, 29, 4240, 26, 2657, 0, 0, 0, 0, 0, 0, 0, 0, 0, 0, 0, 0, 0, 0, 0, 0, 0, 0, 0, 0]\n",
            "27 : [339, 2761, 29, 20874, 1860, 0, 0, 0, 0, 0, 0, 0, 0, 0, 0, 0, 0, 0, 0, 0, 0, 0, 0, 0, 0, 0, 0]\n",
            "\n",
            "0 / 짝녀가 있었는데 못 잊겠어. / 짝녀가 있었는데 못 잊겠어.\n",
            "9 : ['▁짝', '녀', '가', '▁있었는데', '▁못', '▁잊', '겠', '어', '.']\n",
            "9 : ['▁짝', '녀', '가', '▁있었는데', '▁못', '▁잊', '겠', '어', '.']\n",
            "9 : [13107, 1127, 19, 2781, 1382, 11126, 12273, 110, 7]\n",
            "9 : [13107, 1127, 19, 2781, 1382, 11126, 12273, 110, 7]\n",
            "9 : [13107, 1127, 19, 2781, 1382, 11126, 12273, 110, 7]\n",
            "9 : [13107, 1127, 19, 2781, 1382, 11126, 12273, 110, 7]\n",
            "26 : [13107, 1127, 19, 2781, 1382, 11126, 12273, 110, 7, 0, 0, 0, 0, 0, 0, 0, 0, 0, 0, 0, 0, 0, 0, 0, 0, 0]\n",
            "27 : [13107, 1127, 19, 2781, 1382, 11126, 12273, 110, 7, 0, 0, 0, 0, 0, 0, 0, 0, 0, 0, 0, 0, 0, 0, 0, 0, 0, 0]\n",
            "\n",
            "1 / 아휴. / 알고보니 환승이별 인것 같아\n",
            "3 : ['▁아', '휴', '.']\n",
            "8 : ['▁알고', '보니', '▁환승', '이', '별', '▁인', '것', '▁같아']\n",
            "3 : [188, 5026, 7]\n",
            "8 : [2482, 14024, 6996, 17, 1086, 549, 5922, 15509]\n",
            "3 : [188, 5026, 7]\n",
            "8 : [2482, 14024, 6996, 17, 1086, 549, 5922, 15509]\n",
            "26 : [188, 5026, 7, 0, 0, 0, 0, 0, 0, 0, 0, 0, 0, 0, 0, 0, 0, 0, 0, 0, 0, 0, 0, 0, 0, 0]\n",
            "27 : [2482, 14024, 6996, 17, 1086, 549, 5922, 15509, 0, 0, 0, 0, 0, 0, 0, 0, 0, 0, 0, 0, 0, 0, 0, 0, 0, 0, 0]\n",
            "\n",
            "1 / 헤어진사람에게 잊는동안 도움은 못받겠죠? / 헤어진지 1년\n",
            "14 : ['▁헤어', '진', '사람', '에게', '▁잊', '는', '동안', '▁도움', '은', '▁못', '받', '겠', '죠', '?']\n",
            "5 : ['▁헤어', '진', '지', '▁1', '년']\n",
            "14 : [10316, 130, 8107, 80, 11126, 11, 3406, 14360, 18, 1382, 5294, 12273, 8319, 1860]\n",
            "5 : [10316, 130, 47, 35, 15]\n",
            "14 : [10316, 130, 8107, 80, 11126, 11, 3406, 14360, 18, 1382, 5294, 12273, 8319, 1860]\n",
            "5 : [10316, 130, 47, 35, 15]\n",
            "26 : [10316, 130, 8107, 80, 11126, 11, 3406, 14360, 18, 1382, 5294, 12273, 8319, 1860, 0, 0, 0, 0, 0, 0, 0, 0, 0, 0, 0, 0]\n",
            "27 : [10316, 130, 47, 35, 15, 0, 0, 0, 0, 0, 0, 0, 0, 0, 0, 0, 0, 0, 0, 0, 0, 0, 0, 0, 0, 0, 0]\n",
            "\n",
            "1 / 진짜 하루하루 너무 마음 찢어지고 숨 못쉬겠어 / 질질 끄는연애 드디어끝이네.\n",
            "12 : ['▁진짜', '▁하루', '하루', '▁너무', '▁마음', '▁찢어', '지고', '▁숨', '▁못', '쉬', '겠', '어']\n",
            "11 : ['▁질', '질', '▁끄', '는', '연', '애', '▁드디어', '끝', '이', '네', '.']\n",
            "12 : [10229, 2261, 8818, 2329, 2851, 23252, 2353, 3944, 1382, 2058, 12273, 110]\n",
            "11 : [1653, 515, 13537, 11, 360, 1209, 15027, 9618, 17, 343, 7]\n",
            "12 : [10229, 2261, 8818, 2329, 2851, 23252, 2353, 3944, 1382, 2058, 12273, 110]\n",
            "11 : [1653, 515, 13537, 11, 360, 1209, 15027, 9618, 17, 343, 7]\n",
            "26 : [10229, 2261, 8818, 2329, 2851, 23252, 2353, 3944, 1382, 2058, 12273, 110, 0, 0, 0, 0, 0, 0, 0, 0, 0, 0, 0, 0, 0, 0]\n",
            "27 : [1653, 515, 13537, 11, 360, 1209, 15027, 9618, 17, 343, 7, 0, 0, 0, 0, 0, 0, 0, 0, 0, 0, 0, 0, 0, 0, 0, 0]\n",
            "\n"
          ],
          "name": "stdout"
        },
        {
          "output_type": "execute_result",
          "data": {
            "text/plain": [
              "(array([[ 2133,  1429,  2576,   295,  2258,     0,     0,     0,     0,\n",
              "             0,     0,     0,     0,     0,     0,     0,     0,     0,\n",
              "             0,     0,     0,     0,     0,     0,     0,     0],\n",
              "        [   29,   439,    10, 28134,    31,    19,     0,     0,     0,\n",
              "             0,     0,     0,     0,     0,     0,     0,     0,     0,\n",
              "             0,     0,     0,     0,     0,     0,     0,     0],\n",
              "        [  339,    62, 17819,  8256,     0,     0,     0,     0,     0,\n",
              "             0,     0,     0,     0,     0,     0,     0,     0,     0,\n",
              "             0,     0,     0,     0,     0,     0,     0,     0],\n",
              "        [ 7387,   701,     0,     0,     0,     0,     0,     0,     0,\n",
              "             0,     0,     0,     0,     0,     0,     0,     0,     0,\n",
              "             0,     0,     0,     0,     0,     0,     0,     0],\n",
              "        [  102,   326,  1604,    18, 19204, 29038, 13718,   343,     0,\n",
              "             0,     0,     0,     0,     0,     0,     0,     0,     0,\n",
              "             0,     0,     0,     0,     0,     0,     0,     0],\n",
              "        [ 3872,  2761,    29,  4240,    26,  2657,     0,     0,     0,\n",
              "             0,     0,     0,     0,     0,     0,     0,     0,     0,\n",
              "             0,     0,     0,     0,     0,     0,     0,     0],\n",
              "        [13107,  1127,    19,  2781,  1382, 11126, 12273,   110,     7,\n",
              "             0,     0,     0,     0,     0,     0,     0,     0,     0,\n",
              "             0,     0,     0,     0,     0,     0,     0,     0],\n",
              "        [  188,  5026,     7,     0,     0,     0,     0,     0,     0,\n",
              "             0,     0,     0,     0,     0,     0,     0,     0,     0,\n",
              "             0,     0,     0,     0,     0,     0,     0,     0],\n",
              "        [10316,   130,  8107,    80, 11126,    11,  3406, 14360,    18,\n",
              "          1382,  5294, 12273,  8319,  1860,     0,     0,     0,     0,\n",
              "             0,     0,     0,     0,     0,     0,     0,     0],\n",
              "        [10229,  2261,  8818,  2329,  2851, 23252,  2353,  3944,  1382,\n",
              "          2058, 12273,   110,     0,     0,     0,     0,     0,     0,\n",
              "             0,     0,     0,     0,     0,     0,     0,     0]],\n",
              "       dtype=int32),\n",
              " array([[ 2133,  1158,  1429,  2576,    17,   295,  2258,     0,     0,\n",
              "             0,     0,     0,     0,     0,     0,     0,     0,     0,\n",
              "             0,     0,     0,     0,     0,     0,     0,     0,     0],\n",
              "        [   10, 28134,  2808,    58,     0,     0,     0,     0,     0,\n",
              "             0,     0,     0,     0,     0,     0,     0,     0,     0,\n",
              "             0,     0,     0,     0,     0,     0,     0,     0,     0],\n",
              "        [ 2075,  6296,   522,  3872,  1041,   492,  1406,  1860,     0,\n",
              "             0,     0,     0,     0,     0,     0,     0,     0,     0,\n",
              "             0,     0,     0,     0,     0,     0,     0,     0,     0],\n",
              "        [ 9676,  2329,  7387,   701,     0,     0,     0,     0,     0,\n",
              "             0,     0,     0,     0,     0,     0,     0,     0,     0,\n",
              "             0,     0,     0,     0,     0,     0,     0,     0,     0],\n",
              "        [ 3991,  5996,   295,    42, 19577,     0,     0,     0,     0,\n",
              "             0,     0,     0,     0,     0,     0,     0,     0,     0,\n",
              "             0,     0,     0,     0,     0,     0,     0,     0,     0],\n",
              "        [  339,  2761,    29, 20874,  1860,     0,     0,     0,     0,\n",
              "             0,     0,     0,     0,     0,     0,     0,     0,     0,\n",
              "             0,     0,     0,     0,     0,     0,     0,     0,     0],\n",
              "        [13107,  1127,    19,  2781,  1382, 11126, 12273,   110,     7,\n",
              "             0,     0,     0,     0,     0,     0,     0,     0,     0,\n",
              "             0,     0,     0,     0,     0,     0,     0,     0,     0],\n",
              "        [ 2482, 14024,  6996,    17,  1086,   549,  5922, 15509,     0,\n",
              "             0,     0,     0,     0,     0,     0,     0,     0,     0,\n",
              "             0,     0,     0,     0,     0,     0,     0,     0,     0],\n",
              "        [10316,   130,    47,    35,    15,     0,     0,     0,     0,\n",
              "             0,     0,     0,     0,     0,     0,     0,     0,     0,\n",
              "             0,     0,     0,     0,     0,     0,     0,     0,     0],\n",
              "        [ 1653,   515, 13537,    11,   360,  1209, 15027,  9618,    17,\n",
              "           343,     7,     0,     0,     0,     0,     0,     0,     0,\n",
              "             0,     0,     0,     0,     0,     0,     0,     0,     0]],\n",
              "       dtype=int32),\n",
              " array([1., 1., 0., 1., 0., 1., 1., 0., 0., 0.]))"
            ]
          },
          "metadata": {
            "tags": []
          },
          "execution_count": 123
        }
      ]
    },
    {
      "cell_type": "code",
      "metadata": {
        "id": "Ou45grDSS60t",
        "colab": {
          "base_uri": "https://localhost:8080/",
          "height": 1000,
          "referenced_widgets": [
            "13d319d596d84952b1c21ad3e8e458e4",
            "d7957788930c45748a9170f2a6a21cad",
            "d0b691ecb70a4e8cac42ec7705957673",
            "94b209c1338940969a23fdf0d3d08f01",
            "02af6fd15a54436e851b59ce4ac3a1f6",
            "900f355984c24738a2b0e4b60cf3789f",
            "3fca3ee8d66f47779bf68c7db5bf5672",
            "d49ac35377d547c29979f2b0a10e4f3a"
          ]
        },
        "outputId": "6c35b7ec-3ac9-4652-abd1-7bb305eee6f9"
      },
      "source": [
        "# test data 생성\n",
        "test_inputs_1, test_inputs_2, test_labels = load_data(df_test, n_seq_1, n_seq_2)\n",
        "test_inputs_1, test_inputs_2, test_labels"
      ],
      "execution_count": 124,
      "outputs": [
        {
          "output_type": "display_data",
          "data": {
            "application/vnd.jupyter.widget-view+json": {
              "model_id": "13d319d596d84952b1c21ad3e8e458e4",
              "version_minor": 0,
              "version_major": 2
            },
            "text/plain": [
              "HBox(children=(FloatProgress(value=0.0, max=10.0), HTML(value='')))"
            ]
          },
          "metadata": {
            "tags": []
          }
        },
        {
          "output_type": "stream",
          "text": [
            "\n",
            "0 / 걔는 싸우면 연락이 안돼 / 싸우면 잠수하는거 짜증나.\n",
            "9 : ['▁', '걔', '는', '▁싸우', '면', '▁연락', '이', '▁안', '돼']\n",
            "9 : ['▁싸우', '면', '▁잠수', '하는', '거', '▁짜', '증', '나', '.']\n",
            "9 : [10, 1, 11, 9817, 122, 5324, 17, 295, 2258]\n",
            "9 : [9817, 122, 20952, 42, 439, 6099, 756, 58, 7]\n",
            "9 : [10, 1, 11, 9817, 122, 5324, 17, 295, 2258]\n",
            "9 : [9817, 122, 20952, 42, 439, 6099, 756, 58, 7]\n",
            "26 : [10, 1, 11, 9817, 122, 5324, 17, 295, 2258, 0, 0, 0, 0, 0, 0, 0, 0, 0, 0, 0, 0, 0, 0, 0, 0, 0]\n",
            "27 : [9817, 122, 20952, 42, 439, 6099, 756, 58, 7, 0, 0, 0, 0, 0, 0, 0, 0, 0, 0, 0, 0, 0, 0, 0, 0, 0, 0]\n",
            "\n",
            "1 / 카톡이 안와 / 카톡할 친구가 없네\n",
            "5 : ['▁카', '톡', '이', '▁안', '와']\n",
            "6 : ['▁카', '톡', '할', '▁친구가', '▁없', '네']\n",
            "5 : [420, 6900, 17, 295, 27]\n",
            "6 : [420, 6900, 60, 17684, 6943, 343]\n",
            "5 : [420, 6900, 17, 295, 27]\n",
            "6 : [420, 6900, 60, 17684, 6943, 343]\n",
            "26 : [420, 6900, 17, 295, 27, 0, 0, 0, 0, 0, 0, 0, 0, 0, 0, 0, 0, 0, 0, 0, 0, 0, 0, 0, 0, 0]\n",
            "27 : [420, 6900, 60, 17684, 6943, 343, 0, 0, 0, 0, 0, 0, 0, 0, 0, 0, 0, 0, 0, 0, 0, 0, 0, 0, 0, 0, 0]\n",
            "\n",
            "1 / 노래방 가고 싶다. / 코인 노래방 가서 몇 곡만 부르고 와야지\n",
            "5 : ['▁노래', '방', '▁가고', '▁싶다', '.']\n",
            "12 : ['▁코', '인', '▁노래', '방', '▁가서', '▁몇', '▁곡', '만', '▁부르고', '▁와', '야', '지']\n",
            "5 : [1186, 377, 13089, 9608, 7]\n",
            "12 : [461, 31, 1186, 377, 3424, 740, 1146, 62, 9444, 1626, 173, 47]\n",
            "5 : [1186, 377, 13089, 9608, 7]\n",
            "12 : [461, 31, 1186, 377, 3424, 740, 1146, 62, 9444, 1626, 173, 47]\n",
            "26 : [1186, 377, 13089, 9608, 7, 0, 0, 0, 0, 0, 0, 0, 0, 0, 0, 0, 0, 0, 0, 0, 0, 0, 0, 0, 0, 0]\n",
            "27 : [461, 31, 1186, 377, 3424, 740, 1146, 62, 9444, 1626, 173, 47, 0, 0, 0, 0, 0, 0, 0, 0, 0, 0, 0, 0, 0, 0, 0]\n",
            "\n",
            "1 / 귀여운 집착은 사랑을 더 뜨겁게 해주나요? / 사랑에 관련된 노래 듣고 싶어\n",
            "14 : ['▁귀', '여', '운', '▁집착', '은', '▁사랑을', '▁더', '▁뜨', '겁', '게', '▁해주', '나', '요', '?']\n",
            "5 : ['▁사랑에', '▁관련된', '▁노래', '▁듣고', '▁싶어']\n",
            "14 : [1210, 326, 495, 18244, 18, 5775, 149, 8117, 13544, 128, 8908, 58, 431, 1860]\n",
            "5 : [15473, 1707, 1186, 4286, 8252]\n",
            "14 : [1210, 326, 495, 18244, 18, 5775, 149, 8117, 13544, 128, 8908, 58, 431, 1860]\n",
            "5 : [15473, 1707, 1186, 4286, 8252]\n",
            "26 : [1210, 326, 495, 18244, 18, 5775, 149, 8117, 13544, 128, 8908, 58, 431, 1860, 0, 0, 0, 0, 0, 0, 0, 0, 0, 0, 0, 0]\n",
            "27 : [15473, 1707, 1186, 4286, 8252, 0, 0, 0, 0, 0, 0, 0, 0, 0, 0, 0, 0, 0, 0, 0, 0, 0, 0, 0, 0, 0, 0]\n",
            "\n",
            "1 / 아침에 눈뜨기 힘들어 / 니 생각 때문에 힘들어\n",
            "5 : ['▁아침에', '▁눈', '뜨', '기', '▁힘들어']\n",
            "4 : ['▁니', '▁생각', '▁때문에', '▁힘들어']\n",
            "5 : [21003, 1796, 8009, 48, 26128]\n",
            "4 : [1714, 1162, 135, 26128]\n",
            "5 : [21003, 1796, 8009, 48, 26128]\n",
            "4 : [1714, 1162, 135, 26128]\n",
            "26 : [21003, 1796, 8009, 48, 26128, 0, 0, 0, 0, 0, 0, 0, 0, 0, 0, 0, 0, 0, 0, 0, 0, 0, 0, 0, 0, 0]\n",
            "27 : [1714, 1162, 135, 26128, 0, 0, 0, 0, 0, 0, 0, 0, 0, 0, 0, 0, 0, 0, 0, 0, 0, 0, 0, 0, 0, 0, 0]\n",
            "\n",
            "0 / 건강 좀 챙기라고 잔소리 하고 싶어 / 건강 좀 위하라고 잔소리 하고 싶어\n",
            "10 : ['▁건강', '▁좀', '▁', '챙', '기', '라고', '▁잔', '소리', '▁하고', '▁싶어']\n",
            "8 : ['▁건강', '▁좀', '▁위', '하라고', '▁잔', '소리', '▁하고', '▁싶어']\n",
            "10 : [2715, 3760, 10, 21445, 48, 137, 2368, 4862, 382, 8252]\n",
            "8 : [2715, 3760, 472, 7301, 2368, 4862, 382, 8252]\n",
            "10 : [2715, 3760, 10, 21445, 48, 137, 2368, 4862, 382, 8252]\n",
            "8 : [2715, 3760, 472, 7301, 2368, 4862, 382, 8252]\n",
            "26 : [2715, 3760, 10, 21445, 48, 137, 2368, 4862, 382, 8252, 0, 0, 0, 0, 0, 0, 0, 0, 0, 0, 0, 0, 0, 0, 0, 0]\n",
            "27 : [2715, 3760, 472, 7301, 2368, 4862, 382, 8252, 0, 0, 0, 0, 0, 0, 0, 0, 0, 0, 0, 0, 0, 0, 0, 0, 0, 0, 0]\n",
            "\n",
            "1 / 짝사랑 하는 사람 보려고 일부러 갔어 / 짝사랑도 나에게는 힘든 건가\n",
            "9 : ['▁짝사랑', '▁하는', '▁사람', '▁보', '려고', '▁일부러', '▁', '갔', '어']\n",
            "7 : ['▁짝사랑', '도', '▁나', '에게는', '▁힘든', '▁건', '가']\n",
            "9 : [28969, 208, 1257, 359, 3670, 21087, 10, 9305, 110]\n",
            "7 : [28969, 32, 339, 3171, 10736, 1054, 19]\n",
            "9 : [28969, 208, 1257, 359, 3670, 21087, 10, 9305, 110]\n",
            "7 : [28969, 32, 339, 3171, 10736, 1054, 19]\n",
            "26 : [28969, 208, 1257, 359, 3670, 21087, 10, 9305, 110, 0, 0, 0, 0, 0, 0, 0, 0, 0, 0, 0, 0, 0, 0, 0, 0, 0]\n",
            "27 : [28969, 32, 339, 3171, 10736, 1054, 19, 0, 0, 0, 0, 0, 0, 0, 0, 0, 0, 0, 0, 0, 0, 0, 0, 0, 0, 0, 0]\n",
            "\n",
            "1 / 그 사람과 나의 사랑하는 정도의 차이  / 이제 제 사랑을 소중히 해 줄 사람을 찾고 싶습니다\n",
            "6 : ['▁그', '▁사람과', '▁나의', '▁사랑하는', '▁정도의', '▁차이']\n",
            "12 : ['▁이제', '▁제', '▁사랑을', '▁소', '중', '히', '▁해', '▁줄', '▁사람을', '▁찾고', '▁싶', '습니다']\n",
            "6 : [39, 10374, 14467, 13454, 2833, 6296]\n",
            "12 : [3379, 41, 5775, 236, 271, 363, 210, 989, 2172, 15309, 18699, 6452]\n",
            "6 : [39, 10374, 14467, 13454, 2833, 6296]\n",
            "12 : [3379, 41, 5775, 236, 271, 363, 210, 989, 2172, 15309, 18699, 6452]\n",
            "26 : [39, 10374, 14467, 13454, 2833, 6296, 0, 0, 0, 0, 0, 0, 0, 0, 0, 0, 0, 0, 0, 0, 0, 0, 0, 0, 0, 0]\n",
            "27 : [3379, 41, 5775, 236, 271, 363, 210, 989, 2172, 15309, 18699, 6452, 0, 0, 0, 0, 0, 0, 0, 0, 0, 0, 0, 0, 0, 0, 0]\n",
            "\n",
            "1 / 이 사람은 도대체 뭘까 / 나 뭐하고 있는건지\n",
            "8 : ['▁이', '▁사람은', '▁도', '대', '체', '▁', '뭘', '까']\n",
            "6 : ['▁나', '▁뭐', '하고', '▁있는', '건', '지']\n",
            "8 : [29, 2091, 275, 72, 407, 10, 30961, 2657]\n",
            "6 : [339, 19999, 43, 40, 735, 47]\n",
            "8 : [29, 2091, 275, 72, 407, 10, 30961, 2657]\n",
            "6 : [339, 19999, 43, 40, 735, 47]\n",
            "26 : [29, 2091, 275, 72, 407, 10, 30961, 2657, 0, 0, 0, 0, 0, 0, 0, 0, 0, 0, 0, 0, 0, 0, 0, 0, 0, 0]\n",
            "27 : [339, 19999, 43, 40, 735, 47, 0, 0, 0, 0, 0, 0, 0, 0, 0, 0, 0, 0, 0, 0, 0, 0, 0, 0, 0, 0, 0]\n",
            "\n",
            "0 / 학원폭력 때문에 학교 가기 싫어 / 학폭 없어졌으면\n",
            "6 : ['▁학원', '폭력', '▁때문에', '▁학교', '▁가기', '▁싫어']\n",
            "5 : ['▁학', '폭', '▁없어', '졌', '으면']\n",
            "6 : [9434, 13954, 135, 1169, 18339, 8375]\n",
            "5 : [1851, 2425, 2591, 14916, 2956]\n",
            "6 : [9434, 13954, 135, 1169, 18339, 8375]\n",
            "5 : [1851, 2425, 2591, 14916, 2956]\n",
            "26 : [9434, 13954, 135, 1169, 18339, 8375, 0, 0, 0, 0, 0, 0, 0, 0, 0, 0, 0, 0, 0, 0, 0, 0, 0, 0, 0, 0]\n",
            "27 : [1851, 2425, 2591, 14916, 2956, 0, 0, 0, 0, 0, 0, 0, 0, 0, 0, 0, 0, 0, 0, 0, 0, 0, 0, 0, 0, 0, 0]\n",
            "\n"
          ],
          "name": "stdout"
        },
        {
          "output_type": "execute_result",
          "data": {
            "text/plain": [
              "(array([[   10,     1,    11,  9817,   122,  5324,    17,   295,  2258,\n",
              "             0,     0,     0,     0,     0,     0,     0,     0,     0,\n",
              "             0,     0,     0,     0,     0,     0,     0,     0],\n",
              "        [  420,  6900,    17,   295,    27,     0,     0,     0,     0,\n",
              "             0,     0,     0,     0,     0,     0,     0,     0,     0,\n",
              "             0,     0,     0,     0,     0,     0,     0,     0],\n",
              "        [ 1186,   377, 13089,  9608,     7,     0,     0,     0,     0,\n",
              "             0,     0,     0,     0,     0,     0,     0,     0,     0,\n",
              "             0,     0,     0,     0,     0,     0,     0,     0],\n",
              "        [ 1210,   326,   495, 18244,    18,  5775,   149,  8117, 13544,\n",
              "           128,  8908,    58,   431,  1860,     0,     0,     0,     0,\n",
              "             0,     0,     0,     0,     0,     0,     0,     0],\n",
              "        [21003,  1796,  8009,    48, 26128,     0,     0,     0,     0,\n",
              "             0,     0,     0,     0,     0,     0,     0,     0,     0,\n",
              "             0,     0,     0,     0,     0,     0,     0,     0],\n",
              "        [ 2715,  3760,    10, 21445,    48,   137,  2368,  4862,   382,\n",
              "          8252,     0,     0,     0,     0,     0,     0,     0,     0,\n",
              "             0,     0,     0,     0,     0,     0,     0,     0],\n",
              "        [28969,   208,  1257,   359,  3670, 21087,    10,  9305,   110,\n",
              "             0,     0,     0,     0,     0,     0,     0,     0,     0,\n",
              "             0,     0,     0,     0,     0,     0,     0,     0],\n",
              "        [   39, 10374, 14467, 13454,  2833,  6296,     0,     0,     0,\n",
              "             0,     0,     0,     0,     0,     0,     0,     0,     0,\n",
              "             0,     0,     0,     0,     0,     0,     0,     0],\n",
              "        [   29,  2091,   275,    72,   407,    10, 30961,  2657,     0,\n",
              "             0,     0,     0,     0,     0,     0,     0,     0,     0,\n",
              "             0,     0,     0,     0,     0,     0,     0,     0],\n",
              "        [ 9434, 13954,   135,  1169, 18339,  8375,     0,     0,     0,\n",
              "             0,     0,     0,     0,     0,     0,     0,     0,     0,\n",
              "             0,     0,     0,     0,     0,     0,     0,     0]],\n",
              "       dtype=int32),\n",
              " array([[ 9817,   122, 20952,    42,   439,  6099,   756,    58,     7,\n",
              "             0,     0,     0,     0,     0,     0,     0,     0,     0,\n",
              "             0,     0,     0,     0,     0,     0,     0,     0,     0],\n",
              "        [  420,  6900,    60, 17684,  6943,   343,     0,     0,     0,\n",
              "             0,     0,     0,     0,     0,     0,     0,     0,     0,\n",
              "             0,     0,     0,     0,     0,     0,     0,     0,     0],\n",
              "        [  461,    31,  1186,   377,  3424,   740,  1146,    62,  9444,\n",
              "          1626,   173,    47,     0,     0,     0,     0,     0,     0,\n",
              "             0,     0,     0,     0,     0,     0,     0,     0,     0],\n",
              "        [15473,  1707,  1186,  4286,  8252,     0,     0,     0,     0,\n",
              "             0,     0,     0,     0,     0,     0,     0,     0,     0,\n",
              "             0,     0,     0,     0,     0,     0,     0,     0,     0],\n",
              "        [ 1714,  1162,   135, 26128,     0,     0,     0,     0,     0,\n",
              "             0,     0,     0,     0,     0,     0,     0,     0,     0,\n",
              "             0,     0,     0,     0,     0,     0,     0,     0,     0],\n",
              "        [ 2715,  3760,   472,  7301,  2368,  4862,   382,  8252,     0,\n",
              "             0,     0,     0,     0,     0,     0,     0,     0,     0,\n",
              "             0,     0,     0,     0,     0,     0,     0,     0,     0],\n",
              "        [28969,    32,   339,  3171, 10736,  1054,    19,     0,     0,\n",
              "             0,     0,     0,     0,     0,     0,     0,     0,     0,\n",
              "             0,     0,     0,     0,     0,     0,     0,     0,     0],\n",
              "        [ 3379,    41,  5775,   236,   271,   363,   210,   989,  2172,\n",
              "         15309, 18699,  6452,     0,     0,     0,     0,     0,     0,\n",
              "             0,     0,     0,     0,     0,     0,     0,     0,     0],\n",
              "        [  339, 19999,    43,    40,   735,    47,     0,     0,     0,\n",
              "             0,     0,     0,     0,     0,     0,     0,     0,     0,\n",
              "             0,     0,     0,     0,     0,     0,     0,     0,     0],\n",
              "        [ 1851,  2425,  2591, 14916,  2956,     0,     0,     0,     0,\n",
              "             0,     0,     0,     0,     0,     0,     0,     0,     0,\n",
              "             0,     0,     0,     0,     0,     0,     0,     0,     0]],\n",
              "       dtype=int32),\n",
              " array([1., 0., 0., 0., 0., 1., 0., 0., 0., 1.]))"
            ]
          },
          "metadata": {
            "tags": []
          },
          "execution_count": 124
        }
      ]
    },
    {
      "cell_type": "markdown",
      "metadata": {
        "id": "IFTsdA3kE2h-"
      },
      "source": [
        "## 학습"
      ]
    },
    {
      "cell_type": "code",
      "metadata": {
        "id": "qTq-wlOgqCFe",
        "colab": {
          "base_uri": "https://localhost:8080/",
          "height": 865
        },
        "outputId": "aaa3f261-08d6-4a2e-c8fa-efb6f6b08ec1"
      },
      "source": [
        "# 모델 생성\n",
        "model = build_model(len(vocab), d_model, n_seq_1, n_seq_2)\n",
        "# 모델 내용 그래프 출력\n",
        "tf.keras.utils.plot_model(model, 'model.png', show_shapes=True)"
      ],
      "execution_count": 136,
      "outputs": [
        {
          "output_type": "execute_result",
          "data": {
            "image/png": "[encoded data removed]",
            "text/plain": [
              "<IPython.core.display.Image object>"
            ]
          },
          "metadata": {
            "tags": []
          },
          "execution_count": 136
        }
      ]
    },
    {
      "cell_type": "code",
      "metadata": {
        "id": "X7UDvaPqEx1c"
      },
      "source": [
        "# 모델 loss, optimizer, metric 정의\n",
        "model.compile(loss='mean_squared_error', optimizer='adam', metrics=['binary_accuracy'])"
      ],
      "execution_count": 137,
      "outputs": []
    },
    {
      "cell_type": "code",
      "metadata": {
        "id": "-FQBJ2aQLXdp"
      },
      "source": [
        "# early stopping\n",
        "early_stopping = tf.keras.callbacks.EarlyStopping(monitor='val_binary_accuracy', patience=50)\n",
        "# save weights callback\n",
        "save_weights = tf.keras.callbacks.ModelCheckpoint(os.path.join(quora_dir, 'stub.hdf5'), #저장위치\n",
        "                                                  monitor='val_binary_accuracy',\n",
        "                                                  verbose=1,\n",
        "                                                  save_best_only=True,\n",
        "                                                  mode=\"max\",\n",
        "                                                  save_freq=\"epoch\",\n",
        "                                                  save_weights_only=True)\n",
        "# csv logger\n",
        "csv_logger = tf.keras.callbacks.CSVLogger(os.path.join(quora_dir, 'stub.csv')) #log데이터를 여기로 저장해라!"
      ],
      "execution_count": 138,
      "outputs": []
    },
    {
      "cell_type": "code",
      "metadata": {
        "id": "MSyF0MvAFGoJ",
        "colab": {
          "base_uri": "https://localhost:8080/"
        },
        "outputId": "06466715-e395-4865-a28e-daa6016e6e30"
      },
      "source": [
        "# 모델 학습\n",
        "history = model.fit((train_inputs_1, train_inputs_2),\n",
        "                    train_labels,\n",
        "                    validation_data=((test_inputs_1, test_inputs_2), test_labels),\n",
        "                    epochs=100,\n",
        "                    batch_size=256,\n",
        "                    callbacks=[early_stopping, save_weights, csv_logger])"
      ],
      "execution_count": 139,
      "outputs": [
        {
          "output_type": "stream",
          "text": [
            "Epoch 1/100\n",
            "1/1 [==============================] - 1s 850ms/step - loss: 0.2644 - binary_accuracy: 0.6000 - val_loss: 0.2009 - val_binary_accuracy: 0.7000\n",
            "\n",
            "Epoch 00001: val_binary_accuracy improved from -inf to 0.70000, saving model to /content/drive/MyDrive/Colab Notebooks/2021-HUFS-NLP/data/quora/stub.hdf5\n",
            "Epoch 2/100\n",
            "1/1 [==============================] - 0s 149ms/step - loss: 0.2372 - binary_accuracy: 0.7000 - val_loss: 0.2010 - val_binary_accuracy: 0.7000\n",
            "\n",
            "Epoch 00002: val_binary_accuracy did not improve from 0.70000\n",
            "Epoch 3/100\n",
            "1/1 [==============================] - 0s 123ms/step - loss: 0.2094 - binary_accuracy: 0.7000 - val_loss: 0.2011 - val_binary_accuracy: 0.7000\n",
            "\n",
            "Epoch 00003: val_binary_accuracy did not improve from 0.70000\n",
            "Epoch 4/100\n",
            "1/1 [==============================] - 0s 163ms/step - loss: 0.1831 - binary_accuracy: 0.7000 - val_loss: 0.2013 - val_binary_accuracy: 0.7000\n",
            "\n",
            "Epoch 00004: val_binary_accuracy did not improve from 0.70000\n",
            "Epoch 5/100\n",
            "1/1 [==============================] - 0s 110ms/step - loss: 0.1581 - binary_accuracy: 0.7000 - val_loss: 0.2016 - val_binary_accuracy: 0.7000\n",
            "\n",
            "Epoch 00005: val_binary_accuracy did not improve from 0.70000\n",
            "Epoch 6/100\n",
            "1/1 [==============================] - 0s 106ms/step - loss: 0.1347 - binary_accuracy: 0.7000 - val_loss: 0.2020 - val_binary_accuracy: 0.7000\n",
            "\n",
            "Epoch 00006: val_binary_accuracy did not improve from 0.70000\n",
            "Epoch 7/100\n",
            "1/1 [==============================] - 0s 108ms/step - loss: 0.1130 - binary_accuracy: 0.7000 - val_loss: 0.2023 - val_binary_accuracy: 0.7000\n",
            "\n",
            "Epoch 00007: val_binary_accuracy did not improve from 0.70000\n",
            "Epoch 8/100\n",
            "1/1 [==============================] - 0s 104ms/step - loss: 0.0930 - binary_accuracy: 0.8000 - val_loss: 0.2026 - val_binary_accuracy: 0.7000\n",
            "\n",
            "Epoch 00008: val_binary_accuracy did not improve from 0.70000\n",
            "Epoch 9/100\n",
            "1/1 [==============================] - 0s 107ms/step - loss: 0.0765 - binary_accuracy: 0.8000 - val_loss: 0.2029 - val_binary_accuracy: 0.7000\n",
            "\n",
            "Epoch 00009: val_binary_accuracy did not improve from 0.70000\n",
            "Epoch 10/100\n",
            "1/1 [==============================] - 0s 106ms/step - loss: 0.0634 - binary_accuracy: 0.9000 - val_loss: 0.2032 - val_binary_accuracy: 0.7000\n",
            "\n",
            "Epoch 00010: val_binary_accuracy did not improve from 0.70000\n",
            "Epoch 11/100\n",
            "1/1 [==============================] - 0s 104ms/step - loss: 0.0528 - binary_accuracy: 1.0000 - val_loss: 0.2034 - val_binary_accuracy: 0.7000\n",
            "\n",
            "Epoch 00011: val_binary_accuracy did not improve from 0.70000\n",
            "Epoch 12/100\n",
            "1/1 [==============================] - 0s 112ms/step - loss: 0.0432 - binary_accuracy: 1.0000 - val_loss: 0.2034 - val_binary_accuracy: 0.7000\n",
            "\n",
            "Epoch 00012: val_binary_accuracy did not improve from 0.70000\n",
            "Epoch 13/100\n",
            "1/1 [==============================] - 0s 105ms/step - loss: 0.0348 - binary_accuracy: 1.0000 - val_loss: 0.2033 - val_binary_accuracy: 0.7000\n",
            "\n",
            "Epoch 00013: val_binary_accuracy did not improve from 0.70000\n",
            "Epoch 14/100\n",
            "1/1 [==============================] - 0s 109ms/step - loss: 0.0281 - binary_accuracy: 1.0000 - val_loss: 0.2033 - val_binary_accuracy: 0.7000\n",
            "\n",
            "Epoch 00014: val_binary_accuracy did not improve from 0.70000\n",
            "Epoch 15/100\n",
            "1/1 [==============================] - 0s 114ms/step - loss: 0.0229 - binary_accuracy: 1.0000 - val_loss: 0.2032 - val_binary_accuracy: 0.7000\n",
            "\n",
            "Epoch 00015: val_binary_accuracy did not improve from 0.70000\n",
            "Epoch 16/100\n",
            "1/1 [==============================] - 0s 103ms/step - loss: 0.0188 - binary_accuracy: 1.0000 - val_loss: 0.2031 - val_binary_accuracy: 0.7000\n",
            "\n",
            "Epoch 00016: val_binary_accuracy did not improve from 0.70000\n",
            "Epoch 17/100\n",
            "1/1 [==============================] - 0s 107ms/step - loss: 0.0157 - binary_accuracy: 1.0000 - val_loss: 0.2030 - val_binary_accuracy: 0.7000\n",
            "\n",
            "Epoch 00017: val_binary_accuracy did not improve from 0.70000\n",
            "Epoch 18/100\n",
            "1/1 [==============================] - 0s 117ms/step - loss: 0.0131 - binary_accuracy: 1.0000 - val_loss: 0.2029 - val_binary_accuracy: 0.7000\n",
            "\n",
            "Epoch 00018: val_binary_accuracy did not improve from 0.70000\n",
            "Epoch 19/100\n",
            "1/1 [==============================] - 0s 106ms/step - loss: 0.0111 - binary_accuracy: 1.0000 - val_loss: 0.2029 - val_binary_accuracy: 0.7000\n",
            "\n",
            "Epoch 00019: val_binary_accuracy did not improve from 0.70000\n",
            "Epoch 20/100\n",
            "1/1 [==============================] - 0s 107ms/step - loss: 0.0096 - binary_accuracy: 1.0000 - val_loss: 0.2028 - val_binary_accuracy: 0.7000\n",
            "\n",
            "Epoch 00020: val_binary_accuracy did not improve from 0.70000\n",
            "Epoch 21/100\n",
            "1/1 [==============================] - 0s 117ms/step - loss: 0.0083 - binary_accuracy: 1.0000 - val_loss: 0.2028 - val_binary_accuracy: 0.7000\n",
            "\n",
            "Epoch 00021: val_binary_accuracy did not improve from 0.70000\n",
            "Epoch 22/100\n",
            "1/1 [==============================] - 0s 108ms/step - loss: 0.0071 - binary_accuracy: 1.0000 - val_loss: 0.2028 - val_binary_accuracy: 0.7000\n",
            "\n",
            "Epoch 00022: val_binary_accuracy did not improve from 0.70000\n",
            "Epoch 23/100\n",
            "1/1 [==============================] - 0s 105ms/step - loss: 0.0059 - binary_accuracy: 1.0000 - val_loss: 0.2027 - val_binary_accuracy: 0.7000\n",
            "\n",
            "Epoch 00023: val_binary_accuracy did not improve from 0.70000\n",
            "Epoch 24/100\n",
            "1/1 [==============================] - 0s 104ms/step - loss: 0.0051 - binary_accuracy: 1.0000 - val_loss: 0.2027 - val_binary_accuracy: 0.7000\n",
            "\n",
            "Epoch 00024: val_binary_accuracy did not improve from 0.70000\n",
            "Epoch 25/100\n",
            "1/1 [==============================] - 0s 105ms/step - loss: 0.0043 - binary_accuracy: 1.0000 - val_loss: 0.2026 - val_binary_accuracy: 0.7000\n",
            "\n",
            "Epoch 00025: val_binary_accuracy did not improve from 0.70000\n",
            "Epoch 26/100\n",
            "1/1 [==============================] - 0s 104ms/step - loss: 0.0036 - binary_accuracy: 1.0000 - val_loss: 0.2025 - val_binary_accuracy: 0.7000\n",
            "\n",
            "Epoch 00026: val_binary_accuracy did not improve from 0.70000\n",
            "Epoch 27/100\n",
            "1/1 [==============================] - 0s 110ms/step - loss: 0.0030 - binary_accuracy: 1.0000 - val_loss: 0.2024 - val_binary_accuracy: 0.7000\n",
            "\n",
            "Epoch 00027: val_binary_accuracy did not improve from 0.70000\n",
            "Epoch 28/100\n",
            "1/1 [==============================] - 0s 109ms/step - loss: 0.0025 - binary_accuracy: 1.0000 - val_loss: 0.2023 - val_binary_accuracy: 0.7000\n",
            "\n",
            "Epoch 00028: val_binary_accuracy did not improve from 0.70000\n",
            "Epoch 29/100\n",
            "1/1 [==============================] - 0s 103ms/step - loss: 0.0021 - binary_accuracy: 1.0000 - val_loss: 0.2022 - val_binary_accuracy: 0.7000\n",
            "\n",
            "Epoch 00029: val_binary_accuracy did not improve from 0.70000\n",
            "Epoch 30/100\n",
            "1/1 [==============================] - 0s 113ms/step - loss: 0.0019 - binary_accuracy: 1.0000 - val_loss: 0.2022 - val_binary_accuracy: 0.7000\n",
            "\n",
            "Epoch 00030: val_binary_accuracy did not improve from 0.70000\n",
            "Epoch 31/100\n",
            "1/1 [==============================] - 0s 104ms/step - loss: 0.0018 - binary_accuracy: 1.0000 - val_loss: 0.2021 - val_binary_accuracy: 0.7000\n",
            "\n",
            "Epoch 00031: val_binary_accuracy did not improve from 0.70000\n",
            "Epoch 32/100\n",
            "1/1 [==============================] - 0s 103ms/step - loss: 0.0017 - binary_accuracy: 1.0000 - val_loss: 0.2021 - val_binary_accuracy: 0.7000\n",
            "\n",
            "Epoch 00032: val_binary_accuracy did not improve from 0.70000\n",
            "Epoch 33/100\n",
            "1/1 [==============================] - 0s 107ms/step - loss: 0.0016 - binary_accuracy: 1.0000 - val_loss: 0.2021 - val_binary_accuracy: 0.7000\n",
            "\n",
            "Epoch 00033: val_binary_accuracy did not improve from 0.70000\n",
            "Epoch 34/100\n",
            "1/1 [==============================] - 0s 105ms/step - loss: 0.0015 - binary_accuracy: 1.0000 - val_loss: 0.2020 - val_binary_accuracy: 0.7000\n",
            "\n",
            "Epoch 00034: val_binary_accuracy did not improve from 0.70000\n",
            "Epoch 35/100\n",
            "1/1 [==============================] - 0s 114ms/step - loss: 0.0013 - binary_accuracy: 1.0000 - val_loss: 0.2020 - val_binary_accuracy: 0.7000\n",
            "\n",
            "Epoch 00035: val_binary_accuracy did not improve from 0.70000\n",
            "Epoch 36/100\n",
            "1/1 [==============================] - 0s 106ms/step - loss: 0.0011 - binary_accuracy: 1.0000 - val_loss: 0.2019 - val_binary_accuracy: 0.7000\n",
            "\n",
            "Epoch 00036: val_binary_accuracy did not improve from 0.70000\n",
            "Epoch 37/100\n",
            "1/1 [==============================] - 0s 108ms/step - loss: 9.3139e-04 - binary_accuracy: 1.0000 - val_loss: 0.2019 - val_binary_accuracy: 0.7000\n",
            "\n",
            "Epoch 00037: val_binary_accuracy did not improve from 0.70000\n",
            "Epoch 38/100\n",
            "1/1 [==============================] - 0s 109ms/step - loss: 8.3685e-04 - binary_accuracy: 1.0000 - val_loss: 0.2019 - val_binary_accuracy: 0.7000\n",
            "\n",
            "Epoch 00038: val_binary_accuracy did not improve from 0.70000\n",
            "Epoch 39/100\n",
            "1/1 [==============================] - 0s 109ms/step - loss: 7.6024e-04 - binary_accuracy: 1.0000 - val_loss: 0.2018 - val_binary_accuracy: 0.7000\n",
            "\n",
            "Epoch 00039: val_binary_accuracy did not improve from 0.70000\n",
            "Epoch 40/100\n",
            "1/1 [==============================] - 0s 118ms/step - loss: 6.7542e-04 - binary_accuracy: 1.0000 - val_loss: 0.2018 - val_binary_accuracy: 0.7000\n",
            "\n",
            "Epoch 00040: val_binary_accuracy did not improve from 0.70000\n",
            "Epoch 41/100\n",
            "1/1 [==============================] - 0s 106ms/step - loss: 6.1323e-04 - binary_accuracy: 1.0000 - val_loss: 0.2018 - val_binary_accuracy: 0.7000\n",
            "\n",
            "Epoch 00041: val_binary_accuracy did not improve from 0.70000\n",
            "Epoch 42/100\n",
            "1/1 [==============================] - 0s 106ms/step - loss: 5.4541e-04 - binary_accuracy: 1.0000 - val_loss: 0.2018 - val_binary_accuracy: 0.7000\n",
            "\n",
            "Epoch 00042: val_binary_accuracy did not improve from 0.70000\n",
            "Epoch 43/100\n",
            "1/1 [==============================] - 0s 108ms/step - loss: 5.0189e-04 - binary_accuracy: 1.0000 - val_loss: 0.2018 - val_binary_accuracy: 0.7000\n",
            "\n",
            "Epoch 00043: val_binary_accuracy did not improve from 0.70000\n",
            "Epoch 44/100\n",
            "1/1 [==============================] - 0s 109ms/step - loss: 4.6310e-04 - binary_accuracy: 1.0000 - val_loss: 0.2018 - val_binary_accuracy: 0.7000\n",
            "\n",
            "Epoch 00044: val_binary_accuracy did not improve from 0.70000\n",
            "Epoch 45/100\n",
            "1/1 [==============================] - 0s 108ms/step - loss: 4.4280e-04 - binary_accuracy: 1.0000 - val_loss: 0.2017 - val_binary_accuracy: 0.7000\n",
            "\n",
            "Epoch 00045: val_binary_accuracy did not improve from 0.70000\n",
            "Epoch 46/100\n",
            "1/1 [==============================] - 0s 107ms/step - loss: 4.2878e-04 - binary_accuracy: 1.0000 - val_loss: 0.2017 - val_binary_accuracy: 0.7000\n",
            "\n",
            "Epoch 00046: val_binary_accuracy did not improve from 0.70000\n",
            "Epoch 47/100\n",
            "1/1 [==============================] - 0s 106ms/step - loss: 4.0089e-04 - binary_accuracy: 1.0000 - val_loss: 0.2017 - val_binary_accuracy: 0.7000\n",
            "\n",
            "Epoch 00047: val_binary_accuracy did not improve from 0.70000\n",
            "Epoch 48/100\n",
            "1/1 [==============================] - 0s 113ms/step - loss: 3.6198e-04 - binary_accuracy: 1.0000 - val_loss: 0.2017 - val_binary_accuracy: 0.7000\n",
            "\n",
            "Epoch 00048: val_binary_accuracy did not improve from 0.70000\n",
            "Epoch 49/100\n",
            "1/1 [==============================] - 0s 241ms/step - loss: 3.2036e-04 - binary_accuracy: 1.0000 - val_loss: 0.2017 - val_binary_accuracy: 0.7000\n",
            "\n",
            "Epoch 00049: val_binary_accuracy did not improve from 0.70000\n",
            "Epoch 50/100\n",
            "1/1 [==============================] - 0s 138ms/step - loss: 2.6290e-04 - binary_accuracy: 1.0000 - val_loss: 0.2017 - val_binary_accuracy: 0.7000\n",
            "\n",
            "Epoch 00050: val_binary_accuracy did not improve from 0.70000\n",
            "Epoch 51/100\n",
            "1/1 [==============================] - 0s 109ms/step - loss: 2.4063e-04 - binary_accuracy: 1.0000 - val_loss: 0.2017 - val_binary_accuracy: 0.7000\n",
            "\n",
            "Epoch 00051: val_binary_accuracy did not improve from 0.70000\n"
          ],
          "name": "stdout"
        }
      ]
    },
    {
      "cell_type": "code",
      "metadata": {
        "id": "m1UWJMf4FTiZ"
      },
      "source": [
        "plt.figure(figsize=(12, 4))\n",
        "\n",
        "plt.subplot(1, 2, 1)\n",
        "plt.plot(history.history['loss'], 'b-', label='loss')\n",
        "plt.plot(history.history['val_loss'], 'r--', label='val_loss')\n",
        "plt.xlabel('Epoch')\n",
        "plt.legend()\n",
        "\n",
        "plt.subplot(1, 2, 2)\n",
        "plt.plot(history.history['binary_accuracy'], 'g-', label='acc')\n",
        "plt.plot(history.history['val_binary_accuracy'], 'k--', label='val_acc')\n",
        "plt.xlabel('Epoch')\n",
        "plt.legend()\n",
        "\n",
        "plt.show()"
      ],
      "execution_count": null,
      "outputs": []
    },
    {
      "cell_type": "markdown",
      "metadata": {
        "id": "PQvKAxTbaEpt"
      },
      "source": [
        "## Inference"
      ]
    },
    {
      "cell_type": "code",
      "metadata": {
        "id": "ZuK60XkEOSUS"
      },
      "source": [
        "# 모델 생성  >>이런식으로 불러올수있다 (좀더볼것!!!)\n",
        "model = build_model(len(vocab), d_model, n_seq_1, n_seq_2)\n",
        "# train weight로 초기화\n",
        "model.load_weights(os.path.join(quora_dir, 'stub.hdf5'))"
      ],
      "execution_count": 159,
      "outputs": []
    },
    {
      "cell_type": "code",
      "metadata": {
        "colab": {
          "base_uri": "https://localhost:8080/"
        },
        "id": "2ZyXlkk4OSUd",
        "outputId": "2152dd7b-dfc8-464f-af14-d3b6a31ebab5"
      },
      "source": [
        "# 예측\r\n",
        "logits = model.predict((test_inputs_1, test_inputs_2))\r\n",
        "logits"
      ],
      "execution_count": 161,
      "outputs": [
        {
          "output_type": "execute_result",
          "data": {
            "text/plain": [
              "array([0.16987847, 0.13320181, 0.08748775, 0.06147762, 0.06521288,\n",
              "       0.36240134, 0.11338115, 0.08942186, 0.07232972, 0.07587765],\n",
              "      dtype=float32)"
            ]
          },
          "metadata": {
            "tags": []
          },
          "execution_count": 161
        }
      ]
    },
    {
      "cell_type": "code",
      "metadata": {
        "colab": {
          "base_uri": "https://localhost:8080/"
        },
        "id": "rMxIk3rdOSUe",
        "outputId": "f7b7b60d-a797-4fcb-a849-4690e2d79270"
      },
      "source": [
        "# 0.5를 기준으로 (0, 1) 결정\r\n",
        "test_preds =(0.5 < logits).astype(np.int)\r\n",
        "test_preds"
      ],
      "execution_count": 162,
      "outputs": [
        {
          "output_type": "execute_result",
          "data": {
            "text/plain": [
              "array([0, 0, 0, 0, 0, 0, 0, 0, 0, 0])"
            ]
          },
          "metadata": {
            "tags": []
          },
          "execution_count": 162
        }
      ]
    },
    {
      "cell_type": "code",
      "metadata": {
        "id": "pwQhmGPcOSUe",
        "colab": {
          "base_uri": "https://localhost:8080/"
        },
        "outputId": "ea7f22f8-ef44-4a52-8f2d-5df88afad36f"
      },
      "source": [
        "# confusion matrix 계산\n",
        "confusion_matrix = np.zeros((2, 2)).astype(np.int)\n",
        "for y_true, y_pred in zip(test_labels, test_preds):\n",
        "    confusion_matrix[int(y_true), int(y_pred)] += 1\n",
        "confusion_matrix"
      ],
      "execution_count": 163,
      "outputs": [
        {
          "output_type": "execute_result",
          "data": {
            "text/plain": [
              "array([[7, 0],\n",
              "       [3, 0]])"
            ]
          },
          "metadata": {
            "tags": []
          },
          "execution_count": 163
        }
      ]
    },
    {
      "cell_type": "code",
      "metadata": {
        "id": "_pjiEotjOSUe",
        "colab": {
          "base_uri": "https://localhost:8080/"
        },
        "outputId": "88c4c035-228d-487b-d95e-1c31ac787191"
      },
      "source": [
        "# score 계산\n",
        "tp = confusion_matrix[1, 1]\n",
        "tn = confusion_matrix[0, 0]\n",
        "fp = confusion_matrix[0, 1]\n",
        "fn = confusion_matrix[1, 0]\n",
        "\n",
        "accuracy = (tp + tn) / max(tp + tn + fp + fn, 1)\n",
        "print(f'accuracy: {accuracy}')\n",
        "precision = (tp) / max(tp + fp, 1)\n",
        "print(f'precision: {precision}')\n",
        "recall = (tp) / max(tp + fn, 1)\n",
        "print(f'recall: {recall}')\n",
        "f1 = 2 * (precision * recall) / max(precision + recall, 1)\n",
        "print(f'f1: {f1}')"
      ],
      "execution_count": 164,
      "outputs": [
        {
          "output_type": "stream",
          "text": [
            "accuracy: 0.7\n",
            "precision: 0.0\n",
            "recall: 0.0\n",
            "f1: 0.0\n"
          ],
          "name": "stdout"
        }
      ]
    },
    {
      "cell_type": "code",
      "metadata": {
        "id": "KzaDEUSbaeu4"
      },
      "source": [
        "def do_predict(model, n_seq_1, string1, n_seq_2, string2):\n",
        "    \"\"\"\n",
        "    입력에 대한 답변 생성하는 함수\n",
        "    :param model: model\n",
        "    :param n_seq_1: 입력 개수 1\n",
        "    :param string1: 입력 문자열 1\n",
        "    :param n_seq_1: 입력 개수 2\n",
        "    :param string2: 입력 문자열 2\n",
        "    \"\"\"\n",
        "    ###############################\n",
        "    # token 생성: <string 1 tokens>, [PAD] tokens\n",
        "    token1 = vocab.encode_as_ids(string1)\n",
        "    token1 = token1[:n_seq_1]\n",
        "    token1 += [0] * (n_seq_1 - len(token1))\n",
        "    print(token1)\n",
        "\n",
        "    # token 생성: <string 2 tokens>, [PAD] tokens\n",
        "    token2 = vocab.encode_as_ids(string2)\n",
        "    token2 = token2[:n_seq_2]\n",
        "    token2 += [0] * (n_seq_2 - len(token2))\n",
        "    print(token2)\n",
        "\n",
        "    y_pred = model.predict((np.array([token1]), np.array([token2]))) #배열형식 튜플로 넣어줘야되므로 np.array[token]형태취함\n",
        "    return \"같음\" if y_pred[0]>0.5 else \"다름\"\n",
        "    ###############################"
      ],
      "execution_count": 171,
      "outputs": []
    },
    {
      "cell_type": "code",
      "metadata": {
        "id": "ewK2GsOMtvkj",
        "colab": {
          "base_uri": "https://localhost:8080/",
          "height": 109
        },
        "outputId": "3f6ad39b-044d-4bf7-9877-710477c64a6d"
      },
      "source": [
        "string1 = '나는 오늘 기분이 좋아'\n",
        "string2 = '나는 오늘 우울해'\n",
        "do_predict(model, n_seq_1, string1, n_seq_2, string2)"
      ],
      "execution_count": 172,
      "outputs": [
        {
          "output_type": "stream",
          "text": [
            "[3872, 9676, 16056, 17, 2795, 0, 0, 0, 0, 0, 0, 0, 0, 0, 0, 0, 0, 0, 0, 0, 0, 0, 0, 0, 0, 0]\n",
            "[3872, 9676, 22428, 61, 0, 0, 0, 0, 0, 0, 0, 0, 0, 0, 0, 0, 0, 0, 0, 0, 0, 0, 0, 0, 0, 0, 0]\n",
            "WARNING:tensorflow:6 out of the last 8 calls to <function Model.make_predict_function.<locals>.predict_function at 0x7fc771ff0378> triggered tf.function retracing. Tracing is expensive and the excessive number of tracings could be due to (1) creating @tf.function repeatedly in a loop, (2) passing tensors with different shapes, (3) passing Python objects instead of tensors. For (1), please define your @tf.function outside of the loop. For (2), @tf.function has experimental_relax_shapes=True option that relaxes argument shapes that can avoid unnecessary retracing. For (3), please refer to https://www.tensorflow.org/guide/function#controlling_retracing and https://www.tensorflow.org/api_docs/python/tf/function for  more details.\n"
          ],
          "name": "stdout"
        },
        {
          "output_type": "execute_result",
          "data": {
            "application/vnd.google.colaboratory.intrinsic+json": {
              "type": "string"
            },
            "text/plain": [
              "'다름'"
            ]
          },
          "metadata": {
            "tags": []
          },
          "execution_count": 172
        }
      ]
    },
    {
      "cell_type": "code",
      "metadata": {
        "id": "mQVkuBylavCr",
        "colab": {
          "base_uri": "https://localhost:8080/"
        },
        "outputId": "c13275bf-f8b8-4e71-fbbe-add3c35f699e"
      },
      "source": [
        "while True:\n",
        "    print(\"string #1 > \", end=\"\")\n",
        "    string1 = str(input())\n",
        "    if len(string1) == 0:\n",
        "        break\n",
        "    print(\"string #2 > \", end=\"\")\n",
        "    string2 = str(input())\n",
        "    if len(string2) == 0:\n",
        "        break\n",
        "    print(f\"output > {do_predict(model, n_seq_1, string1, n_seq_2, string2)}\")"
      ],
      "execution_count": 173,
      "outputs": [
        {
          "output_type": "stream",
          "text": [
            "string #1 > 오늘 기분 좋아\n",
            "string #2 > 오늘 기분 우울해\n",
            "[9676, 16056, 2795, 0, 0, 0, 0, 0, 0, 0, 0, 0, 0, 0, 0, 0, 0, 0, 0, 0, 0, 0, 0, 0, 0, 0]\n",
            "[9676, 16056, 22428, 61, 0, 0, 0, 0, 0, 0, 0, 0, 0, 0, 0, 0, 0, 0, 0, 0, 0, 0, 0, 0, 0, 0, 0]\n",
            "output > 다름\n",
            "string #1 > 안녕 행복해\n",
            "string #2 > 안녕 우울해\n",
            "[21498, 7169, 61, 0, 0, 0, 0, 0, 0, 0, 0, 0, 0, 0, 0, 0, 0, 0, 0, 0, 0, 0, 0, 0, 0, 0]\n",
            "[21498, 22428, 61, 0, 0, 0, 0, 0, 0, 0, 0, 0, 0, 0, 0, 0, 0, 0, 0, 0, 0, 0, 0, 0, 0, 0, 0]\n",
            "output > 다름\n",
            "string #1 > 안녕 좋아\n",
            "string #2 > 좋아\n",
            "[21498, 2795, 0, 0, 0, 0, 0, 0, 0, 0, 0, 0, 0, 0, 0, 0, 0, 0, 0, 0, 0, 0, 0, 0, 0, 0]\n",
            "[2795, 0, 0, 0, 0, 0, 0, 0, 0, 0, 0, 0, 0, 0, 0, 0, 0, 0, 0, 0, 0, 0, 0, 0, 0, 0, 0]\n",
            "output > 다름\n",
            "string #1 > 안녕 좋아\n",
            "string #2 > 안녕좋아\n",
            "[21498, 2795, 0, 0, 0, 0, 0, 0, 0, 0, 0, 0, 0, 0, 0, 0, 0, 0, 0, 0, 0, 0, 0, 0, 0, 0]\n",
            "[21498, 23912, 141, 0, 0, 0, 0, 0, 0, 0, 0, 0, 0, 0, 0, 0, 0, 0, 0, 0, 0, 0, 0, 0, 0, 0, 0]\n",
            "output > 다름\n",
            "string #1 > 행복\n",
            "string #2 > 행복\n",
            "[7169, 0, 0, 0, 0, 0, 0, 0, 0, 0, 0, 0, 0, 0, 0, 0, 0, 0, 0, 0, 0, 0, 0, 0, 0, 0]\n",
            "[7169, 0, 0, 0, 0, 0, 0, 0, 0, 0, 0, 0, 0, 0, 0, 0, 0, 0, 0, 0, 0, 0, 0, 0, 0, 0, 0]\n",
            "output > 같음\n",
            "string #1 > 행복하니\n",
            "string #2 > 행복해\n",
            "[7169, 8066, 0, 0, 0, 0, 0, 0, 0, 0, 0, 0, 0, 0, 0, 0, 0, 0, 0, 0, 0, 0, 0, 0, 0, 0]\n",
            "[7169, 61, 0, 0, 0, 0, 0, 0, 0, 0, 0, 0, 0, 0, 0, 0, 0, 0, 0, 0, 0, 0, 0, 0, 0, 0, 0]\n",
            "output > 다름\n",
            "string #1 > 오늘은 기분이 좋아\n",
            "string #2 > 오늘은 기분이 행복해\n",
            "[9676, 18, 16056, 17, 2795, 0, 0, 0, 0, 0, 0, 0, 0, 0, 0, 0, 0, 0, 0, 0, 0, 0, 0, 0, 0, 0]\n",
            "[9676, 18, 16056, 17, 7169, 61, 0, 0, 0, 0, 0, 0, 0, 0, 0, 0, 0, 0, 0, 0, 0, 0, 0, 0, 0, 0, 0]\n",
            "output > 다름\n",
            "string #1 > \n"
          ],
          "name": "stdout"
        }
      ]
    },
    {
      "cell_type": "markdown",
      "metadata": {
        "id": "zSaoCf37q3aC"
      },
      "source": [
        "# All Data Project"
      ]
    },
    {
      "cell_type": "markdown",
      "metadata": {
        "id": "arOON7lCq3aC"
      },
      "source": [
        "## Data\n"
      ]
    },
    {
      "cell_type": "code",
      "metadata": {
        "id": "tNIbidDEq3aC"
      },
      "source": [
        "df_train = pd.read_csv(os.path.join(quora_dir, 'kor_pair_train.csv'), delimiter=',')\n",
        "df_train"
      ],
      "execution_count": null,
      "outputs": []
    },
    {
      "cell_type": "code",
      "metadata": {
        "id": "6kGWoqa0q3aD"
      },
      "source": [
        "df_train = df_train.dropna()\n",
        "df_train"
      ],
      "execution_count": null,
      "outputs": []
    },
    {
      "cell_type": "code",
      "metadata": {
        "id": "KWPDQFPBq3aD"
      },
      "source": [
        "df_test = pd.read_csv(os.path.join(quora_dir, 'kor_Pair_test.csv'), delimiter=',')\n",
        "df_test"
      ],
      "execution_count": null,
      "outputs": []
    },
    {
      "cell_type": "code",
      "metadata": {
        "id": "y9ewl-6Zq3aE"
      },
      "source": [
        "df_test = df_test[['test_id', 'question1', 'question2', 'is_duplicate']]\n",
        "df_test"
      ],
      "execution_count": null,
      "outputs": []
    },
    {
      "cell_type": "code",
      "metadata": {
        "id": "kXcHn9p4q3aE"
      },
      "source": [
        "df_test = df_test.dropna()\n",
        "df_test"
      ],
      "execution_count": null,
      "outputs": []
    },
    {
      "cell_type": "code",
      "metadata": {
        "id": "pl2JDf6Aq3aF"
      },
      "source": [
        "def load_data(df, n_seq_1, n_seq_2):\n",
        "    \"\"\"\n",
        "    Quora 학습 데이터 생성\n",
        "    :param df: data frame\n",
        "    :param n_seq_1: number of sequence 1\n",
        "    :param n_seq_2: number of sequence 2\n",
        "    :return inputs_1: input data 1\n",
        "    :return inputs_2: input data 2\n",
        "    :return labels: label data\n",
        "    \"\"\"\n",
        "    inputs_1 = np.zeros((len(df), n_seq_1)).astype(np.int32)\n",
        "    inputs_2 = np.zeros((len(df), n_seq_2)).astype(np.int32)\n",
        "    labels = np.zeros((len(df),))\n",
        "    index = 0\n",
        "    for i, row in tqdm(df.iterrows(), total=len(df)):\n",
        "        # tokens 저장\n",
        "        # print()\n",
        "        is_duplicate = row['is_duplicate']\n",
        "        question1 = row['question1']\n",
        "        question2 = row['question2']\n",
        "        # print(is_duplicate, question1, question2)\n",
        "\n",
        "        tokens_1 = vocab.encode_as_pieces(question1)\n",
        "        # print(len(tokens_1), ':', tokens_1)\n",
        "        tokens_2 = vocab.encode_as_pieces(question2)\n",
        "        # print(len(tokens_2), ':', tokens_2)\n",
        "\n",
        "        token_ids_1 = vocab.encode_as_ids(question1)\n",
        "        # print(len(token_ids_1), ':', token_ids_1)\n",
        "        token_ids_2 = vocab.encode_as_ids(question2)\n",
        "        # print(len(token_ids_2), ':', token_ids_2)\n",
        "\n",
        "        token_ids_1 = token_ids_1[:n_seq_1]\n",
        "        # print(len(token_ids_1), ':', token_ids_1)\n",
        "        token_ids_2 = token_ids_2[:n_seq_2]\n",
        "        # print(len(token_ids_2), ':', token_ids_2)\n",
        "\n",
        "        token_ids_1 += [0] * (n_seq_1 - len(token_ids_1))\n",
        "        # print(len(token_ids_1), ':', token_ids_1)\n",
        "        token_ids_2 += [0] * (n_seq_2 - len(token_ids_2))\n",
        "        # print(len(token_ids_2), ':', token_ids_2)\n",
        "\n",
        "        labels[index] = 1 - is_duplicate  # 0 -> 1, 1 -> 0\n",
        "        inputs_1[index] = token_ids_1\n",
        "        inputs_2[index] = token_ids_2\n",
        "        index += 1\n",
        "    return inputs_1, inputs_2, labels"
      ],
      "execution_count": null,
      "outputs": []
    },
    {
      "cell_type": "code",
      "metadata": {
        "id": "f5cu4GTFq3aF"
      },
      "source": [
        "# train data 생성\n",
        "train_inputs_1, train_inputs_2, train_labels = load_data(df_train, n_seq_1, n_seq_2)\n",
        "train_inputs_1, train_inputs_2, train_labels"
      ],
      "execution_count": null,
      "outputs": []
    },
    {
      "cell_type": "code",
      "metadata": {
        "id": "wAc54dMJq3aF"
      },
      "source": [
        "# test data 생성\n",
        "test_inputs_1, test_inputs_2, test_labels = load_data(df_test, n_seq_1, n_seq_2)\n",
        "test_inputs_1, test_inputs_2, test_labels"
      ],
      "execution_count": null,
      "outputs": []
    },
    {
      "cell_type": "markdown",
      "metadata": {
        "id": "wMPwmL79q3aG"
      },
      "source": [
        "## 학습"
      ]
    },
    {
      "cell_type": "code",
      "metadata": {
        "id": "dFNqEE0Bq3aG"
      },
      "source": [
        "# 모델 생성\n",
        "model = build_model(len(vocab), d_model, n_seq_1, n_seq_2)\n",
        "# 모델 내용 그래프 출력\n",
        "tf.keras.utils.plot_model(model, 'model.png', show_shapes=True)"
      ],
      "execution_count": null,
      "outputs": []
    },
    {
      "cell_type": "code",
      "metadata": {
        "id": "jQIP_O8Dq3aG"
      },
      "source": [
        "# 모델 loss, optimizer, metric 정의\n",
        "model.compile(loss='mean_squared_error', optimizer='adam', metrics=['binary_accuracy'])"
      ],
      "execution_count": null,
      "outputs": []
    },
    {
      "cell_type": "code",
      "metadata": {
        "id": "P8Kb7jHvq3aG"
      },
      "source": [
        "# early stopping\n",
        "early_stopping = tf.keras.callbacks.EarlyStopping(monitor='val_binary_accuracy', patience=5)\n",
        "# save weights callback\n",
        "save_weights = tf.keras.callbacks.ModelCheckpoint(os.path.join(quora_dir, 'stub.hdf5'),\n",
        "                                                  monitor='val_binary_accuracy',\n",
        "                                                  verbose=1,\n",
        "                                                  save_best_only=True,\n",
        "                                                  mode=\"max\",\n",
        "                                                  save_freq=\"epoch\",\n",
        "                                                  save_weights_only=True)\n",
        "# csv logger\n",
        "csv_logger = tf.keras.callbacks.CSVLogger(os.path.join(quora_dir, 'stub.csv'))"
      ],
      "execution_count": null,
      "outputs": []
    },
    {
      "cell_type": "code",
      "metadata": {
        "id": "DU7VaxEcq3aG"
      },
      "source": [
        "# 모델 학습\n",
        "history = model.fit((train_inputs_1, train_inputs_2),\n",
        "                    train_labels,\n",
        "                    validation_data=((test_inputs_1, test_inputs_2), test_labels),\n",
        "                    epochs=100,\n",
        "                    batch_size=256,\n",
        "                    callbacks=[early_stopping, save_weights, csv_logger])"
      ],
      "execution_count": null,
      "outputs": []
    },
    {
      "cell_type": "code",
      "metadata": {
        "colab": {
          "base_uri": "https://localhost:8080/",
          "height": 279
        },
        "id": "6jigtzHxq3aG",
        "outputId": "aac98c37-488b-4fd6-e662-ac9b93ffbd39"
      },
      "source": [
        "plt.figure(figsize=(12, 4))\n",
        "\n",
        "plt.subplot(1, 2, 1)\n",
        "plt.plot(history.history['loss'], 'b-', label='loss')\n",
        "plt.plot(history.history['val_loss'], 'r--', label='val_loss')\n",
        "plt.xlabel('Epoch')\n",
        "plt.legend()\n",
        "\n",
        "plt.subplot(1, 2, 2)\n",
        "plt.plot(history.history['binary_accuracy'], 'g-', label='acc')\n",
        "plt.plot(history.history['val_binary_accuracy'], 'k--', label='val_acc')\n",
        "plt.xlabel('Epoch')\n",
        "plt.legend()\n",
        "\n",
        "plt.show()"
      ],
      "execution_count": null,
      "outputs": [
        {
          "output_type": "display_data",
          "data": {
            "image/png": "[encoded data removed]",
            "text/plain": [
              "<Figure size 864x288 with 2 Axes>"
            ]
          },
          "metadata": {
            "tags": [],
            "needs_background": "light"
          }
        }
      ]
    },
    {
      "cell_type": "markdown",
      "metadata": {
        "id": "jTN2yeNEq3aI"
      },
      "source": [
        "## Inference"
      ]
    },
    {
      "cell_type": "code",
      "metadata": {
        "id": "iSWxgN2iq3aI"
      },
      "source": [
        "# 모델 생성\n",
        "model = build_model(len(vocab), d_model, n_seq_1, n_seq_2)\n",
        "# train weight로 초기화\n",
        "model.load_weights(os.path.join(quora_dir, 'stub.hdf5'))"
      ],
      "execution_count": null,
      "outputs": []
    },
    {
      "cell_type": "code",
      "metadata": {
        "id": "i0nmHeRbq3aI"
      },
      "source": [
        "# 예측\n",
        "logits = model.predict((test_inputs_1, test_inputs_2))\n",
        "logits"
      ],
      "execution_count": null,
      "outputs": []
    },
    {
      "cell_type": "code",
      "metadata": {
        "id": "K8CprZvVq3aI"
      },
      "source": [
        "# 0.5를 기준으로 (0, 1) 결정\n",
        "test_preds = (0.5 < logits).astype(np.int)\n",
        "test_preds"
      ],
      "execution_count": null,
      "outputs": []
    },
    {
      "cell_type": "code",
      "metadata": {
        "id": "Nr6i_0noq3aJ"
      },
      "source": [
        "# confusion matrix 계산\n",
        "confusion_matrix = np.zeros((2, 2)).astype(np.int)\n",
        "for y_true, y_pred in zip(test_labels, test_preds):\n",
        "    confusion_matrix[int(y_true), int(y_pred)] += 1\n",
        "confusion_matrix"
      ],
      "execution_count": null,
      "outputs": []
    },
    {
      "cell_type": "code",
      "metadata": {
        "id": "dRx3o1frq3aJ"
      },
      "source": [
        "# score 계산\n",
        "tp = confusion_matrix[1, 1]\n",
        "tn = confusion_matrix[0, 0]\n",
        "fp = confusion_matrix[0, 1]\n",
        "fn = confusion_matrix[1, 0]\n",
        "\n",
        "accuracy = (tp + tn) / max(tp + tn + fp + fn, 1)\n",
        "print(f'accuracy: {accuracy}')\n",
        "precision = (tp) / max(tp + fp, 1)\n",
        "print(f'precision: {precision}')\n",
        "recall = (tp) / max(tp + fn, 1)\n",
        "print(f'recall: {recall}')\n",
        "f1 = 2 * (precision * recall) / max(precision + recall, 1)\n",
        "print(f'f1: {f1}')"
      ],
      "execution_count": null,
      "outputs": []
    },
    {
      "cell_type": "code",
      "metadata": {
        "id": "dTLqY8UUq3aJ"
      },
      "source": [
        "def do_predict(model, n_seq_1, string1, n_seq_2, string2):\n",
        "    \"\"\"\n",
        "    입력에 대한 답변 생성하는 함수\n",
        "    :param model: model\n",
        "    :param n_seq_1: 입력 개수 1\n",
        "    :param string1: 입력 문자열 1\n",
        "    :param n_seq_1: 입력 개수 3\n",
        "    :param string2: 입력 문자열 2\n",
        "    \"\"\"\n",
        "    # token 생성: <string 1 tokens>, [PAD] tokens\n",
        "    token1 = vocab.encode_as_ids(string1)[:n_seq_1]\n",
        "    token1 += [0] * (n_seq_1 - len(token1))\n",
        "\n",
        "    # token 생성: <string 2 tokens>, [PAD] tokens\n",
        "    token2 = vocab.encode_as_ids(string2)[:n_seq_2]\n",
        "    token2 += [0] * (n_seq_2 - len(token2))\n",
        "\n",
        "    y_pred = model.predict((np.array([token1]), np.array([token2])))\n",
        "\n",
        "    return \"같음\" if y_pred[0] > 0.5 else \"다름\""
      ],
      "execution_count": null,
      "outputs": []
    },
    {
      "cell_type": "code",
      "metadata": {
        "id": "jOLOr1Ygq3aJ"
      },
      "source": [
        "while True:\n",
        "    print(\"string #1 > \", end=\"\")\n",
        "    string1 = str(input())\n",
        "    if len(string1) == 0:\n",
        "        break\n",
        "    print(\"string #2 > \", end=\"\")\n",
        "    string2 = str(input())\n",
        "    if len(string2) == 0:\n",
        "        break\n",
        "    print(f\"output > {do_predict(model, n_seq_1, string1, n_seq_2, string2)}\")"
      ],
      "execution_count": null,
      "outputs": []
    },
    {
      "cell_type": "code",
      "metadata": {
        "id": "F1YfFKUrsVp8"
      },
      "source": [
        ""
      ],
      "execution_count": null,
      "outputs": []
    }
  ]
}
