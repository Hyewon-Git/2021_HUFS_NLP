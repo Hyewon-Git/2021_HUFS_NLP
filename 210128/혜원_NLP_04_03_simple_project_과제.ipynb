{
  "nbformat": 4,
  "nbformat_minor": 0,
  "metadata": {
    "colab": {
      "name": "혜원-NLP-04-03-simple-project-과제.ipynb",
      "provenance": [],
      "collapsed_sections": [
        "wS_edoagzneJ",
        "-0Mbb5GWzneK",
        "3uPb-tIEZhbd",
        "5QAm2W2eZhbe",
        "GIGGW1zCZhbf"
      ],
      "include_colab_link": true
    },
    "kernelspec": {
      "name": "python3",
      "display_name": "Python 3"
    }
  },
  "cells": [
    {
      "cell_type": "markdown",
      "metadata": {
        "id": "view-in-github",
        "colab_type": "text"
      },
      "source": [
        "<a href=\"https://colab.research.google.com/github/Hyewon-Git/2021_HUFS_NLP/blob/main/%ED%98%9C%EC%9B%90_NLP_04_03_simple_project_%EA%B3%BC%EC%A0%9C.ipynb\" target=\"_parent\"><img src=\"https://colab.research.google.com/assets/colab-badge.svg\" alt=\"Open In Colab\"/></a>"
      ]
    },
    {
      "cell_type": "markdown",
      "metadata": {
        "id": "BuaFwJqDVumT"
      },
      "source": [
        "# EVN"
      ]
    },
    {
      "cell_type": "code",
      "metadata": {
        "id": "ODiNPGQ9VwLK"
      },
      "source": [
        "import numpy as np\n",
        "import matplotlib.pyplot as plt\n",
        "\n",
        "import tensorflow as tf"
      ],
      "execution_count": null,
      "outputs": []
    },
    {
      "cell_type": "markdown",
      "metadata": {
        "id": "sFo_3tAlzneI"
      },
      "source": [
        "# 단어 긍정(2), 중립(1), 부정(0) 분류 프로젝트"
      ]
    },
    {
      "cell_type": "markdown",
      "metadata": {
        "id": "erIr-mg8zneJ"
      },
      "source": [
        "## 데이터"
      ]
    },
    {
      "cell_type": "code",
      "metadata": {
        "id": "KQqU4MBIzneJ"
      },
      "source": [
        "# 입력 문장\n",
        "sentences = [\n",
        "    '나는 오늘 기분이 좋아',\n",
        "    '나는 오늘 우울해'\n",
        "]\n",
        "\n",
        "# 출력 정답\n",
        "labels = [[1, 1, 1, 2],\n",
        "          [1, 1, 0]]  # 긍정(2), 중립(1), 부정(0)\n",
        "\n",
        "# 정답 dic\n",
        "id_to_label = {0: '부정', 1: '중립', 2: '긍정'}"
      ],
      "execution_count": null,
      "outputs": []
    },
    {
      "cell_type": "markdown",
      "metadata": {
        "id": "wS_edoagzneJ"
      },
      "source": [
        "## Vocabulary"
      ]
    },
    {
      "cell_type": "code",
      "metadata": {
        "colab": {
          "base_uri": "https://localhost:8080/"
        },
        "id": "BJA0tV61UMWv",
        "outputId": "c38f19b9-9248-4e89-935d-1951efbe13fa"
      },
      "source": [
        "# 각 문장을 띄어쓰기 단위로 분할\n",
        "words = []\n",
        "for sentence in sentences:\n",
        "    words.extend(sentence.split())\n",
        "words"
      ],
      "execution_count": null,
      "outputs": [
        {
          "output_type": "execute_result",
          "data": {
            "text/plain": [
              "['나는', '오늘', '기분이', '좋아', '나는', '오늘', '우울해']"
            ]
          },
          "metadata": {
            "tags": []
          },
          "execution_count": 3
        }
      ]
    },
    {
      "cell_type": "code",
      "metadata": {
        "colab": {
          "base_uri": "https://localhost:8080/"
        },
        "id": "jrpIT_63UNu5",
        "outputId": "55c34cda-321b-4946-8515-1e1043e3e5e9"
      },
      "source": [
        "# 중복 단어 제거\n",
        "words = list(dict.fromkeys(words))\n",
        "words"
      ],
      "execution_count": null,
      "outputs": [
        {
          "output_type": "execute_result",
          "data": {
            "text/plain": [
              "['나는', '오늘', '기분이', '좋아', '우울해']"
            ]
          },
          "metadata": {
            "tags": []
          },
          "execution_count": 4
        }
      ]
    },
    {
      "cell_type": "code",
      "metadata": {
        "colab": {
          "base_uri": "https://localhost:8080/"
        },
        "id": "RoT8iffUzneJ",
        "outputId": "43012af9-998d-4010-8aa4-2d8f039d59f0"
      },
      "source": [
        "# 각 단어별 고유한 번호 부여\n",
        "word_to_id = {'[PAD]': 0, '[UNK]': 1}\n",
        "for word in words:\n",
        "    word_to_id[word] = len(word_to_id)\n",
        "word_to_id"
      ],
      "execution_count": null,
      "outputs": [
        {
          "output_type": "execute_result",
          "data": {
            "text/plain": [
              "{'[PAD]': 0, '[UNK]': 1, '기분이': 4, '나는': 2, '오늘': 3, '우울해': 6, '좋아': 5}"
            ]
          },
          "metadata": {
            "tags": []
          },
          "execution_count": 5
        }
      ]
    },
    {
      "cell_type": "code",
      "metadata": {
        "colab": {
          "base_uri": "https://localhost:8080/"
        },
        "id": "_qeklV9-UTzH",
        "outputId": "82083e3c-4501-4e34-cecb-3d56d4e45814"
      },
      "source": [
        "# 각 숫자별 단어 부여\n",
        "id_to_word = {_id:word for word, _id in word_to_id.items()}\n",
        "id_to_word"
      ],
      "execution_count": null,
      "outputs": [
        {
          "output_type": "execute_result",
          "data": {
            "text/plain": [
              "{0: '[PAD]', 1: '[UNK]', 2: '나는', 3: '오늘', 4: '기분이', 5: '좋아', 6: '우울해'}"
            ]
          },
          "metadata": {
            "tags": []
          },
          "execution_count": 6
        }
      ]
    },
    {
      "cell_type": "markdown",
      "metadata": {
        "id": "-0Mbb5GWzneK"
      },
      "source": [
        "## 모델 학습용 데이터 생성"
      ]
    },
    {
      "cell_type": "code",
      "metadata": {
        "colab": {
          "base_uri": "https://localhost:8080/"
        },
        "id": "TDA86OBnUZIw",
        "outputId": "36977d31-052b-4e8f-cd71-c982ba812674"
      },
      "source": [
        "# 학습용 입력 데이터 생성\n",
        "train_inputs = []\n",
        "for sentence in sentences:\n",
        "    train_inputs.append([word_to_id[word] for word in sentence.split()])\n",
        "train_inputs"
      ],
      "execution_count": null,
      "outputs": [
        {
          "output_type": "execute_result",
          "data": {
            "text/plain": [
              "[[2, 3, 4, 5], [2, 3, 6]]"
            ]
          },
          "metadata": {
            "tags": []
          },
          "execution_count": 7
        }
      ]
    },
    {
      "cell_type": "code",
      "metadata": {
        "colab": {
          "base_uri": "https://localhost:8080/"
        },
        "id": "J-Wq04vBVWnq",
        "outputId": "03e25761-d94a-4606-8f65-4d09f0a55b41"
      },
      "source": [
        "# train label은 labels를 그래도 사용\n",
        "train_labels = labels\n",
        "train_labels"
      ],
      "execution_count": null,
      "outputs": [
        {
          "output_type": "execute_result",
          "data": {
            "text/plain": [
              "[[1, 1, 1, 2], [1, 1, 0]]"
            ]
          },
          "metadata": {
            "tags": []
          },
          "execution_count": 8
        }
      ]
    },
    {
      "cell_type": "code",
      "metadata": {
        "colab": {
          "base_uri": "https://localhost:8080/"
        },
        "id": "tilT_K-8UfXh",
        "outputId": "e2e4317e-39aa-4f38-e845-09ed6459f5d3"
      },
      "source": [
        "# train inputs을 numpy array로 변환\n",
        "np.array(train_inputs)"
      ],
      "execution_count": null,
      "outputs": [
        {
          "output_type": "stream",
          "text": [
            "/usr/local/lib/python3.6/dist-packages/ipykernel_launcher.py:2: VisibleDeprecationWarning: Creating an ndarray from ragged nested sequences (which is a list-or-tuple of lists-or-tuples-or ndarrays with different lengths or shapes) is deprecated. If you meant to do this, you must specify 'dtype=object' when creating the ndarray\n",
            "  \n"
          ],
          "name": "stderr"
        },
        {
          "output_type": "execute_result",
          "data": {
            "text/plain": [
              "array([list([2, 3, 4, 5]), list([2, 3, 6])], dtype=object)"
            ]
          },
          "metadata": {
            "tags": []
          },
          "execution_count": 9
        }
      ]
    },
    {
      "cell_type": "code",
      "metadata": {
        "colab": {
          "base_uri": "https://localhost:8080/"
        },
        "id": "xG1Y1uN9Vb7P",
        "outputId": "fe198235-2f12-4ff8-b199-d80c236906fc"
      },
      "source": [
        "# train labels을 numpy array로 변환\n",
        "np.array(train_labels)"
      ],
      "execution_count": null,
      "outputs": [
        {
          "output_type": "stream",
          "text": [
            "/usr/local/lib/python3.6/dist-packages/ipykernel_launcher.py:2: VisibleDeprecationWarning: Creating an ndarray from ragged nested sequences (which is a list-or-tuple of lists-or-tuples-or ndarrays with different lengths or shapes) is deprecated. If you meant to do this, you must specify 'dtype=object' when creating the ndarray\n",
            "  \n"
          ],
          "name": "stderr"
        },
        {
          "output_type": "execute_result",
          "data": {
            "text/plain": [
              "array([list([1, 1, 1, 2]), list([1, 1, 0])], dtype=object)"
            ]
          },
          "metadata": {
            "tags": []
          },
          "execution_count": 10
        }
      ]
    },
    {
      "cell_type": "code",
      "metadata": {
        "colab": {
          "base_uri": "https://localhost:8080/"
        },
        "id": "ThQywmw3Uwjx",
        "outputId": "44253349-1bb5-43ab-94be-c2fb4e4c86da"
      },
      "source": [
        "# 문장의 길이를 모두 동일하게 변경 (최대길이 4)\n",
        "for row in train_inputs:\n",
        "    row += [0] * (4 - len(row))\n",
        "train_inputs"
      ],
      "execution_count": null,
      "outputs": [
        {
          "output_type": "execute_result",
          "data": {
            "text/plain": [
              "[[2, 3, 4, 5], [2, 3, 6, 0]]"
            ]
          },
          "metadata": {
            "tags": []
          },
          "execution_count": 11
        }
      ]
    },
    {
      "cell_type": "code",
      "metadata": {
        "colab": {
          "base_uri": "https://localhost:8080/"
        },
        "id": "foPgXxYpU5A7",
        "outputId": "fa8b6dd6-6182-44b4-f511-62dfaf93bc2c"
      },
      "source": [
        "# train inputs을 numpy array로 변환\n",
        "train_inputs = np.array(train_inputs)\n",
        "train_inputs"
      ],
      "execution_count": null,
      "outputs": [
        {
          "output_type": "execute_result",
          "data": {
            "text/plain": [
              "array([[2, 3, 4, 5],\n",
              "       [2, 3, 6, 0]])"
            ]
          },
          "metadata": {
            "tags": []
          },
          "execution_count": 12
        }
      ]
    },
    {
      "cell_type": "code",
      "metadata": {
        "colab": {
          "base_uri": "https://localhost:8080/"
        },
        "id": "p1gl_act7dyT",
        "outputId": "2fbb211e-093f-4add-9567-aeb0cf4c5cda"
      },
      "source": [
        "# 정답 길이를 모두 동일하게 변경 (최대길이 4)\n",
        "for row in train_labels:\n",
        "    row += [1] * (4 - len(row))\n",
        "train_labels"
      ],
      "execution_count": null,
      "outputs": [
        {
          "output_type": "execute_result",
          "data": {
            "text/plain": [
              "[[1, 1, 1, 2], [1, 1, 0, 1]]"
            ]
          },
          "metadata": {
            "tags": []
          },
          "execution_count": 13
        }
      ]
    },
    {
      "cell_type": "code",
      "metadata": {
        "colab": {
          "base_uri": "https://localhost:8080/"
        },
        "id": "lXylNhS-70gv",
        "outputId": "b876f670-a220-4f8d-8794-08aaa767e0ba"
      },
      "source": [
        "# 학습용 정답을 numpy array로 변환\n",
        "train_labels = np.array(train_labels)\n",
        "train_labels"
      ],
      "execution_count": null,
      "outputs": [
        {
          "output_type": "execute_result",
          "data": {
            "text/plain": [
              "array([[1, 1, 1, 2],\n",
              "       [1, 1, 0, 1]])"
            ]
          },
          "metadata": {
            "tags": []
          },
          "execution_count": 14
        }
      ]
    },
    {
      "cell_type": "markdown",
      "metadata": {
        "id": "milX02G6zneK"
      },
      "source": [
        "## 모델링"
      ]
    },
    {
      "cell_type": "code",
      "metadata": {
        "colab": {
          "base_uri": "https://localhost:8080/"
        },
        "id": "Ph7rB5G_V-CG",
        "outputId": "2f52a731-0427-4e27-8866-dc1a59de15d0"
      },
      "source": [
        "# 입력 단어를 vector로 변환\n",
        "embedding = tf.keras.layers.Embedding(len(word_to_id), 8)\n",
        "hidden = embedding(train_inputs)\n",
        "hidden"
      ],
      "execution_count": null,
      "outputs": [
        {
          "output_type": "execute_result",
          "data": {
            "text/plain": [
              "<tf.Tensor: shape=(2, 4, 8), dtype=float32, numpy=\n",
              "array([[[-0.02204954,  0.0319641 ,  0.01205399, -0.02714337,\n",
              "         -0.04795093,  0.02318689,  0.00316421,  0.02946574],\n",
              "        [ 0.01165426, -0.03243496, -0.04182986, -0.04827477,\n",
              "         -0.04807649, -0.03641516, -0.00685502,  0.03529597],\n",
              "        [-0.03390983,  0.02727003, -0.04929489, -0.01413209,\n",
              "         -0.0088865 , -0.04711909, -0.03588102, -0.02352638],\n",
              "        [-0.03586696, -0.0059287 ,  0.02542773, -0.04695665,\n",
              "         -0.00573063, -0.02995664, -0.04832691, -0.01147865]],\n",
              "\n",
              "       [[-0.02204954,  0.0319641 ,  0.01205399, -0.02714337,\n",
              "         -0.04795093,  0.02318689,  0.00316421,  0.02946574],\n",
              "        [ 0.01165426, -0.03243496, -0.04182986, -0.04827477,\n",
              "         -0.04807649, -0.03641516, -0.00685502,  0.03529597],\n",
              "        [-0.01168207, -0.00348364, -0.03144586, -0.02669088,\n",
              "         -0.02157706,  0.0213106 , -0.01289503, -0.0437433 ],\n",
              "        [ 0.01540473,  0.04673977, -0.03717171,  0.01677645,\n",
              "          0.01853038, -0.0101089 ,  0.0279194 , -0.03042169]]],\n",
              "      dtype=float32)>"
            ]
          },
          "metadata": {
            "tags": []
          },
          "execution_count": 15
        }
      ]
    },
    {
      "cell_type": "code",
      "metadata": {
        "colab": {
          "base_uri": "https://localhost:8080/"
        },
        "id": "RQBpJJRO2EWX",
        "outputId": "329e2b64-e8f1-49ca-dc90-73e740e47321"
      },
      "source": [
        "# embedding weight\n",
        "weight = embedding.get_weights()[0]\n",
        "weight"
      ],
      "execution_count": null,
      "outputs": [
        {
          "output_type": "execute_result",
          "data": {
            "text/plain": [
              "array([[ 0.01540473,  0.04673977, -0.03717171,  0.01677645,  0.01853038,\n",
              "        -0.0101089 ,  0.0279194 , -0.03042169],\n",
              "       [ 0.00396531, -0.04159187, -0.01658133, -0.02670224,  0.01160495,\n",
              "        -0.01954918,  0.04711502, -0.03986689],\n",
              "       [-0.02204954,  0.0319641 ,  0.01205399, -0.02714337, -0.04795093,\n",
              "         0.02318689,  0.00316421,  0.02946574],\n",
              "       [ 0.01165426, -0.03243496, -0.04182986, -0.04827477, -0.04807649,\n",
              "        -0.03641516, -0.00685502,  0.03529597],\n",
              "       [-0.03390983,  0.02727003, -0.04929489, -0.01413209, -0.0088865 ,\n",
              "        -0.04711909, -0.03588102, -0.02352638],\n",
              "       [-0.03586696, -0.0059287 ,  0.02542773, -0.04695665, -0.00573063,\n",
              "        -0.02995664, -0.04832691, -0.01147865],\n",
              "       [-0.01168207, -0.00348364, -0.03144586, -0.02669088, -0.02157706,\n",
              "         0.0213106 , -0.01289503, -0.0437433 ]], dtype=float32)"
            ]
          },
          "metadata": {
            "tags": []
          },
          "execution_count": 16
        }
      ]
    },
    {
      "cell_type": "code",
      "metadata": {
        "colab": {
          "base_uri": "https://localhost:8080/"
        },
        "id": "WM3fkoqs2TCt",
        "outputId": "1d09ffab-b5a8-4646-d22c-5a6e182de664"
      },
      "source": [
        "# numpy를 이용해서 직접 조회 (두 결과값 비교)\n",
        "weight[train_inputs], hidden"
      ],
      "execution_count": null,
      "outputs": [
        {
          "output_type": "execute_result",
          "data": {
            "text/plain": [
              "(array([[[-0.02204954,  0.0319641 ,  0.01205399, -0.02714337,\n",
              "          -0.04795093,  0.02318689,  0.00316421,  0.02946574],\n",
              "         [ 0.01165426, -0.03243496, -0.04182986, -0.04827477,\n",
              "          -0.04807649, -0.03641516, -0.00685502,  0.03529597],\n",
              "         [-0.03390983,  0.02727003, -0.04929489, -0.01413209,\n",
              "          -0.0088865 , -0.04711909, -0.03588102, -0.02352638],\n",
              "         [-0.03586696, -0.0059287 ,  0.02542773, -0.04695665,\n",
              "          -0.00573063, -0.02995664, -0.04832691, -0.01147865]],\n",
              " \n",
              "        [[-0.02204954,  0.0319641 ,  0.01205399, -0.02714337,\n",
              "          -0.04795093,  0.02318689,  0.00316421,  0.02946574],\n",
              "         [ 0.01165426, -0.03243496, -0.04182986, -0.04827477,\n",
              "          -0.04807649, -0.03641516, -0.00685502,  0.03529597],\n",
              "         [-0.01168207, -0.00348364, -0.03144586, -0.02669088,\n",
              "          -0.02157706,  0.0213106 , -0.01289503, -0.0437433 ],\n",
              "         [ 0.01540473,  0.04673977, -0.03717171,  0.01677645,\n",
              "           0.01853038, -0.0101089 ,  0.0279194 , -0.03042169]]],\n",
              "       dtype=float32), <tf.Tensor: shape=(2, 4, 8), dtype=float32, numpy=\n",
              " array([[[-0.02204954,  0.0319641 ,  0.01205399, -0.02714337,\n",
              "          -0.04795093,  0.02318689,  0.00316421,  0.02946574],\n",
              "         [ 0.01165426, -0.03243496, -0.04182986, -0.04827477,\n",
              "          -0.04807649, -0.03641516, -0.00685502,  0.03529597],\n",
              "         [-0.03390983,  0.02727003, -0.04929489, -0.01413209,\n",
              "          -0.0088865 , -0.04711909, -0.03588102, -0.02352638],\n",
              "         [-0.03586696, -0.0059287 ,  0.02542773, -0.04695665,\n",
              "          -0.00573063, -0.02995664, -0.04832691, -0.01147865]],\n",
              " \n",
              "        [[-0.02204954,  0.0319641 ,  0.01205399, -0.02714337,\n",
              "          -0.04795093,  0.02318689,  0.00316421,  0.02946574],\n",
              "         [ 0.01165426, -0.03243496, -0.04182986, -0.04827477,\n",
              "          -0.04807649, -0.03641516, -0.00685502,  0.03529597],\n",
              "         [-0.01168207, -0.00348364, -0.03144586, -0.02669088,\n",
              "          -0.02157706,  0.0213106 , -0.01289503, -0.0437433 ],\n",
              "         [ 0.01540473,  0.04673977, -0.03717171,  0.01677645,\n",
              "           0.01853038, -0.0101089 ,  0.0279194 , -0.03042169]]],\n",
              "       dtype=float32)>)"
            ]
          },
          "metadata": {
            "tags": []
          },
          "execution_count": 17
        }
      ]
    },
    {
      "cell_type": "code",
      "metadata": {
        "colab": {
          "base_uri": "https://localhost:8080/"
        },
        "id": "mvFLx9nAWV4a",
        "outputId": "9796c277-044f-4dd1-a967-a4caadb08b49"
      },
      "source": [
        "# 단어의 vector를 이용해서 긍정(2), 부정(0), 중립(1) 확률값 예측\n",
        "linear = tf.keras.layers.Dense(3, activation=tf.nn.softmax)\n",
        "outputs = linear(hidden)\n",
        "outputs"
      ],
      "execution_count": null,
      "outputs": [
        {
          "output_type": "execute_result",
          "data": {
            "text/plain": [
              "<tf.Tensor: shape=(2, 4, 3), dtype=float32, numpy=\n",
              "array([[[0.3316341 , 0.33513662, 0.33322927],\n",
              "        [0.3404182 , 0.33304864, 0.32653323],\n",
              "        [0.3252457 , 0.34603664, 0.3287176 ],\n",
              "        [0.32853886, 0.3380911 , 0.33336997]],\n",
              "\n",
              "       [[0.3316341 , 0.33513662, 0.33322927],\n",
              "        [0.3404182 , 0.33304864, 0.32653323],\n",
              "        [0.31686088, 0.33731577, 0.34582335],\n",
              "        [0.3318159 , 0.34384567, 0.32433844]]], dtype=float32)>"
            ]
          },
          "metadata": {
            "tags": []
          },
          "execution_count": 18
        }
      ]
    },
    {
      "cell_type": "code",
      "metadata": {
        "colab": {
          "base_uri": "https://localhost:8080/"
        },
        "id": "WDmhXrH02hy_",
        "outputId": "a354677d-1c07-48e4-8ec6-55ff5cbd5b15"
      },
      "source": [
        "# dense의 wieght, bias\n",
        "weight, bias = linear.get_weights()\n",
        "weight, bias"
      ],
      "execution_count": null,
      "outputs": [
        {
          "output_type": "execute_result",
          "data": {
            "text/plain": [
              "(array([[ 0.26533455, -0.58779037, -0.67306197],\n",
              "        [ 0.1790117 ,  0.48936957, -0.36784995],\n",
              "        [-0.10686666, -0.6732937 , -0.47718406],\n",
              "        [ 0.5039814 , -0.03443497,  0.54704195],\n",
              "        [-0.39555076, -0.00098342, -0.49922377],\n",
              "        [-0.5278557 , -0.16621906,  0.60133034],\n",
              "        [ 0.10520089,  0.18828642, -0.17180371],\n",
              "        [ 0.52179724, -0.01239276, -0.26071194]], dtype=float32),\n",
              " array([0., 0., 0.], dtype=float32))"
            ]
          },
          "metadata": {
            "tags": []
          },
          "execution_count": 19
        }
      ]
    },
    {
      "cell_type": "code",
      "metadata": {
        "colab": {
          "base_uri": "https://localhost:8080/"
        },
        "id": "FuxfnYul2wdY",
        "outputId": "002e5098-657f-4926-ea0b-db486dcba199"
      },
      "source": [
        "# numpy를 이용한 xW + b\n",
        "logits = np.matmul(hidden, weight) + bias\n",
        "logits"
      ],
      "execution_count": null,
      "outputs": [
        {
          "output_type": "execute_result",
          "data": {
            "text/plain": [
              "array([[[ 0.00733924,  0.01784524,  0.01213771],\n",
              "        [ 0.0333615 ,  0.01147523, -0.00828159],\n",
              "        [ 0.0063663 ,  0.06833004,  0.01698434],\n",
              "        [-0.02995473, -0.00129449, -0.01535701]],\n",
              "\n",
              "       [[ 0.00733924,  0.01784524,  0.01213771],\n",
              "        [ 0.0333615 ,  0.01147523, -0.00828159],\n",
              "        [-0.04071026,  0.02184635,  0.04675496],\n",
              "        [ 0.00995134,  0.04556397, -0.01284135]]], dtype=float32)"
            ]
          },
          "metadata": {
            "tags": []
          },
          "execution_count": 20
        }
      ]
    },
    {
      "cell_type": "code",
      "metadata": {
        "colab": {
          "base_uri": "https://localhost:8080/"
        },
        "id": "QUoP7xkV3Bmh",
        "outputId": "6cde7412-4ff4-48bc-889c-5fc3e2791159"
      },
      "source": [
        "# softmax 계산을 위한 준비 exp(x') / sum(exp(x))\n",
        "numerator = np.exp(logits)\n",
        "denominator = np.sum(numerator, axis=2, keepdims=True)\n",
        "numerator, denominator"
      ],
      "execution_count": null,
      "outputs": [
        {
          "output_type": "execute_result",
          "data": {
            "text/plain": [
              "(array([[[1.0073662 , 1.0180054 , 1.0122117 ],\n",
              "         [1.0339242 , 1.0115412 , 0.99175256],\n",
              "         [1.0063865 , 1.0707185 , 1.0171293 ],\n",
              "         [0.97048944, 0.9987064 , 0.9847602 ]],\n",
              " \n",
              "        [[1.0073662 , 1.0180054 , 1.0122117 ],\n",
              "         [1.0339242 , 1.0115412 , 0.99175256],\n",
              "         [0.9601072 , 1.0220867 , 1.0478652 ],\n",
              "         [1.010001  , 1.046618  , 0.98724073]]], dtype=float32),\n",
              " array([[[3.0375834],\n",
              "         [3.037218 ],\n",
              "         [3.0942345],\n",
              "         [2.9539561]],\n",
              " \n",
              "        [[3.0375834],\n",
              "         [3.037218 ],\n",
              "         [3.030059 ],\n",
              "         [3.0438597]]], dtype=float32))"
            ]
          },
          "metadata": {
            "tags": []
          },
          "execution_count": 21
        }
      ]
    },
    {
      "cell_type": "code",
      "metadata": {
        "colab": {
          "base_uri": "https://localhost:8080/"
        },
        "id": "tbUvx0FT3tJW",
        "outputId": "41d481db-07e8-45c3-d58f-c57b0ae6b3e8"
      },
      "source": [
        "# 두 결과값 비교\n",
        "probs = numerator / denominator\n",
        "probs, outputs"
      ],
      "execution_count": null,
      "outputs": [
        {
          "output_type": "execute_result",
          "data": {
            "text/plain": [
              "(array([[[0.33163407, 0.3351366 , 0.33322927],\n",
              "         [0.34041816, 0.3330486 , 0.3265332 ],\n",
              "         [0.3252457 , 0.34603664, 0.3287176 ],\n",
              "         [0.3285389 , 0.33809114, 0.33336997]],\n",
              " \n",
              "        [[0.33163407, 0.3351366 , 0.33322927],\n",
              "         [0.34041816, 0.3330486 , 0.3265332 ],\n",
              "         [0.31686088, 0.33731577, 0.34582335],\n",
              "         [0.33181587, 0.34384567, 0.32433844]]], dtype=float32),\n",
              " <tf.Tensor: shape=(2, 4, 3), dtype=float32, numpy=\n",
              " array([[[0.3316341 , 0.33513662, 0.33322927],\n",
              "         [0.3404182 , 0.33304864, 0.32653323],\n",
              "         [0.3252457 , 0.34603664, 0.3287176 ],\n",
              "         [0.32853886, 0.3380911 , 0.33336997]],\n",
              " \n",
              "        [[0.3316341 , 0.33513662, 0.33322927],\n",
              "         [0.3404182 , 0.33304864, 0.32653323],\n",
              "         [0.31686088, 0.33731577, 0.34582335],\n",
              "         [0.3318159 , 0.34384567, 0.32433844]]], dtype=float32)>)"
            ]
          },
          "metadata": {
            "tags": []
          },
          "execution_count": 22
        }
      ]
    },
    {
      "cell_type": "code",
      "metadata": {
        "id": "jF_ezLfIzneK"
      },
      "source": [
        "def build_model(n_vocab, d_model, n_seq, n_out):\n",
        "    \"\"\"\n",
        "    동작만 하는 간단한 모델\n",
        "    :param n_vocab: vocabulary 단어 수\n",
        "    :param d_model: 단어를 의미하는 벡터의 차원 수\n",
        "    :param n_seq: 문장길이 (단어 수)\n",
        "    :param n_out: 예측할 class 개수\n",
        "    \"\"\"\n",
        "    inputs = tf.keras.layers.Input((n_seq,))  # (bs, n_seq)\n",
        "    # 입력 단어를 vector로 변환\n",
        "    embedding = tf.keras.layers.Embedding(n_vocab, d_model)\n",
        "    hidden = embedding(inputs)  # (bs, n_seq, d_model)\n",
        "    #######################################\n",
        "    # 여기에 CNN 및 RNN 모델을 추가해 보세요.\n",
        "    #CNN\n",
        "    conv_1 = tf.keras.layers.Conv1D(filters=128, kernel_size=3, padding='causal')\n",
        "    hidden=conv_1(hidden)\n",
        "\n",
        "    #RNN\n",
        "    rnn_1 = tf.keras.layers.Bidirectional(tf.keras.layers.SimpleRNN(units=128, return_sequences=True))\n",
        "    hidden = rnn_1(hidden)\n",
        "    rnn_2 = tf.keras.layers.SimpleRNN(units=256, return_sequences=True)\n",
        "    hidden= rnn_2(hidden)\n",
        "    #######################################\n",
        "    # 단어의 vector를 이용해서 정답 확률값 예측\n",
        "    linear = tf.keras.layers.Dense(n_out, activation=tf.nn.softmax)\n",
        "    outputs = linear(hidden)  # (bs, n_seq, n_out)\n",
        "    # 학습할 모델 선언\n",
        "    model = tf.keras.Model(inputs=inputs, outputs=outputs)\n",
        "    return model"
      ],
      "execution_count": null,
      "outputs": []
    },
    {
      "cell_type": "code",
      "metadata": {
        "colab": {
          "base_uri": "https://localhost:8080/",
          "height": 644
        },
        "id": "64I4xvdAzneL",
        "outputId": "86f4dbf6-5ffc-4815-c64c-bdc0c2bb18f8"
      },
      "source": [
        "# 모델 생성\n",
        "model = build_model(len(word_to_id), 8, 4, 3)\n",
        "# 모델 내용 그래프 출력\n",
        "tf.keras.utils.plot_model(model, 'model.png', show_shapes=True)"
      ],
      "execution_count": null,
      "outputs": [
        {
          "output_type": "execute_result",
          "data": {
            "image/png": "[encoded data removed]",
            "text/plain": [
              "<IPython.core.display.Image object>"
            ]
          },
          "metadata": {
            "tags": []
          },
          "execution_count": 35
        }
      ]
    },
    {
      "cell_type": "markdown",
      "metadata": {
        "id": "DhXN7DHvlEpp"
      },
      "source": [
        "## 학습"
      ]
    },
    {
      "cell_type": "code",
      "metadata": {
        "id": "2P-a9TanzneL"
      },
      "source": [
        "# 모델 loss, optimizer, metric 정의\n",
        "model.compile(loss='sparse_categorical_crossentropy', optimizer='adam', metrics=['accuracy'])"
      ],
      "execution_count": null,
      "outputs": []
    },
    {
      "cell_type": "code",
      "metadata": {
        "colab": {
          "base_uri": "https://localhost:8080/"
        },
        "id": "kw_41x2RzneL",
        "outputId": "382cc4fb-4ac9-40d4-a811-4585879e31bc"
      },
      "source": [
        "# 모델 학습\n",
        "history = model.fit(train_inputs, train_labels, epochs=100, batch_size=16)"
      ],
      "execution_count": null,
      "outputs": [
        {
          "output_type": "stream",
          "text": [
            "Epoch 1/100\n",
            "1/1 [==============================] - 2s 2s/step - loss: 1.0959 - accuracy: 0.5000\n",
            "Epoch 2/100\n",
            "1/1 [==============================] - 0s 13ms/step - loss: 0.9867 - accuracy: 1.0000\n",
            "Epoch 3/100\n",
            "1/1 [==============================] - 0s 9ms/step - loss: 0.8748 - accuracy: 1.0000\n",
            "Epoch 4/100\n",
            "1/1 [==============================] - 0s 10ms/step - loss: 0.7504 - accuracy: 0.7500\n",
            "Epoch 5/100\n",
            "1/1 [==============================] - 0s 10ms/step - loss: 0.6227 - accuracy: 0.7500\n",
            "Epoch 6/100\n",
            "1/1 [==============================] - 0s 10ms/step - loss: 0.4999 - accuracy: 0.8750\n",
            "Epoch 7/100\n",
            "1/1 [==============================] - 0s 11ms/step - loss: 0.3901 - accuracy: 0.8750\n",
            "Epoch 8/100\n",
            "1/1 [==============================] - 0s 10ms/step - loss: 0.3085 - accuracy: 1.0000\n",
            "Epoch 9/100\n",
            "1/1 [==============================] - 0s 12ms/step - loss: 0.2315 - accuracy: 1.0000\n",
            "Epoch 10/100\n",
            "1/1 [==============================] - 0s 8ms/step - loss: 0.1840 - accuracy: 1.0000\n",
            "Epoch 11/100\n",
            "1/1 [==============================] - 0s 7ms/step - loss: 0.1301 - accuracy: 1.0000\n",
            "Epoch 12/100\n",
            "1/1 [==============================] - 0s 8ms/step - loss: 0.0927 - accuracy: 1.0000\n",
            "Epoch 13/100\n",
            "1/1 [==============================] - 0s 9ms/step - loss: 0.0532 - accuracy: 1.0000\n",
            "Epoch 14/100\n",
            "1/1 [==============================] - 0s 8ms/step - loss: 0.0281 - accuracy: 1.0000\n",
            "Epoch 15/100\n",
            "1/1 [==============================] - 0s 7ms/step - loss: 0.0137 - accuracy: 1.0000\n",
            "Epoch 16/100\n",
            "1/1 [==============================] - 0s 6ms/step - loss: 0.0050 - accuracy: 1.0000\n",
            "Epoch 17/100\n",
            "1/1 [==============================] - 0s 6ms/step - loss: 0.0017 - accuracy: 1.0000\n",
            "Epoch 18/100\n",
            "1/1 [==============================] - 0s 10ms/step - loss: 8.0687e-04 - accuracy: 1.0000\n",
            "Epoch 19/100\n",
            "1/1 [==============================] - 0s 8ms/step - loss: 6.7550e-04 - accuracy: 1.0000\n",
            "Epoch 20/100\n",
            "1/1 [==============================] - 0s 7ms/step - loss: 8.6316e-04 - accuracy: 1.0000\n",
            "Epoch 21/100\n",
            "1/1 [==============================] - 0s 6ms/step - loss: 0.0013 - accuracy: 1.0000\n",
            "Epoch 22/100\n",
            "1/1 [==============================] - 0s 8ms/step - loss: 0.0018 - accuracy: 1.0000\n",
            "Epoch 23/100\n",
            "1/1 [==============================] - 0s 8ms/step - loss: 0.0023 - accuracy: 1.0000\n",
            "Epoch 24/100\n",
            "1/1 [==============================] - 0s 8ms/step - loss: 0.0023 - accuracy: 1.0000\n",
            "Epoch 25/100\n",
            "1/1 [==============================] - 0s 7ms/step - loss: 0.0019 - accuracy: 1.0000\n",
            "Epoch 26/100\n",
            "1/1 [==============================] - 0s 12ms/step - loss: 0.0013 - accuracy: 1.0000\n",
            "Epoch 27/100\n",
            "1/1 [==============================] - 0s 11ms/step - loss: 7.7041e-04 - accuracy: 1.0000\n",
            "Epoch 28/100\n",
            "1/1 [==============================] - 0s 9ms/step - loss: 4.3852e-04 - accuracy: 1.0000\n",
            "Epoch 29/100\n",
            "1/1 [==============================] - 0s 11ms/step - loss: 2.4733e-04 - accuracy: 1.0000\n",
            "Epoch 30/100\n",
            "1/1 [==============================] - 0s 11ms/step - loss: 1.4208e-04 - accuracy: 1.0000\n",
            "Epoch 31/100\n",
            "1/1 [==============================] - 0s 10ms/step - loss: 8.4510e-05 - accuracy: 1.0000\n",
            "Epoch 32/100\n",
            "1/1 [==============================] - 0s 11ms/step - loss: 5.2473e-05 - accuracy: 1.0000\n",
            "Epoch 33/100\n",
            "1/1 [==============================] - 0s 20ms/step - loss: 3.4135e-05 - accuracy: 1.0000\n",
            "Epoch 34/100\n",
            "1/1 [==============================] - 0s 9ms/step - loss: 2.3319e-05 - accuracy: 1.0000\n",
            "Epoch 35/100\n",
            "1/1 [==============================] - 0s 10ms/step - loss: 1.6718e-05 - accuracy: 1.0000\n",
            "Epoch 36/100\n",
            "1/1 [==============================] - 0s 10ms/step - loss: 1.2546e-05 - accuracy: 1.0000\n",
            "Epoch 37/100\n",
            "1/1 [==============================] - 0s 8ms/step - loss: 9.8197e-06 - accuracy: 1.0000\n",
            "Epoch 38/100\n",
            "1/1 [==============================] - 0s 9ms/step - loss: 7.9869e-06 - accuracy: 1.0000\n",
            "Epoch 39/100\n",
            "1/1 [==============================] - 0s 11ms/step - loss: 6.6757e-06 - accuracy: 1.0000\n",
            "Epoch 40/100\n",
            "1/1 [==============================] - 0s 10ms/step - loss: 5.7667e-06 - accuracy: 1.0000\n",
            "Epoch 41/100\n",
            "1/1 [==============================] - 0s 10ms/step - loss: 5.0813e-06 - accuracy: 1.0000\n",
            "Epoch 42/100\n",
            "1/1 [==============================] - 0s 10ms/step - loss: 4.5746e-06 - accuracy: 1.0000\n",
            "Epoch 43/100\n",
            "1/1 [==============================] - 0s 7ms/step - loss: 4.1872e-06 - accuracy: 1.0000\n",
            "Epoch 44/100\n",
            "1/1 [==============================] - 0s 7ms/step - loss: 3.8743e-06 - accuracy: 1.0000\n",
            "Epoch 45/100\n",
            "1/1 [==============================] - 0s 8ms/step - loss: 3.6508e-06 - accuracy: 1.0000\n",
            "Epoch 46/100\n",
            "1/1 [==============================] - 0s 7ms/step - loss: 3.4571e-06 - accuracy: 1.0000\n",
            "Epoch 47/100\n",
            "1/1 [==============================] - 0s 8ms/step - loss: 3.3229e-06 - accuracy: 1.0000\n",
            "Epoch 48/100\n",
            "1/1 [==============================] - 0s 7ms/step - loss: 3.1739e-06 - accuracy: 1.0000\n",
            "Epoch 49/100\n",
            "1/1 [==============================] - 0s 8ms/step - loss: 3.0845e-06 - accuracy: 1.0000\n",
            "Epoch 50/100\n",
            "1/1 [==============================] - 0s 8ms/step - loss: 3.0100e-06 - accuracy: 1.0000\n",
            "Epoch 51/100\n",
            "1/1 [==============================] - 0s 7ms/step - loss: 2.9057e-06 - accuracy: 1.0000\n",
            "Epoch 52/100\n",
            "1/1 [==============================] - 0s 12ms/step - loss: 2.8312e-06 - accuracy: 1.0000\n",
            "Epoch 53/100\n",
            "1/1 [==============================] - 0s 12ms/step - loss: 2.7716e-06 - accuracy: 1.0000\n",
            "Epoch 54/100\n",
            "1/1 [==============================] - 0s 11ms/step - loss: 2.7418e-06 - accuracy: 1.0000\n",
            "Epoch 55/100\n",
            "1/1 [==============================] - 0s 12ms/step - loss: 2.6971e-06 - accuracy: 1.0000\n",
            "Epoch 56/100\n",
            "1/1 [==============================] - 0s 11ms/step - loss: 2.6673e-06 - accuracy: 1.0000\n",
            "Epoch 57/100\n",
            "1/1 [==============================] - 0s 10ms/step - loss: 2.6226e-06 - accuracy: 1.0000\n",
            "Epoch 58/100\n",
            "1/1 [==============================] - 0s 11ms/step - loss: 2.6077e-06 - accuracy: 1.0000\n",
            "Epoch 59/100\n",
            "1/1 [==============================] - 0s 15ms/step - loss: 2.5928e-06 - accuracy: 1.0000\n",
            "Epoch 60/100\n",
            "1/1 [==============================] - 0s 16ms/step - loss: 2.5928e-06 - accuracy: 1.0000\n",
            "Epoch 61/100\n",
            "1/1 [==============================] - 0s 16ms/step - loss: 2.5630e-06 - accuracy: 1.0000\n",
            "Epoch 62/100\n",
            "1/1 [==============================] - 0s 16ms/step - loss: 2.5034e-06 - accuracy: 1.0000\n",
            "Epoch 63/100\n",
            "1/1 [==============================] - 0s 13ms/step - loss: 2.5034e-06 - accuracy: 1.0000\n",
            "Epoch 64/100\n",
            "1/1 [==============================] - 0s 13ms/step - loss: 2.4885e-06 - accuracy: 1.0000\n",
            "Epoch 65/100\n",
            "1/1 [==============================] - 0s 8ms/step - loss: 2.4736e-06 - accuracy: 1.0000\n",
            "Epoch 66/100\n",
            "1/1 [==============================] - 0s 14ms/step - loss: 2.4587e-06 - accuracy: 1.0000\n",
            "Epoch 67/100\n",
            "1/1 [==============================] - 0s 9ms/step - loss: 2.4736e-06 - accuracy: 1.0000\n",
            "Epoch 68/100\n",
            "1/1 [==============================] - 0s 12ms/step - loss: 2.4587e-06 - accuracy: 1.0000\n",
            "Epoch 69/100\n",
            "1/1 [==============================] - 0s 15ms/step - loss: 2.4438e-06 - accuracy: 1.0000\n",
            "Epoch 70/100\n",
            "1/1 [==============================] - 0s 11ms/step - loss: 2.4438e-06 - accuracy: 1.0000\n",
            "Epoch 71/100\n",
            "1/1 [==============================] - 0s 14ms/step - loss: 2.4289e-06 - accuracy: 1.0000\n",
            "Epoch 72/100\n",
            "1/1 [==============================] - 0s 14ms/step - loss: 2.4140e-06 - accuracy: 1.0000\n",
            "Epoch 73/100\n",
            "1/1 [==============================] - 0s 20ms/step - loss: 2.4289e-06 - accuracy: 1.0000\n",
            "Epoch 74/100\n",
            "1/1 [==============================] - 0s 12ms/step - loss: 2.4140e-06 - accuracy: 1.0000\n",
            "Epoch 75/100\n",
            "1/1 [==============================] - 0s 10ms/step - loss: 2.3991e-06 - accuracy: 1.0000\n",
            "Epoch 76/100\n",
            "1/1 [==============================] - 0s 13ms/step - loss: 2.3991e-06 - accuracy: 1.0000\n",
            "Epoch 77/100\n",
            "1/1 [==============================] - 0s 11ms/step - loss: 2.3842e-06 - accuracy: 1.0000\n",
            "Epoch 78/100\n",
            "1/1 [==============================] - 0s 14ms/step - loss: 2.3693e-06 - accuracy: 1.0000\n",
            "Epoch 79/100\n",
            "1/1 [==============================] - 0s 13ms/step - loss: 2.3693e-06 - accuracy: 1.0000\n",
            "Epoch 80/100\n",
            "1/1 [==============================] - 0s 16ms/step - loss: 2.3693e-06 - accuracy: 1.0000\n",
            "Epoch 81/100\n",
            "1/1 [==============================] - 0s 17ms/step - loss: 2.3544e-06 - accuracy: 1.0000\n",
            "Epoch 82/100\n",
            "1/1 [==============================] - 0s 12ms/step - loss: 2.3395e-06 - accuracy: 1.0000\n",
            "Epoch 83/100\n",
            "1/1 [==============================] - 0s 15ms/step - loss: 2.3395e-06 - accuracy: 1.0000\n",
            "Epoch 84/100\n",
            "1/1 [==============================] - 0s 16ms/step - loss: 2.3395e-06 - accuracy: 1.0000\n",
            "Epoch 85/100\n",
            "1/1 [==============================] - 0s 13ms/step - loss: 2.3395e-06 - accuracy: 1.0000\n",
            "Epoch 86/100\n",
            "1/1 [==============================] - 0s 13ms/step - loss: 2.3246e-06 - accuracy: 1.0000\n",
            "Epoch 87/100\n",
            "1/1 [==============================] - 0s 11ms/step - loss: 2.3246e-06 - accuracy: 1.0000\n",
            "Epoch 88/100\n",
            "1/1 [==============================] - 0s 15ms/step - loss: 2.3097e-06 - accuracy: 1.0000\n",
            "Epoch 89/100\n",
            "1/1 [==============================] - 0s 18ms/step - loss: 2.3097e-06 - accuracy: 1.0000\n",
            "Epoch 90/100\n",
            "1/1 [==============================] - 0s 18ms/step - loss: 2.3097e-06 - accuracy: 1.0000\n",
            "Epoch 91/100\n",
            "1/1 [==============================] - 0s 18ms/step - loss: 2.2948e-06 - accuracy: 1.0000\n",
            "Epoch 92/100\n",
            "1/1 [==============================] - 0s 14ms/step - loss: 2.2948e-06 - accuracy: 1.0000\n",
            "Epoch 93/100\n",
            "1/1 [==============================] - 0s 11ms/step - loss: 2.2948e-06 - accuracy: 1.0000\n",
            "Epoch 94/100\n",
            "1/1 [==============================] - 0s 16ms/step - loss: 2.2948e-06 - accuracy: 1.0000\n",
            "Epoch 95/100\n",
            "1/1 [==============================] - 0s 14ms/step - loss: 2.2948e-06 - accuracy: 1.0000\n",
            "Epoch 96/100\n",
            "1/1 [==============================] - 0s 16ms/step - loss: 2.2799e-06 - accuracy: 1.0000\n",
            "Epoch 97/100\n",
            "1/1 [==============================] - 0s 19ms/step - loss: 2.2799e-06 - accuracy: 1.0000\n",
            "Epoch 98/100\n",
            "1/1 [==============================] - 0s 22ms/step - loss: 2.2799e-06 - accuracy: 1.0000\n",
            "Epoch 99/100\n",
            "1/1 [==============================] - 0s 8ms/step - loss: 2.2799e-06 - accuracy: 1.0000\n",
            "Epoch 100/100\n",
            "1/1 [==============================] - 0s 13ms/step - loss: 2.2799e-06 - accuracy: 1.0000\n"
          ],
          "name": "stdout"
        }
      ]
    },
    {
      "cell_type": "code",
      "metadata": {
        "colab": {
          "base_uri": "https://localhost:8080/",
          "height": 279
        },
        "id": "YxJ4kOkxzneL",
        "outputId": "93fce61a-fdd7-4081-85ac-56ce5bae6a5c"
      },
      "source": [
        "plt.figure(figsize=(12, 4))\n",
        "\n",
        "plt.subplot(1, 2, 1)\n",
        "plt.plot(history.history['loss'], 'b-', label='loss')\n",
        "plt.xlabel('Epoch')\n",
        "plt.legend()\n",
        "\n",
        "plt.subplot(1, 2, 2)\n",
        "plt.plot(history.history['accuracy'], 'g-', label='accuracy')\n",
        "plt.xlabel('Epoch')\n",
        "plt.legend()\n",
        "\n",
        "plt.show()"
      ],
      "execution_count": null,
      "outputs": [
        {
          "output_type": "display_data",
          "data": {
            "image/png": "[encoded data removed]",
            "text/plain": [
              "<Figure size 864x288 with 2 Axes>"
            ]
          },
          "metadata": {
            "tags": [],
            "needs_background": "light"
          }
        }
      ]
    },
    {
      "cell_type": "markdown",
      "metadata": {
        "id": "hjSlRk99zneL"
      },
      "source": [
        "## 평가"
      ]
    },
    {
      "cell_type": "code",
      "metadata": {
        "colab": {
          "base_uri": "https://localhost:8080/"
        },
        "id": "2HyKEaYdzneL",
        "outputId": "eef7e5e9-c37f-4201-a9a9-7074cc900f61"
      },
      "source": [
        "# 모델 평가\n",
        "model.evaluate(train_inputs, train_labels)"
      ],
      "execution_count": null,
      "outputs": [
        {
          "output_type": "stream",
          "text": [
            "1/1 [==============================] - 0s 436ms/step - loss: 2.2799e-06 - accuracy: 1.0000\n"
          ],
          "name": "stdout"
        },
        {
          "output_type": "execute_result",
          "data": {
            "text/plain": [
              "[2.2798715235694544e-06, 1.0]"
            ]
          },
          "metadata": {
            "tags": []
          },
          "execution_count": 39
        }
      ]
    },
    {
      "cell_type": "markdown",
      "metadata": {
        "id": "XpcISJ_ozneL"
      },
      "source": [
        "## 예측"
      ]
    },
    {
      "cell_type": "code",
      "metadata": {
        "id": "LJkTEZONXyFU"
      },
      "source": [
        "# 추론할 입력\n",
        "string = '나는 기분이 우울해'"
      ],
      "execution_count": null,
      "outputs": []
    },
    {
      "cell_type": "code",
      "metadata": {
        "colab": {
          "base_uri": "https://localhost:8080/"
        },
        "id": "CfprsWzGXvWA",
        "outputId": "a1354cac-19d5-4606-996d-d7bb0fb23fd2"
      },
      "source": [
        "# 입력을 숫자로 변경\n",
        "infer_input = [word_to_id[word] for word in string.split()]\n",
        "infer_input"
      ],
      "execution_count": null,
      "outputs": [
        {
          "output_type": "execute_result",
          "data": {
            "text/plain": [
              "[2, 4, 6]"
            ]
          },
          "metadata": {
            "tags": []
          },
          "execution_count": 41
        }
      ]
    },
    {
      "cell_type": "code",
      "metadata": {
        "colab": {
          "base_uri": "https://localhost:8080/"
        },
        "id": "Kg_dmgZOX30T",
        "outputId": "b63349b6-2056-4fd7-da58-8e6efbb20bce"
      },
      "source": [
        "# 문장의 길이를 모두 동일하게 변경 (최대길이 4)\n",
        "infer_input += [0] * (4 - len(infer_input))\n",
        "infer_input"
      ],
      "execution_count": null,
      "outputs": [
        {
          "output_type": "execute_result",
          "data": {
            "text/plain": [
              "[2, 4, 6, 0]"
            ]
          },
          "metadata": {
            "tags": []
          },
          "execution_count": 42
        }
      ]
    },
    {
      "cell_type": "code",
      "metadata": {
        "colab": {
          "base_uri": "https://localhost:8080/"
        },
        "id": "MAfaCPQEzneL",
        "outputId": "c7c4fd40-5496-49fa-b2be-07006c7b64e2"
      },
      "source": [
        "# numpy array 변환 (batch size 1 추가)\n",
        "infer_inputs = np.array([infer_input])\n",
        "infer_inputs"
      ],
      "execution_count": null,
      "outputs": [
        {
          "output_type": "execute_result",
          "data": {
            "text/plain": [
              "array([[2, 4, 6, 0]])"
            ]
          },
          "metadata": {
            "tags": []
          },
          "execution_count": 43
        }
      ]
    },
    {
      "cell_type": "code",
      "metadata": {
        "colab": {
          "base_uri": "https://localhost:8080/"
        },
        "id": "YUSMsyWbzneL",
        "outputId": "1b0ce738-b08a-412b-d69c-b3db8ab3cc91"
      },
      "source": [
        "# 긍정/부정 추론\n",
        "y_preds = model.predict(infer_inputs)\n",
        "y_preds"
      ],
      "execution_count": null,
      "outputs": [
        {
          "output_type": "execute_result",
          "data": {
            "text/plain": [
              "array([[[1.46000075e-05, 9.99979496e-01, 5.93372579e-06],\n",
              "        [7.17597148e-10, 1.00000000e+00, 4.83437574e-08],\n",
              "        [9.99912620e-01, 1.65619852e-07, 8.72240635e-05],\n",
              "        [1.99044267e-10, 1.00000000e+00, 5.54654900e-09]]], dtype=float32)"
            ]
          },
          "metadata": {
            "tags": []
          },
          "execution_count": 44
        }
      ]
    },
    {
      "cell_type": "code",
      "metadata": {
        "colab": {
          "base_uri": "https://localhost:8080/"
        },
        "id": "RdC00mgdzneL",
        "outputId": "30a6ee42-743a-49e5-e461-2606be5bfb0c"
      },
      "source": [
        "# 확률의 max 값을 추론 값으로 결정\n",
        "y_pred_class = np.argmax(y_preds, axis=2)\n",
        "y_pred_class"
      ],
      "execution_count": null,
      "outputs": [
        {
          "output_type": "execute_result",
          "data": {
            "text/plain": [
              "array([[1, 1, 0, 1]])"
            ]
          },
          "metadata": {
            "tags": []
          },
          "execution_count": 45
        }
      ]
    },
    {
      "cell_type": "code",
      "metadata": {
        "colab": {
          "base_uri": "https://localhost:8080/"
        },
        "id": "iVYc0DXrTuaZ",
        "outputId": "2abba0f7-0bd6-4dc9-ed1a-1d9014988ec5"
      },
      "source": [
        "# 각 예측 값에 대한 label string\n",
        "for row in y_pred_class:\n",
        "    for val in row:\n",
        "        print(val, ':', id_to_label[val])"
      ],
      "execution_count": null,
      "outputs": [
        {
          "output_type": "stream",
          "text": [
            "1 : 중립\n",
            "1 : 중립\n",
            "0 : 부정\n",
            "1 : 중립\n"
          ],
          "name": "stdout"
        }
      ]
    },
    {
      "cell_type": "markdown",
      "metadata": {
        "id": "y_9x5ECWZhbS"
      },
      "source": [
        "# 문장 긍정(1), 부정(0) 분류 프로젝트"
      ]
    },
    {
      "cell_type": "markdown",
      "metadata": {
        "id": "3uPb-tIEZhbd"
      },
      "source": [
        "## 데이터"
      ]
    },
    {
      "cell_type": "code",
      "metadata": {
        "id": "i7oqS_rHZhbe"
      },
      "source": [
        "# 입력 문장\n",
        "sentences = [\n",
        "    '나는 오늘 기분이 좋아',\n",
        "    '나는 오늘 우울해'\n",
        "]\n",
        "\n",
        "# 출력 정답\n",
        "labels = [1, 0]  # 긍정(1), 부정(0)\n",
        "\n",
        "# 정답 dic\n",
        "id_to_label = {0: '부정', 1: '긍정'}"
      ],
      "execution_count": null,
      "outputs": []
    },
    {
      "cell_type": "markdown",
      "metadata": {
        "id": "5QAm2W2eZhbe"
      },
      "source": [
        "## Vocabulary"
      ]
    },
    {
      "cell_type": "code",
      "metadata": {
        "colab": {
          "base_uri": "https://localhost:8080/"
        },
        "id": "nPAFem00Zhbe",
        "outputId": "6c4ff924-ba11-4c00-ae44-6e3252a1ab2e"
      },
      "source": [
        "# 각 문장을 띄어쓰기 단위로 분할\n",
        "words = []\n",
        "for sentence in sentences:\n",
        "    words.extend(sentence.split())\n",
        "words"
      ],
      "execution_count": null,
      "outputs": [
        {
          "output_type": "execute_result",
          "data": {
            "text/plain": [
              "['나는', '오늘', '기분이', '좋아', '나는', '오늘', '우울해']"
            ]
          },
          "metadata": {
            "tags": []
          },
          "execution_count": 48
        }
      ]
    },
    {
      "cell_type": "code",
      "metadata": {
        "colab": {
          "base_uri": "https://localhost:8080/"
        },
        "id": "fG66UxYRZhbf",
        "outputId": "f4e2d715-af10-42b3-8a1f-8bab4b8d6795"
      },
      "source": [
        "# 중복 단어 제거\n",
        "words = list(dict.fromkeys(words))\n",
        "words"
      ],
      "execution_count": null,
      "outputs": [
        {
          "output_type": "execute_result",
          "data": {
            "text/plain": [
              "['나는', '오늘', '기분이', '좋아', '우울해']"
            ]
          },
          "metadata": {
            "tags": []
          },
          "execution_count": 49
        }
      ]
    },
    {
      "cell_type": "code",
      "metadata": {
        "colab": {
          "base_uri": "https://localhost:8080/"
        },
        "id": "c4z8up8GZhbf",
        "outputId": "98d8fb9f-f50d-4d67-8109-1b3280c5af65"
      },
      "source": [
        "# 각 단어별 고유한 번호 부여\n",
        "word_to_id = {'[PAD]': 0, '[UNK]': 1}\n",
        "for word in words:\n",
        "    word_to_id[word] = len(word_to_id)\n",
        "word_to_id"
      ],
      "execution_count": null,
      "outputs": [
        {
          "output_type": "execute_result",
          "data": {
            "text/plain": [
              "{'[PAD]': 0, '[UNK]': 1, '기분이': 4, '나는': 2, '오늘': 3, '우울해': 6, '좋아': 5}"
            ]
          },
          "metadata": {
            "tags": []
          },
          "execution_count": 50
        }
      ]
    },
    {
      "cell_type": "code",
      "metadata": {
        "colab": {
          "base_uri": "https://localhost:8080/"
        },
        "id": "uOCStzoAZhbf",
        "outputId": "a0f51f76-672b-4b24-b16b-cb5563e62a5b"
      },
      "source": [
        "# 각 숫자별 단어 부여\n",
        "id_to_word = {_id:word for word, _id in word_to_id.items()}\n",
        "id_to_word"
      ],
      "execution_count": null,
      "outputs": [
        {
          "output_type": "execute_result",
          "data": {
            "text/plain": [
              "{0: '[PAD]', 1: '[UNK]', 2: '나는', 3: '오늘', 4: '기분이', 5: '좋아', 6: '우울해'}"
            ]
          },
          "metadata": {
            "tags": []
          },
          "execution_count": 51
        }
      ]
    },
    {
      "cell_type": "markdown",
      "metadata": {
        "id": "GIGGW1zCZhbf"
      },
      "source": [
        "## 모델 학습용 데이터 생성"
      ]
    },
    {
      "cell_type": "code",
      "metadata": {
        "colab": {
          "base_uri": "https://localhost:8080/"
        },
        "id": "vqOJgFInZhbf",
        "outputId": "79ca9540-af4b-43a8-acda-6ff1f6416770"
      },
      "source": [
        "# 학습용 입력 데이터 생성\n",
        "train_inputs = []\n",
        "for sentence in sentences:\n",
        "    train_inputs.append([word_to_id[word] for word in sentence.split()])\n",
        "train_inputs"
      ],
      "execution_count": null,
      "outputs": [
        {
          "output_type": "execute_result",
          "data": {
            "text/plain": [
              "[[2, 3, 4, 5], [2, 3, 6]]"
            ]
          },
          "metadata": {
            "tags": []
          },
          "execution_count": 52
        }
      ]
    },
    {
      "cell_type": "code",
      "metadata": {
        "colab": {
          "base_uri": "https://localhost:8080/"
        },
        "id": "3tnBuxc7Zhbg",
        "outputId": "1884ccc8-872f-4c3d-b533-66f3f4888861"
      },
      "source": [
        "# train label은 labels를 그래도 사용\n",
        "train_labels = labels\n",
        "train_labels"
      ],
      "execution_count": null,
      "outputs": [
        {
          "output_type": "execute_result",
          "data": {
            "text/plain": [
              "[1, 0]"
            ]
          },
          "metadata": {
            "tags": []
          },
          "execution_count": 53
        }
      ]
    },
    {
      "cell_type": "code",
      "metadata": {
        "colab": {
          "base_uri": "https://localhost:8080/"
        },
        "id": "dDgDN_bNZhbg",
        "outputId": "35fbda33-7962-4155-bba0-3211d6ea9066"
      },
      "source": [
        "# 문장의 길이를 모두 동일하게 변경 (최대길이 4)\n",
        "for row in train_inputs:\n",
        "    row += [0] * (4 - len(row))\n",
        "train_inputs"
      ],
      "execution_count": null,
      "outputs": [
        {
          "output_type": "execute_result",
          "data": {
            "text/plain": [
              "[[2, 3, 4, 5], [2, 3, 6, 0]]"
            ]
          },
          "metadata": {
            "tags": []
          },
          "execution_count": 54
        }
      ]
    },
    {
      "cell_type": "code",
      "metadata": {
        "colab": {
          "base_uri": "https://localhost:8080/"
        },
        "id": "NK056QQoZhbg",
        "outputId": "1c2ac5ce-1e4e-4efd-dd28-5ce29fbabdbb"
      },
      "source": [
        "# train inputs을 numpy array로 변환\n",
        "train_inputs = np.array(train_inputs)\n",
        "train_inputs"
      ],
      "execution_count": null,
      "outputs": [
        {
          "output_type": "execute_result",
          "data": {
            "text/plain": [
              "array([[2, 3, 4, 5],\n",
              "       [2, 3, 6, 0]])"
            ]
          },
          "metadata": {
            "tags": []
          },
          "execution_count": 55
        }
      ]
    },
    {
      "cell_type": "code",
      "metadata": {
        "colab": {
          "base_uri": "https://localhost:8080/"
        },
        "id": "Sfjb3EZAZhbh",
        "outputId": "cbc05e8b-6eec-4c70-bba0-51aa7d2a180e"
      },
      "source": [
        "# 학습용 정답을 numpy array로 변환\n",
        "train_labels = np.array(train_labels)\n",
        "train_labels"
      ],
      "execution_count": null,
      "outputs": [
        {
          "output_type": "execute_result",
          "data": {
            "text/plain": [
              "array([1, 0])"
            ]
          },
          "metadata": {
            "tags": []
          },
          "execution_count": 56
        }
      ]
    },
    {
      "cell_type": "markdown",
      "metadata": {
        "id": "85GzrE0HZhbh"
      },
      "source": [
        "## 모델링"
      ]
    },
    {
      "cell_type": "code",
      "metadata": {
        "colab": {
          "base_uri": "https://localhost:8080/"
        },
        "id": "ho--z_ahZhbh",
        "outputId": "8f4e37bd-d5ea-429a-d484-a4ea364e9248"
      },
      "source": [
        "# 입력 단어를 vector로 변환\n",
        "embedding = tf.keras.layers.Embedding(len(word_to_id), 8)\n",
        "hidden = embedding(train_inputs)\n",
        "hidden"
      ],
      "execution_count": null,
      "outputs": [
        {
          "output_type": "execute_result",
          "data": {
            "text/plain": [
              "<tf.Tensor: shape=(2, 4, 8), dtype=float32, numpy=\n",
              "array([[[ 0.03703799,  0.04823145, -0.0032931 ,  0.04909035,\n",
              "         -0.04956923,  0.04516374, -0.00096654, -0.00183177],\n",
              "        [-0.02327439, -0.02454637,  0.04801836,  0.00659646,\n",
              "          0.02807531, -0.03792303, -0.00034411,  0.0489539 ],\n",
              "        [-0.00403597, -0.02227562, -0.0209482 , -0.04139838,\n",
              "         -0.01960132, -0.0486572 ,  0.02310051, -0.03030114],\n",
              "        [-0.00955672,  0.02646557,  0.03506689, -0.02213653,\n",
              "         -0.0169467 , -0.02585856, -0.01777465,  0.03830297]],\n",
              "\n",
              "       [[ 0.03703799,  0.04823145, -0.0032931 ,  0.04909035,\n",
              "         -0.04956923,  0.04516374, -0.00096654, -0.00183177],\n",
              "        [-0.02327439, -0.02454637,  0.04801836,  0.00659646,\n",
              "          0.02807531, -0.03792303, -0.00034411,  0.0489539 ],\n",
              "        [-0.00285642, -0.04211094, -0.01686217,  0.04682907,\n",
              "         -0.04545144,  0.01368506, -0.03244974, -0.04826076],\n",
              "        [-0.02140534,  0.02699688,  0.04680059,  0.02414066,\n",
              "         -0.03054467, -0.01981684, -0.02851414,  0.01288947]]],\n",
              "      dtype=float32)>"
            ]
          },
          "metadata": {
            "tags": []
          },
          "execution_count": 57
        }
      ]
    },
    {
      "cell_type": "code",
      "metadata": {
        "colab": {
          "base_uri": "https://localhost:8080/"
        },
        "id": "iAHwFqpiaKLj",
        "outputId": "2594c89a-a862-41ba-db81-8f8b2b9cb615"
      },
      "source": [
        "# 각 단어 벡터의 최대값 기준으로 벡터를 더해서 차원을 줄여줌 (문장 vector 생성)\n",
        "pool = tf.keras.layers.GlobalMaxPool1D()\n",
        "hidden_pool = pool(hidden)\n",
        "hidden_pool"
      ],
      "execution_count": null,
      "outputs": [
        {
          "output_type": "execute_result",
          "data": {
            "text/plain": [
              "<tf.Tensor: shape=(2, 8), dtype=float32, numpy=\n",
              "array([[ 0.03703799,  0.04823145,  0.04801836,  0.04909035,  0.02807531,\n",
              "         0.04516374,  0.02310051,  0.0489539 ],\n",
              "       [ 0.03703799,  0.04823145,  0.04801836,  0.04909035,  0.02807531,\n",
              "         0.04516374, -0.00034411,  0.0489539 ]], dtype=float32)>"
            ]
          },
          "metadata": {
            "tags": []
          },
          "execution_count": 58
        }
      ]
    },
    {
      "cell_type": "code",
      "metadata": {
        "colab": {
          "base_uri": "https://localhost:8080/"
        },
        "id": "P_H1viaeZhbh",
        "outputId": "fe0fcad9-b066-4b21-9cc6-fdc121cd166a"
      },
      "source": [
        "# 문장 vector를 이용해서 긍정(1), 부정(0) 확률값 예측\n",
        "linear = tf.keras.layers.Dense(2, activation=tf.nn.softmax)\n",
        "outputs = linear(hidden_pool)\n",
        "outputs"
      ],
      "execution_count": null,
      "outputs": [
        {
          "output_type": "execute_result",
          "data": {
            "text/plain": [
              "<tf.Tensor: shape=(2, 2), dtype=float32, numpy=\n",
              "array([[0.5475244 , 0.45247564],\n",
              "       [0.5519521 , 0.44804788]], dtype=float32)>"
            ]
          },
          "metadata": {
            "tags": []
          },
          "execution_count": 59
        }
      ]
    },
    {
      "cell_type": "code",
      "metadata": {
        "id": "7QPDAjdMZhbh"
      },
      "source": [
        "def build_model(n_vocab, d_model, n_seq, n_out):\n",
        "    \"\"\"\n",
        "    동작만 하는 간단한 모델\n",
        "    :param n_vocab: vocabulary 단어 수\n",
        "    :param d_model: 단어를 의미하는 벡터의 차원 수\n",
        "    :param n_seq: 문장길이 (단어 수)\n",
        "    :param n_out: 예측할 class 개수\n",
        "    \"\"\"\n",
        "    inputs = tf.keras.layers.Input((n_seq,))  # (bs, n_seq)\n",
        "    # 입력 단어를 vector로 변환\n",
        "    embedding = tf.keras.layers.Embedding(n_vocab, d_model)\n",
        "    hidden = embedding(inputs)  # (bs, n_seq, d_model)\n",
        "    #######################################\n",
        "    # 여기에 CNN 및 RNN 모델을 추가해 보세요.\n",
        "    #CNN\n",
        "    conv_1 = tf.keras.layers.Conv1D(filters=128, kernel_size=3, padding='causal')\n",
        "    hidden=conv_1(hidden)\n",
        "\n",
        "    #RNN\n",
        "    rnn_1 = tf.keras.layers.Bidirectional(tf.keras.layers.SimpleRNN(units=128, return_sequences=True))\n",
        "    hidden = rnn_1(hidden)\n",
        "    rnn_2 = tf.keras.layers.SimpleRNN(units=256, return_sequences=True)\n",
        "    hidden= rnn_2(hidden)\n",
        "    #######################################\n",
        "    # 각 단어 벡터의 최대값 기준으로 벡터를 더해서 차원을 줄여줌 (문장 vector 생성)\n",
        "    pool = tf.keras.layers.GlobalMaxPool1D()\n",
        "    hidden_pool = pool(hidden)  # (bs, d_model)\n",
        "    # 문장 vector를 이용해서 긍정(1), 부정(0) 확률값 예측\n",
        "    linear = tf.keras.layers.Dense(2, activation=tf.nn.softmax)\n",
        "    outputs = linear(hidden_pool)  # (bs, n_out)\n",
        "    # 학습할 모델 선언\n",
        "    model = tf.keras.Model(inputs=inputs, outputs=outputs)\n",
        "    return model"
      ],
      "execution_count": null,
      "outputs": []
    },
    {
      "cell_type": "code",
      "metadata": {
        "colab": {
          "base_uri": "https://localhost:8080/",
          "height": 754
        },
        "id": "FlT9uYrxZhbi",
        "outputId": "30e91b36-5581-4fed-d54d-95a5266ca629"
      },
      "source": [
        "# 모델 생성\n",
        "model = build_model(len(word_to_id), 8, 4, 2)\n",
        "# 모델 내용 그래프 출력\n",
        "tf.keras.utils.plot_model(model, 'model.png', show_shapes=True)"
      ],
      "execution_count": null,
      "outputs": [
        {
          "output_type": "execute_result",
          "data": {
            "image/png": "[encoded data removed]",
            "text/plain": [
              "<IPython.core.display.Image object>"
            ]
          },
          "metadata": {
            "tags": []
          },
          "execution_count": 74
        }
      ]
    },
    {
      "cell_type": "markdown",
      "metadata": {
        "id": "rrhMcv0FZhbi"
      },
      "source": [
        "## 학습"
      ]
    },
    {
      "cell_type": "code",
      "metadata": {
        "id": "oh87DPXoZhbi"
      },
      "source": [
        "# 모델 loss, optimizer, metric 정의\n",
        "model.compile(loss='sparse_categorical_crossentropy', optimizer='adam', metrics=['accuracy'])"
      ],
      "execution_count": null,
      "outputs": []
    },
    {
      "cell_type": "code",
      "metadata": {
        "colab": {
          "base_uri": "https://localhost:8080/"
        },
        "id": "K5mlWw7lZhbi",
        "outputId": "80b04b62-0555-45ce-93b6-d5263c3abf05"
      },
      "source": [
        "# 모델 학습\n",
        "history = model.fit(train_inputs, train_labels, epochs=20, batch_size=16)"
      ],
      "execution_count": null,
      "outputs": [
        {
          "output_type": "stream",
          "text": [
            "Epoch 1/20\n",
            "1/1 [==============================] - 2s 2s/step - loss: 0.6916 - accuracy: 0.5000\n",
            "Epoch 2/20\n",
            "1/1 [==============================] - 0s 8ms/step - loss: 0.6553 - accuracy: 0.5000\n",
            "Epoch 3/20\n",
            "1/1 [==============================] - 0s 11ms/step - loss: 0.6108 - accuracy: 1.0000\n",
            "Epoch 4/20\n",
            "1/1 [==============================] - 0s 11ms/step - loss: 0.5552 - accuracy: 1.0000\n",
            "Epoch 5/20\n",
            "1/1 [==============================] - 0s 11ms/step - loss: 0.4840 - accuracy: 1.0000\n",
            "Epoch 6/20\n",
            "1/1 [==============================] - 0s 11ms/step - loss: 0.3934 - accuracy: 1.0000\n",
            "Epoch 7/20\n",
            "1/1 [==============================] - 0s 13ms/step - loss: 0.2894 - accuracy: 1.0000\n",
            "Epoch 8/20\n",
            "1/1 [==============================] - 0s 8ms/step - loss: 0.1860 - accuracy: 1.0000\n",
            "Epoch 9/20\n",
            "1/1 [==============================] - 0s 10ms/step - loss: 0.1007 - accuracy: 1.0000\n",
            "Epoch 10/20\n",
            "1/1 [==============================] - 0s 11ms/step - loss: 0.0451 - accuracy: 1.0000\n",
            "Epoch 11/20\n",
            "1/1 [==============================] - 0s 12ms/step - loss: 0.0174 - accuracy: 1.0000\n",
            "Epoch 12/20\n",
            "1/1 [==============================] - 0s 11ms/step - loss: 0.0062 - accuracy: 1.0000\n",
            "Epoch 13/20\n",
            "1/1 [==============================] - 0s 11ms/step - loss: 0.0022 - accuracy: 1.0000\n",
            "Epoch 14/20\n",
            "1/1 [==============================] - 0s 10ms/step - loss: 8.4739e-04 - accuracy: 1.0000\n",
            "Epoch 15/20\n",
            "1/1 [==============================] - 0s 11ms/step - loss: 3.5464e-04 - accuracy: 1.0000\n",
            "Epoch 16/20\n",
            "1/1 [==============================] - 0s 10ms/step - loss: 1.6509e-04 - accuracy: 1.0000\n",
            "Epoch 17/20\n",
            "1/1 [==============================] - 0s 12ms/step - loss: 8.5231e-05 - accuracy: 1.0000\n",
            "Epoch 18/20\n",
            "1/1 [==============================] - 0s 16ms/step - loss: 4.8279e-05 - accuracy: 1.0000\n",
            "Epoch 19/20\n",
            "1/1 [==============================] - 0s 15ms/step - loss: 2.9683e-05 - accuracy: 1.0000\n",
            "Epoch 20/20\n",
            "1/1 [==============================] - 0s 15ms/step - loss: 1.9610e-05 - accuracy: 1.0000\n"
          ],
          "name": "stdout"
        }
      ]
    },
    {
      "cell_type": "code",
      "metadata": {
        "colab": {
          "base_uri": "https://localhost:8080/",
          "height": 279
        },
        "id": "Xedcn0HqZhbi",
        "outputId": "aa5ee976-a54b-4aa2-c93a-bdaf2e5b988e"
      },
      "source": [
        "plt.figure(figsize=(12, 4))\n",
        "\n",
        "plt.subplot(1, 2, 1)\n",
        "plt.plot(history.history['loss'], 'b-', label='loss')\n",
        "plt.xlabel('Epoch')\n",
        "plt.legend()\n",
        "\n",
        "plt.subplot(1, 2, 2)\n",
        "plt.plot(history.history['accuracy'], 'g-', label='accuracy')\n",
        "plt.xlabel('Epoch')\n",
        "plt.legend()\n",
        "\n",
        "plt.show()"
      ],
      "execution_count": null,
      "outputs": [
        {
          "output_type": "display_data",
          "data": {
            "image/png": "[encoded data removed]",
            "text/plain": [
              "<Figure size 864x288 with 2 Axes>"
            ]
          },
          "metadata": {
            "tags": [],
            "needs_background": "light"
          }
        }
      ]
    },
    {
      "cell_type": "markdown",
      "metadata": {
        "id": "ib6gdZI5Zhbi"
      },
      "source": [
        "## 평가"
      ]
    },
    {
      "cell_type": "code",
      "metadata": {
        "colab": {
          "base_uri": "https://localhost:8080/"
        },
        "id": "IEayBpfbZhbj",
        "outputId": "b29c7636-75ef-4f9e-fba2-901cd20e0522"
      },
      "source": [
        "# 모델 평가\n",
        "model.evaluate(train_inputs, train_labels)"
      ],
      "execution_count": null,
      "outputs": [
        {
          "output_type": "stream",
          "text": [
            "1/1 [==============================] - 0s 379ms/step - loss: 1.3709e-05 - accuracy: 1.0000\n"
          ],
          "name": "stdout"
        },
        {
          "output_type": "execute_result",
          "data": {
            "text/plain": [
              "[1.370897371089086e-05, 1.0]"
            ]
          },
          "metadata": {
            "tags": []
          },
          "execution_count": 78
        }
      ]
    },
    {
      "cell_type": "markdown",
      "metadata": {
        "id": "Vlt4WXgWZhbj"
      },
      "source": [
        "## 예측"
      ]
    },
    {
      "cell_type": "code",
      "metadata": {
        "id": "tvS1GqDhZhbj"
      },
      "source": [
        "# 추론할 입력\n",
        "string = '나는 기분이 우울해'"
      ],
      "execution_count": null,
      "outputs": []
    },
    {
      "cell_type": "code",
      "metadata": {
        "colab": {
          "base_uri": "https://localhost:8080/"
        },
        "id": "0EM08Z8vZhbj",
        "outputId": "1b3cb238-0a07-4985-b140-e67d5660b836"
      },
      "source": [
        "# 입력을 숫자로 변경\n",
        "infer_input = [word_to_id[word] for word in string.split()]\n",
        "infer_input"
      ],
      "execution_count": null,
      "outputs": [
        {
          "output_type": "execute_result",
          "data": {
            "text/plain": [
              "[2, 4, 6]"
            ]
          },
          "metadata": {
            "tags": []
          },
          "execution_count": 80
        }
      ]
    },
    {
      "cell_type": "code",
      "metadata": {
        "colab": {
          "base_uri": "https://localhost:8080/"
        },
        "id": "V18cJiq6Zhbj",
        "outputId": "6db3558d-b431-4386-b0e3-15c66a445d8e"
      },
      "source": [
        "# 문장의 길이를 모두 동일하게 변경 (최대길이 4)\n",
        "infer_input += [0] * (4 - len(infer_input))\n",
        "infer_input"
      ],
      "execution_count": null,
      "outputs": [
        {
          "output_type": "execute_result",
          "data": {
            "text/plain": [
              "[2, 4, 6, 0]"
            ]
          },
          "metadata": {
            "tags": []
          },
          "execution_count": 81
        }
      ]
    },
    {
      "cell_type": "code",
      "metadata": {
        "colab": {
          "base_uri": "https://localhost:8080/"
        },
        "id": "NonjgnZ1Zhbj",
        "outputId": "5e3a9cb9-2efb-4767-855c-e795a9bf6883"
      },
      "source": [
        "# numpy array 변환 (batch size 1 추가)\n",
        "infer_inputs = np.array([infer_input])\n",
        "infer_inputs"
      ],
      "execution_count": null,
      "outputs": [
        {
          "output_type": "execute_result",
          "data": {
            "text/plain": [
              "array([[2, 4, 6, 0]])"
            ]
          },
          "metadata": {
            "tags": []
          },
          "execution_count": 82
        }
      ]
    },
    {
      "cell_type": "code",
      "metadata": {
        "colab": {
          "base_uri": "https://localhost:8080/"
        },
        "id": "bF_ANe3WZhbj",
        "outputId": "d17a07d5-f440-41ad-b261-e05b9eb8a283"
      },
      "source": [
        "# 긍정/부정 추론\n",
        "y_preds = model.predict(infer_inputs)\n",
        "y_preds"
      ],
      "execution_count": null,
      "outputs": [
        {
          "output_type": "execute_result",
          "data": {
            "text/plain": [
              "array([[9.9997723e-01, 2.2782544e-05]], dtype=float32)"
            ]
          },
          "metadata": {
            "tags": []
          },
          "execution_count": 83
        }
      ]
    },
    {
      "cell_type": "code",
      "metadata": {
        "colab": {
          "base_uri": "https://localhost:8080/"
        },
        "id": "KDPL_ZzSZhbk",
        "outputId": "057b375a-0a75-4661-abd6-299fe764c80e"
      },
      "source": [
        "# 확률의 max 값을 추론 값으로 결정\n",
        "y_pred_class = np.argmax(y_preds, axis=1)\n",
        "y_pred_class"
      ],
      "execution_count": null,
      "outputs": [
        {
          "output_type": "execute_result",
          "data": {
            "text/plain": [
              "array([0])"
            ]
          },
          "metadata": {
            "tags": []
          },
          "execution_count": 84
        }
      ]
    },
    {
      "cell_type": "code",
      "metadata": {
        "colab": {
          "base_uri": "https://localhost:8080/"
        },
        "id": "8TBB3S9lZhbk",
        "outputId": "5fb7893b-4804-4b44-ea08-045c5a50ef05"
      },
      "source": [
        "# 각 예측 값에 대한 label string\n",
        "for val in y_pred_class:\n",
        "    print(val, ':', id_to_label[val])"
      ],
      "execution_count": null,
      "outputs": [
        {
          "output_type": "stream",
          "text": [
            "0 : 부정\n"
          ],
          "name": "stdout"
        }
      ]
    },
    {
      "cell_type": "code",
      "metadata": {
        "id": "pXW76LK5boFD"
      },
      "source": [
        ""
      ],
      "execution_count": null,
      "outputs": []
    }
  ]
}
