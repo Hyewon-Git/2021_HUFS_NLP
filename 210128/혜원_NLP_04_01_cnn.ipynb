{
  "nbformat": 4,
  "nbformat_minor": 0,
  "metadata": {
    "colab": {
      "name": "혜원-NLP-04-01-cnn.ipynb",
      "provenance": [],
      "collapsed_sections": [
        "0CdGEt7qettt"
      ],
      "include_colab_link": true
    },
    "kernelspec": {
      "name": "python3",
      "display_name": "Python 3"
    }
  },
  "cells": [
    {
      "cell_type": "markdown",
      "metadata": {
        "id": "view-in-github",
        "colab_type": "text"
      },
      "source": [
        "<a href=\"https://colab.research.google.com/github/Hyewon-Git/2021_HUFS_NLP/blob/main/%ED%98%9C%EC%9B%90_NLP_04_01_cnn.ipynb\" target=\"_parent\"><img src=\"https://colab.research.google.com/assets/colab-badge.svg\" alt=\"Open In Colab\"/></a>"
      ]
    },
    {
      "cell_type": "markdown",
      "metadata": {
        "id": "JHkHg6XAXoyK"
      },
      "source": [
        "# Evn"
      ]
    },
    {
      "cell_type": "code",
      "metadata": {
        "id": "WkYXFwcBXJDG"
      },
      "source": [
        "import os\n",
        "import random\n",
        "import shutil\n",
        "import json\n",
        "import zipfile\n",
        "import math\n",
        "import copy\n",
        "import collections\n",
        "import re\n",
        "\n",
        "import matplotlib.pyplot as plt\n",
        "import pandas as pd\n",
        "import numpy as np\n",
        "import tensorflow as tf\n",
        "import tensorflow.keras.backend as K\n",
        "\n",
        "from tqdm.notebook import tqdm"
      ],
      "execution_count": null,
      "outputs": []
    },
    {
      "cell_type": "code",
      "metadata": {
        "id": "nvjyruUlXtlR"
      },
      "source": [
        "# random seed initialize\n",
        "random_seed = 1234\n",
        "random.seed(random_seed)\n",
        "np.random.seed(random_seed)\n",
        "tf.random.set_seed(random_seed)"
      ],
      "execution_count": null,
      "outputs": []
    },
    {
      "cell_type": "code",
      "metadata": {
        "id": "BC3fXkhdYcYt",
        "colab": {
          "base_uri": "https://localhost:8080/"
        },
        "outputId": "ce835372-7155-4c9e-fc9c-8b4a96b14301"
      },
      "source": [
        "!nvidia-smi"
      ],
      "execution_count": null,
      "outputs": [
        {
          "output_type": "stream",
          "text": [
            "NVIDIA-SMI has failed because it couldn't communicate with the NVIDIA driver. Make sure that the latest NVIDIA driver is installed and running.\n",
            "\n"
          ],
          "name": "stdout"
        }
      ]
    },
    {
      "cell_type": "markdown",
      "metadata": {
        "id": "0CdGEt7qettt"
      },
      "source": [
        "# 입력 및 Vocab"
      ]
    },
    {
      "cell_type": "code",
      "metadata": {
        "id": "v_6blgOGetBN"
      },
      "source": [
        "# 입력 문장\n",
        "sentences = [\n",
        "    '나는 오늘 기분이 좋아 나는 오늘 우울해'\n",
        "]"
      ],
      "execution_count": null,
      "outputs": []
    },
    {
      "cell_type": "code",
      "metadata": {
        "colab": {
          "base_uri": "https://localhost:8080/"
        },
        "id": "jAWGyFfxe_p-",
        "outputId": "6c2c1c0d-8f7d-4c76-d099-b68304e3772e"
      },
      "source": [
        "# 각 문장을 띄어쓰기 단위로 분할\n",
        "words = []\n",
        "for sentence in sentences:\n",
        "    words.extend(sentence.split())\n",
        "\n",
        "# 중복 단어 제거\n",
        "words = list(dict.fromkeys(words))\n",
        "\n",
        "# 각 단어별 고유한 번호 부여\n",
        "word_to_id = {'[PAD]': 0, '[UNK]': 1}\n",
        "for word in words:\n",
        "    word_to_id[word] = len(word_to_id)\n",
        "\n",
        "# 각 숫자별 단어 부여\n",
        "id_to_word = {_id:word for word, _id in word_to_id.items()}\n",
        "\n",
        "word_to_id, id_to_word"
      ],
      "execution_count": null,
      "outputs": [
        {
          "output_type": "execute_result",
          "data": {
            "text/plain": [
              "({'[PAD]': 0, '[UNK]': 1, '기분이': 4, '나는': 2, '오늘': 3, '우울해': 6, '좋아': 5},\n",
              " {0: '[PAD]', 1: '[UNK]', 2: '나는', 3: '오늘', 4: '기분이', 5: '좋아', 6: '우울해'})"
            ]
          },
          "metadata": {
            "tags": []
          },
          "execution_count": 10
        }
      ]
    },
    {
      "cell_type": "code",
      "metadata": {
        "colab": {
          "base_uri": "https://localhost:8080/"
        },
        "id": "ywpz8iOsfVnx",
        "outputId": "edf36a85-ba68-4efc-e7fd-05522f64a194"
      },
      "source": [
        "# 학습용 입력 데이터 생성\n",
        "train_inputs = []\n",
        "for sentence in sentences:\n",
        "    train_inputs.append([word_to_id[word] for word in sentence.split()])\n",
        "\n",
        "# train inputs을 numpy array로 변환\n",
        "train_inputs = np.array(train_inputs)\n",
        "\n",
        "train_inputs"
      ],
      "execution_count": null,
      "outputs": [
        {
          "output_type": "execute_result",
          "data": {
            "text/plain": [
              "array([[2, 3, 4, 5, 2, 3, 6]])"
            ]
          },
          "metadata": {
            "tags": []
          },
          "execution_count": 11
        }
      ]
    },
    {
      "cell_type": "code",
      "metadata": {
        "id": "iNDl5yRU0kge"
      },
      "source": [
        "# embedding\n",
        "embedding = tf.keras.layers.Embedding(len(word_to_id), 4)"
      ],
      "execution_count": null,
      "outputs": []
    },
    {
      "cell_type": "code",
      "metadata": {
        "id": "YFwk2Fpo0ofW",
        "colab": {
          "base_uri": "https://localhost:8080/"
        },
        "outputId": "d465701f-8297-4ab7-88e9-811628ae9259"
      },
      "source": [
        "# 단어벡터가 만들어짐!!!\n",
        "hidden = embedding(train_inputs)\n",
        "hidden"
      ],
      "execution_count": null,
      "outputs": [
        {
          "output_type": "execute_result",
          "data": {
            "text/plain": [
              "<tf.Tensor: shape=(1, 7, 4), dtype=float32, numpy=\n",
              "array([[[-0.01098528,  0.0306937 , -0.00226969,  0.00098121],\n",
              "        [-0.02956598,  0.03029363,  0.0141835 ,  0.04274947],\n",
              "        [ 0.00848954,  0.0289362 ,  0.02202288, -0.01791685],\n",
              "        [ 0.04709952,  0.03384167,  0.0277797 ,  0.04307822],\n",
              "        [-0.01098528,  0.0306937 , -0.00226969,  0.00098121],\n",
              "        [-0.02956598,  0.03029363,  0.0141835 ,  0.04274947],\n",
              "        [-0.02606037, -0.04369395, -0.00189743, -0.02968305]]],\n",
              "      dtype=float32)>"
            ]
          },
          "metadata": {
            "tags": []
          },
          "execution_count": 13
        }
      ]
    },
    {
      "cell_type": "markdown",
      "metadata": {
        "id": "6lNZzsa1eg0F"
      },
      "source": [
        "# CNN"
      ]
    },
    {
      "cell_type": "markdown",
      "metadata": {
        "id": "Q2CeNAe7jF3F"
      },
      "source": [
        "## padding valid"
      ]
    },
    {
      "cell_type": "code",
      "metadata": {
        "id": "rETOG74Pf1T3"
      },
      "source": [
        "# CNN (padding valid)\r\n",
        "conv_1 = tf.keras.layers.Conv1D(filters = 5, kernel_size= 3, padding='valid') #기본값 다르게줘도 상관없"
      ],
      "execution_count": null,
      "outputs": []
    },
    {
      "cell_type": "code",
      "metadata": {
        "id": "4Nl4j9Z7gEn3",
        "colab": {
          "base_uri": "https://localhost:8080/"
        },
        "outputId": "4cdfc619-da0b-439c-a5a1-a9eb5d68547d"
      },
      "source": [
        "# CNN 실행\r\n",
        "output_1 = conv_1(hidden) # (bs, n_seq - kernel_size +1 , filters)\r\n",
        "output_1\r\n",
        "output_1.shape"
      ],
      "execution_count": null,
      "outputs": [
        {
          "output_type": "execute_result",
          "data": {
            "text/plain": [
              "TensorShape([1, 5, 5])"
            ]
          },
          "metadata": {
            "tags": []
          },
          "execution_count": 29
        }
      ]
    },
    {
      "cell_type": "code",
      "metadata": {
        "id": "RbuvYwJXgFB5",
        "colab": {
          "base_uri": "https://localhost:8080/"
        },
        "outputId": "43b1d120-2185-44a4-d7a6-d4769af93ca8"
      },
      "source": [
        "# weights \r\n",
        "weights = conv_1.get_weights()\r\n",
        "W = weights[0] \r\n",
        "b = weights[1] #bias\r\n",
        "print(W.shape) #(kernel_size , input_hidden, filters)\r\n",
        "print(b.shape) #(filters, )"
      ],
      "execution_count": null,
      "outputs": [
        {
          "output_type": "stream",
          "text": [
            "(3, 4, 5)\n",
            "(5,)\n"
          ],
          "name": "stdout"
        }
      ]
    },
    {
      "cell_type": "markdown",
      "metadata": {
        "id": "GIS2v8P-jUNT"
      },
      "source": [
        "## padding causal\n",
        "kernel size에 따라서 앞에 자동으로 padding(all zero)를 추가해서 길이를 맞춤"
      ]
    },
    {
      "cell_type": "code",
      "metadata": {
        "id": "yuq4V_MPjUNb"
      },
      "source": [
        "# CNN (padding causal)\r\n",
        "conv_2 = tf.keras.layers.Conv1D(filters = 5, kernel_size= 3, padding='causal')"
      ],
      "execution_count": null,
      "outputs": []
    },
    {
      "cell_type": "code",
      "metadata": {
        "id": "fzh7eRFJjUNc",
        "colab": {
          "base_uri": "https://localhost:8080/"
        },
        "outputId": "50c289fa-5211-4308-8d05-5462510edd44"
      },
      "source": [
        "# CNN 실행\r\n",
        "output_2 = conv_2(hidden) # (bs, n_seq , filters)\r\n",
        "output_2.shape"
      ],
      "execution_count": null,
      "outputs": [
        {
          "output_type": "execute_result",
          "data": {
            "text/plain": [
              "TensorShape([1, 7, 5])"
            ]
          },
          "metadata": {
            "tags": []
          },
          "execution_count": 32
        }
      ]
    },
    {
      "cell_type": "code",
      "metadata": {
        "id": "r_rBhuQ-jUNc",
        "colab": {
          "base_uri": "https://localhost:8080/"
        },
        "outputId": "1538f894-d4db-459c-9657-f9535765c159"
      },
      "source": [
        "# weights\r\n",
        "weights = conv_2.get_weights()\r\n",
        "W = weights[0] \r\n",
        "b = weights[1] #bias\r\n",
        "print(W.shape) #(kernel_size , input_hidden, filters)\r\n",
        "print(b.shape) #(filters, )"
      ],
      "execution_count": null,
      "outputs": [
        {
          "output_type": "stream",
          "text": [
            "(3, 4, 5)\n",
            "(5,)\n"
          ],
          "name": "stdout"
        }
      ]
    },
    {
      "cell_type": "markdown",
      "metadata": {
        "id": "fJqOKxgGjv_v"
      },
      "source": [
        "## padding same\n",
        "kernel size에 따라서 앞/뒤에 자동으로 padding(all zero)를 추가해서 길이를 맞춤"
      ]
    },
    {
      "cell_type": "code",
      "metadata": {
        "id": "L87zU1mYjwAA"
      },
      "source": [
        "# CNN (padding same)\r\n",
        "conv_3 = tf.keras.layers.Conv1D(filters = 5, kernel_size= 3, padding='same')"
      ],
      "execution_count": null,
      "outputs": []
    },
    {
      "cell_type": "code",
      "metadata": {
        "id": "Mz21iNxcjwAA",
        "colab": {
          "base_uri": "https://localhost:8080/"
        },
        "outputId": "cfd10ab7-e199-4c32-b955-92f862ab9eea"
      },
      "source": [
        "# CNN 실행\r\n",
        "output_3 = conv_3(hidden) # (bs, n_seq , filters)\r\n",
        "output_3.shape"
      ],
      "execution_count": null,
      "outputs": [
        {
          "output_type": "execute_result",
          "data": {
            "text/plain": [
              "TensorShape([1, 7, 5])"
            ]
          },
          "metadata": {
            "tags": []
          },
          "execution_count": 36
        }
      ]
    },
    {
      "cell_type": "code",
      "metadata": {
        "id": "RukWCPL9jwAB",
        "colab": {
          "base_uri": "https://localhost:8080/"
        },
        "outputId": "24070357-f0ae-4715-c88c-65347fe301d2"
      },
      "source": [
        "# weights\r\n",
        "weights = conv_3.get_weights()\r\n",
        "W = weights[0] \r\n",
        "b = weights[1] #bias\r\n",
        "print(W.shape) #(kernel_size , input_hidden, filters)\r\n",
        "print(b.shape) #(filters, )"
      ],
      "execution_count": null,
      "outputs": [
        {
          "output_type": "stream",
          "text": [
            "(3, 4, 5)\n",
            "(5,)\n"
          ],
          "name": "stdout"
        }
      ]
    },
    {
      "cell_type": "code",
      "metadata": {
        "id": "DIzQrFR5ooil"
      },
      "source": [
        "# >> padding종류를 바꾸는 것은 연산의 차이지 weight값에 영향을 끼치는 건 아니다!!!!!!!!!!"
      ],
      "execution_count": null,
      "outputs": []
    },
    {
      "cell_type": "markdown",
      "metadata": {
        "id": "fbrpX2_ckPY2"
      },
      "source": [
        "## dilation_rate\n",
        "kernel이 간격을 두고서 특징을 추출함"
      ]
    },
    {
      "cell_type": "code",
      "metadata": {
        "id": "f089nAQjkPY_"
      },
      "source": [
        "# CNN (padding valid, dilation_rate)\r\n",
        "conv_4 = tf.keras.layers.Conv1D(filters = 5, kernel_size=3, padding ='valid', dilation_rate=2)"
      ],
      "execution_count": null,
      "outputs": []
    },
    {
      "cell_type": "code",
      "metadata": {
        "id": "FCkUN0dKkPZA",
        "colab": {
          "base_uri": "https://localhost:8080/"
        },
        "outputId": "1ee03d38-f878-43e2-eb49-38e30123b643"
      },
      "source": [
        "# CNN 실행\r\n",
        "out_4 = conv_4(hidden) # (bs, n_seq - windowsize + 1, filters),  window_size = kernel_size + (kernel_size -1)*(dilation_rate-1)\r\n",
        "out_4.shape ##연산이 많아진것보다 넓게 볼수있다 저옫"
      ],
      "execution_count": null,
      "outputs": [
        {
          "output_type": "execute_result",
          "data": {
            "text/plain": [
              "TensorShape([1, 3, 5])"
            ]
          },
          "metadata": {
            "tags": []
          },
          "execution_count": 40
        }
      ]
    },
    {
      "cell_type": "code",
      "metadata": {
        "id": "jypo8LdmkPZA",
        "colab": {
          "base_uri": "https://localhost:8080/"
        },
        "outputId": "2177ba8a-ed97-4d35-aee5-1a2f1f68c989"
      },
      "source": [
        "# weights\r\n",
        "weights = conv_4.get_weights()\r\n",
        "W = weights[0] \r\n",
        "b = weights[1] #bias\r\n",
        "print(W.shape) #(kernel_size , input_hidden, filters)\r\n",
        "print(b.shape) #(filters, )"
      ],
      "execution_count": null,
      "outputs": [
        {
          "output_type": "stream",
          "text": [
            "(3, 4, 5)\n",
            "(5,)\n"
          ],
          "name": "stdout"
        }
      ]
    },
    {
      "cell_type": "markdown",
      "metadata": {
        "id": "4N6iZts6k4DI"
      },
      "source": [
        "## CNN 모델"
      ]
    },
    {
      "cell_type": "code",
      "metadata": {
        "id": "S3FMNrUjk_sy"
      },
      "source": [
        "def build_model(n_vocab, d_model, n_seq, n_out):\n",
        "    \"\"\"\n",
        "    CNN 모델\n",
        "    :param n_vocab: vocabulary 단어 수\n",
        "    :param d_model: 단어를 의미하는 벡터의 차원 수\n",
        "    :param n_seq: 문장길이 (단어 수)\n",
        "    :param n_out: 예측할 class 개수\n",
        "    \"\"\"\n",
        "    input = tf.keras.layers.Input(shape=(n_seq,))\n",
        "\n",
        "    embedding = tf.keras.layers.Embedding(n_vocab, d_model)  # (n_vocab , d_model)\n",
        "    hidden = embedding(input)  # (bs, 1, d_model)\n",
        "\n",
        "    #############################################\n",
        "    conv_1 = tf.keras.layers.Conv1D(filters = 128, kernel_size = 3, padding ='causal')  #원래 cnn은 줄어드느건데 안줄어들게하기 위해 padding을 넣는 ( causal/ same이 좀더 추가해주는거니깐)\n",
        "    hidden = conv_1(hidden)\n",
        "    conv_2 = tf.keras.layers.Conv1D(filters=64, kernel_size=3, padding='valid')\n",
        "    hidden = conv_2(hidden)\n",
        "    #점점더 많이 쌓을수있다  but---> 더 쌓는다해서 좋은지안좋은지 모름 비교불가함으로!!\n",
        "    #############################################\n",
        "\n",
        "    output = tf.keras.layers.Dense(n_out, activation=tf.nn.softmax)(hidden)  # (bs, 1, n_vocab)\n",
        "\n",
        "    model = tf.keras.Model(inputs=input, outputs=output)\n",
        "    return model"
      ],
      "execution_count": null,
      "outputs": []
    },
    {
      "cell_type": "code",
      "metadata": {
        "id": "2f7LVFmKlNDn",
        "colab": {
          "base_uri": "https://localhost:8080/",
          "height": 533
        },
        "outputId": "aeece7fb-4d42-4494-c622-872cd36496e6"
      },
      "source": [
        "# 모델 생성\n",
        "model = build_model(len(word_to_id), 8, 7, 3)\n",
        "# 모델 내용 그래프 출력\n",
        "tf.keras.utils.plot_model(model, 'model.png', show_shapes=True)"
      ],
      "execution_count": null,
      "outputs": [
        {
          "output_type": "execute_result",
          "data": {
            "image/png": "[encoded data removed]",
            "text/plain": [
              "<IPython.core.display.Image object>"
            ]
          },
          "metadata": {
            "tags": []
          },
          "execution_count": 51
        }
      ]
    },
    {
      "cell_type": "code",
      "metadata": {
        "id": "1XLwp9MLlUsf",
        "colab": {
          "base_uri": "https://localhost:8080/"
        },
        "outputId": "cd480aa9-ea1c-40f4-a030-8ded431590a8"
      },
      "source": [
        "model.predict(train_inputs)"
      ],
      "execution_count": null,
      "outputs": [
        {
          "output_type": "execute_result",
          "data": {
            "text/plain": [
              "array([[[0.50506765, 0.49493238],\n",
              "        [0.4952884 , 0.50471157],\n",
              "        [0.5032168 , 0.4967832 ],\n",
              "        [0.50993806, 0.49006194],\n",
              "        [0.5080435 , 0.4919565 ],\n",
              "        [0.4927127 , 0.5072873 ],\n",
              "        [0.5000675 , 0.49993247]]], dtype=float32)"
            ]
          },
          "metadata": {
            "tags": []
          },
          "execution_count": 47
        }
      ]
    },
    {
      "cell_type": "code",
      "metadata": {
        "id": "2MSNy-DdlZzf"
      },
      "source": [
        ""
      ],
      "execution_count": null,
      "outputs": []
    }
  ]
}
