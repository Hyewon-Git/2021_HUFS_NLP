{
  "nbformat": 4,
  "nbformat_minor": 0,
  "metadata": {
    "colab": {
      "name": "혜원-NLP-02-01-encoding.ipynb",
      "provenance": [],
      "collapsed_sections": [],
      "include_colab_link": true
    },
    "kernelspec": {
      "name": "python3",
      "display_name": "Python 3"
    }
  },
  "cells": [
    {
      "cell_type": "markdown",
      "metadata": {
        "id": "view-in-github",
        "colab_type": "text"
      },
      "source": [
        "<a href=\"https://colab.research.google.com/github/Hyewon-Git/2021_HUFS_NLP/blob/main/%ED%98%9C%EC%9B%90_NLP_02_01_encoding.ipynb\" target=\"_parent\"><img src=\"https://colab.research.google.com/assets/colab-badge.svg\" alt=\"Open In Colab\"/></a>"
      ]
    },
    {
      "cell_type": "markdown",
      "metadata": {
        "id": "JHkHg6XAXoyK"
      },
      "source": [
        "# Evn"
      ]
    },
    {
      "cell_type": "code",
      "metadata": {
        "id": "WkYXFwcBXJDG"
      },
      "source": [
        "import os\n",
        "import random\n",
        "import shutil\n",
        "import json\n",
        "import zipfile\n",
        "import math\n",
        "import copy\n",
        "import collections\n",
        "\n",
        "import matplotlib.pyplot as plt\n",
        "import pandas as pd\n",
        "import numpy as np\n",
        "import tensorflow as tf\n",
        "import tensorflow.keras.backend as K\n",
        "\n",
        "from tqdm.notebook import tqdm"
      ],
      "execution_count": null,
      "outputs": []
    },
    {
      "cell_type": "code",
      "metadata": {
        "id": "y4UYYozWQ4gP",
        "colab": {
          "base_uri": "https://localhost:8080/"
        },
        "outputId": "f4b4fb51-e116-4e33-eff6-99fd26fab2fe"
      },
      "source": [
        "{'key': 1}"
      ],
      "execution_count": null,
      "outputs": [
        {
          "output_type": "execute_result",
          "data": {
            "text/plain": [
              "{'key': 1}"
            ]
          },
          "metadata": {
            "tags": []
          },
          "execution_count": 2
        }
      ]
    },
    {
      "cell_type": "code",
      "metadata": {
        "id": "nvjyruUlXtlR"
      },
      "source": [
        "# random seed initialize\n",
        "random_seed = 1234\n",
        "random.seed(random_seed)\n",
        "np.random.seed(random_seed)"
      ],
      "execution_count": null,
      "outputs": []
    },
    {
      "cell_type": "markdown",
      "metadata": {
        "id": "mlEeZqo5MmS4"
      },
      "source": [
        "# One-hot"
      ]
    },
    {
      "cell_type": "code",
      "metadata": {
        "id": "2H0BLydCb7lg"
      },
      "source": [
        "# one hot encoding text\n",
        "text = \"\"\"나는 책을 샀다\n",
        "나는 책을 본다\n",
        "나는 책을 팔았다\n",
        "나는 책을 서점에서 샀다\n",
        "나는 책을 도서관에서 본다\"\"\""
      ],
      "execution_count": null,
      "outputs": []
    },
    {
      "cell_type": "code",
      "metadata": {
        "id": "kYkW9ulfMsJh",
        "colab": {
          "base_uri": "https://localhost:8080/"
        },
        "outputId": "4b406f60-7f6b-4cff-c11a-82c86a8db2fd"
      },
      "source": [
        "tokens = text.split()\n",
        "tokens"
      ],
      "execution_count": null,
      "outputs": [
        {
          "output_type": "execute_result",
          "data": {
            "text/plain": [
              "['나는',\n",
              " '책을',\n",
              " '샀다',\n",
              " '나는',\n",
              " '책을',\n",
              " '본다',\n",
              " '나는',\n",
              " '책을',\n",
              " '팔았다',\n",
              " '나는',\n",
              " '책을',\n",
              " '서점에서',\n",
              " '샀다',\n",
              " '나는',\n",
              " '책을',\n",
              " '도서관에서',\n",
              " '본다']"
            ]
          },
          "metadata": {
            "tags": []
          },
          "execution_count": 5
        }
      ]
    },
    {
      "cell_type": "code",
      "metadata": {
        "id": "fBy3trarM9K6",
        "colab": {
          "base_uri": "https://localhost:8080/"
        },
        "outputId": "ed3725fa-39eb-4d44-ce8f-d55a5bb82c7c"
      },
      "source": [
        "words = list(dict.fromkeys(tokens))\n",
        "words"
      ],
      "execution_count": null,
      "outputs": [
        {
          "output_type": "execute_result",
          "data": {
            "text/plain": [
              "['나는', '책을', '샀다', '본다', '팔았다', '서점에서', '도서관에서']"
            ]
          },
          "metadata": {
            "tags": []
          },
          "execution_count": 6
        }
      ]
    },
    {
      "cell_type": "code",
      "metadata": {
        "id": "DSndx7RxNDyR",
        "colab": {
          "base_uri": "https://localhost:8080/"
        },
        "outputId": "8e71b72b-0ef5-4c50-8b69-ee24bf63c3e5"
      },
      "source": [
        "# 각 단어에 고유한 번호 부여한 dictionary 생성\n",
        "word_to_id = {'[PAD]': 0, '[UNK]': 1}  # [PAD]: 길이 맞추는 용도, [UNK]: 알 수 없는 token\n",
        "for word in words:\n",
        "    word_to_id[word] = len(word_to_id)\n",
        "word_to_id"
      ],
      "execution_count": null,
      "outputs": [
        {
          "output_type": "execute_result",
          "data": {
            "text/plain": [
              "{'[PAD]': 0,\n",
              " '[UNK]': 1,\n",
              " '나는': 2,\n",
              " '도서관에서': 8,\n",
              " '본다': 5,\n",
              " '샀다': 4,\n",
              " '서점에서': 7,\n",
              " '책을': 3,\n",
              " '팔았다': 6}"
            ]
          },
          "metadata": {
            "tags": []
          },
          "execution_count": 12
        }
      ]
    },
    {
      "cell_type": "code",
      "metadata": {
        "id": "hyxX8P0UNogt",
        "colab": {
          "base_uri": "https://localhost:8080/"
        },
        "outputId": "38c48d28-93e1-43eb-d4d7-5fb680cd3bf1"
      },
      "source": [
        "# 고유한 번호로 부터 단어를 찾을 수 있는 dictionary 생성\n",
        "id_to_word = {word:_id for _id, word in word_to_id.items()}\n",
        "id_to_word"
      ],
      "execution_count": null,
      "outputs": [
        {
          "output_type": "execute_result",
          "data": {
            "text/plain": [
              "{0: '[PAD]',\n",
              " 1: '[UNK]',\n",
              " 2: '나는',\n",
              " 3: '책을',\n",
              " 4: '샀다',\n",
              " 5: '본다',\n",
              " 6: '팔았다',\n",
              " 7: '서점에서',\n",
              " 8: '도서관에서'}"
            ]
          },
          "metadata": {
            "tags": []
          },
          "execution_count": 13
        }
      ]
    },
    {
      "cell_type": "code",
      "metadata": {
        "id": "EH8CnhmuN4Ev",
        "colab": {
          "base_uri": "https://localhost:8080/"
        },
        "outputId": "5ad0c7b4-7cde-4e62-a8fc-419bd15ac9cb"
      },
      "source": [
        "# 줄바꿈 단위로 문장 분리\n",
        "sentences = text.split(\"\\n\")\n",
        "sentences"
      ],
      "execution_count": null,
      "outputs": [
        {
          "output_type": "execute_result",
          "data": {
            "text/plain": [
              "['나는 책을 샀다', '나는 책을 본다', '나는 책을 팔았다', '나는 책을 서점에서 샀다', '나는 책을 도서관에서 본다']"
            ]
          },
          "metadata": {
            "tags": []
          },
          "execution_count": 14
        }
      ]
    },
    {
      "cell_type": "code",
      "metadata": {
        "id": "q330mF5IN6Q-",
        "colab": {
          "base_uri": "https://localhost:8080/"
        },
        "outputId": "018ff312-2cee-448a-b556-f00eed1b00c3"
      },
      "source": [
        "# 띄어쓰기 단위로 단어 분리\n",
        "tokens = []\n",
        "for sentence in sentences:\n",
        "    tokens.append(sentence.split())\n",
        "tokens"
      ],
      "execution_count": null,
      "outputs": [
        {
          "output_type": "execute_result",
          "data": {
            "text/plain": [
              "[['나는', '책을', '샀다'],\n",
              " ['나는', '책을', '본다'],\n",
              " ['나는', '책을', '팔았다'],\n",
              " ['나는', '책을', '서점에서', '샀다'],\n",
              " ['나는', '책을', '도서관에서', '본다']]"
            ]
          },
          "metadata": {
            "tags": []
          },
          "execution_count": 15
        }
      ]
    },
    {
      "cell_type": "code",
      "metadata": {
        "id": "4mJPXOBJOOuw",
        "colab": {
          "base_uri": "https://localhost:8080/"
        },
        "outputId": "609e7389-75bd-4005-f104-402fcdd6bce0"
      },
      "source": [
        "# tokens을 vocabulary의 고유 번호로 변경\n",
        "token_ids = []\n",
        "for line_token in tokens:\n",
        "    token_ids.append([word_to_id[token] for token in line_token])\n",
        "token_ids"
      ],
      "execution_count": null,
      "outputs": [
        {
          "output_type": "execute_result",
          "data": {
            "text/plain": [
              "[[2, 3, 4], [2, 3, 5], [2, 3, 6], [2, 3, 7, 4], [2, 3, 8, 5]]"
            ]
          },
          "metadata": {
            "tags": []
          },
          "execution_count": 16
        }
      ]
    },
    {
      "cell_type": "code",
      "metadata": {
        "id": "qpL1RtY7OS1p",
        "colab": {
          "base_uri": "https://localhost:8080/"
        },
        "outputId": "7bc2e98e-cf1e-4af7-d9e7-336a1e02f476"
      },
      "source": [
        "# one hot encoding\n",
        "one_hot_encodings = []\n",
        "for line_token in token_ids:\n",
        "    print(line_token)\n",
        "    one_hot_line = []  # 한 줄을 표현하는 벡터\n",
        "    for id in line_token:\n",
        "        ################################\n",
        "        one_hot = [0] *len(word_to_id) #모두 0인 벡터를 만듬\n",
        "        one_hot[id] =1\n",
        "        print( id, one_hot)\n",
        "        one_hot_line.append((one_hot))\n",
        "        ################################\n",
        "    one_hot_encodings.append((one_hot_line))  # 라인을 전체 문서에 추가"
      ],
      "execution_count": null,
      "outputs": [
        {
          "output_type": "stream",
          "text": [
            "[2, 3, 4]\n",
            "2 [0, 0, 1, 0, 0, 0, 0, 0, 0]\n",
            "3 [0, 0, 0, 1, 0, 0, 0, 0, 0]\n",
            "4 [0, 0, 0, 0, 1, 0, 0, 0, 0]\n",
            "[2, 3, 5]\n",
            "2 [0, 0, 1, 0, 0, 0, 0, 0, 0]\n",
            "3 [0, 0, 0, 1, 0, 0, 0, 0, 0]\n",
            "5 [0, 0, 0, 0, 0, 1, 0, 0, 0]\n",
            "[2, 3, 6]\n",
            "2 [0, 0, 1, 0, 0, 0, 0, 0, 0]\n",
            "3 [0, 0, 0, 1, 0, 0, 0, 0, 0]\n",
            "6 [0, 0, 0, 0, 0, 0, 1, 0, 0]\n",
            "[2, 3, 7, 4]\n",
            "2 [0, 0, 1, 0, 0, 0, 0, 0, 0]\n",
            "3 [0, 0, 0, 1, 0, 0, 0, 0, 0]\n",
            "7 [0, 0, 0, 0, 0, 0, 0, 1, 0]\n",
            "4 [0, 0, 0, 0, 1, 0, 0, 0, 0]\n",
            "[2, 3, 8, 5]\n",
            "2 [0, 0, 1, 0, 0, 0, 0, 0, 0]\n",
            "3 [0, 0, 0, 1, 0, 0, 0, 0, 0]\n",
            "8 [0, 0, 0, 0, 0, 0, 0, 0, 1]\n",
            "5 [0, 0, 0, 0, 0, 1, 0, 0, 0]\n"
          ],
          "name": "stdout"
        }
      ]
    },
    {
      "cell_type": "code",
      "metadata": {
        "id": "USRtIkT4-PUP",
        "colab": {
          "base_uri": "https://localhost:8080/"
        },
        "outputId": "9023b1db-0a7b-47f0-d3d8-b4b590e9069f"
      },
      "source": [
        "one_hot_encodings"
      ],
      "execution_count": null,
      "outputs": [
        {
          "output_type": "execute_result",
          "data": {
            "text/plain": [
              "[[[0, 0, 1, 0, 0, 0, 0, 0, 0],\n",
              "  [0, 0, 0, 1, 0, 0, 0, 0, 0],\n",
              "  [0, 0, 0, 0, 1, 0, 0, 0, 0]],\n",
              " [[0, 0, 1, 0, 0, 0, 0, 0, 0],\n",
              "  [0, 0, 0, 1, 0, 0, 0, 0, 0],\n",
              "  [0, 0, 0, 0, 0, 1, 0, 0, 0]],\n",
              " [[0, 0, 1, 0, 0, 0, 0, 0, 0],\n",
              "  [0, 0, 0, 1, 0, 0, 0, 0, 0],\n",
              "  [0, 0, 0, 0, 0, 0, 1, 0, 0]],\n",
              " [[0, 0, 1, 0, 0, 0, 0, 0, 0],\n",
              "  [0, 0, 0, 1, 0, 0, 0, 0, 0],\n",
              "  [0, 0, 0, 0, 0, 0, 0, 1, 0],\n",
              "  [0, 0, 0, 0, 1, 0, 0, 0, 0]],\n",
              " [[0, 0, 1, 0, 0, 0, 0, 0, 0],\n",
              "  [0, 0, 0, 1, 0, 0, 0, 0, 0],\n",
              "  [0, 0, 0, 0, 0, 0, 0, 0, 1],\n",
              "  [0, 0, 0, 0, 0, 1, 0, 0, 0]]]"
            ]
          },
          "metadata": {
            "tags": []
          },
          "execution_count": 21
        }
      ]
    },
    {
      "cell_type": "code",
      "metadata": {
        "colab": {
          "base_uri": "https://localhost:8080/"
        },
        "id": "HAd6UtzJU9ol",
        "outputId": "f067ecf8-8916-4f13-d8c0-f2bb8313958e"
      },
      "source": [
        "##??????????????????\r\n",
        "np.argmax(np.array(one_hot_encodings[4]),axis=-1)"
      ],
      "execution_count": null,
      "outputs": [
        {
          "output_type": "execute_result",
          "data": {
            "text/plain": [
              "array([2, 3, 8, 5])"
            ]
          },
          "metadata": {
            "tags": []
          },
          "execution_count": 23
        }
      ]
    },
    {
      "cell_type": "code",
      "metadata": {
        "id": "k_29J14jOtYq"
      },
      "source": [
        "# tensorflow one hot\n",
        "# token_ids가 앞 3개는 길이가 3 이지만 이후는 4로 tensorflow에서는 오류 발생 함 (비교대상 길이가같아야함)\n",
        "# depth는 vocabulary 크기\n",
        "#############################\n",
        "tf.one_hot(indices=token_ids, depth=len(word_to_id))\n",
        "#############################"
      ],
      "execution_count": null,
      "outputs": []
    },
    {
      "cell_type": "code",
      "metadata": {
        "colab": {
          "base_uri": "https://localhost:8080/"
        },
        "id": "3OvgiipUVc0Y",
        "outputId": "794be515-4fef-4cad-9e64-fd2a51a480f2"
      },
      "source": [
        "token_ids[:3]"
      ],
      "execution_count": null,
      "outputs": [
        {
          "output_type": "execute_result",
          "data": {
            "text/plain": [
              "[[2, 3, 4], [2, 3, 5], [2, 3, 6]]"
            ]
          },
          "metadata": {
            "tags": []
          },
          "execution_count": 25
        }
      ]
    },
    {
      "cell_type": "code",
      "metadata": {
        "id": "pMh8KXVbZ55a",
        "colab": {
          "base_uri": "https://localhost:8080/"
        },
        "outputId": "0c0108e4-4343-4a9a-e521-619975e7b579"
      },
      "source": [
        "# token_ids가 앞 3개개만 one_hot으로 변경\n",
        "#############################\n",
        "tf.one_hot(indices=token_ids[:3], depth=len(word_to_id))\n",
        "#############################"
      ],
      "execution_count": null,
      "outputs": [
        {
          "output_type": "execute_result",
          "data": {
            "text/plain": [
              "<tf.Tensor: shape=(3, 3, 9), dtype=float32, numpy=\n",
              "array([[[0., 0., 1., 0., 0., 0., 0., 0., 0.],\n",
              "        [0., 0., 0., 1., 0., 0., 0., 0., 0.],\n",
              "        [0., 0., 0., 0., 1., 0., 0., 0., 0.]],\n",
              "\n",
              "       [[0., 0., 1., 0., 0., 0., 0., 0., 0.],\n",
              "        [0., 0., 0., 1., 0., 0., 0., 0., 0.],\n",
              "        [0., 0., 0., 0., 0., 1., 0., 0., 0.]],\n",
              "\n",
              "       [[0., 0., 1., 0., 0., 0., 0., 0., 0.],\n",
              "        [0., 0., 0., 1., 0., 0., 0., 0., 0.],\n",
              "        [0., 0., 0., 0., 0., 0., 1., 0., 0.]]], dtype=float32)>"
            ]
          },
          "metadata": {
            "tags": []
          },
          "execution_count": 27
        }
      ]
    },
    {
      "cell_type": "code",
      "metadata": {
        "id": "xWmcI_-YaMmc",
        "colab": {
          "base_uri": "https://localhost:8080/"
        },
        "outputId": "290e584b-5339-4982-d9df-725c30ee784e"
      },
      "source": [
        "# 모두 길이가 4가 되도록 pad(0) 추가\n",
        "pad_ids = []\n",
        "for line in token_ids:\n",
        "    line = line[:4]  #4개보다 긴개있다 --> 길이가길경우 자른다\n",
        "    line += [0] * (4 - len(line)) #길이가 짧을경우 0을 붙여준다\n",
        "    pad_ids.append(line)\n",
        "pad_ids"
      ],
      "execution_count": null,
      "outputs": [
        {
          "output_type": "execute_result",
          "data": {
            "text/plain": [
              "[[2, 3, 4, 0], [2, 3, 5, 0], [2, 3, 6, 0], [2, 3, 7, 4], [2, 3, 8, 5]]"
            ]
          },
          "metadata": {
            "tags": []
          },
          "execution_count": 28
        }
      ]
    },
    {
      "cell_type": "code",
      "metadata": {
        "id": "QVNudJ4-aT7c",
        "colab": {
          "base_uri": "https://localhost:8080/"
        },
        "outputId": "f7fb19c6-f324-4cc6-abec-26cee78ba60b"
      },
      "source": [
        "#############################\n",
        "tf_one_hot_encodings = tf.one_hot(indices=pad_ids, depth=len(word_to_id))\n",
        "tf_one_hot_encodings\n",
        "#############################"
      ],
      "execution_count": null,
      "outputs": [
        {
          "output_type": "execute_result",
          "data": {
            "text/plain": [
              "<tf.Tensor: shape=(5, 4, 9), dtype=float32, numpy=\n",
              "array([[[0., 0., 1., 0., 0., 0., 0., 0., 0.],\n",
              "        [0., 0., 0., 1., 0., 0., 0., 0., 0.],\n",
              "        [0., 0., 0., 0., 1., 0., 0., 0., 0.],\n",
              "        [1., 0., 0., 0., 0., 0., 0., 0., 0.]],\n",
              "\n",
              "       [[0., 0., 1., 0., 0., 0., 0., 0., 0.],\n",
              "        [0., 0., 0., 1., 0., 0., 0., 0., 0.],\n",
              "        [0., 0., 0., 0., 0., 1., 0., 0., 0.],\n",
              "        [1., 0., 0., 0., 0., 0., 0., 0., 0.]],\n",
              "\n",
              "       [[0., 0., 1., 0., 0., 0., 0., 0., 0.],\n",
              "        [0., 0., 0., 1., 0., 0., 0., 0., 0.],\n",
              "        [0., 0., 0., 0., 0., 0., 1., 0., 0.],\n",
              "        [1., 0., 0., 0., 0., 0., 0., 0., 0.]],\n",
              "\n",
              "       [[0., 0., 1., 0., 0., 0., 0., 0., 0.],\n",
              "        [0., 0., 0., 1., 0., 0., 0., 0., 0.],\n",
              "        [0., 0., 0., 0., 0., 0., 0., 1., 0.],\n",
              "        [0., 0., 0., 0., 1., 0., 0., 0., 0.]],\n",
              "\n",
              "       [[0., 0., 1., 0., 0., 0., 0., 0., 0.],\n",
              "        [0., 0., 0., 1., 0., 0., 0., 0., 0.],\n",
              "        [0., 0., 0., 0., 0., 0., 0., 0., 1.],\n",
              "        [0., 0., 0., 0., 0., 1., 0., 0., 0.]]], dtype=float32)>"
            ]
          },
          "metadata": {
            "tags": []
          },
          "execution_count": 29
        }
      ]
    },
    {
      "cell_type": "markdown",
      "metadata": {
        "id": "GXCMJU7APHuz"
      },
      "source": [
        "# Embedding"
      ]
    },
    {
      "cell_type": "code",
      "metadata": {
        "id": "f6VeeYocPF08",
        "colab": {
          "base_uri": "https://localhost:8080/"
        },
        "outputId": "23ea6ebb-5cb2-4ae9-ee52-bfc1b9cb42f3"
      },
      "source": [
        "# 랜덤 매트릭스 생성\n",
        "weights = np.random.randint(10, 100, size=(len(word_to_id), 4)) / 100\n",
        "weights"
      ],
      "execution_count": null,
      "outputs": [
        {
          "output_type": "execute_result",
          "data": {
            "text/plain": [
              "array([[0.57, 0.93, 0.48, 0.63],\n",
              "       [0.86, 0.34, 0.25, 0.59],\n",
              "       [0.33, 0.36, 0.4 , 0.53],\n",
              "       [0.4 , 0.36, 0.68, 0.79],\n",
              "       [0.9 , 0.83, 0.57, 0.6 ],\n",
              "       [0.86, 0.47, 0.44, 0.48],\n",
              "       [0.77, 0.21, 0.1 , 0.85],\n",
              "       [0.9 , 0.13, 0.12, 0.29],\n",
              "       [0.22, 0.75, 0.85, 0.91]])"
            ]
          },
          "metadata": {
            "tags": []
          },
          "execution_count": 30
        }
      ]
    },
    {
      "cell_type": "code",
      "metadata": {
        "id": "LYAhl1d2PdiP",
        "colab": {
          "base_uri": "https://localhost:8080/"
        },
        "outputId": "0e067a7f-2751-43c5-ca7e-1ac2fb85dc22"
      },
      "source": [
        "# 첫번째 문장 만 numpy array로 변경\n",
        "one_hot_encoding_0 = np.array(one_hot_encodings[0])\n",
        "one_hot_encoding_0"
      ],
      "execution_count": null,
      "outputs": [
        {
          "output_type": "execute_result",
          "data": {
            "text/plain": [
              "array([[0, 0, 1, 0, 0, 0, 0, 0, 0],\n",
              "       [0, 0, 0, 1, 0, 0, 0, 0, 0],\n",
              "       [0, 0, 0, 0, 1, 0, 0, 0, 0]])"
            ]
          },
          "metadata": {
            "tags": []
          },
          "execution_count": 31
        }
      ]
    },
    {
      "cell_type": "code",
      "metadata": {
        "id": "cFSdqtaZPuow",
        "colab": {
          "base_uri": "https://localhost:8080/"
        },
        "outputId": "662ad8b0-e171-4981-cd2d-8c4efe2ace80"
      },
      "source": [
        "print(token_ids[0])\n",
        "print(weights[token_ids[0][0]])\n",
        "print(weights[token_ids[0][1]])\n",
        "print(weights[token_ids[0][2]])"
      ],
      "execution_count": null,
      "outputs": [
        {
          "output_type": "stream",
          "text": [
            "[2, 3, 4]\n",
            "[0.33 0.36 0.4  0.53]\n",
            "[0.4  0.36 0.68 0.79]\n",
            "[0.9  0.83 0.57 0.6 ]\n"
          ],
          "name": "stdout"
        }
      ]
    },
    {
      "cell_type": "code",
      "metadata": {
        "id": "c1cG1z10Piv_",
        "colab": {
          "base_uri": "https://localhost:8080/"
        },
        "outputId": "db51131e-6f05-4241-ea9c-15183b1367bc"
      },
      "source": [
        "# one hot encoding은 matrix의 특정 row를 선택하는 것과 같은 결과\n",
        "#matmul를사용해 값이 같은지 확인함\n",
        "##################\n",
        "np.matmul(one_hot_encoding_0, weights)\n",
        "##################"
      ],
      "execution_count": null,
      "outputs": [
        {
          "output_type": "execute_result",
          "data": {
            "text/plain": [
              "array([[0.33, 0.36, 0.4 , 0.53],\n",
              "       [0.4 , 0.36, 0.68, 0.79],\n",
              "       [0.9 , 0.83, 0.57, 0.6 ]])"
            ]
          },
          "metadata": {
            "tags": []
          },
          "execution_count": 33
        }
      ]
    },
    {
      "cell_type": "code",
      "metadata": {
        "id": "sQbf_h5TP_Ra"
      },
      "source": [
        "# tensorflow 에서도 tf.keras.layers.Embedding에서도 가능 함\n",
        "# weights 초기화를 위해서 [matrix] 형태로 변환함\n",
        "# embdding을 사용하면 token 번호를 바로 사용가능 함 현재 표준화된 방법\n",
        "embedding = tf.keras.layers.Embedding(len(word_to_id), 4, weights=[weights])\n",
        "#위에서 만든 wegith로 embedding에 초기값으로 넣어줌! 잘만든 weight가 있다면 지정해서 초기값으로 넣어줘도됌"
      ],
      "execution_count": null,
      "outputs": []
    },
    {
      "cell_type": "code",
      "metadata": {
        "id": "qdPq5DDUQQwv",
        "colab": {
          "base_uri": "https://localhost:8080/"
        },
        "outputId": "a7cff917-8098-4cce-bde1-8b06b5ba408a"
      },
      "source": [
        "embedding(np.array(token_ids[0]))"
      ],
      "execution_count": null,
      "outputs": [
        {
          "output_type": "execute_result",
          "data": {
            "text/plain": [
              "<tf.Tensor: shape=(3, 4), dtype=float32, numpy=\n",
              "array([[0.33, 0.36, 0.4 , 0.53],\n",
              "       [0.4 , 0.36, 0.68, 0.79],\n",
              "       [0.9 , 0.83, 0.57, 0.6 ]], dtype=float32)>"
            ]
          },
          "metadata": {
            "tags": []
          },
          "execution_count": 35
        }
      ]
    },
    {
      "cell_type": "code",
      "metadata": {
        "colab": {
          "base_uri": "https://localhost:8080/"
        },
        "id": "_OhVmgeRYUTS",
        "outputId": "738b0e2b-249e-4882-a342-6fb17e726772"
      },
      "source": [
        "#token_ids는 숫자 // onehot은 특별경우가아니면 쓰지않음!! embedding이나 gather은 onehot쓸필요 ㄴ\r\n",
        "token_ids[0]"
      ],
      "execution_count": null,
      "outputs": [
        {
          "output_type": "execute_result",
          "data": {
            "text/plain": [
              "[2, 3, 4]"
            ]
          },
          "metadata": {
            "tags": []
          },
          "execution_count": 37
        }
      ]
    },
    {
      "cell_type": "code",
      "metadata": {
        "id": "C0DjjJuDQW1U",
        "colab": {
          "base_uri": "https://localhost:8080/"
        },
        "outputId": "7752d6d5-f4e0-44fd-f230-a80cd4fce2d6"
      },
      "source": [
        "##################\n",
        "#embedding을 못쓸경우 >>> gather로 대신쓸수있다!!!!\n",
        "tf.gather(weights, np.array(token_ids[0]))\n",
        "##################"
      ],
      "execution_count": null,
      "outputs": [
        {
          "output_type": "execute_result",
          "data": {
            "text/plain": [
              "<tf.Tensor: shape=(3, 4), dtype=float64, numpy=\n",
              "array([[0.33, 0.36, 0.4 , 0.53],\n",
              "       [0.4 , 0.36, 0.68, 0.79],\n",
              "       [0.9 , 0.83, 0.57, 0.6 ]])>"
            ]
          },
          "metadata": {
            "tags": []
          },
          "execution_count": 36
        }
      ]
    },
    {
      "cell_type": "code",
      "metadata": {
        "id": "NVjo8R-Ia9vi"
      },
      "source": [
        ""
      ],
      "execution_count": null,
      "outputs": []
    }
  ]
}
