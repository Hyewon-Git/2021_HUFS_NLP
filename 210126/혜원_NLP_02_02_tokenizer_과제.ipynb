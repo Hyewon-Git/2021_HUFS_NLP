{
  "nbformat": 4,
  "nbformat_minor": 0,
  "metadata": {
    "colab": {
      "name": "혜원-NLP-02-02-tokenizer-과제.ipynb",
      "provenance": [],
      "collapsed_sections": [
        "6dfJPT-2XMTB"
      ],
      "include_colab_link": true
    },
    "kernelspec": {
      "name": "python3",
      "display_name": "Python 3"
    }
  },
  "cells": [
    {
      "cell_type": "markdown",
      "metadata": {
        "id": "view-in-github",
        "colab_type": "text"
      },
      "source": [
        "<a href=\"https://colab.research.google.com/github/Hyewon-Git/2021_HUFS_NLP/blob/main/%ED%98%9C%EC%9B%90_NLP_02_02_tokenizer_%EA%B3%BC%EC%A0%9C.ipynb\" target=\"_parent\"><img src=\"https://colab.research.google.com/assets/colab-badge.svg\" alt=\"Open In Colab\"/></a>"
      ]
    },
    {
      "cell_type": "markdown",
      "metadata": {
        "id": "6dfJPT-2XMTB"
      },
      "source": [
        "# Install"
      ]
    },
    {
      "cell_type": "code",
      "metadata": {
        "colab": {
          "base_uri": "https://localhost:8080/"
        },
        "id": "a193aGJWVaqb",
        "outputId": "690390fc-026f-4395-93d3-fdabe8b970bc"
      },
      "source": [
        "!pip install sentencepiece"
      ],
      "execution_count": null,
      "outputs": [
        {
          "output_type": "stream",
          "text": [
            "Collecting sentencepiece\n",
            "\u001b[?25l  Downloading https://files.pythonhosted.org/packages/14/67/e42bd1181472c95c8cda79305df848264f2a7f62740995a46945d9797b67/sentencepiece-0.1.95-cp36-cp36m-manylinux2014_x86_64.whl (1.2MB)\n",
            "\r\u001b[K     |▎                               | 10kB 15.7MB/s eta 0:00:01\r\u001b[K     |▌                               | 20kB 10.3MB/s eta 0:00:01\r\u001b[K     |▉                               | 30kB 8.3MB/s eta 0:00:01\r\u001b[K     |█                               | 40kB 7.4MB/s eta 0:00:01\r\u001b[K     |█▍                              | 51kB 4.3MB/s eta 0:00:01\r\u001b[K     |█▋                              | 61kB 4.9MB/s eta 0:00:01\r\u001b[K     |██                              | 71kB 5.0MB/s eta 0:00:01\r\u001b[K     |██▏                             | 81kB 5.2MB/s eta 0:00:01\r\u001b[K     |██▌                             | 92kB 5.6MB/s eta 0:00:01\r\u001b[K     |██▊                             | 102kB 5.7MB/s eta 0:00:01\r\u001b[K     |███                             | 112kB 5.7MB/s eta 0:00:01\r\u001b[K     |███▎                            | 122kB 5.7MB/s eta 0:00:01\r\u001b[K     |███▌                            | 133kB 5.7MB/s eta 0:00:01\r\u001b[K     |███▉                            | 143kB 5.7MB/s eta 0:00:01\r\u001b[K     |████                            | 153kB 5.7MB/s eta 0:00:01\r\u001b[K     |████▍                           | 163kB 5.7MB/s eta 0:00:01\r\u001b[K     |████▋                           | 174kB 5.7MB/s eta 0:00:01\r\u001b[K     |█████                           | 184kB 5.7MB/s eta 0:00:01\r\u001b[K     |█████▏                          | 194kB 5.7MB/s eta 0:00:01\r\u001b[K     |█████▌                          | 204kB 5.7MB/s eta 0:00:01\r\u001b[K     |█████▊                          | 215kB 5.7MB/s eta 0:00:01\r\u001b[K     |██████                          | 225kB 5.7MB/s eta 0:00:01\r\u001b[K     |██████▎                         | 235kB 5.7MB/s eta 0:00:01\r\u001b[K     |██████▌                         | 245kB 5.7MB/s eta 0:00:01\r\u001b[K     |██████▉                         | 256kB 5.7MB/s eta 0:00:01\r\u001b[K     |███████                         | 266kB 5.7MB/s eta 0:00:01\r\u001b[K     |███████▍                        | 276kB 5.7MB/s eta 0:00:01\r\u001b[K     |███████▋                        | 286kB 5.7MB/s eta 0:00:01\r\u001b[K     |████████                        | 296kB 5.7MB/s eta 0:00:01\r\u001b[K     |████████▏                       | 307kB 5.7MB/s eta 0:00:01\r\u001b[K     |████████▍                       | 317kB 5.7MB/s eta 0:00:01\r\u001b[K     |████████▊                       | 327kB 5.7MB/s eta 0:00:01\r\u001b[K     |█████████                       | 337kB 5.7MB/s eta 0:00:01\r\u001b[K     |█████████▎                      | 348kB 5.7MB/s eta 0:00:01\r\u001b[K     |█████████▌                      | 358kB 5.7MB/s eta 0:00:01\r\u001b[K     |█████████▉                      | 368kB 5.7MB/s eta 0:00:01\r\u001b[K     |██████████                      | 378kB 5.7MB/s eta 0:00:01\r\u001b[K     |██████████▍                     | 389kB 5.7MB/s eta 0:00:01\r\u001b[K     |██████████▋                     | 399kB 5.7MB/s eta 0:00:01\r\u001b[K     |███████████                     | 409kB 5.7MB/s eta 0:00:01\r\u001b[K     |███████████▏                    | 419kB 5.7MB/s eta 0:00:01\r\u001b[K     |███████████▍                    | 430kB 5.7MB/s eta 0:00:01\r\u001b[K     |███████████▊                    | 440kB 5.7MB/s eta 0:00:01\r\u001b[K     |████████████                    | 450kB 5.7MB/s eta 0:00:01\r\u001b[K     |████████████▎                   | 460kB 5.7MB/s eta 0:00:01\r\u001b[K     |████████████▌                   | 471kB 5.7MB/s eta 0:00:01\r\u001b[K     |████████████▉                   | 481kB 5.7MB/s eta 0:00:01\r\u001b[K     |█████████████                   | 491kB 5.7MB/s eta 0:00:01\r\u001b[K     |█████████████▍                  | 501kB 5.7MB/s eta 0:00:01\r\u001b[K     |█████████████▋                  | 512kB 5.7MB/s eta 0:00:01\r\u001b[K     |█████████████▉                  | 522kB 5.7MB/s eta 0:00:01\r\u001b[K     |██████████████▏                 | 532kB 5.7MB/s eta 0:00:01\r\u001b[K     |██████████████▍                 | 542kB 5.7MB/s eta 0:00:01\r\u001b[K     |██████████████▊                 | 552kB 5.7MB/s eta 0:00:01\r\u001b[K     |███████████████                 | 563kB 5.7MB/s eta 0:00:01\r\u001b[K     |███████████████▎                | 573kB 5.7MB/s eta 0:00:01\r\u001b[K     |███████████████▌                | 583kB 5.7MB/s eta 0:00:01\r\u001b[K     |███████████████▉                | 593kB 5.7MB/s eta 0:00:01\r\u001b[K     |████████████████                | 604kB 5.7MB/s eta 0:00:01\r\u001b[K     |████████████████▍               | 614kB 5.7MB/s eta 0:00:01\r\u001b[K     |████████████████▋               | 624kB 5.7MB/s eta 0:00:01\r\u001b[K     |████████████████▉               | 634kB 5.7MB/s eta 0:00:01\r\u001b[K     |█████████████████▏              | 645kB 5.7MB/s eta 0:00:01\r\u001b[K     |█████████████████▍              | 655kB 5.7MB/s eta 0:00:01\r\u001b[K     |█████████████████▊              | 665kB 5.7MB/s eta 0:00:01\r\u001b[K     |██████████████████              | 675kB 5.7MB/s eta 0:00:01\r\u001b[K     |██████████████████▎             | 686kB 5.7MB/s eta 0:00:01\r\u001b[K     |██████████████████▌             | 696kB 5.7MB/s eta 0:00:01\r\u001b[K     |██████████████████▉             | 706kB 5.7MB/s eta 0:00:01\r\u001b[K     |███████████████████             | 716kB 5.7MB/s eta 0:00:01\r\u001b[K     |███████████████████▎            | 727kB 5.7MB/s eta 0:00:01\r\u001b[K     |███████████████████▋            | 737kB 5.7MB/s eta 0:00:01\r\u001b[K     |███████████████████▉            | 747kB 5.7MB/s eta 0:00:01\r\u001b[K     |████████████████████▏           | 757kB 5.7MB/s eta 0:00:01\r\u001b[K     |████████████████████▍           | 768kB 5.7MB/s eta 0:00:01\r\u001b[K     |████████████████████▊           | 778kB 5.7MB/s eta 0:00:01\r\u001b[K     |█████████████████████           | 788kB 5.7MB/s eta 0:00:01\r\u001b[K     |█████████████████████▎          | 798kB 5.7MB/s eta 0:00:01\r\u001b[K     |█████████████████████▌          | 808kB 5.7MB/s eta 0:00:01\r\u001b[K     |█████████████████████▉          | 819kB 5.7MB/s eta 0:00:01\r\u001b[K     |██████████████████████          | 829kB 5.7MB/s eta 0:00:01\r\u001b[K     |██████████████████████▎         | 839kB 5.7MB/s eta 0:00:01\r\u001b[K     |██████████████████████▋         | 849kB 5.7MB/s eta 0:00:01\r\u001b[K     |██████████████████████▉         | 860kB 5.7MB/s eta 0:00:01\r\u001b[K     |███████████████████████▏        | 870kB 5.7MB/s eta 0:00:01\r\u001b[K     |███████████████████████▍        | 880kB 5.7MB/s eta 0:00:01\r\u001b[K     |███████████████████████▊        | 890kB 5.7MB/s eta 0:00:01\r\u001b[K     |████████████████████████        | 901kB 5.7MB/s eta 0:00:01\r\u001b[K     |████████████████████████▎       | 911kB 5.7MB/s eta 0:00:01\r\u001b[K     |████████████████████████▌       | 921kB 5.7MB/s eta 0:00:01\r\u001b[K     |████████████████████████▊       | 931kB 5.7MB/s eta 0:00:01\r\u001b[K     |█████████████████████████       | 942kB 5.7MB/s eta 0:00:01\r\u001b[K     |█████████████████████████▎      | 952kB 5.7MB/s eta 0:00:01\r\u001b[K     |█████████████████████████▋      | 962kB 5.7MB/s eta 0:00:01\r\u001b[K     |█████████████████████████▉      | 972kB 5.7MB/s eta 0:00:01\r\u001b[K     |██████████████████████████▏     | 983kB 5.7MB/s eta 0:00:01\r\u001b[K     |██████████████████████████▍     | 993kB 5.7MB/s eta 0:00:01\r\u001b[K     |██████████████████████████▊     | 1.0MB 5.7MB/s eta 0:00:01\r\u001b[K     |███████████████████████████     | 1.0MB 5.7MB/s eta 0:00:01\r\u001b[K     |███████████████████████████▎    | 1.0MB 5.7MB/s eta 0:00:01\r\u001b[K     |███████████████████████████▌    | 1.0MB 5.7MB/s eta 0:00:01\r\u001b[K     |███████████████████████████▊    | 1.0MB 5.7MB/s eta 0:00:01\r\u001b[K     |████████████████████████████    | 1.1MB 5.7MB/s eta 0:00:01\r\u001b[K     |████████████████████████████▎   | 1.1MB 5.7MB/s eta 0:00:01\r\u001b[K     |████████████████████████████▋   | 1.1MB 5.7MB/s eta 0:00:01\r\u001b[K     |████████████████████████████▉   | 1.1MB 5.7MB/s eta 0:00:01\r\u001b[K     |█████████████████████████████▏  | 1.1MB 5.7MB/s eta 0:00:01\r\u001b[K     |█████████████████████████████▍  | 1.1MB 5.7MB/s eta 0:00:01\r\u001b[K     |█████████████████████████████▊  | 1.1MB 5.7MB/s eta 0:00:01\r\u001b[K     |██████████████████████████████  | 1.1MB 5.7MB/s eta 0:00:01\r\u001b[K     |██████████████████████████████▏ | 1.1MB 5.7MB/s eta 0:00:01\r\u001b[K     |██████████████████████████████▌ | 1.1MB 5.7MB/s eta 0:00:01\r\u001b[K     |██████████████████████████████▊ | 1.2MB 5.7MB/s eta 0:00:01\r\u001b[K     |███████████████████████████████ | 1.2MB 5.7MB/s eta 0:00:01\r\u001b[K     |███████████████████████████████▎| 1.2MB 5.7MB/s eta 0:00:01\r\u001b[K     |███████████████████████████████▋| 1.2MB 5.7MB/s eta 0:00:01\r\u001b[K     |███████████████████████████████▉| 1.2MB 5.7MB/s eta 0:00:01\r\u001b[K     |████████████████████████████████| 1.2MB 5.7MB/s \n",
            "\u001b[?25hInstalling collected packages: sentencepiece\n",
            "Successfully installed sentencepiece-0.1.95\n"
          ],
          "name": "stdout"
        }
      ]
    },
    {
      "cell_type": "markdown",
      "metadata": {
        "id": "JHkHg6XAXoyK"
      },
      "source": [
        "# Evn"
      ]
    },
    {
      "cell_type": "code",
      "metadata": {
        "id": "WkYXFwcBXJDG"
      },
      "source": [
        "import os\n",
        "import random\n",
        "import shutil\n",
        "import json\n",
        "import zipfile\n",
        "import math\n",
        "import copy\n",
        "import collections\n",
        "import re\n",
        "\n",
        "import matplotlib.pyplot as plt\n",
        "import pandas as pd\n",
        "import numpy as np\n",
        "import sentencepiece as spm\n",
        "import tensorflow as tf\n",
        "import tensorflow.keras.backend as K\n",
        "\n",
        "from tqdm.notebook import tqdm"
      ],
      "execution_count": null,
      "outputs": []
    },
    {
      "cell_type": "code",
      "metadata": {
        "id": "nvjyruUlXtlR"
      },
      "source": [
        "# random seed initialize\n",
        "random_seed = 1234\n",
        "random.seed(random_seed)\n",
        "np.random.seed(random_seed)\n",
        "tf.random.set_seed(random_seed)"
      ],
      "execution_count": null,
      "outputs": []
    },
    {
      "cell_type": "code",
      "metadata": {
        "colab": {
          "base_uri": "https://localhost:8080/"
        },
        "id": "BC3fXkhdYcYt",
        "outputId": "9d243369-d727-4a1a-d01b-491a20a2a2ca"
      },
      "source": [
        "!nvidia-smi"
      ],
      "execution_count": null,
      "outputs": [
        {
          "output_type": "stream",
          "text": [
            "NVIDIA-SMI has failed because it couldn't communicate with the NVIDIA driver. Make sure that the latest NVIDIA driver is installed and running.\n",
            "\n"
          ],
          "name": "stdout"
        }
      ]
    },
    {
      "cell_type": "code",
      "metadata": {
        "id": "xVRdxYReYeQj",
        "colab": {
          "base_uri": "https://localhost:8080/"
        },
        "outputId": "a5396d76-71a2-47f5-8331-3000dec0552a"
      },
      "source": [
        "# google drive mount\n",
        "from google.colab import drive\n",
        "drive.mount('/content/drive')"
      ],
      "execution_count": null,
      "outputs": [
        {
          "output_type": "stream",
          "text": [
            "Mounted at /content/drive\n"
          ],
          "name": "stdout"
        }
      ]
    },
    {
      "cell_type": "code",
      "metadata": {
        "id": "byCIiLJBbFHh",
        "colab": {
          "base_uri": "https://localhost:8080/"
        },
        "outputId": "82837b1b-9048-446a-f525-9e226b97ac08"
      },
      "source": [
        "# data dir\n",
        "data_dir = '/content/drive/MyDrive/Colab Notebooks/2021-HUFS-NLP/data'\n",
        "os.listdir(data_dir)"
      ],
      "execution_count": null,
      "outputs": [
        {
          "output_type": "execute_result",
          "data": {
            "text/plain": [
              "['ko_32000.model', 'ko_32000.vocab', 'kowiki']"
            ]
          },
          "metadata": {
            "tags": []
          },
          "execution_count": 7
        }
      ]
    },
    {
      "cell_type": "code",
      "metadata": {
        "id": "2H0BLydCb7lg",
        "colab": {
          "base_uri": "https://localhost:8080/"
        },
        "outputId": "876a0f9e-61b3-44f7-86b9-872fcfdb1295"
      },
      "source": [
        "# kowiki dir\n",
        "kowiki_dir = os.path.join(data_dir, 'kowiki2')\n",
        "if not os.path.exists(kowiki_dir):\n",
        "    os.makedirs(kowiki_dir)\n",
        "os.listdir(kowiki_dir)"
      ],
      "execution_count": null,
      "outputs": [
        {
          "output_type": "execute_result",
          "data": {
            "text/plain": [
              "['my_corpus.txt']"
            ]
          },
          "metadata": {
            "tags": []
          },
          "execution_count": 24
        }
      ]
    },
    {
      "cell_type": "markdown",
      "metadata": {
        "id": "sEbpKyPxz6qs"
      },
      "source": [
        "# Corpus"
      ]
    },
    {
      "cell_type": "code",
      "metadata": {
        "id": "j3xx7dJYz9jt"
      },
      "source": [
        "text = \"\"\"위키백과의 최상위 도메인이 .com이던 시절 ko.wikipedia.com에 구판 미디어위키가 깔렸으나 한글 처리에 문제가 있어 글을 올릴 수도 없는 이름뿐인 곳이었다. 2002년 10월에 새로운 위키 소프트웨어를 쓰면서 한글 처리 문제가 풀리기 시작했지만, 가장 많은 사람이 쓰는 인터넷 익스플로러에서는 인코딩 문제가 여전했다. 이런 이유로 초기에는 도움말을 옮기거나 쓰는 일에 어려움을 겪었다. 이런 어려움이 있었는데도 위키백과 통계로는, 2002년 10월에서 2003년 7월까지 열 달 사이에 글이 13개에서 159개로 늘었고 2003년 7월과 8월 사이에는 한 달 만에 159개에서 348개로 늘어났다. 2003년 9월부터는 인터넷 익스플로러의 인코딩 문제가 사라졌으며, 대한민국 언론에서도 몇 차례 위키백과를 소개하면서 참여자가 점증하리라고 예측했다. 참고로 한국어 위키백과의 최초 문서는 2002년 10월 12일에 등재된 지미 카터 문서이다.\n",
        "2005년 6월 5일 양자장론 문서 등재를 기점으로 총 등재 문서 수가 1만 개를 돌파하였고 이어 동해 11월에 제1회 정보트러스트 어워드 인터넷 문화 일반 분야에 선정되었다. 2007년 8월 9일에는 한겨레21에서 한국어 위키백과와 위키백과 오프라인 첫 모임을 취재한 기사를 표지 이야기로 다루었다.\n",
        "2008년 광우병 촛불 시위 때 생긴 신조어인 명박산성이 한국어 위키백과에 등재되고 이 문서의 존치 여부를 두고 갑론을박의 과정이 화제가 되고 각종 매체에도 보도가 되었다. 시위대의 난입과 충돌을 방지하기 위해 거리에 설치되었던 컨테이너 박스를 이명박 정부의 불통으로 풍자를 하기 위해 사용된 이 신조어는 중립성을 지켰는지와 백과사전에 올라올 만한 문서인지가 쟁점이 되었는데 일시적으로 사용된 신조어일 뿐이라는 주장과 이미 여러 매체에서 사용되어 지속성이 보장되었다는 주장 등 논쟁이 벌어졌고 다음 아고라 등지에서 이 항목을 존치하는 방안을 지지하는 의견을 남기기 위해 여러 사람이 새로 가입하는 등 혼란이 빚어졌다. 11월 4일에는 다음커뮤니케이션에서 글로벌 세계 대백과사전을 기증받았으며, 2009년 3월에는 서울특별시로부터 콘텐츠를 기증받았다. 2009년 6월 4일에는 액세스권 등재를 기점으로 10만 개 문서 수를 돌파했다.\n",
        "2011년 4월 16일에는 대한민국에서의 위키미디어 프로젝트를 지원하는 모임을 결성할 것을 추진하는 논의가 이뤄졌고 이후 창립준비위원회 결성을 거쳐 2014년 10월 19일 창립총회를 개최하였으며, 최종적으로 2015년 11월 4일 사단법인 한국 위키미디어 협회가 결성되어 활동 중에 있다. 2019년 미국 위키미디어재단으로부터 한국 지역 지부(챕터)로 승인을 받았다.\n",
        "2012년 5월 19일에는 보비 탬블링 등재를 기점으로 총 20만 개 문서가 등재되었고 2015년 1월 5일, Rojo -Tierra- 문서 등재를 기점으로 총 30만 개 문서가 등재되었다. 2017년 10월 21일에는 충청남도 동물위생시험소 문서 등재로 40만 개의 문서까지 등재되었다.\"\"\""
      ],
      "execution_count": null,
      "outputs": []
    },
    {
      "cell_type": "markdown",
      "metadata": {
        "id": "b7GZHAJc8R1W"
      },
      "source": [
        "# Google sentencepiece를 이용해 vocab 생성\n",
        "- https://github.com/google/sentencepiece"
      ]
    },
    {
      "cell_type": "markdown",
      "metadata": {
        "id": "_8ajMz_ZCCxs"
      },
      "source": [
        "## sentencepe 학습"
      ]
    },
    {
      "cell_type": "code",
      "metadata": {
        "id": "jQKAKbPN6miL",
        "colab": {
          "base_uri": "https://localhost:8080/"
        },
        "outputId": "30f17a40-43ca-4f7d-b622-046ec6633f7f"
      },
      "source": [
        "os.listdir(kowiki_dir)"
      ],
      "execution_count": null,
      "outputs": [
        {
          "output_type": "execute_result",
          "data": {
            "text/plain": [
              "['my_corpus.txt']"
            ]
          },
          "metadata": {
            "tags": []
          },
          "execution_count": 25
        }
      ]
    },
    {
      "cell_type": "code",
      "metadata": {
        "id": "d99Y3Fkdvftw",
        "colab": {
          "base_uri": "https://localhost:8080/"
        },
        "outputId": "c8473c23-41a5-4b1e-9ebc-f749fadd4509"
      },
      "source": [
        "shutil.copy(os.path.join(kowiki_dir, 'my_corpus.txt'), './')\n",
        "os.listdir('./')"
      ],
      "execution_count": null,
      "outputs": [
        {
          "output_type": "execute_result",
          "data": {
            "text/plain": [
              "['.config', 'drive', 'my_corpus.txt', 'sample_data']"
            ]
          },
          "metadata": {
            "tags": []
          },
          "execution_count": 27
        }
      ]
    },
    {
      "cell_type": "code",
      "metadata": {
        "id": "IwDPlGeeCF70"
      },
      "source": [
        "def train_sentencepiece(corpus, prefix, vocab_size=32000):\n",
        "    \"\"\"\n",
        "    sentencepiece를 이용해 vocab 학습\n",
        "    :param corpus: 학습할 말뭉치\n",
        "    :param prefix: 저장할 vocab 이름\n",
        "    :param vocab_size: vocab 개수\n",
        "    \"\"\"\n",
        "    spm.SentencePieceTrainer.train(\n",
        "        f\"--input={corpus} --model_prefix={prefix} --vocab_size={vocab_size + 7}\" +  # 7은 특수문자 개수\n",
        "        \" --model_type=unigram\" +\n",
        "        \" --max_sentence_length=999999\" +  # 문장 최대 길이\n",
        "        \" --pad_id=0 --pad_piece=[PAD]\" +  # pad token 및 id 지정\n",
        "        \" --unk_id=1 --unk_piece=[UNK]\" +  # unknown token 및 id 지정\n",
        "        \" --bos_id=2 --bos_piece=[BOS]\" +  # begin of sequence token 및 id 지정\n",
        "        \" --eos_id=3 --eos_piece=[EOS]\" +  # end of sequence token 및 id 지정\n",
        "        \" --user_defined_symbols=[SEP],[CLS],[MASK]\")  # 기타 추가 토큰 SEP: 4, CLS: 5, MASK: 6"
      ],
      "execution_count": null,
      "outputs": []
    },
    {
      "cell_type": "code",
      "metadata": {
        "id": "CE-yJ_cSCYz0"
      },
      "source": [
        "# vocab 생성\n",
        "train_sentencepiece(f\"my_corpus.txt\", f\"my_vocab\", vocab_size=766) #2048로 바꿔도됨 700정도로함,, 작은dataset이면"
      ],
      "execution_count": null,
      "outputs": []
    },
    {
      "cell_type": "code",
      "metadata": {
        "id": "85eoYIgZNtYa",
        "colab": {
          "base_uri": "https://localhost:8080/"
        },
        "outputId": "9c7ea99a-d2a6-4e74-d437-e9793fb6914a"
      },
      "source": [
        "os.listdir(\".\")"
      ],
      "execution_count": null,
      "outputs": [
        {
          "output_type": "execute_result",
          "data": {
            "text/plain": [
              "['.config',\n",
              " 'my_vocab.vocab',\n",
              " 'drive',\n",
              " 'my_corpus.txt',\n",
              " 'my_vocab.model',\n",
              " 'sample_data']"
            ]
          },
          "metadata": {
            "tags": []
          },
          "execution_count": 32
        }
      ]
    },
    {
      "cell_type": "markdown",
      "metadata": {
        "id": "zeBCtb61bG8Y"
      },
      "source": [
        "## sentencepe 확인"
      ]
    },
    {
      "cell_type": "code",
      "metadata": {
        "id": "ySjtyzUGbLwg",
        "colab": {
          "base_uri": "https://localhost:8080/"
        },
        "outputId": "f696fddc-6461-4325-d446-d61884f89f29"
      },
      "source": [
        "# load vocab\n",
        "vocab = spm.SentencePieceProcessor()\n",
        "vocab.load(f\"my_vocab.model\")"
      ],
      "execution_count": null,
      "outputs": [
        {
          "output_type": "execute_result",
          "data": {
            "text/plain": [
              "True"
            ]
          },
          "metadata": {
            "tags": []
          },
          "execution_count": 33
        }
      ]
    },
    {
      "cell_type": "code",
      "metadata": {
        "id": "nJrlfRqObeEI",
        "colab": {
          "base_uri": "https://localhost:8080/"
        },
        "outputId": "717a833c-5d8e-496e-a064-5a0d3caba6f7"
      },
      "source": [
        "# vocab 출력\n",
        "print(f\"len: {len(vocab)}\")\n",
        "for id in range(16):\n",
        "    print(f\"{id:2d}: {vocab.id_to_piece(id)}\")"
      ],
      "execution_count": null,
      "outputs": [
        {
          "output_type": "stream",
          "text": [
            "len: 773\n",
            " 0: [PAD]\n",
            " 1: [UNK]\n",
            " 2: [BOS]\n",
            " 3: [EOS]\n",
            " 4: [SEP]\n",
            " 5: [CLS]\n",
            " 6: [MASK]\n",
            " 7: ▁\n",
            " 8: .\n",
            " 9: 이\n",
            "10: 의\n",
            "11: 는\n",
            "12: 을\n",
            "13: 다\n",
            "14: ,\n",
            "15: 에\n"
          ],
          "name": "stdout"
        }
      ]
    },
    {
      "cell_type": "code",
      "metadata": {
        "id": "JWlGnwd9bh67",
        "colab": {
          "base_uri": "https://localhost:8080/"
        },
        "outputId": "151dad30-0a8d-4804-8ff5-8ee0be2ce0a1"
      },
      "source": [
        "# text를 tokenize 함\n",
        "# sentence to pieces\n",
        "pieces = vocab.encode_as_pieces(text)\n",
        "print(pieces[0:100])"
      ],
      "execution_count": null,
      "outputs": [
        {
          "output_type": "stream",
          "text": [
            "['▁', '위', '키', '백', '과', '의', '▁', '최', '상', '위', '▁', '도', '메', '인', '이', '▁', '.', 'c', 'o', 'm', '이', '던', '▁', '시', '절', '▁', 'k', 'o', '.', 'w', 'i', 'k', 'i', 'p', 'e', 'd', 'i', 'a', '.', 'c', 'o', 'm', '에', '▁', '구', '판', '▁', '미', '디', '어', '위', '키', '가', '▁', '깔', '렸', '으', '나', '▁', '한', '글', '▁', '처', '리', '에', '▁', '문', '제', '가', '▁', '있', '어', '▁', '글', '을', '▁', '올', '릴', '▁수', '도', '▁', '없', '는', '▁', '이', '름', '뿐', '인', '▁', '곳', '이', '었', '다', '.', '▁', '2', '0', '0', '2', '년']\n"
          ],
          "name": "stdout"
        }
      ]
    },
    {
      "cell_type": "code",
      "metadata": {
        "id": "D1lUjSWh_MRX",
        "colab": {
          "base_uri": "https://localhost:8080/"
        },
        "outputId": "eb38deaa-c6d9-48ee-bde9-df2fd9c58a62"
      },
      "source": [
        "vocab.encode_as_pieces(\"나는 오늘 수원에 놀러 갔다.\")"
      ],
      "execution_count": null,
      "outputs": [
        {
          "output_type": "execute_result",
          "data": {
            "text/plain": [
              "['▁',\n",
              " '나',\n",
              " '는',\n",
              " '▁',\n",
              " '오',\n",
              " '늘',\n",
              " '▁수',\n",
              " '원',\n",
              " '에',\n",
              " '▁',\n",
              " '놀',\n",
              " '러',\n",
              " '▁',\n",
              " '갔',\n",
              " '다',\n",
              " '.']"
            ]
          },
          "metadata": {
            "tags": []
          },
          "execution_count": 47
        }
      ]
    },
    {
      "cell_type": "code",
      "metadata": {
        "id": "0aaBGd8R_Ue3",
        "colab": {
          "base_uri": "https://localhost:8080/"
        },
        "outputId": "355dacc2-72df-47b5-d513-3ed3de0de313"
      },
      "source": [
        "vocab.encode_as_pieces(\"나는 오늘 배가많이고파서밥을많이먹은후 놀러 갔다.\")"
      ],
      "execution_count": null,
      "outputs": [
        {
          "output_type": "execute_result",
          "data": {
            "text/plain": [
              "['▁',\n",
              " '나',\n",
              " '는',\n",
              " '▁',\n",
              " '오',\n",
              " '늘',\n",
              " '▁',\n",
              " '배',\n",
              " '가',\n",
              " '많',\n",
              " '이',\n",
              " '고',\n",
              " '파',\n",
              " '서',\n",
              " '밥',\n",
              " '을',\n",
              " '많',\n",
              " '이',\n",
              " '먹',\n",
              " '은',\n",
              " '후',\n",
              " '▁',\n",
              " '놀',\n",
              " '러',\n",
              " '▁',\n",
              " '갔',\n",
              " '다',\n",
              " '.']"
            ]
          },
          "metadata": {
            "tags": []
          },
          "execution_count": 48
        }
      ]
    },
    {
      "cell_type": "code",
      "metadata": {
        "id": "n2PsfHS7bt6j",
        "colab": {
          "base_uri": "https://localhost:8080/",
          "height": 287
        },
        "outputId": "f825522b-853b-43c2-c5f0-4b8c39c94cce"
      },
      "source": [
        "# tokenize된 값을 string 으로 복원\n",
        "# pieces to sentence\n",
        "vocab.decode_pieces(pieces)"
      ],
      "execution_count": null,
      "outputs": [
        {
          "output_type": "execute_result",
          "data": {
            "application/vnd.google.colaboratory.intrinsic+json": {
              "type": "string"
            },
            "text/plain": [
              "'위키백과의 최상위 도메인이 .com이던 시절 ko.wikipedia.com에 구판 미디어위키가 깔렸으나 한글 처리에 문제가 있어 글을 올릴 수도 없는 이름뿐인 곳이었다. 2002년 10월에 새로운 위키 소프트웨어를 쓰면서 한글 처리 문제가 풀리기 시작했지만, 가장 많은 사람이 쓰는 인터넷 익스플로러에서는 인코딩 문제가 여전했다. 이런 이유로 초기에는 도움말을 옮기거나 쓰는 일에 어려움을 겪었다. 이런 어려움이 있었는데도 위키백과 통계로는, 2002년 10월에서 2003년 7월까지 열 달 사이에 글이 13개에서 159개로 늘었고 2003년 7월과 8월 사이에는 한 달 만에 159개에서 348개로 늘어났다. 2003년 9월부터는 인터넷 익스플로러의 인코딩 문제가 사라졌으며, 대한민국 언론에서도 몇 차례 위키백과를 소개하면서 참여자가 점증하리라고 예측했다. 참고로 한국어 위키백과의 최초 문서는 2002년 10월 12일에 등재된 지미 카터 문서이다. 2005년 6월 5일 양자장론 문서 등재를 기점으로 총 등재 문서 수가 1만 개를 돌파하였고 이어 동해 11월에 제1회 정보트러스트 어워드 인터넷 문화 일반 분야에 선정되었다. 2007년 8월 9일에는 한겨레21에서 한국어 위키백과와 위키백과 오프라인 첫 모임을 취재한 기사를 표지 이야기로 다루었다. 2008년 광우병 촛불 시위 때 생긴 신조어인 명박산성이 한국어 위키백과에 등재되고 이 문서의 존치 여부를 두고 갑론을박의 과정이 화제가 되고 각종 매체에도 보도가 되었다. 시위대의 난입과 충돌을 방지하기 위해 거리에 설치되었던 컨테이너 박스를 이명박 정부의 불통으로 풍자를 하기 위해 사용된 이 신조어는 중립성을 지켰는지와 백과사전에 올라올 만한 문서인지가 쟁점이 되었는데 일시적으로 사용된 신조어일 뿐이라는 주장과 이미 여러 매체에서 사용되어 지속성이 보장되었다는 주장 등 논쟁이 벌어졌고 다음 아고라 등지에서 이 항목을 존치하는 방안을 지지하는 의견을 남기기 위해 여러 사람이 새로 가입하는 등 혼란이 빚어졌다. 11월 4일에는 다음커뮤니케이션에서 글로벌 세계 대백과사전을 기증받았으며, 2009년 3월에는 서울특별시로부터 콘텐츠를 기증받았다. 2009년 6월 4일에는 액세스권 등재를 기점으로 10만 개 문서 수를 돌파했다. 2011년 4월 16일에는 대한민국에서의 위키미디어 프로젝트를 지원하는 모임을 결성할 것을 추진하는 논의가 이뤄졌고 이후 창립준비위원회 결성을 거쳐 2014년 10월 19일 창립총회를 개최하였으며, 최종적으로 2015년 11월 4일 사단법인 한국 위키미디어 협회가 결성되어 활동 중에 있다. 2019년 미국 위키미디어재단으로부터 한국 지역 지부(챕터)로 승인을 받았다. 2012년 5월 19일에는 보비 탬블링 등재를 기점으로 총 20만 개 문서가 등재되었고 2015년 1월 5일, Rojo -Tierra- 문서 등재를 기점으로 총 30만 개 문서가 등재되었다. 2017년 10월 21일에는 충청남도 동물위생시험소 문서 등재로 40만 개의 문서까지 등재되었다.'"
            ]
          },
          "metadata": {
            "tags": []
          },
          "execution_count": 39
        }
      ]
    },
    {
      "cell_type": "code",
      "metadata": {
        "id": "U2NoPR4Tb5GB",
        "colab": {
          "base_uri": "https://localhost:8080/"
        },
        "outputId": "d39b4d22-7071-4428-e4ff-a1893710baed"
      },
      "source": [
        "# tokenize된 값을 id로 변경\n",
        "# piece to id\n",
        "piece_ids = []\n",
        "for piece in pieces:\n",
        "    piece_ids.append(vocab.piece_to_id(piece))\n",
        "piece_ids[0:100]"
      ],
      "execution_count": null,
      "outputs": [
        {
          "output_type": "execute_result",
          "data": {
            "text/plain": [
              "[7,\n",
              " 97,\n",
              " 385,\n",
              " 547,\n",
              " 26,\n",
              " 10,\n",
              " 7,\n",
              " 608,\n",
              " 42,\n",
              " 97,\n",
              " 7,\n",
              " 25,\n",
              " 533,\n",
              " 22,\n",
              " 9,\n",
              " 7,\n",
              " 8,\n",
              " 277,\n",
              " 187,\n",
              " 264,\n",
              " 9,\n",
              " 258,\n",
              " 7,\n",
              " 34,\n",
              " 416,\n",
              " 7,\n",
              " 306,\n",
              " 187,\n",
              " 8,\n",
              " 358,\n",
              " 192,\n",
              " 306,\n",
              " 192,\n",
              " 304,\n",
              " 163,\n",
              " 636,\n",
              " 192,\n",
              " 200,\n",
              " 8,\n",
              " 277,\n",
              " 187,\n",
              " 264,\n",
              " 15,\n",
              " 7,\n",
              " 71,\n",
              " 250,\n",
              " 7,\n",
              " 76,\n",
              " 284,\n",
              " 30,\n",
              " 97,\n",
              " 385,\n",
              " 18,\n",
              " 7,\n",
              " 1,\n",
              " 406,\n",
              " 324,\n",
              " 60,\n",
              " 7,\n",
              " 19,\n",
              " 400,\n",
              " 7,\n",
              " 438,\n",
              " 37,\n",
              " 15,\n",
              " 7,\n",
              " 84,\n",
              " 58,\n",
              " 18,\n",
              " 7,\n",
              " 772,\n",
              " 30,\n",
              " 7,\n",
              " 400,\n",
              " 12,\n",
              " 7,\n",
              " 589,\n",
              " 381,\n",
              " 41,\n",
              " 25,\n",
              " 7,\n",
              " 259,\n",
              " 11,\n",
              " 7,\n",
              " 9,\n",
              " 365,\n",
              " 722,\n",
              " 22,\n",
              " 7,\n",
              " 667,\n",
              " 9,\n",
              " 228,\n",
              " 13,\n",
              " 8,\n",
              " 7,\n",
              " 59,\n",
              " 53,\n",
              " 53,\n",
              " 59,\n",
              " 48]"
            ]
          },
          "metadata": {
            "tags": []
          },
          "execution_count": 40
        }
      ]
    },
    {
      "cell_type": "code",
      "metadata": {
        "id": "A6PGUrK9cHxZ",
        "colab": {
          "base_uri": "https://localhost:8080/"
        },
        "outputId": "6a3df1ee-0e6c-461f-d529-6d75082f0962"
      },
      "source": [
        "# text를 id로 tokenize 함\n",
        "# sentence to ids\n",
        "ids = vocab.encode_as_ids(text)\n",
        "ids[0:100]"
      ],
      "execution_count": null,
      "outputs": [
        {
          "output_type": "execute_result",
          "data": {
            "text/plain": [
              "[7,\n",
              " 97,\n",
              " 385,\n",
              " 547,\n",
              " 26,\n",
              " 10,\n",
              " 7,\n",
              " 608,\n",
              " 42,\n",
              " 97,\n",
              " 7,\n",
              " 25,\n",
              " 533,\n",
              " 22,\n",
              " 9,\n",
              " 7,\n",
              " 8,\n",
              " 277,\n",
              " 187,\n",
              " 264,\n",
              " 9,\n",
              " 258,\n",
              " 7,\n",
              " 34,\n",
              " 416,\n",
              " 7,\n",
              " 306,\n",
              " 187,\n",
              " 8,\n",
              " 358,\n",
              " 192,\n",
              " 306,\n",
              " 192,\n",
              " 304,\n",
              " 163,\n",
              " 636,\n",
              " 192,\n",
              " 200,\n",
              " 8,\n",
              " 277,\n",
              " 187,\n",
              " 264,\n",
              " 15,\n",
              " 7,\n",
              " 71,\n",
              " 250,\n",
              " 7,\n",
              " 76,\n",
              " 284,\n",
              " 30,\n",
              " 97,\n",
              " 385,\n",
              " 18,\n",
              " 7,\n",
              " 1,\n",
              " 406,\n",
              " 324,\n",
              " 60,\n",
              " 7,\n",
              " 19,\n",
              " 400,\n",
              " 7,\n",
              " 438,\n",
              " 37,\n",
              " 15,\n",
              " 7,\n",
              " 84,\n",
              " 58,\n",
              " 18,\n",
              " 7,\n",
              " 772,\n",
              " 30,\n",
              " 7,\n",
              " 400,\n",
              " 12,\n",
              " 7,\n",
              " 589,\n",
              " 381,\n",
              " 41,\n",
              " 25,\n",
              " 7,\n",
              " 259,\n",
              " 11,\n",
              " 7,\n",
              " 9,\n",
              " 365,\n",
              " 722,\n",
              " 22,\n",
              " 7,\n",
              " 667,\n",
              " 9,\n",
              " 228,\n",
              " 13,\n",
              " 8,\n",
              " 7,\n",
              " 59,\n",
              " 53,\n",
              " 53,\n",
              " 59,\n",
              " 48]"
            ]
          },
          "metadata": {
            "tags": []
          },
          "execution_count": 41
        }
      ]
    },
    {
      "cell_type": "code",
      "metadata": {
        "id": "xyUkoxCpcUBj",
        "colab": {
          "base_uri": "https://localhost:8080/",
          "height": 287
        },
        "outputId": "a7af0383-a0b6-42c2-dc1e-024da3f0a376"
      },
      "source": [
        "# tokenize된 id 값을 string 으로 복원\n",
        "# id to sentence\n",
        "vocab.decode_ids(ids)"
      ],
      "execution_count": null,
      "outputs": [
        {
          "output_type": "execute_result",
          "data": {
            "application/vnd.google.colaboratory.intrinsic+json": {
              "type": "string"
            },
            "text/plain": [
              "'위키백과의 최상위 도메인이 .com이던 시절 ko.wikipedia.com에 구판 미디어위키가  ⁇ 렸으나 한글 처리에 문제가 있어 글을 올릴 수도 없는 이름뿐인 곳이었다. 2002년 10월에 새로운 위키 소프트 ⁇ 어를 쓰면서 한글 처리 문제가 풀리기 시작했지만, 가장 많은 사람이 쓰는 인터 ⁇  익스플로러에서는 인코 ⁇  문제가 여전했다. 이런 이유로 초기에는 도움말을  ⁇ 기거나 쓰는 일에 어려움을 겪었다. 이런 어려움이 있었는데도 위키백과 통계로는, 2002년 10월에서 2003년 7월까지 열 달 사이에 글이 13개에서 159개로 늘었고 2003년 7월과 8월 사이에는 한 달 만에 159개에서 348개로 늘어났다. 2003년 9월부터는 인터 ⁇  익스플로러의 인코 ⁇  문제가 사라졌으며, 대한민국 언론에서도 몇 차례 위키백과를 소개하면서 참여자가 점증하리라고 예측했다. 참고로 한국어 위키백과의 최초 문서는 2002년 10월 12일에 등재된 지미 카터 문서이다. 2005년 6월 5일 양자장론 문서 등재를 기점으로 총 등재 문서 수가 1만 개를 돌파하였고 이어 동해 11월에 제1회 정보트러스트 어워드 인터 ⁇  문화 일반 분야에 선정되었다. 2007년 8월 9일에는 한겨레21에서 한국어 위키백과와 위키백과 오프라인 첫 모임을 취재한 기사를 표지 이야기로 다루었다. 2008년 광우병  ⁇ 불 시위 때 생긴 신조어인 명박산성이 한국어 위키백과에 등재되고 이 문서의 존치 여부를 두고 갑론을박의 과정이 화제가 되고 각종 매체에도 보도가 되었다. 시위대의 난입과 충돌을 방지하기 위해 거리에 설치되었던 컨테이너 박스를 이명박 정부의 불통으로 풍자를 하기 위해 사용된 이 신조어는 중립성을 지켰는지와 백과사전에 올라올 만한 문서인지가 쟁점이 되었는데 일시적으로 사용된 신조어일 뿐이라는 주장과 이미 여러 매체에서 사용되어 지속성이 보장되었다는 주장 등 논쟁이 벌어졌고 다음 아고라 등지에서 이 항목을 존치하는 방안을 지지하는 의견을 남기기 위해 여러 사람이 새로 가입하는 등 혼란이  ⁇ 어졌다. 11월 4일에는 다음커 ⁇ 니케이션에서 글로벌 세계 대백과사전을 기증받았으며, 2009년 3월에는 서울특별시로부터 콘텐츠를 기증받았다. 2009년 6월 4일에는 액세스권 등재를 기점으로 10만 개 문서 수를 돌파했다. 2011년 4월 16일에는 대한민국에서의 위키미디어 프로젝트를 지원하는 모임을 결성할 것을 추진하는 논의가 이 ⁇ 졌고 이후 창립준비위원회 결성을 거쳐 2014년 10월 19일 창립총회를 개최하였으며, 최종적으로 2015년 11월 4일 사단법인 한국 위키미디어 협회가 결성되어 활동 중에 있다. 2019년 미국 위키미디어재단으로부터 한국 지역 지부( ⁇ 터)로 승인을 받았다. 2012년 5월 19일에는 보비  ⁇ 블링 등재를 기점으로 총 20만 개 문서가 등재되었고 2015년 1월 5일, Ro ⁇ o -Tierra- 문서 등재를 기점으로 총 30만 개 문서가 등재되었다. 2017년 10월 21일에는 충청남도 동물위생시험소 문서 등재로 40만 개의 문서까지 등재되었다.'"
            ]
          },
          "metadata": {
            "tags": []
          },
          "execution_count": 42
        }
      ]
    },
    {
      "cell_type": "code",
      "metadata": {
        "id": "XaPhB9Cjcbmi",
        "colab": {
          "base_uri": "https://localhost:8080/"
        },
        "outputId": "d9a75d84-6be3-48d4-cf28-3a507e467de7"
      },
      "source": [
        "# id 값을 token으로 변경\n",
        "# id to piece\n",
        "id_pieces = []\n",
        "for id in ids:\n",
        "    id_pieces.append(vocab.id_to_piece(id))\n",
        "id_pieces[0:100]"
      ],
      "execution_count": null,
      "outputs": [
        {
          "output_type": "execute_result",
          "data": {
            "text/plain": [
              "['▁',\n",
              " '위',\n",
              " '키',\n",
              " '백',\n",
              " '과',\n",
              " '의',\n",
              " '▁',\n",
              " '최',\n",
              " '상',\n",
              " '위',\n",
              " '▁',\n",
              " '도',\n",
              " '메',\n",
              " '인',\n",
              " '이',\n",
              " '▁',\n",
              " '.',\n",
              " 'c',\n",
              " 'o',\n",
              " 'm',\n",
              " '이',\n",
              " '던',\n",
              " '▁',\n",
              " '시',\n",
              " '절',\n",
              " '▁',\n",
              " 'k',\n",
              " 'o',\n",
              " '.',\n",
              " 'w',\n",
              " 'i',\n",
              " 'k',\n",
              " 'i',\n",
              " 'p',\n",
              " 'e',\n",
              " 'd',\n",
              " 'i',\n",
              " 'a',\n",
              " '.',\n",
              " 'c',\n",
              " 'o',\n",
              " 'm',\n",
              " '에',\n",
              " '▁',\n",
              " '구',\n",
              " '판',\n",
              " '▁',\n",
              " '미',\n",
              " '디',\n",
              " '어',\n",
              " '위',\n",
              " '키',\n",
              " '가',\n",
              " '▁',\n",
              " '[UNK]',\n",
              " '렸',\n",
              " '으',\n",
              " '나',\n",
              " '▁',\n",
              " '한',\n",
              " '글',\n",
              " '▁',\n",
              " '처',\n",
              " '리',\n",
              " '에',\n",
              " '▁',\n",
              " '문',\n",
              " '제',\n",
              " '가',\n",
              " '▁',\n",
              " '있',\n",
              " '어',\n",
              " '▁',\n",
              " '글',\n",
              " '을',\n",
              " '▁',\n",
              " '올',\n",
              " '릴',\n",
              " '▁수',\n",
              " '도',\n",
              " '▁',\n",
              " '없',\n",
              " '는',\n",
              " '▁',\n",
              " '이',\n",
              " '름',\n",
              " '뿐',\n",
              " '인',\n",
              " '▁',\n",
              " '곳',\n",
              " '이',\n",
              " '었',\n",
              " '다',\n",
              " '.',\n",
              " '▁',\n",
              " '2',\n",
              " '0',\n",
              " '0',\n",
              " '2',\n",
              " '년']"
            ]
          },
          "metadata": {
            "tags": []
          },
          "execution_count": 45
        }
      ]
    },
    {
      "cell_type": "code",
      "metadata": {
        "id": "bPe2xTM1FnoI"
      },
      "source": [
        ""
      ],
      "execution_count": null,
      "outputs": []
    }
  ]
}
