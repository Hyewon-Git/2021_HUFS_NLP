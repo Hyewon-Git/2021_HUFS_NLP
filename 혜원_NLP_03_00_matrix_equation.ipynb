{
  "nbformat": 4,
  "nbformat_minor": 0,
  "metadata": {
    "colab": {
      "name": "혜원-NLP-03-00.matrix-equation.ipynb",
      "provenance": [],
      "collapsed_sections": [],
      "include_colab_link": true
    },
    "kernelspec": {
      "name": "python3",
      "display_name": "Python 3"
    }
  },
  "cells": [
    {
      "cell_type": "markdown",
      "metadata": {
        "id": "view-in-github",
        "colab_type": "text"
      },
      "source": [
        "<a href=\"https://colab.research.google.com/github/Hyewon-Git/2021_HUFS_NLP/blob/main/%ED%98%9C%EC%9B%90_NLP_03_00_matrix_equation.ipynb\" target=\"_parent\"><img src=\"https://colab.research.google.com/assets/colab-badge.svg\" alt=\"Open In Colab\"/></a>"
      ]
    },
    {
      "cell_type": "markdown",
      "metadata": {
        "id": "BuaFwJqDVumT"
      },
      "source": [
        "# EVN"
      ]
    },
    {
      "cell_type": "code",
      "metadata": {
        "id": "ODiNPGQ9VwLK"
      },
      "source": [
        "import numpy as np\n",
        "import matplotlib.pyplot as plt\n",
        "\n",
        "import tensorflow as tf"
      ],
      "execution_count": null,
      "outputs": []
    },
    {
      "cell_type": "markdown",
      "metadata": {
        "id": "sFo_3tAlzneI"
      },
      "source": [
        "# 행렬연산"
      ]
    },
    {
      "cell_type": "markdown",
      "metadata": {
        "id": "erIr-mg8zneJ"
      },
      "source": [
        "## 데이터"
      ]
    },
    {
      "cell_type": "code",
      "metadata": {
        "id": "KQqU4MBIzneJ",
        "colab": {
          "base_uri": "https://localhost:8080/"
        },
        "outputId": "4b94f9b5-c758-4132-c3d1-53529105e3ba"
      },
      "source": [
        "hidden = np.random.randint(-9, 10, (5, 4)) / 10\n",
        "hidden"
      ],
      "execution_count": null,
      "outputs": [
        {
          "output_type": "execute_result",
          "data": {
            "text/plain": [
              "array([[-0.3, -0.7,  0.3, -0.4],\n",
              "       [ 0.6,  0.2,  0.3, -0.5],\n",
              "       [-0.2,  0.2, -0.5,  0.5],\n",
              "       [ 0. ,  0.2, -0.2, -0.5],\n",
              "       [-0.5, -0.7, -0.7,  0.3]])"
            ]
          },
          "metadata": {
            "tags": []
          },
          "execution_count": 2
        }
      ]
    },
    {
      "cell_type": "markdown",
      "metadata": {
        "id": "wS_edoagzneJ"
      },
      "source": [
        "## element wise sum"
      ]
    },
    {
      "cell_type": "code",
      "metadata": {
        "id": "BJA0tV61UMWv"
      },
      "source": [
        "arg = np.random.randint(-9, 10, (5, 4)) / 10\n",
        "arg, hidden + arg"
      ],
      "execution_count": null,
      "outputs": []
    },
    {
      "cell_type": "code",
      "metadata": {
        "id": "jrpIT_63UNu5",
        "colab": {
          "base_uri": "https://localhost:8080/"
        },
        "outputId": "e56a0fca-3735-4a6f-91c3-24efe5ecc0c2"
      },
      "source": [
        "arg = np.random.randint(-9, 10, (1, 4)) / 10\n",
        "arg, hidden + arg"
      ],
      "execution_count": null,
      "outputs": [
        {
          "output_type": "execute_result",
          "data": {
            "text/plain": [
              "(array([[ 0.3, -0.5,  0.1,  0.5]]), array([[ 0. , -1.2,  0.4,  0.1],\n",
              "        [ 0.9, -0.3,  0.4,  0. ],\n",
              "        [ 0.1, -0.3, -0.4,  1. ],\n",
              "        [ 0.3, -0.3, -0.1,  0. ],\n",
              "        [-0.2, -1.2, -0.6,  0.8]]))"
            ]
          },
          "metadata": {
            "tags": []
          },
          "execution_count": 9
        }
      ]
    },
    {
      "cell_type": "code",
      "metadata": {
        "id": "RoT8iffUzneJ",
        "colab": {
          "base_uri": "https://localhost:8080/"
        },
        "outputId": "a8e8f886-0cf9-4bdf-ce94-964ebb5b2697"
      },
      "source": [
        "arg = np.random.randint(-9, 10, (5, 1)) / 10\n",
        "arg, hidden + arg"
      ],
      "execution_count": null,
      "outputs": [
        {
          "output_type": "execute_result",
          "data": {
            "text/plain": [
              "(array([[-0.7],\n",
              "        [-0.5],\n",
              "        [ 0.9],\n",
              "        [-0.5],\n",
              "        [-0.5]]), array([[-1. , -1.4, -0.4, -1.1],\n",
              "        [ 0.1, -0.3, -0.2, -1. ],\n",
              "        [ 0.7,  1.1,  0.4,  1.4],\n",
              "        [-0.5, -0.3, -0.7, -1. ],\n",
              "        [-1. , -1.2, -1.2, -0.2]]))"
            ]
          },
          "metadata": {
            "tags": []
          },
          "execution_count": 10
        }
      ]
    },
    {
      "cell_type": "code",
      "metadata": {
        "id": "_qeklV9-UTzH"
      },
      "source": [
        "arg = np.random.randint(-9, 10, (1, 1)) / 10\n",
        "arg, hidden + arg"
      ],
      "execution_count": null,
      "outputs": []
    },
    {
      "cell_type": "code",
      "metadata": {
        "id": "7bgNlTYUEzxI",
        "colab": {
          "base_uri": "https://localhost:8080/"
        },
        "outputId": "96f0df72-2e20-413a-b4d6-6c2ff269f43c"
      },
      "source": [
        "hidden + 1"
      ],
      "execution_count": null,
      "outputs": [
        {
          "output_type": "execute_result",
          "data": {
            "text/plain": [
              "array([[0.7, 0.3, 1.3, 0.6],\n",
              "       [1.6, 1.2, 1.3, 0.5],\n",
              "       [0.8, 1.2, 0.5, 1.5],\n",
              "       [1. , 1.2, 0.8, 0.5],\n",
              "       [0.5, 0.3, 0.3, 1.3]])"
            ]
          },
          "metadata": {
            "tags": []
          },
          "execution_count": 7
        }
      ]
    },
    {
      "cell_type": "code",
      "metadata": {
        "id": "7DWycYWQE3X2",
        "colab": {
          "base_uri": "https://localhost:8080/"
        },
        "outputId": "fc23d2b8-56a0-4c53-b68c-05ec4a744aac"
      },
      "source": [
        "1 + hidden"
      ],
      "execution_count": null,
      "outputs": [
        {
          "output_type": "execute_result",
          "data": {
            "text/plain": [
              "array([[0.7, 0.3, 1.3, 0.6],\n",
              "       [1.6, 1.2, 1.3, 0.5],\n",
              "       [0.8, 1.2, 0.5, 1.5],\n",
              "       [1. , 1.2, 0.8, 0.5],\n",
              "       [0.5, 0.3, 0.3, 1.3]])"
            ]
          },
          "metadata": {
            "tags": []
          },
          "execution_count": 8
        }
      ]
    },
    {
      "cell_type": "markdown",
      "metadata": {
        "id": "h71F8NjjMhgT"
      },
      "source": [
        "## element wise multiplication"
      ]
    },
    {
      "cell_type": "code",
      "metadata": {
        "id": "jkYCGNhFMhgf",
        "colab": {
          "base_uri": "https://localhost:8080/"
        },
        "outputId": "2e89ca4d-7103-4c82-b274-24442beb9217"
      },
      "source": [
        "arg = np.random.randint(-9, 10, (5, 4)) / 10\n",
        "arg, hidden * arg"
      ],
      "execution_count": null,
      "outputs": [
        {
          "output_type": "execute_result",
          "data": {
            "text/plain": [
              "(array([[ 0.1, -0.8, -0.6,  0.8],\n",
              "        [ 0.7, -0.8,  0.2, -0.8],\n",
              "        [-0.3, -0.8,  0.6, -0.9],\n",
              "        [ 0.8,  0.1, -0.3, -0.2],\n",
              "        [-0.1,  0.2, -0.4, -0.6]]), array([[-0.03,  0.56, -0.18, -0.32],\n",
              "        [ 0.42, -0.16,  0.06,  0.4 ],\n",
              "        [ 0.06, -0.16, -0.3 , -0.45],\n",
              "        [ 0.  ,  0.02,  0.06,  0.1 ],\n",
              "        [ 0.05, -0.14,  0.28, -0.18]]))"
            ]
          },
          "metadata": {
            "tags": []
          },
          "execution_count": 11
        }
      ]
    },
    {
      "cell_type": "code",
      "metadata": {
        "id": "8RkPr0jfMhgg",
        "colab": {
          "base_uri": "https://localhost:8080/"
        },
        "outputId": "cf6328f6-9c79-4cc9-d29b-aafa9f2f9c6f"
      },
      "source": [
        "arg = np.random.randint(-9, 10, (1, 4)) / 10\n",
        "arg, hidden * arg"
      ],
      "execution_count": null,
      "outputs": [
        {
          "output_type": "execute_result",
          "data": {
            "text/plain": [
              "(array([[ 0.6,  0.8, -0.8, -0.6]]), array([[-0.18, -0.56, -0.24,  0.24],\n",
              "        [ 0.36,  0.16, -0.24,  0.3 ],\n",
              "        [-0.12,  0.16,  0.4 , -0.3 ],\n",
              "        [ 0.  ,  0.16,  0.16,  0.3 ],\n",
              "        [-0.3 , -0.56,  0.56, -0.18]]))"
            ]
          },
          "metadata": {
            "tags": []
          },
          "execution_count": 12
        }
      ]
    },
    {
      "cell_type": "code",
      "metadata": {
        "id": "gOxjqjyUMhgg",
        "colab": {
          "base_uri": "https://localhost:8080/"
        },
        "outputId": "99a65cb5-c0de-4806-a795-485edbc63459"
      },
      "source": [
        "arg = np.random.randint(-9, 10, (5, 1)) / 10\n",
        "arg, hidden * arg"
      ],
      "execution_count": null,
      "outputs": [
        {
          "output_type": "execute_result",
          "data": {
            "text/plain": [
              "(array([[ 0.5],\n",
              "        [ 0.1],\n",
              "        [-0.8],\n",
              "        [ 0.8],\n",
              "        [ 0.6]]), array([[-0.15, -0.35,  0.15, -0.2 ],\n",
              "        [ 0.06,  0.02,  0.03, -0.05],\n",
              "        [ 0.16, -0.16,  0.4 , -0.4 ],\n",
              "        [ 0.  ,  0.16, -0.16, -0.4 ],\n",
              "        [-0.3 , -0.42, -0.42,  0.18]]))"
            ]
          },
          "metadata": {
            "tags": []
          },
          "execution_count": 13
        }
      ]
    },
    {
      "cell_type": "code",
      "metadata": {
        "id": "svhBfZHmMhgg",
        "colab": {
          "base_uri": "https://localhost:8080/"
        },
        "outputId": "b79bd805-9243-4b48-9044-7ae5181e9d8d"
      },
      "source": [
        "arg = np.random.randint(-9, 10, (1, 1)) / 10\n",
        "arg, hidden * arg"
      ],
      "execution_count": null,
      "outputs": [
        {
          "output_type": "execute_result",
          "data": {
            "text/plain": [
              "(array([[-0.4]]), array([[ 0.12,  0.28, -0.12,  0.16],\n",
              "        [-0.24, -0.08, -0.12,  0.2 ],\n",
              "        [ 0.08, -0.08,  0.2 , -0.2 ],\n",
              "        [-0.  , -0.08,  0.08,  0.2 ],\n",
              "        [ 0.2 ,  0.28,  0.28, -0.12]]))"
            ]
          },
          "metadata": {
            "tags": []
          },
          "execution_count": 14
        }
      ]
    },
    {
      "cell_type": "code",
      "metadata": {
        "id": "ICFetaBqFK3X",
        "colab": {
          "base_uri": "https://localhost:8080/"
        },
        "outputId": "11dc4cd5-2349-477e-ac73-2880e4cac5f0"
      },
      "source": [
        "hidden * 2"
      ],
      "execution_count": null,
      "outputs": [
        {
          "output_type": "execute_result",
          "data": {
            "text/plain": [
              "array([[-0.6, -1.4,  0.6, -0.8],\n",
              "       [ 1.2,  0.4,  0.6, -1. ],\n",
              "       [-0.4,  0.4, -1. ,  1. ],\n",
              "       [ 0. ,  0.4, -0.4, -1. ],\n",
              "       [-1. , -1.4, -1.4,  0.6]])"
            ]
          },
          "metadata": {
            "tags": []
          },
          "execution_count": 15
        }
      ]
    },
    {
      "cell_type": "code",
      "metadata": {
        "id": "jFgp0LhBFJVX",
        "colab": {
          "base_uri": "https://localhost:8080/"
        },
        "outputId": "8aef02ab-5935-4aa2-fe53-9baee7a15985"
      },
      "source": [
        "2 * hidden"
      ],
      "execution_count": null,
      "outputs": [
        {
          "output_type": "execute_result",
          "data": {
            "text/plain": [
              "array([[-0.6, -1.4,  0.6, -0.8],\n",
              "       [ 1.2,  0.4,  0.6, -1. ],\n",
              "       [-0.4,  0.4, -1. ,  1. ],\n",
              "       [ 0. ,  0.4, -0.4, -1. ],\n",
              "       [-1. , -1.4, -1.4,  0.6]])"
            ]
          },
          "metadata": {
            "tags": []
          },
          "execution_count": 16
        }
      ]
    },
    {
      "cell_type": "markdown",
      "metadata": {
        "id": "StVZG6BQNuHv"
      },
      "source": [
        "## matrix multiplication"
      ]
    },
    {
      "cell_type": "code",
      "metadata": {
        "colab": {
          "base_uri": "https://localhost:8080/"
        },
        "id": "9OaatIhpNuH4",
        "outputId": "9db4c3ab-d389-4ed8-8198-a8a52bcc44f6"
      },
      "source": [
        "arg = np.random.randint(-9, 10, (4, 5)) / 10\n",
        "arg, np.matmul(hidden, arg)"
      ],
      "execution_count": null,
      "outputs": [
        {
          "output_type": "execute_result",
          "data": {
            "text/plain": [
              "(array([[-0.9,  0.2, -0.8, -0.5,  0.4],\n",
              "        [ 0.5,  0.6, -0.5,  0.1, -0.3],\n",
              "        [-0.7,  0.6,  0.3,  0.3, -0.1],\n",
              "        [ 0.1, -0.6,  0.2,  0. ,  0.4]]),\n",
              " array([[-0.33, -0.06,  0.6 ,  0.17, -0.1 ],\n",
              "        [-0.7 ,  0.72, -0.59, -0.19, -0.05],\n",
              "        [ 0.68, -0.52,  0.01, -0.03,  0.11],\n",
              "        [ 0.19,  0.3 , -0.26, -0.04, -0.24],\n",
              "        [ 0.62, -1.12,  0.6 , -0.03,  0.2 ]]))"
            ]
          },
          "metadata": {
            "tags": []
          },
          "execution_count": 17
        }
      ]
    },
    {
      "cell_type": "code",
      "metadata": {
        "colab": {
          "base_uri": "https://localhost:8080/"
        },
        "id": "5Cb1dK4XRjqc",
        "outputId": "3d9915d3-9b10-421f-c1d5-d280c8539e37"
      },
      "source": [
        "val = np.zeros((hidden.shape[0], arg.shape[1]))\n",
        "val"
      ],
      "execution_count": null,
      "outputs": [
        {
          "output_type": "execute_result",
          "data": {
            "text/plain": [
              "array([[0., 0., 0., 0., 0.],\n",
              "       [0., 0., 0., 0., 0.],\n",
              "       [0., 0., 0., 0., 0.],\n",
              "       [0., 0., 0., 0., 0.],\n",
              "       [0., 0., 0., 0., 0.]])"
            ]
          },
          "metadata": {
            "tags": []
          },
          "execution_count": 18
        }
      ]
    },
    {
      "cell_type": "code",
      "metadata": {
        "colab": {
          "base_uri": "https://localhost:8080/"
        },
        "id": "eygkZ2N6RmuV",
        "outputId": "0b281898-2801-436f-cef1-e7ebc2bb6ede"
      },
      "source": [
        "#Dot 연산에대하여\n",
        "for row in range(hidden.shape[0]):\n",
        "    row_v = hidden[row]\n",
        "    for col in range(arg.shape[1]):\n",
        "        col_v = arg[:, col]\n",
        "        val[row][col] = np.dot(row_v, col_v)\n",
        "val"
      ],
      "execution_count": null,
      "outputs": [
        {
          "output_type": "execute_result",
          "data": {
            "text/plain": [
              "array([[-0.33, -0.06,  0.6 ,  0.17, -0.1 ],\n",
              "       [-0.7 ,  0.72, -0.59, -0.19, -0.05],\n",
              "       [ 0.68, -0.52,  0.01, -0.03,  0.11],\n",
              "       [ 0.19,  0.3 , -0.26, -0.04, -0.24],\n",
              "       [ 0.62, -1.12,  0.6 , -0.03,  0.2 ]])"
            ]
          },
          "metadata": {
            "tags": []
          },
          "execution_count": 19
        }
      ]
    },
    {
      "cell_type": "code",
      "metadata": {
        "id": "DBeV6JNvFWLC"
      },
      "source": [
        ""
      ],
      "execution_count": null,
      "outputs": []
    }
  ]
}