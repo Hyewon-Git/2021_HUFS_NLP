{
  "nbformat": 4,
  "nbformat_minor": 0,
  "metadata": {
    "colab": {
      "name": "혜원-NLP-06-01-text-similarity-과제.ipynb",
      "provenance": [],
      "collapsed_sections": [],
      "include_colab_link": true
    },
    "kernelspec": {
      "name": "python3",
      "display_name": "Python 3"
    },
    "accelerator": "GPU",
    "widgets": {
      "application/vnd.jupyter.widget-state+json": {
        "73b785049983457cb83bef1cb1dd8583": {
          "model_module": "@jupyter-widgets/controls",
          "model_name": "HBoxModel",
          "state": {
            "_view_name": "HBoxView",
            "_dom_classes": [],
            "_model_name": "HBoxModel",
            "_view_module": "@jupyter-widgets/controls",
            "_model_module_version": "1.5.0",
            "_view_count": null,
            "_view_module_version": "1.5.0",
            "box_style": "",
            "layout": "IPY_MODEL_220f690937654948a5ff55ae731e0c6b",
            "_model_module": "@jupyter-widgets/controls",
            "children": [
              "IPY_MODEL_2d4e91dc251d4d1795e52501b3be34ed",
              "IPY_MODEL_bf12c1ff3be44823ade74261d56e60d5"
            ]
          }
        },
        "220f690937654948a5ff55ae731e0c6b": {
          "model_module": "@jupyter-widgets/base",
          "model_name": "LayoutModel",
          "state": {
            "_view_name": "LayoutView",
            "grid_template_rows": null,
            "right": null,
            "justify_content": null,
            "_view_module": "@jupyter-widgets/base",
            "overflow": null,
            "_model_module_version": "1.2.0",
            "_view_count": null,
            "flex_flow": null,
            "width": null,
            "min_width": null,
            "border": null,
            "align_items": null,
            "bottom": null,
            "_model_module": "@jupyter-widgets/base",
            "top": null,
            "grid_column": null,
            "overflow_y": null,
            "overflow_x": null,
            "grid_auto_flow": null,
            "grid_area": null,
            "grid_template_columns": null,
            "flex": null,
            "_model_name": "LayoutModel",
            "justify_items": null,
            "grid_row": null,
            "max_height": null,
            "align_content": null,
            "visibility": null,
            "align_self": null,
            "height": null,
            "min_height": null,
            "padding": null,
            "grid_auto_rows": null,
            "grid_gap": null,
            "max_width": null,
            "order": null,
            "_view_module_version": "1.2.0",
            "grid_template_areas": null,
            "object_position": null,
            "object_fit": null,
            "grid_auto_columns": null,
            "margin": null,
            "display": null,
            "left": null
          }
        },
        "2d4e91dc251d4d1795e52501b3be34ed": {
          "model_module": "@jupyter-widgets/controls",
          "model_name": "FloatProgressModel",
          "state": {
            "_view_name": "ProgressView",
            "style": "IPY_MODEL_6ad1307bea064552aa4f5117e689da06",
            "_dom_classes": [],
            "description": "100%",
            "_model_name": "FloatProgressModel",
            "bar_style": "success",
            "max": 6888,
            "_view_module": "@jupyter-widgets/controls",
            "_model_module_version": "1.5.0",
            "value": 6888,
            "_view_count": null,
            "_view_module_version": "1.5.0",
            "orientation": "horizontal",
            "min": 0,
            "description_tooltip": null,
            "_model_module": "@jupyter-widgets/controls",
            "layout": "IPY_MODEL_29ada60656a744319ff0cb0b0680cfbd"
          }
        },
        "bf12c1ff3be44823ade74261d56e60d5": {
          "model_module": "@jupyter-widgets/controls",
          "model_name": "HTMLModel",
          "state": {
            "_view_name": "HTMLView",
            "style": "IPY_MODEL_4f38ad75b4a04ceb84b55b1a2924c589",
            "_dom_classes": [],
            "description": "",
            "_model_name": "HTMLModel",
            "placeholder": "​",
            "_view_module": "@jupyter-widgets/controls",
            "_model_module_version": "1.5.0",
            "value": " 6888/6888 [00:01&lt;00:00, 6119.31it/s]",
            "_view_count": null,
            "_view_module_version": "1.5.0",
            "description_tooltip": null,
            "_model_module": "@jupyter-widgets/controls",
            "layout": "IPY_MODEL_b9801a8fd3c3452f9cfcd1046bb62e2d"
          }
        },
        "6ad1307bea064552aa4f5117e689da06": {
          "model_module": "@jupyter-widgets/controls",
          "model_name": "ProgressStyleModel",
          "state": {
            "_view_name": "StyleView",
            "_model_name": "ProgressStyleModel",
            "description_width": "initial",
            "_view_module": "@jupyter-widgets/base",
            "_model_module_version": "1.5.0",
            "_view_count": null,
            "_view_module_version": "1.2.0",
            "bar_color": null,
            "_model_module": "@jupyter-widgets/controls"
          }
        },
        "29ada60656a744319ff0cb0b0680cfbd": {
          "model_module": "@jupyter-widgets/base",
          "model_name": "LayoutModel",
          "state": {
            "_view_name": "LayoutView",
            "grid_template_rows": null,
            "right": null,
            "justify_content": null,
            "_view_module": "@jupyter-widgets/base",
            "overflow": null,
            "_model_module_version": "1.2.0",
            "_view_count": null,
            "flex_flow": null,
            "width": null,
            "min_width": null,
            "border": null,
            "align_items": null,
            "bottom": null,
            "_model_module": "@jupyter-widgets/base",
            "top": null,
            "grid_column": null,
            "overflow_y": null,
            "overflow_x": null,
            "grid_auto_flow": null,
            "grid_area": null,
            "grid_template_columns": null,
            "flex": null,
            "_model_name": "LayoutModel",
            "justify_items": null,
            "grid_row": null,
            "max_height": null,
            "align_content": null,
            "visibility": null,
            "align_self": null,
            "height": null,
            "min_height": null,
            "padding": null,
            "grid_auto_rows": null,
            "grid_gap": null,
            "max_width": null,
            "order": null,
            "_view_module_version": "1.2.0",
            "grid_template_areas": null,
            "object_position": null,
            "object_fit": null,
            "grid_auto_columns": null,
            "margin": null,
            "display": null,
            "left": null
          }
        },
        "4f38ad75b4a04ceb84b55b1a2924c589": {
          "model_module": "@jupyter-widgets/controls",
          "model_name": "DescriptionStyleModel",
          "state": {
            "_view_name": "StyleView",
            "_model_name": "DescriptionStyleModel",
            "description_width": "",
            "_view_module": "@jupyter-widgets/base",
            "_model_module_version": "1.5.0",
            "_view_count": null,
            "_view_module_version": "1.2.0",
            "_model_module": "@jupyter-widgets/controls"
          }
        },
        "b9801a8fd3c3452f9cfcd1046bb62e2d": {
          "model_module": "@jupyter-widgets/base",
          "model_name": "LayoutModel",
          "state": {
            "_view_name": "LayoutView",
            "grid_template_rows": null,
            "right": null,
            "justify_content": null,
            "_view_module": "@jupyter-widgets/base",
            "overflow": null,
            "_model_module_version": "1.2.0",
            "_view_count": null,
            "flex_flow": null,
            "width": null,
            "min_width": null,
            "border": null,
            "align_items": null,
            "bottom": null,
            "_model_module": "@jupyter-widgets/base",
            "top": null,
            "grid_column": null,
            "overflow_y": null,
            "overflow_x": null,
            "grid_auto_flow": null,
            "grid_area": null,
            "grid_template_columns": null,
            "flex": null,
            "_model_name": "LayoutModel",
            "justify_items": null,
            "grid_row": null,
            "max_height": null,
            "align_content": null,
            "visibility": null,
            "align_self": null,
            "height": null,
            "min_height": null,
            "padding": null,
            "grid_auto_rows": null,
            "grid_gap": null,
            "max_width": null,
            "order": null,
            "_view_module_version": "1.2.0",
            "grid_template_areas": null,
            "object_position": null,
            "object_fit": null,
            "grid_auto_columns": null,
            "margin": null,
            "display": null,
            "left": null
          }
        },
        "154e9ada7d67419fa47a22e5697fa6e6": {
          "model_module": "@jupyter-widgets/controls",
          "model_name": "HBoxModel",
          "state": {
            "_view_name": "HBoxView",
            "_dom_classes": [],
            "_model_name": "HBoxModel",
            "_view_module": "@jupyter-widgets/controls",
            "_model_module_version": "1.5.0",
            "_view_count": null,
            "_view_module_version": "1.5.0",
            "box_style": "",
            "layout": "IPY_MODEL_e9496d32db96408898dae06aac3c11bc",
            "_model_module": "@jupyter-widgets/controls",
            "children": [
              "IPY_MODEL_8ab3fdf403294cdb9a492c60a0dde020",
              "IPY_MODEL_5feb23749f6742548856d96f5ddf1b1f"
            ]
          }
        },
        "e9496d32db96408898dae06aac3c11bc": {
          "model_module": "@jupyter-widgets/base",
          "model_name": "LayoutModel",
          "state": {
            "_view_name": "LayoutView",
            "grid_template_rows": null,
            "right": null,
            "justify_content": null,
            "_view_module": "@jupyter-widgets/base",
            "overflow": null,
            "_model_module_version": "1.2.0",
            "_view_count": null,
            "flex_flow": null,
            "width": null,
            "min_width": null,
            "border": null,
            "align_items": null,
            "bottom": null,
            "_model_module": "@jupyter-widgets/base",
            "top": null,
            "grid_column": null,
            "overflow_y": null,
            "overflow_x": null,
            "grid_auto_flow": null,
            "grid_area": null,
            "grid_template_columns": null,
            "flex": null,
            "_model_name": "LayoutModel",
            "justify_items": null,
            "grid_row": null,
            "max_height": null,
            "align_content": null,
            "visibility": null,
            "align_self": null,
            "height": null,
            "min_height": null,
            "padding": null,
            "grid_auto_rows": null,
            "grid_gap": null,
            "max_width": null,
            "order": null,
            "_view_module_version": "1.2.0",
            "grid_template_areas": null,
            "object_position": null,
            "object_fit": null,
            "grid_auto_columns": null,
            "margin": null,
            "display": null,
            "left": null
          }
        },
        "8ab3fdf403294cdb9a492c60a0dde020": {
          "model_module": "@jupyter-widgets/controls",
          "model_name": "FloatProgressModel",
          "state": {
            "_view_name": "ProgressView",
            "style": "IPY_MODEL_51f86897743d497f95d6eac4d9c35a72",
            "_dom_classes": [],
            "description": "100%",
            "_model_name": "FloatProgressModel",
            "bar_style": "success",
            "max": 688,
            "_view_module": "@jupyter-widgets/controls",
            "_model_module_version": "1.5.0",
            "value": 688,
            "_view_count": null,
            "_view_module_version": "1.5.0",
            "orientation": "horizontal",
            "min": 0,
            "description_tooltip": null,
            "_model_module": "@jupyter-widgets/controls",
            "layout": "IPY_MODEL_3548c545aef24a3fa0650ef07c9f5f94"
          }
        },
        "5feb23749f6742548856d96f5ddf1b1f": {
          "model_module": "@jupyter-widgets/controls",
          "model_name": "HTMLModel",
          "state": {
            "_view_name": "HTMLView",
            "style": "IPY_MODEL_4b8e08ca30404fd39e3f18c97622e512",
            "_dom_classes": [],
            "description": "",
            "_model_name": "HTMLModel",
            "placeholder": "​",
            "_view_module": "@jupyter-widgets/controls",
            "_model_module_version": "1.5.0",
            "value": " 688/688 [00:00&lt;00:00, 4144.22it/s]",
            "_view_count": null,
            "_view_module_version": "1.5.0",
            "description_tooltip": null,
            "_model_module": "@jupyter-widgets/controls",
            "layout": "IPY_MODEL_5dc888f3faf04ce6ab91251eaccb8a02"
          }
        },
        "51f86897743d497f95d6eac4d9c35a72": {
          "model_module": "@jupyter-widgets/controls",
          "model_name": "ProgressStyleModel",
          "state": {
            "_view_name": "StyleView",
            "_model_name": "ProgressStyleModel",
            "description_width": "initial",
            "_view_module": "@jupyter-widgets/base",
            "_model_module_version": "1.5.0",
            "_view_count": null,
            "_view_module_version": "1.2.0",
            "bar_color": null,
            "_model_module": "@jupyter-widgets/controls"
          }
        },
        "3548c545aef24a3fa0650ef07c9f5f94": {
          "model_module": "@jupyter-widgets/base",
          "model_name": "LayoutModel",
          "state": {
            "_view_name": "LayoutView",
            "grid_template_rows": null,
            "right": null,
            "justify_content": null,
            "_view_module": "@jupyter-widgets/base",
            "overflow": null,
            "_model_module_version": "1.2.0",
            "_view_count": null,
            "flex_flow": null,
            "width": null,
            "min_width": null,
            "border": null,
            "align_items": null,
            "bottom": null,
            "_model_module": "@jupyter-widgets/base",
            "top": null,
            "grid_column": null,
            "overflow_y": null,
            "overflow_x": null,
            "grid_auto_flow": null,
            "grid_area": null,
            "grid_template_columns": null,
            "flex": null,
            "_model_name": "LayoutModel",
            "justify_items": null,
            "grid_row": null,
            "max_height": null,
            "align_content": null,
            "visibility": null,
            "align_self": null,
            "height": null,
            "min_height": null,
            "padding": null,
            "grid_auto_rows": null,
            "grid_gap": null,
            "max_width": null,
            "order": null,
            "_view_module_version": "1.2.0",
            "grid_template_areas": null,
            "object_position": null,
            "object_fit": null,
            "grid_auto_columns": null,
            "margin": null,
            "display": null,
            "left": null
          }
        },
        "4b8e08ca30404fd39e3f18c97622e512": {
          "model_module": "@jupyter-widgets/controls",
          "model_name": "DescriptionStyleModel",
          "state": {
            "_view_name": "StyleView",
            "_model_name": "DescriptionStyleModel",
            "description_width": "",
            "_view_module": "@jupyter-widgets/base",
            "_model_module_version": "1.5.0",
            "_view_count": null,
            "_view_module_version": "1.2.0",
            "_model_module": "@jupyter-widgets/controls"
          }
        },
        "5dc888f3faf04ce6ab91251eaccb8a02": {
          "model_module": "@jupyter-widgets/base",
          "model_name": "LayoutModel",
          "state": {
            "_view_name": "LayoutView",
            "grid_template_rows": null,
            "right": null,
            "justify_content": null,
            "_view_module": "@jupyter-widgets/base",
            "overflow": null,
            "_model_module_version": "1.2.0",
            "_view_count": null,
            "flex_flow": null,
            "width": null,
            "min_width": null,
            "border": null,
            "align_items": null,
            "bottom": null,
            "_model_module": "@jupyter-widgets/base",
            "top": null,
            "grid_column": null,
            "overflow_y": null,
            "overflow_x": null,
            "grid_auto_flow": null,
            "grid_area": null,
            "grid_template_columns": null,
            "flex": null,
            "_model_name": "LayoutModel",
            "justify_items": null,
            "grid_row": null,
            "max_height": null,
            "align_content": null,
            "visibility": null,
            "align_self": null,
            "height": null,
            "min_height": null,
            "padding": null,
            "grid_auto_rows": null,
            "grid_gap": null,
            "max_width": null,
            "order": null,
            "_view_module_version": "1.2.0",
            "grid_template_areas": null,
            "object_position": null,
            "object_fit": null,
            "grid_auto_columns": null,
            "margin": null,
            "display": null,
            "left": null
          }
        }
      }
    }
  },
  "cells": [
    {
      "cell_type": "markdown",
      "metadata": {
        "id": "view-in-github",
        "colab_type": "text"
      },
      "source": [
        "<a href=\"https://colab.research.google.com/github/Hyewon-Git/2021_HUFS_NLP/blob/main/%ED%98%9C%EC%9B%90_NLP_06_01_text_similarity_%EA%B3%BC%EC%A0%9C.ipynb\" target=\"_parent\"><img src=\"https://colab.research.google.com/assets/colab-badge.svg\" alt=\"Open In Colab\"/></a>"
      ]
    },
    {
      "cell_type": "markdown",
      "metadata": {
        "id": "g78tzmjN3mzF"
      },
      "source": [
        "# 한글폰트 설치\n",
        "- 아래 실행후 '런터임 다시 시작' 하면 됩니다.\n",
        "- 메뉴에서 '런타임' >> '런타임 다시 시작'을 클릭하세요.\n",
        "- 런타임 다시 시작 후 다시 실행할 필요 없습니다."
      ]
    },
    {
      "cell_type": "code",
      "metadata": {
        "id": "Co97FHic3p0D",
        "colab": {
          "base_uri": "https://localhost:8080/"
        },
        "outputId": "331781d5-6362-447a-ee21-973918d0a9f8"
      },
      "source": [
        "# 폰트 설치\n",
        "!apt-get update -qq # 나눔고딕 설치\n",
        "!apt-get install fonts-nanum* -qq\n",
        "\n",
        "import matplotlib as mpl\n",
        "import matplotlib.pyplot as plt\n",
        "import matplotlib.font_manager as fm\n",
        "\n",
        "# 폰트 로딩\n",
        "fontpath = '/usr/share/fonts/truetype/nanum/NanumBarunGothic.ttf'\n",
        "font = fm.FontProperties(fname=fontpath, size=9)\n",
        "plt.rc('font', family='NanumBarunGothic') \n",
        "mpl.font_manager._rebuild()"
      ],
      "execution_count": null,
      "outputs": [
        {
          "output_type": "stream",
          "text": [
            "Selecting previously unselected package fonts-nanum.\n",
            "(Reading database ... 146374 files and directories currently installed.)\n",
            "Preparing to unpack .../fonts-nanum_20170925-1_all.deb ...\n",
            "Unpacking fonts-nanum (20170925-1) ...\n",
            "Selecting previously unselected package fonts-nanum-eco.\n",
            "Preparing to unpack .../fonts-nanum-eco_1.000-6_all.deb ...\n",
            "Unpacking fonts-nanum-eco (1.000-6) ...\n",
            "Selecting previously unselected package fonts-nanum-extra.\n",
            "Preparing to unpack .../fonts-nanum-extra_20170925-1_all.deb ...\n",
            "Unpacking fonts-nanum-extra (20170925-1) ...\n",
            "Selecting previously unselected package fonts-nanum-coding.\n",
            "Preparing to unpack .../fonts-nanum-coding_2.5-1_all.deb ...\n",
            "Unpacking fonts-nanum-coding (2.5-1) ...\n",
            "Setting up fonts-nanum-extra (20170925-1) ...\n",
            "Setting up fonts-nanum (20170925-1) ...\n",
            "Setting up fonts-nanum-coding (2.5-1) ...\n",
            "Setting up fonts-nanum-eco (1.000-6) ...\n",
            "Processing triggers for fontconfig (2.12.6-0ubuntu2) ...\n"
          ],
          "name": "stdout"
        }
      ]
    },
    {
      "cell_type": "markdown",
      "metadata": {
        "id": "6dfJPT-2XMTB"
      },
      "source": [
        "# Install"
      ]
    },
    {
      "cell_type": "code",
      "metadata": {
        "id": "a193aGJWVaqb",
        "colab": {
          "base_uri": "https://localhost:8080/"
        },
        "outputId": "df866f0d-be75-450d-81e4-126dc0e716ef"
      },
      "source": [
        "!pip install sentencepiece"
      ],
      "execution_count": null,
      "outputs": [
        {
          "output_type": "stream",
          "text": [
            "Collecting sentencepiece\n",
            "\u001b[?25l  Downloading https://files.pythonhosted.org/packages/14/67/e42bd1181472c95c8cda79305df848264f2a7f62740995a46945d9797b67/sentencepiece-0.1.95-cp36-cp36m-manylinux2014_x86_64.whl (1.2MB)\n",
            "\r\u001b[K     |▎                               | 10kB 16.9MB/s eta 0:00:01\r\u001b[K     |▌                               | 20kB 18.0MB/s eta 0:00:01\r\u001b[K     |▉                               | 30kB 14.7MB/s eta 0:00:01\r\u001b[K     |█                               | 40kB 12.8MB/s eta 0:00:01\r\u001b[K     |█▍                              | 51kB 9.3MB/s eta 0:00:01\r\u001b[K     |█▋                              | 61kB 8.5MB/s eta 0:00:01\r\u001b[K     |██                              | 71kB 9.5MB/s eta 0:00:01\r\u001b[K     |██▏                             | 81kB 10.6MB/s eta 0:00:01\r\u001b[K     |██▌                             | 92kB 9.4MB/s eta 0:00:01\r\u001b[K     |██▊                             | 102kB 8.8MB/s eta 0:00:01\r\u001b[K     |███                             | 112kB 8.8MB/s eta 0:00:01\r\u001b[K     |███▎                            | 122kB 8.8MB/s eta 0:00:01\r\u001b[K     |███▌                            | 133kB 8.8MB/s eta 0:00:01\r\u001b[K     |███▉                            | 143kB 8.8MB/s eta 0:00:01\r\u001b[K     |████                            | 153kB 8.8MB/s eta 0:00:01\r\u001b[K     |████▍                           | 163kB 8.8MB/s eta 0:00:01\r\u001b[K     |████▋                           | 174kB 8.8MB/s eta 0:00:01\r\u001b[K     |█████                           | 184kB 8.8MB/s eta 0:00:01\r\u001b[K     |█████▏                          | 194kB 8.8MB/s eta 0:00:01\r\u001b[K     |█████▌                          | 204kB 8.8MB/s eta 0:00:01\r\u001b[K     |█████▊                          | 215kB 8.8MB/s eta 0:00:01\r\u001b[K     |██████                          | 225kB 8.8MB/s eta 0:00:01\r\u001b[K     |██████▎                         | 235kB 8.8MB/s eta 0:00:01\r\u001b[K     |██████▌                         | 245kB 8.8MB/s eta 0:00:01\r\u001b[K     |██████▉                         | 256kB 8.8MB/s eta 0:00:01\r\u001b[K     |███████                         | 266kB 8.8MB/s eta 0:00:01\r\u001b[K     |███████▍                        | 276kB 8.8MB/s eta 0:00:01\r\u001b[K     |███████▋                        | 286kB 8.8MB/s eta 0:00:01\r\u001b[K     |████████                        | 296kB 8.8MB/s eta 0:00:01\r\u001b[K     |████████▏                       | 307kB 8.8MB/s eta 0:00:01\r\u001b[K     |████████▍                       | 317kB 8.8MB/s eta 0:00:01\r\u001b[K     |████████▊                       | 327kB 8.8MB/s eta 0:00:01\r\u001b[K     |█████████                       | 337kB 8.8MB/s eta 0:00:01\r\u001b[K     |█████████▎                      | 348kB 8.8MB/s eta 0:00:01\r\u001b[K     |█████████▌                      | 358kB 8.8MB/s eta 0:00:01\r\u001b[K     |█████████▉                      | 368kB 8.8MB/s eta 0:00:01\r\u001b[K     |██████████                      | 378kB 8.8MB/s eta 0:00:01\r\u001b[K     |██████████▍                     | 389kB 8.8MB/s eta 0:00:01\r\u001b[K     |██████████▋                     | 399kB 8.8MB/s eta 0:00:01\r\u001b[K     |███████████                     | 409kB 8.8MB/s eta 0:00:01\r\u001b[K     |███████████▏                    | 419kB 8.8MB/s eta 0:00:01\r\u001b[K     |███████████▍                    | 430kB 8.8MB/s eta 0:00:01\r\u001b[K     |███████████▊                    | 440kB 8.8MB/s eta 0:00:01\r\u001b[K     |████████████                    | 450kB 8.8MB/s eta 0:00:01\r\u001b[K     |████████████▎                   | 460kB 8.8MB/s eta 0:00:01\r\u001b[K     |████████████▌                   | 471kB 8.8MB/s eta 0:00:01\r\u001b[K     |████████████▉                   | 481kB 8.8MB/s eta 0:00:01\r\u001b[K     |█████████████                   | 491kB 8.8MB/s eta 0:00:01\r\u001b[K     |█████████████▍                  | 501kB 8.8MB/s eta 0:00:01\r\u001b[K     |█████████████▋                  | 512kB 8.8MB/s eta 0:00:01\r\u001b[K     |█████████████▉                  | 522kB 8.8MB/s eta 0:00:01\r\u001b[K     |██████████████▏                 | 532kB 8.8MB/s eta 0:00:01\r\u001b[K     |██████████████▍                 | 542kB 8.8MB/s eta 0:00:01\r\u001b[K     |██████████████▊                 | 552kB 8.8MB/s eta 0:00:01\r\u001b[K     |███████████████                 | 563kB 8.8MB/s eta 0:00:01\r\u001b[K     |███████████████▎                | 573kB 8.8MB/s eta 0:00:01\r\u001b[K     |███████████████▌                | 583kB 8.8MB/s eta 0:00:01\r\u001b[K     |███████████████▉                | 593kB 8.8MB/s eta 0:00:01\r\u001b[K     |████████████████                | 604kB 8.8MB/s eta 0:00:01\r\u001b[K     |████████████████▍               | 614kB 8.8MB/s eta 0:00:01\r\u001b[K     |████████████████▋               | 624kB 8.8MB/s eta 0:00:01\r\u001b[K     |████████████████▉               | 634kB 8.8MB/s eta 0:00:01\r\u001b[K     |█████████████████▏              | 645kB 8.8MB/s eta 0:00:01\r\u001b[K     |█████████████████▍              | 655kB 8.8MB/s eta 0:00:01\r\u001b[K     |█████████████████▊              | 665kB 8.8MB/s eta 0:00:01\r\u001b[K     |██████████████████              | 675kB 8.8MB/s eta 0:00:01\r\u001b[K     |██████████████████▎             | 686kB 8.8MB/s eta 0:00:01\r\u001b[K     |██████████████████▌             | 696kB 8.8MB/s eta 0:00:01\r\u001b[K     |██████████████████▉             | 706kB 8.8MB/s eta 0:00:01\r\u001b[K     |███████████████████             | 716kB 8.8MB/s eta 0:00:01\r\u001b[K     |███████████████████▎            | 727kB 8.8MB/s eta 0:00:01\r\u001b[K     |███████████████████▋            | 737kB 8.8MB/s eta 0:00:01\r\u001b[K     |███████████████████▉            | 747kB 8.8MB/s eta 0:00:01\r\u001b[K     |████████████████████▏           | 757kB 8.8MB/s eta 0:00:01\r\u001b[K     |████████████████████▍           | 768kB 8.8MB/s eta 0:00:01\r\u001b[K     |████████████████████▊           | 778kB 8.8MB/s eta 0:00:01\r\u001b[K     |█████████████████████           | 788kB 8.8MB/s eta 0:00:01\r\u001b[K     |█████████████████████▎          | 798kB 8.8MB/s eta 0:00:01\r\u001b[K     |█████████████████████▌          | 808kB 8.8MB/s eta 0:00:01\r\u001b[K     |█████████████████████▉          | 819kB 8.8MB/s eta 0:00:01\r\u001b[K     |██████████████████████          | 829kB 8.8MB/s eta 0:00:01\r\u001b[K     |██████████████████████▎         | 839kB 8.8MB/s eta 0:00:01\r\u001b[K     |██████████████████████▋         | 849kB 8.8MB/s eta 0:00:01\r\u001b[K     |██████████████████████▉         | 860kB 8.8MB/s eta 0:00:01\r\u001b[K     |███████████████████████▏        | 870kB 8.8MB/s eta 0:00:01\r\u001b[K     |███████████████████████▍        | 880kB 8.8MB/s eta 0:00:01\r\u001b[K     |███████████████████████▊        | 890kB 8.8MB/s eta 0:00:01\r\u001b[K     |████████████████████████        | 901kB 8.8MB/s eta 0:00:01\r\u001b[K     |████████████████████████▎       | 911kB 8.8MB/s eta 0:00:01\r\u001b[K     |████████████████████████▌       | 921kB 8.8MB/s eta 0:00:01\r\u001b[K     |████████████████████████▊       | 931kB 8.8MB/s eta 0:00:01\r\u001b[K     |█████████████████████████       | 942kB 8.8MB/s eta 0:00:01\r\u001b[K     |█████████████████████████▎      | 952kB 8.8MB/s eta 0:00:01\r\u001b[K     |█████████████████████████▋      | 962kB 8.8MB/s eta 0:00:01\r\u001b[K     |█████████████████████████▉      | 972kB 8.8MB/s eta 0:00:01\r\u001b[K     |██████████████████████████▏     | 983kB 8.8MB/s eta 0:00:01\r\u001b[K     |██████████████████████████▍     | 993kB 8.8MB/s eta 0:00:01\r\u001b[K     |██████████████████████████▊     | 1.0MB 8.8MB/s eta 0:00:01\r\u001b[K     |███████████████████████████     | 1.0MB 8.8MB/s eta 0:00:01\r\u001b[K     |███████████████████████████▎    | 1.0MB 8.8MB/s eta 0:00:01\r\u001b[K     |███████████████████████████▌    | 1.0MB 8.8MB/s eta 0:00:01\r\u001b[K     |███████████████████████████▊    | 1.0MB 8.8MB/s eta 0:00:01\r\u001b[K     |████████████████████████████    | 1.1MB 8.8MB/s eta 0:00:01\r\u001b[K     |████████████████████████████▎   | 1.1MB 8.8MB/s eta 0:00:01\r\u001b[K     |████████████████████████████▋   | 1.1MB 8.8MB/s eta 0:00:01\r\u001b[K     |████████████████████████████▉   | 1.1MB 8.8MB/s eta 0:00:01\r\u001b[K     |█████████████████████████████▏  | 1.1MB 8.8MB/s eta 0:00:01\r\u001b[K     |█████████████████████████████▍  | 1.1MB 8.8MB/s eta 0:00:01\r\u001b[K     |█████████████████████████████▊  | 1.1MB 8.8MB/s eta 0:00:01\r\u001b[K     |██████████████████████████████  | 1.1MB 8.8MB/s eta 0:00:01\r\u001b[K     |██████████████████████████████▏ | 1.1MB 8.8MB/s eta 0:00:01\r\u001b[K     |██████████████████████████████▌ | 1.1MB 8.8MB/s eta 0:00:01\r\u001b[K     |██████████████████████████████▊ | 1.2MB 8.8MB/s eta 0:00:01\r\u001b[K     |███████████████████████████████ | 1.2MB 8.8MB/s eta 0:00:01\r\u001b[K     |███████████████████████████████▎| 1.2MB 8.8MB/s eta 0:00:01\r\u001b[K     |███████████████████████████████▋| 1.2MB 8.8MB/s eta 0:00:01\r\u001b[K     |███████████████████████████████▉| 1.2MB 8.8MB/s eta 0:00:01\r\u001b[K     |████████████████████████████████| 1.2MB 8.8MB/s \n",
            "\u001b[?25hInstalling collected packages: sentencepiece\n",
            "Successfully installed sentencepiece-0.1.95\n"
          ],
          "name": "stdout"
        }
      ]
    },
    {
      "cell_type": "markdown",
      "metadata": {
        "id": "JHkHg6XAXoyK"
      },
      "source": [
        "# Evn"
      ]
    },
    {
      "cell_type": "code",
      "metadata": {
        "id": "WkYXFwcBXJDG"
      },
      "source": [
        "import os\n",
        "import random\n",
        "import shutil\n",
        "import json\n",
        "import zipfile\n",
        "import math\n",
        "import copy\n",
        "import collections\n",
        "import re\n",
        "\n",
        "import matplotlib.pyplot as plt\n",
        "import seaborn as sns\n",
        "from wordcloud import WordCloud\n",
        "import pandas as pd\n",
        "import numpy as np\n",
        "import sentencepiece as spm\n",
        "import tensorflow as tf\n",
        "import tensorflow.keras.backend as K\n",
        "\n",
        "from tqdm.notebook import tqdm"
      ],
      "execution_count": null,
      "outputs": []
    },
    {
      "cell_type": "code",
      "metadata": {
        "id": "nvjyruUlXtlR"
      },
      "source": [
        "# random seed initialize\n",
        "random_seed = 1234\n",
        "random.seed(random_seed)\n",
        "np.random.seed(random_seed)\n",
        "tf.random.set_seed(random_seed)"
      ],
      "execution_count": null,
      "outputs": []
    },
    {
      "cell_type": "code",
      "metadata": {
        "id": "BC3fXkhdYcYt",
        "colab": {
          "base_uri": "https://localhost:8080/"
        },
        "outputId": "acf6eabc-1c4b-465c-bf9b-90a62622ac9e"
      },
      "source": [
        "!nvidia-smi"
      ],
      "execution_count": null,
      "outputs": [
        {
          "output_type": "stream",
          "text": [
            "Mon Feb  1 23:56:33 2021       \n",
            "+-----------------------------------------------------------------------------+\n",
            "| NVIDIA-SMI 460.32.03    Driver Version: 418.67       CUDA Version: 10.1     |\n",
            "|-------------------------------+----------------------+----------------------+\n",
            "| GPU  Name        Persistence-M| Bus-Id        Disp.A | Volatile Uncorr. ECC |\n",
            "| Fan  Temp  Perf  Pwr:Usage/Cap|         Memory-Usage | GPU-Util  Compute M. |\n",
            "|                               |                      |               MIG M. |\n",
            "|===============================+======================+======================|\n",
            "|   0  Tesla T4            Off  | 00000000:00:04.0 Off |                    0 |\n",
            "| N/A   55C    P8    10W /  70W |      0MiB / 15079MiB |      0%      Default |\n",
            "|                               |                      |                 ERR! |\n",
            "+-------------------------------+----------------------+----------------------+\n",
            "                                                                               \n",
            "+-----------------------------------------------------------------------------+\n",
            "| Processes:                                                                  |\n",
            "|  GPU   GI   CI        PID   Type   Process name                  GPU Memory |\n",
            "|        ID   ID                                                   Usage      |\n",
            "|=============================================================================|\n",
            "|  No running processes found                                                 |\n",
            "+-----------------------------------------------------------------------------+\n"
          ],
          "name": "stdout"
        }
      ]
    },
    {
      "cell_type": "code",
      "metadata": {
        "id": "xVRdxYReYeQj",
        "colab": {
          "base_uri": "https://localhost:8080/"
        },
        "outputId": "0afcd16d-3073-4de9-c182-2db2c4d646f8"
      },
      "source": [
        "# google drive mount\n",
        "from google.colab import drive\n",
        "drive.mount('/content/drive')"
      ],
      "execution_count": null,
      "outputs": [
        {
          "output_type": "stream",
          "text": [
            "Mounted at /content/drive\n"
          ],
          "name": "stdout"
        }
      ]
    },
    {
      "cell_type": "code",
      "metadata": {
        "id": "byCIiLJBbFHh",
        "colab": {
          "base_uri": "https://localhost:8080/"
        },
        "outputId": "23c498b2-1437-432d-cb64-e23c39ddf8ab"
      },
      "source": [
        "# data dir\n",
        "data_dir = '/content/drive/MyDrive/Colab Notebooks/2021-HUFS-NLP/data'\n",
        "os.listdir(data_dir)"
      ],
      "execution_count": null,
      "outputs": [
        {
          "output_type": "execute_result",
          "data": {
            "text/plain": [
              "['ko_32000.model', 'ko_32000.vocab', 'kowiki', 'kowiki2', 'nsmc', 'quora']"
            ]
          },
          "metadata": {
            "tags": []
          },
          "execution_count": 7
        }
      ]
    },
    {
      "cell_type": "code",
      "metadata": {
        "id": "_Ru56YS3-SME",
        "colab": {
          "base_uri": "https://localhost:8080/"
        },
        "outputId": "f795e645-a1ca-4534-ad75-35fb0ee49bfb"
      },
      "source": [
        "# quora dir\n",
        "quora_dir = os.path.join(data_dir, 'quora')\n",
        "if not os.path.exists(quora_dir):\n",
        "    os.makedirs(quora_dir)\n",
        "os.listdir(quora_dir)"
      ],
      "execution_count": null,
      "outputs": [
        {
          "output_type": "execute_result",
          "data": {
            "text/plain": [
              "['kor_Pair_test.csv', 'kor_pair_train.csv', 'stub.csv', 'stub.hdf5']"
            ]
          },
          "metadata": {
            "tags": []
          },
          "execution_count": 8
        }
      ]
    },
    {
      "cell_type": "markdown",
      "metadata": {
        "id": "XwriCkq_R1Lc"
      },
      "source": [
        "# Vocabulary & config"
      ]
    },
    {
      "cell_type": "code",
      "metadata": {
        "id": "2H0BLydCb7lg",
        "colab": {
          "base_uri": "https://localhost:8080/"
        },
        "outputId": "69def731-be00-45e0-d527-08ac068c1921"
      },
      "source": [
        "# vocab loading\n",
        "vocab = spm.SentencePieceProcessor()\n",
        "vocab.load(os.path.join(data_dir, 'ko_32000.model'))"
      ],
      "execution_count": null,
      "outputs": [
        {
          "output_type": "execute_result",
          "data": {
            "text/plain": [
              "True"
            ]
          },
          "metadata": {
            "tags": []
          },
          "execution_count": 9
        }
      ]
    },
    {
      "cell_type": "code",
      "metadata": {
        "id": "0ETZ19flTRmt"
      },
      "source": [
        "n_vocab = len(vocab)  # number of vocabulary\n",
        "n_seq_1 = 26  # number of sequence 1\n",
        "n_seq_2 = 27  # number of sequence 2\n",
        "d_model = 256  # dimension of model\n",
        "n_out = 2  # number of output class"
      ],
      "execution_count": null,
      "outputs": []
    },
    {
      "cell_type": "markdown",
      "metadata": {
        "id": "3myBX8hNEH1u"
      },
      "source": [
        "# 모델링"
      ]
    },
    {
      "cell_type": "code",
      "metadata": {
        "id": "SobekkcjEX_P"
      },
      "source": [
        "def build_model(n_vocab, d_model, n_seq_1, n_seq_2):\n",
        "    \"\"\"\n",
        "    문장 유사도 비교 모델\n",
        "    :param n_vocab: vocabulary 단어 수\n",
        "    :param d_model: 단어를 의미하는 벡터의 차원 수\n",
        "    :param n_seq_1: 문장 1 길이 (단어 수)\n",
        "    :param n_seq_2: 문장 2 길이 (단어 수)\n",
        "    \"\"\"\n",
        "    inputs_1 = tf.keras.layers.Input((n_seq_1,))  # (bs, n_seq_1)\n",
        "    inputs_2 = tf.keras.layers.Input((n_seq_2,))  # (bs, n_seq_2)\n",
        "    # 입력 단어를 vector로 변환\n",
        "    embedding = tf.keras.layers.Embedding(n_vocab, d_model)\n",
        "    hidden_1 = embedding(inputs_1)  # (bs, n_seq_1, d_model)\n",
        "    hidden_2 = embedding(inputs_2)  # (bs, n_seq_2, d_model)\n",
        "    #########################\n",
        "    #RNN or CNN 추가\n",
        "    conv_1 = tf.keras.layers.Conv1D(filters = 256, kernel_size = 3, padding ='causal')  \n",
        "    conv_2 = tf.keras.layers.Conv1D(filters=128, kernel_size=3, padding='valid')\n",
        "    hidden_1 = conv_1(hidden_1)\n",
        "    hidden_1 = conv_2(hidden_1)\n",
        "    hidden_2 = conv_1(hidden_2)\n",
        "    hidden_2 = conv_2(hidden_2)\n",
        "\n",
        "    rnn_1 = tf.keras.layers.Bidirectional(tf.keras.layers.SimpleRNN(units=128, return_sequences=True))\n",
        "    rnn_2 = tf.keras.layers.SimpleRNN(units=128, return_sequences=True)\n",
        "    hidden_1 = rnn_1(hidden_1) \n",
        "    hidden_1 = rnn_2(hidden_1)\n",
        "    hidden_2 = rnn_1(hidden_2) \n",
        "    hidden_2 = rnn_2(hidden_2)\n",
        "\n",
        "    ##########################\n",
        "\n",
        "    # 각 단어 벡터의 최대값 기준으로 벡터를 더해서 차원을 줄여줌 (문장 vector 생성)\n",
        "    pool = tf.keras.layers.GlobalMaxPool1D()\n",
        "    hidden_pool_1 = pool(hidden_1)  # (bs, d_model)\n",
        "    hidden_pool_2 = pool(hidden_2)  # (bs, d_model)\n",
        "    # distance 계산 ||a - b||\n",
        "    distance = K.sum(K.abs(hidden_pool_1 - hidden_pool_2), axis=-1)\n",
        "    outputs = K.exp(-distance)\n",
        "    # 학습할 모델 선언\n",
        "    model = tf.keras.Model(inputs=(inputs_1, inputs_2), outputs=outputs)\n",
        "    return model"
      ],
      "execution_count": null,
      "outputs": []
    },
    {
      "cell_type": "markdown",
      "metadata": {
        "id": "zSaoCf37q3aC"
      },
      "source": [
        "# All Data Project"
      ]
    },
    {
      "cell_type": "markdown",
      "metadata": {
        "id": "arOON7lCq3aC"
      },
      "source": [
        "## Data\n"
      ]
    },
    {
      "cell_type": "code",
      "metadata": {
        "id": "tNIbidDEq3aC",
        "colab": {
          "base_uri": "https://localhost:8080/",
          "height": 470
        },
        "outputId": "6e9afc1e-347b-46e0-b902-64bb2920ed24"
      },
      "source": [
        "df_train = pd.read_csv(os.path.join(quora_dir, 'kor_pair_train.csv'), delimiter=',')\n",
        "df_train"
      ],
      "execution_count": null,
      "outputs": [
        {
          "output_type": "execute_result",
          "data": {
            "text/html": [
              "<div>\n",
              "<style scoped>\n",
              "    .dataframe tbody tr th:only-of-type {\n",
              "        vertical-align: middle;\n",
              "    }\n",
              "\n",
              "    .dataframe tbody tr th {\n",
              "        vertical-align: top;\n",
              "    }\n",
              "\n",
              "    .dataframe thead th {\n",
              "        text-align: right;\n",
              "    }\n",
              "</style>\n",
              "<table border=\"1\" class=\"dataframe\">\n",
              "  <thead>\n",
              "    <tr style=\"text-align: right;\">\n",
              "      <th></th>\n",
              "      <th>id</th>\n",
              "      <th>qid1</th>\n",
              "      <th>qid2</th>\n",
              "      <th>question1</th>\n",
              "      <th>question2</th>\n",
              "      <th>is_duplicate</th>\n",
              "    </tr>\n",
              "  </thead>\n",
              "  <tbody>\n",
              "    <tr>\n",
              "      <th>0</th>\n",
              "      <td>1</td>\n",
              "      <td>1</td>\n",
              "      <td>2</td>\n",
              "      <td>1000일 만난 여자친구와 이별</td>\n",
              "      <td>10년 연예의끝</td>\n",
              "      <td>1</td>\n",
              "    </tr>\n",
              "    <tr>\n",
              "      <th>1</th>\n",
              "      <td>2</td>\n",
              "      <td>3</td>\n",
              "      <td>4</td>\n",
              "      <td>10년 연애사 되돌아보니 다 부질없네</td>\n",
              "      <td>10년이라는 시간이 참 무색하다 싶네</td>\n",
              "      <td>1</td>\n",
              "    </tr>\n",
              "    <tr>\n",
              "      <th>2</th>\n",
              "      <td>3</td>\n",
              "      <td>5</td>\n",
              "      <td>6</td>\n",
              "      <td>10년만나다 헤어지네</td>\n",
              "      <td>14년된 여자친구랑 이별</td>\n",
              "      <td>1</td>\n",
              "    </tr>\n",
              "    <tr>\n",
              "      <th>3</th>\n",
              "      <td>4</td>\n",
              "      <td>7</td>\n",
              "      <td>8</td>\n",
              "      <td>10월의 마지막밤 . 더 보고싶네 그사람</td>\n",
              "      <td>15년…안녕</td>\n",
              "      <td>1</td>\n",
              "    </tr>\n",
              "    <tr>\n",
              "      <th>4</th>\n",
              "      <td>5</td>\n",
              "      <td>9</td>\n",
              "      <td>10</td>\n",
              "      <td>14년의 기나긴 이야기.</td>\n",
              "      <td>1년 9개월 의 연애 종지부.</td>\n",
              "      <td>1</td>\n",
              "    </tr>\n",
              "    <tr>\n",
              "      <th>...</th>\n",
              "      <td>...</td>\n",
              "      <td>...</td>\n",
              "      <td>...</td>\n",
              "      <td>...</td>\n",
              "      <td>...</td>\n",
              "      <td>...</td>\n",
              "    </tr>\n",
              "    <tr>\n",
              "      <th>6883</th>\n",
              "      <td>6884</td>\n",
              "      <td>13767</td>\n",
              "      <td>13768</td>\n",
              "      <td>O형 남자와 썸을 타는데</td>\n",
              "      <td>O형 여자와 썸을 타는데</td>\n",
              "      <td>1</td>\n",
              "    </tr>\n",
              "    <tr>\n",
              "      <th>6884</th>\n",
              "      <td>6885</td>\n",
              "      <td>13769</td>\n",
              "      <td>13770</td>\n",
              "      <td>SD카드 안돼</td>\n",
              "      <td>SD카드 망가졌어</td>\n",
              "      <td>0</td>\n",
              "    </tr>\n",
              "    <tr>\n",
              "      <th>6885</th>\n",
              "      <td>6886</td>\n",
              "      <td>13771</td>\n",
              "      <td>13772</td>\n",
              "      <td>SNS 를 끊어야 하는데.</td>\n",
              "      <td>가슴 아픈 이별</td>\n",
              "      <td>1</td>\n",
              "    </tr>\n",
              "    <tr>\n",
              "      <th>6886</th>\n",
              "      <td>6887</td>\n",
              "      <td>13773</td>\n",
              "      <td>13774</td>\n",
              "      <td>SNS 시간낭비인데 자꾸 보게됨</td>\n",
              "      <td>SNS 시간낭비인 거 아는데 매일 하는 중</td>\n",
              "      <td>0</td>\n",
              "    </tr>\n",
              "    <tr>\n",
              "      <th>6887</th>\n",
              "      <td>6888</td>\n",
              "      <td>13775</td>\n",
              "      <td>13776</td>\n",
              "      <td>sns에서 다른 이성이랑 대화하는걸 보니 화가 나</td>\n",
              "      <td>가슴에 구멍이 너무 커.</td>\n",
              "      <td>1</td>\n",
              "    </tr>\n",
              "  </tbody>\n",
              "</table>\n",
              "<p>6888 rows × 6 columns</p>\n",
              "</div>"
            ],
            "text/plain": [
              "        id   qid1  ...                question2 is_duplicate\n",
              "0        1      1  ...                 10년 연예의끝            1\n",
              "1        2      3  ...     10년이라는 시간이 참 무색하다 싶네            1\n",
              "2        3      5  ...            14년된 여자친구랑 이별            1\n",
              "3        4      7  ...                   15년…안녕            1\n",
              "4        5      9  ...         1년 9개월 의 연애 종지부.            1\n",
              "...    ...    ...  ...                      ...          ...\n",
              "6883  6884  13767  ...            O형 여자와 썸을 타는데            1\n",
              "6884  6885  13769  ...                SD카드 망가졌어            0\n",
              "6885  6886  13771  ...                 가슴 아픈 이별            1\n",
              "6886  6887  13773  ...  SNS 시간낭비인 거 아는데 매일 하는 중            0\n",
              "6887  6888  13775  ...            가슴에 구멍이 너무 커.            1\n",
              "\n",
              "[6888 rows x 6 columns]"
            ]
          },
          "metadata": {
            "tags": []
          },
          "execution_count": 12
        }
      ]
    },
    {
      "cell_type": "code",
      "metadata": {
        "id": "6kGWoqa0q3aD",
        "colab": {
          "base_uri": "https://localhost:8080/",
          "height": 470
        },
        "outputId": "32c176a0-3f3d-48d2-8035-e472b7f6b0b9"
      },
      "source": [
        "df_train = df_train.dropna()\n",
        "df_train"
      ],
      "execution_count": null,
      "outputs": [
        {
          "output_type": "execute_result",
          "data": {
            "text/html": [
              "<div>\n",
              "<style scoped>\n",
              "    .dataframe tbody tr th:only-of-type {\n",
              "        vertical-align: middle;\n",
              "    }\n",
              "\n",
              "    .dataframe tbody tr th {\n",
              "        vertical-align: top;\n",
              "    }\n",
              "\n",
              "    .dataframe thead th {\n",
              "        text-align: right;\n",
              "    }\n",
              "</style>\n",
              "<table border=\"1\" class=\"dataframe\">\n",
              "  <thead>\n",
              "    <tr style=\"text-align: right;\">\n",
              "      <th></th>\n",
              "      <th>id</th>\n",
              "      <th>qid1</th>\n",
              "      <th>qid2</th>\n",
              "      <th>question1</th>\n",
              "      <th>question2</th>\n",
              "      <th>is_duplicate</th>\n",
              "    </tr>\n",
              "  </thead>\n",
              "  <tbody>\n",
              "    <tr>\n",
              "      <th>0</th>\n",
              "      <td>1</td>\n",
              "      <td>1</td>\n",
              "      <td>2</td>\n",
              "      <td>1000일 만난 여자친구와 이별</td>\n",
              "      <td>10년 연예의끝</td>\n",
              "      <td>1</td>\n",
              "    </tr>\n",
              "    <tr>\n",
              "      <th>1</th>\n",
              "      <td>2</td>\n",
              "      <td>3</td>\n",
              "      <td>4</td>\n",
              "      <td>10년 연애사 되돌아보니 다 부질없네</td>\n",
              "      <td>10년이라는 시간이 참 무색하다 싶네</td>\n",
              "      <td>1</td>\n",
              "    </tr>\n",
              "    <tr>\n",
              "      <th>2</th>\n",
              "      <td>3</td>\n",
              "      <td>5</td>\n",
              "      <td>6</td>\n",
              "      <td>10년만나다 헤어지네</td>\n",
              "      <td>14년된 여자친구랑 이별</td>\n",
              "      <td>1</td>\n",
              "    </tr>\n",
              "    <tr>\n",
              "      <th>3</th>\n",
              "      <td>4</td>\n",
              "      <td>7</td>\n",
              "      <td>8</td>\n",
              "      <td>10월의 마지막밤 . 더 보고싶네 그사람</td>\n",
              "      <td>15년…안녕</td>\n",
              "      <td>1</td>\n",
              "    </tr>\n",
              "    <tr>\n",
              "      <th>4</th>\n",
              "      <td>5</td>\n",
              "      <td>9</td>\n",
              "      <td>10</td>\n",
              "      <td>14년의 기나긴 이야기.</td>\n",
              "      <td>1년 9개월 의 연애 종지부.</td>\n",
              "      <td>1</td>\n",
              "    </tr>\n",
              "    <tr>\n",
              "      <th>...</th>\n",
              "      <td>...</td>\n",
              "      <td>...</td>\n",
              "      <td>...</td>\n",
              "      <td>...</td>\n",
              "      <td>...</td>\n",
              "      <td>...</td>\n",
              "    </tr>\n",
              "    <tr>\n",
              "      <th>6883</th>\n",
              "      <td>6884</td>\n",
              "      <td>13767</td>\n",
              "      <td>13768</td>\n",
              "      <td>O형 남자와 썸을 타는데</td>\n",
              "      <td>O형 여자와 썸을 타는데</td>\n",
              "      <td>1</td>\n",
              "    </tr>\n",
              "    <tr>\n",
              "      <th>6884</th>\n",
              "      <td>6885</td>\n",
              "      <td>13769</td>\n",
              "      <td>13770</td>\n",
              "      <td>SD카드 안돼</td>\n",
              "      <td>SD카드 망가졌어</td>\n",
              "      <td>0</td>\n",
              "    </tr>\n",
              "    <tr>\n",
              "      <th>6885</th>\n",
              "      <td>6886</td>\n",
              "      <td>13771</td>\n",
              "      <td>13772</td>\n",
              "      <td>SNS 를 끊어야 하는데.</td>\n",
              "      <td>가슴 아픈 이별</td>\n",
              "      <td>1</td>\n",
              "    </tr>\n",
              "    <tr>\n",
              "      <th>6886</th>\n",
              "      <td>6887</td>\n",
              "      <td>13773</td>\n",
              "      <td>13774</td>\n",
              "      <td>SNS 시간낭비인데 자꾸 보게됨</td>\n",
              "      <td>SNS 시간낭비인 거 아는데 매일 하는 중</td>\n",
              "      <td>0</td>\n",
              "    </tr>\n",
              "    <tr>\n",
              "      <th>6887</th>\n",
              "      <td>6888</td>\n",
              "      <td>13775</td>\n",
              "      <td>13776</td>\n",
              "      <td>sns에서 다른 이성이랑 대화하는걸 보니 화가 나</td>\n",
              "      <td>가슴에 구멍이 너무 커.</td>\n",
              "      <td>1</td>\n",
              "    </tr>\n",
              "  </tbody>\n",
              "</table>\n",
              "<p>6888 rows × 6 columns</p>\n",
              "</div>"
            ],
            "text/plain": [
              "        id   qid1  ...                question2 is_duplicate\n",
              "0        1      1  ...                 10년 연예의끝            1\n",
              "1        2      3  ...     10년이라는 시간이 참 무색하다 싶네            1\n",
              "2        3      5  ...            14년된 여자친구랑 이별            1\n",
              "3        4      7  ...                   15년…안녕            1\n",
              "4        5      9  ...         1년 9개월 의 연애 종지부.            1\n",
              "...    ...    ...  ...                      ...          ...\n",
              "6883  6884  13767  ...            O형 여자와 썸을 타는데            1\n",
              "6884  6885  13769  ...                SD카드 망가졌어            0\n",
              "6885  6886  13771  ...                 가슴 아픈 이별            1\n",
              "6886  6887  13773  ...  SNS 시간낭비인 거 아는데 매일 하는 중            0\n",
              "6887  6888  13775  ...            가슴에 구멍이 너무 커.            1\n",
              "\n",
              "[6888 rows x 6 columns]"
            ]
          },
          "metadata": {
            "tags": []
          },
          "execution_count": 13
        }
      ]
    },
    {
      "cell_type": "code",
      "metadata": {
        "id": "KWPDQFPBq3aD",
        "colab": {
          "base_uri": "https://localhost:8080/",
          "height": 419
        },
        "outputId": "ed005020-2fe0-47c5-d579-8ddc6835cf0a"
      },
      "source": [
        "df_test = pd.read_csv(os.path.join(quora_dir, 'kor_Pair_test.csv'), delimiter=',')\n",
        "df_test"
      ],
      "execution_count": null,
      "outputs": [
        {
          "output_type": "execute_result",
          "data": {
            "text/html": [
              "<div>\n",
              "<style scoped>\n",
              "    .dataframe tbody tr th:only-of-type {\n",
              "        vertical-align: middle;\n",
              "    }\n",
              "\n",
              "    .dataframe tbody tr th {\n",
              "        vertical-align: top;\n",
              "    }\n",
              "\n",
              "    .dataframe thead th {\n",
              "        text-align: right;\n",
              "    }\n",
              "</style>\n",
              "<table border=\"1\" class=\"dataframe\">\n",
              "  <thead>\n",
              "    <tr style=\"text-align: right;\">\n",
              "      <th></th>\n",
              "      <th>test_id</th>\n",
              "      <th>question1</th>\n",
              "      <th>question2</th>\n",
              "      <th>is_duplicate</th>\n",
              "      <th>Unnamed: 4</th>\n",
              "    </tr>\n",
              "  </thead>\n",
              "  <tbody>\n",
              "    <tr>\n",
              "      <th>0</th>\n",
              "      <td>1</td>\n",
              "      <td>21살의 사랑에 대해</td>\n",
              "      <td>사랑을 노력한다는게 말이 되나요?</td>\n",
              "      <td>1</td>\n",
              "      <td>NaN</td>\n",
              "    </tr>\n",
              "    <tr>\n",
              "      <th>1</th>\n",
              "      <td>2</td>\n",
              "      <td>2년 가량의 연애</td>\n",
              "      <td>2년 만났어</td>\n",
              "      <td>0</td>\n",
              "      <td>NaN</td>\n",
              "    </tr>\n",
              "    <tr>\n",
              "      <th>2</th>\n",
              "      <td>3</td>\n",
              "      <td>2년 만난 기념일이야</td>\n",
              "      <td>우리 벌써 2년 동안 사궜어</td>\n",
              "      <td>0</td>\n",
              "      <td>NaN</td>\n",
              "    </tr>\n",
              "    <tr>\n",
              "      <th>3</th>\n",
              "      <td>4</td>\n",
              "      <td>2년 사귀었는데 결혼하려고</td>\n",
              "      <td>2년째 짝사랑하는 사람이 있어.</td>\n",
              "      <td>1</td>\n",
              "      <td>NaN</td>\n",
              "    </tr>\n",
              "    <tr>\n",
              "      <th>4</th>\n",
              "      <td>5</td>\n",
              "      <td>5급면제도 나랑사랑카드 발급하나요?</td>\n",
              "      <td>아이콘 노래 사랑을 했다 별로인것같은데</td>\n",
              "      <td>1</td>\n",
              "      <td>NaN</td>\n",
              "    </tr>\n",
              "    <tr>\n",
              "      <th>...</th>\n",
              "      <td>...</td>\n",
              "      <td>...</td>\n",
              "      <td>...</td>\n",
              "      <td>...</td>\n",
              "      <td>...</td>\n",
              "    </tr>\n",
              "    <tr>\n",
              "      <th>683</th>\n",
              "      <td>684</td>\n",
              "      <td>회사에서 짤릴 필이 와</td>\n",
              "      <td>나 회사 짤릴 거 같은데 어떻게 만회하지</td>\n",
              "      <td>0</td>\n",
              "      <td>1.0</td>\n",
              "    </tr>\n",
              "    <tr>\n",
              "      <th>684</th>\n",
              "      <td>685</td>\n",
              "      <td>효율적으로 공부하는 방법</td>\n",
              "      <td>새 해 결심 뭐였더라</td>\n",
              "      <td>1</td>\n",
              "      <td>NaN</td>\n",
              "    </tr>\n",
              "    <tr>\n",
              "      <th>685</th>\n",
              "      <td>686</td>\n",
              "      <td>휴대폰 액정 깨졌어</td>\n",
              "      <td>액정 깨짐</td>\n",
              "      <td>0</td>\n",
              "      <td>NaN</td>\n",
              "    </tr>\n",
              "    <tr>\n",
              "      <th>686</th>\n",
              "      <td>687</td>\n",
              "      <td>힘든 일이 너무 많아요</td>\n",
              "      <td>괜찮아 천천히 해도 돼</td>\n",
              "      <td>1</td>\n",
              "      <td>NaN</td>\n",
              "    </tr>\n",
              "    <tr>\n",
              "      <th>687</th>\n",
              "      <td>688</td>\n",
              "      <td>AI도 감정 있나?</td>\n",
              "      <td>이런 감정은 처음인데 설레네</td>\n",
              "      <td>1</td>\n",
              "      <td>NaN</td>\n",
              "    </tr>\n",
              "  </tbody>\n",
              "</table>\n",
              "<p>688 rows × 5 columns</p>\n",
              "</div>"
            ],
            "text/plain": [
              "     test_id            question1  ... is_duplicate  Unnamed: 4\n",
              "0          1          21살의 사랑에 대해  ...            1         NaN\n",
              "1          2            2년 가량의 연애  ...            0         NaN\n",
              "2          3          2년 만난 기념일이야  ...            0         NaN\n",
              "3          4       2년 사귀었는데 결혼하려고  ...            1         NaN\n",
              "4          5  5급면제도 나랑사랑카드 발급하나요?  ...            1         NaN\n",
              "..       ...                  ...  ...          ...         ...\n",
              "683      684         회사에서 짤릴 필이 와  ...            0         1.0\n",
              "684      685        효율적으로 공부하는 방법  ...            1         NaN\n",
              "685      686           휴대폰 액정 깨졌어  ...            0         NaN\n",
              "686      687         힘든 일이 너무 많아요  ...            1         NaN\n",
              "687      688           AI도 감정 있나?  ...            1         NaN\n",
              "\n",
              "[688 rows x 5 columns]"
            ]
          },
          "metadata": {
            "tags": []
          },
          "execution_count": 14
        }
      ]
    },
    {
      "cell_type": "code",
      "metadata": {
        "id": "y9ewl-6Zq3aE",
        "colab": {
          "base_uri": "https://localhost:8080/",
          "height": 419
        },
        "outputId": "e82c24a0-037b-4382-a475-64bd2b0d4827"
      },
      "source": [
        "df_test = df_test[['test_id', 'question1', 'question2', 'is_duplicate']]\n",
        "df_test"
      ],
      "execution_count": null,
      "outputs": [
        {
          "output_type": "execute_result",
          "data": {
            "text/html": [
              "<div>\n",
              "<style scoped>\n",
              "    .dataframe tbody tr th:only-of-type {\n",
              "        vertical-align: middle;\n",
              "    }\n",
              "\n",
              "    .dataframe tbody tr th {\n",
              "        vertical-align: top;\n",
              "    }\n",
              "\n",
              "    .dataframe thead th {\n",
              "        text-align: right;\n",
              "    }\n",
              "</style>\n",
              "<table border=\"1\" class=\"dataframe\">\n",
              "  <thead>\n",
              "    <tr style=\"text-align: right;\">\n",
              "      <th></th>\n",
              "      <th>test_id</th>\n",
              "      <th>question1</th>\n",
              "      <th>question2</th>\n",
              "      <th>is_duplicate</th>\n",
              "    </tr>\n",
              "  </thead>\n",
              "  <tbody>\n",
              "    <tr>\n",
              "      <th>0</th>\n",
              "      <td>1</td>\n",
              "      <td>21살의 사랑에 대해</td>\n",
              "      <td>사랑을 노력한다는게 말이 되나요?</td>\n",
              "      <td>1</td>\n",
              "    </tr>\n",
              "    <tr>\n",
              "      <th>1</th>\n",
              "      <td>2</td>\n",
              "      <td>2년 가량의 연애</td>\n",
              "      <td>2년 만났어</td>\n",
              "      <td>0</td>\n",
              "    </tr>\n",
              "    <tr>\n",
              "      <th>2</th>\n",
              "      <td>3</td>\n",
              "      <td>2년 만난 기념일이야</td>\n",
              "      <td>우리 벌써 2년 동안 사궜어</td>\n",
              "      <td>0</td>\n",
              "    </tr>\n",
              "    <tr>\n",
              "      <th>3</th>\n",
              "      <td>4</td>\n",
              "      <td>2년 사귀었는데 결혼하려고</td>\n",
              "      <td>2년째 짝사랑하는 사람이 있어.</td>\n",
              "      <td>1</td>\n",
              "    </tr>\n",
              "    <tr>\n",
              "      <th>4</th>\n",
              "      <td>5</td>\n",
              "      <td>5급면제도 나랑사랑카드 발급하나요?</td>\n",
              "      <td>아이콘 노래 사랑을 했다 별로인것같은데</td>\n",
              "      <td>1</td>\n",
              "    </tr>\n",
              "    <tr>\n",
              "      <th>...</th>\n",
              "      <td>...</td>\n",
              "      <td>...</td>\n",
              "      <td>...</td>\n",
              "      <td>...</td>\n",
              "    </tr>\n",
              "    <tr>\n",
              "      <th>683</th>\n",
              "      <td>684</td>\n",
              "      <td>회사에서 짤릴 필이 와</td>\n",
              "      <td>나 회사 짤릴 거 같은데 어떻게 만회하지</td>\n",
              "      <td>0</td>\n",
              "    </tr>\n",
              "    <tr>\n",
              "      <th>684</th>\n",
              "      <td>685</td>\n",
              "      <td>효율적으로 공부하는 방법</td>\n",
              "      <td>새 해 결심 뭐였더라</td>\n",
              "      <td>1</td>\n",
              "    </tr>\n",
              "    <tr>\n",
              "      <th>685</th>\n",
              "      <td>686</td>\n",
              "      <td>휴대폰 액정 깨졌어</td>\n",
              "      <td>액정 깨짐</td>\n",
              "      <td>0</td>\n",
              "    </tr>\n",
              "    <tr>\n",
              "      <th>686</th>\n",
              "      <td>687</td>\n",
              "      <td>힘든 일이 너무 많아요</td>\n",
              "      <td>괜찮아 천천히 해도 돼</td>\n",
              "      <td>1</td>\n",
              "    </tr>\n",
              "    <tr>\n",
              "      <th>687</th>\n",
              "      <td>688</td>\n",
              "      <td>AI도 감정 있나?</td>\n",
              "      <td>이런 감정은 처음인데 설레네</td>\n",
              "      <td>1</td>\n",
              "    </tr>\n",
              "  </tbody>\n",
              "</table>\n",
              "<p>688 rows × 4 columns</p>\n",
              "</div>"
            ],
            "text/plain": [
              "     test_id            question1               question2  is_duplicate\n",
              "0          1          21살의 사랑에 대해      사랑을 노력한다는게 말이 되나요?             1\n",
              "1          2            2년 가량의 연애                  2년 만났어             0\n",
              "2          3          2년 만난 기념일이야         우리 벌써 2년 동안 사궜어             0\n",
              "3          4       2년 사귀었는데 결혼하려고       2년째 짝사랑하는 사람이 있어.             1\n",
              "4          5  5급면제도 나랑사랑카드 발급하나요?   아이콘 노래 사랑을 했다 별로인것같은데             1\n",
              "..       ...                  ...                     ...           ...\n",
              "683      684         회사에서 짤릴 필이 와  나 회사 짤릴 거 같은데 어떻게 만회하지             0\n",
              "684      685        효율적으로 공부하는 방법             새 해 결심 뭐였더라             1\n",
              "685      686           휴대폰 액정 깨졌어                   액정 깨짐             0\n",
              "686      687         힘든 일이 너무 많아요            괜찮아 천천히 해도 돼             1\n",
              "687      688           AI도 감정 있나?         이런 감정은 처음인데 설레네             1\n",
              "\n",
              "[688 rows x 4 columns]"
            ]
          },
          "metadata": {
            "tags": []
          },
          "execution_count": 15
        }
      ]
    },
    {
      "cell_type": "code",
      "metadata": {
        "id": "kXcHn9p4q3aE",
        "colab": {
          "base_uri": "https://localhost:8080/",
          "height": 419
        },
        "outputId": "4e4eddbc-cc44-469a-9c57-4fd28343075e"
      },
      "source": [
        "df_test = df_test.dropna()\n",
        "df_test"
      ],
      "execution_count": null,
      "outputs": [
        {
          "output_type": "execute_result",
          "data": {
            "text/html": [
              "<div>\n",
              "<style scoped>\n",
              "    .dataframe tbody tr th:only-of-type {\n",
              "        vertical-align: middle;\n",
              "    }\n",
              "\n",
              "    .dataframe tbody tr th {\n",
              "        vertical-align: top;\n",
              "    }\n",
              "\n",
              "    .dataframe thead th {\n",
              "        text-align: right;\n",
              "    }\n",
              "</style>\n",
              "<table border=\"1\" class=\"dataframe\">\n",
              "  <thead>\n",
              "    <tr style=\"text-align: right;\">\n",
              "      <th></th>\n",
              "      <th>test_id</th>\n",
              "      <th>question1</th>\n",
              "      <th>question2</th>\n",
              "      <th>is_duplicate</th>\n",
              "    </tr>\n",
              "  </thead>\n",
              "  <tbody>\n",
              "    <tr>\n",
              "      <th>0</th>\n",
              "      <td>1</td>\n",
              "      <td>21살의 사랑에 대해</td>\n",
              "      <td>사랑을 노력한다는게 말이 되나요?</td>\n",
              "      <td>1</td>\n",
              "    </tr>\n",
              "    <tr>\n",
              "      <th>1</th>\n",
              "      <td>2</td>\n",
              "      <td>2년 가량의 연애</td>\n",
              "      <td>2년 만났어</td>\n",
              "      <td>0</td>\n",
              "    </tr>\n",
              "    <tr>\n",
              "      <th>2</th>\n",
              "      <td>3</td>\n",
              "      <td>2년 만난 기념일이야</td>\n",
              "      <td>우리 벌써 2년 동안 사궜어</td>\n",
              "      <td>0</td>\n",
              "    </tr>\n",
              "    <tr>\n",
              "      <th>3</th>\n",
              "      <td>4</td>\n",
              "      <td>2년 사귀었는데 결혼하려고</td>\n",
              "      <td>2년째 짝사랑하는 사람이 있어.</td>\n",
              "      <td>1</td>\n",
              "    </tr>\n",
              "    <tr>\n",
              "      <th>4</th>\n",
              "      <td>5</td>\n",
              "      <td>5급면제도 나랑사랑카드 발급하나요?</td>\n",
              "      <td>아이콘 노래 사랑을 했다 별로인것같은데</td>\n",
              "      <td>1</td>\n",
              "    </tr>\n",
              "    <tr>\n",
              "      <th>...</th>\n",
              "      <td>...</td>\n",
              "      <td>...</td>\n",
              "      <td>...</td>\n",
              "      <td>...</td>\n",
              "    </tr>\n",
              "    <tr>\n",
              "      <th>683</th>\n",
              "      <td>684</td>\n",
              "      <td>회사에서 짤릴 필이 와</td>\n",
              "      <td>나 회사 짤릴 거 같은데 어떻게 만회하지</td>\n",
              "      <td>0</td>\n",
              "    </tr>\n",
              "    <tr>\n",
              "      <th>684</th>\n",
              "      <td>685</td>\n",
              "      <td>효율적으로 공부하는 방법</td>\n",
              "      <td>새 해 결심 뭐였더라</td>\n",
              "      <td>1</td>\n",
              "    </tr>\n",
              "    <tr>\n",
              "      <th>685</th>\n",
              "      <td>686</td>\n",
              "      <td>휴대폰 액정 깨졌어</td>\n",
              "      <td>액정 깨짐</td>\n",
              "      <td>0</td>\n",
              "    </tr>\n",
              "    <tr>\n",
              "      <th>686</th>\n",
              "      <td>687</td>\n",
              "      <td>힘든 일이 너무 많아요</td>\n",
              "      <td>괜찮아 천천히 해도 돼</td>\n",
              "      <td>1</td>\n",
              "    </tr>\n",
              "    <tr>\n",
              "      <th>687</th>\n",
              "      <td>688</td>\n",
              "      <td>AI도 감정 있나?</td>\n",
              "      <td>이런 감정은 처음인데 설레네</td>\n",
              "      <td>1</td>\n",
              "    </tr>\n",
              "  </tbody>\n",
              "</table>\n",
              "<p>688 rows × 4 columns</p>\n",
              "</div>"
            ],
            "text/plain": [
              "     test_id            question1               question2  is_duplicate\n",
              "0          1          21살의 사랑에 대해      사랑을 노력한다는게 말이 되나요?             1\n",
              "1          2            2년 가량의 연애                  2년 만났어             0\n",
              "2          3          2년 만난 기념일이야         우리 벌써 2년 동안 사궜어             0\n",
              "3          4       2년 사귀었는데 결혼하려고       2년째 짝사랑하는 사람이 있어.             1\n",
              "4          5  5급면제도 나랑사랑카드 발급하나요?   아이콘 노래 사랑을 했다 별로인것같은데             1\n",
              "..       ...                  ...                     ...           ...\n",
              "683      684         회사에서 짤릴 필이 와  나 회사 짤릴 거 같은데 어떻게 만회하지             0\n",
              "684      685        효율적으로 공부하는 방법             새 해 결심 뭐였더라             1\n",
              "685      686           휴대폰 액정 깨졌어                   액정 깨짐             0\n",
              "686      687         힘든 일이 너무 많아요            괜찮아 천천히 해도 돼             1\n",
              "687      688           AI도 감정 있나?         이런 감정은 처음인데 설레네             1\n",
              "\n",
              "[688 rows x 4 columns]"
            ]
          },
          "metadata": {
            "tags": []
          },
          "execution_count": 16
        }
      ]
    },
    {
      "cell_type": "code",
      "metadata": {
        "id": "pl2JDf6Aq3aF"
      },
      "source": [
        "def load_data(df, n_seq_1, n_seq_2):\n",
        "    \"\"\"\n",
        "    Quora 학습 데이터 생성\n",
        "    :param df: data frame\n",
        "    :param n_seq_1: number of sequence 1\n",
        "    :param n_seq_2: number of sequence 2\n",
        "    :return inputs_1: input data 1\n",
        "    :return inputs_2: input data 2\n",
        "    :return labels: label data\n",
        "    \"\"\"\n",
        "    inputs_1 = np.zeros((len(df), n_seq_1)).astype(np.int32)\n",
        "    inputs_2 = np.zeros((len(df), n_seq_2)).astype(np.int32)\n",
        "    labels = np.zeros((len(df),))\n",
        "    index = 0\n",
        "    for i, row in tqdm(df.iterrows(), total=len(df)):\n",
        "        # tokens 저장\n",
        "        # print()\n",
        "        is_duplicate = row['is_duplicate']\n",
        "        question1 = row['question1']\n",
        "        question2 = row['question2']\n",
        "        # print(is_duplicate, question1, question2)\n",
        "\n",
        "        tokens_1 = vocab.encode_as_pieces(question1)\n",
        "        # print(len(tokens_1), ':', tokens_1)\n",
        "        tokens_2 = vocab.encode_as_pieces(question2)\n",
        "        # print(len(tokens_2), ':', tokens_2)\n",
        "\n",
        "        token_ids_1 = vocab.encode_as_ids(question1)\n",
        "        # print(len(token_ids_1), ':', token_ids_1)\n",
        "        token_ids_2 = vocab.encode_as_ids(question2)\n",
        "        # print(len(token_ids_2), ':', token_ids_2)\n",
        "\n",
        "        token_ids_1 = token_ids_1[:n_seq_1]\n",
        "        # print(len(token_ids_1), ':', token_ids_1)\n",
        "        token_ids_2 = token_ids_2[:n_seq_2]\n",
        "        # print(len(token_ids_2), ':', token_ids_2)\n",
        "\n",
        "        token_ids_1 += [0] * (n_seq_1 - len(token_ids_1))\n",
        "        # print(len(token_ids_1), ':', token_ids_1)\n",
        "        token_ids_2 += [0] * (n_seq_2 - len(token_ids_2))\n",
        "        # print(len(token_ids_2), ':', token_ids_2)\n",
        "\n",
        "        labels[index] = 1 - is_duplicate  # 0 -> 1, 1 -> 0\n",
        "        inputs_1[index] = token_ids_1\n",
        "        inputs_2[index] = token_ids_2\n",
        "        index += 1\n",
        "    return inputs_1, inputs_2, labels"
      ],
      "execution_count": null,
      "outputs": []
    },
    {
      "cell_type": "code",
      "metadata": {
        "id": "f5cu4GTFq3aF",
        "colab": {
          "base_uri": "https://localhost:8080/",
          "height": 337,
          "referenced_widgets": [
            "73b785049983457cb83bef1cb1dd8583",
            "220f690937654948a5ff55ae731e0c6b",
            "2d4e91dc251d4d1795e52501b3be34ed",
            "bf12c1ff3be44823ade74261d56e60d5",
            "6ad1307bea064552aa4f5117e689da06",
            "29ada60656a744319ff0cb0b0680cfbd",
            "4f38ad75b4a04ceb84b55b1a2924c589",
            "b9801a8fd3c3452f9cfcd1046bb62e2d"
          ]
        },
        "outputId": "5db88d73-fe9d-42b6-eea9-ccbc27f4310f"
      },
      "source": [
        "# train data 생성\n",
        "train_inputs_1, train_inputs_2, train_labels = load_data(df_train, n_seq_1, n_seq_2)\n",
        "train_inputs_1, train_inputs_2, train_labels"
      ],
      "execution_count": null,
      "outputs": [
        {
          "output_type": "display_data",
          "data": {
            "application/vnd.jupyter.widget-view+json": {
              "model_id": "73b785049983457cb83bef1cb1dd8583",
              "version_minor": 0,
              "version_major": 2
            },
            "text/plain": [
              "HBox(children=(FloatProgress(value=0.0, max=6888.0), HTML(value='')))"
            ]
          },
          "metadata": {
            "tags": []
          }
        },
        {
          "output_type": "stream",
          "text": [
            "\n"
          ],
          "name": "stdout"
        },
        {
          "output_type": "execute_result",
          "data": {
            "text/plain": [
              "(array([[ 3800,    26,  7314, ...,     0,     0,     0],\n",
              "        [   67,    15,  8256, ...,     0,     0,     0],\n",
              "        [   67,    15,    62, ...,     0,     0,     0],\n",
              "        ...,\n",
              "        [17834,    10,    20, ...,     0,     0,     0],\n",
              "        [17834,  1151,  4468, ...,     0,     0,     0],\n",
              "        [ 2067, 17548,    22, ...,     0,     0,     0]], dtype=int32),\n",
              " array([[   67,    15, 13442, ...,     0,     0,     0],\n",
              "        [   67,    15,   218, ...,     0,     0,     0],\n",
              "        [  242,    15,    85, ...,     0,     0,     0],\n",
              "        ...,\n",
              "        [ 5135, 29356,    29, ...,     0,     0,     0],\n",
              "        [17834,  1151,  4468, ...,     0,     0,     0],\n",
              "        [ 5135,    13, 20337, ...,     0,     0,     0]], dtype=int32),\n",
              " array([0., 0., 0., ..., 0., 1., 0.]))"
            ]
          },
          "metadata": {
            "tags": []
          },
          "execution_count": 18
        }
      ]
    },
    {
      "cell_type": "code",
      "metadata": {
        "id": "wAc54dMJq3aF",
        "colab": {
          "base_uri": "https://localhost:8080/",
          "height": 1000,
          "referenced_widgets": [
            "154e9ada7d67419fa47a22e5697fa6e6",
            "e9496d32db96408898dae06aac3c11bc",
            "8ab3fdf403294cdb9a492c60a0dde020",
            "5feb23749f6742548856d96f5ddf1b1f",
            "51f86897743d497f95d6eac4d9c35a72",
            "3548c545aef24a3fa0650ef07c9f5f94",
            "4b8e08ca30404fd39e3f18c97622e512",
            "5dc888f3faf04ce6ab91251eaccb8a02"
          ]
        },
        "outputId": "446e9dd1-3493-4795-f577-2443397a6d2f"
      },
      "source": [
        "# test data 생성\n",
        "test_inputs_1, test_inputs_2, test_labels = load_data(df_test, n_seq_1, n_seq_2)\n",
        "test_inputs_1, test_inputs_2, test_labels"
      ],
      "execution_count": null,
      "outputs": [
        {
          "output_type": "display_data",
          "data": {
            "application/vnd.jupyter.widget-view+json": {
              "model_id": "154e9ada7d67419fa47a22e5697fa6e6",
              "version_minor": 0,
              "version_major": 2
            },
            "text/plain": [
              "HBox(children=(FloatProgress(value=0.0, max=688.0), HTML(value='')))"
            ]
          },
          "metadata": {
            "tags": []
          }
        },
        {
          "output_type": "stream",
          "text": [
            "\n"
          ],
          "name": "stdout"
        },
        {
          "output_type": "execute_result",
          "data": {
            "text/plain": [
              "(array([[  513,   704,     9, ...,     0,     0,     0],\n",
              "        [   36,    15,  5657, ...,     0,     0,     0],\n",
              "        [   36,    15,  7314, ...,     0,     0,     0],\n",
              "        ...,\n",
              "        [22848, 27427,  4221, ...,     0,     0,     0],\n",
              "        [10736,  2101,  2329, ...,     0,     0,     0],\n",
              "        [17194,    32,  3971, ...,     0,     0,     0]], dtype=int32),\n",
              " array([[ 5775,  2184,  1973, ...,     0,     0,     0],\n",
              "        [   36,    15, 10711, ...,     0,     0,     0],\n",
              "        [ 1680, 29038,    36, ...,     0,     0,     0],\n",
              "        ...,\n",
              "        [27427,  4221,  4418, ...,     0,     0,     0],\n",
              "        [22827,   141, 17629, ...,     0,     0,     0],\n",
              "        [ 1001,  3971,    18, ...,     0,     0,     0]], dtype=int32),\n",
              " array([0., 1., 1., 0., 0., 0., 1., 0., 0., 0., 1., 0., 1., 0., 0., 1., 1.,\n",
              "        1., 1., 0., 1., 0., 0., 1., 1., 0., 0., 0., 1., 1., 0., 0., 1., 1.,\n",
              "        1., 0., 0., 0., 1., 0., 0., 0., 0., 1., 0., 1., 0., 1., 0., 0., 1.,\n",
              "        1., 0., 1., 0., 1., 1., 0., 1., 1., 1., 0., 1., 0., 0., 0., 0., 0.,\n",
              "        1., 0., 1., 1., 1., 0., 1., 1., 1., 0., 1., 1., 1., 1., 1., 1., 1.,\n",
              "        0., 1., 1., 0., 0., 1., 1., 1., 1., 1., 0., 1., 0., 0., 1., 1., 1.,\n",
              "        0., 1., 1., 1., 0., 0., 0., 1., 1., 0., 0., 1., 1., 1., 1., 0., 1.,\n",
              "        1., 0., 1., 1., 1., 0., 0., 1., 1., 0., 0., 1., 0., 0., 0., 1., 1.,\n",
              "        0., 0., 0., 0., 1., 0., 0., 0., 0., 0., 0., 0., 1., 1., 0., 0., 1.,\n",
              "        1., 1., 1., 1., 1., 0., 1., 1., 1., 0., 1., 1., 1., 1., 0., 0., 1.,\n",
              "        1., 1., 1., 1., 1., 1., 0., 1., 1., 0., 1., 0., 0., 0., 1., 1., 0.,\n",
              "        0., 0., 0., 1., 1., 0., 0., 1., 0., 0., 0., 1., 0., 1., 0., 0., 1.,\n",
              "        1., 1., 0., 0., 1., 1., 0., 1., 1., 0., 1., 0., 0., 1., 0., 0., 1.,\n",
              "        0., 1., 0., 0., 1., 1., 1., 1., 0., 1., 0., 0., 1., 1., 1., 1., 1.,\n",
              "        0., 1., 0., 1., 1., 0., 1., 1., 0., 1., 1., 0., 1., 1., 1., 1., 1.,\n",
              "        0., 1., 1., 1., 1., 1., 0., 1., 0., 0., 0., 0., 1., 1., 0., 0., 0.,\n",
              "        1., 0., 1., 0., 0., 0., 0., 0., 0., 0., 1., 0., 0., 1., 0., 0., 0.,\n",
              "        0., 1., 0., 1., 0., 1., 0., 1., 0., 0., 0., 1., 1., 1., 1., 1., 1.,\n",
              "        1., 0., 0., 1., 1., 0., 1., 0., 1., 0., 1., 1., 0., 0., 0., 0., 1.,\n",
              "        1., 1., 0., 1., 0., 1., 1., 1., 1., 0., 1., 1., 1., 0., 1., 0., 1.,\n",
              "        1., 1., 0., 0., 0., 1., 0., 1., 1., 1., 1., 1., 1., 0., 1., 0., 1.,\n",
              "        1., 0., 0., 0., 0., 1., 0., 1., 1., 0., 1., 0., 0., 0., 0., 1., 0.,\n",
              "        0., 0., 1., 0., 0., 1., 0., 0., 0., 0., 0., 0., 1., 1., 1., 0., 0.,\n",
              "        1., 0., 1., 0., 0., 1., 0., 0., 0., 1., 1., 0., 0., 0., 0., 1., 1.,\n",
              "        0., 0., 0., 0., 1., 0., 1., 1., 1., 1., 1., 0., 1., 1., 1., 0., 1.,\n",
              "        0., 1., 0., 1., 1., 0., 0., 1., 1., 1., 1., 0., 1., 1., 1., 1., 0.,\n",
              "        0., 1., 0., 1., 0., 0., 1., 0., 0., 0., 0., 0., 1., 1., 0., 0., 0.,\n",
              "        0., 0., 1., 0., 1., 0., 1., 0., 1., 0., 0., 0., 0., 1., 1., 1., 1.,\n",
              "        0., 1., 1., 1., 1., 0., 0., 1., 1., 1., 0., 1., 0., 0., 1., 0., 0.,\n",
              "        1., 0., 0., 1., 1., 0., 0., 1., 0., 0., 0., 0., 0., 1., 0., 1., 0.,\n",
              "        0., 1., 0., 1., 1., 1., 0., 1., 1., 1., 0., 1., 1., 0., 0., 0., 1.,\n",
              "        1., 0., 1., 1., 0., 0., 0., 1., 1., 1., 1., 1., 1., 0., 0., 0., 1.,\n",
              "        1., 0., 0., 0., 0., 1., 0., 1., 1., 1., 1., 1., 0., 0., 0., 0., 1.,\n",
              "        1., 0., 1., 1., 0., 1., 0., 0., 0., 0., 0., 1., 0., 1., 1., 1., 1.,\n",
              "        1., 1., 1., 0., 1., 0., 1., 1., 0., 1., 0., 0., 1., 0., 1., 1., 1.,\n",
              "        0., 1., 1., 0., 1., 1., 0., 0., 1., 0., 0., 1., 1., 1., 1., 1., 1.,\n",
              "        1., 0., 0., 0., 1., 1., 1., 1., 0., 0., 1., 1., 1., 0., 0., 1., 1.,\n",
              "        0., 1., 0., 0., 0., 1., 0., 1., 1., 1., 0., 0., 0., 0., 1., 0., 1.,\n",
              "        1., 0., 1., 1., 1., 0., 0., 1., 1., 1., 0., 0., 1., 1., 0., 0., 0.,\n",
              "        1., 0., 1., 1., 0., 0., 1., 1., 1., 1., 1., 1., 0., 0., 0., 1., 0.,\n",
              "        0., 1., 1., 1., 0., 1., 0., 0.]))"
            ]
          },
          "metadata": {
            "tags": []
          },
          "execution_count": 19
        }
      ]
    },
    {
      "cell_type": "markdown",
      "metadata": {
        "id": "wMPwmL79q3aG"
      },
      "source": [
        "## 학습"
      ]
    },
    {
      "cell_type": "code",
      "metadata": {
        "id": "dFNqEE0Bq3aG",
        "colab": {
          "base_uri": "https://localhost:8080/",
          "height": 1000
        },
        "outputId": "f599771a-c5ee-4b37-c015-04ab850de302"
      },
      "source": [
        "# 모델 생성\n",
        "model = build_model(len(vocab), d_model, n_seq_1, n_seq_2)\n",
        "# 모델 내용 그래프 출력\n",
        "tf.keras.utils.plot_model(model, 'model.png', show_shapes=True)"
      ],
      "execution_count": null,
      "outputs": [
        {
          "output_type": "execute_result",
          "data": {
            "image/png": "[encoded data removed]",
            "text/plain": [
              "<IPython.core.display.Image object>"
            ]
          },
          "metadata": {
            "tags": []
          },
          "execution_count": 20
        }
      ]
    },
    {
      "cell_type": "code",
      "metadata": {
        "id": "jQIP_O8Dq3aG"
      },
      "source": [
        "# 모델 loss, optimizer, metric 정의\n",
        "model.compile(loss='mean_squared_error', optimizer='adam', metrics=['binary_accuracy'])"
      ],
      "execution_count": null,
      "outputs": []
    },
    {
      "cell_type": "code",
      "metadata": {
        "id": "P8Kb7jHvq3aG"
      },
      "source": [
        "# early stopping\n",
        "early_stopping = tf.keras.callbacks.EarlyStopping(monitor='val_binary_accuracy', patience=5)\n",
        "# save weights callback\n",
        "save_weights = tf.keras.callbacks.ModelCheckpoint(os.path.join(quora_dir, 'stub.hdf5'),\n",
        "                                                  monitor='val_binary_accuracy',\n",
        "                                                  verbose=1,\n",
        "                                                  save_best_only=True,\n",
        "                                                  mode=\"max\",\n",
        "                                                  save_freq=\"epoch\",\n",
        "                                                  save_weights_only=True)\n",
        "# csv logger\n",
        "csv_logger = tf.keras.callbacks.CSVLogger(os.path.join(quora_dir, 'stub.csv'))"
      ],
      "execution_count": null,
      "outputs": []
    },
    {
      "cell_type": "code",
      "metadata": {
        "id": "DU7VaxEcq3aG",
        "colab": {
          "base_uri": "https://localhost:8080/"
        },
        "outputId": "ca0a0223-ce2f-427f-8c23-31bd88f60668"
      },
      "source": [
        "# 모델 학습\n",
        "history = model.fit((train_inputs_1, train_inputs_2),\n",
        "                    train_labels,\n",
        "                    validation_data=((test_inputs_1, test_inputs_2), test_labels),\n",
        "                    epochs=100,\n",
        "                    batch_size=256,\n",
        "                    callbacks=[early_stopping, save_weights, csv_logger])"
      ],
      "execution_count": null,
      "outputs": [
        {
          "output_type": "stream",
          "text": [
            "Epoch 1/100\n",
            "27/27 [==============================] - 17s 244ms/step - loss: 0.4110 - binary_accuracy: 0.5069 - val_loss: 0.2445 - val_binary_accuracy: 0.5514\n",
            "\n",
            "Epoch 00001: val_binary_accuracy improved from -inf to 0.55137, saving model to /content/drive/MyDrive/Colab Notebooks/2021-HUFS-NLP/data/quora/stub.hdf5\n",
            "Epoch 2/100\n",
            "27/27 [==============================] - 5s 201ms/step - loss: 0.1317 - binary_accuracy: 0.8381 - val_loss: 0.2390 - val_binary_accuracy: 0.5971\n",
            "\n",
            "Epoch 00002: val_binary_accuracy improved from 0.55137 to 0.59706, saving model to /content/drive/MyDrive/Colab Notebooks/2021-HUFS-NLP/data/quora/stub.hdf5\n",
            "Epoch 3/100\n",
            "27/27 [==============================] - 5s 200ms/step - loss: 0.0903 - binary_accuracy: 0.9116 - val_loss: 0.2342 - val_binary_accuracy: 0.6132\n",
            "\n",
            "Epoch 00003: val_binary_accuracy improved from 0.59706 to 0.61316, saving model to /content/drive/MyDrive/Colab Notebooks/2021-HUFS-NLP/data/quora/stub.hdf5\n",
            "Epoch 4/100\n",
            "27/27 [==============================] - 5s 199ms/step - loss: 0.0600 - binary_accuracy: 0.9547 - val_loss: 0.2362 - val_binary_accuracy: 0.6306\n",
            "\n",
            "Epoch 00004: val_binary_accuracy improved from 0.61316 to 0.63056, saving model to /content/drive/MyDrive/Colab Notebooks/2021-HUFS-NLP/data/quora/stub.hdf5\n",
            "Epoch 5/100\n",
            "27/27 [==============================] - 5s 199ms/step - loss: 0.0421 - binary_accuracy: 0.9702 - val_loss: 0.2318 - val_binary_accuracy: 0.6461\n",
            "\n",
            "Epoch 00005: val_binary_accuracy improved from 0.63056 to 0.64607, saving model to /content/drive/MyDrive/Colab Notebooks/2021-HUFS-NLP/data/quora/stub.hdf5\n",
            "Epoch 6/100\n",
            "27/27 [==============================] - 5s 202ms/step - loss: 0.0335 - binary_accuracy: 0.9772 - val_loss: 0.2328 - val_binary_accuracy: 0.6366\n",
            "\n",
            "Epoch 00006: val_binary_accuracy did not improve from 0.64607\n",
            "Epoch 7/100\n",
            "27/27 [==============================] - 6s 206ms/step - loss: 0.0273 - binary_accuracy: 0.9845 - val_loss: 0.2366 - val_binary_accuracy: 0.6265\n",
            "\n",
            "Epoch 00007: val_binary_accuracy did not improve from 0.64607\n",
            "Epoch 8/100\n",
            "27/27 [==============================] - 5s 203ms/step - loss: 0.0229 - binary_accuracy: 0.9872 - val_loss: 0.2450 - val_binary_accuracy: 0.6237\n",
            "\n",
            "Epoch 00008: val_binary_accuracy did not improve from 0.64607\n",
            "Epoch 9/100\n",
            "27/27 [==============================] - 5s 201ms/step - loss: 0.0195 - binary_accuracy: 0.9882 - val_loss: 0.2417 - val_binary_accuracy: 0.6362\n",
            "\n",
            "Epoch 00009: val_binary_accuracy did not improve from 0.64607\n",
            "Epoch 10/100\n",
            "27/27 [==============================] - 5s 199ms/step - loss: 0.0172 - binary_accuracy: 0.9883 - val_loss: 0.2490 - val_binary_accuracy: 0.6188\n",
            "\n",
            "Epoch 00010: val_binary_accuracy did not improve from 0.64607\n"
          ],
          "name": "stdout"
        }
      ]
    },
    {
      "cell_type": "code",
      "metadata": {
        "id": "6jigtzHxq3aG",
        "colab": {
          "base_uri": "https://localhost:8080/",
          "height": 279
        },
        "outputId": "b3ea42d7-a598-4877-e8ef-edef0e1c5a49"
      },
      "source": [
        "plt.figure(figsize=(12, 4))\n",
        "\n",
        "plt.subplot(1, 2, 1)\n",
        "plt.plot(history.history['loss'], 'b-', label='loss')\n",
        "plt.plot(history.history['val_loss'], 'r--', label='val_loss')\n",
        "plt.xlabel('Epoch')\n",
        "plt.legend()\n",
        "\n",
        "plt.subplot(1, 2, 2)\n",
        "plt.plot(history.history['binary_accuracy'], 'g-', label='acc')\n",
        "plt.plot(history.history['val_binary_accuracy'], 'k--', label='val_acc')\n",
        "plt.xlabel('Epoch')\n",
        "plt.legend()\n",
        "\n",
        "plt.show()"
      ],
      "execution_count": null,
      "outputs": [
        {
          "output_type": "display_data",
          "data": {
            "image/png": "[encoded data removed]",
            "text/plain": [
              "<Figure size 864x288 with 2 Axes>"
            ]
          },
          "metadata": {
            "tags": [],
            "needs_background": "light"
          }
        }
      ]
    },
    {
      "cell_type": "markdown",
      "metadata": {
        "id": "jTN2yeNEq3aI"
      },
      "source": [
        "## Inference"
      ]
    },
    {
      "cell_type": "code",
      "metadata": {
        "id": "iSWxgN2iq3aI"
      },
      "source": [
        "# 모델 생성\n",
        "model = build_model(len(vocab), d_model, n_seq_1, n_seq_2)\n",
        "# train weight로 초기화\n",
        "model.load_weights(os.path.join(quora_dir, 'stub.hdf5'))"
      ],
      "execution_count": null,
      "outputs": []
    },
    {
      "cell_type": "code",
      "metadata": {
        "id": "i0nmHeRbq3aI",
        "colab": {
          "base_uri": "https://localhost:8080/"
        },
        "outputId": "e8255bb5-5606-4b40-e11d-6d51925960b3"
      },
      "source": [
        "# 예측\n",
        "logits = model.predict((test_inputs_1, test_inputs_2))\n",
        "logits"
      ],
      "execution_count": null,
      "outputs": [
        {
          "output_type": "execute_result",
          "data": {
            "text/plain": [
              "array([4.96652782e-01, 5.66288710e-01, 5.85673332e-01, 4.69060779e-01,\n",
              "       4.73506361e-01, 2.18466613e-02, 8.43725681e-01, 4.50340092e-01,\n",
              "       6.00943387e-01, 6.91764772e-01, 4.09904480e-01, 5.76625526e-01,\n",
              "       6.44427955e-01, 1.17445081e-01, 5.99734187e-01, 7.94027388e-01,\n",
              "       7.82954693e-01, 6.11005127e-01, 9.05786395e-01, 2.57032037e-01,\n",
              "       8.85770246e-02, 4.83584583e-01, 8.26173902e-01, 4.84418780e-01,\n",
              "       6.93635821e-01, 4.45088655e-01, 3.92228007e-01, 7.23036528e-01,\n",
              "       4.93761837e-01, 6.38220608e-01, 3.47843379e-01, 4.81387347e-01,\n",
              "       6.31744683e-01, 7.46603191e-01, 6.82858407e-01, 8.55970860e-01,\n",
              "       5.72615921e-01, 4.30098474e-01, 8.21999133e-01, 5.25009215e-01,\n",
              "       4.19594944e-01, 2.95555741e-01, 3.64405990e-01, 4.90074128e-01,\n",
              "       3.52421775e-02, 7.69390583e-01, 2.20102504e-01, 9.99930739e-01,\n",
              "       6.56481564e-01, 5.01188517e-01, 6.03563249e-01, 8.57079268e-01,\n",
              "       1.54720962e-01, 6.95121765e-01, 7.59817660e-01, 7.47875273e-01,\n",
              "       6.15238249e-01, 7.11635232e-01, 7.42546022e-01, 5.27797818e-01,\n",
              "       8.93080175e-01, 6.74197614e-01, 5.10988355e-01, 6.26549900e-01,\n",
              "       6.98720276e-01, 6.79909766e-01, 1.65682673e-01, 4.30710196e-01,\n",
              "       5.98941147e-01, 6.41725302e-01, 2.75007606e-01, 7.37432778e-01,\n",
              "       9.99965966e-01, 6.49037778e-01, 8.50153625e-01, 5.95887363e-01,\n",
              "       7.55689681e-01, 4.37058598e-01, 5.10017037e-01, 7.94459403e-01,\n",
              "       8.26353967e-01, 8.11920464e-01, 8.15127313e-01, 7.55229652e-01,\n",
              "       7.16002226e-01, 7.47574747e-01, 7.88043916e-01, 5.19134998e-01,\n",
              "       8.03687692e-01, 7.32153535e-01, 7.21509874e-01, 3.20414066e-01,\n",
              "       6.62983000e-01, 8.58543694e-01, 4.97940272e-01, 3.08209747e-01,\n",
              "       5.64982653e-01, 2.52076983e-01, 7.62444317e-01, 7.47909367e-01,\n",
              "       8.11198235e-01, 8.23964834e-01, 8.33365440e-01, 4.78133082e-01,\n",
              "       8.68977964e-01, 9.68815744e-01, 8.14588368e-01, 1.57375515e-01,\n",
              "       3.54153067e-01, 5.44115424e-01, 5.94618440e-01, 6.89366639e-01,\n",
              "       3.90984744e-01, 9.14570868e-01, 9.97630894e-01, 2.32908145e-01,\n",
              "       2.15108439e-01, 5.36992215e-02, 6.56692326e-01, 7.49429166e-01,\n",
              "       5.26914120e-01, 8.03710580e-01, 3.84602368e-01, 7.24781692e-01,\n",
              "       7.42582083e-01, 7.27561593e-01, 6.66270912e-01, 7.23140180e-01,\n",
              "       7.57468581e-01, 5.64597726e-01, 8.38104486e-01, 7.10548818e-01,\n",
              "       5.85270107e-01, 6.27715766e-01, 8.93281281e-01, 5.16921997e-01,\n",
              "       4.26490381e-02, 3.82796556e-01, 6.40264988e-01, 3.64112854e-01,\n",
              "       5.97126901e-01, 9.56338197e-02, 9.80990648e-01, 8.08151245e-01,\n",
              "       2.97661185e-01, 9.53554809e-02, 5.00838399e-01, 4.12893623e-01,\n",
              "       8.32150102e-01, 1.79935589e-01, 5.26478589e-01, 7.06632316e-01,\n",
              "       9.99991000e-01, 8.72831225e-01, 9.99948978e-01, 9.99988377e-01,\n",
              "       9.99948204e-01, 4.11989510e-01, 5.34348607e-01, 7.49698579e-01,\n",
              "       5.15456557e-01, 8.46012473e-01, 7.88098514e-01, 7.08254695e-01,\n",
              "       5.32982707e-01, 7.66397893e-01, 8.65579545e-01, 7.04150558e-01,\n",
              "       4.25446689e-01, 9.27130520e-01, 5.12738585e-01, 3.26274455e-01,\n",
              "       7.78932631e-01, 6.16923392e-01, 7.39830554e-01, 8.34756970e-01,\n",
              "       5.45706451e-01, 6.39668345e-01, 9.90615487e-01, 6.52535617e-01,\n",
              "       7.60808051e-01, 1.23065606e-01, 8.63580644e-01, 8.98349583e-01,\n",
              "       9.58467662e-01, 3.91511351e-01, 6.53830767e-01, 7.04665124e-01,\n",
              "       5.46185672e-01, 1.46217003e-01, 3.44120741e-01, 6.46800220e-01,\n",
              "       4.89534825e-01, 3.59065294e-01, 6.03862941e-01, 8.58141575e-03,\n",
              "       6.21937262e-03, 6.84272826e-01, 7.60284126e-01, 3.44795972e-01,\n",
              "       7.46087253e-01, 6.39011025e-01, 2.87545651e-01, 7.62630284e-01,\n",
              "       8.43670249e-01, 8.88815999e-01, 6.30727351e-01, 7.92687058e-01,\n",
              "       7.37366438e-01, 9.86092031e-01, 1.43388316e-01, 8.01652253e-01,\n",
              "       7.70947337e-01, 7.85550535e-01, 9.91272330e-01, 8.51410091e-01,\n",
              "       7.83295810e-01, 7.86291122e-01, 6.72626555e-01, 5.00114076e-02,\n",
              "       7.03027308e-01, 7.38783538e-01, 4.98155415e-01, 8.37360203e-01,\n",
              "       6.75168410e-02, 7.46756017e-01, 6.37564600e-01, 5.64055681e-01,\n",
              "       7.59353936e-01, 6.78121030e-01, 9.26733077e-01, 9.04476583e-01,\n",
              "       6.91294312e-01, 2.77916223e-01, 7.87124515e-01, 3.65284115e-01,\n",
              "       8.70004356e-01, 8.49910498e-01, 7.82777727e-01, 7.24393308e-01,\n",
              "       8.27533722e-01, 7.12481201e-01, 5.90216875e-01, 1.89295247e-01,\n",
              "       8.62972140e-01, 8.35088432e-01, 8.28260422e-01, 6.46632075e-01,\n",
              "       5.64103782e-01, 3.75649333e-01, 6.39367163e-01, 5.92023730e-01,\n",
              "       6.96077287e-01, 7.17829287e-01, 2.48020530e-01, 7.26609528e-01,\n",
              "       7.92051852e-01, 8.28411996e-01, 7.45978534e-01, 8.52164805e-01,\n",
              "       8.61859739e-01, 7.79769897e-01, 9.11760807e-01, 2.46218011e-01,\n",
              "       5.63436270e-01, 6.06849372e-01, 8.36350381e-01, 3.29812199e-01,\n",
              "       8.65792513e-01, 3.36371452e-01, 7.16205955e-01, 7.48400927e-01,\n",
              "       1.80243298e-01, 7.31672943e-01, 2.20110252e-01, 6.56516194e-01,\n",
              "       6.52601480e-01, 4.68039393e-01, 8.18467975e-01, 7.13157594e-01,\n",
              "       3.68247628e-01, 6.33145452e-01, 7.97646999e-01, 6.14246726e-01,\n",
              "       5.30105472e-01, 8.69021833e-01, 1.67344287e-01, 4.49069351e-01,\n",
              "       4.80089188e-01, 7.35894859e-01, 7.77425885e-01, 9.70896006e-01,\n",
              "       8.39748383e-01, 2.48293459e-01, 7.43147850e-01, 1.30246624e-01,\n",
              "       5.09456873e-01, 5.38176477e-01, 5.78858018e-01, 6.87912345e-01,\n",
              "       8.12387109e-01, 8.21307123e-01, 9.36874807e-01, 8.46450984e-01,\n",
              "       7.71233618e-01, 6.95404112e-01, 9.66939449e-01, 6.07622862e-01,\n",
              "       4.47460622e-01, 9.93295789e-01, 8.74614477e-01, 5.79866350e-01,\n",
              "       7.37652063e-01, 5.22306919e-01, 8.78290653e-01, 8.95112455e-01,\n",
              "       5.53898990e-01, 8.05521548e-01, 9.14158404e-01, 3.70138288e-01,\n",
              "       6.50378048e-01, 6.01921082e-01, 6.79894626e-01, 5.97125769e-01,\n",
              "       7.87860096e-01, 6.31877482e-01, 7.73648620e-01, 3.35058033e-01,\n",
              "       9.80700672e-01, 5.86021207e-02, 5.39926708e-01, 6.92235529e-01,\n",
              "       4.94803578e-01, 6.64955854e-01, 5.77800810e-01, 8.75475764e-01,\n",
              "       9.24549550e-02, 9.18384731e-01, 3.41937035e-01, 9.77897942e-01,\n",
              "       5.23750186e-01, 9.52489853e-01, 7.94075906e-01, 8.79180670e-01,\n",
              "       8.46387446e-01, 8.49393845e-01, 8.29601288e-01, 8.94822419e-01,\n",
              "       9.17765617e-01, 7.29695499e-01, 9.95414436e-01, 8.15678477e-01,\n",
              "       5.65170825e-01, 4.85350102e-01, 5.69877982e-01, 1.11896172e-01,\n",
              "       7.94161797e-01, 7.90610552e-01, 7.95301437e-01, 5.56276739e-01,\n",
              "       4.58983958e-01, 6.29522264e-01, 6.62688136e-01, 7.00668454e-01,\n",
              "       3.13561767e-01, 7.56488621e-01, 1.22983620e-01, 7.46067941e-01,\n",
              "       5.47671258e-01, 1.62274316e-01, 5.03498971e-01, 8.10884595e-01,\n",
              "       5.74942827e-01, 3.88274729e-01, 7.04479277e-01, 8.13982069e-01,\n",
              "       6.87583983e-01, 3.97905052e-01, 3.86184692e-01, 6.81850851e-01,\n",
              "       7.17164814e-01, 7.60905445e-01, 7.39610851e-01, 8.13689649e-01,\n",
              "       6.03529274e-01, 6.23454571e-01, 7.47523189e-01, 7.97215879e-01,\n",
              "       7.49532819e-01, 7.74324119e-01, 7.64551878e-01, 5.22548914e-01,\n",
              "       6.66458070e-01, 9.84327197e-01, 6.86251163e-01, 6.93161368e-01,\n",
              "       8.66184831e-01, 4.21465248e-01, 4.63242322e-01, 6.27841175e-01,\n",
              "       6.50934637e-01, 9.96018469e-01, 1.47549808e-01, 4.87747371e-01,\n",
              "       4.82543021e-01, 6.11248076e-01, 6.13865376e-01, 7.35066950e-01,\n",
              "       6.24694407e-01, 3.72053236e-01, 6.84270084e-01, 4.55824077e-01,\n",
              "       7.14592338e-01, 3.12461942e-01, 7.14805543e-01, 9.31465149e-01,\n",
              "       3.98927748e-01, 7.79348075e-01, 4.27039564e-01, 8.06487620e-01,\n",
              "       6.46108866e-01, 6.44883215e-01, 8.57960582e-01, 7.09339261e-01,\n",
              "       6.21653974e-01, 8.06222677e-01, 6.36462569e-01, 1.86480761e-01,\n",
              "       2.62099415e-01, 8.23583722e-01, 1.77353188e-01, 4.40973938e-01,\n",
              "       5.00896037e-01, 7.57393539e-01, 6.39306128e-01, 6.88754678e-01,\n",
              "       4.28883255e-01, 9.59505975e-01, 6.32047415e-01, 7.97678292e-01,\n",
              "       6.56066656e-01, 3.75068367e-01, 2.34192125e-02, 6.38170004e-01,\n",
              "       3.84413570e-01, 8.84761989e-01, 3.67420226e-01, 5.64952791e-01,\n",
              "       7.43169010e-01, 6.65486574e-01, 5.73846042e-01, 8.43203902e-01,\n",
              "       7.32654274e-01, 4.84889358e-01, 9.17309999e-01, 5.69055736e-01,\n",
              "       6.54926300e-01, 7.20686853e-01, 3.09839606e-01, 4.05053645e-01,\n",
              "       3.56946647e-01, 5.66359639e-01, 5.77139795e-01, 4.94295657e-01,\n",
              "       5.32342970e-01, 4.99799192e-01, 5.67475557e-01, 7.01759756e-01,\n",
              "       5.69443226e-01, 9.44063663e-02, 5.59876636e-02, 8.19420695e-01,\n",
              "       5.38558900e-01, 9.18506622e-01, 7.04774678e-01, 2.07874194e-01,\n",
              "       5.89996159e-01, 9.99990046e-01, 9.97045577e-01, 7.43485093e-01,\n",
              "       6.83761120e-01, 8.38215172e-01, 5.05199097e-02, 9.02310789e-01,\n",
              "       2.64017999e-01, 8.91133189e-01, 1.07236207e-01, 9.20286417e-01,\n",
              "       8.14006031e-01, 6.03015184e-01, 6.66235447e-01, 5.84208786e-01,\n",
              "       6.68510020e-01, 9.87153769e-01, 8.00049245e-01, 6.40423477e-01,\n",
              "       3.58384222e-01, 7.95716822e-01, 6.86997354e-01, 5.88169694e-01,\n",
              "       7.05315530e-01, 4.45926070e-01, 3.62067997e-01, 7.22543240e-01,\n",
              "       4.97608423e-01, 3.90192032e-01, 3.08522910e-01, 7.30718553e-01,\n",
              "       5.12567163e-01, 7.66604066e-01, 6.58579707e-01, 9.16546285e-01,\n",
              "       6.63483620e-01, 6.25207305e-01, 6.65867507e-01, 5.98280787e-01,\n",
              "       4.25596863e-01, 8.07624400e-01, 6.50189221e-01, 5.82943439e-01,\n",
              "       3.93367529e-01, 5.13432503e-01, 9.20846045e-01, 2.10366219e-01,\n",
              "       4.44522887e-01, 2.66200155e-01, 9.33769941e-01, 6.21124327e-01,\n",
              "       5.62681258e-01, 8.45551789e-01, 1.75872549e-01, 4.17424262e-01,\n",
              "       6.07811272e-01, 4.91212815e-01, 4.14068609e-01, 7.22611785e-01,\n",
              "       4.81295615e-01, 9.31684494e-01, 7.93267369e-01, 8.81591201e-01,\n",
              "       7.97011912e-01, 7.50906169e-01, 5.06554186e-01, 6.16913736e-01,\n",
              "       7.62570560e-01, 8.63422751e-01, 7.92313933e-01, 5.41108191e-01,\n",
              "       7.49632597e-01, 9.98901427e-01, 6.72486007e-01, 7.80688822e-02,\n",
              "       9.02197063e-01, 8.24981570e-01, 9.00830209e-01, 8.96190405e-01,\n",
              "       8.02202404e-01, 4.72211540e-01, 6.22387707e-01, 2.68198341e-01,\n",
              "       8.06499600e-01, 8.86378407e-01, 6.31982565e-01, 8.16848993e-01,\n",
              "       2.32657120e-01, 4.30039823e-01, 6.57556415e-01, 4.98066455e-01,\n",
              "       5.16687095e-01, 6.13805652e-01, 7.67846704e-01, 8.66624057e-01,\n",
              "       9.38053370e-01, 9.92044032e-01, 9.86469746e-01, 7.57830799e-01,\n",
              "       6.35895431e-01, 6.94818854e-01, 9.93795931e-01, 8.81174147e-01,\n",
              "       5.25243998e-01, 9.45889726e-02, 8.54680061e-01, 2.64850706e-01,\n",
              "       2.80520856e-01, 6.17486179e-01, 3.80780131e-01, 7.16162562e-01,\n",
              "       5.04538178e-01, 3.30844522e-01, 5.03100574e-01, 6.57094046e-02,\n",
              "       8.54303062e-01, 7.78384566e-01, 6.38608277e-01, 9.86266971e-01,\n",
              "       8.43977809e-01, 8.09557915e-01, 7.48123765e-01, 9.83862758e-01,\n",
              "       9.83730376e-01, 6.56088948e-01, 6.16804600e-01, 7.41432488e-01,\n",
              "       5.56444645e-01, 3.06164354e-01, 5.60547173e-01, 7.90650368e-01,\n",
              "       8.38385880e-01, 6.39045596e-01, 7.94594646e-01, 9.21692908e-01,\n",
              "       8.58778358e-01, 7.62713075e-01, 7.09616840e-01, 6.16811216e-01,\n",
              "       4.27367002e-01, 8.52889419e-01, 7.70512521e-01, 7.81656563e-01,\n",
              "       8.75959575e-01, 3.56859326e-01, 8.43600929e-01, 3.96075249e-01,\n",
              "       8.64809275e-01, 7.03450203e-01, 8.44124973e-01, 8.33209813e-01,\n",
              "       7.67752647e-01, 8.98457468e-01, 8.65669429e-01, 7.11641729e-01,\n",
              "       2.52723932e-01, 8.04618537e-01, 6.37974143e-01, 6.72430336e-01,\n",
              "       7.40244925e-01, 6.89989626e-01, 8.36139679e-01, 6.72285855e-01,\n",
              "       2.68073052e-01, 6.46683335e-01, 6.25255764e-01, 8.18550289e-01,\n",
              "       3.46417427e-01, 5.78584254e-01, 8.56609166e-01, 5.31057715e-01,\n",
              "       7.70034075e-01, 7.04714656e-01, 4.58527833e-01, 6.79013506e-02,\n",
              "       2.79517935e-05, 6.91906273e-01, 6.93379998e-01, 6.25493646e-01,\n",
              "       5.60484469e-01, 6.65409267e-01, 9.72115099e-01, 6.53676569e-01,\n",
              "       3.53049815e-01, 2.00815991e-01, 3.77095230e-02, 8.56178328e-02,\n",
              "       4.60517198e-01, 2.19631255e-01, 4.88850653e-01, 1.89479291e-01,\n",
              "       8.57014656e-02, 4.69196700e-02, 8.20666730e-01, 7.29238570e-01,\n",
              "       6.06092274e-01, 8.30201209e-01, 8.24435890e-01, 8.86095285e-01,\n",
              "       9.71513987e-01, 6.13561988e-01, 5.99032104e-01, 7.56704882e-02,\n",
              "       2.82161295e-01, 5.85000157e-01, 5.43780327e-01, 7.99346566e-01,\n",
              "       6.13621175e-01, 5.77058077e-01, 6.45357013e-01, 4.97011095e-01],\n",
              "      dtype=float32)"
            ]
          },
          "metadata": {
            "tags": []
          },
          "execution_count": 26
        }
      ]
    },
    {
      "cell_type": "code",
      "metadata": {
        "id": "K8CprZvVq3aI",
        "colab": {
          "base_uri": "https://localhost:8080/"
        },
        "outputId": "8438b4fd-1d5c-4181-b597-4a739af4dc54"
      },
      "source": [
        "# 0.5를 기준으로 (0, 1) 결정\n",
        "test_preds = (0.5 < logits).astype(np.int)\n",
        "test_preds"
      ],
      "execution_count": null,
      "outputs": [
        {
          "output_type": "execute_result",
          "data": {
            "text/plain": [
              "array([0, 1, 1, 0, 0, 0, 1, 0, 1, 1, 0, 1, 1, 0, 1, 1, 1, 1, 1, 0, 0, 0,\n",
              "       1, 0, 1, 0, 0, 1, 0, 1, 0, 0, 1, 1, 1, 1, 1, 0, 1, 1, 0, 0, 0, 0,\n",
              "       0, 1, 0, 1, 1, 1, 1, 1, 0, 1, 1, 1, 1, 1, 1, 1, 1, 1, 1, 1, 1, 1,\n",
              "       0, 0, 1, 1, 0, 1, 1, 1, 1, 1, 1, 0, 1, 1, 1, 1, 1, 1, 1, 1, 1, 1,\n",
              "       1, 1, 1, 0, 1, 1, 0, 0, 1, 0, 1, 1, 1, 1, 1, 0, 1, 1, 1, 0, 0, 1,\n",
              "       1, 1, 0, 1, 1, 0, 0, 0, 1, 1, 1, 1, 0, 1, 1, 1, 1, 1, 1, 1, 1, 1,\n",
              "       1, 1, 1, 1, 0, 0, 1, 0, 1, 0, 1, 1, 0, 0, 1, 0, 1, 0, 1, 1, 1, 1,\n",
              "       1, 1, 1, 0, 1, 1, 1, 1, 1, 1, 1, 1, 1, 1, 0, 1, 1, 0, 1, 1, 1, 1,\n",
              "       1, 1, 1, 1, 1, 0, 1, 1, 1, 0, 1, 1, 1, 0, 0, 1, 0, 0, 1, 0, 0, 1,\n",
              "       1, 0, 1, 1, 0, 1, 1, 1, 1, 1, 1, 1, 0, 1, 1, 1, 1, 1, 1, 1, 1, 0,\n",
              "       1, 1, 0, 1, 0, 1, 1, 1, 1, 1, 1, 1, 1, 0, 1, 0, 1, 1, 1, 1, 1, 1,\n",
              "       1, 0, 1, 1, 1, 1, 1, 0, 1, 1, 1, 1, 0, 1, 1, 1, 1, 1, 1, 1, 1, 0,\n",
              "       1, 1, 1, 0, 1, 0, 1, 1, 0, 1, 0, 1, 1, 0, 1, 1, 0, 1, 1, 1, 1, 1,\n",
              "       0, 0, 0, 1, 1, 1, 1, 0, 1, 0, 1, 1, 1, 1, 1, 1, 1, 1, 1, 1, 1, 1,\n",
              "       0, 1, 1, 1, 1, 1, 1, 1, 1, 1, 1, 0, 1, 1, 1, 1, 1, 1, 1, 0, 1, 0,\n",
              "       1, 1, 0, 1, 1, 1, 0, 1, 0, 1, 1, 1, 1, 1, 1, 1, 1, 1, 1, 1, 1, 1,\n",
              "       1, 0, 1, 0, 1, 1, 1, 1, 0, 1, 1, 1, 0, 1, 0, 1, 1, 0, 1, 1, 1, 0,\n",
              "       1, 1, 1, 0, 0, 1, 1, 1, 1, 1, 1, 1, 1, 1, 1, 1, 1, 1, 1, 1, 1, 1,\n",
              "       1, 0, 0, 1, 1, 1, 0, 0, 0, 1, 1, 1, 1, 0, 1, 0, 1, 0, 1, 1, 0, 1,\n",
              "       0, 1, 1, 1, 1, 1, 1, 1, 1, 0, 0, 1, 0, 0, 1, 1, 1, 1, 0, 1, 1, 1,\n",
              "       1, 0, 0, 1, 0, 1, 0, 1, 1, 1, 1, 1, 1, 0, 1, 1, 1, 1, 0, 0, 0, 1,\n",
              "       1, 0, 1, 0, 1, 1, 1, 0, 0, 1, 1, 1, 1, 0, 1, 1, 1, 1, 1, 1, 0, 1,\n",
              "       0, 1, 0, 1, 1, 1, 1, 1, 1, 1, 1, 1, 0, 1, 1, 1, 1, 0, 0, 1, 0, 0,\n",
              "       0, 1, 1, 1, 1, 1, 1, 1, 1, 1, 0, 1, 1, 1, 0, 1, 1, 0, 0, 0, 1, 1,\n",
              "       1, 1, 0, 0, 1, 0, 0, 1, 0, 1, 1, 1, 1, 1, 1, 1, 1, 1, 1, 1, 1, 1,\n",
              "       1, 0, 1, 1, 1, 1, 1, 0, 1, 0, 1, 1, 1, 1, 0, 0, 1, 0, 1, 1, 1, 1,\n",
              "       1, 1, 1, 1, 1, 1, 1, 1, 1, 0, 1, 0, 0, 1, 0, 1, 1, 0, 1, 0, 1, 1,\n",
              "       1, 1, 1, 1, 1, 1, 1, 1, 1, 1, 1, 0, 1, 1, 1, 1, 1, 1, 1, 1, 1, 1,\n",
              "       0, 1, 1, 1, 1, 0, 1, 0, 1, 1, 1, 1, 1, 1, 1, 1, 0, 1, 1, 1, 1, 1,\n",
              "       1, 1, 0, 1, 1, 1, 0, 1, 1, 1, 1, 1, 0, 0, 0, 1, 1, 1, 1, 1, 1, 1,\n",
              "       0, 0, 0, 0, 0, 0, 0, 0, 0, 0, 1, 1, 1, 1, 1, 1, 1, 1, 1, 0, 0, 1,\n",
              "       1, 1, 1, 1, 1, 0])"
            ]
          },
          "metadata": {
            "tags": []
          },
          "execution_count": 27
        }
      ]
    },
    {
      "cell_type": "code",
      "metadata": {
        "id": "Nr6i_0noq3aJ",
        "colab": {
          "base_uri": "https://localhost:8080/"
        },
        "outputId": "7f3e0535-e645-4d41-98ea-1e04fa1b7879"
      },
      "source": [
        "# confusion matrix 계산\n",
        "confusion_matrix = np.zeros((2, 2)).astype(np.int)\n",
        "for y_true, y_pred in zip(test_labels, test_preds):\n",
        "    confusion_matrix[int(y_true), int(y_pred)] += 1\n",
        "confusion_matrix"
      ],
      "execution_count": null,
      "outputs": [
        {
          "output_type": "execute_result",
          "data": {
            "text/plain": [
              "array([[132, 197],\n",
              "       [ 48, 311]])"
            ]
          },
          "metadata": {
            "tags": []
          },
          "execution_count": 28
        }
      ]
    },
    {
      "cell_type": "code",
      "metadata": {
        "id": "dRx3o1frq3aJ",
        "colab": {
          "base_uri": "https://localhost:8080/"
        },
        "outputId": "ecf706e6-11d3-4332-a7ad-0563ff3a56ab"
      },
      "source": [
        "# score 계산\n",
        "tp = confusion_matrix[1, 1]\n",
        "tn = confusion_matrix[0, 0]\n",
        "fp = confusion_matrix[0, 1]\n",
        "fn = confusion_matrix[1, 0]\n",
        "\n",
        "accuracy = (tp + tn) / max(tp + tn + fp + fn, 1)\n",
        "print(f'accuracy: {accuracy}')\n",
        "precision = (tp) / max(tp + fp, 1)\n",
        "print(f'precision: {precision}')\n",
        "recall = (tp) / max(tp + fn, 1)\n",
        "print(f'recall: {recall}')\n",
        "f1 = 2 * (precision * recall) / max(precision + recall, 1)\n",
        "print(f'f1: {f1}')"
      ],
      "execution_count": null,
      "outputs": [
        {
          "output_type": "stream",
          "text": [
            "accuracy: 0.6438953488372093\n",
            "precision: 0.6122047244094488\n",
            "recall: 0.8662952646239555\n",
            "f1: 0.7174163783160322\n"
          ],
          "name": "stdout"
        }
      ]
    },
    {
      "cell_type": "code",
      "metadata": {
        "id": "dTLqY8UUq3aJ"
      },
      "source": [
        "def do_predict(model, n_seq_1, string1, n_seq_2, string2):\n",
        "    \"\"\"\n",
        "    입력에 대한 답변 생성하는 함수\n",
        "    :param model: model\n",
        "    :param n_seq_1: 입력 개수 1\n",
        "    :param string1: 입력 문자열 1\n",
        "    :param n_seq_1: 입력 개수 3\n",
        "    :param string2: 입력 문자열 2\n",
        "    \"\"\"\n",
        "    # token 생성: <string 1 tokens>, [PAD] tokens\n",
        "    token1 = vocab.encode_as_ids(string1)[:n_seq_1]\n",
        "    token1 += [0] * (n_seq_1 - len(token1))\n",
        "\n",
        "    # token 생성: <string 2 tokens>, [PAD] tokens\n",
        "    token2 = vocab.encode_as_ids(string2)[:n_seq_2]\n",
        "    token2 += [0] * (n_seq_2 - len(token2))\n",
        "\n",
        "    y_pred = model.predict((np.array([token1]), np.array([token2])))\n",
        "\n",
        "    return \"같음\" if y_pred[0] > 0.5 else \"다름\""
      ],
      "execution_count": null,
      "outputs": []
    },
    {
      "cell_type": "code",
      "metadata": {
        "id": "jOLOr1Ygq3aJ",
        "colab": {
          "base_uri": "https://localhost:8080/",
          "height": 244
        },
        "outputId": "b3009bbd-9f6f-49bf-8847-4d82ea7db41a"
      },
      "source": [
        " while True:\n",
        "    print(\"string #1 > \", end=\"\")\n",
        "    string1 = str(input())\n",
        "    if len(string1) == 0:\n",
        "        break\n",
        "    print(\"string #2 > \", end=\"\")\n",
        "    string2 = str(input())\n",
        "    if len(string2) == 0:\n",
        "        break\n",
        "    print(f\"output > {do_predict(model, n_seq_1, string1, n_seq_2, string2)}\")"
      ],
      "execution_count": null,
      "outputs": [
        {
          "output_type": "stream",
          "text": [
            "string #1 > 오늘 날씨가 좋아\n",
            "string #2 > 오늘기분이 좋아\n"
          ],
          "name": "stdout"
        },
        {
          "output_type": "error",
          "ename": "NameError",
          "evalue": "ignored",
          "traceback": [
            "\u001b[0;31m---------------------------------------------------------------------------\u001b[0m",
            "\u001b[0;31mNameError\u001b[0m                                 Traceback (most recent call last)",
            "\u001b[0;32m<ipython-input-3-811ae2654625>\u001b[0m in \u001b[0;36m<module>\u001b[0;34m()\u001b[0m\n\u001b[1;32m      8\u001b[0m    \u001b[0;32mif\u001b[0m \u001b[0mlen\u001b[0m\u001b[0;34m(\u001b[0m\u001b[0mstring2\u001b[0m\u001b[0;34m)\u001b[0m \u001b[0;34m==\u001b[0m \u001b[0;36m0\u001b[0m\u001b[0;34m:\u001b[0m\u001b[0;34m\u001b[0m\u001b[0;34m\u001b[0m\u001b[0m\n\u001b[1;32m      9\u001b[0m        \u001b[0;32mbreak\u001b[0m\u001b[0;34m\u001b[0m\u001b[0;34m\u001b[0m\u001b[0m\n\u001b[0;32m---> 10\u001b[0;31m    \u001b[0mprint\u001b[0m\u001b[0;34m(\u001b[0m\u001b[0;34mf\"output > {do_predict(model, n_seq_1, string1, n_seq_2, string2)}\"\u001b[0m\u001b[0;34m)\u001b[0m\u001b[0;34m\u001b[0m\u001b[0;34m\u001b[0m\u001b[0m\n\u001b[0m",
            "\u001b[0;31mNameError\u001b[0m: name 'model' is not defined"
          ]
        }
      ]
    },
    {
      "cell_type": "code",
      "metadata": {
        "id": "F1YfFKUrsVp8"
      },
      "source": [
        ""
      ],
      "execution_count": null,
      "outputs": []
    }
  ]
}