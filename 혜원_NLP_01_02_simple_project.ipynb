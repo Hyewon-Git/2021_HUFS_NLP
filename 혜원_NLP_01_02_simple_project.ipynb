{
  "nbformat": 4,
  "nbformat_minor": 0,
  "metadata": {
    "colab": {
      "name": "혜원-NLP-01-02-simple-project.ipynb",
      "provenance": [],
      "collapsed_sections": [
        "milX02G6zneK"
      ],
      "include_colab_link": true
    },
    "kernelspec": {
      "name": "python3",
      "display_name": "Python 3"
    },
    "accelerator": "GPU"
  },
  "cells": [
    {
      "cell_type": "markdown",
      "metadata": {
        "id": "view-in-github",
        "colab_type": "text"
      },
      "source": [
        "<a href=\"https://colab.research.google.com/github/Hyewon-Git/2021_HUFS_NLP/blob/main/%ED%98%9C%EC%9B%90_NLP_01_02_simple_project.ipynb\" target=\"_parent\"><img src=\"https://colab.research.google.com/assets/colab-badge.svg\" alt=\"Open In Colab\"/></a>"
      ]
    },
    {
      "cell_type": "markdown",
      "metadata": {
        "id": "BuaFwJqDVumT"
      },
      "source": [
        "# EVN"
      ]
    },
    {
      "cell_type": "code",
      "metadata": {
        "id": "ODiNPGQ9VwLK"
      },
      "source": [
        "import numpy as np\n",
        "import matplotlib.pyplot as plt\n",
        "\n",
        "import tensorflow as tf"
      ],
      "execution_count": null,
      "outputs": []
    },
    {
      "cell_type": "markdown",
      "metadata": {
        "id": "sFo_3tAlzneI"
      },
      "source": [
        "# 단어 긍정(2), 중립(1), 부정(0) 분류 프로젝트"
      ]
    },
    {
      "cell_type": "markdown",
      "metadata": {
        "id": "erIr-mg8zneJ"
      },
      "source": [
        "## 데이터"
      ]
    },
    {
      "cell_type": "code",
      "metadata": {
        "id": "KQqU4MBIzneJ"
      },
      "source": [
        "# 입력 문장\n",
        "sentences = [\n",
        "    '나는 오늘 기분이 좋아',\n",
        "    '나는 오늘 우울해'\n",
        "]\n",
        "\n",
        "# 출력 정답\n",
        "labels = [[1, 1, 1, 2],\n",
        "          [1, 1, 0]]  # 긍정(2), 중립(1), 부정(0)\n",
        "\n",
        "# 정답 dic\n",
        "id_to_label = {0: '부정', 1: '중립', 2: '긍정'}"
      ],
      "execution_count": null,
      "outputs": []
    },
    {
      "cell_type": "code",
      "metadata": {
        "colab": {
          "base_uri": "https://localhost:8080/",
          "height": 35
        },
        "id": "-vqtcCB5VQAB",
        "outputId": "79334ab2-7da8-43b8-9e63-618a0e83d76c"
      },
      "source": [
        "id_to_label[2]"
      ],
      "execution_count": null,
      "outputs": [
        {
          "output_type": "execute_result",
          "data": {
            "application/vnd.google.colaboratory.intrinsic+json": {
              "type": "string"
            },
            "text/plain": [
              "'긍정'"
            ]
          },
          "metadata": {
            "tags": []
          },
          "execution_count": 5
        }
      ]
    },
    {
      "cell_type": "code",
      "metadata": {
        "colab": {
          "base_uri": "https://localhost:8080/"
        },
        "id": "Kw8qF7eJVZyk",
        "outputId": "e057a4ff-e3e9-4875-db68-0ecdd5417fc2"
      },
      "source": [
        "sentences"
      ],
      "execution_count": null,
      "outputs": [
        {
          "output_type": "execute_result",
          "data": {
            "text/plain": [
              "['나는 오늘 기분이 좋아', '나는 오늘 우울해']"
            ]
          },
          "metadata": {
            "tags": []
          },
          "execution_count": 6
        }
      ]
    },
    {
      "cell_type": "code",
      "metadata": {
        "colab": {
          "base_uri": "https://localhost:8080/"
        },
        "id": "3NYbHWDzVbcP",
        "outputId": "472354a1-a0b0-475b-f404-fdc06a80f128"
      },
      "source": [
        "labels"
      ],
      "execution_count": null,
      "outputs": [
        {
          "output_type": "execute_result",
          "data": {
            "text/plain": [
              "[[1, 1, 1, 2], [1, 1, 0]]"
            ]
          },
          "metadata": {
            "tags": []
          },
          "execution_count": 7
        }
      ]
    },
    {
      "cell_type": "markdown",
      "metadata": {
        "id": "wS_edoagzneJ"
      },
      "source": [
        "## Vocabulary"
      ]
    },
    {
      "cell_type": "code",
      "metadata": {
        "colab": {
          "base_uri": "https://localhost:8080/"
        },
        "id": "lcLpVNtBWJx4",
        "outputId": "38de8cd8-a440-4280-bb9c-36b2463d2d01"
      },
      "source": [
        "# 각 문장을 띄어쓰기 단위로 분할\n",
        "words = []\n",
        "for sentence in sentences:\n",
        "    words.extend(sentence.split())\n",
        "words"
      ],
      "execution_count": null,
      "outputs": [
        {
          "output_type": "execute_result",
          "data": {
            "text/plain": [
              "['나는', '오늘', '기분이', '좋아', '나는', '오늘', '우울해']"
            ]
          },
          "metadata": {
            "tags": []
          },
          "execution_count": 8
        }
      ]
    },
    {
      "cell_type": "code",
      "metadata": {
        "colab": {
          "base_uri": "https://localhost:8080/"
        },
        "id": "hp-4gfkcWc0d",
        "outputId": "44676a25-f72c-4e74-edc4-434c4247f0b9"
      },
      "source": [
        "# 중복 단어 제거\n",
        "words = list(dict.fromkeys(words))\n",
        "words"
      ],
      "execution_count": null,
      "outputs": [
        {
          "output_type": "execute_result",
          "data": {
            "text/plain": [
              "['나는', '오늘', '기분이', '좋아', '우울해']"
            ]
          },
          "metadata": {
            "tags": []
          },
          "execution_count": 9
        }
      ]
    },
    {
      "cell_type": "code",
      "metadata": {
        "id": "3981h6S8XvZs"
      },
      "source": [
        "########### 고유한 번호 부여 다시 !!!!!!!***************"
      ],
      "execution_count": null,
      "outputs": []
    },
    {
      "cell_type": "code",
      "metadata": {
        "colab": {
          "base_uri": "https://localhost:8080/"
        },
        "id": "AOCR1TMyWmva",
        "outputId": "5e5a76a9-2250-40bd-bb7d-4f376a2f659d"
      },
      "source": [
        "# 각 단어별 고유한 번호 부여 ---> 글자에 순서를\n",
        "word_to_id = {'[PAD]': 0, '[UNK]': 1}  # PAD 길이를 조절할때, UNK vocab에 없는 단어\n",
        "for word in words:\n",
        "    print(words)\n",
        "    print(word)\n",
        "    print(len(word_to_id))\n",
        "    word_to_id[word] = len(word_to_id)\n",
        "word_to_id"
      ],
      "execution_count": null,
      "outputs": [
        {
          "output_type": "stream",
          "text": [
            "['나는', '오늘', '기분이', '좋아', '우울해']\n",
            "나는\n",
            "2\n",
            "['나는', '오늘', '기분이', '좋아', '우울해']\n",
            "오늘\n",
            "3\n",
            "['나는', '오늘', '기분이', '좋아', '우울해']\n",
            "기분이\n",
            "4\n",
            "['나는', '오늘', '기분이', '좋아', '우울해']\n",
            "좋아\n",
            "5\n",
            "['나는', '오늘', '기분이', '좋아', '우울해']\n",
            "우울해\n",
            "6\n"
          ],
          "name": "stdout"
        },
        {
          "output_type": "execute_result",
          "data": {
            "text/plain": [
              "{'[PAD]': 0, '[UNK]': 1, '기분이': 4, '나는': 2, '오늘': 3, '우울해': 6, '좋아': 5}"
            ]
          },
          "metadata": {
            "tags": []
          },
          "execution_count": 12
        }
      ]
    },
    {
      "cell_type": "code",
      "metadata": {
        "id": "9S89BWKQXEgK",
        "colab": {
          "base_uri": "https://localhost:8080/"
        },
        "outputId": "e5ba5bcd-c1c8-4b58-c946-75180bffb6b8"
      },
      "source": [
        "# 각 숫자별 단어 부여\n",
        "id_to_word = {_id:word for word, _id in word_to_id.items()}\n",
        "id_to_word"
      ],
      "execution_count": null,
      "outputs": [
        {
          "output_type": "execute_result",
          "data": {
            "text/plain": [
              "{0: '[PAD]', 1: '[UNK]', 2: '나는', 3: '오늘', 4: '기분이', 5: '좋아', 6: '우울해'}"
            ]
          },
          "metadata": {
            "tags": []
          },
          "execution_count": 9
        }
      ]
    },
    {
      "cell_type": "markdown",
      "metadata": {
        "id": "-0Mbb5GWzneK"
      },
      "source": [
        "## 모델 학습용 데이터 생성"
      ]
    },
    {
      "cell_type": "code",
      "metadata": {
        "colab": {
          "base_uri": "https://localhost:8080/"
        },
        "id": "8O3k3F4vZtnV",
        "outputId": "eaae6605-78a2-4239-de7f-6f4523b0f306"
      },
      "source": [
        "# 학습용 입력 데이터 생성 : 단어를 순서 숫자로 바꿧으 그 숫자로 사용\r\n",
        "train_inputs = []\r\n",
        "for sentence in sentences:\r\n",
        "    train_inputs.append([word_to_id[word] for word in sentence.split()])\r\n",
        "train_inputs"
      ],
      "execution_count": null,
      "outputs": [
        {
          "output_type": "execute_result",
          "data": {
            "text/plain": [
              "[[2, 3, 4, 5], [2, 3, 6]]"
            ]
          },
          "metadata": {
            "tags": []
          },
          "execution_count": 13
        }
      ]
    },
    {
      "cell_type": "code",
      "metadata": {
        "colab": {
          "base_uri": "https://localhost:8080/"
        },
        "id": "S6srcZnAZxfA",
        "outputId": "089f807e-9bc0-49f2-a8a2-f59dc2f2a31a"
      },
      "source": [
        "# 문장의 길이를 모두 동일하게 변경 (최대길이 4) >> 문장의 최대길이로 동일하게바꿔줌\r\n",
        "for row in train_inputs:\r\n",
        "    row += [0] * (4 - len(row))\r\n",
        "train_inputs"
      ],
      "execution_count": null,
      "outputs": [
        {
          "output_type": "execute_result",
          "data": {
            "text/plain": [
              "[[2, 3, 4, 5], [2, 3, 6, 0]]"
            ]
          },
          "metadata": {
            "tags": []
          },
          "execution_count": 11
        }
      ]
    },
    {
      "cell_type": "code",
      "metadata": {
        "colab": {
          "base_uri": "https://localhost:8080/"
        },
        "id": "1ds12OggedSk",
        "outputId": "736d1198-bc69-40d0-c7de-7a941f997df2"
      },
      "source": [
        "# train inputs을 numpy array로 변환\r\n",
        "train_inputs = np.array(train_inputs)\r\n",
        "train_inputs.shape"
      ],
      "execution_count": null,
      "outputs": [
        {
          "output_type": "execute_result",
          "data": {
            "text/plain": [
              "(2, 4)"
            ]
          },
          "metadata": {
            "tags": []
          },
          "execution_count": 12
        }
      ]
    },
    {
      "cell_type": "code",
      "metadata": {
        "colab": {
          "base_uri": "https://localhost:8080/"
        },
        "id": "Ex6bLEvpb1sV",
        "outputId": "3fbec69b-ed69-4904-83e3-7d311eb161d5"
      },
      "source": [
        "# train label은 labels를 그래도 사용\r\n",
        "train_labels = labels\r\n",
        "train_labels"
      ],
      "execution_count": null,
      "outputs": [
        {
          "output_type": "execute_result",
          "data": {
            "text/plain": [
              "[[1, 1, 1, 2], [1, 1, 0]]"
            ]
          },
          "metadata": {
            "tags": []
          },
          "execution_count": 13
        }
      ]
    },
    {
      "cell_type": "code",
      "metadata": {
        "id": "c2-Q9mM6b1pR",
        "colab": {
          "base_uri": "https://localhost:8080/"
        },
        "outputId": "09f58013-6381-44e5-a01a-02c2e8539c89"
      },
      "source": [
        "# 정답 길이를 모두 동일하게 변경 (최대길이 4)\r\n",
        "for row in train_labels:\r\n",
        "    row += [1] * (4 - len(row))\r\n",
        "train_labels"
      ],
      "execution_count": null,
      "outputs": [
        {
          "output_type": "execute_result",
          "data": {
            "text/plain": [
              "[[1, 1, 1, 2], [1, 1, 0, 1]]"
            ]
          },
          "metadata": {
            "tags": []
          },
          "execution_count": 14
        }
      ]
    },
    {
      "cell_type": "code",
      "metadata": {
        "id": "9uZJ7ahtb1lC",
        "colab": {
          "base_uri": "https://localhost:8080/"
        },
        "outputId": "dd11d735-b8ed-4e5d-cdfd-049d3819997d"
      },
      "source": [
        "# 학습용 정답을 numpy array로 변환\r\n",
        "train_labels = np.array(train_labels)\r\n",
        "train_labels"
      ],
      "execution_count": null,
      "outputs": [
        {
          "output_type": "execute_result",
          "data": {
            "text/plain": [
              "array([[1, 1, 1, 2],\n",
              "       [1, 1, 0, 1]])"
            ]
          },
          "metadata": {
            "tags": []
          },
          "execution_count": 15
        }
      ]
    },
    {
      "cell_type": "code",
      "metadata": {
        "id": "GUIWCWjoomBl"
      },
      "source": [
        "def build_model(n_vocab, d_model, n_seq, n_out):\r\n",
        "    \"\"\"\r\n",
        "    동작만 하는 간단한 모델\r\n",
        "    :param n_vocab: vocabulary 단어 수\r\n",
        "    :param d_model: 단어를 의미하는 벡터의 차원 수\r\n",
        "    :param n_seq: 문장길이 (단어 수)\r\n",
        "    :param n_out: 예측할 class 개수\r\n",
        "    \"\"\"\r\n",
        "    inputs = tf.keras.layers.Input((n_seq,))  # (bs, n_seq) ( 베치사이즈 , 문장길이)\r\n",
        "    # **차원도 생각해줘야함!!\r\n",
        "\r\n",
        "    # 입력 단어를 vector로 변환\r\n",
        "    embedding = tf.keras.layers.Embedding(n_vocab, d_model)\r\n",
        "    hidden = embedding(inputs)  # (bs, n_seq, d_model)\r\n",
        "    # 단어의 vector를 이용해서 정답 확률값 예측\r\n",
        "    linear = tf.keras.layers.Dense(n_out, activation=tf.nn.softmax)\r\n",
        "    outputs = linear(hidden)  # (bs, n_seq, n_out)\r\n",
        "    \r\n",
        "    # 학습할 모델 선언\r\n",
        "    model = tf.keras.Model(inputs=inputs, outputs=outputs)\r\n",
        "    return model"
      ],
      "execution_count": null,
      "outputs": []
    },
    {
      "cell_type": "code",
      "metadata": {
        "colab": {
          "base_uri": "https://localhost:8080/",
          "height": 312
        },
        "id": "_Gmq2PicomzR",
        "outputId": "34063098-9db9-4415-bb7c-56f6a7a15ae9"
      },
      "source": [
        "# 모델 생성\r\n",
        "model = build_model(len(word_to_id), 8, 4, 3)\r\n",
        "\r\n",
        "# 모델 내용 그래프 출력\r\n",
        "tf.keras.utils.plot_model(model, 'model.png', show_shapes=True)"
      ],
      "execution_count": null,
      "outputs": [
        {
          "output_type": "execute_result",
          "data": {
            "image/png": "[encoded data removed]",
            "text/plain": [
              "<IPython.core.display.Image object>"
            ]
          },
          "metadata": {
            "tags": []
          },
          "execution_count": 34
        }
      ]
    },
    {
      "cell_type": "markdown",
      "metadata": {
        "id": "milX02G6zneK"
      },
      "source": [
        "## 모델링"
      ]
    },
    {
      "cell_type": "code",
      "metadata": {
        "colab": {
          "base_uri": "https://localhost:8080/"
        },
        "id": "qmIktO5-cbi0",
        "outputId": "5c199cfb-dfdf-4e45-fed4-6b14e6967c17"
      },
      "source": [
        "# 입력 단어를 vector로 변환\r\n",
        "embedding = tf.keras.layers.Embedding(len(word_to_id), 8)  # n_vocab, d_model\r\n",
        "hidden = embedding(train_inputs)\r\n",
        "train_inputs.shape, hidden"
      ],
      "execution_count": null,
      "outputs": [
        {
          "output_type": "execute_result",
          "data": {
            "text/plain": [
              "((2, 4), <tf.Tensor: shape=(2, 4, 8), dtype=float32, numpy=\n",
              " array([[[ 0.04352864,  0.0434214 ,  0.03924635, -0.01627012,\n",
              "          -0.01530019, -0.01223241, -0.03230556,  0.02161647],\n",
              "         [-0.01383436, -0.02792847,  0.03936824,  0.00869938,\n",
              "           0.04843737, -0.00194047,  0.00086018, -0.0270681 ],\n",
              "         [ 0.04238862,  0.04491439, -0.04137973, -0.0203077 ,\n",
              "          -0.01039354,  0.0423548 ,  0.0163249 ,  0.03064277],\n",
              "         [-0.04215628, -0.02907467, -0.01160701,  0.02399028,\n",
              "           0.00956599,  0.00759455,  0.04401958, -0.03787681]],\n",
              " \n",
              "        [[ 0.04352864,  0.0434214 ,  0.03924635, -0.01627012,\n",
              "          -0.01530019, -0.01223241, -0.03230556,  0.02161647],\n",
              "         [-0.01383436, -0.02792847,  0.03936824,  0.00869938,\n",
              "           0.04843737, -0.00194047,  0.00086018, -0.0270681 ],\n",
              "         [-0.04068855, -0.03153791, -0.00771628,  0.00484217,\n",
              "          -0.04373152,  0.01521878,  0.00392642, -0.01863185],\n",
              "         [ 0.03051622, -0.04800776, -0.03728906,  0.02969402,\n",
              "           0.03490267,  0.0441522 , -0.03967278,  0.00149132]]],\n",
              "       dtype=float32)>)"
            ]
          },
          "metadata": {
            "tags": []
          },
          "execution_count": 16
        }
      ]
    },
    {
      "cell_type": "code",
      "metadata": {
        "colab": {
          "base_uri": "https://localhost:8080/"
        },
        "id": "GBZNmMEGcbZn",
        "outputId": "b396f4ee-d5c7-4630-99df-5e48bbf2d2bf"
      },
      "source": [
        "# 단어의 vector를 이용해서 긍정(2), 부정(0), 중립(1) 확률값 예측\r\n",
        "linear = tf.keras.layers.Dense(3, activation=tf.nn.softmax)\r\n",
        "outputs = linear(hidden)\r\n",
        "outputs"
      ],
      "execution_count": null,
      "outputs": [
        {
          "output_type": "execute_result",
          "data": {
            "text/plain": [
              "<tf.Tensor: shape=(2, 4, 3), dtype=float32, numpy=\n",
              "array([[[0.32624155, 0.34840566, 0.3253528 ],\n",
              "        [0.33729583, 0.32836634, 0.33433786],\n",
              "        [0.32618833, 0.3486009 , 0.32521078],\n",
              "        [0.34081224, 0.32416335, 0.33502445]],\n",
              "\n",
              "       [[0.32624155, 0.34840566, 0.3253528 ],\n",
              "        [0.33729583, 0.32836634, 0.33433786],\n",
              "        [0.33740988, 0.32303646, 0.33955368],\n",
              "        [0.34120315, 0.31026185, 0.348535  ]]], dtype=float32)>"
            ]
          },
          "metadata": {
            "tags": []
          },
          "execution_count": 17
        }
      ]
    },
    {
      "cell_type": "code",
      "metadata": {
        "colab": {
          "base_uri": "https://localhost:8080/"
        },
        "id": "dEBTmHPscbP4",
        "outputId": "ab72360c-09b1-4167-921b-45f51481876b"
      },
      "source": [
        "# 단어의 vector를 이용해서 긍정(2), 부정(0), 중립(1) 확률값 예측\r\n",
        "linear_2 = tf.keras.layers.Dense(3)\r\n",
        "logits = linear_2(hidden)\r\n",
        "logits"
      ],
      "execution_count": null,
      "outputs": [
        {
          "output_type": "execute_result",
          "data": {
            "text/plain": [
              "<tf.Tensor: shape=(2, 4, 3), dtype=float32, numpy=\n",
              "array([[[ 0.00273551,  0.01840198,  0.00998018],\n",
              "        [-0.01227024,  0.04181593, -0.02300713],\n",
              "        [ 0.00872404, -0.05703112,  0.0508039 ],\n",
              "        [-0.0302583 , -0.00866686, -0.00039163]],\n",
              "\n",
              "       [[ 0.00273551,  0.01840198,  0.00998018],\n",
              "        [-0.01227024,  0.04181593, -0.02300713],\n",
              "        [-0.0168948 , -0.025653  , -0.00061527],\n",
              "        [ 0.00886697, -0.08473791,  0.00247933]]], dtype=float32)>"
            ]
          },
          "metadata": {
            "tags": []
          },
          "execution_count": 18
        }
      ]
    },
    {
      "cell_type": "code",
      "metadata": {
        "colab": {
          "base_uri": "https://localhost:8080/"
        },
        "id": "QIE4xxGegNAj",
        "outputId": "ad4597f4-ce3a-4a00-8478-0959312a9407"
      },
      "source": [
        "# softmax 계산을 위한 준비 exp(x') / sum(exp(x))\r\n",
        "numerator = np.exp(logits)\r\n",
        "denominator = np.sum(numerator, axis=2, keepdims=True)\r\n",
        "numerator, denominator"
      ],
      "execution_count": null,
      "outputs": [
        {
          "output_type": "execute_result",
          "data": {
            "text/plain": [
              "(array([[[1.0027393 , 1.0185724 , 1.0100302 ],\n",
              "         [0.9878048 , 1.0427024 , 0.9772556 ],\n",
              "         [1.0087622 , 0.94456464, 1.0521165 ],\n",
              "         [0.97019494, 0.9913706 , 0.99960846]],\n",
              " \n",
              "        [[1.0027393 , 1.0185724 , 1.0100302 ],\n",
              "         [0.9878048 , 1.0427024 , 0.9772556 ],\n",
              "         [0.98324716, 0.9746733 , 0.999385  ],\n",
              "         [1.0089064 , 0.918753  , 1.0024824 ]]], dtype=float32),\n",
              " array([[[3.031342 ],\n",
              "         [3.0077627],\n",
              "         [3.0054436],\n",
              "         [2.961174 ]],\n",
              " \n",
              "        [[3.031342 ],\n",
              "         [3.0077627],\n",
              "         [2.9573054],\n",
              "         [2.930142 ]]], dtype=float32))"
            ]
          },
          "metadata": {
            "tags": []
          },
          "execution_count": 19
        }
      ]
    },
    {
      "cell_type": "code",
      "metadata": {
        "colab": {
          "base_uri": "https://localhost:8080/"
        },
        "id": "3uvTjkahgM3m",
        "outputId": "a9e37eb4-5ead-4d0d-a5b0-b24e80d42b06"
      },
      "source": [
        "# 두 결과값 비교\r\n",
        "probs = numerator / denominator\r\n",
        "probs"
      ],
      "execution_count": null,
      "outputs": [
        {
          "output_type": "execute_result",
          "data": {
            "text/plain": [
              "array([[[0.33079055, 0.3360137 , 0.33319572],\n",
              "        [0.32841846, 0.34667045, 0.32491115],\n",
              "        [0.33564505, 0.3142846 , 0.3500703 ],\n",
              "        [0.3276386 , 0.33478972, 0.33757168]],\n",
              "\n",
              "       [[0.33079055, 0.3360137 , 0.33319572],\n",
              "        [0.32841846, 0.34667045, 0.32491115],\n",
              "        [0.33248076, 0.32958153, 0.3379377 ],\n",
              "        [0.34431997, 0.3135524 , 0.3421276 ]]], dtype=float32)"
            ]
          },
          "metadata": {
            "tags": []
          },
          "execution_count": 20
        }
      ]
    },
    {
      "cell_type": "code",
      "metadata": {
        "colab": {
          "base_uri": "https://localhost:8080/"
        },
        "id": "NcVCo-RTgMx2",
        "outputId": "9d20aa9b-e114-4890-feb2-c8f5f4ab0d19"
      },
      "source": [
        "# dense의 wieght, bias\r\n",
        "weight, bias = linear_2.get_weights()\r\n",
        "weight, bias"
      ],
      "execution_count": null,
      "outputs": [
        {
          "output_type": "execute_result",
          "data": {
            "text/plain": [
              "(array([[-0.09437722, -0.5812871 , -0.04301834],\n",
              "        [-0.21644181,  0.12237877,  0.7173317 ],\n",
              "        [-0.29122585,  0.599255  , -0.1287539 ],\n",
              "        [-0.49976206, -0.7107413 ,  0.29575628],\n",
              "        [ 0.25047725,  0.50886065, -0.10771114],\n",
              "        [-0.28738195, -0.7296002 ,  0.62573904],\n",
              "        [-0.21132344,  0.0900135 , -0.0270831 ],\n",
              "        [ 0.60279244,  0.23487514, -0.19884682]], dtype=float32),\n",
              " array([0., 0., 0.], dtype=float32))"
            ]
          },
          "metadata": {
            "tags": []
          },
          "execution_count": 21
        }
      ]
    },
    {
      "cell_type": "code",
      "metadata": {
        "colab": {
          "base_uri": "https://localhost:8080/"
        },
        "id": "MzClSkHKgMuj",
        "outputId": "d23ae0f5-8857-47e7-d2af-b5877a2e5e00"
      },
      "source": [
        "# numpy를 이용한 xW+b\r\n",
        "logits = np.matmul(hidden, weight) + bias\r\n",
        "logits"
      ],
      "execution_count": null,
      "outputs": [
        {
          "output_type": "execute_result",
          "data": {
            "text/plain": [
              "array([[[ 0.00273551,  0.01840198,  0.00998018],\n",
              "        [-0.01227024,  0.04181592, -0.02300713],\n",
              "        [ 0.00872404, -0.05703112,  0.0508039 ],\n",
              "        [-0.0302583 , -0.00866686, -0.00039163]],\n",
              "\n",
              "       [[ 0.00273551,  0.01840198,  0.00998018],\n",
              "        [-0.01227024,  0.04181592, -0.02300713],\n",
              "        [-0.0168948 , -0.025653  , -0.00061528],\n",
              "        [ 0.00886696, -0.08473791,  0.00247933]]], dtype=float32)"
            ]
          },
          "metadata": {
            "tags": []
          },
          "execution_count": 22
        }
      ]
    },
    {
      "cell_type": "markdown",
      "metadata": {
        "id": "DhXN7DHvlEpp"
      },
      "source": [
        "## 학습"
      ]
    },
    {
      "cell_type": "code",
      "metadata": {
        "id": "Xr3RhiXeoPmJ"
      },
      "source": [
        "# 모델 loss, optimizer, metric 정의\r\n",
        "model.compile(loss='sparse_categorical_crossentropy', optimizer='adam', metrics=['accuracy'])\r\n"
      ],
      "execution_count": null,
      "outputs": []
    },
    {
      "cell_type": "code",
      "metadata": {
        "colab": {
          "base_uri": "https://localhost:8080/"
        },
        "id": "OJ4cEp2yiyt4",
        "outputId": "ecf1cc1c-4e5c-4233-d77a-799593a9728d"
      },
      "source": [
        "# 모델 학습\r\n",
        "history = model.fit(train_inputs, train_labels, epochs=100, batch_size=16)\r\n",
        "\r\n"
      ],
      "execution_count": null,
      "outputs": [
        {
          "output_type": "stream",
          "text": [
            "Epoch 1/100\n",
            "1/1 [==============================] - 1s 565ms/step - loss: 1.0705 - accuracy: 0.7500\n",
            "Epoch 2/100\n",
            "1/1 [==============================] - 0s 6ms/step - loss: 1.0674 - accuracy: 0.7500\n",
            "Epoch 3/100\n",
            "1/1 [==============================] - 0s 7ms/step - loss: 1.0643 - accuracy: 0.7500\n",
            "Epoch 4/100\n",
            "1/1 [==============================] - 0s 7ms/step - loss: 1.0612 - accuracy: 0.7500\n",
            "Epoch 5/100\n",
            "1/1 [==============================] - 0s 7ms/step - loss: 1.0580 - accuracy: 0.7500\n",
            "Epoch 6/100\n",
            "1/1 [==============================] - 0s 5ms/step - loss: 1.0549 - accuracy: 0.7500\n",
            "Epoch 7/100\n",
            "1/1 [==============================] - 0s 7ms/step - loss: 1.0518 - accuracy: 0.7500\n",
            "Epoch 8/100\n",
            "1/1 [==============================] - 0s 8ms/step - loss: 1.0486 - accuracy: 0.7500\n",
            "Epoch 9/100\n",
            "1/1 [==============================] - 0s 8ms/step - loss: 1.0454 - accuracy: 0.7500\n",
            "Epoch 10/100\n",
            "1/1 [==============================] - 0s 9ms/step - loss: 1.0423 - accuracy: 0.8750\n",
            "Epoch 11/100\n",
            "1/1 [==============================] - 0s 5ms/step - loss: 1.0391 - accuracy: 0.8750\n",
            "Epoch 12/100\n",
            "1/1 [==============================] - 0s 4ms/step - loss: 1.0359 - accuracy: 0.8750\n",
            "Epoch 13/100\n",
            "1/1 [==============================] - 0s 5ms/step - loss: 1.0327 - accuracy: 0.8750\n",
            "Epoch 14/100\n",
            "1/1 [==============================] - 0s 6ms/step - loss: 1.0295 - accuracy: 0.8750\n",
            "Epoch 15/100\n",
            "1/1 [==============================] - 0s 9ms/step - loss: 1.0263 - accuracy: 0.8750\n",
            "Epoch 16/100\n",
            "1/1 [==============================] - 0s 3ms/step - loss: 1.0230 - accuracy: 0.8750\n",
            "Epoch 17/100\n",
            "1/1 [==============================] - 0s 6ms/step - loss: 1.0198 - accuracy: 0.8750\n",
            "Epoch 18/100\n",
            "1/1 [==============================] - 0s 8ms/step - loss: 1.0166 - accuracy: 1.0000\n",
            "Epoch 19/100\n",
            "1/1 [==============================] - 0s 6ms/step - loss: 1.0133 - accuracy: 1.0000\n",
            "Epoch 20/100\n",
            "1/1 [==============================] - 0s 8ms/step - loss: 1.0100 - accuracy: 1.0000\n",
            "Epoch 21/100\n",
            "1/1 [==============================] - 0s 7ms/step - loss: 1.0067 - accuracy: 1.0000\n",
            "Epoch 22/100\n",
            "1/1 [==============================] - 0s 7ms/step - loss: 1.0034 - accuracy: 1.0000\n",
            "Epoch 23/100\n",
            "1/1 [==============================] - 0s 10ms/step - loss: 1.0001 - accuracy: 1.0000\n",
            "Epoch 24/100\n",
            "1/1 [==============================] - 0s 7ms/step - loss: 0.9968 - accuracy: 1.0000\n",
            "Epoch 25/100\n",
            "1/1 [==============================] - 0s 8ms/step - loss: 0.9934 - accuracy: 1.0000\n",
            "Epoch 26/100\n",
            "1/1 [==============================] - 0s 6ms/step - loss: 0.9901 - accuracy: 1.0000\n",
            "Epoch 27/100\n",
            "1/1 [==============================] - 0s 6ms/step - loss: 0.9867 - accuracy: 1.0000\n",
            "Epoch 28/100\n",
            "1/1 [==============================] - 0s 5ms/step - loss: 0.9833 - accuracy: 1.0000\n",
            "Epoch 29/100\n",
            "1/1 [==============================] - 0s 7ms/step - loss: 0.9799 - accuracy: 1.0000\n",
            "Epoch 30/100\n",
            "1/1 [==============================] - 0s 6ms/step - loss: 0.9765 - accuracy: 1.0000\n",
            "Epoch 31/100\n",
            "1/1 [==============================] - 0s 7ms/step - loss: 0.9731 - accuracy: 1.0000\n",
            "Epoch 32/100\n",
            "1/1 [==============================] - 0s 5ms/step - loss: 0.9697 - accuracy: 1.0000\n",
            "Epoch 33/100\n",
            "1/1 [==============================] - 0s 9ms/step - loss: 0.9662 - accuracy: 1.0000\n",
            "Epoch 34/100\n",
            "1/1 [==============================] - 0s 6ms/step - loss: 0.9628 - accuracy: 1.0000\n",
            "Epoch 35/100\n",
            "1/1 [==============================] - 0s 7ms/step - loss: 0.9593 - accuracy: 1.0000\n",
            "Epoch 36/100\n",
            "1/1 [==============================] - 0s 11ms/step - loss: 0.9558 - accuracy: 1.0000\n",
            "Epoch 37/100\n",
            "1/1 [==============================] - 0s 7ms/step - loss: 0.9523 - accuracy: 1.0000\n",
            "Epoch 38/100\n",
            "1/1 [==============================] - 0s 7ms/step - loss: 0.9488 - accuracy: 1.0000\n",
            "Epoch 39/100\n",
            "1/1 [==============================] - 0s 7ms/step - loss: 0.9452 - accuracy: 1.0000\n",
            "Epoch 40/100\n",
            "1/1 [==============================] - 0s 7ms/step - loss: 0.9417 - accuracy: 1.0000\n",
            "Epoch 41/100\n",
            "1/1 [==============================] - 0s 7ms/step - loss: 0.9381 - accuracy: 1.0000\n",
            "Epoch 42/100\n",
            "1/1 [==============================] - 0s 8ms/step - loss: 0.9345 - accuracy: 1.0000\n",
            "Epoch 43/100\n",
            "1/1 [==============================] - 0s 8ms/step - loss: 0.9309 - accuracy: 1.0000\n",
            "Epoch 44/100\n",
            "1/1 [==============================] - 0s 7ms/step - loss: 0.9273 - accuracy: 1.0000\n",
            "Epoch 45/100\n",
            "1/1 [==============================] - 0s 7ms/step - loss: 0.9237 - accuracy: 1.0000\n",
            "Epoch 46/100\n",
            "1/1 [==============================] - 0s 8ms/step - loss: 0.9201 - accuracy: 1.0000\n",
            "Epoch 47/100\n",
            "1/1 [==============================] - 0s 7ms/step - loss: 0.9164 - accuracy: 1.0000\n",
            "Epoch 48/100\n",
            "1/1 [==============================] - 0s 7ms/step - loss: 0.9128 - accuracy: 1.0000\n",
            "Epoch 49/100\n",
            "1/1 [==============================] - 0s 7ms/step - loss: 0.9091 - accuracy: 1.0000\n",
            "Epoch 50/100\n",
            "1/1 [==============================] - 0s 8ms/step - loss: 0.9054 - accuracy: 1.0000\n",
            "Epoch 51/100\n",
            "1/1 [==============================] - 0s 12ms/step - loss: 0.9017 - accuracy: 1.0000\n",
            "Epoch 52/100\n",
            "1/1 [==============================] - 0s 8ms/step - loss: 0.8980 - accuracy: 1.0000\n",
            "Epoch 53/100\n",
            "1/1 [==============================] - 0s 7ms/step - loss: 0.8943 - accuracy: 1.0000\n",
            "Epoch 54/100\n",
            "1/1 [==============================] - 0s 8ms/step - loss: 0.8905 - accuracy: 1.0000\n",
            "Epoch 55/100\n",
            "1/1 [==============================] - 0s 7ms/step - loss: 0.8868 - accuracy: 1.0000\n",
            "Epoch 56/100\n",
            "1/1 [==============================] - 0s 7ms/step - loss: 0.8830 - accuracy: 1.0000\n",
            "Epoch 57/100\n",
            "1/1 [==============================] - 0s 8ms/step - loss: 0.8793 - accuracy: 1.0000\n",
            "Epoch 58/100\n",
            "1/1 [==============================] - 0s 7ms/step - loss: 0.8755 - accuracy: 1.0000\n",
            "Epoch 59/100\n",
            "1/1 [==============================] - 0s 8ms/step - loss: 0.8717 - accuracy: 1.0000\n",
            "Epoch 60/100\n",
            "1/1 [==============================] - 0s 8ms/step - loss: 0.8679 - accuracy: 1.0000\n",
            "Epoch 61/100\n",
            "1/1 [==============================] - 0s 8ms/step - loss: 0.8640 - accuracy: 1.0000\n",
            "Epoch 62/100\n",
            "1/1 [==============================] - 0s 9ms/step - loss: 0.8602 - accuracy: 1.0000\n",
            "Epoch 63/100\n",
            "1/1 [==============================] - 0s 13ms/step - loss: 0.8564 - accuracy: 1.0000\n",
            "Epoch 64/100\n",
            "1/1 [==============================] - 0s 8ms/step - loss: 0.8525 - accuracy: 1.0000\n",
            "Epoch 65/100\n",
            "1/1 [==============================] - 0s 7ms/step - loss: 0.8486 - accuracy: 1.0000\n",
            "Epoch 66/100\n",
            "1/1 [==============================] - 0s 7ms/step - loss: 0.8448 - accuracy: 1.0000\n",
            "Epoch 67/100\n",
            "1/1 [==============================] - 0s 8ms/step - loss: 0.8409 - accuracy: 1.0000\n",
            "Epoch 68/100\n",
            "1/1 [==============================] - 0s 9ms/step - loss: 0.8370 - accuracy: 1.0000\n",
            "Epoch 69/100\n",
            "1/1 [==============================] - 0s 8ms/step - loss: 0.8331 - accuracy: 1.0000\n",
            "Epoch 70/100\n",
            "1/1 [==============================] - 0s 12ms/step - loss: 0.8292 - accuracy: 1.0000\n",
            "Epoch 71/100\n",
            "1/1 [==============================] - 0s 8ms/step - loss: 0.8253 - accuracy: 1.0000\n",
            "Epoch 72/100\n",
            "1/1 [==============================] - 0s 7ms/step - loss: 0.8213 - accuracy: 1.0000\n",
            "Epoch 73/100\n",
            "1/1 [==============================] - 0s 7ms/step - loss: 0.8174 - accuracy: 1.0000\n",
            "Epoch 74/100\n",
            "1/1 [==============================] - 0s 7ms/step - loss: 0.8135 - accuracy: 1.0000\n",
            "Epoch 75/100\n",
            "1/1 [==============================] - 0s 9ms/step - loss: 0.8095 - accuracy: 1.0000\n",
            "Epoch 76/100\n",
            "1/1 [==============================] - 0s 7ms/step - loss: 0.8056 - accuracy: 1.0000\n",
            "Epoch 77/100\n",
            "1/1 [==============================] - 0s 8ms/step - loss: 0.8016 - accuracy: 1.0000\n",
            "Epoch 78/100\n",
            "1/1 [==============================] - 0s 7ms/step - loss: 0.7976 - accuracy: 1.0000\n",
            "Epoch 79/100\n",
            "1/1 [==============================] - 0s 7ms/step - loss: 0.7937 - accuracy: 1.0000\n",
            "Epoch 80/100\n",
            "1/1 [==============================] - 0s 8ms/step - loss: 0.7897 - accuracy: 1.0000\n",
            "Epoch 81/100\n",
            "1/1 [==============================] - 0s 7ms/step - loss: 0.7857 - accuracy: 1.0000\n",
            "Epoch 82/100\n",
            "1/1 [==============================] - 0s 7ms/step - loss: 0.7817 - accuracy: 1.0000\n",
            "Epoch 83/100\n",
            "1/1 [==============================] - 0s 7ms/step - loss: 0.7777 - accuracy: 1.0000\n",
            "Epoch 84/100\n",
            "1/1 [==============================] - 0s 8ms/step - loss: 0.7738 - accuracy: 1.0000\n",
            "Epoch 85/100\n",
            "1/1 [==============================] - 0s 6ms/step - loss: 0.7698 - accuracy: 1.0000\n",
            "Epoch 86/100\n",
            "1/1 [==============================] - 0s 7ms/step - loss: 0.7658 - accuracy: 1.0000\n",
            "Epoch 87/100\n",
            "1/1 [==============================] - 0s 9ms/step - loss: 0.7618 - accuracy: 1.0000\n",
            "Epoch 88/100\n",
            "1/1 [==============================] - 0s 9ms/step - loss: 0.7578 - accuracy: 1.0000\n",
            "Epoch 89/100\n",
            "1/1 [==============================] - 0s 7ms/step - loss: 0.7538 - accuracy: 1.0000\n",
            "Epoch 90/100\n",
            "1/1 [==============================] - 0s 7ms/step - loss: 0.7498 - accuracy: 1.0000\n",
            "Epoch 91/100\n",
            "1/1 [==============================] - 0s 7ms/step - loss: 0.7458 - accuracy: 1.0000\n",
            "Epoch 92/100\n",
            "1/1 [==============================] - 0s 7ms/step - loss: 0.7418 - accuracy: 1.0000\n",
            "Epoch 93/100\n",
            "1/1 [==============================] - 0s 6ms/step - loss: 0.7377 - accuracy: 1.0000\n",
            "Epoch 94/100\n",
            "1/1 [==============================] - 0s 7ms/step - loss: 0.7337 - accuracy: 1.0000\n",
            "Epoch 95/100\n",
            "1/1 [==============================] - 0s 8ms/step - loss: 0.7297 - accuracy: 1.0000\n",
            "Epoch 96/100\n",
            "1/1 [==============================] - 0s 7ms/step - loss: 0.7257 - accuracy: 1.0000\n",
            "Epoch 97/100\n",
            "1/1 [==============================] - 0s 7ms/step - loss: 0.7217 - accuracy: 1.0000\n",
            "Epoch 98/100\n",
            "1/1 [==============================] - 0s 7ms/step - loss: 0.7177 - accuracy: 1.0000\n",
            "Epoch 99/100\n",
            "1/1 [==============================] - 0s 7ms/step - loss: 0.7138 - accuracy: 1.0000\n",
            "Epoch 100/100\n",
            "1/1 [==============================] - 0s 7ms/step - loss: 0.7098 - accuracy: 1.0000\n"
          ],
          "name": "stdout"
        }
      ]
    },
    {
      "cell_type": "code",
      "metadata": {
        "colab": {
          "base_uri": "https://localhost:8080/",
          "height": 279
        },
        "id": "rAIAyjTDoUYD",
        "outputId": "ef313bf4-0cd8-48d6-cca1-83dae25d8a59"
      },
      "source": [
        "#모델 결과값 그래프로 \r\n",
        "plt.figure(figsize=(12, 4))\r\n",
        "\r\n",
        "plt.subplot(1, 2, 1)\r\n",
        "plt.plot(history.history['loss'], 'b-', label='loss')\r\n",
        "plt.xlabel('Epoch')\r\n",
        "plt.legend()\r\n",
        "\r\n",
        "plt.subplot(1, 2, 2)\r\n",
        "plt.plot(history.history['accuracy'], 'g-', label='accuracy')\r\n",
        "plt.xlabel('Epoch')\r\n",
        "plt.legend()\r\n",
        "\r\n",
        "plt.show()\r\n"
      ],
      "execution_count": null,
      "outputs": [
        {
          "output_type": "display_data",
          "data": {
            "image/png": "[encoded data removed]",
            "text/plain": [
              "<Figure size 864x288 with 2 Axes>"
            ]
          },
          "metadata": {
            "tags": [],
            "needs_background": "light"
          }
        }
      ]
    },
    {
      "cell_type": "markdown",
      "metadata": {
        "id": "hjSlRk99zneL"
      },
      "source": [
        "## 평가"
      ]
    },
    {
      "cell_type": "code",
      "metadata": {
        "colab": {
          "base_uri": "https://localhost:8080/"
        },
        "id": "8d09MFIBoCJt",
        "outputId": "b9987d79-fab9-4c9a-df35-1c7707aab3db"
      },
      "source": [
        "# 모델 평가\r\n",
        "model.evaluate(train_inputs, train_labels)"
      ],
      "execution_count": null,
      "outputs": [
        {
          "output_type": "stream",
          "text": [
            "1/1 [==============================] - 0s 137ms/step - loss: 0.7058 - accuracy: 1.0000\n"
          ],
          "name": "stdout"
        },
        {
          "output_type": "execute_result",
          "data": {
            "text/plain": [
              "[0.7057716846466064, 1.0]"
            ]
          },
          "metadata": {
            "tags": []
          },
          "execution_count": 32
        }
      ]
    },
    {
      "cell_type": "markdown",
      "metadata": {
        "id": "XpcISJ_ozneL"
      },
      "source": [
        "## 예측"
      ]
    },
    {
      "cell_type": "code",
      "metadata": {
        "id": "-hT9eGIHoyKh"
      },
      "source": [
        "# 추론할 입력\r\n",
        "string = '나는 기분이 우울해'"
      ],
      "execution_count": null,
      "outputs": []
    },
    {
      "cell_type": "code",
      "metadata": {
        "colab": {
          "base_uri": "https://localhost:8080/"
        },
        "id": "G5R9FpwroyNs",
        "outputId": "b3ac4b28-261b-4ed8-bc56-af5dc1c01ba1"
      },
      "source": [
        "# 입력을 숫자로 변경\r\n",
        "infer_input = [word_to_id[word] for word in string.split()]\r\n",
        "infer_input"
      ],
      "execution_count": null,
      "outputs": [
        {
          "output_type": "execute_result",
          "data": {
            "text/plain": [
              "[2, 4, 6]"
            ]
          },
          "metadata": {
            "tags": []
          },
          "execution_count": 36
        }
      ]
    },
    {
      "cell_type": "code",
      "metadata": {
        "colab": {
          "base_uri": "https://localhost:8080/"
        },
        "id": "gwmFk1bJoyQa",
        "outputId": "1b7f5934-3600-419f-d3b8-4fa17f3dee4f"
      },
      "source": [
        "# 문장의 길이를 모두 동일하게 변경 (최대길이 4) : 모델링시길이를 맞춰줘야함!\r\n",
        "infer_input += [0] * (4 - len(infer_input))\r\n",
        "infer_input"
      ],
      "execution_count": null,
      "outputs": [
        {
          "output_type": "execute_result",
          "data": {
            "text/plain": [
              "[2, 4, 6, 0]"
            ]
          },
          "metadata": {
            "tags": []
          },
          "execution_count": 37
        }
      ]
    },
    {
      "cell_type": "code",
      "metadata": {
        "colab": {
          "base_uri": "https://localhost:8080/"
        },
        "id": "7yJjT4tuoySq",
        "outputId": "d812f959-b77c-4210-de17-c09b56d4eef7"
      },
      "source": [
        "# numpy array 변환 (batch size 1 추가)\r\n",
        "infer_inputs = np.array([infer_input])\r\n",
        "infer_inputs"
      ],
      "execution_count": null,
      "outputs": [
        {
          "output_type": "execute_result",
          "data": {
            "text/plain": [
              "array([[2, 4, 6, 0]])"
            ]
          },
          "metadata": {
            "tags": []
          },
          "execution_count": 38
        }
      ]
    },
    {
      "cell_type": "code",
      "metadata": {
        "colab": {
          "base_uri": "https://localhost:8080/"
        },
        "id": "21zmo8Z_oyW7",
        "outputId": "02ef3c44-aa71-4a41-8176-4d5de7682582"
      },
      "source": [
        "# 긍정/부정 추론\r\n",
        "y_preds = model.predict(infer_inputs)\r\n",
        "y_preds"
      ],
      "execution_count": null,
      "outputs": [
        {
          "output_type": "execute_result",
          "data": {
            "text/plain": [
              "array([[[0.35470042, 0.31926265, 0.32603702],\n",
              "        [0.32982314, 0.3414013 , 0.32877553],\n",
              "        [0.34210682, 0.32092878, 0.33696437],\n",
              "        [0.31482247, 0.32819045, 0.3569871 ]]], dtype=float32)"
            ]
          },
          "metadata": {
            "tags": []
          },
          "execution_count": 39
        }
      ]
    },
    {
      "cell_type": "code",
      "metadata": {
        "colab": {
          "base_uri": "https://localhost:8080/"
        },
        "id": "ZC83mT8Royas",
        "outputId": "50e9dff7-c07f-41f3-d4c7-4b5538709638"
      },
      "source": [
        "# 확률의 max 값을 추론 값으로 결정\r\n",
        "y_pred_class = np.argmax(y_preds, axis=2)\r\n",
        "y_pred_class"
      ],
      "execution_count": null,
      "outputs": [
        {
          "output_type": "execute_result",
          "data": {
            "text/plain": [
              "array([[0, 1, 0, 2]])"
            ]
          },
          "metadata": {
            "tags": []
          },
          "execution_count": 40
        }
      ]
    }
  ]
}