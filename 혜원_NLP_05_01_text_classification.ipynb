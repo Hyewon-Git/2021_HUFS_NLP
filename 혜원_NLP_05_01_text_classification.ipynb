{
  "nbformat": 4,
  "nbformat_minor": 0,
  "metadata": {
    "colab": {
      "name": "혜원-NLP-05-01-text-classification.ipynb",
      "provenance": [],
      "collapsed_sections": [
        "g78tzmjN3mzF",
        "6dfJPT-2XMTB",
        "fsRvlzDzSX9e",
        "iCtHjN1jiPBl",
        "z5vUjpBDjvwM",
        "OMncJs1dlHLK",
        "PEEHnQPfluqb",
        "gcG7zBAr_R_4",
        "jv0OPyaKSpjw",
        "IFTsdA3kE2h-",
        "rrhMcv0FZhbi",
        "PQvKAxTbaEpt",
        "yOqjtjEtgG_i",
        "RZq-UvbOgG_j",
        "QbzBPXwqgG_n",
        "fFOkITDzgG_o"
      ],
      "include_colab_link": true
    },
    "kernelspec": {
      "name": "python3",
      "display_name": "Python 3"
    },
    "accelerator": "GPU"
  },
  "cells": [
    {
      "cell_type": "markdown",
      "metadata": {
        "id": "view-in-github",
        "colab_type": "text"
      },
      "source": [
        "<a href=\"https://colab.research.google.com/github/Hyewon-Git/2021_HUFS_NLP/blob/main/%ED%98%9C%EC%9B%90_NLP_05_01_text_classification.ipynb\" target=\"_parent\"><img src=\"https://colab.research.google.com/assets/colab-badge.svg\" alt=\"Open In Colab\"/></a>"
      ]
    },
    {
      "cell_type": "markdown",
      "metadata": {
        "id": "g78tzmjN3mzF"
      },
      "source": [
        "# 한글폰트 설치\n",
        "- 아래 실행후 '런터임 다시 시작' 하면 됩니다.\n",
        "- 메뉴에서 '런타임' >> '런타임 다시 시작'을 클릭하세요.\n",
        "- 런타임 다시 시작 후 다시 실행할 필요 없습니다."
      ]
    },
    {
      "cell_type": "code",
      "metadata": {
        "id": "Co97FHic3p0D",
        "colab": {
          "base_uri": "https://localhost:8080/"
        },
        "outputId": "dfef4e48-8632-4ccd-d7f0-8b00cb3da053"
      },
      "source": [
        "# 폰트 설치\n",
        "!apt-get update -qq # 나눔고딕 설치\n",
        "!apt-get install fonts-nanum* -qq\n",
        "\n",
        "import matplotlib as mpl\n",
        "import matplotlib.pyplot as plt\n",
        "import matplotlib.font_manager as fm\n",
        "\n",
        "# 폰트 로딩\n",
        "fontpath = '/usr/share/fonts/truetype/nanum/NanumBarunGothic.ttf'\n",
        "font = fm.FontProperties(fname=fontpath, size=9)\n",
        "plt.rc('font', family='NanumBarunGothic') \n",
        "mpl.font_manager._rebuild()"
      ],
      "execution_count": null,
      "outputs": [
        {
          "output_type": "stream",
          "text": [
            "Selecting previously unselected package fonts-nanum.\n",
            "(Reading database ... 146374 files and directories currently installed.)\n",
            "Preparing to unpack .../fonts-nanum_20170925-1_all.deb ...\n",
            "Unpacking fonts-nanum (20170925-1) ...\n",
            "Selecting previously unselected package fonts-nanum-eco.\n",
            "Preparing to unpack .../fonts-nanum-eco_1.000-6_all.deb ...\n",
            "Unpacking fonts-nanum-eco (1.000-6) ...\n",
            "Selecting previously unselected package fonts-nanum-extra.\n",
            "Preparing to unpack .../fonts-nanum-extra_20170925-1_all.deb ...\n",
            "Unpacking fonts-nanum-extra (20170925-1) ...\n",
            "Selecting previously unselected package fonts-nanum-coding.\n",
            "Preparing to unpack .../fonts-nanum-coding_2.5-1_all.deb ...\n",
            "Unpacking fonts-nanum-coding (2.5-1) ...\n",
            "Setting up fonts-nanum-extra (20170925-1) ...\n",
            "Setting up fonts-nanum (20170925-1) ...\n",
            "Setting up fonts-nanum-coding (2.5-1) ...\n",
            "Setting up fonts-nanum-eco (1.000-6) ...\n",
            "Processing triggers for fontconfig (2.12.6-0ubuntu2) ...\n"
          ],
          "name": "stdout"
        }
      ]
    },
    {
      "cell_type": "markdown",
      "metadata": {
        "id": "6dfJPT-2XMTB"
      },
      "source": [
        "# Install"
      ]
    },
    {
      "cell_type": "code",
      "metadata": {
        "id": "a193aGJWVaqb",
        "colab": {
          "base_uri": "https://localhost:8080/"
        },
        "outputId": "53ce52dc-e91e-4df5-d4ef-c4153fa35a25"
      },
      "source": [
        "!pip install sentencepiece"
      ],
      "execution_count": null,
      "outputs": [
        {
          "output_type": "stream",
          "text": [
            "Collecting sentencepiece\n",
            "\u001b[?25l  Downloading https://files.pythonhosted.org/packages/14/67/e42bd1181472c95c8cda79305df848264f2a7f62740995a46945d9797b67/sentencepiece-0.1.95-cp36-cp36m-manylinux2014_x86_64.whl (1.2MB)\n",
            "\r\u001b[K     |▎                               | 10kB 21.9MB/s eta 0:00:01\r\u001b[K     |▌                               | 20kB 30.1MB/s eta 0:00:01\r\u001b[K     |▉                               | 30kB 23.9MB/s eta 0:00:01\r\u001b[K     |█                               | 40kB 21.4MB/s eta 0:00:01\r\u001b[K     |█▍                              | 51kB 22.8MB/s eta 0:00:01\r\u001b[K     |█▋                              | 61kB 16.4MB/s eta 0:00:01\r\u001b[K     |██                              | 71kB 15.9MB/s eta 0:00:01\r\u001b[K     |██▏                             | 81kB 15.8MB/s eta 0:00:01\r\u001b[K     |██▌                             | 92kB 15.4MB/s eta 0:00:01\r\u001b[K     |██▊                             | 102kB 15.9MB/s eta 0:00:01\r\u001b[K     |███                             | 112kB 15.9MB/s eta 0:00:01\r\u001b[K     |███▎                            | 122kB 15.9MB/s eta 0:00:01\r\u001b[K     |███▌                            | 133kB 15.9MB/s eta 0:00:01\r\u001b[K     |███▉                            | 143kB 15.9MB/s eta 0:00:01\r\u001b[K     |████                            | 153kB 15.9MB/s eta 0:00:01\r\u001b[K     |████▍                           | 163kB 15.9MB/s eta 0:00:01\r\u001b[K     |████▋                           | 174kB 15.9MB/s eta 0:00:01\r\u001b[K     |█████                           | 184kB 15.9MB/s eta 0:00:01\r\u001b[K     |█████▏                          | 194kB 15.9MB/s eta 0:00:01\r\u001b[K     |█████▌                          | 204kB 15.9MB/s eta 0:00:01\r\u001b[K     |█████▊                          | 215kB 15.9MB/s eta 0:00:01\r\u001b[K     |██████                          | 225kB 15.9MB/s eta 0:00:01\r\u001b[K     |██████▎                         | 235kB 15.9MB/s eta 0:00:01\r\u001b[K     |██████▌                         | 245kB 15.9MB/s eta 0:00:01\r\u001b[K     |██████▉                         | 256kB 15.9MB/s eta 0:00:01\r\u001b[K     |███████                         | 266kB 15.9MB/s eta 0:00:01\r\u001b[K     |███████▍                        | 276kB 15.9MB/s eta 0:00:01\r\u001b[K     |███████▋                        | 286kB 15.9MB/s eta 0:00:01\r\u001b[K     |████████                        | 296kB 15.9MB/s eta 0:00:01\r\u001b[K     |████████▏                       | 307kB 15.9MB/s eta 0:00:01\r\u001b[K     |████████▍                       | 317kB 15.9MB/s eta 0:00:01\r\u001b[K     |████████▊                       | 327kB 15.9MB/s eta 0:00:01\r\u001b[K     |█████████                       | 337kB 15.9MB/s eta 0:00:01\r\u001b[K     |█████████▎                      | 348kB 15.9MB/s eta 0:00:01\r\u001b[K     |█████████▌                      | 358kB 15.9MB/s eta 0:00:01\r\u001b[K     |█████████▉                      | 368kB 15.9MB/s eta 0:00:01\r\u001b[K     |██████████                      | 378kB 15.9MB/s eta 0:00:01\r\u001b[K     |██████████▍                     | 389kB 15.9MB/s eta 0:00:01\r\u001b[K     |██████████▋                     | 399kB 15.9MB/s eta 0:00:01\r\u001b[K     |███████████                     | 409kB 15.9MB/s eta 0:00:01\r\u001b[K     |███████████▏                    | 419kB 15.9MB/s eta 0:00:01\r\u001b[K     |███████████▍                    | 430kB 15.9MB/s eta 0:00:01\r\u001b[K     |███████████▊                    | 440kB 15.9MB/s eta 0:00:01\r\u001b[K     |████████████                    | 450kB 15.9MB/s eta 0:00:01\r\u001b[K     |████████████▎                   | 460kB 15.9MB/s eta 0:00:01\r\u001b[K     |████████████▌                   | 471kB 15.9MB/s eta 0:00:01\r\u001b[K     |████████████▉                   | 481kB 15.9MB/s eta 0:00:01\r\u001b[K     |█████████████                   | 491kB 15.9MB/s eta 0:00:01\r\u001b[K     |█████████████▍                  | 501kB 15.9MB/s eta 0:00:01\r\u001b[K     |█████████████▋                  | 512kB 15.9MB/s eta 0:00:01\r\u001b[K     |█████████████▉                  | 522kB 15.9MB/s eta 0:00:01\r\u001b[K     |██████████████▏                 | 532kB 15.9MB/s eta 0:00:01\r\u001b[K     |██████████████▍                 | 542kB 15.9MB/s eta 0:00:01\r\u001b[K     |██████████████▊                 | 552kB 15.9MB/s eta 0:00:01\r\u001b[K     |███████████████                 | 563kB 15.9MB/s eta 0:00:01\r\u001b[K     |███████████████▎                | 573kB 15.9MB/s eta 0:00:01\r\u001b[K     |███████████████▌                | 583kB 15.9MB/s eta 0:00:01\r\u001b[K     |███████████████▉                | 593kB 15.9MB/s eta 0:00:01\r\u001b[K     |████████████████                | 604kB 15.9MB/s eta 0:00:01\r\u001b[K     |████████████████▍               | 614kB 15.9MB/s eta 0:00:01\r\u001b[K     |████████████████▋               | 624kB 15.9MB/s eta 0:00:01\r\u001b[K     |████████████████▉               | 634kB 15.9MB/s eta 0:00:01\r\u001b[K     |█████████████████▏              | 645kB 15.9MB/s eta 0:00:01\r\u001b[K     |█████████████████▍              | 655kB 15.9MB/s eta 0:00:01\r\u001b[K     |█████████████████▊              | 665kB 15.9MB/s eta 0:00:01\r\u001b[K     |██████████████████              | 675kB 15.9MB/s eta 0:00:01\r\u001b[K     |██████████████████▎             | 686kB 15.9MB/s eta 0:00:01\r\u001b[K     |██████████████████▌             | 696kB 15.9MB/s eta 0:00:01\r\u001b[K     |██████████████████▉             | 706kB 15.9MB/s eta 0:00:01\r\u001b[K     |███████████████████             | 716kB 15.9MB/s eta 0:00:01\r\u001b[K     |███████████████████▎            | 727kB 15.9MB/s eta 0:00:01\r\u001b[K     |███████████████████▋            | 737kB 15.9MB/s eta 0:00:01\r\u001b[K     |███████████████████▉            | 747kB 15.9MB/s eta 0:00:01\r\u001b[K     |████████████████████▏           | 757kB 15.9MB/s eta 0:00:01\r\u001b[K     |████████████████████▍           | 768kB 15.9MB/s eta 0:00:01\r\u001b[K     |████████████████████▊           | 778kB 15.9MB/s eta 0:00:01\r\u001b[K     |█████████████████████           | 788kB 15.9MB/s eta 0:00:01\r\u001b[K     |█████████████████████▎          | 798kB 15.9MB/s eta 0:00:01\r\u001b[K     |█████████████████████▌          | 808kB 15.9MB/s eta 0:00:01\r\u001b[K     |█████████████████████▉          | 819kB 15.9MB/s eta 0:00:01\r\u001b[K     |██████████████████████          | 829kB 15.9MB/s eta 0:00:01\r\u001b[K     |██████████████████████▎         | 839kB 15.9MB/s eta 0:00:01\r\u001b[K     |██████████████████████▋         | 849kB 15.9MB/s eta 0:00:01\r\u001b[K     |██████████████████████▉         | 860kB 15.9MB/s eta 0:00:01\r\u001b[K     |███████████████████████▏        | 870kB 15.9MB/s eta 0:00:01\r\u001b[K     |███████████████████████▍        | 880kB 15.9MB/s eta 0:00:01\r\u001b[K     |███████████████████████▊        | 890kB 15.9MB/s eta 0:00:01\r\u001b[K     |████████████████████████        | 901kB 15.9MB/s eta 0:00:01\r\u001b[K     |████████████████████████▎       | 911kB 15.9MB/s eta 0:00:01\r\u001b[K     |████████████████████████▌       | 921kB 15.9MB/s eta 0:00:01\r\u001b[K     |████████████████████████▊       | 931kB 15.9MB/s eta 0:00:01\r\u001b[K     |█████████████████████████       | 942kB 15.9MB/s eta 0:00:01\r\u001b[K     |█████████████████████████▎      | 952kB 15.9MB/s eta 0:00:01\r\u001b[K     |█████████████████████████▋      | 962kB 15.9MB/s eta 0:00:01\r\u001b[K     |█████████████████████████▉      | 972kB 15.9MB/s eta 0:00:01\r\u001b[K     |██████████████████████████▏     | 983kB 15.9MB/s eta 0:00:01\r\u001b[K     |██████████████████████████▍     | 993kB 15.9MB/s eta 0:00:01\r\u001b[K     |██████████████████████████▊     | 1.0MB 15.9MB/s eta 0:00:01\r\u001b[K     |███████████████████████████     | 1.0MB 15.9MB/s eta 0:00:01\r\u001b[K     |███████████████████████████▎    | 1.0MB 15.9MB/s eta 0:00:01\r\u001b[K     |███████████████████████████▌    | 1.0MB 15.9MB/s eta 0:00:01\r\u001b[K     |███████████████████████████▊    | 1.0MB 15.9MB/s eta 0:00:01\r\u001b[K     |████████████████████████████    | 1.1MB 15.9MB/s eta 0:00:01\r\u001b[K     |████████████████████████████▎   | 1.1MB 15.9MB/s eta 0:00:01\r\u001b[K     |████████████████████████████▋   | 1.1MB 15.9MB/s eta 0:00:01\r\u001b[K     |████████████████████████████▉   | 1.1MB 15.9MB/s eta 0:00:01\r\u001b[K     |█████████████████████████████▏  | 1.1MB 15.9MB/s eta 0:00:01\r\u001b[K     |█████████████████████████████▍  | 1.1MB 15.9MB/s eta 0:00:01\r\u001b[K     |█████████████████████████████▊  | 1.1MB 15.9MB/s eta 0:00:01\r\u001b[K     |██████████████████████████████  | 1.1MB 15.9MB/s eta 0:00:01\r\u001b[K     |██████████████████████████████▏ | 1.1MB 15.9MB/s eta 0:00:01\r\u001b[K     |██████████████████████████████▌ | 1.1MB 15.9MB/s eta 0:00:01\r\u001b[K     |██████████████████████████████▊ | 1.2MB 15.9MB/s eta 0:00:01\r\u001b[K     |███████████████████████████████ | 1.2MB 15.9MB/s eta 0:00:01\r\u001b[K     |███████████████████████████████▎| 1.2MB 15.9MB/s eta 0:00:01\r\u001b[K     |███████████████████████████████▋| 1.2MB 15.9MB/s eta 0:00:01\r\u001b[K     |███████████████████████████████▉| 1.2MB 15.9MB/s eta 0:00:01\r\u001b[K     |████████████████████████████████| 1.2MB 15.9MB/s \n",
            "\u001b[?25hInstalling collected packages: sentencepiece\n",
            "Successfully installed sentencepiece-0.1.95\n"
          ],
          "name": "stdout"
        }
      ]
    },
    {
      "cell_type": "markdown",
      "metadata": {
        "id": "JHkHg6XAXoyK"
      },
      "source": [
        "# Evn"
      ]
    },
    {
      "cell_type": "code",
      "metadata": {
        "id": "WkYXFwcBXJDG"
      },
      "source": [
        "import os\n",
        "import random\n",
        "import shutil\n",
        "import json\n",
        "import zipfile\n",
        "import math\n",
        "import copy\n",
        "import collections\n",
        "import re\n",
        "\n",
        "import matplotlib.pyplot as plt\n",
        "import seaborn as sns\n",
        "from wordcloud import WordCloud\n",
        "import pandas as pd\n",
        "import numpy as np\n",
        "import sentencepiece as spm\n",
        "import tensorflow as tf\n",
        "import tensorflow.keras.backend as K\n",
        "\n",
        "from tqdm.notebook import tqdm"
      ],
      "execution_count": null,
      "outputs": []
    },
    {
      "cell_type": "code",
      "metadata": {
        "id": "nvjyruUlXtlR"
      },
      "source": [
        "# random seed initialize\n",
        "random_seed = 1234\n",
        "random.seed(random_seed)\n",
        "np.random.seed(random_seed)\n",
        "tf.random.set_seed(random_seed)"
      ],
      "execution_count": null,
      "outputs": []
    },
    {
      "cell_type": "code",
      "metadata": {
        "id": "BC3fXkhdYcYt",
        "colab": {
          "base_uri": "https://localhost:8080/"
        },
        "outputId": "b9c75fd6-4b54-481c-f085-5d8fa120e924"
      },
      "source": [
        "!nvidia-smi"
      ],
      "execution_count": null,
      "outputs": [
        {
          "output_type": "stream",
          "text": [
            "Fri Jan 29 01:49:04 2021       \n",
            "+-----------------------------------------------------------------------------+\n",
            "| NVIDIA-SMI 460.32.03    Driver Version: 418.67       CUDA Version: 10.1     |\n",
            "|-------------------------------+----------------------+----------------------+\n",
            "| GPU  Name        Persistence-M| Bus-Id        Disp.A | Volatile Uncorr. ECC |\n",
            "| Fan  Temp  Perf  Pwr:Usage/Cap|         Memory-Usage | GPU-Util  Compute M. |\n",
            "|                               |                      |               MIG M. |\n",
            "|===============================+======================+======================|\n",
            "|   0  Tesla T4            Off  | 00000000:00:04.0 Off |                    0 |\n",
            "| N/A   47C    P8     9W /  70W |      0MiB / 15079MiB |      0%      Default |\n",
            "|                               |                      |                 ERR! |\n",
            "+-------------------------------+----------------------+----------------------+\n",
            "                                                                               \n",
            "+-----------------------------------------------------------------------------+\n",
            "| Processes:                                                                  |\n",
            "|  GPU   GI   CI        PID   Type   Process name                  GPU Memory |\n",
            "|        ID   ID                                                   Usage      |\n",
            "|=============================================================================|\n",
            "|  No running processes found                                                 |\n",
            "+-----------------------------------------------------------------------------+\n"
          ],
          "name": "stdout"
        }
      ]
    },
    {
      "cell_type": "code",
      "metadata": {
        "id": "xVRdxYReYeQj",
        "colab": {
          "base_uri": "https://localhost:8080/"
        },
        "outputId": "4ef865e3-5099-4465-e67e-09183db744ad"
      },
      "source": [
        "# google drive mount\n",
        "from google.colab import drive\n",
        "drive.mount('/content/drive')"
      ],
      "execution_count": null,
      "outputs": [
        {
          "output_type": "stream",
          "text": [
            "Mounted at /content/drive\n"
          ],
          "name": "stdout"
        }
      ]
    },
    {
      "cell_type": "code",
      "metadata": {
        "id": "byCIiLJBbFHh",
        "colab": {
          "base_uri": "https://localhost:8080/"
        },
        "outputId": "0c6bc999-3545-447a-96cb-90ce8a3817f8"
      },
      "source": [
        "# data dir\n",
        "data_dir = '/content/drive/MyDrive/Colab Notebooks/2021-HUFS-NLP/data'\n",
        "os.listdir(data_dir)"
      ],
      "execution_count": null,
      "outputs": [
        {
          "output_type": "execute_result",
          "data": {
            "text/plain": [
              "['ko_32000.model', 'ko_32000.vocab', 'kowiki', 'kowiki2']"
            ]
          },
          "metadata": {
            "tags": []
          },
          "execution_count": 9
        }
      ]
    },
    {
      "cell_type": "code",
      "metadata": {
        "id": "_Ru56YS3-SME",
        "colab": {
          "base_uri": "https://localhost:8080/"
        },
        "outputId": "45ea9a94-1519-44c0-d152-5105bb4be992"
      },
      "source": [
        "# nsmc dir\n",
        "nsmc_dir = os.path.join(data_dir, 'nsmc')\n",
        "if not os.path.exists(nsmc_dir):\n",
        "    os.makedirs(nsmc_dir)\n",
        "os.listdir(nsmc_dir)"
      ],
      "execution_count": null,
      "outputs": [
        {
          "output_type": "execute_result",
          "data": {
            "text/plain": [
              "[]"
            ]
          },
          "metadata": {
            "tags": []
          },
          "execution_count": 10
        }
      ]
    },
    {
      "cell_type": "markdown",
      "metadata": {
        "id": "XwriCkq_R1Lc"
      },
      "source": [
        "# Vocabulary & config"
      ]
    },
    {
      "cell_type": "code",
      "metadata": {
        "id": "2H0BLydCb7lg",
        "colab": {
          "base_uri": "https://localhost:8080/"
        },
        "outputId": "10792623-6312-419a-a055-11be885818a5"
      },
      "source": [
        "# vocab loading\n",
        "vocab = spm.SentencePieceProcessor()\n",
        "vocab.load(os.path.join(data_dir, 'ko_32000.model'))"
      ],
      "execution_count": null,
      "outputs": [
        {
          "output_type": "execute_result",
          "data": {
            "text/plain": [
              "True"
            ]
          },
          "metadata": {
            "tags": []
          },
          "execution_count": 11
        }
      ]
    },
    {
      "cell_type": "code",
      "metadata": {
        "id": "0ETZ19flTRmt"
      },
      "source": [
        "n_vocab = len(vocab)  # number of vocabulary\n",
        "n_seq = 47  # number of sequence\n",
        "d_model = 256  # dimension of model 차원수!\n",
        "n_out = 2  # number of output class 클래스개수 --긍정/부정으로할꺼여서"
      ],
      "execution_count": null,
      "outputs": []
    },
    {
      "cell_type": "markdown",
      "metadata": {
        "id": "3myBX8hNEH1u"
      },
      "source": [
        "# 모델링"
      ]
    },
    {
      "cell_type": "code",
      "metadata": {
        "id": "8rjAsQCvXdWs"
      },
      "source": [
        "# 입력 문장\n",
        "sentences = [\n",
        "    '나는 오늘 기분이 좋아',\n",
        "    '나는 오늘 우울해'\n",
        "]\n",
        "\n",
        "# 출력 정답\n",
        "labels = [1, 0]  # 긍정(1), 부정(0)"
      ],
      "execution_count": null,
      "outputs": []
    },
    {
      "cell_type": "code",
      "metadata": {
        "id": "KCDH28KuXezp",
        "colab": {
          "base_uri": "https://localhost:8080/"
        },
        "outputId": "08dfbe43-a658-454b-a1da-c51dbe406865"
      },
      "source": [
        "# 각 문장을 띄어쓰기 단위로 분할\n",
        "words = []\n",
        "for sentence in sentences:\n",
        "    words.extend(sentence.split())\n",
        "\n",
        "# 중복 단어 제거\n",
        "words = list(dict.fromkeys(words))\n",
        "\n",
        "# 각 단어별 고유한 번호 부여\n",
        "word_to_id = {'[PAD]': 0, '[UNK]': 1}\n",
        "for word in words:\n",
        "    word_to_id[word] = len(word_to_id)\n",
        "\n",
        "# 각 숫자별 단어 부여\n",
        "id_to_word = {_id:word for word, _id in word_to_id.items()}\n",
        "\n",
        "word_to_id, id_to_word"
      ],
      "execution_count": null,
      "outputs": [
        {
          "output_type": "execute_result",
          "data": {
            "text/plain": [
              "({'[PAD]': 0, '[UNK]': 1, '기분이': 4, '나는': 2, '오늘': 3, '우울해': 6, '좋아': 5},\n",
              " {0: '[PAD]', 1: '[UNK]', 2: '나는', 3: '오늘', 4: '기분이', 5: '좋아', 6: '우울해'})"
            ]
          },
          "metadata": {
            "tags": []
          },
          "execution_count": 14
        }
      ]
    },
    {
      "cell_type": "code",
      "metadata": {
        "id": "DH2inxJHX7xZ",
        "colab": {
          "base_uri": "https://localhost:8080/"
        },
        "outputId": "91562686-a011-4174-f432-10985bfc083d"
      },
      "source": [
        "# 학습용 입력 데이터 생성\n",
        "train_inputs = []\n",
        "for sentence in sentences: #띄어씌기로 단어 split 하고 , word_to_id로 글자를 숫자로 바꿔서 train_input에 넣어줌\n",
        "    train_inputs.append([word_to_id[word] for word in sentence.split()])\n",
        "\n",
        "# train label\n",
        "train_labels = labels #위에서지정해준 labe [1,0] 긍정 부정으로\n",
        "\n",
        "# 문장의 길이를 모두 동일하게 변경 (최대길이 4)\n",
        "for row in train_inputs:#길이 동일하게변환\n",
        "    row += [0] * (4 - len(row))\n",
        "\n",
        "# train inputs을 numpy array로 변환\n",
        "train_inputs = np.array(train_inputs)\n",
        "\n",
        "# 학습용 정답을 numpy array로 변환\n",
        "train_labels = np.array(train_labels)\n",
        "\n",
        "train_inputs, train_labels"
      ],
      "execution_count": null,
      "outputs": [
        {
          "output_type": "execute_result",
          "data": {
            "text/plain": [
              "(array([[2, 3, 4, 5],\n",
              "        [2, 3, 6, 0]]), array([1, 0]))"
            ]
          },
          "metadata": {
            "tags": []
          },
          "execution_count": 15
        }
      ]
    },
    {
      "cell_type": "code",
      "metadata": {
        "id": "A6HpBlZTYQ3I",
        "colab": {
          "base_uri": "https://localhost:8080/"
        },
        "outputId": "57074f32-5f17-437d-c2fe-8401074cc1d7"
      },
      "source": [
        "#여기서부터제대로 시작~~\r\n",
        "# 1. 입력 단어를 vector로 변환\r\n",
        "embedding =tf.keras.layers.Embedding(len(word_to_id), 5) #보기어려우니 test용으로 간단히 5로\r\n",
        "hidden = embedding(train_inputs)\r\n",
        "hidden"
      ],
      "execution_count": null,
      "outputs": [
        {
          "output_type": "execute_result",
          "data": {
            "text/plain": [
              "<tf.Tensor: shape=(2, 4, 5), dtype=float32, numpy=\n",
              "array([[[-0.00226969,  0.00098121, -0.02956598,  0.03029363,\n",
              "          0.0141835 ],\n",
              "        [ 0.04274947,  0.00848954,  0.0289362 ,  0.02202288,\n",
              "         -0.01791685],\n",
              "        [ 0.04709952,  0.03384167,  0.0277797 ,  0.04307822,\n",
              "         -0.02606037],\n",
              "        [-0.04369395, -0.00189743, -0.02968305, -0.02934433,\n",
              "          0.03379652]],\n",
              "\n",
              "       [[-0.00226969,  0.00098121, -0.02956598,  0.03029363,\n",
              "          0.0141835 ],\n",
              "        [ 0.04274947,  0.00848954,  0.0289362 ,  0.02202288,\n",
              "         -0.01791685],\n",
              "        [ 0.00654628,  0.02580747,  0.03756353,  0.00737777,\n",
              "          0.0342937 ],\n",
              "        [-0.01746353, -0.03612994,  0.01480493, -0.01959816,\n",
              "         -0.01632367]]], dtype=float32)>"
            ]
          },
          "metadata": {
            "tags": []
          },
          "execution_count": 18
        }
      ]
    },
    {
      "cell_type": "code",
      "metadata": {
        "id": "gJQxuhrjYYOQ",
        "colab": {
          "base_uri": "https://localhost:8080/"
        },
        "outputId": "dd7d5fc2-8fd0-4f45-efa6-de77e589478b"
      },
      "source": [
        "# 각 단어 벡터의 최대값 기준으로 벡터를 더해서 차원을 줄여줌 (문장 vector 생성)\r\n",
        "# 우리가배운 RNN, CNN, Dense로 할수있지만 skip\r\n",
        "pool =tf.keras.layers.GlobalMaxPool1D()\r\n",
        "hidden_pool = pool(hidden)\r\n",
        "hidden_pool #문장을 대표하는 vector임\r\n"
      ],
      "execution_count": null,
      "outputs": [
        {
          "output_type": "execute_result",
          "data": {
            "text/plain": [
              "<tf.Tensor: shape=(2, 5), dtype=float32, numpy=\n",
              "array([[0.04709952, 0.03384167, 0.0289362 , 0.04307822, 0.03379652],\n",
              "       [0.04274947, 0.02580747, 0.03756353, 0.03029363, 0.0342937 ]],\n",
              "      dtype=float32)>"
            ]
          },
          "metadata": {
            "tags": []
          },
          "execution_count": 19
        }
      ]
    },
    {
      "cell_type": "code",
      "metadata": {
        "id": "hGp_yBpBYbO5",
        "colab": {
          "base_uri": "https://localhost:8080/"
        },
        "outputId": "edf3a15e-308f-4314-8715-cc0952d125e0"
      },
      "source": [
        "# 문장 vector를 이용해서 긍정(1), 부정(0) 확률값 예측\r\n",
        "linear = tf.keras.layers.Dense(2, activation=tf.nn.softmax) #softmax를 이용해서 // 여기서 2는 class가 2개 그림에서 c1, c2를 만든것!!\r\n",
        "outputs= linear(hidden_pool)\r\n",
        "outputs"
      ],
      "execution_count": null,
      "outputs": [
        {
          "output_type": "execute_result",
          "data": {
            "text/plain": [
              "<tf.Tensor: shape=(2, 2), dtype=float32, numpy=\n",
              "array([[0.5367391 , 0.46326086],\n",
              "       [0.53372407, 0.46627593]], dtype=float32)>"
            ]
          },
          "metadata": {
            "tags": []
          },
          "execution_count": 20
        }
      ]
    },
    {
      "cell_type": "code",
      "metadata": {
        "id": "CAp_uOXN9LBv"
      },
      "source": [
        "#각 함수및 과정을 (수식) 뭘 의미하는지 다시정리할것!!"
      ],
      "execution_count": null,
      "outputs": []
    },
    {
      "cell_type": "code",
      "metadata": {
        "id": "io90dwYpYeg0",
        "colab": {
          "base_uri": "https://localhost:8080/"
        },
        "outputId": "55278b91-c53d-4319-c771-66b951c74181"
      },
      "source": [
        "# 예측을 위한 wegiths\r\n",
        "weight ,bias = linear.get_weights()\r\n",
        "weight , bias #weight : 5개의 입력을 2의 출력으로 \r\n",
        "#weight의 결과값 : [왼,오]일때 행벡터f와 열벡터c1이 가깝다면 결과값이 0에 가깝다.???????????\r\n"
      ],
      "execution_count": null,
      "outputs": [
        {
          "output_type": "execute_result",
          "data": {
            "text/plain": [
              "(array([[ 0.1805532 , -0.364518  ],\n",
              "        [ 0.9215275 ,  0.5707779 ],\n",
              "        [-0.15351784, -0.8821234 ],\n",
              "        [ 0.20463693, -0.87751895],\n",
              "        [ 0.88342905, -0.35867918]], dtype=float32),\n",
              " array([0., 0.], dtype=float32))"
            ]
          },
          "metadata": {
            "tags": []
          },
          "execution_count": 21
        }
      ]
    },
    {
      "cell_type": "code",
      "metadata": {
        "id": "SobekkcjEX_P"
      },
      "source": [
        "def build_model(n_vocab, d_model, n_seq, n_out):\n",
        "    \"\"\"\n",
        "    문장의 감정분류 모델\n",
        "    :param n_vocab: vocabulary 단어 수\n",
        "    :param d_model: 단어를 의미하는 벡터의 차원 수\n",
        "    :param n_seq: 문장길이 (단어 수)\n",
        "    :param n_out: 예측할 class 개수\n",
        "    \"\"\"\n",
        "    inputs = tf.keras.layers.Input((n_seq,))  # (bs, n_seq)\n",
        "    ######################################################\n",
        "    #입력단어 vector로 변환\n",
        "    embedding = tf.keras.layers.Embedding(n_vocab, d_model)\n",
        "    hidden = embedding(inputs) #(bs, n_seq, d_model)\n",
        "\n",
        "    # RNN, CNN, Dense\n",
        "\n",
        "    # 각 단어 벡터의 최대값 기준으로 벡터를 더해서 차원을 줄여줌 (문장vector 생성) CNN인가 RNN에서는 과정중알아서해줌\n",
        "    pool = tf.keras.layers.GlobalMaxPool1D()\n",
        "    hidden_pool = pool(hidden)  # (bs, d_model)\n",
        "\n",
        "    # 문장 vector를 이용해서 긍정(1), 부정(0) 확률값 예측\n",
        "    linear = tf.keras.layers.Dense(n_out, activation=tf.nn.softmax)\n",
        "    outputs = linear(hidden_pool)  # (bs, n_out)\n",
        "\n",
        "    ######################################################\n",
        "    # 학습할 모델 선언\n",
        "    model = tf.keras.Model(inputs=inputs, outputs=outputs)\n",
        "    return model"
      ],
      "execution_count": null,
      "outputs": []
    },
    {
      "cell_type": "code",
      "metadata": {
        "id": "72cRi9zUEeqG",
        "colab": {
          "base_uri": "https://localhost:8080/",
          "height": 312
        },
        "outputId": "c661ad73-b6c2-41d8-d43d-9d8605b88f0f"
      },
      "source": [
        "# 모델 생성\n",
        "model = build_model(len(word_to_id), 8, 4, 2)\n",
        "# 모델 내용 그래프 출력\n",
        "tf.keras.utils.plot_model(model, 'model.png', show_shapes=True)"
      ],
      "execution_count": null,
      "outputs": [
        {
          "output_type": "execute_result",
          "data": {
            "image/png": "[encoded data removed]",
            "text/plain": [
              "<IPython.core.display.Image object>"
            ]
          },
          "metadata": {
            "tags": []
          },
          "execution_count": 23
        }
      ]
    },
    {
      "cell_type": "code",
      "metadata": {
        "id": "WMglscMHeOGd",
        "colab": {
          "base_uri": "https://localhost:8080/"
        },
        "outputId": "84be3f57-da47-4ffc-8381-a14d973bffd2"
      },
      "source": [
        "model.predict(train_inputs)"
      ],
      "execution_count": null,
      "outputs": [
        {
          "output_type": "execute_result",
          "data": {
            "text/plain": [
              "array([[[0.47223195, 0.527768  ],\n",
              "        [0.5186803 , 0.48131976],\n",
              "        [0.50900805, 0.49099195],\n",
              "        [0.5019966 , 0.49800345]],\n",
              "\n",
              "       [[0.47223195, 0.527768  ],\n",
              "        [0.5186803 , 0.48131976],\n",
              "        [0.51926553, 0.48073447],\n",
              "        [0.5040662 , 0.49593377]]], dtype=float32)"
            ]
          },
          "metadata": {
            "tags": []
          },
          "execution_count": 24
        }
      ]
    },
    {
      "cell_type": "code",
      "metadata": {
        "id": "kbbou1a1B4qu"
      },
      "source": [
        "##** test와 train을 나누는 이유\r\n",
        "#: 같다면 실제 모델 실제에 편중된 데이터가 나올수있어서!\r\n",
        "#(train, valid, test)로나눔!"
      ],
      "execution_count": null,
      "outputs": []
    },
    {
      "cell_type": "markdown",
      "metadata": {
        "id": "fsRvlzDzSX9e"
      },
      "source": [
        "# 다운로드\n",
        "- https://github.com/e9t/nsmc"
      ]
    },
    {
      "cell_type": "code",
      "metadata": {
        "id": "2u_uLAcLBn_6"
      },
      "source": [
        "# naver movie sentiment corpus v1.0"
      ],
      "execution_count": null,
      "outputs": []
    },
    {
      "cell_type": "code",
      "metadata": {
        "id": "BEBQj0AFSXOH",
        "colab": {
          "base_uri": "https://localhost:8080/"
        },
        "outputId": "6ac5dd60-b248-4046-b031-ce1cf5362425"
      },
      "source": [
        "!wget https://github.com/e9t/nsmc/raw/master/ratings_train.txt\n",
        "!wget https://github.com/e9t/nsmc/raw/master/ratings_test.txt"
      ],
      "execution_count": null,
      "outputs": [
        {
          "output_type": "stream",
          "text": [
            "--2021-01-29 02:43:09--  https://github.com/e9t/nsmc/raw/master/ratings_train.txt\n",
            "Resolving github.com (github.com)... 140.82.112.3\n",
            "Connecting to github.com (github.com)|140.82.112.3|:443... connected.\n",
            "HTTP request sent, awaiting response... 302 Found\n",
            "Location: https://raw.githubusercontent.com/e9t/nsmc/master/ratings_train.txt [following]\n",
            "--2021-01-29 02:43:09--  https://raw.githubusercontent.com/e9t/nsmc/master/ratings_train.txt\n",
            "Resolving raw.githubusercontent.com (raw.githubusercontent.com)... 151.101.0.133, 151.101.64.133, 151.101.128.133, ...\n",
            "Connecting to raw.githubusercontent.com (raw.githubusercontent.com)|151.101.0.133|:443... connected.\n",
            "HTTP request sent, awaiting response... 200 OK\n",
            "Length: 14628807 (14M) [text/plain]\n",
            "Saving to: ‘ratings_train.txt’\n",
            "\n",
            "ratings_train.txt   100%[===================>]  13.95M  --.-KB/s    in 0.06s   \n",
            "\n",
            "2021-01-29 02:43:09 (217 MB/s) - ‘ratings_train.txt’ saved [14628807/14628807]\n",
            "\n",
            "--2021-01-29 02:43:09--  https://github.com/e9t/nsmc/raw/master/ratings_test.txt\n",
            "Resolving github.com (github.com)... 140.82.113.3\n",
            "Connecting to github.com (github.com)|140.82.113.3|:443... connected.\n",
            "HTTP request sent, awaiting response... 302 Found\n",
            "Location: https://raw.githubusercontent.com/e9t/nsmc/master/ratings_test.txt [following]\n",
            "--2021-01-29 02:43:10--  https://raw.githubusercontent.com/e9t/nsmc/master/ratings_test.txt\n",
            "Resolving raw.githubusercontent.com (raw.githubusercontent.com)... 151.101.0.133, 151.101.64.133, 151.101.128.133, ...\n",
            "Connecting to raw.githubusercontent.com (raw.githubusercontent.com)|151.101.0.133|:443... connected.\n",
            "HTTP request sent, awaiting response... 200 OK\n",
            "Length: 4893335 (4.7M) [text/plain]\n",
            "Saving to: ‘ratings_test.txt’\n",
            "\n",
            "ratings_test.txt    100%[===================>]   4.67M  --.-KB/s    in 0.05s   \n",
            "\n",
            "2021-01-29 02:43:10 (90.3 MB/s) - ‘ratings_test.txt’ saved [4893335/4893335]\n",
            "\n"
          ],
          "name": "stdout"
        }
      ]
    },
    {
      "cell_type": "code",
      "metadata": {
        "id": "_L3k4qr5SaVb",
        "colab": {
          "base_uri": "https://localhost:8080/"
        },
        "outputId": "838d1599-c31c-44ee-be0b-cc82fa3b6b77"
      },
      "source": [
        "shutil.move('ratings_train.txt', os.path.join(nsmc_dir, 'ratings_train.txt'))\n",
        "shutil.move('ratings_test.txt', os.path.join(nsmc_dir, 'ratings_test.txt'))\n",
        "os.listdir(nsmc_dir)"
      ],
      "execution_count": null,
      "outputs": [
        {
          "output_type": "execute_result",
          "data": {
            "text/plain": [
              "['ratings_train.txt', 'ratings_test.txt']"
            ]
          },
          "metadata": {
            "tags": []
          },
          "execution_count": 26
        }
      ]
    },
    {
      "cell_type": "markdown",
      "metadata": {
        "id": "MXrWvdLuhVIu"
      },
      "source": [
        "# 데이터 분석"
      ]
    },
    {
      "cell_type": "code",
      "metadata": {
        "id": "MhP07wT3hXoN",
        "colab": {
          "base_uri": "https://localhost:8080/",
          "height": 419
        },
        "outputId": "701f263d-0e35-4501-9dad-6f4070291b76"
      },
      "source": [
        "# train data load\n",
        "df_train = pd.read_csv(os.path.join(nsmc_dir, 'ratings_train.txt'), delimiter='\\t')\n",
        "df_train"
      ],
      "execution_count": null,
      "outputs": [
        {
          "output_type": "execute_result",
          "data": {
            "text/html": [
              "<div>\n",
              "<style scoped>\n",
              "    .dataframe tbody tr th:only-of-type {\n",
              "        vertical-align: middle;\n",
              "    }\n",
              "\n",
              "    .dataframe tbody tr th {\n",
              "        vertical-align: top;\n",
              "    }\n",
              "\n",
              "    .dataframe thead th {\n",
              "        text-align: right;\n",
              "    }\n",
              "</style>\n",
              "<table border=\"1\" class=\"dataframe\">\n",
              "  <thead>\n",
              "    <tr style=\"text-align: right;\">\n",
              "      <th></th>\n",
              "      <th>id</th>\n",
              "      <th>document</th>\n",
              "      <th>label</th>\n",
              "    </tr>\n",
              "  </thead>\n",
              "  <tbody>\n",
              "    <tr>\n",
              "      <th>0</th>\n",
              "      <td>9976970</td>\n",
              "      <td>아 더빙.. 진짜 짜증나네요 목소리</td>\n",
              "      <td>0</td>\n",
              "    </tr>\n",
              "    <tr>\n",
              "      <th>1</th>\n",
              "      <td>3819312</td>\n",
              "      <td>흠...포스터보고 초딩영화줄....오버연기조차 가볍지 않구나</td>\n",
              "      <td>1</td>\n",
              "    </tr>\n",
              "    <tr>\n",
              "      <th>2</th>\n",
              "      <td>10265843</td>\n",
              "      <td>너무재밓었다그래서보는것을추천한다</td>\n",
              "      <td>0</td>\n",
              "    </tr>\n",
              "    <tr>\n",
              "      <th>3</th>\n",
              "      <td>9045019</td>\n",
              "      <td>교도소 이야기구먼 ..솔직히 재미는 없다..평점 조정</td>\n",
              "      <td>0</td>\n",
              "    </tr>\n",
              "    <tr>\n",
              "      <th>4</th>\n",
              "      <td>6483659</td>\n",
              "      <td>사이몬페그의 익살스런 연기가 돋보였던 영화!스파이더맨에서 늙어보이기만 했던 커스틴 ...</td>\n",
              "      <td>1</td>\n",
              "    </tr>\n",
              "    <tr>\n",
              "      <th>...</th>\n",
              "      <td>...</td>\n",
              "      <td>...</td>\n",
              "      <td>...</td>\n",
              "    </tr>\n",
              "    <tr>\n",
              "      <th>149995</th>\n",
              "      <td>6222902</td>\n",
              "      <td>인간이 문제지.. 소는 뭔죄인가..</td>\n",
              "      <td>0</td>\n",
              "    </tr>\n",
              "    <tr>\n",
              "      <th>149996</th>\n",
              "      <td>8549745</td>\n",
              "      <td>평점이 너무 낮아서...</td>\n",
              "      <td>1</td>\n",
              "    </tr>\n",
              "    <tr>\n",
              "      <th>149997</th>\n",
              "      <td>9311800</td>\n",
              "      <td>이게 뭐요? 한국인은 거들먹거리고 필리핀 혼혈은 착하다?</td>\n",
              "      <td>0</td>\n",
              "    </tr>\n",
              "    <tr>\n",
              "      <th>149998</th>\n",
              "      <td>2376369</td>\n",
              "      <td>청춘 영화의 최고봉.방황과 우울했던 날들의 자화상</td>\n",
              "      <td>1</td>\n",
              "    </tr>\n",
              "    <tr>\n",
              "      <th>149999</th>\n",
              "      <td>9619869</td>\n",
              "      <td>한국 영화 최초로 수간하는 내용이 담긴 영화</td>\n",
              "      <td>0</td>\n",
              "    </tr>\n",
              "  </tbody>\n",
              "</table>\n",
              "<p>150000 rows × 3 columns</p>\n",
              "</div>"
            ],
            "text/plain": [
              "              id                                           document  label\n",
              "0        9976970                                아 더빙.. 진짜 짜증나네요 목소리      0\n",
              "1        3819312                  흠...포스터보고 초딩영화줄....오버연기조차 가볍지 않구나      1\n",
              "2       10265843                                  너무재밓었다그래서보는것을추천한다      0\n",
              "3        9045019                      교도소 이야기구먼 ..솔직히 재미는 없다..평점 조정      0\n",
              "4        6483659  사이몬페그의 익살스런 연기가 돋보였던 영화!스파이더맨에서 늙어보이기만 했던 커스틴 ...      1\n",
              "...          ...                                                ...    ...\n",
              "149995   6222902                                인간이 문제지.. 소는 뭔죄인가..      0\n",
              "149996   8549745                                      평점이 너무 낮아서...      1\n",
              "149997   9311800                    이게 뭐요? 한국인은 거들먹거리고 필리핀 혼혈은 착하다?      0\n",
              "149998   2376369                        청춘 영화의 최고봉.방황과 우울했던 날들의 자화상      1\n",
              "149999   9619869                           한국 영화 최초로 수간하는 내용이 담긴 영화      0\n",
              "\n",
              "[150000 rows x 3 columns]"
            ]
          },
          "metadata": {
            "tags": []
          },
          "execution_count": 27
        }
      ]
    },
    {
      "cell_type": "code",
      "metadata": {
        "id": "f0aL5Ve6iVbk",
        "colab": {
          "base_uri": "https://localhost:8080/",
          "height": 419
        },
        "outputId": "484399fc-3d2e-4de5-ce23-c0ee0f9fc4fa"
      },
      "source": [
        "# train null 데이터 제거\n",
        "df_train = df_train.dropna() #dropnall --> null data삭제\n",
        "df_train"
      ],
      "execution_count": null,
      "outputs": [
        {
          "output_type": "execute_result",
          "data": {
            "text/html": [
              "<div>\n",
              "<style scoped>\n",
              "    .dataframe tbody tr th:only-of-type {\n",
              "        vertical-align: middle;\n",
              "    }\n",
              "\n",
              "    .dataframe tbody tr th {\n",
              "        vertical-align: top;\n",
              "    }\n",
              "\n",
              "    .dataframe thead th {\n",
              "        text-align: right;\n",
              "    }\n",
              "</style>\n",
              "<table border=\"1\" class=\"dataframe\">\n",
              "  <thead>\n",
              "    <tr style=\"text-align: right;\">\n",
              "      <th></th>\n",
              "      <th>id</th>\n",
              "      <th>document</th>\n",
              "      <th>label</th>\n",
              "    </tr>\n",
              "  </thead>\n",
              "  <tbody>\n",
              "    <tr>\n",
              "      <th>0</th>\n",
              "      <td>9976970</td>\n",
              "      <td>아 더빙.. 진짜 짜증나네요 목소리</td>\n",
              "      <td>0</td>\n",
              "    </tr>\n",
              "    <tr>\n",
              "      <th>1</th>\n",
              "      <td>3819312</td>\n",
              "      <td>흠...포스터보고 초딩영화줄....오버연기조차 가볍지 않구나</td>\n",
              "      <td>1</td>\n",
              "    </tr>\n",
              "    <tr>\n",
              "      <th>2</th>\n",
              "      <td>10265843</td>\n",
              "      <td>너무재밓었다그래서보는것을추천한다</td>\n",
              "      <td>0</td>\n",
              "    </tr>\n",
              "    <tr>\n",
              "      <th>3</th>\n",
              "      <td>9045019</td>\n",
              "      <td>교도소 이야기구먼 ..솔직히 재미는 없다..평점 조정</td>\n",
              "      <td>0</td>\n",
              "    </tr>\n",
              "    <tr>\n",
              "      <th>4</th>\n",
              "      <td>6483659</td>\n",
              "      <td>사이몬페그의 익살스런 연기가 돋보였던 영화!스파이더맨에서 늙어보이기만 했던 커스틴 ...</td>\n",
              "      <td>1</td>\n",
              "    </tr>\n",
              "    <tr>\n",
              "      <th>...</th>\n",
              "      <td>...</td>\n",
              "      <td>...</td>\n",
              "      <td>...</td>\n",
              "    </tr>\n",
              "    <tr>\n",
              "      <th>149995</th>\n",
              "      <td>6222902</td>\n",
              "      <td>인간이 문제지.. 소는 뭔죄인가..</td>\n",
              "      <td>0</td>\n",
              "    </tr>\n",
              "    <tr>\n",
              "      <th>149996</th>\n",
              "      <td>8549745</td>\n",
              "      <td>평점이 너무 낮아서...</td>\n",
              "      <td>1</td>\n",
              "    </tr>\n",
              "    <tr>\n",
              "      <th>149997</th>\n",
              "      <td>9311800</td>\n",
              "      <td>이게 뭐요? 한국인은 거들먹거리고 필리핀 혼혈은 착하다?</td>\n",
              "      <td>0</td>\n",
              "    </tr>\n",
              "    <tr>\n",
              "      <th>149998</th>\n",
              "      <td>2376369</td>\n",
              "      <td>청춘 영화의 최고봉.방황과 우울했던 날들의 자화상</td>\n",
              "      <td>1</td>\n",
              "    </tr>\n",
              "    <tr>\n",
              "      <th>149999</th>\n",
              "      <td>9619869</td>\n",
              "      <td>한국 영화 최초로 수간하는 내용이 담긴 영화</td>\n",
              "      <td>0</td>\n",
              "    </tr>\n",
              "  </tbody>\n",
              "</table>\n",
              "<p>149995 rows × 3 columns</p>\n",
              "</div>"
            ],
            "text/plain": [
              "              id                                           document  label\n",
              "0        9976970                                아 더빙.. 진짜 짜증나네요 목소리      0\n",
              "1        3819312                  흠...포스터보고 초딩영화줄....오버연기조차 가볍지 않구나      1\n",
              "2       10265843                                  너무재밓었다그래서보는것을추천한다      0\n",
              "3        9045019                      교도소 이야기구먼 ..솔직히 재미는 없다..평점 조정      0\n",
              "4        6483659  사이몬페그의 익살스런 연기가 돋보였던 영화!스파이더맨에서 늙어보이기만 했던 커스틴 ...      1\n",
              "...          ...                                                ...    ...\n",
              "149995   6222902                                인간이 문제지.. 소는 뭔죄인가..      0\n",
              "149996   8549745                                      평점이 너무 낮아서...      1\n",
              "149997   9311800                    이게 뭐요? 한국인은 거들먹거리고 필리핀 혼혈은 착하다?      0\n",
              "149998   2376369                        청춘 영화의 최고봉.방황과 우울했던 날들의 자화상      1\n",
              "149999   9619869                           한국 영화 최초로 수간하는 내용이 담긴 영화      0\n",
              "\n",
              "[149995 rows x 3 columns]"
            ]
          },
          "metadata": {
            "tags": []
          },
          "execution_count": 28
        }
      ]
    },
    {
      "cell_type": "markdown",
      "metadata": {
        "id": "iCtHjN1jiPBl"
      },
      "source": [
        "## Char"
      ]
    },
    {
      "cell_type": "code",
      "metadata": {
        "id": "WHtRNTBoiOck",
        "colab": {
          "base_uri": "https://localhost:8080/"
        },
        "outputId": "bff12468-37fa-4620-af08-345b7d404a92"
      },
      "source": [
        "# char 길이 데이터\n",
        "char_len = df_train[\"document\"].astype(\"str\").apply(len)\n",
        "char_len.head(10)"
      ],
      "execution_count": null,
      "outputs": [
        {
          "output_type": "execute_result",
          "data": {
            "text/plain": [
              "0    19\n",
              "1    33\n",
              "2    17\n",
              "3    29\n",
              "4    61\n",
              "5    45\n",
              "6    21\n",
              "7    86\n",
              "8    22\n",
              "9    45\n",
              "Name: document, dtype: int64"
            ]
          },
          "metadata": {
            "tags": []
          },
          "execution_count": 29
        }
      ]
    },
    {
      "cell_type": "code",
      "metadata": {
        "id": "1hFnO7mOikBU",
        "colab": {
          "base_uri": "https://localhost:8080/",
          "height": 331
        },
        "outputId": "2994b9fb-7f84-4ebe-b1fd-a6a323261af5"
      },
      "source": [
        "# 그래프에 대한 이미지 사이즈 선언\n",
        "# figsize: (가로, 세로) 형태의 튜플로 입력\n",
        "plt.figure(figsize=(8, 4))\n",
        "# histogram 선언\n",
        "# bins: 히스토그램 값들에 대한 버켓 범위, \n",
        "# range: x축 값의 범위\n",
        "# facecolor: 그래프 색상\n",
        "# label: 그래프에 대한 라벨\n",
        "plt.hist(char_len, bins=200, range=[0, 200], facecolor='r', label='train')\n",
        "# 그래프 제목\n",
        "plt.title('Lengh of char')\n",
        "# 그래프 x 축 라벨\n",
        "plt.xlabel('Number of char')\n",
        "# 그래프 y 축 라벨\n",
        "plt.ylabel('Count of review')\n",
        "plt.show()"
      ],
      "execution_count": null,
      "outputs": [
        {
          "output_type": "stream",
          "text": [
            "findfont: Font family ['NanumBarunGothic'] not found. Falling back to DejaVu Sans.\n",
            "findfont: Font family ['NanumBarunGothic'] not found. Falling back to DejaVu Sans.\n"
          ],
          "name": "stderr"
        },
        {
          "output_type": "display_data",
          "data": {
            "image/png": "[encoded data removed]",
            "text/plain": [
              "<Figure size 576x288 with 1 Axes>"
            ]
          },
          "metadata": {
            "tags": [],
            "needs_background": "light"
          }
        }
      ]
    },
    {
      "cell_type": "code",
      "metadata": {
        "id": "sOyYWAgWipKs",
        "colab": {
          "base_uri": "https://localhost:8080/"
        },
        "outputId": "73bb0607-a550-426c-aff7-1282844975b1"
      },
      "source": [
        "# 데이터 길이\n",
        "print(f\"char 길이 최대:    {np.max(char_len):4d}\")\n",
        "print(f\"char 길이 최소:    {np.min(char_len):4d}\")\n",
        "print(f\"char 길이 평균:    {np.mean(char_len):7.2f}\")\n",
        "print(f\"char 길이 표준편차: {np.std(char_len):7.2f}\")\n",
        "# https://ko.wikipedia.org/wiki/%EB%B0%B1%EB%B6%84%EC%9C%84%EC%88%98\n",
        "# 백분위수(Percentile)는 크기가 있는 값들로 이뤄진 자료를 순서대로 나열했을 때 백분율로 나타낸 특정 위치의 값을 이르는 용어이다.\n",
        "# 일반적으로 크기가 작은 것부터 나열하여 가장 작은 것을 0, 가장 큰 것을 100으로 한다.\n",
        "# 100개의 값을 가진 어떤 자료의 20 백분위수는 그 자료의 값들 중 20번째로 작은 값을 뜻한다. 50 백분위수는 중앙값과 같다.\n",
        "percentile25 = np.percentile(char_len, 25)\n",
        "percentile50 = np.percentile(char_len, 50)\n",
        "percentile75 = np.percentile(char_len, 75)\n",
        "percentileIQR = percentile75 - percentile25\n",
        "percentileMAX = percentile75 + percentileIQR * 1.5\n",
        "print(f\"char 25/100분위:  {percentile25:7.2f}\")\n",
        "print(f\"char 50/100분위:  {percentile50:7.2f}\")\n",
        "print(f\"char 75/100분위:  {percentile75:7.2f}\")\n",
        "print(f\"char IQR:        {percentileIQR:7.2f}\")\n",
        "print(f\"char MAX/100분위: {percentileMAX:7.2f}\")"
      ],
      "execution_count": null,
      "outputs": [
        {
          "output_type": "stream",
          "text": [
            "char 길이 최대:     146\n",
            "char 길이 최소:       1\n",
            "char 길이 평균:      35.20\n",
            "char 길이 표준편차:   29.53\n",
            "char 25/100분위:    16.00\n",
            "char 50/100분위:    27.00\n",
            "char 75/100분위:    42.00\n",
            "char IQR:          26.00\n",
            "char MAX/100분위:   81.00\n"
          ],
          "name": "stdout"
        }
      ]
    },
    {
      "cell_type": "code",
      "metadata": {
        "id": "TWVI7cQNjXKZ",
        "colab": {
          "base_uri": "https://localhost:8080/",
          "height": 374
        },
        "outputId": "3e51a05c-714b-4c3f-ef61-01a2067e7efd"
      },
      "source": [
        "plt.figure(figsize=(4, 6))\n",
        "# '박스플롯'으로 그려보면\n",
        "# 첫번째 파라메터: 여러 분포에 대한 데이터 리스트를\n",
        "# labels: 입력한 데이터에 대한 라벨\n",
        "# showmeans: 평균값을 표현\n",
        "# 참고: https://leebaro.tistory.com/entry/%EB%B0%95%EC%8A%A4-%ED%94%8C%EB%A1%AFbox-plot-%EC%84%A4%EB%AA%85\n",
        "plt.boxplot(char_len, labels=['char counts'], showmeans=True)\n",
        "plt.show()\n",
        "#시커먼부분 : out rain으로 비정상적으로 긴 부분으로 취급"
      ],
      "execution_count": null,
      "outputs": [
        {
          "output_type": "display_data",
          "data": {
            "image/png": "[encoded data removed]",
            "text/plain": [
              "<Figure size 288x432 with 1 Axes>"
            ]
          },
          "metadata": {
            "tags": [],
            "needs_background": "light"
          }
        }
      ]
    },
    {
      "cell_type": "markdown",
      "metadata": {
        "id": "z5vUjpBDjvwM"
      },
      "source": [
        "## Word"
      ]
    },
    {
      "cell_type": "code",
      "metadata": {
        "id": "6H_Rp3N5jvwX",
        "colab": {
          "base_uri": "https://localhost:8080/"
        },
        "outputId": "eea2c922-11c9-4116-9ea7-399425bc1543"
      },
      "source": [
        "# word 길이 데이터\n",
        "word_len = df_train['document'].astype(str).apply(lambda x:len(x.split(' ')))\n",
        "word_len.head(10)"
      ],
      "execution_count": null,
      "outputs": [
        {
          "output_type": "execute_result",
          "data": {
            "text/plain": [
              "0     5\n",
              "1     4\n",
              "2     1\n",
              "3     6\n",
              "4    11\n",
              "5     8\n",
              "6     4\n",
              "7    13\n",
              "8     6\n",
              "9    10\n",
              "Name: document, dtype: int64"
            ]
          },
          "metadata": {
            "tags": []
          },
          "execution_count": 33
        }
      ]
    },
    {
      "cell_type": "code",
      "metadata": {
        "id": "P26X6GHQjvwY",
        "colab": {
          "base_uri": "https://localhost:8080/",
          "height": 295
        },
        "outputId": "8fb2c019-ea71-4094-ad64-ff8b09e64296"
      },
      "source": [
        "# 그래프에 대한 이미지 사이즈 선언\n",
        "# figsize: (가로, 세로) 형태의 튜플로 입력\n",
        "plt.figure(figsize=(8, 4))\n",
        "# histogram 선언\n",
        "# bins: 히스토그램 값들에 대한 버켓 범위, \n",
        "# range: x축 값의 범위\n",
        "# facecolor: 그래프 색상\n",
        "# label: 그래프에 대한 라벨\n",
        "plt.hist(word_len, bins=50, range=[0, 50], facecolor='r', label='train')\n",
        "# 그래프 제목\n",
        "plt.title('Lengh of word')\n",
        "# 그래프 x 축 라벨\n",
        "plt.xlabel('Number of word')\n",
        "# 그래프 y 축 라벨\n",
        "plt.ylabel('Count of review')\n",
        "plt.show()"
      ],
      "execution_count": null,
      "outputs": [
        {
          "output_type": "display_data",
          "data": {
            "image/png": "[encoded data removed]",
            "text/plain": [
              "<Figure size 576x288 with 1 Axes>"
            ]
          },
          "metadata": {
            "tags": [],
            "needs_background": "light"
          }
        }
      ]
    },
    {
      "cell_type": "code",
      "metadata": {
        "id": "2eW21IJ8jvwa",
        "colab": {
          "base_uri": "https://localhost:8080/"
        },
        "outputId": "48e94e7c-5ef3-4465-a8b3-0513db6d4b65"
      },
      "source": [
        "# 데이터 길이\n",
        "print(f\"word 길이 최대:    {np.max(word_len):4d}\")\n",
        "print(f\"word 길이 최소:    {np.min(word_len):4d}\")\n",
        "print(f\"word 길이 평균:    {np.mean(word_len):7.2f}\")\n",
        "print(f\"word 길이 표준편차: {np.std(word_len):7.2f}\")\n",
        "# https://ko.wikipedia.org/wiki/%EB%B0%B1%EB%B6%84%EC%9C%84%EC%88%98\n",
        "# 백분위수(Percentile)는 크기가 있는 값들로 이뤄진 자료를 순서대로 나열했을 때 백분율로 나타낸 특정 위치의 값을 이르는 용어이다.\n",
        "# 일반적으로 크기가 작은 것부터 나열하여 가장 작은 것을 0, 가장 큰 것을 100으로 한다.\n",
        "# 100개의 값을 가진 어떤 자료의 20 백분위수는 그 자료의 값들 중 20번째로 작은 값을 뜻한다. 50 백분위수는 중앙값과 같다.\n",
        "percentile25 = np.percentile(word_len, 25)\n",
        "percentile50 = np.percentile(word_len, 50)\n",
        "percentile75 = np.percentile(word_len, 75)\n",
        "percentileIQR = percentile75 - percentile25\n",
        "percentileMAX = percentile75 + percentileIQR * 1.5\n",
        "print(f\"word 25/100분위:  {percentile25:7.2f}\")\n",
        "print(f\"word 50/100분위:  {percentile50:7.2f}\")\n",
        "print(f\"word 75/100분위:  {percentile75:7.2f}\")\n",
        "print(f\"word IQR:        {percentileIQR:7.2f}\")\n",
        "print(f\"word MAX/100분위: {percentileMAX:7.2f}\")"
      ],
      "execution_count": null,
      "outputs": [
        {
          "output_type": "stream",
          "text": [
            "word 길이 최대:      41\n",
            "word 길이 최소:       1\n",
            "word 길이 평균:       7.59\n",
            "word 길이 표준편차:    6.51\n",
            "word 25/100분위:     3.00\n",
            "word 50/100분위:     6.00\n",
            "word 75/100분위:     9.00\n",
            "word IQR:           6.00\n",
            "word MAX/100분위:   18.00\n"
          ],
          "name": "stdout"
        }
      ]
    },
    {
      "cell_type": "code",
      "metadata": {
        "id": "NerMTgt_jvwa",
        "colab": {
          "base_uri": "https://localhost:8080/",
          "height": 374
        },
        "outputId": "d0d725d9-00aa-41fa-9747-58cac69cb445"
      },
      "source": [
        "plt.figure(figsize=(4, 6))\n",
        "# 박스플롯 생성\n",
        "# 첫번째 파라메터: 여러 분포에 대한 데이터 리스트를\n",
        "# labels: 입력한 데이터에 대한 라벨\n",
        "# showmeans: 평균값을 표현\n",
        "# 참고: https://leebaro.tistory.com/entry/%EB%B0%95%EC%8A%A4-%ED%94%8C%EB%A1%AFbox-plot-%EC%84%A4%EB%AA%85\n",
        "plt.boxplot(word_len, labels=['word counts'], showmeans=True)\n",
        "plt.show()"
      ],
      "execution_count": null,
      "outputs": [
        {
          "output_type": "display_data",
          "data": {
            "image/png": "[encoded data removed]",
            "text/plain": [
              "<Figure size 288x432 with 1 Axes>"
            ]
          },
          "metadata": {
            "tags": [],
            "needs_background": "light"
          }
        }
      ]
    },
    {
      "cell_type": "markdown",
      "metadata": {
        "id": "HH3c7rY7kbCh"
      },
      "source": [
        "## SentencePiece"
      ]
    },
    {
      "cell_type": "code",
      "metadata": {
        "id": "6cvc0ZDzkbCi",
        "colab": {
          "base_uri": "https://localhost:8080/"
        },
        "outputId": "d950df0e-55c0-465c-926f-99f42c1ebac6"
      },
      "source": [
        "# word 길이 데이터\n",
        "spm_len = df_train['document'].astype(str).apply(lambda x:len(vocab.encode_as_pieces(x))) # vocab.encode_as_pieces(x)로 토큰화하고, 잘라서 길이를 측정한건\n",
        "spm_len.head(10)"
      ],
      "execution_count": null,
      "outputs": [
        {
          "output_type": "execute_result",
          "data": {
            "text/plain": [
              "0    11\n",
              "1    25\n",
              "2    11\n",
              "3    18\n",
              "4    38\n",
              "5    33\n",
              "6    11\n",
              "7    61\n",
              "8    10\n",
              "9    29\n",
              "Name: document, dtype: int64"
            ]
          },
          "metadata": {
            "tags": []
          },
          "execution_count": 37
        }
      ]
    },
    {
      "cell_type": "code",
      "metadata": {
        "id": "KDr_r83DkbCi",
        "colab": {
          "base_uri": "https://localhost:8080/",
          "height": 295
        },
        "outputId": "609814f6-aadd-477d-e25a-fcafa3e88a9d"
      },
      "source": [
        "# 그래프에 대한 이미지 사이즈 선언\n",
        "# figsize: (가로, 세로) 형태의 튜플로 입력\n",
        "plt.figure(figsize=(8, 4))\n",
        "# histogram 선언\n",
        "# bins: 히스토그램 값들에 대한 버켓 범위, \n",
        "# range: x축 값의 범위\n",
        "# facecolor: 그래프 색상\n",
        "# label: 그래프에 대한 라벨\n",
        "plt.hist(spm_len, bins=110, range=[0, 110], facecolor='r', label='train')\n",
        "# 그래프 제목\n",
        "plt.title('Lengh of spm')\n",
        "# 그래프 x 축 라벨\n",
        "plt.xlabel('Number of spm')\n",
        "# 그래프 y 축 라벨\n",
        "plt.ylabel('Count of review')\n",
        "plt.show()\n",
        "#char 하고 word의 중간값에 있음!!@"
      ],
      "execution_count": null,
      "outputs": [
        {
          "output_type": "display_data",
          "data": {
            "image/png": "[encoded data removed]",
            "text/plain": [
              "<Figure size 576x288 with 1 Axes>"
            ]
          },
          "metadata": {
            "tags": [],
            "needs_background": "light"
          }
        }
      ]
    },
    {
      "cell_type": "code",
      "metadata": {
        "id": "hl9BiOWnkbCj",
        "colab": {
          "base_uri": "https://localhost:8080/"
        },
        "outputId": "be286355-0b93-4e7c-faae-09017850b13d"
      },
      "source": [
        "# 데이터 길이\n",
        "print(f\"spm 길이 최대:    {np.max(spm_len):4d}\")\n",
        "print(f\"spm 길이 최소:    {np.min(spm_len):4d}\")\n",
        "print(f\"spm 길이 평균:    {np.mean(spm_len):7.2f}\")\n",
        "print(f\"spm 길이 표준편차: {np.std(spm_len):7.2f}\")\n",
        "# https://ko.wikipedia.org/wiki/%EB%B0%B1%EB%B6%84%EC%9C%84%EC%88%98\n",
        "# 백분위수(Percentile)는 크기가 있는 값들로 이뤄진 자료를 순서대로 나열했을 때 백분율로 나타낸 특정 위치의 값을 이르는 용어이다.\n",
        "# 일반적으로 크기가 작은 것부터 나열하여 가장 작은 것을 0, 가장 큰 것을 100으로 한다.\n",
        "# 100개의 값을 가진 어떤 자료의 20 백분위수는 그 자료의 값들 중 20번째로 작은 값을 뜻한다. 50 백분위수는 중앙값과 같다.\n",
        "percentile25 = np.percentile(spm_len, 25)\n",
        "percentile50 = np.percentile(spm_len, 50)\n",
        "percentile75 = np.percentile(spm_len, 75)\n",
        "percentileIQR = percentile75 - percentile25\n",
        "percentileMAX = percentile75 + percentileIQR * 1.5\n",
        "print(f\"spm 25/100분위:  {percentile25:7.2f}\")\n",
        "print(f\"spm 50/100분위:  {percentile50:7.2f}\")\n",
        "print(f\"spm 75/100분위:  {percentile75:7.2f}\")\n",
        "print(f\"spm IQR:        {percentileIQR:7.2f}\")\n",
        "print(f\"spm MAX/100분위: {percentileMAX:7.2f}\")"
      ],
      "execution_count": null,
      "outputs": [
        {
          "output_type": "stream",
          "text": [
            "spm 길이 최대:     141\n",
            "spm 길이 최소:       1\n",
            "spm 길이 평균:      19.77\n",
            "spm 길이 표준편차:   15.87\n",
            "spm 25/100분위:     9.00\n",
            "spm 50/100분위:    15.00\n",
            "spm 75/100분위:    24.00\n",
            "spm IQR:          15.00\n",
            "spm MAX/100분위:   46.50\n"
          ],
          "name": "stdout"
        }
      ]
    },
    {
      "cell_type": "code",
      "metadata": {
        "id": "bhYzc3QVkbCj",
        "colab": {
          "base_uri": "https://localhost:8080/",
          "height": 374
        },
        "outputId": "92baee8e-f961-444f-8864-8fb403f1e8ee"
      },
      "source": [
        "plt.figure(figsize=(4, 6))\n",
        "# 박스플롯 생성\n",
        "# 첫번째 파라메터: 여러 분포에 대한 데이터 리스트를\n",
        "# labels: 입력한 데이터에 대한 라벨\n",
        "# showmeans: 평균값을 표현\n",
        "# 참고: https://leebaro.tistory.com/entry/%EB%B0%95%EC%8A%A4-%ED%94%8C%EB%A1%AFbox-plot-%EC%84%A4%EB%AA%85\n",
        "plt.boxplot(spm_len, labels=['spm counts'], showmeans=True)\n",
        "plt.show()"
      ],
      "execution_count": null,
      "outputs": [
        {
          "output_type": "display_data",
          "data": {
            "image/png": "[encoded data removed]",
            "text/plain": [
              "<Figure size 288x432 with 1 Axes>"
            ]
          },
          "metadata": {
            "tags": [],
            "needs_background": "light"
          }
        }
      ]
    },
    {
      "cell_type": "markdown",
      "metadata": {
        "id": "OMncJs1dlHLK"
      },
      "source": [
        "## Label"
      ]
    },
    {
      "cell_type": "code",
      "metadata": {
        "id": "WByhTbdjlJCQ",
        "colab": {
          "base_uri": "https://localhost:8080/"
        },
        "outputId": "78c381e7-098f-4f36-daaa-f4b8b9c30c8f"
      },
      "source": [
        "df_train['label'].value_counts()"
      ],
      "execution_count": null,
      "outputs": [
        {
          "output_type": "execute_result",
          "data": {
            "text/plain": [
              "0    75170\n",
              "1    74825\n",
              "Name: label, dtype: int64"
            ]
          },
          "metadata": {
            "tags": []
          },
          "execution_count": 45
        }
      ]
    },
    {
      "cell_type": "code",
      "metadata": {
        "id": "N9bBFn-klSuw",
        "colab": {
          "base_uri": "https://localhost:8080/"
        },
        "outputId": "0c26e277-6636-4029-b19f-92f1e75b4842"
      },
      "source": [
        "# label count\n",
        "print(f\"부정 리뷰 개수: {df_train['label'].value_counts()[0]}\")\n",
        "print(f\"긍정 리뷰 개수: {df_train['label'].value_counts()[1]}\")"
      ],
      "execution_count": null,
      "outputs": [
        {
          "output_type": "stream",
          "text": [
            "부정 리뷰 개수: 75170\n",
            "긍정 리뷰 개수: 74825\n"
          ],
          "name": "stdout"
        }
      ]
    },
    {
      "cell_type": "code",
      "metadata": {
        "id": "pfZqqRG_lYwh",
        "colab": {
          "base_uri": "https://localhost:8080/",
          "height": 390
        },
        "outputId": "5246066b-132b-4a46-a2ec-4cfefc5931d9"
      },
      "source": [
        "# label counter plot\n",
        "fig, axe = plt.subplots(ncols=1)\n",
        "fig.set_size_inches(6, 5)\n",
        "# https://seaborn.pydata.org/\n",
        "subplt = sns.countplot(df_train['label'])"
      ],
      "execution_count": null,
      "outputs": [
        {
          "output_type": "stream",
          "text": [
            "/usr/local/lib/python3.6/dist-packages/seaborn/_decorators.py:43: FutureWarning: Pass the following variable as a keyword arg: x. From version 0.12, the only valid positional argument will be `data`, and passing other arguments without an explicit keyword will result in an error or misinterpretation.\n",
            "  FutureWarning\n"
          ],
          "name": "stderr"
        },
        {
          "output_type": "display_data",
          "data": {
            "image/png": "[encoded data removed]",
            "text/plain": [
              "<Figure size 432x360 with 1 Axes>"
            ]
          },
          "metadata": {
            "tags": [],
            "needs_background": "light"
          }
        }
      ]
    },
    {
      "cell_type": "markdown",
      "metadata": {
        "id": "PEEHnQPfluqb"
      },
      "source": [
        "## Word Cloud"
      ]
    },
    {
      "cell_type": "code",
      "metadata": {
        "id": "HRb4fQxsloKx",
        "colab": {
          "base_uri": "https://localhost:8080/"
        },
        "outputId": "10e0a603-a1d7-4f4e-d781-bcbccfa67ca4"
      },
      "source": [
        "# train review documents\n",
        "train_review = [review for review in df_train['document'] if type(review) is str]\n",
        "train_review[:10]"
      ],
      "execution_count": null,
      "outputs": [
        {
          "output_type": "execute_result",
          "data": {
            "text/plain": [
              "['아 더빙.. 진짜 짜증나네요 목소리',\n",
              " '흠...포스터보고 초딩영화줄....오버연기조차 가볍지 않구나',\n",
              " '너무재밓었다그래서보는것을추천한다',\n",
              " '교도소 이야기구먼 ..솔직히 재미는 없다..평점 조정',\n",
              " '사이몬페그의 익살스런 연기가 돋보였던 영화!스파이더맨에서 늙어보이기만 했던 커스틴 던스트가 너무나도 이뻐보였다',\n",
              " '막 걸음마 뗀 3세부터 초등학교 1학년생인 8살용영화.ㅋㅋㅋ...별반개도 아까움.',\n",
              " '원작의 긴장감을 제대로 살려내지못했다.',\n",
              " '별 반개도 아깝다 욕나온다 이응경 길용우 연기생활이몇년인지..정말 발로해도 그것보단 낫겟다 납치.감금만반복반복..이드라마는 가족도없다 연기못하는사람만모엿네',\n",
              " '액션이 없는데도 재미 있는 몇안되는 영화',\n",
              " '왜케 평점이 낮은건데? 꽤 볼만한데.. 헐리우드식 화려함에만 너무 길들여져 있나?']"
            ]
          },
          "metadata": {
            "tags": []
          },
          "execution_count": 48
        }
      ]
    },
    {
      "cell_type": "code",
      "metadata": {
        "id": "ASMXNml2lz8i",
        "colab": {
          "base_uri": "https://localhost:8080/",
          "height": 125
        },
        "outputId": "fe113aa4-84cb-4cf6-ff3a-508371d152a2"
      },
      "source": [
        "' '.join(train_review[:10])"
      ],
      "execution_count": null,
      "outputs": [
        {
          "output_type": "execute_result",
          "data": {
            "application/vnd.google.colaboratory.intrinsic+json": {
              "type": "string"
            },
            "text/plain": [
              "'아 더빙.. 진짜 짜증나네요 목소리 흠...포스터보고 초딩영화줄....오버연기조차 가볍지 않구나 너무재밓었다그래서보는것을추천한다 교도소 이야기구먼 ..솔직히 재미는 없다..평점 조정 사이몬페그의 익살스런 연기가 돋보였던 영화!스파이더맨에서 늙어보이기만 했던 커스틴 던스트가 너무나도 이뻐보였다 막 걸음마 뗀 3세부터 초등학교 1학년생인 8살용영화.ㅋㅋㅋ...별반개도 아까움. 원작의 긴장감을 제대로 살려내지못했다. 별 반개도 아깝다 욕나온다 이응경 길용우 연기생활이몇년인지..정말 발로해도 그것보단 낫겟다 납치.감금만반복반복..이드라마는 가족도없다 연기못하는사람만모엿네 액션이 없는데도 재미 있는 몇안되는 영화 왜케 평점이 낮은건데? 꽤 볼만한데.. 헐리우드식 화려함에만 너무 길들여져 있나?'"
            ]
          },
          "metadata": {
            "tags": []
          },
          "execution_count": 49
        }
      ]
    },
    {
      "cell_type": "code",
      "metadata": {
        "id": "MmQXZB-bl4RM",
        "colab": {
          "base_uri": "https://localhost:8080/",
          "height": 575
        },
        "outputId": "3f533184-8b08-479c-c8f9-27c681386d83"
      },
      "source": [
        "# WordCloud\n",
        "# window: C:/Windows/Fonts/malgun.ttf, mac: /Library/Fonts/AppleGothic.ttf, colab: /usr/share/fonts/truetype/nanum/NanumBarunGothic.ttf\n",
        "wordcloud = WordCloud(width=800, height=800, font_path='/usr/share/fonts/truetype/nanum/NanumBarunGothic.ttf').generate(' '.join(train_review))\n",
        "plt.figure(figsize=(10, 10))\n",
        "# https://datascienceschool.net/view-notebook/6e71dbff254542d9b0a054a7c98b34ec/\n",
        "# image 출력, interpolation 이미지 시각화 옵션\n",
        "plt.imshow(wordcloud, interpolation='bilinear')\n",
        "plt.axis('off')\n",
        "plt.show()"
      ],
      "execution_count": null,
      "outputs": [
        {
          "output_type": "display_data",
          "data": {
            "image/png": "[encoded data removed]",
            "text/plain": [
              "<Figure size 720x720 with 1 Axes>"
            ]
          },
          "metadata": {
            "tags": [],
            "needs_background": "light"
          }
        }
      ]
    },
    {
      "cell_type": "markdown",
      "metadata": {
        "id": "gcG7zBAr_R_4"
      },
      "source": [
        "# Sample Data Project"
      ]
    },
    {
      "cell_type": "markdown",
      "metadata": {
        "id": "jv0OPyaKSpjw"
      },
      "source": [
        "## Data\n"
      ]
    },
    {
      "cell_type": "code",
      "metadata": {
        "id": "98u39IsbSoBk",
        "colab": {
          "base_uri": "https://localhost:8080/",
          "height": 419
        },
        "outputId": "60147a8c-1a4e-4a44-a403-30eaa9fc0095"
      },
      "source": [
        "# train data load\n",
        "df_train = pd.read_csv(os.path.join(nsmc_dir, 'ratings_train.txt'), delimiter='\\t')\n",
        "df_train"
      ],
      "execution_count": null,
      "outputs": [
        {
          "output_type": "execute_result",
          "data": {
            "text/html": [
              "<div>\n",
              "<style scoped>\n",
              "    .dataframe tbody tr th:only-of-type {\n",
              "        vertical-align: middle;\n",
              "    }\n",
              "\n",
              "    .dataframe tbody tr th {\n",
              "        vertical-align: top;\n",
              "    }\n",
              "\n",
              "    .dataframe thead th {\n",
              "        text-align: right;\n",
              "    }\n",
              "</style>\n",
              "<table border=\"1\" class=\"dataframe\">\n",
              "  <thead>\n",
              "    <tr style=\"text-align: right;\">\n",
              "      <th></th>\n",
              "      <th>id</th>\n",
              "      <th>document</th>\n",
              "      <th>label</th>\n",
              "    </tr>\n",
              "  </thead>\n",
              "  <tbody>\n",
              "    <tr>\n",
              "      <th>0</th>\n",
              "      <td>9976970</td>\n",
              "      <td>아 더빙.. 진짜 짜증나네요 목소리</td>\n",
              "      <td>0</td>\n",
              "    </tr>\n",
              "    <tr>\n",
              "      <th>1</th>\n",
              "      <td>3819312</td>\n",
              "      <td>흠...포스터보고 초딩영화줄....오버연기조차 가볍지 않구나</td>\n",
              "      <td>1</td>\n",
              "    </tr>\n",
              "    <tr>\n",
              "      <th>2</th>\n",
              "      <td>10265843</td>\n",
              "      <td>너무재밓었다그래서보는것을추천한다</td>\n",
              "      <td>0</td>\n",
              "    </tr>\n",
              "    <tr>\n",
              "      <th>3</th>\n",
              "      <td>9045019</td>\n",
              "      <td>교도소 이야기구먼 ..솔직히 재미는 없다..평점 조정</td>\n",
              "      <td>0</td>\n",
              "    </tr>\n",
              "    <tr>\n",
              "      <th>4</th>\n",
              "      <td>6483659</td>\n",
              "      <td>사이몬페그의 익살스런 연기가 돋보였던 영화!스파이더맨에서 늙어보이기만 했던 커스틴 ...</td>\n",
              "      <td>1</td>\n",
              "    </tr>\n",
              "    <tr>\n",
              "      <th>...</th>\n",
              "      <td>...</td>\n",
              "      <td>...</td>\n",
              "      <td>...</td>\n",
              "    </tr>\n",
              "    <tr>\n",
              "      <th>149995</th>\n",
              "      <td>6222902</td>\n",
              "      <td>인간이 문제지.. 소는 뭔죄인가..</td>\n",
              "      <td>0</td>\n",
              "    </tr>\n",
              "    <tr>\n",
              "      <th>149996</th>\n",
              "      <td>8549745</td>\n",
              "      <td>평점이 너무 낮아서...</td>\n",
              "      <td>1</td>\n",
              "    </tr>\n",
              "    <tr>\n",
              "      <th>149997</th>\n",
              "      <td>9311800</td>\n",
              "      <td>이게 뭐요? 한국인은 거들먹거리고 필리핀 혼혈은 착하다?</td>\n",
              "      <td>0</td>\n",
              "    </tr>\n",
              "    <tr>\n",
              "      <th>149998</th>\n",
              "      <td>2376369</td>\n",
              "      <td>청춘 영화의 최고봉.방황과 우울했던 날들의 자화상</td>\n",
              "      <td>1</td>\n",
              "    </tr>\n",
              "    <tr>\n",
              "      <th>149999</th>\n",
              "      <td>9619869</td>\n",
              "      <td>한국 영화 최초로 수간하는 내용이 담긴 영화</td>\n",
              "      <td>0</td>\n",
              "    </tr>\n",
              "  </tbody>\n",
              "</table>\n",
              "<p>150000 rows × 3 columns</p>\n",
              "</div>"
            ],
            "text/plain": [
              "              id                                           document  label\n",
              "0        9976970                                아 더빙.. 진짜 짜증나네요 목소리      0\n",
              "1        3819312                  흠...포스터보고 초딩영화줄....오버연기조차 가볍지 않구나      1\n",
              "2       10265843                                  너무재밓었다그래서보는것을추천한다      0\n",
              "3        9045019                      교도소 이야기구먼 ..솔직히 재미는 없다..평점 조정      0\n",
              "4        6483659  사이몬페그의 익살스런 연기가 돋보였던 영화!스파이더맨에서 늙어보이기만 했던 커스틴 ...      1\n",
              "...          ...                                                ...    ...\n",
              "149995   6222902                                인간이 문제지.. 소는 뭔죄인가..      0\n",
              "149996   8549745                                      평점이 너무 낮아서...      1\n",
              "149997   9311800                    이게 뭐요? 한국인은 거들먹거리고 필리핀 혼혈은 착하다?      0\n",
              "149998   2376369                        청춘 영화의 최고봉.방황과 우울했던 날들의 자화상      1\n",
              "149999   9619869                           한국 영화 최초로 수간하는 내용이 담긴 영화      0\n",
              "\n",
              "[150000 rows x 3 columns]"
            ]
          },
          "metadata": {
            "tags": []
          },
          "execution_count": 61
        }
      ]
    },
    {
      "cell_type": "code",
      "metadata": {
        "id": "NMkiX-4bdx5A",
        "colab": {
          "base_uri": "https://localhost:8080/",
          "height": 419
        },
        "outputId": "1a901233-4853-46b3-d60c-615775954c23"
      },
      "source": [
        "# train null 데이터 제거\n",
        "df_train = df_train.dropna()\n",
        "df_train"
      ],
      "execution_count": null,
      "outputs": [
        {
          "output_type": "execute_result",
          "data": {
            "text/html": [
              "<div>\n",
              "<style scoped>\n",
              "    .dataframe tbody tr th:only-of-type {\n",
              "        vertical-align: middle;\n",
              "    }\n",
              "\n",
              "    .dataframe tbody tr th {\n",
              "        vertical-align: top;\n",
              "    }\n",
              "\n",
              "    .dataframe thead th {\n",
              "        text-align: right;\n",
              "    }\n",
              "</style>\n",
              "<table border=\"1\" class=\"dataframe\">\n",
              "  <thead>\n",
              "    <tr style=\"text-align: right;\">\n",
              "      <th></th>\n",
              "      <th>id</th>\n",
              "      <th>document</th>\n",
              "      <th>label</th>\n",
              "    </tr>\n",
              "  </thead>\n",
              "  <tbody>\n",
              "    <tr>\n",
              "      <th>0</th>\n",
              "      <td>9976970</td>\n",
              "      <td>아 더빙.. 진짜 짜증나네요 목소리</td>\n",
              "      <td>0</td>\n",
              "    </tr>\n",
              "    <tr>\n",
              "      <th>1</th>\n",
              "      <td>3819312</td>\n",
              "      <td>흠...포스터보고 초딩영화줄....오버연기조차 가볍지 않구나</td>\n",
              "      <td>1</td>\n",
              "    </tr>\n",
              "    <tr>\n",
              "      <th>2</th>\n",
              "      <td>10265843</td>\n",
              "      <td>너무재밓었다그래서보는것을추천한다</td>\n",
              "      <td>0</td>\n",
              "    </tr>\n",
              "    <tr>\n",
              "      <th>3</th>\n",
              "      <td>9045019</td>\n",
              "      <td>교도소 이야기구먼 ..솔직히 재미는 없다..평점 조정</td>\n",
              "      <td>0</td>\n",
              "    </tr>\n",
              "    <tr>\n",
              "      <th>4</th>\n",
              "      <td>6483659</td>\n",
              "      <td>사이몬페그의 익살스런 연기가 돋보였던 영화!스파이더맨에서 늙어보이기만 했던 커스틴 ...</td>\n",
              "      <td>1</td>\n",
              "    </tr>\n",
              "    <tr>\n",
              "      <th>...</th>\n",
              "      <td>...</td>\n",
              "      <td>...</td>\n",
              "      <td>...</td>\n",
              "    </tr>\n",
              "    <tr>\n",
              "      <th>149995</th>\n",
              "      <td>6222902</td>\n",
              "      <td>인간이 문제지.. 소는 뭔죄인가..</td>\n",
              "      <td>0</td>\n",
              "    </tr>\n",
              "    <tr>\n",
              "      <th>149996</th>\n",
              "      <td>8549745</td>\n",
              "      <td>평점이 너무 낮아서...</td>\n",
              "      <td>1</td>\n",
              "    </tr>\n",
              "    <tr>\n",
              "      <th>149997</th>\n",
              "      <td>9311800</td>\n",
              "      <td>이게 뭐요? 한국인은 거들먹거리고 필리핀 혼혈은 착하다?</td>\n",
              "      <td>0</td>\n",
              "    </tr>\n",
              "    <tr>\n",
              "      <th>149998</th>\n",
              "      <td>2376369</td>\n",
              "      <td>청춘 영화의 최고봉.방황과 우울했던 날들의 자화상</td>\n",
              "      <td>1</td>\n",
              "    </tr>\n",
              "    <tr>\n",
              "      <th>149999</th>\n",
              "      <td>9619869</td>\n",
              "      <td>한국 영화 최초로 수간하는 내용이 담긴 영화</td>\n",
              "      <td>0</td>\n",
              "    </tr>\n",
              "  </tbody>\n",
              "</table>\n",
              "<p>149995 rows × 3 columns</p>\n",
              "</div>"
            ],
            "text/plain": [
              "              id                                           document  label\n",
              "0        9976970                                아 더빙.. 진짜 짜증나네요 목소리      0\n",
              "1        3819312                  흠...포스터보고 초딩영화줄....오버연기조차 가볍지 않구나      1\n",
              "2       10265843                                  너무재밓었다그래서보는것을추천한다      0\n",
              "3        9045019                      교도소 이야기구먼 ..솔직히 재미는 없다..평점 조정      0\n",
              "4        6483659  사이몬페그의 익살스런 연기가 돋보였던 영화!스파이더맨에서 늙어보이기만 했던 커스틴 ...      1\n",
              "...          ...                                                ...    ...\n",
              "149995   6222902                                인간이 문제지.. 소는 뭔죄인가..      0\n",
              "149996   8549745                                      평점이 너무 낮아서...      1\n",
              "149997   9311800                    이게 뭐요? 한국인은 거들먹거리고 필리핀 혼혈은 착하다?      0\n",
              "149998   2376369                        청춘 영화의 최고봉.방황과 우울했던 날들의 자화상      1\n",
              "149999   9619869                           한국 영화 최초로 수간하는 내용이 담긴 영화      0\n",
              "\n",
              "[149995 rows x 3 columns]"
            ]
          },
          "metadata": {
            "tags": []
          },
          "execution_count": 62
        }
      ]
    },
    {
      "cell_type": "code",
      "metadata": {
        "id": "EKoCzDHNSy3r",
        "colab": {
          "base_uri": "https://localhost:8080/",
          "height": 419
        },
        "outputId": "fbde6629-3bf2-4ab2-b773-df2dcf489e7b"
      },
      "source": [
        "# train data load\n",
        "df_test = pd.read_csv(os.path.join(nsmc_dir, 'ratings_test.txt'), delimiter='\\t')\n",
        "df_test"
      ],
      "execution_count": null,
      "outputs": [
        {
          "output_type": "execute_result",
          "data": {
            "text/html": [
              "<div>\n",
              "<style scoped>\n",
              "    .dataframe tbody tr th:only-of-type {\n",
              "        vertical-align: middle;\n",
              "    }\n",
              "\n",
              "    .dataframe tbody tr th {\n",
              "        vertical-align: top;\n",
              "    }\n",
              "\n",
              "    .dataframe thead th {\n",
              "        text-align: right;\n",
              "    }\n",
              "</style>\n",
              "<table border=\"1\" class=\"dataframe\">\n",
              "  <thead>\n",
              "    <tr style=\"text-align: right;\">\n",
              "      <th></th>\n",
              "      <th>id</th>\n",
              "      <th>document</th>\n",
              "      <th>label</th>\n",
              "    </tr>\n",
              "  </thead>\n",
              "  <tbody>\n",
              "    <tr>\n",
              "      <th>0</th>\n",
              "      <td>6270596</td>\n",
              "      <td>굳 ㅋ</td>\n",
              "      <td>1</td>\n",
              "    </tr>\n",
              "    <tr>\n",
              "      <th>1</th>\n",
              "      <td>9274899</td>\n",
              "      <td>GDNTOPCLASSINTHECLUB</td>\n",
              "      <td>0</td>\n",
              "    </tr>\n",
              "    <tr>\n",
              "      <th>2</th>\n",
              "      <td>8544678</td>\n",
              "      <td>뭐야 이 평점들은.... 나쁘진 않지만 10점 짜리는 더더욱 아니잖아</td>\n",
              "      <td>0</td>\n",
              "    </tr>\n",
              "    <tr>\n",
              "      <th>3</th>\n",
              "      <td>6825595</td>\n",
              "      <td>지루하지는 않은데 완전 막장임... 돈주고 보기에는....</td>\n",
              "      <td>0</td>\n",
              "    </tr>\n",
              "    <tr>\n",
              "      <th>4</th>\n",
              "      <td>6723715</td>\n",
              "      <td>3D만 아니었어도 별 다섯 개 줬을텐데.. 왜 3D로 나와서 제 심기를 불편하게 하죠??</td>\n",
              "      <td>0</td>\n",
              "    </tr>\n",
              "    <tr>\n",
              "      <th>...</th>\n",
              "      <td>...</td>\n",
              "      <td>...</td>\n",
              "      <td>...</td>\n",
              "    </tr>\n",
              "    <tr>\n",
              "      <th>49995</th>\n",
              "      <td>4608761</td>\n",
              "      <td>오랜만에 평점 로긴했네ㅋㅋ 킹왕짱 쌈뽕한 영화를 만났습니다 강렬하게 육쾌함</td>\n",
              "      <td>1</td>\n",
              "    </tr>\n",
              "    <tr>\n",
              "      <th>49996</th>\n",
              "      <td>5308387</td>\n",
              "      <td>의지 박약들이나 하는거다 탈영은 일단 주인공 김대희 닮았고 이등병 찐따 OOOO</td>\n",
              "      <td>0</td>\n",
              "    </tr>\n",
              "    <tr>\n",
              "      <th>49997</th>\n",
              "      <td>9072549</td>\n",
              "      <td>그림도 좋고 완성도도 높았지만... 보는 내내 불안하게 만든다</td>\n",
              "      <td>0</td>\n",
              "    </tr>\n",
              "    <tr>\n",
              "      <th>49998</th>\n",
              "      <td>5802125</td>\n",
              "      <td>절대 봐서는 안 될 영화.. 재미도 없고 기분만 잡치고.. 한 세트장에서 다 해먹네</td>\n",
              "      <td>0</td>\n",
              "    </tr>\n",
              "    <tr>\n",
              "      <th>49999</th>\n",
              "      <td>6070594</td>\n",
              "      <td>마무리는 또 왜이래</td>\n",
              "      <td>0</td>\n",
              "    </tr>\n",
              "  </tbody>\n",
              "</table>\n",
              "<p>50000 rows × 3 columns</p>\n",
              "</div>"
            ],
            "text/plain": [
              "            id                                           document  label\n",
              "0      6270596                                                굳 ㅋ      1\n",
              "1      9274899                               GDNTOPCLASSINTHECLUB      0\n",
              "2      8544678             뭐야 이 평점들은.... 나쁘진 않지만 10점 짜리는 더더욱 아니잖아      0\n",
              "3      6825595                   지루하지는 않은데 완전 막장임... 돈주고 보기에는....      0\n",
              "4      6723715  3D만 아니었어도 별 다섯 개 줬을텐데.. 왜 3D로 나와서 제 심기를 불편하게 하죠??      0\n",
              "...        ...                                                ...    ...\n",
              "49995  4608761          오랜만에 평점 로긴했네ㅋㅋ 킹왕짱 쌈뽕한 영화를 만났습니다 강렬하게 육쾌함      1\n",
              "49996  5308387       의지 박약들이나 하는거다 탈영은 일단 주인공 김대희 닮았고 이등병 찐따 OOOO      0\n",
              "49997  9072549                 그림도 좋고 완성도도 높았지만... 보는 내내 불안하게 만든다      0\n",
              "49998  5802125     절대 봐서는 안 될 영화.. 재미도 없고 기분만 잡치고.. 한 세트장에서 다 해먹네      0\n",
              "49999  6070594                                         마무리는 또 왜이래      0\n",
              "\n",
              "[50000 rows x 3 columns]"
            ]
          },
          "metadata": {
            "tags": []
          },
          "execution_count": 63
        }
      ]
    },
    {
      "cell_type": "code",
      "metadata": {
        "id": "GjyBwvbZeBKI",
        "colab": {
          "base_uri": "https://localhost:8080/",
          "height": 419
        },
        "outputId": "5154b8fb-7fac-4581-fdc7-dde0bac03f5c"
      },
      "source": [
        "# train null 데이터 제거\n",
        "df_test = df_test.dropna()\n",
        "df_test"
      ],
      "execution_count": null,
      "outputs": [
        {
          "output_type": "execute_result",
          "data": {
            "text/html": [
              "<div>\n",
              "<style scoped>\n",
              "    .dataframe tbody tr th:only-of-type {\n",
              "        vertical-align: middle;\n",
              "    }\n",
              "\n",
              "    .dataframe tbody tr th {\n",
              "        vertical-align: top;\n",
              "    }\n",
              "\n",
              "    .dataframe thead th {\n",
              "        text-align: right;\n",
              "    }\n",
              "</style>\n",
              "<table border=\"1\" class=\"dataframe\">\n",
              "  <thead>\n",
              "    <tr style=\"text-align: right;\">\n",
              "      <th></th>\n",
              "      <th>id</th>\n",
              "      <th>document</th>\n",
              "      <th>label</th>\n",
              "    </tr>\n",
              "  </thead>\n",
              "  <tbody>\n",
              "    <tr>\n",
              "      <th>0</th>\n",
              "      <td>6270596</td>\n",
              "      <td>굳 ㅋ</td>\n",
              "      <td>1</td>\n",
              "    </tr>\n",
              "    <tr>\n",
              "      <th>1</th>\n",
              "      <td>9274899</td>\n",
              "      <td>GDNTOPCLASSINTHECLUB</td>\n",
              "      <td>0</td>\n",
              "    </tr>\n",
              "    <tr>\n",
              "      <th>2</th>\n",
              "      <td>8544678</td>\n",
              "      <td>뭐야 이 평점들은.... 나쁘진 않지만 10점 짜리는 더더욱 아니잖아</td>\n",
              "      <td>0</td>\n",
              "    </tr>\n",
              "    <tr>\n",
              "      <th>3</th>\n",
              "      <td>6825595</td>\n",
              "      <td>지루하지는 않은데 완전 막장임... 돈주고 보기에는....</td>\n",
              "      <td>0</td>\n",
              "    </tr>\n",
              "    <tr>\n",
              "      <th>4</th>\n",
              "      <td>6723715</td>\n",
              "      <td>3D만 아니었어도 별 다섯 개 줬을텐데.. 왜 3D로 나와서 제 심기를 불편하게 하죠??</td>\n",
              "      <td>0</td>\n",
              "    </tr>\n",
              "    <tr>\n",
              "      <th>...</th>\n",
              "      <td>...</td>\n",
              "      <td>...</td>\n",
              "      <td>...</td>\n",
              "    </tr>\n",
              "    <tr>\n",
              "      <th>49995</th>\n",
              "      <td>4608761</td>\n",
              "      <td>오랜만에 평점 로긴했네ㅋㅋ 킹왕짱 쌈뽕한 영화를 만났습니다 강렬하게 육쾌함</td>\n",
              "      <td>1</td>\n",
              "    </tr>\n",
              "    <tr>\n",
              "      <th>49996</th>\n",
              "      <td>5308387</td>\n",
              "      <td>의지 박약들이나 하는거다 탈영은 일단 주인공 김대희 닮았고 이등병 찐따 OOOO</td>\n",
              "      <td>0</td>\n",
              "    </tr>\n",
              "    <tr>\n",
              "      <th>49997</th>\n",
              "      <td>9072549</td>\n",
              "      <td>그림도 좋고 완성도도 높았지만... 보는 내내 불안하게 만든다</td>\n",
              "      <td>0</td>\n",
              "    </tr>\n",
              "    <tr>\n",
              "      <th>49998</th>\n",
              "      <td>5802125</td>\n",
              "      <td>절대 봐서는 안 될 영화.. 재미도 없고 기분만 잡치고.. 한 세트장에서 다 해먹네</td>\n",
              "      <td>0</td>\n",
              "    </tr>\n",
              "    <tr>\n",
              "      <th>49999</th>\n",
              "      <td>6070594</td>\n",
              "      <td>마무리는 또 왜이래</td>\n",
              "      <td>0</td>\n",
              "    </tr>\n",
              "  </tbody>\n",
              "</table>\n",
              "<p>49997 rows × 3 columns</p>\n",
              "</div>"
            ],
            "text/plain": [
              "            id                                           document  label\n",
              "0      6270596                                                굳 ㅋ      1\n",
              "1      9274899                               GDNTOPCLASSINTHECLUB      0\n",
              "2      8544678             뭐야 이 평점들은.... 나쁘진 않지만 10점 짜리는 더더욱 아니잖아      0\n",
              "3      6825595                   지루하지는 않은데 완전 막장임... 돈주고 보기에는....      0\n",
              "4      6723715  3D만 아니었어도 별 다섯 개 줬을텐데.. 왜 3D로 나와서 제 심기를 불편하게 하죠??      0\n",
              "...        ...                                                ...    ...\n",
              "49995  4608761          오랜만에 평점 로긴했네ㅋㅋ 킹왕짱 쌈뽕한 영화를 만났습니다 강렬하게 육쾌함      1\n",
              "49996  5308387       의지 박약들이나 하는거다 탈영은 일단 주인공 김대희 닮았고 이등병 찐따 OOOO      0\n",
              "49997  9072549                 그림도 좋고 완성도도 높았지만... 보는 내내 불안하게 만든다      0\n",
              "49998  5802125     절대 봐서는 안 될 영화.. 재미도 없고 기분만 잡치고.. 한 세트장에서 다 해먹네      0\n",
              "49999  6070594                                         마무리는 또 왜이래      0\n",
              "\n",
              "[49997 rows x 3 columns]"
            ]
          },
          "metadata": {
            "tags": []
          },
          "execution_count": 64
        }
      ]
    },
    {
      "cell_type": "code",
      "metadata": {
        "id": "lAZD9iR6_oO_",
        "colab": {
          "base_uri": "https://localhost:8080/",
          "height": 359
        },
        "outputId": "5ebb514d-ff98-4a90-d5ab-0a406a1c1c7c"
      },
      "source": [
        "# 랜덤하게 10개만 확인\n",
        "df_train = df_train.sample(10)\n",
        "df_train"
      ],
      "execution_count": null,
      "outputs": [
        {
          "output_type": "execute_result",
          "data": {
            "text/html": [
              "<div>\n",
              "<style scoped>\n",
              "    .dataframe tbody tr th:only-of-type {\n",
              "        vertical-align: middle;\n",
              "    }\n",
              "\n",
              "    .dataframe tbody tr th {\n",
              "        vertical-align: top;\n",
              "    }\n",
              "\n",
              "    .dataframe thead th {\n",
              "        text-align: right;\n",
              "    }\n",
              "</style>\n",
              "<table border=\"1\" class=\"dataframe\">\n",
              "  <thead>\n",
              "    <tr style=\"text-align: right;\">\n",
              "      <th></th>\n",
              "      <th>id</th>\n",
              "      <th>document</th>\n",
              "      <th>label</th>\n",
              "    </tr>\n",
              "  </thead>\n",
              "  <tbody>\n",
              "    <tr>\n",
              "      <th>96824</th>\n",
              "      <td>8077320</td>\n",
              "      <td>어제 다시 봤는데 감동적이네요.</td>\n",
              "      <td>1</td>\n",
              "    </tr>\n",
              "    <tr>\n",
              "      <th>414</th>\n",
              "      <td>7538996</td>\n",
              "      <td>최고의영화</td>\n",
              "      <td>1</td>\n",
              "    </tr>\n",
              "    <tr>\n",
              "      <th>136957</th>\n",
              "      <td>8881843</td>\n",
              "      <td>견자단영화 찾으려고 썼더니 이상한게 나오고있어 ㄲㅈ</td>\n",
              "      <td>0</td>\n",
              "    </tr>\n",
              "    <tr>\n",
              "      <th>27464</th>\n",
              "      <td>8495180</td>\n",
              "      <td>그냥 보면서 피식. 뭔가따듯해서좋앗음</td>\n",
              "      <td>1</td>\n",
              "    </tr>\n",
              "    <tr>\n",
              "      <th>35499</th>\n",
              "      <td>10125017</td>\n",
              "      <td>몇몇 씬들은 정말 인상적이었다</td>\n",
              "      <td>1</td>\n",
              "    </tr>\n",
              "    <tr>\n",
              "      <th>29677</th>\n",
              "      <td>120624</td>\n",
              "      <td>유치하죠..</td>\n",
              "      <td>0</td>\n",
              "    </tr>\n",
              "    <tr>\n",
              "      <th>76034</th>\n",
              "      <td>8551408</td>\n",
              "      <td>아까운 내 시간....</td>\n",
              "      <td>0</td>\n",
              "    </tr>\n",
              "    <tr>\n",
              "      <th>6716</th>\n",
              "      <td>6624395</td>\n",
              "      <td>오글오글 개허세 허세도이런 허세가없네 보는내내 오글거리고 막장이고 똥멋든 깡패의 사...</td>\n",
              "      <td>0</td>\n",
              "    </tr>\n",
              "    <tr>\n",
              "      <th>142414</th>\n",
              "      <td>363915</td>\n",
              "      <td>.</td>\n",
              "      <td>0</td>\n",
              "    </tr>\n",
              "    <tr>\n",
              "      <th>46023</th>\n",
              "      <td>10253023</td>\n",
              "      <td>영화인 듯 영화 아닌 영화 같은 관객과 썸 타는 오늘 영화!</td>\n",
              "      <td>1</td>\n",
              "    </tr>\n",
              "  </tbody>\n",
              "</table>\n",
              "</div>"
            ],
            "text/plain": [
              "              id                                           document  label\n",
              "96824    8077320                                  어제 다시 봤는데 감동적이네요.      1\n",
              "414      7538996                                              최고의영화      1\n",
              "136957   8881843                       견자단영화 찾으려고 썼더니 이상한게 나오고있어 ㄲㅈ      0\n",
              "27464    8495180                               그냥 보면서 피식. 뭔가따듯해서좋앗음      1\n",
              "35499   10125017                                   몇몇 씬들은 정말 인상적이었다      1\n",
              "29677     120624                                             유치하죠..      0\n",
              "76034    8551408                                       아까운 내 시간....      0\n",
              "6716     6624395  오글오글 개허세 허세도이런 허세가없네 보는내내 오글거리고 막장이고 똥멋든 깡패의 사...      0\n",
              "142414    363915                                                  .      0\n",
              "46023   10253023                  영화인 듯 영화 아닌 영화 같은 관객과 썸 타는 오늘 영화!      1"
            ]
          },
          "metadata": {
            "tags": []
          },
          "execution_count": 65
        }
      ]
    },
    {
      "cell_type": "code",
      "metadata": {
        "id": "SxUEnWqP_9UG",
        "colab": {
          "base_uri": "https://localhost:8080/",
          "height": 359
        },
        "outputId": "4999c3a1-9b5a-4a9e-cfe6-8098d183539e"
      },
      "source": [
        "# 랜덤하게 10개만 확인\n",
        "df_test = df_test.sample(10)\n",
        "df_test"
      ],
      "execution_count": null,
      "outputs": [
        {
          "output_type": "execute_result",
          "data": {
            "text/html": [
              "<div>\n",
              "<style scoped>\n",
              "    .dataframe tbody tr th:only-of-type {\n",
              "        vertical-align: middle;\n",
              "    }\n",
              "\n",
              "    .dataframe tbody tr th {\n",
              "        vertical-align: top;\n",
              "    }\n",
              "\n",
              "    .dataframe thead th {\n",
              "        text-align: right;\n",
              "    }\n",
              "</style>\n",
              "<table border=\"1\" class=\"dataframe\">\n",
              "  <thead>\n",
              "    <tr style=\"text-align: right;\">\n",
              "      <th></th>\n",
              "      <th>id</th>\n",
              "      <th>document</th>\n",
              "      <th>label</th>\n",
              "    </tr>\n",
              "  </thead>\n",
              "  <tbody>\n",
              "    <tr>\n",
              "      <th>5964</th>\n",
              "      <td>6038478</td>\n",
              "      <td>역시 빠순이의 점수 대단해</td>\n",
              "      <td>0</td>\n",
              "    </tr>\n",
              "    <tr>\n",
              "      <th>2034</th>\n",
              "      <td>10132923</td>\n",
              "      <td>어른도 재미있는영화^^ 보고 있으니 요괴들이 귀여워져요~</td>\n",
              "      <td>1</td>\n",
              "    </tr>\n",
              "    <tr>\n",
              "      <th>5716</th>\n",
              "      <td>10213468</td>\n",
              "      <td>우리나라 참 까는거 좋아해요 공인답게, 그 동생은 진실규명 똑바로 해야하는 건 맞는...</td>\n",
              "      <td>1</td>\n",
              "    </tr>\n",
              "    <tr>\n",
              "      <th>11621</th>\n",
              "      <td>5205062</td>\n",
              "      <td>댄의 리얼 라이프는 찌질찌질찌질찌질</td>\n",
              "      <td>0</td>\n",
              "    </tr>\n",
              "    <tr>\n",
              "      <th>31633</th>\n",
              "      <td>8154331</td>\n",
              "      <td>19금이 왜케 유치해?성인들을 물로보나ㅋ 마지막 장면 개민폐 어쩔 ㅋ걍 짜증만 난다...</td>\n",
              "      <td>0</td>\n",
              "    </tr>\n",
              "    <tr>\n",
              "      <th>11315</th>\n",
              "      <td>9560834</td>\n",
              "      <td>천옌시 귀요미 ㅋㅋ 예압</td>\n",
              "      <td>1</td>\n",
              "    </tr>\n",
              "    <tr>\n",
              "      <th>45316</th>\n",
              "      <td>10005582</td>\n",
              "      <td>이래서 내가 우리나라 영화를 잘 안보는건지도... 발전이 없잖아.. 발전이...</td>\n",
              "      <td>0</td>\n",
              "    </tr>\n",
              "    <tr>\n",
              "      <th>37152</th>\n",
              "      <td>8937433</td>\n",
              "      <td>아프간 선교 좋아하네 풉^…^</td>\n",
              "      <td>0</td>\n",
              "    </tr>\n",
              "    <tr>\n",
              "      <th>8015</th>\n",
              "      <td>8845171</td>\n",
              "      <td>시간이 지나도 ..지나도그때의 그 마음을 잊을수 없는 그런 ...영화</td>\n",
              "      <td>1</td>\n",
              "    </tr>\n",
              "    <tr>\n",
              "      <th>28244</th>\n",
              "      <td>6189666</td>\n",
              "      <td>방어율 낮춰 드릴께요.</td>\n",
              "      <td>0</td>\n",
              "    </tr>\n",
              "  </tbody>\n",
              "</table>\n",
              "</div>"
            ],
            "text/plain": [
              "             id                                           document  label\n",
              "5964    6038478                                     역시 빠순이의 점수 대단해      0\n",
              "2034   10132923                    어른도 재미있는영화^^ 보고 있으니 요괴들이 귀여워져요~      1\n",
              "5716   10213468  우리나라 참 까는거 좋아해요 공인답게, 그 동생은 진실규명 똑바로 해야하는 건 맞는...      1\n",
              "11621   5205062                                댄의 리얼 라이프는 찌질찌질찌질찌질      0\n",
              "31633   8154331  19금이 왜케 유치해?성인들을 물로보나ㅋ 마지막 장면 개민폐 어쩔 ㅋ걍 짜증만 난다...      0\n",
              "11315   9560834                                      천옌시 귀요미 ㅋㅋ 예압      1\n",
              "45316  10005582       이래서 내가 우리나라 영화를 잘 안보는건지도... 발전이 없잖아.. 발전이...      0\n",
              "37152   8937433                                   아프간 선교 좋아하네 풉^…^      0\n",
              "8015    8845171             시간이 지나도 ..지나도그때의 그 마음을 잊을수 없는 그런 ...영화      1\n",
              "28244   6189666                                       방어율 낮춰 드릴께요.      0"
            ]
          },
          "metadata": {
            "tags": []
          },
          "execution_count": 66
        }
      ]
    },
    {
      "cell_type": "code",
      "metadata": {
        "id": "pkzwlvcVS1cj"
      },
      "source": [
        "def load_data(df, n_seq):\n",
        "    \"\"\"\n",
        "    NSMC 학습 데이터 생성\n",
        "    :param df: data frame\n",
        "    :param n_seq: number of sequence\n",
        "    :return inputs: input data\n",
        "    :return labels: label data\n",
        "    \"\"\"\n",
        "    inputs = np.zeros((len(df), n_seq)).astype(np.int32)\n",
        "    labels = np.zeros((len(df),))\n",
        "    index = 0\n",
        "    for i, row in tqdm(df.iterrows(), total=len(df)):\n",
        "        # tokens 저장\n",
        "        ######################################\n",
        "        print()\n",
        "        label =row['label']\n",
        "        document = row['document']\n",
        "        print(label,document)\n",
        "\n",
        "        tokens = vocab.encode_as_pieces(document)\n",
        "        print(len(tokens), ':', tokens)\n",
        "\n",
        "        token_ids =vocab.encode_as_ids(document)\n",
        "        print(len(token_ids),':', token_ids)\n",
        "\n",
        "        token_ids = token_ids[:n_seq] #긴건짤라주기\n",
        "        print(len(token_ids), ':',token_ids)\n",
        "\n",
        "        token_ids += [0]* (n_seq - len(token_ids)) #ㅈ랍은건 pad 추가\n",
        "        print(len(token_ids), ':', token_ids)\n",
        "\n",
        "        #값저장\n",
        "        labels[index] = label\n",
        "        inputs[index] = token_ids\n",
        "        index+=1\n",
        "    ##실제 test에서는 print는 다지워줘야함!! 지금은 10개데이터만사용하므로 ㄱㅊ한거지만 나중에는안됨!!\n",
        "        ######################################\n",
        "    return inputs, labels"
      ],
      "execution_count": null,
      "outputs": []
    },
    {
      "cell_type": "code",
      "metadata": {
        "id": "bfEwG-jgS4aN"
      },
      "source": [
        "# train data 생성\n",
        "train_inputs, train_labels = load_data(df_train, n_seq)\n",
        "train_inputs, train_labels"
      ],
      "execution_count": null,
      "outputs": []
    },
    {
      "cell_type": "code",
      "metadata": {
        "id": "Ou45grDSS60t"
      },
      "source": [
        "# test data 생성\n",
        "test_inputs, test_labels = load_data(df_test, n_seq)\n",
        "test_inputs, test_labels"
      ],
      "execution_count": null,
      "outputs": []
    },
    {
      "cell_type": "markdown",
      "metadata": {
        "id": "IFTsdA3kE2h-"
      },
      "source": [
        "## 학습"
      ]
    },
    {
      "cell_type": "code",
      "metadata": {
        "id": "6DP4LJwUe7Uk",
        "colab": {
          "base_uri": "https://localhost:8080/",
          "height": 422
        },
        "outputId": "ab8c0fd7-72d7-4251-d9f7-8875b9401a57"
      },
      "source": [
        "# 모델 생성\n",
        "model = build_model(len(vocab), d_model, n_seq, n_out)\n",
        "#( ?, 47,2)\n",
        "# 모델 내용 그래프 출력\n",
        "tf.keras.utils.plot_model(model, 'model.png', show_shapes=True)"
      ],
      "execution_count": null,
      "outputs": [
        {
          "output_type": "execute_result",
          "data": {
            "image/png": "[encoded data removed]",
            "text/plain": [
              "<IPython.core.display.Image object>"
            ]
          },
          "metadata": {
            "tags": []
          },
          "execution_count": 101
        }
      ]
    },
    {
      "cell_type": "code",
      "metadata": {
        "id": "X7UDvaPqEx1c"
      },
      "source": [
        "# 모델 loss, optimizer, metric 정의\n",
        "model.compile(loss='sparse_categorical_crossentropy', optimizer='adam', metrics=['accuracy']) #word2Vec에서 배웟듯이 crossentropy를 씀!!"
      ],
      "execution_count": null,
      "outputs": []
    },
    {
      "cell_type": "code",
      "metadata": {
        "id": "MSyF0MvAFGoJ",
        "colab": {
          "base_uri": "https://localhost:8080/"
        },
        "outputId": "bfadec16-2d66-4aee-9b25-e2e25eb40716"
      },
      "source": [
        "# 모델 학습\n",
        "history = model.fit(train_inputs, train_labels,\n",
        "                    validation_data=(test_inputs, test_labels),\n",
        "                    epochs=100, #100번해라\n",
        "                    batch_size=4) #한번에 "
      ],
      "execution_count": null,
      "outputs": [
        {
          "output_type": "stream",
          "text": [
            "Epoch 1/100\n",
            "3/3 [==============================] - 1s 176ms/step - loss: 0.6936 - accuracy: 0.4500 - val_loss: 0.6879 - val_accuracy: 0.6000\n",
            "Epoch 2/100\n",
            "3/3 [==============================] - 0s 117ms/step - loss: 0.6783 - accuracy: 0.6312 - val_loss: 0.6883 - val_accuracy: 0.6000\n",
            "Epoch 3/100\n",
            "3/3 [==============================] - 0s 90ms/step - loss: 0.6517 - accuracy: 1.0000 - val_loss: 0.6869 - val_accuracy: 0.6000\n",
            "Epoch 4/100\n",
            "3/3 [==============================] - 0s 90ms/step - loss: 0.6433 - accuracy: 1.0000 - val_loss: 0.6865 - val_accuracy: 0.6000\n",
            "Epoch 5/100\n",
            "3/3 [==============================] - 0s 88ms/step - loss: 0.6231 - accuracy: 1.0000 - val_loss: 0.6856 - val_accuracy: 0.7000\n",
            "Epoch 6/100\n",
            "3/3 [==============================] - 0s 89ms/step - loss: 0.6070 - accuracy: 1.0000 - val_loss: 0.6840 - val_accuracy: 0.7000\n",
            "Epoch 7/100\n",
            "3/3 [==============================] - 0s 90ms/step - loss: 0.5924 - accuracy: 1.0000 - val_loss: 0.6821 - val_accuracy: 0.7000\n",
            "Epoch 8/100\n",
            "3/3 [==============================] - 0s 93ms/step - loss: 0.5735 - accuracy: 1.0000 - val_loss: 0.6798 - val_accuracy: 0.7000\n",
            "Epoch 9/100\n",
            "3/3 [==============================] - 0s 90ms/step - loss: 0.5567 - accuracy: 1.0000 - val_loss: 0.6776 - val_accuracy: 0.7000\n",
            "Epoch 10/100\n",
            "3/3 [==============================] - 0s 170ms/step - loss: 0.5488 - accuracy: 1.0000 - val_loss: 0.6762 - val_accuracy: 0.8000\n",
            "Epoch 11/100\n",
            "3/3 [==============================] - 0s 92ms/step - loss: 0.5248 - accuracy: 1.0000 - val_loss: 0.6747 - val_accuracy: 0.7000\n",
            "Epoch 12/100\n",
            "3/3 [==============================] - 0s 93ms/step - loss: 0.5050 - accuracy: 1.0000 - val_loss: 0.6725 - val_accuracy: 0.7000\n",
            "Epoch 13/100\n",
            "3/3 [==============================] - 0s 89ms/step - loss: 0.4968 - accuracy: 1.0000 - val_loss: 0.6708 - val_accuracy: 0.7000\n",
            "Epoch 14/100\n",
            "3/3 [==============================] - 0s 90ms/step - loss: 0.4755 - accuracy: 1.0000 - val_loss: 0.6687 - val_accuracy: 0.7000\n",
            "Epoch 15/100\n",
            "3/3 [==============================] - 0s 88ms/step - loss: 0.4564 - accuracy: 1.0000 - val_loss: 0.6674 - val_accuracy: 0.7000\n",
            "Epoch 16/100\n",
            "3/3 [==============================] - 0s 92ms/step - loss: 0.4484 - accuracy: 1.0000 - val_loss: 0.6658 - val_accuracy: 0.8000\n",
            "Epoch 17/100\n",
            "3/3 [==============================] - 0s 90ms/step - loss: 0.4306 - accuracy: 1.0000 - val_loss: 0.6640 - val_accuracy: 0.8000\n",
            "Epoch 18/100\n",
            "3/3 [==============================] - 0s 90ms/step - loss: 0.4100 - accuracy: 1.0000 - val_loss: 0.6626 - val_accuracy: 0.7000\n",
            "Epoch 19/100\n",
            "3/3 [==============================] - 0s 91ms/step - loss: 0.3974 - accuracy: 1.0000 - val_loss: 0.6607 - val_accuracy: 0.7000\n",
            "Epoch 20/100\n",
            "3/3 [==============================] - 0s 92ms/step - loss: 0.3756 - accuracy: 1.0000 - val_loss: 0.6586 - val_accuracy: 0.7000\n",
            "Epoch 21/100\n",
            "3/3 [==============================] - 0s 90ms/step - loss: 0.3599 - accuracy: 1.0000 - val_loss: 0.6562 - val_accuracy: 0.7000\n",
            "Epoch 22/100\n",
            "3/3 [==============================] - 0s 88ms/step - loss: 0.3297 - accuracy: 1.0000 - val_loss: 0.6538 - val_accuracy: 0.7000\n",
            "Epoch 23/100\n",
            "3/3 [==============================] - 0s 90ms/step - loss: 0.3208 - accuracy: 1.0000 - val_loss: 0.6510 - val_accuracy: 0.7000\n",
            "Epoch 24/100\n",
            "3/3 [==============================] - 0s 93ms/step - loss: 0.3082 - accuracy: 1.0000 - val_loss: 0.6486 - val_accuracy: 0.7000\n",
            "Epoch 25/100\n",
            "3/3 [==============================] - 0s 90ms/step - loss: 0.2932 - accuracy: 1.0000 - val_loss: 0.6469 - val_accuracy: 0.6000\n",
            "Epoch 26/100\n",
            "3/3 [==============================] - 0s 91ms/step - loss: 0.2819 - accuracy: 1.0000 - val_loss: 0.6443 - val_accuracy: 0.6000\n",
            "Epoch 27/100\n",
            "3/3 [==============================] - 0s 89ms/step - loss: 0.2677 - accuracy: 1.0000 - val_loss: 0.6416 - val_accuracy: 0.6000\n",
            "Epoch 28/100\n",
            "3/3 [==============================] - 0s 91ms/step - loss: 0.2413 - accuracy: 1.0000 - val_loss: 0.6394 - val_accuracy: 0.6000\n",
            "Epoch 29/100\n",
            "3/3 [==============================] - 0s 92ms/step - loss: 0.2265 - accuracy: 1.0000 - val_loss: 0.6377 - val_accuracy: 0.6000\n",
            "Epoch 30/100\n",
            "3/3 [==============================] - 0s 89ms/step - loss: 0.2091 - accuracy: 1.0000 - val_loss: 0.6355 - val_accuracy: 0.6000\n",
            "Epoch 31/100\n",
            "3/3 [==============================] - 0s 92ms/step - loss: 0.2120 - accuracy: 1.0000 - val_loss: 0.6328 - val_accuracy: 0.6000\n",
            "Epoch 32/100\n",
            "3/3 [==============================] - 0s 91ms/step - loss: 0.1903 - accuracy: 1.0000 - val_loss: 0.6306 - val_accuracy: 0.6000\n",
            "Epoch 33/100\n",
            "3/3 [==============================] - 0s 92ms/step - loss: 0.1908 - accuracy: 1.0000 - val_loss: 0.6279 - val_accuracy: 0.6000\n",
            "Epoch 34/100\n",
            "3/3 [==============================] - 0s 91ms/step - loss: 0.1675 - accuracy: 1.0000 - val_loss: 0.6249 - val_accuracy: 0.6000\n",
            "Epoch 35/100\n",
            "3/3 [==============================] - 0s 93ms/step - loss: 0.1623 - accuracy: 1.0000 - val_loss: 0.6219 - val_accuracy: 0.6000\n",
            "Epoch 36/100\n",
            "3/3 [==============================] - 0s 90ms/step - loss: 0.1466 - accuracy: 1.0000 - val_loss: 0.6190 - val_accuracy: 0.6000\n",
            "Epoch 37/100\n",
            "3/3 [==============================] - 0s 91ms/step - loss: 0.1378 - accuracy: 1.0000 - val_loss: 0.6163 - val_accuracy: 0.6000\n",
            "Epoch 38/100\n",
            "3/3 [==============================] - 0s 93ms/step - loss: 0.1394 - accuracy: 1.0000 - val_loss: 0.6137 - val_accuracy: 0.7000\n",
            "Epoch 39/100\n",
            "3/3 [==============================] - 0s 96ms/step - loss: 0.1353 - accuracy: 1.0000 - val_loss: 0.6108 - val_accuracy: 0.7000\n",
            "Epoch 40/100\n",
            "3/3 [==============================] - 0s 90ms/step - loss: 0.1240 - accuracy: 1.0000 - val_loss: 0.6082 - val_accuracy: 0.7000\n",
            "Epoch 41/100\n",
            "3/3 [==============================] - 0s 92ms/step - loss: 0.1031 - accuracy: 1.0000 - val_loss: 0.6058 - val_accuracy: 0.7000\n",
            "Epoch 42/100\n",
            "3/3 [==============================] - 0s 90ms/step - loss: 0.1131 - accuracy: 1.0000 - val_loss: 0.6035 - val_accuracy: 0.7000\n",
            "Epoch 43/100\n",
            "3/3 [==============================] - 0s 95ms/step - loss: 0.0944 - accuracy: 1.0000 - val_loss: 0.6015 - val_accuracy: 0.7000\n",
            "Epoch 44/100\n",
            "3/3 [==============================] - 0s 93ms/step - loss: 0.0981 - accuracy: 1.0000 - val_loss: 0.5995 - val_accuracy: 0.7000\n",
            "Epoch 45/100\n",
            "3/3 [==============================] - 0s 92ms/step - loss: 0.0807 - accuracy: 1.0000 - val_loss: 0.5975 - val_accuracy: 0.7000\n",
            "Epoch 46/100\n",
            "3/3 [==============================] - 0s 90ms/step - loss: 0.0799 - accuracy: 1.0000 - val_loss: 0.5953 - val_accuracy: 0.7000\n",
            "Epoch 47/100\n",
            "3/3 [==============================] - 0s 93ms/step - loss: 0.0764 - accuracy: 1.0000 - val_loss: 0.5932 - val_accuracy: 0.7000\n",
            "Epoch 48/100\n",
            "3/3 [==============================] - 0s 95ms/step - loss: 0.0738 - accuracy: 1.0000 - val_loss: 0.5911 - val_accuracy: 0.7000\n",
            "Epoch 49/100\n",
            "3/3 [==============================] - 0s 92ms/step - loss: 0.0701 - accuracy: 1.0000 - val_loss: 0.5890 - val_accuracy: 0.7000\n",
            "Epoch 50/100\n",
            "3/3 [==============================] - 0s 91ms/step - loss: 0.0713 - accuracy: 1.0000 - val_loss: 0.5870 - val_accuracy: 0.7000\n",
            "Epoch 51/100\n",
            "3/3 [==============================] - 0s 92ms/step - loss: 0.0624 - accuracy: 1.0000 - val_loss: 0.5852 - val_accuracy: 0.7000\n",
            "Epoch 52/100\n",
            "3/3 [==============================] - 0s 89ms/step - loss: 0.0577 - accuracy: 1.0000 - val_loss: 0.5837 - val_accuracy: 0.7000\n",
            "Epoch 53/100\n",
            "3/3 [==============================] - 0s 91ms/step - loss: 0.0590 - accuracy: 1.0000 - val_loss: 0.5821 - val_accuracy: 0.7000\n",
            "Epoch 54/100\n",
            "3/3 [==============================] - 0s 90ms/step - loss: 0.0578 - accuracy: 1.0000 - val_loss: 0.5808 - val_accuracy: 0.7000\n",
            "Epoch 55/100\n",
            "3/3 [==============================] - 0s 92ms/step - loss: 0.0555 - accuracy: 1.0000 - val_loss: 0.5795 - val_accuracy: 0.7000\n",
            "Epoch 56/100\n",
            "3/3 [==============================] - 0s 144ms/step - loss: 0.0530 - accuracy: 1.0000 - val_loss: 0.5782 - val_accuracy: 0.7000\n",
            "Epoch 57/100\n",
            "3/3 [==============================] - 0s 90ms/step - loss: 0.0498 - accuracy: 1.0000 - val_loss: 0.5769 - val_accuracy: 0.7000\n",
            "Epoch 58/100\n",
            "3/3 [==============================] - 0s 91ms/step - loss: 0.0481 - accuracy: 1.0000 - val_loss: 0.5759 - val_accuracy: 0.7000\n",
            "Epoch 59/100\n",
            "3/3 [==============================] - 0s 90ms/step - loss: 0.0430 - accuracy: 1.0000 - val_loss: 0.5748 - val_accuracy: 0.7000\n",
            "Epoch 60/100\n",
            "3/3 [==============================] - 0s 89ms/step - loss: 0.0399 - accuracy: 1.0000 - val_loss: 0.5734 - val_accuracy: 0.7000\n",
            "Epoch 61/100\n",
            "3/3 [==============================] - 0s 90ms/step - loss: 0.0445 - accuracy: 1.0000 - val_loss: 0.5722 - val_accuracy: 0.7000\n",
            "Epoch 62/100\n",
            "3/3 [==============================] - 0s 96ms/step - loss: 0.0369 - accuracy: 1.0000 - val_loss: 0.5710 - val_accuracy: 0.7000\n",
            "Epoch 63/100\n",
            "3/3 [==============================] - 0s 94ms/step - loss: 0.0382 - accuracy: 1.0000 - val_loss: 0.5698 - val_accuracy: 0.7000\n",
            "Epoch 64/100\n",
            "3/3 [==============================] - 0s 96ms/step - loss: 0.0312 - accuracy: 1.0000 - val_loss: 0.5685 - val_accuracy: 0.7000\n",
            "Epoch 65/100\n",
            "3/3 [==============================] - 0s 89ms/step - loss: 0.0311 - accuracy: 1.0000 - val_loss: 0.5673 - val_accuracy: 0.7000\n",
            "Epoch 66/100\n",
            "3/3 [==============================] - 0s 93ms/step - loss: 0.0347 - accuracy: 1.0000 - val_loss: 0.5661 - val_accuracy: 0.7000\n",
            "Epoch 67/100\n",
            "3/3 [==============================] - 0s 90ms/step - loss: 0.0310 - accuracy: 1.0000 - val_loss: 0.5649 - val_accuracy: 0.7000\n",
            "Epoch 68/100\n",
            "3/3 [==============================] - 0s 97ms/step - loss: 0.0326 - accuracy: 1.0000 - val_loss: 0.5638 - val_accuracy: 0.7000\n",
            "Epoch 69/100\n",
            "3/3 [==============================] - 0s 92ms/step - loss: 0.0279 - accuracy: 1.0000 - val_loss: 0.5628 - val_accuracy: 0.7000\n",
            "Epoch 70/100\n",
            "3/3 [==============================] - 0s 94ms/step - loss: 0.0260 - accuracy: 1.0000 - val_loss: 0.5619 - val_accuracy: 0.7000\n",
            "Epoch 71/100\n",
            "3/3 [==============================] - 0s 90ms/step - loss: 0.0263 - accuracy: 1.0000 - val_loss: 0.5611 - val_accuracy: 0.7000\n",
            "Epoch 72/100\n",
            "3/3 [==============================] - 0s 92ms/step - loss: 0.0232 - accuracy: 1.0000 - val_loss: 0.5601 - val_accuracy: 0.7000\n",
            "Epoch 73/100\n",
            "3/3 [==============================] - 0s 92ms/step - loss: 0.0272 - accuracy: 1.0000 - val_loss: 0.5592 - val_accuracy: 0.7000\n",
            "Epoch 74/100\n",
            "3/3 [==============================] - 0s 93ms/step - loss: 0.0251 - accuracy: 1.0000 - val_loss: 0.5583 - val_accuracy: 0.7000\n",
            "Epoch 75/100\n",
            "3/3 [==============================] - 0s 88ms/step - loss: 0.0241 - accuracy: 1.0000 - val_loss: 0.5574 - val_accuracy: 0.7000\n",
            "Epoch 76/100\n",
            "3/3 [==============================] - 0s 94ms/step - loss: 0.0249 - accuracy: 1.0000 - val_loss: 0.5566 - val_accuracy: 0.7000\n",
            "Epoch 77/100\n",
            "3/3 [==============================] - 0s 92ms/step - loss: 0.0228 - accuracy: 1.0000 - val_loss: 0.5558 - val_accuracy: 0.7000\n",
            "Epoch 78/100\n",
            "3/3 [==============================] - 0s 97ms/step - loss: 0.0215 - accuracy: 1.0000 - val_loss: 0.5551 - val_accuracy: 0.7000\n",
            "Epoch 79/100\n",
            "3/3 [==============================] - 0s 91ms/step - loss: 0.0189 - accuracy: 1.0000 - val_loss: 0.5544 - val_accuracy: 0.7000\n",
            "Epoch 80/100\n",
            "3/3 [==============================] - 0s 94ms/step - loss: 0.0215 - accuracy: 1.0000 - val_loss: 0.5538 - val_accuracy: 0.7000\n",
            "Epoch 81/100\n",
            "3/3 [==============================] - 0s 95ms/step - loss: 0.0181 - accuracy: 1.0000 - val_loss: 0.5533 - val_accuracy: 0.7000\n",
            "Epoch 82/100\n",
            "3/3 [==============================] - 0s 96ms/step - loss: 0.0199 - accuracy: 1.0000 - val_loss: 0.5527 - val_accuracy: 0.7000\n",
            "Epoch 83/100\n",
            "3/3 [==============================] - 0s 94ms/step - loss: 0.0167 - accuracy: 1.0000 - val_loss: 0.5521 - val_accuracy: 0.7000\n",
            "Epoch 84/100\n",
            "3/3 [==============================] - 0s 95ms/step - loss: 0.0187 - accuracy: 1.0000 - val_loss: 0.5515 - val_accuracy: 0.7000\n",
            "Epoch 85/100\n",
            "3/3 [==============================] - 0s 89ms/step - loss: 0.0168 - accuracy: 1.0000 - val_loss: 0.5509 - val_accuracy: 0.7000\n",
            "Epoch 86/100\n",
            "3/3 [==============================] - 0s 88ms/step - loss: 0.0156 - accuracy: 1.0000 - val_loss: 0.5503 - val_accuracy: 0.7000\n",
            "Epoch 87/100\n",
            "3/3 [==============================] - 0s 94ms/step - loss: 0.0178 - accuracy: 1.0000 - val_loss: 0.5498 - val_accuracy: 0.7000\n",
            "Epoch 88/100\n",
            "3/3 [==============================] - 0s 88ms/step - loss: 0.0170 - accuracy: 1.0000 - val_loss: 0.5492 - val_accuracy: 0.7000\n",
            "Epoch 89/100\n",
            "3/3 [==============================] - 0s 88ms/step - loss: 0.0158 - accuracy: 1.0000 - val_loss: 0.5487 - val_accuracy: 0.7000\n",
            "Epoch 90/100\n",
            "3/3 [==============================] - 0s 89ms/step - loss: 0.0164 - accuracy: 1.0000 - val_loss: 0.5483 - val_accuracy: 0.7000\n",
            "Epoch 91/100\n",
            "3/3 [==============================] - 0s 92ms/step - loss: 0.0151 - accuracy: 1.0000 - val_loss: 0.5478 - val_accuracy: 0.7000\n",
            "Epoch 92/100\n",
            "3/3 [==============================] - 0s 91ms/step - loss: 0.0151 - accuracy: 1.0000 - val_loss: 0.5473 - val_accuracy: 0.7000\n",
            "Epoch 93/100\n",
            "3/3 [==============================] - 0s 98ms/step - loss: 0.0142 - accuracy: 1.0000 - val_loss: 0.5469 - val_accuracy: 0.7000\n",
            "Epoch 94/100\n",
            "3/3 [==============================] - 0s 98ms/step - loss: 0.0144 - accuracy: 1.0000 - val_loss: 0.5465 - val_accuracy: 0.7000\n",
            "Epoch 95/100\n",
            "3/3 [==============================] - 0s 91ms/step - loss: 0.0129 - accuracy: 1.0000 - val_loss: 0.5460 - val_accuracy: 0.7000\n",
            "Epoch 96/100\n",
            "3/3 [==============================] - 0s 90ms/step - loss: 0.0124 - accuracy: 1.0000 - val_loss: 0.5455 - val_accuracy: 0.7000\n",
            "Epoch 97/100\n",
            "3/3 [==============================] - 0s 94ms/step - loss: 0.0135 - accuracy: 1.0000 - val_loss: 0.5451 - val_accuracy: 0.7000\n",
            "Epoch 98/100\n",
            "3/3 [==============================] - 0s 88ms/step - loss: 0.0121 - accuracy: 1.0000 - val_loss: 0.5447 - val_accuracy: 0.7000\n",
            "Epoch 99/100\n",
            "3/3 [==============================] - 0s 89ms/step - loss: 0.0128 - accuracy: 1.0000 - val_loss: 0.5442 - val_accuracy: 0.7000\n",
            "Epoch 100/100\n",
            "3/3 [==============================] - 0s 89ms/step - loss: 0.0129 - accuracy: 1.0000 - val_loss: 0.5438 - val_accuracy: 0.7000\n"
          ],
          "name": "stdout"
        }
      ]
    },
    {
      "cell_type": "code",
      "metadata": {
        "id": "m1UWJMf4FTiZ",
        "colab": {
          "base_uri": "https://localhost:8080/",
          "height": 279
        },
        "outputId": "9e78edca-898c-4e83-bd44-4a4d724b217e"
      },
      "source": [
        "plt.figure(figsize=(12, 4))\n",
        "\n",
        "plt.subplot(1, 2, 1)\n",
        "plt.plot(history.history['loss'], 'b-', label='loss')\n",
        "plt.plot(history.history['val_loss'], 'r--', label='val_loss')\n",
        "plt.xlabel('Epoch')\n",
        "plt.legend()\n",
        "\n",
        "plt.subplot(1, 2, 2)\n",
        "plt.plot(history.history['accuracy'], 'g-', label='acc')\n",
        "plt.plot(history.history['val_accuracy'], 'k--', label='val_acc')\n",
        "plt.xlabel('Epoch')\n",
        "plt.legend()\n",
        "\n",
        "plt.show()"
      ],
      "execution_count": null,
      "outputs": [
        {
          "output_type": "display_data",
          "data": {
            "image/png": "[encoded data removed]",
            "text/plain": [
              "<Figure size 864x288 with 2 Axes>"
            ]
          },
          "metadata": {
            "tags": [],
            "needs_background": "light"
          }
        }
      ]
    },
    {
      "cell_type": "code",
      "metadata": {
        "id": "UBxU0M64O4IB"
      },
      "source": [
        "#overfitting : parameter을 많이 쌓으면 weight를 깊게쌓으면 --> 너무많은 데이터로인해 모든 데이터에 맞추려다보니 이상해질수있음!"
      ],
      "execution_count": null,
      "outputs": []
    },
    {
      "cell_type": "markdown",
      "metadata": {
        "id": "rrhMcv0FZhbi"
      },
      "source": [
        "## 학습 2"
      ]
    },
    {
      "cell_type": "code",
      "metadata": {
        "id": "r1dCJdATG-Hc",
        "colab": {
          "base_uri": "https://localhost:8080/",
          "height": 422
        },
        "outputId": "123628ab-888d-41fb-9863-ababbf989847"
      },
      "source": [
        "# 모델 생성\n",
        "model = build_model(len(vocab), d_model, n_seq, n_out)\n",
        "# 모델 내용 그래프 출력\n",
        "tf.keras.utils.plot_model(model, 'model.png', show_shapes=True)"
      ],
      "execution_count": null,
      "outputs": [
        {
          "output_type": "execute_result",
          "data": {
            "image/png": "[encoded data removed]",
            "text/plain": [
              "<IPython.core.display.Image object>"
            ]
          },
          "metadata": {
            "tags": []
          },
          "execution_count": 105
        }
      ]
    },
    {
      "cell_type": "code",
      "metadata": {
        "id": "oh87DPXoZhbi"
      },
      "source": [
        "# 모델 loss, optimizer, metric 정의\n",
        "model.compile(loss='sparse_categorical_crossentropy', optimizer='adam', metrics=['accuracy'])"
      ],
      "execution_count": null,
      "outputs": []
    },
    {
      "cell_type": "code",
      "metadata": {
        "id": "7kvUzLAvHAxb"
      },
      "source": [
        "# early stopping\n",
        "early_stopping = tf.keras.callbacks.EarlyStopping(monitor='val_accuracy', patience=20) #보통 5로씀/ 20번은 많음! 우리는 10data만 사용하니깐 이렇게하는것! ===> 20번정도 반복하면 멈춰라!\n",
        "#학습끝나고쓸려면 weight를 저장해야함 --> checkpoint라고함!\n",
        "# save weights callback\n",
        "save_weights = tf.keras.callbacks.ModelCheckpoint(os.path.join(nsmc_dir, 'stub.hdf5'), #stub : 껍데기 == 단어vector*Maxpooling만 한상태니깐!\n",
        "                                                  monitor='val_accuracy', #측정방법\n",
        "                                                  verbose=1,\n",
        "                                                  save_best_only=True, #좋은것만 저장을 해라\n",
        "                                                  mode=\"max\",\n",
        "                                                  save_freq=\"epoch\", #얼마나자주\n",
        "                                                  save_weights_only=True) #model까지저장하면 tf가 문제가 생김 --> weight만 저장함!\n",
        "# csv logger\n",
        "csv_logger = tf.keras.callbacks.CSVLogger(os.path.join(nsmc_dir, 'stub.csv'))"
      ],
      "execution_count": null,
      "outputs": []
    },
    {
      "cell_type": "code",
      "metadata": {
        "id": "K5mlWw7lZhbi",
        "colab": {
          "base_uri": "https://localhost:8080/"
        },
        "outputId": "8aa2c6db-44fc-4a11-c7af-a3a93bd3bdf3"
      },
      "source": [
        "# 모델 학습\n",
        "history = model.fit(train_inputs,\n",
        "                    train_labels,\n",
        "                    validation_data=(test_inputs, test_labels),\n",
        "                    epochs=100,\n",
        "                    batch_size=256,\n",
        "                    callbacks=[early_stopping, save_weights, csv_logger]) #모델학습하면서 callback저장까지함"
      ],
      "execution_count": null,
      "outputs": [
        {
          "output_type": "stream",
          "text": [
            "Epoch 1/100\n",
            "1/1 [==============================] - 1s 551ms/step - loss: 0.6900 - accuracy: 0.5000 - val_loss: 0.6876 - val_accuracy: 0.6000\n",
            "\n",
            "Epoch 00001: val_accuracy improved from -inf to 0.60000, saving model to /content/drive/MyDrive/Colab Notebooks/2021-HUFS-NLP/data/nsmc/stub.hdf5\n",
            "Epoch 2/100\n",
            "1/1 [==============================] - 0s 108ms/step - loss: 0.6786 - accuracy: 0.6000 - val_loss: 0.6878 - val_accuracy: 0.6000\n",
            "\n",
            "Epoch 00002: val_accuracy did not improve from 0.60000\n",
            "Epoch 3/100\n",
            "1/1 [==============================] - 0s 113ms/step - loss: 0.6676 - accuracy: 0.8000 - val_loss: 0.6879 - val_accuracy: 0.6000\n",
            "\n",
            "Epoch 00003: val_accuracy did not improve from 0.60000\n",
            "Epoch 4/100\n",
            "1/1 [==============================] - 0s 110ms/step - loss: 0.6568 - accuracy: 1.0000 - val_loss: 0.6879 - val_accuracy: 0.6000\n",
            "\n",
            "Epoch 00004: val_accuracy did not improve from 0.60000\n",
            "Epoch 5/100\n",
            "1/1 [==============================] - 0s 102ms/step - loss: 0.6463 - accuracy: 1.0000 - val_loss: 0.6877 - val_accuracy: 0.5000\n",
            "\n",
            "Epoch 00005: val_accuracy did not improve from 0.60000\n",
            "Epoch 6/100\n",
            "1/1 [==============================] - 0s 103ms/step - loss: 0.6360 - accuracy: 1.0000 - val_loss: 0.6874 - val_accuracy: 0.5000\n",
            "\n",
            "Epoch 00006: val_accuracy did not improve from 0.60000\n",
            "Epoch 7/100\n",
            "1/1 [==============================] - 0s 104ms/step - loss: 0.6258 - accuracy: 1.0000 - val_loss: 0.6871 - val_accuracy: 0.6000\n",
            "\n",
            "Epoch 00007: val_accuracy did not improve from 0.60000\n",
            "Epoch 8/100\n",
            "1/1 [==============================] - 0s 111ms/step - loss: 0.6156 - accuracy: 1.0000 - val_loss: 0.6867 - val_accuracy: 0.7000\n",
            "\n",
            "Epoch 00008: val_accuracy improved from 0.60000 to 0.70000, saving model to /content/drive/MyDrive/Colab Notebooks/2021-HUFS-NLP/data/nsmc/stub.hdf5\n",
            "Epoch 9/100\n",
            "1/1 [==============================] - 0s 108ms/step - loss: 0.6055 - accuracy: 1.0000 - val_loss: 0.6862 - val_accuracy: 0.7000\n",
            "\n",
            "Epoch 00009: val_accuracy did not improve from 0.70000\n",
            "Epoch 10/100\n",
            "1/1 [==============================] - 0s 103ms/step - loss: 0.5952 - accuracy: 1.0000 - val_loss: 0.6857 - val_accuracy: 0.7000\n",
            "\n",
            "Epoch 00010: val_accuracy did not improve from 0.70000\n",
            "Epoch 11/100\n",
            "1/1 [==============================] - 0s 114ms/step - loss: 0.5848 - accuracy: 1.0000 - val_loss: 0.6850 - val_accuracy: 0.7000\n",
            "\n",
            "Epoch 00011: val_accuracy did not improve from 0.70000\n",
            "Epoch 12/100\n",
            "1/1 [==============================] - 0s 104ms/step - loss: 0.5744 - accuracy: 1.0000 - val_loss: 0.6843 - val_accuracy: 0.7000\n",
            "\n",
            "Epoch 00012: val_accuracy did not improve from 0.70000\n",
            "Epoch 13/100\n",
            "1/1 [==============================] - 0s 106ms/step - loss: 0.5639 - accuracy: 1.0000 - val_loss: 0.6835 - val_accuracy: 0.7000\n",
            "\n",
            "Epoch 00013: val_accuracy did not improve from 0.70000\n",
            "Epoch 14/100\n",
            "1/1 [==============================] - 0s 108ms/step - loss: 0.5532 - accuracy: 1.0000 - val_loss: 0.6827 - val_accuracy: 0.7000\n",
            "\n",
            "Epoch 00014: val_accuracy did not improve from 0.70000\n",
            "Epoch 15/100\n",
            "1/1 [==============================] - 0s 103ms/step - loss: 0.5425 - accuracy: 1.0000 - val_loss: 0.6818 - val_accuracy: 0.7000\n",
            "\n",
            "Epoch 00015: val_accuracy did not improve from 0.70000\n",
            "Epoch 16/100\n",
            "1/1 [==============================] - 0s 103ms/step - loss: 0.5316 - accuracy: 1.0000 - val_loss: 0.6809 - val_accuracy: 0.7000\n",
            "\n",
            "Epoch 00016: val_accuracy did not improve from 0.70000\n",
            "Epoch 17/100\n",
            "1/1 [==============================] - 0s 103ms/step - loss: 0.5207 - accuracy: 1.0000 - val_loss: 0.6800 - val_accuracy: 0.7000\n",
            "\n",
            "Epoch 00017: val_accuracy did not improve from 0.70000\n",
            "Epoch 18/100\n",
            "1/1 [==============================] - 0s 97ms/step - loss: 0.5097 - accuracy: 1.0000 - val_loss: 0.6790 - val_accuracy: 0.7000\n",
            "\n",
            "Epoch 00018: val_accuracy did not improve from 0.70000\n",
            "Epoch 19/100\n",
            "1/1 [==============================] - 0s 105ms/step - loss: 0.4987 - accuracy: 1.0000 - val_loss: 0.6779 - val_accuracy: 0.7000\n",
            "\n",
            "Epoch 00019: val_accuracy did not improve from 0.70000\n",
            "Epoch 20/100\n",
            "1/1 [==============================] - 0s 106ms/step - loss: 0.4876 - accuracy: 1.0000 - val_loss: 0.6768 - val_accuracy: 0.7000\n",
            "\n",
            "Epoch 00020: val_accuracy did not improve from 0.70000\n",
            "Epoch 21/100\n",
            "1/1 [==============================] - 0s 104ms/step - loss: 0.4763 - accuracy: 1.0000 - val_loss: 0.6756 - val_accuracy: 0.7000\n",
            "\n",
            "Epoch 00021: val_accuracy did not improve from 0.70000\n",
            "Epoch 22/100\n",
            "1/1 [==============================] - 0s 106ms/step - loss: 0.4650 - accuracy: 1.0000 - val_loss: 0.6744 - val_accuracy: 0.7000\n",
            "\n",
            "Epoch 00022: val_accuracy did not improve from 0.70000\n",
            "Epoch 23/100\n",
            "1/1 [==============================] - 0s 106ms/step - loss: 0.4536 - accuracy: 1.0000 - val_loss: 0.6732 - val_accuracy: 0.7000\n",
            "\n",
            "Epoch 00023: val_accuracy did not improve from 0.70000\n",
            "Epoch 24/100\n",
            "1/1 [==============================] - 0s 99ms/step - loss: 0.4421 - accuracy: 1.0000 - val_loss: 0.6719 - val_accuracy: 0.7000\n",
            "\n",
            "Epoch 00024: val_accuracy did not improve from 0.70000\n",
            "Epoch 25/100\n",
            "1/1 [==============================] - 0s 103ms/step - loss: 0.4307 - accuracy: 1.0000 - val_loss: 0.6706 - val_accuracy: 0.7000\n",
            "\n",
            "Epoch 00025: val_accuracy did not improve from 0.70000\n",
            "Epoch 26/100\n",
            "1/1 [==============================] - 0s 102ms/step - loss: 0.4192 - accuracy: 1.0000 - val_loss: 0.6694 - val_accuracy: 0.7000\n",
            "\n",
            "Epoch 00026: val_accuracy did not improve from 0.70000\n",
            "Epoch 27/100\n",
            "1/1 [==============================] - 0s 104ms/step - loss: 0.4077 - accuracy: 1.0000 - val_loss: 0.6681 - val_accuracy: 0.7000\n",
            "\n",
            "Epoch 00027: val_accuracy did not improve from 0.70000\n",
            "Epoch 28/100\n",
            "1/1 [==============================] - 0s 106ms/step - loss: 0.3963 - accuracy: 1.0000 - val_loss: 0.6668 - val_accuracy: 0.7000\n",
            "\n",
            "Epoch 00028: val_accuracy did not improve from 0.70000\n"
          ],
          "name": "stdout"
        }
      ]
    },
    {
      "cell_type": "code",
      "metadata": {
        "id": "Xedcn0HqZhbi",
        "colab": {
          "base_uri": "https://localhost:8080/",
          "height": 280
        },
        "outputId": "e5b11d54-1a9a-4a9a-8d7e-266d88492a58"
      },
      "source": [
        "plt.figure(figsize=(12, 4))\n",
        "\n",
        "plt.subplot(1, 2, 1)\n",
        "plt.plot(history.history['loss'], 'b-', label='loss')\n",
        "plt.plot(history.history['val_loss'], 'r--', label='val_loss')\n",
        "plt.xlabel('Epoch')\n",
        "plt.legend()\n",
        "\n",
        "plt.subplot(1, 2, 2)\n",
        "plt.plot(history.history['accuracy'], 'g-', label='acc')\n",
        "plt.plot(history.history['val_accuracy'], 'k--', label='val_acc')\n",
        "plt.xlabel('Epoch')\n",
        "plt.legend()\n",
        "\n",
        "plt.show()"
      ],
      "execution_count": null,
      "outputs": [
        {
          "output_type": "display_data",
          "data": {
            "image/png": "[encoded data removed]",
            "text/plain": [
              "<Figure size 864x288 with 2 Axes>"
            ]
          },
          "metadata": {
            "tags": [],
            "needs_background": "light"
          }
        }
      ]
    },
    {
      "cell_type": "markdown",
      "metadata": {
        "id": "PQvKAxTbaEpt"
      },
      "source": [
        "## Inference"
      ]
    },
    {
      "cell_type": "code",
      "metadata": {
        "id": "ZuK60XkEOSUS"
      },
      "source": [
        "# 모델 생성\n",
        "model = build_model(n_vocab, d_model, n_seq, n_out)\n",
        "# train weight로 초기화  ->> 학습된모델로 복원이됨\n",
        "model.load_weights(os.path.join(nsmc_dir, 'stub.hdf5'))"
      ],
      "execution_count": null,
      "outputs": []
    },
    {
      "cell_type": "code",
      "metadata": {
        "colab": {
          "base_uri": "https://localhost:8080/"
        },
        "id": "2ZyXlkk4OSUd",
        "outputId": "fee6d210-1195-42f1-b24d-4cae60bc5072"
      },
      "source": [
        "# 예측\r\n",
        "logits = model.predict(test_inputs)\r\n",
        "logits"
      ],
      "execution_count": null,
      "outputs": [
        {
          "output_type": "execute_result",
          "data": {
            "text/plain": [
              "array([[0.5125189 , 0.4874811 ],\n",
              "       [0.5086183 , 0.49138173],\n",
              "       [0.5090931 , 0.49090686],\n",
              "       [0.5046653 , 0.4953347 ],\n",
              "       [0.51001287, 0.48998713],\n",
              "       [0.50788593, 0.49211407],\n",
              "       [0.50917304, 0.49082696],\n",
              "       [0.5094536 , 0.4905464 ],\n",
              "       [0.5118683 , 0.48813173],\n",
              "       [0.508535  , 0.49146494]], dtype=float32)"
            ]
          },
          "metadata": {
            "tags": []
          },
          "execution_count": 111
        }
      ]
    },
    {
      "cell_type": "code",
      "metadata": {
        "colab": {
          "base_uri": "https://localhost:8080/"
        },
        "id": "rMxIk3rdOSUe",
        "outputId": "369d1779-217d-4654-abf7-172a9e4143f6"
      },
      "source": [
        "# 확률 최대 값을 예측으로 사용\r\n",
        "test_preds = np.argmax(logits, axis = -1) #argmax는\r\n",
        "test_preds"
      ],
      "execution_count": null,
      "outputs": [
        {
          "output_type": "execute_result",
          "data": {
            "text/plain": [
              "array([0, 0, 0, 0, 0, 0, 0, 0, 0, 0])"
            ]
          },
          "metadata": {
            "tags": []
          },
          "execution_count": 113
        }
      ]
    },
    {
      "cell_type": "code",
      "metadata": {
        "colab": {
          "base_uri": "https://localhost:8080/"
        },
        "id": "pwQhmGPcOSUe",
        "outputId": "7541af38-2372-43d4-a428-4cfaae9b94ce"
      },
      "source": [
        "# confusion matrix\n",
        "confusion_matrix = np.zeros((n_out, n_out)).astype(np.int)\n",
        "for y_true, y_pred in zip(test_labels, test_preds):\n",
        "    confusion_matrix[int(y_true), int(y_pred)] += 1\n",
        "confusion_matrix\n"
      ],
      "execution_count": null,
      "outputs": [
        {
          "output_type": "execute_result",
          "data": {
            "text/plain": [
              "array([[6, 0],\n",
              "       [4, 0]])"
            ]
          },
          "metadata": {
            "tags": []
          },
          "execution_count": 114
        }
      ]
    },
    {
      "cell_type": "code",
      "metadata": {
        "id": "_pjiEotjOSUe",
        "colab": {
          "base_uri": "https://localhost:8080/"
        },
        "outputId": "0b83888a-9d53-4731-8299-cf7856845696"
      },
      "source": [
        "# accuracy, precision, recall, f1\n",
        "tp = confusion_matrix[1, 1]\n",
        "tn = confusion_matrix[0, 0]\n",
        "fp = confusion_matrix[0, 1]\n",
        "fn = confusion_matrix[1, 0]\n",
        "\n",
        "accuracy = (tp + tn) / max((tp + tn + fp + fn), 1)\n",
        "print(f'accuracy: {accuracy}')\n",
        "precision = (tp) / max((tp + fp), 1)\n",
        "print(f'precision: {precision}')\n",
        "recall = (tp) / max((tp + fn), 1)\n",
        "print(f'recall: {recall}')\n",
        "f1 = 2 * (precision * recall) / max((precision + recall), 1)\n",
        "print(f'f1: {f1}')"
      ],
      "execution_count": null,
      "outputs": [
        {
          "output_type": "stream",
          "text": [
            "accuracy: 0.6\n",
            "precision: 0.0\n",
            "recall: 0.0\n",
            "f1: 0.0\n"
          ],
          "name": "stdout"
        }
      ]
    },
    {
      "cell_type": "code",
      "metadata": {
        "id": "KzaDEUSbaeu4"
      },
      "source": [
        "def do_predict(model, n_seq, string):\n",
        "    \"\"\"\n",
        "    입력에 대한 답변 생성하는 함수\n",
        "    :param model: model\n",
        "    :param n_seq: 입력 개수\n",
        "    :param string: 입력 문자열\n",
        "    \"\"\"\n",
        "     # token 생성: <string tokens>, [PAD] tokens\n",
        "    token = vocab.encode_as_ids(string)[:n_seq]\n",
        "    token += [0] * (n_seq - len(token))\n",
        "    token = token[:n_seq]\n",
        "\n",
        "    y_pred = model.predict(np.array([token]))\n",
        "    y_pred_class = K.argmax(y_pred, axis=-1)\n",
        "\n",
        "    return \"긍정\" if y_pred_class[0] == 1 else \"부정\""
      ],
      "execution_count": null,
      "outputs": []
    },
    {
      "cell_type": "code",
      "metadata": {
        "id": "PCnSfxVgfzFL",
        "colab": {
          "base_uri": "https://localhost:8080/",
          "height": 35
        },
        "outputId": "794f6dec-b828-427f-8b76-8f2b7efd40ce"
      },
      "source": [
        "string = '영화 너무 심심해'\n",
        "do_predict(model, n_seq, string)"
      ],
      "execution_count": null,
      "outputs": [
        {
          "output_type": "execute_result",
          "data": {
            "application/vnd.google.colaboratory.intrinsic+json": {
              "type": "string"
            },
            "text/plain": [
              "'부정'"
            ]
          },
          "metadata": {
            "tags": []
          },
          "execution_count": 117
        }
      ]
    },
    {
      "cell_type": "code",
      "metadata": {
        "id": "mQVkuBylavCr",
        "colab": {
          "base_uri": "https://localhost:8080/"
        },
        "outputId": "9005ab14-5d44-4fff-d2ad-b175cb6d1ed6"
      },
      "source": [
        "while True:\n",
        "    print(\"input > \", end=\"\")\n",
        "    string = str(input())\n",
        "    if len(string) == 0:\n",
        "        break\n",
        "    print(f\"output > {do_predict(model, n_seq, string)}\")"
      ],
      "execution_count": null,
      "outputs": [
        {
          "output_type": "stream",
          "text": [
            "input > 나는 이영화가 좋다\n",
            "output > 부정\n",
            "input > 영화가좋아\n",
            "output > 긍정\n",
            "input > \n"
          ],
          "name": "stdout"
        }
      ]
    },
    {
      "cell_type": "markdown",
      "metadata": {
        "id": "yOqjtjEtgG_i"
      },
      "source": [
        "# All Data Project"
      ]
    },
    {
      "cell_type": "markdown",
      "metadata": {
        "id": "RZq-UvbOgG_j"
      },
      "source": [
        "## Data\n"
      ]
    },
    {
      "cell_type": "code",
      "metadata": {
        "id": "62llcRx9gG_j"
      },
      "source": [
        "# train data load\n",
        "df_train = pd.read_csv(os.path.join(nsmc_dir, 'ratings_train.txt'), delimiter='\\t')\n",
        "df_train"
      ],
      "execution_count": null,
      "outputs": []
    },
    {
      "cell_type": "code",
      "metadata": {
        "id": "UnjJp4r4gG_k"
      },
      "source": [
        "# train null 데이터 제거\n",
        "df_train = df_train.dropna()\n",
        "df_train"
      ],
      "execution_count": null,
      "outputs": []
    },
    {
      "cell_type": "code",
      "metadata": {
        "id": "9Xq3hIWugG_k"
      },
      "source": [
        "# train data load\n",
        "df_test = pd.read_csv(os.path.join(nsmc_dir, 'ratings_test.txt'), delimiter='\\t')\n",
        "df_test"
      ],
      "execution_count": null,
      "outputs": []
    },
    {
      "cell_type": "code",
      "metadata": {
        "id": "nzPZVnEBgG_k"
      },
      "source": [
        "# train null 데이터 제거\n",
        "df_test = df_test.dropna()\n",
        "df_test"
      ],
      "execution_count": null,
      "outputs": []
    },
    {
      "cell_type": "code",
      "metadata": {
        "id": "np9hbxHIgG_l"
      },
      "source": [
        "def load_data(df, n_seq):\n",
        "    \"\"\"\n",
        "    NSMC 학습 데이터 생성\n",
        "    :param df: data frame\n",
        "    :param n_seq: number of sequence\n",
        "    :return inputs: input data\n",
        "    :return labels: label data\n",
        "    \"\"\"\n",
        "    inputs = np.zeros((len(df), n_seq)).astype(np.int32)\n",
        "    labels = np.zeros((len(df),))\n",
        "    index = 0\n",
        "    for i, row in tqdm(df.iterrows(), total=len(df)):\n",
        "        # tokens 저장\n",
        "        # print()\n",
        "        label = row['label']\n",
        "        document = row['document']\n",
        "        # print(label, document)\n",
        "        tokens = vocab.encode_as_pieces(document)\n",
        "        # print(len(tokens), ':', tokens)\n",
        "        token_ids = vocab.encode_as_ids(document)\n",
        "        # print(len(token_ids), ':', token_ids)\n",
        "        token_ids = token_ids[:n_seq]\n",
        "        # print(len(token_ids), ':', token_ids)\n",
        "        token_ids += [0] * (n_seq - len(token_ids))\n",
        "        # print(len(token_ids), ':', token_ids)\n",
        "\n",
        "        labels[index] = label\n",
        "        inputs[index] = token_ids\n",
        "        index += 1\n",
        "    return inputs, labels"
      ],
      "execution_count": null,
      "outputs": []
    },
    {
      "cell_type": "code",
      "metadata": {
        "id": "RR4l0G_OgG_l"
      },
      "source": [
        "# train data 생성\n",
        "train_inputs, train_labels = load_data(df_train, n_seq)\n",
        "train_inputs, train_labels"
      ],
      "execution_count": null,
      "outputs": []
    },
    {
      "cell_type": "code",
      "metadata": {
        "id": "5EI5jjPYgG_m"
      },
      "source": [
        "# test data 생성\n",
        "test_inputs, test_labels = load_data(df_test, n_seq)\n",
        "test_inputs, test_labels"
      ],
      "execution_count": null,
      "outputs": []
    },
    {
      "cell_type": "markdown",
      "metadata": {
        "id": "QbzBPXwqgG_n"
      },
      "source": [
        "## 학습"
      ]
    },
    {
      "cell_type": "code",
      "metadata": {
        "id": "xtECC96EgG_n"
      },
      "source": [
        "# 모델 생성\n",
        "model = build_model(len(vocab), d_model, n_seq, n_out)\n",
        "# 모델 내용 그래프 출력\n",
        "tf.keras.utils.plot_model(model, 'model.png', show_shapes=True)"
      ],
      "execution_count": null,
      "outputs": []
    },
    {
      "cell_type": "code",
      "metadata": {
        "id": "IsiZts95gG_n"
      },
      "source": [
        "# 모델 loss, optimizer, metric 정의\n",
        "model.compile(loss='sparse_categorical_crossentropy', optimizer='adam', metrics=['accuracy'])"
      ],
      "execution_count": null,
      "outputs": []
    },
    {
      "cell_type": "code",
      "metadata": {
        "id": "0iFOHw2agG_n"
      },
      "source": [
        "# early stopping\n",
        "early_stopping = tf.keras.callbacks.EarlyStopping(monitor='val_accuracy', patience=5)\n",
        "# save weights callback\n",
        "save_weights = tf.keras.callbacks.ModelCheckpoint(os.path.join(nsmc_dir, 'stub.hdf5'),\n",
        "                                                  monitor='val_accuracy',\n",
        "                                                  verbose=1,\n",
        "                                                  save_best_only=True,\n",
        "                                                  mode=\"max\",\n",
        "                                                  save_freq=\"epoch\",\n",
        "                                                  save_weights_only=True)\n",
        "# csv logger\n",
        "csv_logger = tf.keras.callbacks.CSVLogger(os.path.join(nsmc_dir, 'stub.csv'))"
      ],
      "execution_count": null,
      "outputs": []
    },
    {
      "cell_type": "code",
      "metadata": {
        "id": "9-ONLlbbgG_o"
      },
      "source": [
        "# 모델 학습\n",
        "history = model.fit(train_inputs,\n",
        "                    train_labels,\n",
        "                    validation_data=(test_inputs, test_labels),\n",
        "                    epochs=100,\n",
        "                    batch_size=256,\n",
        "                    callbacks=[early_stopping, save_weights, csv_logger])"
      ],
      "execution_count": null,
      "outputs": []
    },
    {
      "cell_type": "code",
      "metadata": {
        "id": "GOHTftS4gG_o"
      },
      "source": [
        "plt.figure(figsize=(12, 4))\n",
        "\n",
        "plt.subplot(1, 2, 1)\n",
        "plt.plot(history.history['loss'], 'b-', label='loss')\n",
        "plt.plot(history.history['val_loss'], 'r--', label='val_loss')\n",
        "plt.xlabel('Epoch')\n",
        "plt.legend()\n",
        "\n",
        "plt.subplot(1, 2, 2)\n",
        "plt.plot(history.history['accuracy'], 'g-', label='acc')\n",
        "plt.plot(history.history['val_accuracy'], 'k--', label='val_acc')\n",
        "plt.xlabel('Epoch')\n",
        "plt.legend()\n",
        "\n",
        "plt.show()"
      ],
      "execution_count": null,
      "outputs": []
    },
    {
      "cell_type": "markdown",
      "metadata": {
        "id": "fFOkITDzgG_o"
      },
      "source": [
        "## Inference"
      ]
    },
    {
      "cell_type": "code",
      "metadata": {
        "id": "ghiWYAgUgG_o"
      },
      "source": [
        "# 모델 생성\n",
        "model = build_model(n_vocab, d_model, n_seq, n_out)\n",
        "# train weight로 초기화\n",
        "model.load_weights(os.path.join(nsmc_dir, 'stub.hdf5'))"
      ],
      "execution_count": null,
      "outputs": []
    },
    {
      "cell_type": "code",
      "metadata": {
        "id": "kbEKHHgvrNHF"
      },
      "source": [
        "# 예측\n",
        "logits = model.predict(test_inputs)\n",
        "logits"
      ],
      "execution_count": null,
      "outputs": []
    },
    {
      "cell_type": "code",
      "metadata": {
        "id": "dvrQ6IeLrNpN"
      },
      "source": [
        "# 확률 최대 값을 예측으로 사용\n",
        "test_preds = np.argmax(logits, axis=-1)\n",
        "test_preds"
      ],
      "execution_count": null,
      "outputs": []
    },
    {
      "cell_type": "code",
      "metadata": {
        "id": "9D8P5_7mgG_o"
      },
      "source": [
        "confusion_matrix = np.zeros((n_out, n_out)).astype(np.int)\n",
        "for y_true, y_pred in zip(test_labels, test_preds):\n",
        "    confusion_matrix[int(y_true), int(y_pred)] += 1\n",
        "confusion_matrix"
      ],
      "execution_count": null,
      "outputs": []
    },
    {
      "cell_type": "code",
      "metadata": {
        "id": "zTHIKSwMgG_p"
      },
      "source": [
        "tp = confusion_matrix[1, 1]\n",
        "tn = confusion_matrix[0, 0]\n",
        "fp = confusion_matrix[0, 1]\n",
        "fn = confusion_matrix[1, 0]\n",
        "\n",
        "accuracy = (tp + tn) / max((tp + tn + fp + fn), 1)\n",
        "print(f'accuracy: {accuracy}')\n",
        "precision = (tp) / max((tp + fp), 1)\n",
        "print(f'precision: {precision}')\n",
        "recall = (tp) / max((tp + fn), 1)\n",
        "print(f'recall: {recall}')\n",
        "f1 = 2 * (precision * recall) / max((precision + recall), 1)\n",
        "print(f'f1: {f1}')"
      ],
      "execution_count": null,
      "outputs": []
    },
    {
      "cell_type": "code",
      "metadata": {
        "id": "EEyJ7P4FgG_p"
      },
      "source": [
        "def do_predict(model, n_seq, string):\n",
        "    \"\"\"\n",
        "    입력에 대한 답변 생성하는 함수\n",
        "    :param model: model\n",
        "    :param n_seq: 입력 개수\n",
        "    :param string: 입력 문자열\n",
        "    \"\"\"\n",
        "    # token 생성: <string tokens>, [PAD] tokens\n",
        "    token = vocab.encode_as_ids(string)[:n_seq]\n",
        "    token += [0] * (n_seq - len(token))\n",
        "    token = token[:n_seq]\n",
        "\n",
        "    y_pred = model.predict(np.array([token]))\n",
        "    y_pred_class = K.argmax(y_pred, axis=-1)\n",
        "\n",
        "    return \"긍정\" if y_pred_class[0] == 1 else \"부정\""
      ],
      "execution_count": null,
      "outputs": []
    },
    {
      "cell_type": "code",
      "metadata": {
        "id": "6AEE86LCgG_p"
      },
      "source": [
        "while True:\n",
        "    print(\"input > \", end=\"\")\n",
        "    string = str(input())\n",
        "    if len(string) == 0:\n",
        "        break\n",
        "    print(f\"output > {do_predict(model, n_seq, string)}\")"
      ],
      "execution_count": null,
      "outputs": []
    }
  ]
}